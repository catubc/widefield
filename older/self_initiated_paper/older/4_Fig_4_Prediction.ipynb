{
 "cells": [
  {
   "cell_type": "code",
   "execution_count": 2,
   "metadata": {},
   "outputs": [
    {
     "data": {
      "application/javascript": [
       "IPython.notebook.set_autosave_interval(180000)"
      ]
     },
     "metadata": {},
     "output_type": "display_data"
    },
    {
     "name": "stdout",
     "output_type": "stream",
     "text": [
      "Autosaving every 180 seconds\n"
     ]
    },
    {
     "data": {
      "text/html": [
       "<style>.container { width:100% !important; }</style>"
      ],
      "text/plain": [
       "<IPython.core.display.HTML object>"
      ]
     },
     "metadata": {},
     "output_type": "display_data"
    }
   ],
   "source": [
    "import matplotlib\n",
    "#matplotlib.use('Agg')\n",
    "%matplotlib tk\n",
    "%autosave 180\n",
    "import matplotlib.pyplot as plt\n",
    "from IPython.core.display import display, HTML\n",
    "display(HTML(\"<style>.container { width:100% !important; }</style>\"))\n",
    "\n",
    "import matplotlib.cm as cm\n",
    "from matplotlib import gridspec\n",
    "import parmap\n",
    "import numpy as np\n",
    "import pandas as pd\n",
    "import os\n",
    "import shutil\n",
    "import cv2\n",
    "import scipy.io as sio\n",
    "import importlib\n",
    "\n",
    "import glob2\n",
    "\n",
    "from numba import jit\n",
    "from sklearn.svm import SVC # \"Support vector classifier\"\n",
    "import matplotlib.patches as mpatches\n",
    "\n",
    "\n",
    "from utility_classification import (plot_median_sem_over_single_trials,\n",
    "                    sum_pixels_in_registered_mask,\n",
    "                    make_movie,\n",
    "                    make_training_sets_multiple_tests_window,\n",
    "                    make_training_sets_multiple_tests,\n",
    "                    make_training_sets,\n",
    "                    make_training_sets_multi_times,\n",
    "                    make_training_sets_multi_times_multi_areas,\n",
    "                    parallel_svm_multiple_tests,\n",
    "                    parallel_svm_multi_time,\n",
    "                    parallel_svm_multi_time_multi_area,\n",
    "                    plot_true_vs_random,\n",
    "                    fix_trials,\n",
    "                                    plot_accuracy\n",
    "                     )\n",
    "\n",
    "colors = [\n",
    "'blue','red','green','cyan',    \n",
    "'orange','firebrick','lawngreen','dodgerblue','crimson','orchid','slateblue',\n",
    "'black','grey','brown','slategrey','darkviolet','darkmagenta',\n",
    "'darkgreen','darkorange','indianred','darkviolet','deepskyblue','greenyellow',\n",
    "'peru','cadetblue','forestgreen','slategrey','lightsteelblue','rebeccapurple',\n",
    "'darkmagenta','yellow','hotpink']\n",
    "\n"
   ]
  },
  {
   "cell_type": "code",
   "execution_count": 3,
   "metadata": {},
   "outputs": [
    {
     "name": "stdout",
     "output_type": "stream",
     "text": [
      "loaded data for single trials:  (62, 601, 128, 128)\n"
     ]
    }
   ],
   "source": [
    "###############################################################\n",
    "################ LOAD SINGLE TRIAL DATA #######################\n",
    "###############################################################\n",
    "\n",
    "#fname = '/media/cat/4TBSSD/data/yuki/iA2/tif_files/IA2pm_Apr22_Week2_30Hz/IA2pm_Apr22_Week2_30Hz_10.0sec_butterworth_globalAverage_0.1hz_6.0hz_04code_singletrials.npy'\n",
    "fname = '/media/cat/4TBSSD/yuki/IA1/tif_files/IA1pm_Feb3_30Hz/data_04_code_62trials_.npy'\n",
    "#fname = '/media/cat/4TBSSD/yuki/IA1/tif_files/IA1pm_Feb3_30Hz/IA1pm_Feb3_30Hz_10.0sec_butterworth_globalAverage_0.1hz_6.0hz_04code_singletrials.npy'\n",
    "#fname = '/media/cat/4TBSSD/data/yuki/iA2/tif_files/IA2pm_Apr22_Week2_30Hz/IA2pm_Apr22_Week2_30Hz_3.0sec_butterworth_globalAverage_0.1hz_6.0hz_04code_singletrials.npy'\n",
    "#data_singles = np.load('/media/cat/1TB/data/yuki/iA2/tif_files/IA2pm_Apr22_Week2_30Hz/IA2pm_Apr22_Week2_30Hz_10.0sec_butterworth_globalAverage_0.1hz_6.0hz_04code_singletrials.npy')\n",
    "data_singles = np.load(fname)\n",
    "print (\"loaded data for single trials: \", data_singles.shape)\n",
    "\n",
    "root_dir = os.path.split(fname)[0]+'/'\n",
    "try:\n",
    "    os.mkdir(root_dir+'/analysis/')\n",
    "except:\n",
    "    pass\n"
   ]
  },
  {
   "cell_type": "code",
   "execution_count": 4,
   "metadata": {
    "scrolled": true
   },
   "outputs": [
    {
     "name": "stdout",
     "output_type": "stream",
     "text": [
      "Random data loaded:  (62, 601, 128, 128)\n"
     ]
    }
   ],
   "source": [
    "###############################################################\n",
    "################ LOAD RANDOM TRIAL DATA #######################\n",
    "###############################################################\n",
    "#data_random = np.load('/media/cat/1TB/data/yuki/iA2/tif_files/IA2pm_Apr22_Week2_30Hz/IA2pm_Apr22_Week2_30Hz_10.0sec_butterworth_globalAverage_0.1hz_6.0hz_randomcode_singletrials.npy')\n",
    "data_random = np.load(fname.replace('04','random'))\n",
    "\n",
    "print (\"Random data loaded: \", data_random.shape)\n"
   ]
  },
  {
   "cell_type": "code",
   "execution_count": 6,
   "metadata": {},
   "outputs": [
    {
     "name": "stdout",
     "output_type": "stream",
     "text": [
      "(128, 128)\n"
     ]
    }
   ],
   "source": [
    "\n",
    "\n",
    "\n",
    "# load the atlas labels\n",
    "#allen_ids = np.load('/home/cat/id.npy')\n",
    "#allen_abbreviations = np.loadtxt('/home/cat/abbreviations.txt', dtype='str')\n",
    "\n",
    "# load Allen Institute afine transformation to scale data\n",
    "maskwarp= np.load('/media/cat/4TBSSD/yuki/IA2/tif_files/IA2pm_Apr22_Week2_30Hz/IA2pm_Apr22_Week2_30Hz_aligned_maskwarp.npy')\n",
    "print (maskwarp.shape)\n"
   ]
  },
  {
   "cell_type": "markdown",
   "metadata": {},
   "source": [
    "### SINGLE AREA ANALYSES"
   ]
  },
  {
   "cell_type": "code",
   "execution_count": 7,
   "metadata": {},
   "outputs": [
    {
     "name": "stdout",
     "output_type": "stream",
     "text": [
      "# of areas saved:  (10, 128, 128)\n",
      "all areas:  [list(['\"Primary', 'motor', 'area,', 'Layer', '2/3\"'])\n",
      " list(['\"Secondary', 'motor', 'area,', 'layer', '2/3\"'])\n",
      " list(['\"Primary', 'somatosensory', 'area,', 'lower', 'limb,', 'layer', '2/3\"'])\n",
      " list(['\"Primary', 'somatosensory', 'area,', 'upper', 'limb,', 'layer', '2/3\"'])\n",
      " list(['\"Primary', 'visual', 'area,', 'layer', '2/3\"'])\n",
      " list(['\"Retrosplenial', 'area,', 'lateral', 'agranular', 'part,', 'layer', '2/3\"'])\n",
      " list(['\"Retrosplenial', 'area,', 'dorsal', 'part,', 'layer', '2/3\"'])\n",
      " list(['\"Retrosplenial', 'area,', 'ventral', 'part,', 'layer', '2/3\"'])\n",
      " list(['\"Anterior', 'area,', 'layer', '2/3\"'])\n",
      " list(['\"Rostrolateral', 'area,', 'layer', '2/3\"'])]\n",
      "(62, 601, 128, 128)\n",
      "area selected:  [list(['\"Secondary', 'motor', 'area,', 'layer', '2/3\"'])]\n",
      "all_core_\n"
     ]
    }
   ],
   "source": [
    "###############################################################\n",
    "################ MASK DATA TO A SINGLE AREA ###################\n",
    "###############################################################\n",
    "area_masks = np.load('/home/cat/areas.npy',allow_pickle=True)\n",
    "print (\"# of areas saved: \", area_masks.shape)\n",
    "#print (\" areas 0: \", area_masks[0])\n",
    "#names = [['\"Primary', 'motor', 'area,', 'Layer', '2/3\"'], ['\"Secondary', 'motor', 'area,', 'layer', '2/3\"'], ['\"Retrosplenial', 'area,', 'lateral', 'agranular', 'part,', 'layer', '2/3\"'], ['\"Retrosplenial', 'area,', 'dorsal', 'part,', 'layer', '2/3\"'], ['\"Retrosplenial', 'area,', 'ventral', 'part,', 'layer', '2/3\"']]\n",
    "#[['\"Primary', 'motor', 'area,', 'Layer', '2/3\"'], ['\"Secondary', 'motor', 'area,', 'layer', '2/3\"'], ['\"Retrosplenial', 'area,', 'dorsal', 'part,', 'layer', '2/3\"'], ['\"Retrosplenial', 'area,', 'ventral', 'part,', 'layer', '2/3\"']]\n",
    "names = np.load('/home/cat/area_names.npy',allow_pickle=True)\n",
    "print (\"all areas: \", names)\n",
    "print (data_singles.shape)\n",
    "\n",
    "selected_area = [1]\n",
    "print (\"area selected: \", names[selected_area])\n",
    "\n",
    "prefix = ''\n",
    "try:\n",
    "    for k in range(len(names[selected_area])):\n",
    "        #print (names[selected_area][k].replace('\"',''))\n",
    "        prefix=prefix+\"_\"+names[selected_area][k].replace('\"','')\n",
    "    prefix = (prefix[1:]).replace(\",\",\"\").replace('\"',\"\").replace(\"/\",\"\")+\"_\"\n",
    "except:\n",
    "    prefix = 'all_core_'\n",
    "print (prefix)"
   ]
  },
  {
   "cell_type": "code",
   "execution_count": 10,
   "metadata": {
    "scrolled": true
   },
   "outputs": [
    {
     "name": "stdout",
     "output_type": "stream",
     "text": [
      "area mask selected:  [[[nan nan nan ... nan nan nan]\n",
      "  [nan nan nan ... nan nan nan]\n",
      "  [nan nan nan ... nan nan nan]\n",
      "  ...\n",
      "  [nan nan nan ... nan nan nan]\n",
      "  [nan nan nan ... nan nan nan]\n",
      "  [nan nan nan ... nan nan nan]]]\n",
      "area mask selected:  (1, 128, 128)\n"
     ]
    },
    {
     "ename": "TypeError",
     "evalue": "Invalid shape (1, 128, 128) for image data",
     "output_type": "error",
     "traceback": [
      "\u001b[0;31m---------------------------------------------------------------------------\u001b[0m",
      "\u001b[0;31mTypeError\u001b[0m                                 Traceback (most recent call last)",
      "\u001b[0;32m<ipython-input-10-521d22b41f89>\u001b[0m in \u001b[0;36m<module>\u001b[0;34m\u001b[0m\n\u001b[1;32m     25\u001b[0m     \u001b[0mprint\u001b[0m \u001b[0;34m(\u001b[0m\u001b[0marea_mask_selected\u001b[0m\u001b[0;34m.\u001b[0m\u001b[0mshape\u001b[0m\u001b[0;34m)\u001b[0m\u001b[0;34m\u001b[0m\u001b[0;34m\u001b[0m\u001b[0m\n\u001b[1;32m     26\u001b[0m \u001b[0;34m\u001b[0m\u001b[0m\n\u001b[0;32m---> 27\u001b[0;31m \u001b[0mplt\u001b[0m\u001b[0;34m.\u001b[0m\u001b[0mimshow\u001b[0m\u001b[0;34m(\u001b[0m\u001b[0marea_mask_selected\u001b[0m\u001b[0;34m)\u001b[0m\u001b[0;34m\u001b[0m\u001b[0;34m\u001b[0m\u001b[0m\n\u001b[0m\u001b[1;32m     28\u001b[0m \u001b[0;34m\u001b[0m\u001b[0m\n\u001b[1;32m     29\u001b[0m \u001b[0;34m\u001b[0m\u001b[0m\n",
      "\u001b[0;32m~/anaconda3/lib/python3.8/site-packages/matplotlib/pyplot.py\u001b[0m in \u001b[0;36mimshow\u001b[0;34m(X, cmap, norm, aspect, interpolation, alpha, vmin, vmax, origin, extent, shape, filternorm, filterrad, imlim, resample, url, data, **kwargs)\u001b[0m\n\u001b[1;32m   2643\u001b[0m         \u001b[0mfilterrad\u001b[0m\u001b[0;34m=\u001b[0m\u001b[0;36m4.0\u001b[0m\u001b[0;34m,\u001b[0m \u001b[0mimlim\u001b[0m\u001b[0;34m=\u001b[0m\u001b[0mcbook\u001b[0m\u001b[0;34m.\u001b[0m\u001b[0mdeprecation\u001b[0m\u001b[0;34m.\u001b[0m\u001b[0m_deprecated_parameter\u001b[0m\u001b[0;34m,\u001b[0m\u001b[0;34m\u001b[0m\u001b[0;34m\u001b[0m\u001b[0m\n\u001b[1;32m   2644\u001b[0m         resample=None, url=None, *, data=None, **kwargs):\n\u001b[0;32m-> 2645\u001b[0;31m     __ret = gca().imshow(\n\u001b[0m\u001b[1;32m   2646\u001b[0m         \u001b[0mX\u001b[0m\u001b[0;34m,\u001b[0m \u001b[0mcmap\u001b[0m\u001b[0;34m=\u001b[0m\u001b[0mcmap\u001b[0m\u001b[0;34m,\u001b[0m \u001b[0mnorm\u001b[0m\u001b[0;34m=\u001b[0m\u001b[0mnorm\u001b[0m\u001b[0;34m,\u001b[0m \u001b[0maspect\u001b[0m\u001b[0;34m=\u001b[0m\u001b[0maspect\u001b[0m\u001b[0;34m,\u001b[0m\u001b[0;34m\u001b[0m\u001b[0;34m\u001b[0m\u001b[0m\n\u001b[1;32m   2647\u001b[0m         \u001b[0minterpolation\u001b[0m\u001b[0;34m=\u001b[0m\u001b[0minterpolation\u001b[0m\u001b[0;34m,\u001b[0m \u001b[0malpha\u001b[0m\u001b[0;34m=\u001b[0m\u001b[0malpha\u001b[0m\u001b[0;34m,\u001b[0m \u001b[0mvmin\u001b[0m\u001b[0;34m=\u001b[0m\u001b[0mvmin\u001b[0m\u001b[0;34m,\u001b[0m\u001b[0;34m\u001b[0m\u001b[0;34m\u001b[0m\u001b[0m\n",
      "\u001b[0;32m~/anaconda3/lib/python3.8/site-packages/matplotlib/__init__.py\u001b[0m in \u001b[0;36minner\u001b[0;34m(ax, data, *args, **kwargs)\u001b[0m\n\u001b[1;32m   1563\u001b[0m     \u001b[0;32mdef\u001b[0m \u001b[0minner\u001b[0m\u001b[0;34m(\u001b[0m\u001b[0max\u001b[0m\u001b[0;34m,\u001b[0m \u001b[0;34m*\u001b[0m\u001b[0margs\u001b[0m\u001b[0;34m,\u001b[0m \u001b[0mdata\u001b[0m\u001b[0;34m=\u001b[0m\u001b[0;32mNone\u001b[0m\u001b[0;34m,\u001b[0m \u001b[0;34m**\u001b[0m\u001b[0mkwargs\u001b[0m\u001b[0;34m)\u001b[0m\u001b[0;34m:\u001b[0m\u001b[0;34m\u001b[0m\u001b[0;34m\u001b[0m\u001b[0m\n\u001b[1;32m   1564\u001b[0m         \u001b[0;32mif\u001b[0m \u001b[0mdata\u001b[0m \u001b[0;32mis\u001b[0m \u001b[0;32mNone\u001b[0m\u001b[0;34m:\u001b[0m\u001b[0;34m\u001b[0m\u001b[0;34m\u001b[0m\u001b[0m\n\u001b[0;32m-> 1565\u001b[0;31m             \u001b[0;32mreturn\u001b[0m \u001b[0mfunc\u001b[0m\u001b[0;34m(\u001b[0m\u001b[0max\u001b[0m\u001b[0;34m,\u001b[0m \u001b[0;34m*\u001b[0m\u001b[0mmap\u001b[0m\u001b[0;34m(\u001b[0m\u001b[0msanitize_sequence\u001b[0m\u001b[0;34m,\u001b[0m \u001b[0margs\u001b[0m\u001b[0;34m)\u001b[0m\u001b[0;34m,\u001b[0m \u001b[0;34m**\u001b[0m\u001b[0mkwargs\u001b[0m\u001b[0;34m)\u001b[0m\u001b[0;34m\u001b[0m\u001b[0;34m\u001b[0m\u001b[0m\n\u001b[0m\u001b[1;32m   1566\u001b[0m \u001b[0;34m\u001b[0m\u001b[0m\n\u001b[1;32m   1567\u001b[0m         \u001b[0mbound\u001b[0m \u001b[0;34m=\u001b[0m \u001b[0mnew_sig\u001b[0m\u001b[0;34m.\u001b[0m\u001b[0mbind\u001b[0m\u001b[0;34m(\u001b[0m\u001b[0max\u001b[0m\u001b[0;34m,\u001b[0m \u001b[0;34m*\u001b[0m\u001b[0margs\u001b[0m\u001b[0;34m,\u001b[0m \u001b[0;34m**\u001b[0m\u001b[0mkwargs\u001b[0m\u001b[0;34m)\u001b[0m\u001b[0;34m\u001b[0m\u001b[0;34m\u001b[0m\u001b[0m\n",
      "\u001b[0;32m~/anaconda3/lib/python3.8/site-packages/matplotlib/cbook/deprecation.py\u001b[0m in \u001b[0;36mwrapper\u001b[0;34m(*args, **kwargs)\u001b[0m\n\u001b[1;32m    356\u001b[0m                 \u001b[0;34mf\"%(removal)s.  If any parameter follows {name!r}, they \"\u001b[0m\u001b[0;34m\u001b[0m\u001b[0;34m\u001b[0m\u001b[0m\n\u001b[1;32m    357\u001b[0m                 f\"should be pass as keyword, not positionally.\")\n\u001b[0;32m--> 358\u001b[0;31m         \u001b[0;32mreturn\u001b[0m \u001b[0mfunc\u001b[0m\u001b[0;34m(\u001b[0m\u001b[0;34m*\u001b[0m\u001b[0margs\u001b[0m\u001b[0;34m,\u001b[0m \u001b[0;34m**\u001b[0m\u001b[0mkwargs\u001b[0m\u001b[0;34m)\u001b[0m\u001b[0;34m\u001b[0m\u001b[0;34m\u001b[0m\u001b[0m\n\u001b[0m\u001b[1;32m    359\u001b[0m \u001b[0;34m\u001b[0m\u001b[0m\n\u001b[1;32m    360\u001b[0m     \u001b[0;32mreturn\u001b[0m \u001b[0mwrapper\u001b[0m\u001b[0;34m\u001b[0m\u001b[0;34m\u001b[0m\u001b[0m\n",
      "\u001b[0;32m~/anaconda3/lib/python3.8/site-packages/matplotlib/cbook/deprecation.py\u001b[0m in \u001b[0;36mwrapper\u001b[0;34m(*args, **kwargs)\u001b[0m\n\u001b[1;32m    356\u001b[0m                 \u001b[0;34mf\"%(removal)s.  If any parameter follows {name!r}, they \"\u001b[0m\u001b[0;34m\u001b[0m\u001b[0;34m\u001b[0m\u001b[0m\n\u001b[1;32m    357\u001b[0m                 f\"should be pass as keyword, not positionally.\")\n\u001b[0;32m--> 358\u001b[0;31m         \u001b[0;32mreturn\u001b[0m \u001b[0mfunc\u001b[0m\u001b[0;34m(\u001b[0m\u001b[0;34m*\u001b[0m\u001b[0margs\u001b[0m\u001b[0;34m,\u001b[0m \u001b[0;34m**\u001b[0m\u001b[0mkwargs\u001b[0m\u001b[0;34m)\u001b[0m\u001b[0;34m\u001b[0m\u001b[0;34m\u001b[0m\u001b[0m\n\u001b[0m\u001b[1;32m    359\u001b[0m \u001b[0;34m\u001b[0m\u001b[0m\n\u001b[1;32m    360\u001b[0m     \u001b[0;32mreturn\u001b[0m \u001b[0mwrapper\u001b[0m\u001b[0;34m\u001b[0m\u001b[0;34m\u001b[0m\u001b[0m\n",
      "\u001b[0;32m~/anaconda3/lib/python3.8/site-packages/matplotlib/axes/_axes.py\u001b[0m in \u001b[0;36mimshow\u001b[0;34m(self, X, cmap, norm, aspect, interpolation, alpha, vmin, vmax, origin, extent, shape, filternorm, filterrad, imlim, resample, url, **kwargs)\u001b[0m\n\u001b[1;32m   5624\u001b[0m                               resample=resample, **kwargs)\n\u001b[1;32m   5625\u001b[0m \u001b[0;34m\u001b[0m\u001b[0m\n\u001b[0;32m-> 5626\u001b[0;31m         \u001b[0mim\u001b[0m\u001b[0;34m.\u001b[0m\u001b[0mset_data\u001b[0m\u001b[0;34m(\u001b[0m\u001b[0mX\u001b[0m\u001b[0;34m)\u001b[0m\u001b[0;34m\u001b[0m\u001b[0;34m\u001b[0m\u001b[0m\n\u001b[0m\u001b[1;32m   5627\u001b[0m         \u001b[0mim\u001b[0m\u001b[0;34m.\u001b[0m\u001b[0mset_alpha\u001b[0m\u001b[0;34m(\u001b[0m\u001b[0malpha\u001b[0m\u001b[0;34m)\u001b[0m\u001b[0;34m\u001b[0m\u001b[0;34m\u001b[0m\u001b[0m\n\u001b[1;32m   5628\u001b[0m         \u001b[0;32mif\u001b[0m \u001b[0mim\u001b[0m\u001b[0;34m.\u001b[0m\u001b[0mget_clip_path\u001b[0m\u001b[0;34m(\u001b[0m\u001b[0;34m)\u001b[0m \u001b[0;32mis\u001b[0m \u001b[0;32mNone\u001b[0m\u001b[0;34m:\u001b[0m\u001b[0;34m\u001b[0m\u001b[0;34m\u001b[0m\u001b[0m\n",
      "\u001b[0;32m~/anaconda3/lib/python3.8/site-packages/matplotlib/image.py\u001b[0m in \u001b[0;36mset_data\u001b[0;34m(self, A)\u001b[0m\n\u001b[1;32m    696\u001b[0m         if not (self._A.ndim == 2\n\u001b[1;32m    697\u001b[0m                 or self._A.ndim == 3 and self._A.shape[-1] in [3, 4]):\n\u001b[0;32m--> 698\u001b[0;31m             raise TypeError(\"Invalid shape {} for image data\"\n\u001b[0m\u001b[1;32m    699\u001b[0m                             .format(self._A.shape))\n\u001b[1;32m    700\u001b[0m \u001b[0;34m\u001b[0m\u001b[0m\n",
      "\u001b[0;31mTypeError\u001b[0m: Invalid shape (1, 128, 128) for image data"
     ]
    }
   ],
   "source": [
    "###############################################################\n",
    "################ MASK DATA TO A SINGLE AREA ###################\n",
    "###############################################################\n",
    "# maske real data\n",
    "\n",
    "if True: # single areas:\n",
    "    area_mask_selected = area_masks[selected_area]+1\n",
    "    print (\"area mask selected: \", area_mask_selected)\n",
    "    print (\"area mask selected: \", area_mask_selected.shape)\n",
    "if False:\n",
    "    #area_mask_selected = np.zeros((128,128),'float32')\n",
    "    #print (\"Area mask: \", area_mask_selected.shape)\n",
    "    print (\"selected areas: \", selected_area)\n",
    "    area_masks_temp = area_masks\n",
    "    area_masks_temp+=1\n",
    "    #print (np.dstack(area_masks[selected_area]).shape)\n",
    "    area_mask_selected = area_masks_temp[selected_area[0]]\n",
    "    for s in selected_area[1:]:\n",
    "        print (s)\n",
    "        area_mask_selected = np.nansum(np.dstack((area_mask_selected, area_masks_temp[s])),2)\n",
    "    \n",
    "    #plt.imshow(area_masks[0])\n",
    "    #area_mask_selected = np.nansum(np.dstack((area_masks[4],area_masks[5],area_masks[6])),2)\n",
    "    #area_mask_selected = np.nansum(np.dstack((area_masks[2],area_masks[3])),2)\n",
    "    print (area_mask_selected.shape)\n",
    "\n",
    "plt.imshow(area_mask_selected)\n",
    "    \n",
    "\n",
    "# # mask areas not involved\n",
    "# data_singles_masked = data_singles.copy()\n",
    "# data_random_masked = data_random.copy()\n",
    "# for k in range(data_singles.shape[0]):\n",
    "#     if k %10==0:\n",
    "#         print (\"trial\", k)\n",
    "#     for p in range(data_singles.shape[1]):\n",
    "#         data_singles_masked[k,p]=data_singles[k,p]*area_mask_selected\n",
    "#     #print (data_singles[k,p][mask_single_area].shape)\n",
    "        \n",
    "# for k in range(data_random.shape[0]):\n",
    "#     if k %10==0:\n",
    "#         print (\"trial\", k)\n",
    "#     for p in range(data_random.shape[1]):\n",
    "#         data_random_masked[k,p]=data_random[k,p]*area_mask_selected"
   ]
  },
  {
   "cell_type": "code",
   "execution_count": 7,
   "metadata": {},
   "outputs": [
    {
     "name": "stdout",
     "output_type": "stream",
     "text": [
      "starting data shape [# trials, # time points, width, height]:  (63, 601, 128, 128)\n",
      "trial coruses single area:  (63, 1, 601)\n",
      "trial courses singel area random:  (51, 1, 601)\n"
     ]
    }
   ],
   "source": [
    "###############################################################\n",
    "################ SUM PIXELS IN SINGLE AREA ####################\n",
    "###############################################################\n",
    "def sum_pixels_in_single_area(data):\n",
    "\n",
    "    data_out = data.copy()\n",
    "    print (\" # of trials: \", data.shape[0])\n",
    "    \n",
    "    #print (\"mask_single_area: \", mask_single_area.shape, mask_single_area)\n",
    "    \n",
    "    trial_courses = []\n",
    "    for k in range(data.shape[0]):\n",
    "        if k%10==0:\n",
    "            print (\"computing trial: \", k)\n",
    "        time_courses_local = []\n",
    "\n",
    "        # convert to 1D vector to mask faster\n",
    "        trial_courses.append([])\n",
    "        for p in range(data.shape[1]):\n",
    "            trial_courses[k].append(\n",
    "                            data[k,p].sum()\n",
    "                            )\n",
    "            print (data[k,p])\n",
    "            print (\"res: \", data[k,p][mask_single_area].shape)\n",
    "            print (\"data out: \", data.shape, data[k,p].shape)\n",
    "            print (k,p)\n",
    "            break\n",
    "#         idx = np.where()[0]\n",
    "\n",
    "#             # only keep areas that have at least 10 pixels\n",
    "#             if idx.shape[0]>10:\n",
    "#                 #print (\"Area: \", id_)\n",
    "#                 area_ids.append(id_)#print (\"Areas: \", id_)\n",
    "#                 #print (data1D[:,idx].shape)\n",
    "\n",
    "#                 temp = data1D[:,idx]\n",
    "\n",
    "#                 if False:\n",
    "#                     # compute DFF\n",
    "#                     F0 = np.nanmean(temp,axis=0)\n",
    "#                     dFF = (data1D[:,idx]-F0)/F0\n",
    "#                 else:\n",
    "#                     # skip dFF computation;\n",
    "#                     dFF = temp\n",
    "                \n",
    "#                 # save average of all pixesl post DFF\n",
    "#                 time_courses_local.append(np.nanmean(dFF, axis=1))\n",
    "\n",
    "#             #all_times.append(time_courses_local)\n",
    "#         trial_courses.append(time_courses_local)\n",
    "\n",
    "    trial_courses = np.float32(trial_courses)\n",
    "    print (\"# trials, # areas, # times: \", trial_courses.shape)\n",
    "    print (\"area ids: \", area_ids.shape)\n",
    "\n",
    "    return area_ids, trial_courses\n",
    "\n",
    "print (\"starting data shape [# trials, # time points, width, height]: \", data_singles_masked.shape)\n",
    "# accumulate mean activity in each ROI\n",
    "# input data shape: [# trials, # times, width, height]\n",
    "trial_courses = np.nansum(np.nansum(data_singles_masked,3),2)[:, None]\n",
    "print (\"trial coruses single area: \", trial_courses.shape)\n",
    "\n",
    "#trial_courses = sum_pixels_in_single_area(data_singles)\n",
    "trial_courses_random = np.nansum(np.nansum(data_random_masked,3),2)[:, None] #data_random.sum(3).sum(2)[:,None]\n",
    "#trial_courses_random = sum_pixels_in_single_area(data_random)\n",
    "#print (\" randomized trial time courses: \", trial_courses_random.shape)\n",
    "\n",
    "print (\"trial courses singel area random: \", trial_courses_random.shape)\n"
   ]
  },
  {
   "cell_type": "markdown",
   "metadata": {},
   "source": [
    "### MULTI AREA ANALYSIS"
   ]
  },
  {
   "cell_type": "code",
   "execution_count": 18,
   "metadata": {},
   "outputs": [
    {
     "name": "stdout",
     "output_type": "stream",
     "text": [
      " # of trials:  62\n",
      " # of areas:  (253,)\n",
      "computing trial:  0\n",
      "computing trial:  10\n",
      "computing trial:  20\n",
      "computing trial:  30\n",
      "computing trial:  40\n",
      "computing trial:  50\n",
      "computing trial:  60\n",
      "# trials, # areas, # times:  (62, 35, 601)\n",
      "area ids:  (35,)\n",
      " # of trials:  62\n",
      " # of areas:  (253,)\n",
      "computing trial:  0\n",
      "computing trial:  10\n",
      "computing trial:  20\n",
      "computing trial:  30\n",
      "computing trial:  40\n",
      "computing trial:  50\n",
      "computing trial:  60\n",
      "# trials, # areas, # times:  (62, 35, 601)\n",
      "area ids:  (35,)\n",
      " randomized trial time courses:  (62, 35, 601)\n",
      "(62, 35, 601)\n"
     ]
    }
   ],
   "source": [
    "###############################################################\n",
    "################ SUM PIXELS IN MULTIPOLE AREAS AREA ####################\n",
    "###############################################################\n",
    "if True:    \n",
    "    \n",
    "    prefix=\"all_areas_\"\n",
    "    # accumulate mean activity in each ROI\n",
    "    # input data shape: [# trials, # times, width, height]\n",
    "    area_ids, trial_courses = sum_pixels_in_registered_mask(data_singles, maskwarp)\n",
    "\n",
    "    # compute random trial time courses\n",
    "    _, trial_courses_random = sum_pixels_in_registered_mask(data_random, maskwarp)\n",
    "    print (\" randomized trial time courses: \", trial_courses_random.shape)\n",
    "    print (trial_courses_random.shape)\n",
    "    \n",
    "    np.save(fname[:-4]+'_area_ids.npy', area_ids)\n",
    "    np.save(fname[:-4]+'_trial_courses.npy', trial_courses)\n",
    "    np.save(fname[:-4]+'_trial_courses_random.npy', trial_courses_random)\n",
    "    \n",
    "    \n",
    "    "
   ]
  },
  {
   "cell_type": "code",
   "execution_count": 7,
   "metadata": {},
   "outputs": [
    {
     "name": "stdout",
     "output_type": "stream",
     "text": [
      "[  0   8  15  16  17  21  29  36  43  50  57  64  71  78 100 114 129 136\n",
      " 143 150 157 164 171 178 186 198 249 255 261 268 275 282 300 301 653]\n"
     ]
    }
   ],
   "source": [
    "print (np.load('/media/cat/4TBSSD/yuki/IA1/tif_files/IA1pm_Feb3_30Hz/IA1pm_Feb3_30Hz_10.0sec_butterworth_globalAverage_0.1hz_6.0hz_04code_singletrials_area_ids.npy'))"
   ]
  },
  {
   "cell_type": "markdown",
   "metadata": {},
   "source": [
    "### REMOVE INFINITES FROM MULTI- or SINGLE AREA DATA"
   ]
  },
  {
   "cell_type": "code",
   "execution_count": 19,
   "metadata": {},
   "outputs": [
    {
     "name": "stdout",
     "output_type": "stream",
     "text": [
      "trial_courses_fixed:  (62, 35, 601)\n",
      "trial_courses_random_fixed:  (62, 35, 601)\n",
      "DONE\n"
     ]
    }
   ],
   "source": [
    "#####################################################################\n",
    "######## REMOVE INFINITIES, NANS ETC FROM DATA ######################\n",
    "#####################################################################\n",
    "trial_courses_fixed, trial_courses_random_fixed = fix_trials(trial_courses, trial_courses_random)\n",
    "print (\"trial_courses_fixed: \", trial_courses_fixed.shape)\n",
    "print ('trial_courses_random_fixed: ', trial_courses_random_fixed.shape)\n",
    "print(\"DONE\")\n",
    "#plt.show()\n"
   ]
  },
  {
   "cell_type": "code",
   "execution_count": 20,
   "metadata": {},
   "outputs": [],
   "source": [
    "#####################################################################\n",
    "######## SAVE ROI BASED DATA ######################\n",
    "#####################################################################\n",
    "np.save('/media/cat/4TBSSD/yuki/IA1/tif_files/IA1pm_Feb3_30Hz/data_04_code_62trials_ROIs.npy' , trial_courses_fixed)\n",
    "np.save('/media/cat/4TBSSD/yuki/IA1/tif_files/IA1pm_Feb3_30Hz/data_random_code_62trials_ROIs.npy' , trial_courses_random_fixed)\n"
   ]
  },
  {
   "cell_type": "code",
   "execution_count": 11,
   "metadata": {},
   "outputs": [],
   "source": [
    "# #print (trial_courses[0])\n",
    "# ax=plt.subplot(1,2,1)\n",
    "# plt.plot(trial_courses[:10].squeeze().T)\n",
    "# ax=plt.subplot(1,2,2)\n",
    "# plt.plot(trial_courses_random_fixed[:10].squeeze().T)\n",
    "# plt.show()"
   ]
  },
  {
   "cell_type": "code",
   "execution_count": 26,
   "metadata": {},
   "outputs": [],
   "source": [
    "# generate 80% - 20% training - testing datasets\n",
    "def generate_training_data(trial_courses_fixed, trial_courses_random_fixed):\n",
    "    selected_trials = np.arange(int(trial_courses_fixed.shape[0]*0.8)) # of trials to separate the train vs test data\n",
    "    selected_trials_random = np.arange(int(trial_courses_random_fixed.shape[0]*0.8)) # of trials to separate the train vs test data\n",
    "\n",
    "    trial_courses_fixed_ids = []\n",
    "    trial_courses_random_fixed_ids = []\n",
    "    ctr=0\n",
    "    while True:\n",
    "        trial_courses_fixed_ids.append(selected_trials+ctr)\n",
    "        trial_courses_random_fixed_ids.append(selected_trials_random+ctr)\n",
    "\n",
    "        ctr+=1\n",
    "        if (ctr+selected_trials.shape[0]>=trial_courses_fixed.shape[0]):\n",
    "            break\n",
    "        if (ctr+selected_trials_random.shape[0]>=trial_courses_random_fixed.shape[0]):\n",
    "            break\n",
    "\n",
    "    return trial_courses_fixed_ids, trial_courses_random_fixed_ids\n",
    "\n",
    "def normalize_data(data1, data2, random_flag):\n",
    "    \n",
    "    #print (\"NIORMALIZEION: \", data1.shape, data2.shape)\n",
    "    data_in = np.vstack((data1,data2))    \n",
    "    #print (\"Data in: \", data_in.shape)\n",
    "    \n",
    "    if random_flag:\n",
    "        idx_random = np.random.choice(np.arange(data_in.shape[0]), size=data_in.shape[0], replace=False)\n",
    "        #print (idx_random.shape)\n",
    "        data_in = data_in[idx_random]\n",
    "        #print (\"Data in: \", data_in.shape)\n",
    "\n",
    "    \n",
    "    #data_in shaep: (63, 35, 181)\n",
    "    for k in range(data_in.shape[1]):\n",
    "        for p in range(data_in.shape[2]):\n",
    "            temp = data_in[:,k,p]\n",
    "            #print (\"temp re: \", temp)\n",
    "            temp = (temp-temp.mean(0))/(temp.std(0)+0.00000001) # to avoid nans\n",
    "            #print (\"temp post: \", temp)\n",
    "            data_in[:,k,p] = temp\n",
    "    \n",
    "    data1 = data_in[:data1.shape[0]]\n",
    "    data2 = data_in[data1.shape[0]:]   \n",
    "    #print (\"POST NIORMALIZEION: \", data1.shape, data2.shape)\n",
    "\n",
    "    return data1, data2\n",
    "\n",
    "\n",
    "def make_training_sets_multiple_tests_window2(time, \n",
    "                                             time_window,\n",
    "                                             trial_courses_fixed, \n",
    "                                             trial_courses_fixed_ids,\n",
    "                                             trial_courses_random_fixed, \n",
    "                                             trial_courses_random_ids):\n",
    "    \n",
    "    # combine good trials with random trials for training sets:\n",
    "    #time = 0\n",
    "    #print (\"trial_courses_fixed: \", trial_courses_fixed.shape)\n",
    "    good_trials = trial_courses_fixed[trial_courses_fixed_ids, :,time:time+time_window].reshape(trial_courses_fixed_ids.shape[0], -1)\n",
    "    #print (\"good trials: \", good_trials.shape)\n",
    "    temp = np.arange(trial_courses_fixed.shape[0])\n",
    "    idx = np.delete(temp,trial_courses_fixed_ids) # remove the training set trials for testing stage\n",
    "    test_trials = trial_courses_fixed[idx, :,time:time+time_window].reshape(idx.shape[0], -1)  # select left over trials for testing;\n",
    "    #print (\"good test_trials: \", test_trials.shape)\n",
    "    \n",
    "    random_trials = trial_courses_random_fixed[trial_courses_random_ids, :,time:time+time_window].reshape(trial_courses_random_ids.shape[0], -1)\n",
    "    #print (\"random_trials: \", random_trials.shape)\n",
    "    temp = np.arange(trial_courses_random_fixed.shape[0])\n",
    "    idx = np.delete(temp,trial_courses_random_ids) # remove training set trials for testing\n",
    "    test_trials_random = trial_courses_random_fixed[idx, :,time:time+time_window].reshape(idx.shape[0], -1)\n",
    "    #print (\"test_trials_random: \", test_trials_random.shape)\n",
    "    #print (\"test_trials_random: \", test_trials_random.shape)\n",
    "\n",
    "    # rebalance the data to ensure SVM doesn't overfit; \n",
    "    # Cat TODO: this is a big issue in cases where insufficient postiive of negative trials are presnt:\n",
    "    max_n_trials = min(good_trials.shape[0], random_trials.shape[0])\n",
    "    good_trials = good_trials[:max_n_trials]\n",
    "    random_trials = random_trials[:max_n_trials]\n",
    "\n",
    "    # \n",
    "    max_n_trials = min(test_trials.shape[0], test_trials_random.shape[0])\n",
    "    test_trials = test_trials[:max_n_trials]\n",
    "    test_trials_random = test_trials_random[:max_n_trials]\n",
    "    \n",
    "    \n",
    "    # make labels\n",
    "    #y = np.zeros(good_trials.shape[0]+random_trials.shape[0],'int32')\n",
    "    #y[:good_trials.shape[0]]=1\n",
    "    y = np.zeros(good_trials.shape[0]+random_trials.shape[0],'int32')\n",
    "    y[:good_trials.shape[0]]=1\n",
    "\n",
    "    # concatenate\n",
    "    X = np.vstack((good_trials,random_trials))\n",
    "\n",
    "    #rint (\"done time: \", time)\n",
    "    \n",
    "    \n",
    "    return X, y, test_trials, test_trials_random\n",
    "\n",
    "\n",
    "\n",
    "def parallel_svm_multiple_tests2(time, \n",
    "                                time_window,\n",
    "                                trial_courses_fixed, \n",
    "                                trial_courses_fixed_ids,\n",
    "                                trial_courses_random_fixed, \n",
    "                                trial_courses_random_ids,\n",
    "                                random_flag,\n",
    "                                root_dir):\n",
    "\n",
    "\n",
    "    # \n",
    "    if time%100==0:\n",
    "        print (\"processing time: \", time)\n",
    "        \n",
    "    #print (\"normalizing data... (TO CHECK THIS STEP)\")\n",
    "    trial_courses_fixed, trial_courses_random_fixed = \\\n",
    "                normalize_data(trial_courses_fixed, trial_courses_random_fixed, random_flag)\n",
    "    \n",
    "    #print (\"trial_courses_fixed_ids: \", trial_courses_fixed_ids)\n",
    "    res1 = []\n",
    "    res2 = []\n",
    "    sens = []\n",
    "    spec = []\n",
    "    accuracy = []\n",
    "    for k in range(len(trial_courses_fixed_ids)):\n",
    "        X, y, test_trials, test_trials_random = make_training_sets_multiple_tests_window2(time, \n",
    "                                                                                         time_window,\n",
    "                                                                                         trial_courses_fixed, \n",
    "                                                                                         trial_courses_fixed_ids[k],\n",
    "                                                                                         trial_courses_random_fixed, \n",
    "                                                                                         trial_courses_random_ids[k])\n",
    "        #print (\"test trials: \", test_trials.shape)\n",
    "        #print (\"X: \", X.shape)\n",
    "        #print (\"y: \", y.shape)\n",
    "        #plotting=False\n",
    "        model = SVC(kernel='linear', C=1)\n",
    "        model.fit(X, y)\n",
    "        #plot_decision_regions(X, y, clf=model, legend=2)\n",
    "\n",
    "        support_vectors = model.support_vectors_        \n",
    "        #print (\"support_vectors: \", support_vectors)\n",
    "        \n",
    "        #plt.scatter(support_vectors, support_vectors*0 + 2, color='green')\n",
    "        \n",
    "        #print (\"X: \", X)\n",
    "        #print (\"y: \", y)\n",
    "        #plt.scatter(X, X*0-0.5, c=y)\n",
    "        # test real data\n",
    "        #print (\"test trials : \", test_trials)\n",
    "        #plt.scatter(test_trials, test_trials*0+0.25,c='blue',label='test trials')\n",
    "\n",
    "        yfit = model.predict(test_trials)\n",
    "        true_pos = np.sum(yfit)\n",
    "        false_neg = (test_trials.shape[0]-true_pos)\n",
    "        #print (\"True pos: \", true_pos, \" false neg: \", false_neg)\n",
    "        res1.append(np.sum(yfit)/float(yfit.shape[0]))\n",
    "\n",
    "        # test random data\n",
    "        #print (\"test trials random: \", test_trials_random)\n",
    "        #plt.scatter(test_trials_random, test_trials_random*0+0.5,c='red', label='random_trials')\n",
    "\n",
    "        yfit = model.predict(test_trials_random)\n",
    "        false_pos = np.sum(yfit)\n",
    "        true_neg = (test_trials_random.shape[0]-false_pos)\n",
    "        #print (\"True negative: \", true_neg, \" false_pos: \", false_pos)\n",
    "        res2.append(np.sum(yfit)/float(yfit.shape[0]))\n",
    "    \n",
    "        # compute sensitivity:  true positives / (true positives + false negatives)\n",
    "        sens.append(true_pos / (true_pos+false_neg))\n",
    "        spec.append(true_neg / (true_neg+false_pos))\n",
    "        \n",
    "        all_pos = true_pos + false_neg\n",
    "        all_neg = false_pos + true_neg\n",
    "        # compute accuracy\n",
    "        accuracy_temp = (true_pos+true_neg)/(all_pos+all_neg)\n",
    "        \n",
    "        if False:\n",
    "            print (\"\")\n",
    "            print (\"SVM run: \", k)\n",
    "            print (\"true_pos :\", true_pos)\n",
    "            print (\"true_neg :\", true_neg)\n",
    "            print (\"false_neg :\", false_neg)\n",
    "            print (\"false_pos :\", false_pos)\n",
    "            print (\"all_pos :\", all_pos)\n",
    "            print (\"all_neg :\", all_neg)\n",
    "            print (\"accuracy :\", accuracy_temp)\n",
    "\n",
    "        # compute accuracy:\n",
    "        accuracy.append(accuracy_temp)\n",
    "    \n",
    "    #return (res1, res2, sens, spec)\n",
    "    np.save(root_dir + str(time)+'_sens.npy', sens)\n",
    "    np.save(root_dir + str(time)+'_spec.npy', spec)\n",
    "    np.save(root_dir + str(time)+'_accuracy.npy', accuracy)\n",
    "    \n",
    "    return (res1, res2)\n",
    "# \n",
    "def plot_accuracy2(root_dir, length_rec, \n",
    "                   fig, ax,\n",
    "                   clr, label_in, labels):\n",
    "    time_window=1\n",
    "    #fig=plt.figure()\n",
    "    #ax=plt.subplot(111)\n",
    "    sample_rate = 30\n",
    "    window_size = length_rec//sample_rate/2\n",
    "    spec_array = []\n",
    "    spec_error = []\n",
    "    sens_array = []\n",
    "    sens_error = []\n",
    "    accuracy_array = []\n",
    "    accuracy_error = []\n",
    "\n",
    "    for k in range(length_rec):\n",
    "        #print (k)\n",
    "        sens = np.load(root_dir+str(k)+\"_sens.npy\")\n",
    "        spec = np.load(root_dir+str(k)+\"_spec.npy\")\n",
    "        acc = np.load(root_dir+str(k)+\"_accuracy.npy\")\n",
    "        #print (sens, spec)\n",
    "\n",
    "        # plot real pulls time-series\n",
    "        sens_array.append(sens.mean(0))\n",
    "        sens_error.append(sens.std(0))\n",
    "\n",
    "        # plot randomized prediction time-series\n",
    "        spec_array.append(spec.mean(0))\n",
    "        spec_error.append(spec.std(0))\n",
    "\n",
    "        # plot randomized prediction time-series\n",
    "        accuracy_array.append(acc.mean(0))\n",
    "        accuracy_error.append(acc.std(0))\n",
    "\n",
    "    t = np.arange(len(sens_array))/30.-(length_rec//sample_rate/2)\n",
    "    # plt.errorbar(t, \n",
    "    #              sens_array, sens_error, linestyle='None', marker='^', c='blue', alpha=.7)\n",
    "    # plt.plot(t, sens_array, c='blue', alpha=.7)\n",
    "\n",
    "    # plt.errorbar(t, \n",
    "    #              spec_array, spec_error, linestyle='None', marker='^', c='red', alpha=.7)\n",
    "    # plt.plot(t, spec_array, c='red', alpha=.7)\n",
    "\n",
    "    if False:\n",
    "        plt.errorbar(t, \n",
    "                 accuracy_array, accuracy_error, linestyle='None', marker='^', c=clr, alpha=.7)\n",
    "    \n",
    "    if False:\n",
    "        from scipy.signal import savgol_filter\n",
    "    \n",
    "        yhat = savgol_filter(accuracy_array, 3, 1) #\n",
    "        plt.plot(t, yhat, c=clr,linewidth=5, alpha=.7)\n",
    "    else:\n",
    "        plt.plot(t, accuracy_array, c=clr,linewidth=5, alpha=.7)\n",
    "\n",
    "\n",
    "\n",
    "    #labels = []\n",
    "    patch_j = mpatches.Patch(color = clr, label = label_in[:-1])\n",
    "    labels.append(patch_j)\n",
    "#     patch_j = mpatches.Patch(color = 'red', label = \"Motor\")\n",
    "#     labels.append(patch_j)\n",
    "#     patch_j = mpatches.Patch(color = 'black', label = \"All Cortex\")\n",
    "#     labels.append(patch_j)\n",
    "\n",
    "    plt.ylim(0,1)\n",
    "    plt.xlim(t[0],t[-1])\n",
    "    #plt.legend(handles=labels)\n",
    "    plt.ylim(0,1)\n",
    "    plt.plot([t[0],t[-1]],[0.5,0.5],'r--',c='black')\n",
    "    plt.plot([0,0],[0,1],'r--',c='black')\n",
    "    ax.tick_params(axis = 'both', which = 'major', labelsize = 20)\n",
    "\n",
    "    plt.suptitle(\"Sliding time window prediction using \"+str(time_window)+\" frames = \"+str(round(time_window/30.,2))+\"sec\", fontsize=20)\n",
    "    plt.xlabel(\"Time (sec)\",fontsize=20)\n",
    "    plt.suptitle(root_dir, fontsize=20)\n",
    "    #plt.show()\n",
    "    return labels, ax"
   ]
  },
  {
   "cell_type": "code",
   "execution_count": 21,
   "metadata": {
    "scrolled": true
   },
   "outputs": [
    {
     "name": "stdout",
     "output_type": "stream",
     "text": [
      "processing time: 0 \n",
      "processing time:  100\n",
      "processing time:  200\n",
      "processing time:  300\n",
      "processing time:  400\n",
      "processing time:  500\n",
      "processing time:  600\n",
      "DONE\n"
     ]
    }
   ],
   "source": [
    "# ################# TRAIN SVM CLASSIFIER OVER THE DATA #################\n",
    "# make batches of data to train and test over\n",
    "# ratio of testing 80% train to 20% test is fixed inside function\n",
    "trial_courses_fixed_ids, trial_courses_random_fixed_ids = \\\n",
    "            generate_training_data(trial_courses_fixed, trial_courses_random_fixed)\n",
    "\n",
    "# print szies of datasets\n",
    "#print (\"trial courses fixed ids: \", len(trial_courses_fixed_ids))\n",
    "#print (\"trial_courses_random_fixed_ids: \", len(trial_courses_random_fixed_ids))\n",
    "\n",
    "# start \n",
    "random_flag = False  # shuffle data to show baseline\n",
    "#prefix='secondary_motor'\n",
    "#if random_flag:\n",
    "#    prefix = \"random_\"\n",
    "    \n",
    "time_window = 1\n",
    "\n",
    "from mlxtend.plotting import plot_decision_regions\n",
    "\n",
    "# Plotting decision regions\n",
    "\n",
    "\n",
    "#times = np.arange(0,trial_courses_fixed.shape[2]-time_window)\n",
    "times = np.arange(0,trial_courses_fixed.shape[2])\n",
    "if True:\n",
    "    res = parmap.map(parallel_svm_multiple_tests2, \n",
    "                     times, \n",
    "                     time_window,\n",
    "                     trial_courses_fixed, \n",
    "                     trial_courses_fixed_ids, # ids of trial sto be used; make sure \n",
    "                     trial_courses_random_fixed, \n",
    "                     trial_courses_random_fixed_ids,\n",
    "                     random_flag,\n",
    "                     root_dir+'/analysis/'+prefix,\n",
    "                     pm_processes=4)\n",
    "else:\n",
    "    res = []\n",
    "    \n",
    "    for k in range(len(times)):\n",
    "    #for k in [0]:\n",
    "        res.append(parallel_svm_multiple_tests2(times[k], \n",
    "                                     time_window,\n",
    "                     trial_courses_fixed, \n",
    "                     trial_courses_fixed_ids, # ids of trial sto be used; make sure \n",
    "                     trial_courses_random_fixed, \n",
    "                     trial_courses_random_fixed_ids,\n",
    "                     random_flag,\n",
    "                     root_dir+'/analysis/'+prefix))\n",
    "        #break\n",
    "    \n",
    "res = np.vstack(res)\n",
    "print (\"DONE\")"
   ]
  },
  {
   "cell_type": "code",
   "execution_count": 27,
   "metadata": {},
   "outputs": [],
   "source": [
    "###############################################################\n",
    "########## PLOT ACCURACY AFTER SAVING DATA ####################\n",
    "###############################################################\n",
    "names = np.load('/home/cat/area_names.npy',allow_pickle=True)\n",
    "\n",
    "fig = plt.figure()\n",
    "ax=plt.subplot(111)\n",
    "ctr=0\n",
    "label_in = prefix = 'all_areas_'\n",
    "labels=[]\n",
    "clrs=['black','blue']\n",
    "labels, ax = plot_accuracy2(root_dir+'/analysis/'+prefix, \n",
    "                            trial_courses_fixed.shape[2]-1, \n",
    "                            fig, ax, clrs[ctr], label_in, labels)\n",
    "    "
   ]
  },
  {
   "cell_type": "code",
   "execution_count": 27,
   "metadata": {},
   "outputs": [
    {
     "name": "stdout",
     "output_type": "stream",
     "text": [
      "prefix:  all_limb_\n",
      "prefix:  Primary_visual_area_layer_23_\n"
     ]
    }
   ],
   "source": [
    "###############################################################\n",
    "########## PLOT ACCURACY AFTER SAVING DATA ####################\n",
    "###############################################################\n",
    "names = np.load('/home/cat/area_names.npy',allow_pickle=True)\n",
    "\n",
    "clrs = ['black','red','blue','yellow','pink','green']\n",
    "labels = []\n",
    "fig=plt.figure()\n",
    "ax=plt.subplot(111)\n",
    "\n",
    "ctr=0\n",
    "# plot all data:\n",
    "label_in = prefix = 'all_areas_'\n",
    "#label_in = names[selected_area]\n",
    "labels, ax = plot_accuracy2(root_dir+'/analysis/'+prefix, trial_courses_fixed.shape[2]-1, \n",
    "                            fig, ax, clrs[ctr], label_in, labels)\n",
    "\n",
    "# PLOT MULTIPLE AREAS\n",
    "clrs=['green','blue']\n",
    "names_prefix = ['all_limb_','Primary_visual_area_layer_23_']\n",
    "#names_prefix = ['all_motor_','all_rs_','Primary_visual_area_layer_23_']\n",
    "#names_prefix = ['Primary_visual_area_layer_23_']\n",
    "#names_prefix = ['Anterior_area_layer_23_']\n",
    "#names_prefix = ['Rostrolateral_area_layer_23_']\n",
    "\n",
    "\n",
    "# PLOT INDIVIDUAL ACCURACY TRACES\n",
    "ctr=0\n",
    "for prefix in names_prefix:\n",
    "    print ('prefix: ', prefix)\n",
    "    label_in = prefix\n",
    "    labels, ax = plot_accuracy2(root_dir+'/analysis/'+prefix, trial_courses_fixed.shape[2]-1, \n",
    "                            fig, ax, clrs[ctr], label_in, labels)\n",
    "    ctr+=1\n",
    "    \n",
    "# plot cumulative RS plot\n",
    "# selected_areas = [4]\n",
    "# prefix=\"all_rs_\"\n",
    "\n",
    "# label_in = prefix #names[selected_area]\n",
    "# labels, ax = plot_accuracy2(root_dir+'/analysis/'+prefix, trial_courses_fixed.shape[2]-1, \n",
    "#                             fig, ax, 'green', label_in, labels)\n",
    "# ctr+=1\n",
    "    \n",
    "plt.xticks(fontsize=30)\n",
    "plt.yticks(fontsize=30)\n",
    "ax.axhspan(0.4, 0.6, alpha=0.1, color='black')\n",
    "ax.legend(handles=labels, fontsize=20)\n",
    "#plt.ylim(0.3,1.0)\n",
    "plt.show()"
   ]
  },
  {
   "cell_type": "code",
   "execution_count": null,
   "metadata": {},
   "outputs": [],
   "source": []
  },
  {
   "cell_type": "code",
   "execution_count": 12,
   "metadata": {},
   "outputs": [
    {
     "name": "stdout",
     "output_type": "stream",
     "text": [
      "[[0.53846154 0.46153846 0.46153846 ... 0.38461538 0.30769231 0.38461538]\n",
      " [0.53846154 0.46153846 0.46153846 ... 0.30769231 0.30769231 0.38461538]\n",
      " [0.53846154 0.46153846 0.61538462 ... 0.30769231 0.23076923 0.30769231]\n",
      " ...\n",
      " [0.53846154 0.38461538 0.53846154 ... 0.61538462 0.38461538 0.46153846]\n",
      " [0.53846154 0.46153846 0.69230769 ... 0.61538462 0.46153846 0.38461538]\n",
      " [0.69230769 0.46153846 0.61538462 ... 0.76923077 0.30769231 0.30769231]]\n"
     ]
    }
   ],
   "source": [
    "# plot classification rates\n",
    "time_window=1\n",
    "plot_true_vs_random(res, trial_courses_fixed, time_window)\n"
   ]
  },
  {
   "cell_type": "code",
   "execution_count": 17,
   "metadata": {},
   "outputs": [],
   "source": [
    "# plot precision and recall\n",
    "# plot_specificity_sensitivity(res, trial_courses_fixed)\n"
   ]
  },
  {
   "cell_type": "code",
   "execution_count": 13,
   "metadata": {},
   "outputs": [
    {
     "name": "stdout",
     "output_type": "stream",
     "text": [
      "times  [ 0 30]\n",
      "times  times [10 40] \n",
      "[30 60]\n",
      "times  [40 70]\n",
      "times  [50 80]\n",
      "times times   [20 50][60 90]\n",
      "\n",
      "times  [ 70 100]\n",
      "times  times  [ 80 110]times  \n",
      "[ 90 120]\n",
      "[100 130]\n",
      "times times  [120 150]\n",
      " times [110 140][130 160] times \n",
      "\n",
      " [140 170]\n",
      "times  [150 180]\n"
     ]
    },
    {
     "ename": "NameError",
     "evalue": "name 'real_data' is not defined",
     "output_type": "error",
     "traceback": [
      "\u001b[0;31m---------------------------------------------------------------------------\u001b[0m",
      "\u001b[0;31mRemoteTraceback\u001b[0m                           Traceback (most recent call last)",
      "\u001b[0;31mRemoteTraceback\u001b[0m: \n\"\"\"\nTraceback (most recent call last):\n  File \"/home/cat/anaconda3/lib/python3.8/multiprocessing/pool.py\", line 125, in worker\n    result = (True, func(*args, **kwds))\n  File \"/home/cat/anaconda3/lib/python3.8/multiprocessing/pool.py\", line 48, in mapstar\n    return list(map(*args))\n  File \"/home/cat/.local/lib/python3.8/site-packages/parmap/parmap.py\", line 104, in _func_star_single\n    return func_item_args[0](*[func_item_args[1]] + func_item_args[2],\n  File \"/home/cat/code/self_initiated_paper/utility_classification.py\", line 429, in parallel_svm_multi_time\n    real_data.append(res1)\nNameError: name 'real_data' is not defined\n\"\"\"",
      "\nThe above exception was the direct cause of the following exception:\n",
      "\u001b[0;31mNameError\u001b[0m                                 Traceback (most recent call last)",
      "\u001b[0;32m<ipython-input-13-178f473a287b>\u001b[0m in \u001b[0;36m<module>\u001b[0;34m\u001b[0m\n\u001b[1;32m      4\u001b[0m \u001b[0mtimes\u001b[0m \u001b[0;34m=\u001b[0m \u001b[0mnp\u001b[0m\u001b[0;34m.\u001b[0m\u001b[0mvstack\u001b[0m\u001b[0;34m(\u001b[0m\u001b[0;34m(\u001b[0m\u001b[0mtimes1\u001b[0m\u001b[0;34m,\u001b[0m\u001b[0mtimes2\u001b[0m\u001b[0;34m)\u001b[0m\u001b[0;34m)\u001b[0m\u001b[0;34m.\u001b[0m\u001b[0mT\u001b[0m\u001b[0;34m\u001b[0m\u001b[0;34m\u001b[0m\u001b[0m\n\u001b[1;32m      5\u001b[0m \u001b[0;31m#print (times)\u001b[0m\u001b[0;34m\u001b[0m\u001b[0;34m\u001b[0m\u001b[0;34m\u001b[0m\u001b[0m\n\u001b[0;32m----> 6\u001b[0;31m res = parmap.map(parallel_svm_multi_time, times, trial_courses_fixed, \n\u001b[0m\u001b[1;32m      7\u001b[0m                  \u001b[0mtrial_courses_random_fixed\u001b[0m\u001b[0;34m,\u001b[0m\u001b[0;34m\u001b[0m\u001b[0;34m\u001b[0m\u001b[0m\n\u001b[1;32m      8\u001b[0m                  pm_processes=4)\n",
      "\u001b[0;32m~/.local/lib/python3.8/site-packages/parmap/parmap.py\u001b[0m in \u001b[0;36mmap\u001b[0;34m(function, iterable, *args, **kwargs)\u001b[0m\n\u001b[1;32m    302\u001b[0m        \u001b[0;34m:\u001b[0m\u001b[0mtype\u001b[0m \u001b[0mpm_pbar\u001b[0m\u001b[0;34m:\u001b[0m \u001b[0mbool\u001b[0m\u001b[0;34m\u001b[0m\u001b[0;34m\u001b[0m\u001b[0m\n\u001b[1;32m    303\u001b[0m     \"\"\"\n\u001b[0;32m--> 304\u001b[0;31m     \u001b[0;32mreturn\u001b[0m \u001b[0m_map_or_starmap\u001b[0m\u001b[0;34m(\u001b[0m\u001b[0mfunction\u001b[0m\u001b[0;34m,\u001b[0m \u001b[0miterable\u001b[0m\u001b[0;34m,\u001b[0m \u001b[0margs\u001b[0m\u001b[0;34m,\u001b[0m \u001b[0mkwargs\u001b[0m\u001b[0;34m,\u001b[0m \u001b[0;34m\"map\"\u001b[0m\u001b[0;34m)\u001b[0m\u001b[0;34m\u001b[0m\u001b[0;34m\u001b[0m\u001b[0m\n\u001b[0m\u001b[1;32m    305\u001b[0m \u001b[0;34m\u001b[0m\u001b[0m\n\u001b[1;32m    306\u001b[0m \u001b[0;34m\u001b[0m\u001b[0m\n",
      "\u001b[0;32m~/.local/lib/python3.8/site-packages/parmap/parmap.py\u001b[0m in \u001b[0;36m_map_or_starmap\u001b[0;34m(function, iterable, args, kwargs, map_or_starmap)\u001b[0m\n\u001b[1;32m    246\u001b[0m                                          repeat(kwargs)),\n\u001b[1;32m    247\u001b[0m                                     chunksize)\n\u001b[0;32m--> 248\u001b[0;31m             \u001b[0moutput\u001b[0m \u001b[0;34m=\u001b[0m \u001b[0mresult\u001b[0m\u001b[0;34m.\u001b[0m\u001b[0mget\u001b[0m\u001b[0;34m(\u001b[0m\u001b[0;34m)\u001b[0m\u001b[0;34m\u001b[0m\u001b[0;34m\u001b[0m\u001b[0m\n\u001b[0m\u001b[1;32m    249\u001b[0m         \u001b[0;32mexcept\u001b[0m\u001b[0;34m:\u001b[0m\u001b[0;34m\u001b[0m\u001b[0;34m\u001b[0m\u001b[0m\n\u001b[1;32m    250\u001b[0m             \u001b[0;32mif\u001b[0m \u001b[0mclose_pool\u001b[0m\u001b[0;34m:\u001b[0m\u001b[0;34m\u001b[0m\u001b[0;34m\u001b[0m\u001b[0m\n",
      "\u001b[0;32m~/anaconda3/lib/python3.8/multiprocessing/pool.py\u001b[0m in \u001b[0;36mget\u001b[0;34m(self, timeout)\u001b[0m\n\u001b[1;32m    769\u001b[0m             \u001b[0;32mreturn\u001b[0m \u001b[0mself\u001b[0m\u001b[0;34m.\u001b[0m\u001b[0m_value\u001b[0m\u001b[0;34m\u001b[0m\u001b[0;34m\u001b[0m\u001b[0m\n\u001b[1;32m    770\u001b[0m         \u001b[0;32melse\u001b[0m\u001b[0;34m:\u001b[0m\u001b[0;34m\u001b[0m\u001b[0;34m\u001b[0m\u001b[0m\n\u001b[0;32m--> 771\u001b[0;31m             \u001b[0;32mraise\u001b[0m \u001b[0mself\u001b[0m\u001b[0;34m.\u001b[0m\u001b[0m_value\u001b[0m\u001b[0;34m\u001b[0m\u001b[0;34m\u001b[0m\u001b[0m\n\u001b[0m\u001b[1;32m    772\u001b[0m \u001b[0;34m\u001b[0m\u001b[0m\n\u001b[1;32m    773\u001b[0m     \u001b[0;32mdef\u001b[0m \u001b[0m_set\u001b[0m\u001b[0;34m(\u001b[0m\u001b[0mself\u001b[0m\u001b[0;34m,\u001b[0m \u001b[0mi\u001b[0m\u001b[0;34m,\u001b[0m \u001b[0mobj\u001b[0m\u001b[0;34m)\u001b[0m\u001b[0;34m:\u001b[0m\u001b[0;34m\u001b[0m\u001b[0;34m\u001b[0m\u001b[0m\n",
      "\u001b[0;31mNameError\u001b[0m: name 'real_data' is not defined"
     ]
    }
   ],
   "source": [
    "# SVM - all areas at once; + time window\n",
    "times1 = np.arange(0,151,1)\n",
    "times2 = np.arange(30,181,1)\n",
    "times = np.vstack((times1,times2)).T\n",
    "#print (times)\n",
    "res = parmap.map(parallel_svm_multi_time, times, trial_courses_fixed, \n",
    "                 trial_courses_random_fixed,\n",
    "                 pm_processes=4)\n",
    "\n",
    "#print (times)\n",
    "# parallel_svm_multi_time(times[0], trial_courses_fixed, \n",
    "#                         trial_courses_random_fixed)\n",
    "\n",
    "res = np.vstack(res)"
   ]
  },
  {
   "cell_type": "code",
   "execution_count": 22,
   "metadata": {
    "scrolled": true
   },
   "outputs": [
    {
     "name": "stdout",
     "output_type": "stream",
     "text": [
      "times  [ 0 30]\n",
      "times  [10 40]\n",
      "times  [20 50]\n",
      "times  [30 60]\n",
      "done times:  [ 0 30]\n",
      "times  [ 1 31]\n",
      "done times:  [10 40]\n",
      "times  [11 41]\n",
      "done times:  [20 50]\n",
      "times  [21 51]\n",
      "done times:  [30 60]\n",
      "times  [31 61]\n",
      "done times:  [ 1 31]\n",
      "times  [ 2 32]\n",
      "done times:  [11 41]\n",
      "times  [12 42]\n",
      "done times:  [21 51]\n",
      "times  [22 52]\n",
      "done times:  [31 61]\n",
      "times  [32 62]\n",
      "done times:  [ 2 32]\n",
      "times  [ 3 33]\n",
      "done times:  [12 42]\n",
      "times  [13 43]\n",
      "done times:  [22 52]\n",
      "times  [23 53]\n",
      "done times:  [32 62]\n",
      "times  [33 63]\n",
      "done times:  [ 3 33]\n",
      "times  [ 4 34]\n",
      "done times:  [13 43]\n",
      "times  [14 44]\n",
      "done times:  [23 53]\n",
      "times  [24 54]\n",
      "done times:  [33 63]\n",
      "times  [34 64]\n",
      "done times:  [ 4 34]\n",
      "times  [ 5 35]\n",
      "done times:  [14 44]\n",
      "times  [15 45]\n",
      "done times:  [24 54]\n",
      "times  [25 55]\n",
      "done times:  [34 64]\n",
      "times  [35 65]\n",
      "done times:  [ 5 35]\n",
      "times  [ 6 36]\n",
      "done times:  [15 45]\n",
      "times  [16 46]\n",
      "done times:  [25 55]\n",
      "times  [26 56]\n",
      "done times:  [35 65]\n",
      "times  [36 66]\n",
      "done times:  [ 6 36]\n",
      "times  [ 7 37]\n",
      "done times:  [16 46]\n",
      "done times:  [26 56]\n",
      "times  [27 57]\n",
      "times  [17 47]\n",
      "done times:  [36 66]\n",
      "times  [37 67]\n",
      "done times:  [ 7 37]\n",
      "times  [ 8 38]\n",
      "done times:  [27 57]\n",
      "times  [28 58]\n",
      "done times:  [17 47]\n",
      "times  [18 48]\n",
      "done times:  [37 67]\n",
      "times  [38 68]\n",
      "done times:  [ 8 38]\n",
      "times  [ 9 39]\n",
      "done times:  [28 58]\n",
      "times  [29 59]\n",
      "done times:  [18 48]\n",
      "times  [19 49]\n",
      "done times:  [38 68]\n",
      "times  [39 69]\n",
      "done times:  [ 9 39]\n",
      "times  [40 70]\n",
      "done times:  [29 59]\n",
      "done times:  [19 49]\n",
      "times  [50 80]\n",
      "times  [60 90]\n",
      "done times:  [39 69]\n",
      "times  [ 70 100]\n",
      "done times:  [40 70]\n",
      "times  [41 71]\n",
      "done times:  [50 80]\n",
      "times  [51 81]\n",
      "done times:  [60 90]\n",
      "times  [61 91]\n",
      "done times:  [ 70 100]\n",
      "times  [ 71 101]\n",
      "done times:  [41 71]\n",
      "times  [42 72]\n",
      "done times:  [51 81]\n",
      "times  [52 82]\n",
      "done times:  [61 91]\n",
      "times  [62 92]\n",
      "done times:  [ 71 101]\n",
      "times  [ 72 102]\n",
      "done times:  [42 72]\n",
      "times  [43 73]\n",
      "done times:  [52 82]\n",
      "times  [53 83]\n",
      "done times:  [62 92]\n",
      "done times:  [ 72 102]\n",
      "times  [ 73 103]\n",
      "times  [63 93]\n",
      "done times:  [43 73]\n",
      "times  [44 74]\n",
      "done times:  [53 83]\n",
      "times  [54 84]\n",
      "done times:  [ 73 103]\n",
      "times  [ 74 104]\n",
      "done times:  [63 93]\n",
      "times  [64 94]\n",
      "done times:  [44 74]\n",
      "times  [45 75]\n",
      "done times:  [54 84]\n",
      "times  [55 85]\n",
      "done times:  [ 74 104]\n",
      "times  [ 75 105]\n",
      "done times:  [64 94]\n",
      "times  [65 95]\n",
      "done times:  [45 75]\n",
      "times  [46 76]\n",
      "done times:  [55 85]\n",
      "times  [56 86]\n",
      "done times:  [ 75 105]\n",
      "times  [ 76 106]\n",
      "done times:  [65 95]\n",
      "times  [66 96]\n",
      "done times:  [46 76]\n",
      "times  [47 77]\n",
      "done times:  [56 86]\n",
      "times  [57 87]\n",
      "done times:  [ 76 106]\n",
      "times  [ 77 107]\n",
      "done times:  [66 96]\n",
      "times  [67 97]\n",
      "done times:  [47 77]\n",
      "times  [48 78]\n",
      "done times:  [ 77 107]\n",
      "times  [ 78 108]\n",
      "done times:  [57 87]\n",
      "times  [58 88]\n",
      "done times:  [67 97]\n",
      "times  [68 98]\n",
      "done times:  [48 78]\n",
      "times  [49 79]\n",
      "done times:  [ 78 108]\n",
      "times  [ 79 109]\n",
      "done times:  [58 88]\n",
      "times  [59 89]\n",
      "done times:  [68 98]\n",
      "times  [69 99]\n",
      "done times:  [49 79]\n",
      "times  [ 80 110]\n",
      "done times:  [ 79 109]\n",
      "done times:  [59 89]\n",
      "times  [ 90 120]\n",
      "done times:  [69 99]\n",
      "times  [100 130]\n",
      "times  [110 140]\n",
      "done times:  [ 80 110]\n",
      "times  [ 81 111]\n",
      "done times:  [ 90 120]\n",
      "times  [ 91 121]\n",
      "done times:  [100 130]\n",
      "times  [101 131]\n",
      "done times:  [110 140]\n",
      "times  [111 141]\n",
      "done times:  [ 81 111]\n",
      "times  [ 82 112]\n",
      "done times:  [ 91 121]\n",
      "times  [ 92 122]\n",
      "done times:  [101 131]\n",
      "times  [102 132]\n",
      "done times:  [111 141]\n",
      "times  [112 142]\n",
      "done times:  [ 82 112]\n",
      "times  [ 83 113]\n",
      "done times:  [ 92 122]\n",
      "times  [ 93 123]\n",
      "done times:  [102 132]\n",
      "times  [103 133]\n",
      "done times:  [112 142]\n",
      "times  [113 143]\n",
      "done times:  [ 83 113]\n",
      "times  [ 84 114]\n",
      "done times:  [ 93 123]\n",
      "times  [ 94 124]\n",
      "done times:  [103 133]\n",
      "times  [104 134]\n",
      "done times:  [113 143]\n",
      "times  [114 144]\n",
      "done times:  [ 84 114]\n",
      "times  [ 85 115]\n",
      "done times:  [ 94 124]\n",
      "times  [ 95 125]\n",
      "done times:  [104 134]\n",
      "times  [105 135]\n",
      "done times:  [114 144]\n",
      "times  [115 145]\n",
      "done times:  [ 85 115]\n",
      "times  [ 86 116]\n",
      "done times:  [ 95 125]\n",
      "times  [ 96 126]\n",
      "done times:  [105 135]\n",
      "times  [106 136]\n",
      "done times:  [115 145]\n",
      "times  [116 146]\n",
      "done times:  [ 86 116]\n",
      "times  [ 87 117]\n",
      "done times:  [ 96 126]\n",
      "times  [ 97 127]\n",
      "done times:  [106 136]\n",
      "times  [107 137]\n",
      "done times:  [116 146]\n",
      "times  [117 147]\n",
      "done times:  [ 87 117]\n",
      "times  [ 88 118]\n",
      "done times:  [ 97 127]\n",
      "times  [ 98 128]\n",
      "done times:  [107 137]\n",
      "times  [108 138]\n",
      "done times:  [117 147]\n",
      "times  [118 148]\n",
      "done times:  [ 88 118]\n",
      "times  [ 89 119]\n",
      "done times:  [ 98 128]\n",
      "times  [ 99 129]\n",
      "done times:  [108 138]\n",
      "times  [109 139]\n",
      "done times:  [118 148]\n",
      "times  [119 149]\n",
      "done times:  [ 89 119]\n",
      "times  [120 150]\n",
      "done times:  [ 99 129]\n",
      "times  [130 160]\n",
      "done times:  [109 139]\n",
      "done times:  [119 149]\n",
      "times  [140 170]\n",
      "times  [150 180]\n",
      "done times:  [120 150]\n",
      "times  [121 151]\n",
      "done times:  [130 160]\n",
      "times  [131 161]\n",
      "done times:  [140 170]\n",
      "times  [141 171]\n",
      "done times:  [150 180]\n",
      "done times:  [121 151]\n",
      "times  [122 152]\n",
      "done times:  [131 161]\n",
      "times  [132 162]\n",
      "done times:  [141 171]\n",
      "times  [142 172]\n",
      "done times:  [122 152]\n",
      "times  [123 153]\n",
      "done times:  [132 162]\n",
      "times  [133 163]\n",
      "done times:  [142 172]\n",
      "times  [143 173]\n",
      "done times:  [123 153]\n",
      "times  [124 154]\n",
      "done times:  [133 163]\n",
      "times  [134 164]\n",
      "done times:  [143 173]\n",
      "times  [144 174]\n",
      "done times:  [124 154]\n",
      "times  [125 155]\n",
      "done times:  [134 164]\n",
      "times  [135 165]\n",
      "done times:  [144 174]\n",
      "times  [145 175]\n",
      "done times:  [125 155]\n",
      "times  [126 156]\n",
      "done times:  [135 165]\n",
      "times  [136 166]\n",
      "done times:  [145 175]\n",
      "times  [146 176]\n",
      "done times:  [126 156]\n",
      "times  [127 157]\n",
      "done times:  [136 166]\n",
      "times  [137 167]\n",
      "done times:  [146 176]\n",
      "times  [147 177]\n",
      "done times:  [127 157]\n",
      "times  [128 158]\n",
      "done times:  [137 167]\n",
      "times  [138 168]\n",
      "done times:  [147 177]\n",
      "times  [148 178]\n",
      "done times:  [128 158]\n",
      "times  [129 159]\n",
      "done times:  [138 168]\n",
      "times  [139 169]\n",
      "done times:  [148 178]\n",
      "times  [149 179]\n",
      "done times:  [129 159]\n",
      "done times:  [139 169]\n",
      "done times:  [149 179]\n"
     ]
    }
   ],
   "source": [
    "# SVM time window; area specific\n",
    "\n",
    "times1 = np.arange(0,151,1)\n",
    "times2 = np.arange(30,181,1)\n",
    "times = np.vstack((times1,times2)).T\n",
    "\n",
    "areas = np.arange(35)\n",
    "#print (times)\n",
    "res = parmap.map(parallel_svm_multi_time_multi_area, \n",
    "                 times, \n",
    "                 areas,\n",
    "                 trial_courses_fixed, \n",
    "                 trial_courses_random_fixed,\n",
    "                 pm_processes=4)\n",
    "\n",
    "#print (times)\n",
    "# parallel_svm_multi_time(times[0], trial_courses_fixed, \n",
    "#                         trial_courses_random_fixed)\n",
    "\n",
    "res = np.array(res)\n",
    "\n"
   ]
  },
  {
   "cell_type": "code",
   "execution_count": 21,
   "metadata": {},
   "outputs": [],
   "source": [
    "# PLOTS FOR SINGLE AREA / CUMULATIVE AREAS\n",
    "t = np.arange(res.shape[0])/30-3\n",
    "plt.plot(t,res[:,0],c='blue')\n",
    "plt.plot(t,res[:,1],c='red')\n",
    "plt.title(\"Decoding rewarded trials (blue); random trials (red)\"+\n",
    "         \"\\nUsing single 1sec of data (30 frames @30Hz) bins\",fontsize=20)\n",
    "plt.plot([-3,3],[0.5,0.5],'r--',c='black')\n",
    "plt.plot([0,0],[0,1],'r--',c='black')\n",
    "plt.xlabel(\"Time (sec)\",fontsize=20)\n",
    "plt.ylabel(\"Probability (dash=chance)\",fontsize=20)\n",
    "\n",
    "plt.show()\n"
   ]
  },
  {
   "cell_type": "code",
   "execution_count": 67,
   "metadata": {},
   "outputs": [],
   "source": [
    "# PLOTS PER AREA\n",
    "\n",
    "t = np.arange(res.shape[0])/30-3\n",
    "for k in range(35):\n",
    "    ax=plt.subplot(5,7,k+1)\n",
    "# plt.plot(t,real_data,c='blue')\n",
    "    # plt.plot(t,random_data,c='red')\n",
    "    \n",
    "    plt.plot(t,res[:,0,k],c='blue')\n",
    "    plt.plot(t,res[:,1,k],c='red')\n",
    "    plt.plot([-3,3],[0.5,0.5],'r--',c='black')\n",
    "    plt.plot([0,0],[0,1],'r--',c='black')\n",
    "    if k<34:\n",
    "        plt.xticks([])\n",
    "    plt.title(\"Area: \"+str(k))\n",
    "    \n",
    "plt.suptitle(\"Decoding rewarded trials (blue); random trials (red)\"+\n",
    "             \"\\nUsing single 1sec of data (30 frames @30Hz) bins\",fontsize=20)\n",
    "#plt.xlabel(\"Time (sec)\",fontsize=20)\n",
    "#plt.ylabel(\"Probability (dash=chance)\",fontsize=20)\n",
    "\n",
    "plt.show()"
   ]
  },
  {
   "cell_type": "code",
   "execution_count": 28,
   "metadata": {},
   "outputs": [
    {
     "name": "stdout",
     "output_type": "stream",
     "text": [
      "real result:  0.6923076923076923\n",
      "random result:  0.34\n"
     ]
    }
   ],
   "source": [
    "#test_trials_rewarded = trial_courses_fixed[50:, :,time].reshape(50, -1)\n",
    "#model = grid.best_estimator_\n",
    "yfit = model.predict(test_trials)\n",
    "print (\"real result: \", np.sum(yfit)/float(yfit.shape[0]))\n",
    "\n",
    "yfit = model.predict(test_trials_random)\n",
    "print (\"random result: \", np.sum(yfit)/float(yfit.shape[0]))\n",
    "\n",
    "\n"
   ]
  },
  {
   "cell_type": "code",
   "execution_count": 40,
   "metadata": {},
   "outputs": [
    {
     "name": "stdout",
     "output_type": "stream",
     "text": [
      "(63, 720)\n"
     ]
    }
   ],
   "source": [
    "\n",
    "\n",
    "\n"
   ]
  },
  {
   "cell_type": "code",
   "execution_count": 21,
   "metadata": {},
   "outputs": [
    {
     "name": "stdout",
     "output_type": "stream",
     "text": [
      "(156815,) [0.00000000e+00 0.00000000e+00 8.33333333e-03 ... 1.30421401e+03\n",
      " 1.30422234e+03 1.30423067e+03]\n",
      "(156815,) [0. 0. 0. ... 0. 0. 0.]\n",
      "(156815,) [b'0' b'0' b'0' ... b'0' b'0' b'0']\n"
     ]
    }
   ],
   "source": [
    "abstimes = np.load('/media/cat/1TB/data/yuki/iA2/tif_files/IA2pm_Apr22_Week2_30Hz/IA2pm_Apr22_Week2_30Hz_abstimes.npy')\n",
    "abspositions = np.load('/media/cat/1TB/data/yuki/iA2/tif_files/IA2pm_Apr22_Week2_30Hz/IA2pm_Apr22_Week2_30Hz_abspositions.npy')\n",
    "abscodes = np.load('/media/cat/1TB/data/yuki/iA2/tif_files/IA2pm_Apr22_Week2_30Hz/IA2pm_Apr22_Week2_30Hz_abscodes.npy')\n",
    "\n",
    "print (abstimes.shape, abstimes)\n",
    "print (abspositions.shape, abspositions)\n",
    "print (abscodes.shape, abscodes)\n",
    "\n"
   ]
  },
  {
   "cell_type": "code",
   "execution_count": 22,
   "metadata": {
    "collapsed": true
   },
   "outputs": [
    {
     "ename": "NameError",
     "evalue": "name 'lever' is not defined",
     "output_type": "error",
     "traceback": [
      "\u001b[0;31m---------------------------------------------------------------------------\u001b[0m",
      "\u001b[0;31mNameError\u001b[0m                                 Traceback (most recent call last)",
      "\u001b[0;32m<ipython-input-22-0e2aa0206961>\u001b[0m in \u001b[0;36m<module>\u001b[0;34m\u001b[0m\n\u001b[0;32m----> 1\u001b[0;31m \u001b[0mlikelihoods\u001b[0m \u001b[0;34m=\u001b[0m \u001b[0mlever\u001b[0m\u001b[0;34m[\u001b[0m\u001b[0;34m:\u001b[0m\u001b[0;34m,\u001b[0m\u001b[0;36m2\u001b[0m\u001b[0;34m]\u001b[0m\u001b[0;34m\u001b[0m\u001b[0;34m\u001b[0m\u001b[0m\n\u001b[0m\u001b[1;32m      2\u001b[0m \u001b[0;31m# idx = np.where(np.logical_and(likelihoods>0.8, likelihoods<=1.0))[0]\u001b[0m\u001b[0;34m\u001b[0m\u001b[0;34m\u001b[0m\u001b[0;34m\u001b[0m\u001b[0m\n\u001b[1;32m      3\u001b[0m \u001b[0;31m# likelihoods[...]= 0\u001b[0m\u001b[0;34m\u001b[0m\u001b[0;34m\u001b[0m\u001b[0;34m\u001b[0m\u001b[0m\n\u001b[1;32m      4\u001b[0m \u001b[0;31m# likelihoods[idx]=1\u001b[0m\u001b[0;34m\u001b[0m\u001b[0;34m\u001b[0m\u001b[0;34m\u001b[0m\u001b[0m\n\u001b[1;32m      5\u001b[0m \u001b[0mprint\u001b[0m \u001b[0;34m(\u001b[0m\u001b[0mlikelihoods\u001b[0m\u001b[0;34m.\u001b[0m\u001b[0mshape\u001b[0m\u001b[0;34m)\u001b[0m\u001b[0;34m\u001b[0m\u001b[0;34m\u001b[0m\u001b[0m\n",
      "\u001b[0;31mNameError\u001b[0m: name 'lever' is not defined"
     ]
    }
   ],
   "source": [
    "likelihoods = lever[:,2]\n",
    "# idx = np.where(np.logical_and(likelihoods>0.8, likelihoods<=1.0))[0]\n",
    "# likelihoods[...]= 0\n",
    "# likelihoods[idx]=1\n",
    "print (likelihoods.shape)\n",
    "# plt.plot(likelihoods)\n",
    "# plt.show()\n",
    "\n",
    "idx = np.where(likelihoods<0.8)[0]\n",
    "lever[idx,0]=np.median(lever[:,0])\n",
    "lever[idx,1]=np.median(lever[:,1])\n",
    "\n",
    "# blue = np.asarray([(0, 0, 1, a) for a in likelihoods])\n",
    "# print (blue)\n",
    "# red = np.asarray([(1, 0, 0, a) for a in likelihoods])\n",
    "# print (red)\n",
    "\n"
   ]
  },
  {
   "cell_type": "code",
   "execution_count": 27,
   "metadata": {},
   "outputs": [
    {
     "name": "stdout",
     "output_type": "stream",
     "text": [
      "(20028, 3)\n",
      "(20028, 3)\n"
     ]
    }
   ],
   "source": [
    "fig=plt.figure()\n",
    "\n",
    "# plot DLC traces\n",
    "#for k in range(len(traces)):\n",
    "for k in range(2):\n",
    "    print (traces[0].shape)\n",
    "    times = np.arange(traces[k].shape[0])/15.\n",
    "    plt.plot(times, (traces[k][:,0]-np.median(traces[k][:,0]))*3, color=colors[k+1], label=labels[k]+ \" - x loc\")\n",
    "    #plt.plot(times, (traces[k][:,1]-np.median(traces[k][:,1]))*3,'r--', color=colors[k+1], label=labels[k]+ \" - y loc\")\n",
    "\n",
    "abstimes_shifted = abstimes + 3.4\n",
    "plt.plot(abstimes_shifted, abspositions, linewidth=4, c='black', label=\"Lever angle readout\")\n",
    "#print (lever.shape, lever[:,0].shape)\n",
    "\n",
    "plt.legend(fontsize=20)\n",
    "plt.show()"
   ]
  },
  {
   "cell_type": "code",
   "execution_count": null,
   "metadata": {},
   "outputs": [],
   "source": []
  },
  {
   "cell_type": "code",
   "execution_count": null,
   "metadata": {},
   "outputs": [],
   "source": []
  },
  {
   "cell_type": "code",
   "execution_count": null,
   "metadata": {},
   "outputs": [],
   "source": []
  },
  {
   "cell_type": "code",
   "execution_count": null,
   "metadata": {},
   "outputs": [],
   "source": [
    "abstimes = np.load('/media/cat/1TB/data/yuki/iA2/tif_files/IA2pm_Apr22_Week2_30Hz/IA2pm_Apr22_Week2_30Hz_abstimes.npy')\n",
    "abspositions = np.load('/media/cat/1TB/data/yuki/iA2/tif_files/IA2pm_Apr22_Week2_30Hz/IA2pm_Apr22_Week2_30Hz_abspositions.npy')\n",
    "abscodes = np.load('/media/cat/1TB/data/yuki/iA2/tif_files/IA2pm_Apr22_Week2_30Hz/IA2pm_Apr22_Week2_30Hz_abscodes.npy')\n",
    "t=np.arange(-3,3,0.03)\n",
    "plt.plot([t[0], t[-1]], [0,0],c='black')\n",
    "plt.plot([t[0], t[-1]], [11,11],'r--', c='black')\n",
    "plt.plot([t[0], t[-1]], [40,40],'r--',c='black')\n",
    "plt.plot([t[0], t[-1]], [60,60],c='black')\n",
    "plt.ylim(0,100)\n",
    "plt.xlim(t[0],t[-1])\n",
    "plt.show()\n"
   ]
  },
  {
   "cell_type": "code",
   "execution_count": 16,
   "metadata": {},
   "outputs": [
    {
     "name": "stdout",
     "output_type": "stream",
     "text": [
      "(8, 101)\n"
     ]
    }
   ],
   "source": [
    "data = np.load('/media/cat/1TB/data/synthetic/ari_neighbourchans/data_raw_30000hz_300sec_35hz_to_55hz_templates.npy')\n",
    "print (data.shape)"
   ]
  },
  {
   "cell_type": "code",
   "execution_count": 3,
   "metadata": {},
   "outputs": [
    {
     "name": "stdout",
     "output_type": "stream",
     "text": [
      "[  36.087   61.357  134.223  164.28   193.963  242.649  265.94   301.738\n",
      "  369.028  385.685  404.309  422.678  442.256  457.29   472.463  486.833\n",
      "  519.174  539.413  565.878  585.972  603.674  617.642  640.415  670.489\n",
      "  694.3    721.297  732.613  745.254  767.887  786.803  805.025  820.338\n",
      "  838.719  857.344  873.061  892.465  919.244  936.01   955.576 1003.472\n",
      " 1046.316 1063.762 1080.785 1107.414 1132.596 1157.087 1178.643 1216.708\n",
      " 1232.955 1275.676 1292.992 1316.411]\n"
     ]
    }
   ],
   "source": [
    "print (np.load('/media/cat/4TBSSD/data/yuki/iA2/tif_files/IA2pm_Apr22_Week2_30Hz/IA2pm_Apr22_Week2_30Hz_locsrandom.npy'))"
   ]
  },
  {
   "cell_type": "code",
   "execution_count": 28,
   "metadata": {},
   "outputs": [
    {
     "name": "stdout",
     "output_type": "stream",
     "text": [
      "(62, 601, 128, 128)\n"
     ]
    }
   ],
   "source": [
    "data = np.load('/media/cat/4TBSSD/yuki/IA1/tif_files/IA1pm_Feb3_30Hz/IA1pm_Feb3_30Hz_10.0sec_butterworth_globalAverage_0.1hz_6.0hz_04code_singletrials.npy')\n",
    "print (data.shape)"
   ]
  },
  {
   "cell_type": "code",
   "execution_count": 31,
   "metadata": {},
   "outputs": [],
   "source": [
    "plt.imshow(data[0,350])\n",
    "plt.show()"
   ]
  },
  {
   "cell_type": "code",
   "execution_count": 32,
   "metadata": {},
   "outputs": [
    {
     "name": "stdout",
     "output_type": "stream",
     "text": [
      "(39, 35, 601)\n"
     ]
    }
   ],
   "source": [
    "print (trial_courses_random.shape)"
   ]
  },
  {
   "cell_type": "code",
   "execution_count": 9,
   "metadata": {},
   "outputs": [
    {
     "name": "stdout",
     "output_type": "stream",
     "text": [
      "(36, 35, 601)\n"
     ]
    }
   ],
   "source": [
    "import numpy as np\n",
    "data = np.load('/media/cat/4TBSSD/yuki/IA1/tif_files/IA1pm_Mar2_30Hz_data_random_code_trial_timeCourses.npy')\n",
    "print (data.shape)"
   ]
  },
  {
   "cell_type": "code",
   "execution_count": 8,
   "metadata": {},
   "outputs": [
    {
     "data": {
      "image/png": "[encoded data removed]",
      "text/plain": [
       "<Figure size 432x288 with 1 Axes>"
      ]
     },
     "metadata": {
      "needs_background": "light"
     },
     "output_type": "display_data"
    }
   ],
   "source": [
    "data= np.load('/home/cat/maskwarp.npy')\n",
    "import matplotlib.pyplot as plt\n",
    "\n",
    "plt.imshow(data)\n",
    "plt.show()"
   ]
  },
  {
   "cell_type": "code",
   "execution_count": 51,
   "metadata": {},
   "outputs": [
    {
     "name": "stderr",
     "output_type": "stream",
     "text": [
      "/home/cat/.local/lib/python3.8/site-packages/numpy/core/_asarray.py:136: VisibleDeprecationWarning: Creating an ndarray from ragged nested sequences (which is a list-or-tuple of lists-or-tuples-or ndarrays with different lengths or shapes) is deprecated. If you meant to do this, you must specify 'dtype=object' when creating the ndarray\n",
      "  return array(a, dtype, copy=False, order=order, subok=True)\n"
     ]
    }
   ],
   "source": [
    "# MAKE ORDERED .NZP FILES\n",
    "fname_list = '/media/cat/4TBSSD/yuki/time_courses/AQ2_ordered.txt'\n",
    "fnames = np.loadtxt(fname_list,dtype='str')\n",
    "#print (fnames)\n",
    "\n",
    "data_list = []\n",
    "fnames_data_list = []\n",
    "data_random_list = []\n",
    "fnames_data_random_list = []\n",
    "for fname in fnames:\n",
    "    if '04' in fname:\n",
    "        data_list.append(np.load(fname))\n",
    "        fnames_data_list.append(fname)\n",
    "    else:\n",
    "        data_random_list.append(np.load(fname))\n",
    "        fnames_data_random_list.append(fname)\n",
    "\n",
    "np.savez(fname_list[:-4]+'.npz',\n",
    "        data_04_lever_pull = data_list,\n",
    "        data_04_lever_pull_fnames = fnames_data_list,\n",
    "        data_random = data_random_list,\n",
    "        data_random_fnames = fnames_data_random_list)\n"
   ]
  },
  {
   "cell_type": "code",
   "execution_count": 44,
   "metadata": {},
   "outputs": [
    {
     "data": {
      "application/javascript": [
       "IPython.notebook.set_autosave_interval(180000)"
      ]
     },
     "metadata": {},
     "output_type": "display_data"
    },
    {
     "name": "stdout",
     "output_type": "stream",
     "text": [
      "Autosaving every 180 seconds\n"
     ]
    },
    {
     "data": {
      "text/html": [
       "<style>.container { width:100% !important; }</style>"
      ],
      "text/plain": [
       "<IPython.core.display.HTML object>"
      ]
     },
     "metadata": {},
     "output_type": "display_data"
    }
   ],
   "source": [
    "import matplotlib\n",
    "#matplotlib.use('Agg')\n",
    "%matplotlib tk\n",
    "%autosave 180\n",
    "import matplotlib.pyplot as plt\n",
    "from IPython.core.display import display, HTML\n",
    "display(HTML(\"<style>.container { width:100% !important; }</style>\"))\n",
    "import numpy as np\n",
    "import os"
   ]
  },
  {
   "cell_type": "code",
   "execution_count": 54,
   "metadata": {},
   "outputs": [
    {
     "name": "stdout",
     "output_type": "stream",
     "text": [
      "/media/cat/4TBSSD/yuki/time_courses/AR4_ordered.npz  # of sessions:  25\n",
      "/media/cat/4TBSSD/yuki/time_courses/IA1_ordered.npz  # of sessions:  65\n",
      "/media/cat/4TBSSD/yuki/time_courses/IA2_ordered.npz  # of sessions:  40\n",
      "/media/cat/4TBSSD/yuki/time_courses/IA3_ordered.npz  # of sessions:  41\n",
      "/media/cat/4TBSSD/yuki/time_courses/IJ1_ordered.npz  # of sessions:  26\n",
      "/media/cat/4TBSSD/yuki/time_courses/IJ2_ordered.npz  # of sessions:  39\n",
      "/media/cat/4TBSSD/yuki/time_courses/AQ2_ordered.npz  # of sessions:  94\n",
      "total:  330\n"
     ]
    }
   ],
   "source": [
    "all_files = [\n",
    "'/media/cat/4TBSSD/yuki/time_courses/AR4_ordered.npz',\n",
    "'/media/cat/4TBSSD/yuki/time_courses/IA1_ordered.npz',\n",
    "'/media/cat/4TBSSD/yuki/time_courses/IA2_ordered.npz',\n",
    "'/media/cat/4TBSSD/yuki/time_courses/IA3_ordered.npz',\n",
    "'/media/cat/4TBSSD/yuki/time_courses/IJ1_ordered.npz',\n",
    "'/media/cat/4TBSSD/yuki/time_courses/IJ2_ordered.npz',\n",
    "'/media/cat/4TBSSD/yuki/time_courses/AQ2_ordered.npz'\n",
    "]\n",
    "\n",
    "tot = 0\n",
    "for ctr, file_ in enumerate(all_files):\n",
    "    temp = np.load(file_, allow_pickle=True)\n",
    "    #fnames = temp['data_04_lever_pull_fnames']\n",
    "    #print (fnames)\n",
    "    data = temp['data_04_lever_pull']\n",
    "    print (file_, \" # of sessions: \", len(data))\n",
    "    tot+=len(data)\n",
    "    ax=plt.subplot(2,4,ctr+1)\n",
    "    plt.title(os.path.split(file_)[1])\n",
    "    \n",
    "    lengths = []\n",
    "    for k in range(len(data)):\n",
    "        lengths.append(len(data[k]))\n",
    "        #print (data[k].shape)\n",
    "    y = np.histogram(lengths, np.arange(0,400,10))\n",
    "    plt.plot(y[1][:-1],y[0])\n",
    "    plt.ylabel(\"# of sessions\")\n",
    "    plt.xlabel(\"# of trials in sessions\")\n",
    "    plt.xlim(0,200)\n",
    "print (\"total: \", tot)"
   ]
  },
  {
   "cell_type": "code",
   "execution_count": null,
   "metadata": {},
   "outputs": [],
   "source": []
  }
 ],
 "metadata": {
  "kernelspec": {
   "display_name": "Python 3",
   "language": "python",
   "name": "python3"
  },
  "language_info": {
   "codemirror_mode": {
    "name": "ipython",
    "version": 3
   },
   "file_extension": ".py",
   "mimetype": "text/x-python",
   "name": "python",
   "nbconvert_exporter": "python",
   "pygments_lexer": "ipython3",
   "version": "3.8.3"
  }
 },
 "nbformat": 4,
 "nbformat_minor": 4
}
