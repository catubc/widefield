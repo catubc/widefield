{
 "cells": [
  {
   "cell_type": "code",
   "execution_count": 49,
   "metadata": {},
   "outputs": [
    {
     "data": {
      "application/javascript": [
       "IPython.notebook.set_autosave_interval(180000)"
      ]
     },
     "metadata": {},
     "output_type": "display_data"
    },
    {
     "name": "stdout",
     "output_type": "stream",
     "text": [
      "Autosaving every 180 seconds\n"
     ]
    },
    {
     "data": {
      "text/html": [
       "<style>.container { width:100% !important; }</style>"
      ],
      "text/plain": [
       "<IPython.core.display.HTML object>"
      ]
     },
     "metadata": {},
     "output_type": "display_data"
    }
   ],
   "source": [
    "import matplotlib\n",
    "#matplotlib.use('Agg')\n",
    "%matplotlib tk\n",
    "%autosave 180\n",
    "import matplotlib.pyplot as plt\n",
    "from IPython.core.display import display, HTML\n",
    "display(HTML(\"<style>.container { width:100% !important; }</style>\"))\n",
    "import numpy as np\n",
    "\n",
    "# FUNCTION TO COMPUTE DFF\n",
    "import os\n",
    "from utility_classification import sum_pixels_in_registered_mask, fix_trials\n",
    "\n"
   ]
  },
  {
   "cell_type": "code",
   "execution_count": 50,
   "metadata": {},
   "outputs": [],
   "source": [
    "import string, re\n",
    "from scipy.signal import butter, filtfilt, cheby1\n",
    "\n",
    "\n",
    "def make_comparison_movies(data_mean_copy, \n",
    "                           data_mean_filtered_copy,\n",
    "                           name,\n",
    "                           start,\n",
    "                           end,\n",
    "                           fps):\n",
    "    #\n",
    "    import matplotlib.animation as animation\n",
    "    import numpy as np\n",
    "\n",
    "    fname_out = '/home/cat/'+name+'.mp4'\n",
    "\n",
    "    dpi = 100\n",
    "\n",
    "    fig = plt.figure()\n",
    "    ax1 = fig.add_subplot(121)\n",
    "    ax2 = fig.add_subplot(122)\n",
    "\n",
    "    ax1.set_aspect('equal')\n",
    "    ax1.get_xaxis().set_visible(False)\n",
    "    ax1.get_yaxis().set_visible(False)\n",
    "\n",
    "    ax2.set_aspect('equal')\n",
    "    ax2.get_xaxis().set_visible(False)\n",
    "    ax2.get_yaxis().set_visible(False)\n",
    "\n",
    "    vmax1 = np.percentile(data_mean_copy.ravel(),99.5)\n",
    "    vmin1 = -vmax1\n",
    "\n",
    "    vmax2 = np.percentile(data_mean_filtered_copy.ravel(),99.5)\n",
    "    vmin2 = -vmax2\n",
    "\n",
    "\n",
    "    # \n",
    "    #name = \"AQ2 (GCamp6f mouse)\"\n",
    "\n",
    "    # \n",
    "    im1 = ax1.imshow(data_mean_copy[0],\n",
    "                   vmax=vmax1,\n",
    "                   vmin=vmin1,\n",
    "                   cmap='viridis')\n",
    "\n",
    "    im2 = ax2.imshow(data_mean_filtered_copy[0],\n",
    "                   vmax=vmax2,\n",
    "                   vmin=vmin2,\n",
    "                   cmap='viridis')\n",
    "\n",
    "    #plt.suptitle,fontsize=20)\n",
    "    ax1.set_title('Original')\n",
    "    ax2.set_title('Filtered')\n",
    "\n",
    "\n",
    "    def update_img(n):\n",
    "        plt.suptitle(name + \"\\n\"+str( round((start+n)/30.-10.,2)) + \"sec\")\n",
    "        im1.set_data(data_mean_copy[n])\n",
    "        im2.set_data(data_mean_filtered_copy[n])\n",
    "        return im1, im2\n",
    "\n",
    "    #legend(loc=0)\n",
    "    ani = animation.FuncAnimation(fig,\n",
    "                                  update_img,\n",
    "                                  data_mean_copy.shape[0],\n",
    "                                  interval=30)\n",
    "    \n",
    "    writer = animation.writers['ffmpeg'](fps=fps)\n",
    "\n",
    "    ani.save(fname_out,writer=writer,dpi=dpi)\n",
    "    \n",
    "def sigmoid_function(x, a, b):\n",
    "\n",
    "    return np.clip(a*(np.ma.log(x) - np.ma.log(1 - x))+b, 0, 1)      #Compute sigmoid and cut off values below 0 and above 1\n",
    "    \n",
    "    \n",
    "def mangle(width, x, img_temp, maxval, power, val999):\n",
    "    \n",
    "    mu = 0 #Select approximate midline as centre of gaussian\n",
    "    sig = width\n",
    "    \n",
    "    a = .005       #The steepness of the sigmoid function\n",
    "    b = val999        #% of maxval to cutoff\n",
    "\n",
    "\n",
    "    #Normalize img_temp for sigmoid to work properly\n",
    "    #img_temp_norm = (img_temp-np.min(img_temp))/(np.max(img_temp) - np.min(img_temp))\n",
    "    img_temp_norm = (img_temp-np.min(img_temp))/(np.max(img_temp) - np.min(img_temp))\n",
    "\n",
    "\n",
    "    #Original root function\n",
    "    #return -np.exp(-np.power(x - mu, 2.) / (2 * np.power(sig, 2.))) * (abs(pix_val/maxval)**(1./power))\n",
    "    return -np.exp(-np.power(x - mu, 2.) / (2 * np.power(sig, 2.))) * sigmoid_function(img_temp_norm, a, b)\n",
    "\n",
    "\n",
    "# FUNCTION TO MASK\n",
    "def motion_mask_parallel(img_temp, maxval, val999, width, power):\n",
    "    '''Parallel computation of mask\n",
    "    '''\n",
    "   \n",
    "    y_array = []\n",
    "    for x in range(len(img_temp)):\n",
    "        y_array.append(np.arange(0,len(img_temp), 1))\n",
    "        \n",
    "    y_array = np.vstack(y_array)\n",
    "    motion_mask = img_temp*mangle(width, np.abs(64-y_array), img_temp, maxval, power, val999)\n",
    "    \n",
    "                   \n",
    "    motion_mask = (motion_mask-np.min(motion_mask))/(np.max(motion_mask)-np.min(motion_mask))\n",
    "\n",
    "    idx = np.where(motion_mask==0)\n",
    "    motion_mask[idx]=1\n",
    "    \n",
    "    #motion_mask = motion_mask * img_temp\n",
    "        \n",
    "    return motion_mask\n"
   ]
  },
  {
   "cell_type": "code",
   "execution_count": 51,
   "metadata": {
    "scrolled": true
   },
   "outputs": [
    {
     "name": "stdout",
     "output_type": "stream",
     "text": [
      "(27, 601, 128, 128)\n",
      "(601, 128, 128)\n"
     ]
    }
   ],
   "source": [
    "fname_04 = '/media/cat/4TBSSD/yuki/AQ2/tif_files/AQ2pm_Dec16_30Hz/AQ2pm_Dec16_30Hz_code_04_trial_ROItimeCourses_10sec_all_brain.npy'\n",
    "       \n",
    "data = np.load(fname_04)\n",
    "print (data.shape)\n",
    "# compute mean\n",
    "\n",
    "data_mean = data.mean(0)\n",
    "print (data_mean.shape)"
   ]
  },
  {
   "cell_type": "code",
   "execution_count": 62,
   "metadata": {},
   "outputs": [
    {
     "name": "stdout",
     "output_type": "stream",
     "text": [
      "0.05237212893187076 -0.01166658908224142\n"
     ]
    },
    {
     "ename": "FileNotFoundError",
     "evalue": "[Errno 2] No such file or directory: '/media/cat/4TBSSD/yuki/IJ2/gcamp2.txt'",
     "output_type": "error",
     "traceback": [
      "\u001b[0;31m---------------------------------------------------------------------------\u001b[0m",
      "\u001b[0;31mFileNotFoundError\u001b[0m                         Traceback (most recent call last)",
      "\u001b[0;32m<ipython-input-62-4c6e7deecee0>\u001b[0m in \u001b[0;36m<module>\u001b[0;34m\u001b[0m\n\u001b[1;32m      9\u001b[0m \u001b[0;32mimport\u001b[0m \u001b[0myaml\u001b[0m\u001b[0;34m\u001b[0m\u001b[0;34m\u001b[0m\u001b[0m\n\u001b[1;32m     10\u001b[0m \u001b[0;34m\u001b[0m\u001b[0m\n\u001b[0;32m---> 11\u001b[0;31m \u001b[0;32mwith\u001b[0m \u001b[0mopen\u001b[0m\u001b[0;34m(\u001b[0m\u001b[0;34m\"/media/cat/4TBSSD/yuki/IJ2/gcamp2.txt\"\u001b[0m\u001b[0;34m,\u001b[0m \u001b[0;34m'r'\u001b[0m\u001b[0;34m)\u001b[0m \u001b[0;32mas\u001b[0m \u001b[0mf\u001b[0m\u001b[0;34m:\u001b[0m\u001b[0;34m\u001b[0m\u001b[0;34m\u001b[0m\u001b[0m\n\u001b[0m\u001b[1;32m     12\u001b[0m     \u001b[0mvaluesYaml\u001b[0m \u001b[0;34m=\u001b[0m \u001b[0myaml\u001b[0m\u001b[0;34m.\u001b[0m\u001b[0mload\u001b[0m\u001b[0;34m(\u001b[0m\u001b[0mf\u001b[0m\u001b[0;34m,\u001b[0m \u001b[0mLoader\u001b[0m\u001b[0;34m=\u001b[0m\u001b[0myaml\u001b[0m\u001b[0;34m.\u001b[0m\u001b[0mFullLoader\u001b[0m\u001b[0;34m)\u001b[0m\u001b[0;34m\u001b[0m\u001b[0;34m\u001b[0m\u001b[0m\n\u001b[1;32m     13\u001b[0m \u001b[0;34m\u001b[0m\u001b[0m\n",
      "\u001b[0;31mFileNotFoundError\u001b[0m: [Errno 2] No such file or directory: '/media/cat/4TBSSD/yuki/IJ2/gcamp2.txt'"
     ]
    }
   ],
   "source": [
    "#\n",
    "img_temp = data_mean[301]\n",
    "print (np.max(img_temp), np.min(img_temp))\n",
    "maxval = 10  # NOT BEING USED CURRENTLY\n",
    "# val999 = .98\n",
    "# width = 18\n",
    "# power = 1.8\n",
    "\n",
    "import yaml\n",
    "\n",
    "with open(\"/media/cat/4TBSSD/yuki/IJ2/gcamp.txt\", 'r') as f:\n",
    "    valuesYaml = yaml.load(f, Loader=yaml.FullLoader)\n",
    "\n",
    "val999 = valuesYaml['val999']\n",
    "width = valuesYaml['width']\n",
    "power = valuesYaml['power']\n",
    "\n",
    "\n",
    "img_out = motion_mask_parallel(img_temp.copy(), maxval, val999, width, power)\n",
    "\n",
    "# plot\n",
    "fig=plt.figure()\n",
    "plt.suptitle(\"t=0 frame\")\n",
    "ax=plt.subplot(1,2,1)\n",
    "plt.imshow(img_temp)\n",
    "ax=plt.subplot(1,2,2)\n",
    "plt.imshow(img_out*img_temp)\n",
    "plt.show()\n"
   ]
  },
  {
   "cell_type": "code",
   "execution_count": 59,
   "metadata": {},
   "outputs": [
    {
     "name": "stderr",
     "output_type": "stream",
     "text": [
      "100%|██████████| 601/601 [00:00<00:00, 61552.92it/s]\n"
     ]
    }
   ],
   "source": [
    "from tqdm import trange\n",
    "\n",
    "# maxval = 10  # NOT BEING USED CURRENTLY\n",
    "# val999 = .90\n",
    "# width = 18\n",
    "# power = 1.8\n",
    "\n",
    "import yaml\n",
    "\n",
    "with open(\"/media/cat/4TBSSD/yuki/IJ2/gcamp.txt\", 'r') as f:\n",
    "    valuesYaml = yaml.load(f, Loader=yaml.FullLoader)\n",
    "\n",
    "val999 = valuesYaml['val999']\n",
    "width = valuesYaml['width']\n",
    "power = valuesYaml['power']\n",
    "\n",
    "\n",
    "data_mean_filtered = data_mean.copy()\n",
    "temp = motion_mask_parallel(data_mean_filtered[300:315].mean(0), maxval, val999, width, power)\n",
    "#temp = motion_mask_parallel(data_mean_filtered[150:160].mean(0), maxval, val999, width, power)\n",
    "\n",
    "for k in trange(data_mean_filtered.shape[0]):\n",
    "    #data_mean_filtered[k] = motion_mask_parallel(data_mean_filtered[k], maxval, val999, width, power)\n",
    "\n",
    "    data_mean_filtered[k] *=temp\n"
   ]
  },
  {
   "cell_type": "code",
   "execution_count": 60,
   "metadata": {},
   "outputs": [],
   "source": [
    "# \n",
    "\n",
    "name = 'AQ2'\n",
    "\n",
    "start = 200\n",
    "end = start+200\n",
    "fps = 5\n",
    "\n",
    "data_mean_copy = data_mean.copy()[start:end]\n",
    "data_mean_filtered_copy = data_mean_filtered.copy()[start:end]\n",
    "\n",
    "\n",
    "\n",
    "make_comparison_movies(data_mean_copy, \n",
    "                       data_mean_filtered_copy,\n",
    "                      name,\n",
    "                      start,\n",
    "                      end,\n",
    "                      fps)\n"
   ]
  },
  {
   "cell_type": "code",
   "execution_count": 73,
   "metadata": {},
   "outputs": [
    {
     "name": "stdout",
     "output_type": "stream",
     "text": [
      "[b'/media/cat/12TB/in_vivo/tim/yuki/AQ2/tif_files/AQ2am_Dec9_30Hz/AQ2am_Dec9_30Hz.tif'\n",
      " b'/media/cat/12TB/in_vivo/tim/yuki/AQ2/tif_files/AQ2am_Dec10_30Hz/AQ2am_Dec10_30Hz.tif'\n",
      " b'/media/cat/12TB/in_vivo/tim/yuki/AQ2/tif_files/AQ2pm_Dec10_30Hz/AQ2pm_Dec10_30Hz.tif'\n",
      " b'/media/cat/12TB/in_vivo/tim/yuki/AQ2/tif_files/AQ2am_Dec11_30Hz/AQ2am_Dec11_30Hz.tif'\n",
      " b'/media/cat/12TB/in_vivo/tim/yuki/AQ2/tif_files/AQ2pm_Dec14_30Hz/AQ2pm_Dec14_30Hz.tif'\n",
      " b'/media/cat/12TB/in_vivo/tim/yuki/AQ2/tif_files/AQ2am_Dec14_30Hz/AQ2am_Dec14_30Hz.tif'\n",
      " b'/media/cat/12TB/in_vivo/tim/yuki/AQ2/tif_files/AQ2pm_Dec16_30Hz/AQ2pm_Dec16_30Hz.tif'\n",
      " b'/media/cat/12TB/in_vivo/tim/yuki/AQ2/tif_files/AQ2am_Dec17_30Hz/AQ2am_Dec17_30Hz.tif'\n",
      " b'/media/cat/12TB/in_vivo/tim/yuki/AQ2/tif_files/AQ2pm_Dec17_30Hz/AQ2pm_Dec17_30Hz.tif'\n",
      " b'/media/cat/12TB/in_vivo/tim/yuki/AQ2/tif_files/AQ2am_Dec18_30Hz/AQ2am_Dec18_30Hz.tif'\n",
      " b'/media/cat/12TB/in_vivo/tim/yuki/AQ2/tif_files/AQ2pm_Dec18_30Hz/AQ2pm_Dec18_30Hz.tif'\n",
      " b'/media/cat/12TB/in_vivo/tim/yuki/AQ2/tif_files/AQ2am_Dec21_30Hz/AQ2am_Dec21_30Hz.tif'\n",
      " b'/media/cat/12TB/in_vivo/tim/yuki/AQ2/tif_files/AQ2am_Dec22_30Hz/AQ2am_Dec22_30Hz.tif'\n",
      " b'/media/cat/12TB/in_vivo/tim/yuki/AQ2/tif_files/AQ2am_Dec23_30Hz/AQ2am_Dec23_30Hz.tif'\n",
      " b'/media/cat/12TB/in_vivo/tim/yuki/AQ2/tif_files/AQ2am_Dec28_30Hz/AQ2am_Dec28_30Hz.tif'\n",
      " b'/media/cat/12TB/in_vivo/tim/yuki/AQ2/tif_files/AQ2am_Dec29_30Hz/AQ2am_Dec29_30Hz.tif'\n",
      " b'/media/cat/12TB/in_vivo/tim/yuki/AQ2/tif_files/AQ2am_Dec30_30Hz/AQ2am_Dec30_30Hz.tif'\n",
      " b'/media/cat/12TB/in_vivo/tim/yuki/AQ2/tif_files/AQ2am_Dec31_30Hz/AQ2am_Dec31_30Hz.tif'\n",
      " b'/media/cat/12TB/in_vivo/tim/yuki/AQ2/tif_files/AQ2am_Jan4_30Hz/AQ2am_Jan4_30Hz.tif'\n",
      " b'/media/cat/12TB/in_vivo/tim/yuki/AQ2/tif_files/AQ2am_Jan5_30Hz/AQ2am_Jan5_30Hz.tif'\n",
      " b'/media/cat/12TB/in_vivo/tim/yuki/AQ2/tif_files/AQ2am_Jan6_30Hz/AQ2am_Jan6_30Hz.tif'\n",
      " b'/media/cat/12TB/in_vivo/tim/yuki/AQ2/tif_files/AQ2am_Jan7_30Hz/AQ2am_Jan7_30Hz.tif'\n",
      " b'/media/cat/12TB/in_vivo/tim/yuki/AQ2/tif_files/AQ2am_Jan8_30Hz/AQ2am_Jan8_30Hz.tif'\n",
      " b'/media/cat/12TB/in_vivo/tim/yuki/AQ2/tif_files/AQ2pm_Jan11_30Hz/AQ2pm_Jan11_30Hz.tif'\n",
      " b'/media/cat/12TB/in_vivo/tim/yuki/AQ2/tif_files/AQ2am_Jan11_30Hz/AQ2am_Jan11_30Hz.tif'\n",
      " b'/media/cat/12TB/in_vivo/tim/yuki/AQ2/tif_files/AQ2pm_Jan12_30Hz/AQ2pm_Jan12_30Hz.tif'\n",
      " b'/media/cat/12TB/in_vivo/tim/yuki/AQ2/tif_files/AQ2am_Jan12_30Hz/AQ2am_Jan12_30Hz.tif'\n",
      " b'/media/cat/12TB/in_vivo/tim/yuki/AQ2/tif_files/AQ2pm_Jan13_30Hz/AQ2pm_Jan13_30Hz.tif'\n",
      " b'/media/cat/12TB/in_vivo/tim/yuki/AQ2/tif_files/AQ2am_Jan13_30Hz/AQ2am_Jan13_30Hz.tif'\n",
      " b'/media/cat/12TB/in_vivo/tim/yuki/AQ2/tif_files/AQ2pm_Jan14_30Hz/AQ2pm_Jan14_30Hz.tif'\n",
      " b'/media/cat/12TB/in_vivo/tim/yuki/AQ2/tif_files/AQ2am_Jan14_30Hz/AQ2am_Jan14_30Hz.tif'\n",
      " b'/media/cat/12TB/in_vivo/tim/yuki/AQ2/tif_files/AQ2am_Jan15_30Hz/AQ2am_Jan15_30Hz.tif'\n",
      " b'/media/cat/12TB/in_vivo/tim/yuki/AQ2/tif_files/AQ2pm_Jan15_30Hz/AQ2pm_Jan15_30Hz.tif'\n",
      " b'/media/cat/12TB/in_vivo/tim/yuki/AQ2/tif_files/AQ2pm_Jan18_30Hz/AQ2pm_Jan18_30Hz.tif'\n",
      " b'/media/cat/12TB/in_vivo/tim/yuki/AQ2/tif_files/AQ2am_Jan18_30Hz/AQ2am_Jan18_30Hz.tif'\n",
      " b'/media/cat/12TB/in_vivo/tim/yuki/AQ2/tif_files/AQ2am_Jan19_30Hz/AQ2am_Jan19_30Hz.tif'\n",
      " b'/media/cat/12TB/in_vivo/tim/yuki/AQ2/tif_files/AQ2pm_Jan19_30Hz/AQ2pm_Jan19_30Hz.tif'\n",
      " b'/media/cat/12TB/in_vivo/tim/yuki/AQ2/tif_files/AQ2pm_Jan20_30Hz/AQ2pm_Jan20_30Hz.tif'\n",
      " b'/media/cat/12TB/in_vivo/tim/yuki/AQ2/tif_files/AQ2am_Jan20_30Hz/AQ2am_Jan20_30Hz.tif'\n",
      " b'/media/cat/12TB/in_vivo/tim/yuki/AQ2/tif_files/AQ2pm_Jan21_30Hz/AQ2pm_Jan21_30Hz.tif'\n",
      " b'/media/cat/12TB/in_vivo/tim/yuki/AQ2/tif_files/AQ2am_Jan21_30Hz/AQ2am_Jan21_30Hz.tif'\n",
      " b'/media/cat/12TB/in_vivo/tim/yuki/AQ2/tif_files/AQ2pm_Jan22_30Hz/AQ2pm_Jan22_30Hz.tif'\n",
      " b'/media/cat/12TB/in_vivo/tim/yuki/AQ2/tif_files/AQ2am_Jan22_30Hz/AQ2am_Jan22_30Hz.tif'\n",
      " b'/media/cat/12TB/in_vivo/tim/yuki/AQ2/tif_files/AQ2am_Jan25_30Hz/AQ2am_Jan25_30Hz.tif'\n",
      " b'/media/cat/12TB/in_vivo/tim/yuki/AQ2/tif_files/AQ2pm_Jan25_30Hz/AQ2pm_Jan25_30Hz.tif'\n",
      " b'/media/cat/12TB/in_vivo/tim/yuki/AQ2/tif_files/AQ2pm_Jan26_30Hz/AQ2pm_Jan26_30Hz.tif'\n",
      " b'/media/cat/12TB/in_vivo/tim/yuki/AQ2/tif_files/AQ2am_Jan26_30Hz/AQ2am_Jan26_30Hz.tif'\n",
      " b'/media/cat/12TB/in_vivo/tim/yuki/AQ2/tif_files/AQ2am_Jan27_30Hz/AQ2am_Jan27_30Hz.tif'\n",
      " b'/media/cat/12TB/in_vivo/tim/yuki/AQ2/tif_files/AQ2pm_Jan27_30Hz/AQ2pm_Jan27_30Hz.tif'\n",
      " b'/media/cat/12TB/in_vivo/tim/yuki/AQ2/tif_files/AQ2am_Jan28_30Hz/AQ2am_Jan28_30Hz.tif'\n",
      " b'/media/cat/12TB/in_vivo/tim/yuki/AQ2/tif_files/AQ2pm_Jan28_30Hz/AQ2pm_Jan28_30Hz.tif'\n",
      " b'/media/cat/12TB/in_vivo/tim/yuki/AQ2/tif_files/AQ2am_Jan29_30Hz/AQ2am_Jan29_30Hz.tif'\n",
      " b'/media/cat/12TB/in_vivo/tim/yuki/AQ2/tif_files/AQ2pm_Jan29_30Hz/AQ2pm_Jan29_30Hz.tif'\n",
      " b'/media/cat/12TB/in_vivo/tim/yuki/AQ2/tif_files/AQ2am_Feb2_30Hz/AQ2am_Feb2_30Hz.tif'\n",
      " b'/media/cat/12TB/in_vivo/tim/yuki/AQ2/tif_files/AQ2am_Feb3_30Hz/AQ2am_Feb3_30Hz.tif'\n",
      " b'/media/cat/12TB/in_vivo/tim/yuki/AQ2/tif_files/AQ2am_Feb4_30Hz/AQ2am_Feb4_30Hz.tif'\n",
      " b'/media/cat/12TB/in_vivo/tim/yuki/AQ2/tif_files/AQ2am_Feb5_30Hz/AQ2am_Feb5_30Hz.tif'\n",
      " b'/media/cat/12TB/in_vivo/tim/yuki/AQ2/tif_files/AQ2am_Feb9_30Hz/AQ2am_Feb9_30Hz.tif'\n",
      " b'/media/cat/12TB/in_vivo/tim/yuki/AQ2/tif_files/AQ2am_Feb10_30Hz/AQ2am_Feb10_30Hz.tif'\n",
      " b'/media/cat/12TB/in_vivo/tim/yuki/AQ2/tif_files/AQ2am_Feb11_30Hz/AQ2am_Feb11_30Hz.tif'\n",
      " b'/media/cat/12TB/in_vivo/tim/yuki/AQ2/tif_files/AQ2am_Feb12_30Hz/AQ2am_Feb12_30Hz.tif'\n",
      " b'/media/cat/12TB/in_vivo/tim/yuki/AQ2/tif_files/AQ2am_Feb15_30Hz/AQ2am_Feb15_30Hz.tif'\n",
      " b'/media/cat/12TB/in_vivo/tim/yuki/AQ2/tif_files/AQ2am_Feb16_30Hz/AQ2am_Feb16_30Hz.tif'\n",
      " b'/media/cat/12TB/in_vivo/tim/yuki/AQ2/tif_files/AQ2am_Feb17_30Hz/AQ2am_Feb17_30Hz.tif'\n",
      " b'/media/cat/12TB/in_vivo/tim/yuki/AQ2/tif_files/AQ2am_Feb18_30Hz/AQ2am_Feb18_30Hz.tif'\n",
      " b'/media/cat/12TB/in_vivo/tim/yuki/AQ2/tif_files/AQ2am_Feb19_30Hz/AQ2am_Feb19_30Hz.tif'\n",
      " b'/media/cat/12TB/in_vivo/tim/yuki/AQ2/tif_files/AQ2am_Feb22_30Hz/AQ2am_Feb22_30Hz.tif'\n",
      " b'/media/cat/12TB/in_vivo/tim/yuki/AQ2/tif_files/AQ2am_Feb23_30Hz/AQ2am_Feb23_30Hz.tif'\n",
      " b'/media/cat/12TB/in_vivo/tim/yuki/AQ2/tif_files/AQ2am_Feb25_30Hz/AQ2am_Feb25_30Hz.tif'\n",
      " b'/media/cat/12TB/in_vivo/tim/yuki/AQ2/tif_files/AQ2am_Feb26_30Hz/AQ2am_Feb26_30Hz.tif'\n",
      " b'/media/cat/12TB/in_vivo/tim/yuki/AQ2/tif_files/AQ2am_Feb29_30Hz/AQ2am_Feb29_30Hz.tif'\n",
      " b'/media/cat/12TB/in_vivo/tim/yuki/AQ2/tif_files/AQ2am_Mar1_30Hz/AQ2am_Mar1_30Hz.tif'\n",
      " b'/media/cat/12TB/in_vivo/tim/yuki/AQ2/tif_files/AQ2am_Mar2_30Hz/AQ2am_Mar2_30Hz.tif'\n",
      " b'/media/cat/12TB/in_vivo/tim/yuki/AQ2/tif_files/AQ2am_Mar3_30Hz/AQ2am_Mar3_30Hz.tif'\n",
      " b'/media/cat/12TB/in_vivo/tim/yuki/AQ2/tif_files/AQ2pm_Mar7_Day3_30Hz/AQ2pm_Mar7_Day3_30Hz.tif'\n",
      " b'/media/cat/12TB/in_vivo/tim/yuki/AQ2/tif_files/AQ2pm_Mar9_Day5_30Hz/AQ2pm_Mar9_Day5_30Hz.tif'\n",
      " b'/media/cat/12TB/in_vivo/tim/yuki/AQ2/tif_files/AQ2pm_Mar11_Day7_30Hz/AQ2pm_Mar11_Day7_30Hz.tif'\n",
      " b'/media/cat/12TB/in_vivo/tim/yuki/AQ2/tif_files/AQ2am_Mar14_Week2_30Hz/AQ2am_Mar14_Week2_30Hz.tif'\n",
      " b'/media/cat/12TB/in_vivo/tim/yuki/AQ2/tif_files/AQ2pm_Mar15_Week2_30Hz/AQ2pm_Mar15_Week2_30Hz.tif'\n",
      " b'/media/cat/12TB/in_vivo/tim/yuki/AQ2/tif_files/AQ2am_Mar16_Week2_30Hz/AQ2am_Mar16_Week2_30Hz.tif'\n",
      " b'/media/cat/12TB/in_vivo/tim/yuki/AQ2/tif_files/AQ2am_Mar17_Week2_30Hz/AQ2am_Mar17_Week2_30Hz.tif'\n",
      " b'/media/cat/12TB/in_vivo/tim/yuki/AQ2/tif_files/AQ2am_Mar18_Week2_30Hz/AQ2am_Mar18_Week2_30Hz.tif'\n",
      " b'/media/cat/12TB/in_vivo/tim/yuki/AQ2/tif_files/AQ2am_Mar21_Week3_30Hz/AQ2am_Mar21_Week3_30Hz.tif'\n",
      " b'/media/cat/12TB/in_vivo/tim/yuki/AQ2/tif_files/AQ2am_Mar22_Week3_30Hz/AQ2am_Mar22_Week3_30Hz.tif'\n",
      " b'/media/cat/12TB/in_vivo/tim/yuki/AQ2/tif_files/AQ2am_Mar23_Week3_30Hz/AQ2am_Mar23_Week3_30Hz.tif'\n",
      " b'/media/cat/12TB/in_vivo/tim/yuki/AQ2/tif_files/AQ2am_Mar24_Week3_30Hz/AQ2am_Mar24_Week3_30Hz.tif'\n",
      " b'/media/cat/12TB/in_vivo/tim/yuki/AQ2/tif_files/AQ2am_Mar29_Week4_30Hz/AQ2am_Mar29_Week4_30Hz.tif'\n",
      " b'/media/cat/12TB/in_vivo/tim/yuki/AQ2/tif_files/AQ2am_Mar30_Week4_30Hz/AQ2am_Mar30_Week4_30Hz.tif'\n",
      " b'/media/cat/12TB/in_vivo/tim/yuki/AQ2/tif_files/AQ2am_Mar31_Week4_30Hz/AQ2am_Mar31_Week4_30Hz.tif'\n",
      " b'/media/cat/12TB/in_vivo/tim/yuki/AQ2/tif_files/AQ2am_Apr1_Week4_30Hz/AQ2am_Apr1_Week4_30Hz.tif'\n",
      " b'/media/cat/12TB/in_vivo/tim/yuki/AQ2/tif_files/AQ2am_Apr4_Week5_30Hz/AQ2am_Apr4_Week5_30Hz.tif'\n",
      " b'/media/cat/12TB/in_vivo/tim/yuki/AQ2/tif_files/AQ2am_Apr5_Week5_30Hz/AQ2am_Apr5_Week5_30Hz.tif'\n",
      " b'/media/cat/12TB/in_vivo/tim/yuki/AQ2/tif_files/AQ2am_Apr6_Week5_30Hz/AQ2am_Apr6_Week5_30Hz.tif'\n",
      " b'/media/cat/12TB/in_vivo/tim/yuki/AQ2/tif_files/AQ2am_Apr7_Week5_30Hz/AQ2am_Apr7_Week5_30Hz.tif'\n",
      " b'/media/cat/12TB/in_vivo/tim/yuki/AQ2/tif_files/AQ2am_Apr8_Week5_30Hz/AQ2am_Apr8_Week5_30Hz.tif'\n",
      " b'/media/cat/12TB/in_vivo/tim/yuki/AQ2/tif_files/AQ2am_Apr11_Week6_30Hz/AQ2am_Apr11_Week6_30Hz.tif'\n",
      " b'/media/cat/12TB/in_vivo/tim/yuki/AQ2/tif_files/AQ2am_Apr12_Week6_30Hz/AQ2am_Apr12_Week6_30Hz.tif'\n",
      " b'/media/cat/12TB/in_vivo/tim/yuki/AQ2/tif_files/AQ2am_Apr13_Week6_30Hz/AQ2am_Apr13_Week6_30Hz.tif'\n",
      " b'/media/cat/12TB/in_vivo/tim/yuki/AQ2/tif_files/AQ2am_Apr14_Week6_30Hz/AQ2am_Apr14_Week6_30Hz.tif'\n",
      " b'/media/cat/12TB/in_vivo/tim/yuki/AQ2/tif_files/AQ2am_Apr15_Week6_30Hz/AQ2am_Apr15_Week6_30Hz.tif'\n",
      " b'/media/cat/12TB/in_vivo/tim/yuki/AQ2/tif_files/AQ2am_Apr18_Week7_30Hz/AQ2am_Apr18_Week7_30Hz.tif'\n",
      " b'/media/cat/12TB/in_vivo/tim/yuki/AQ2/tif_files/AQ2am_Apr19_Week7_30Hz/AQ2am_Apr19_Week7_30Hz.tif'\n",
      " b'/media/cat/12TB/in_vivo/tim/yuki/AQ2/tif_files/AQ2am_Apr20_Week7_30Hz/AQ2am_Apr20_Week7_30Hz.tif'\n",
      " b'/media/cat/12TB/in_vivo/tim/yuki/AQ2/tif_files/AQ2am_Apr21_Week7_30Hz/AQ2am_Apr21_Week7_30Hz.tif'\n",
      " b'/media/cat/12TB/in_vivo/tim/yuki/AQ2/tif_files/AQ2am_Apr22_Week7_30Hz/AQ2am_Apr22_Week7_30Hz.tif'\n",
      " b'/media/cat/12TB/in_vivo/tim/yuki/AQ2/tif_files/AQ2am_Apr25_Week8_30Hz/AQ2am_Apr25_Week8_30Hz.tif'\n",
      " b'/media/cat/12TB/in_vivo/tim/yuki/AQ2/tif_files/AQ2am_Apr26_Week8_30Hz/AQ2am_Apr26_Week8_30Hz.tif'\n",
      " b'/media/cat/12TB/in_vivo/tim/yuki/AQ2/tif_files/AQ2am_Apr27_Week8_30Hz/AQ2am_Apr27_Week8_30Hz.tif'\n",
      " b'/media/cat/12TB/in_vivo/tim/yuki/AQ2/tif_files/AQ2am_Apr28_Week8_30Hz/AQ2am_Apr28_Week8_30Hz.tif'\n",
      " b'/media/cat/12TB/in_vivo/tim/yuki/AQ2/tif_files/AQ2am_Apr29_Week8_30Hz/AQ2am_Apr29_Week8_30Hz.tif']\n"
     ]
    }
   ],
   "source": [
    "fname = '/media/cat/4TBSSD/yuki/AQ2/tif_files.npy'\n",
    "data1 = np.load(fname)\n",
    "print (data1)\n",
    "# np.save(fname[:-4]+\"_old.npy\", data1)\n",
    "\n",
    "# np.save(fname, data1[:44])\n"
   ]
  },
  {
   "cell_type": "code",
   "execution_count": 67,
   "metadata": {},
   "outputs": [],
   "source": [
    "plt.plot(data1.mean(0).T, c='blue')\n",
    "plt.plot(data2.mean(0).T, c= 'red')\n",
    "plt.show()\n",
    "         "
   ]
  },
  {
   "cell_type": "code",
   "execution_count": null,
   "metadata": {},
   "outputs": [],
   "source": [
    "# RECOMPUTE DFF ON MASKED DATA\n",
    "\n",
    "if os.path.exists(fname_04_data_stm)==False:\n",
    "    # CALL FUNCTION;\n",
    "    data_stm = compute_DFF_function(\n",
    "                            root_dir,\n",
    "                            dff_method, # 'globalAverage' or 'slidingWindow'\n",
    "                            recording,\n",
    "                            locs_selected,\n",
    "                            n_sec_window\n",
    "                            )\n",
    "    if data_stm is None:\n",
    "        print (\"data_stm is None\", recording)\n",
    "        return np.zeros((0), 'float32'), np.zeros((0), 'float32') \n",
    "\n",
    "    # SAVE data_stm stack\n",
    "    np.save(fname_04_data_stm, data_stm)"
   ]
  },
  {
   "cell_type": "code",
   "execution_count": null,
   "metadata": {},
   "outputs": [],
   "source": []
  },
  {
   "cell_type": "code",
   "execution_count": null,
   "metadata": {},
   "outputs": [],
   "source": []
  },
  {
   "cell_type": "code",
   "execution_count": null,
   "metadata": {},
   "outputs": [],
   "source": []
  },
  {
   "cell_type": "code",
   "execution_count": 7,
   "metadata": {
    "scrolled": true
   },
   "outputs": [
    {
     "name": "stderr",
     "output_type": "stream",
     "text": [
      "\r",
      "  0%|          | 0/44 [00:00<?, ?it/s]"
     ]
    },
    {
     "name": "stdout",
     "output_type": "stream",
     "text": [
      "PROCESSING:  IA2\n",
      "recording:  IA2pm_Feb1_30Hz\n"
     ]
    },
    {
     "name": "stderr",
     "output_type": "stream",
     "text": [
      "\r",
      "  2%|▏         | 1/44 [00:06<04:23,  6.13s/it]"
     ]
    },
    {
     "name": "stdout",
     "output_type": "stream",
     "text": [
      "recording:  IA2pm_Feb2_30Hz\n"
     ]
    },
    {
     "name": "stderr",
     "output_type": "stream",
     "text": [
      "\r",
      "  5%|▍         | 2/44 [00:14<04:42,  6.74s/it]"
     ]
    },
    {
     "name": "stdout",
     "output_type": "stream",
     "text": [
      "recording:  IA2pm_Feb3_30Hz\n"
     ]
    },
    {
     "name": "stderr",
     "output_type": "stream",
     "text": [
      "\r",
      "  7%|▋         | 3/44 [00:44<09:22, 13.73s/it]"
     ]
    },
    {
     "name": "stdout",
     "output_type": "stream",
     "text": [
      "recording:  IA2pm_Feb4_30Hz\n"
     ]
    },
    {
     "name": "stderr",
     "output_type": "stream",
     "text": [
      "  7%|▋         | 3/44 [01:01<13:54, 20.35s/it]\n"
     ]
    },
    {
     "ename": "KeyboardInterrupt",
     "evalue": "",
     "output_type": "error",
     "traceback": [
      "\u001b[0;31m---------------------------------------------------------------------------\u001b[0m",
      "\u001b[0;31mKeyboardInterrupt\u001b[0m                         Traceback (most recent call last)",
      "\u001b[0;32m<ipython-input-7-c0d48d4dc2aa>\u001b[0m in \u001b[0;36m<module>\u001b[0;34m\u001b[0m\n\u001b[1;32m     39\u001b[0m         \u001b[0;32mfor\u001b[0m \u001b[0mrecording\u001b[0m \u001b[0;32min\u001b[0m \u001b[0mtqdm\u001b[0m\u001b[0;34m(\u001b[0m\u001b[0mrecordings\u001b[0m\u001b[0;34m)\u001b[0m\u001b[0;34m:\u001b[0m\u001b[0;34m\u001b[0m\u001b[0;34m\u001b[0m\u001b[0m\n\u001b[1;32m     40\u001b[0m             \u001b[0mprint\u001b[0m \u001b[0;34m(\u001b[0m\u001b[0;34m\"recording: \"\u001b[0m\u001b[0;34m,\u001b[0m \u001b[0mrecording\u001b[0m\u001b[0;34m)\u001b[0m\u001b[0;34m\u001b[0m\u001b[0;34m\u001b[0m\u001b[0m\n\u001b[0;32m---> 41\u001b[0;31m             res.append(compute_trial_courses_ROI_code04_trigger(recording,\n\u001b[0m\u001b[1;32m     42\u001b[0m                                                                 \u001b[0mroot_dir\u001b[0m\u001b[0;34m,\u001b[0m\u001b[0;34m\u001b[0m\u001b[0;34m\u001b[0m\u001b[0m\n\u001b[1;32m     43\u001b[0m                                                                 \u001b[0mfeature_name\u001b[0m\u001b[0;34m,\u001b[0m\u001b[0;34m\u001b[0m\u001b[0;34m\u001b[0m\u001b[0m\n",
      "\u001b[0;32m<ipython-input-4-ebf1b5c946dc>\u001b[0m in \u001b[0;36mcompute_trial_courses_ROI_code04_trigger\u001b[0;34m(recording, root_dir, feature_name, lockout_window, n_sec_window)\u001b[0m\n\u001b[1;32m    570\u001b[0m \u001b[0;34m\u001b[0m\u001b[0m\n\u001b[1;32m    571\u001b[0m     \u001b[0;31m#if os.path.exists(fname_04)==False:\u001b[0m\u001b[0;34m\u001b[0m\u001b[0;34m\u001b[0m\u001b[0;34m\u001b[0m\u001b[0m\n\u001b[0;32m--> 572\u001b[0;31m     dff1, dff1_random = generate_arrays_ROI_triggered(root_dir,\n\u001b[0m\u001b[1;32m    573\u001b[0m                                                          \u001b[0mdff_method\u001b[0m\u001b[0;34m,\u001b[0m\u001b[0;34m\u001b[0m\u001b[0;34m\u001b[0m\u001b[0m\n\u001b[1;32m    574\u001b[0m                                                          \u001b[0mrecording\u001b[0m\u001b[0;34m,\u001b[0m\u001b[0;34m\u001b[0m\u001b[0;34m\u001b[0m\u001b[0m\n",
      "\u001b[0;32m<ipython-input-4-ebf1b5c946dc>\u001b[0m in \u001b[0;36mgenerate_arrays_ROI_triggered\u001b[0;34m(root_dir, dff_method, recording, locs_selected, n_sec_window, fname_04, fname_random)\u001b[0m\n\u001b[1;32m    667\u001b[0m         \u001b[0;31m# accumulate mean activity in each ROI\u001b[0m\u001b[0;34m\u001b[0m\u001b[0;34m\u001b[0m\u001b[0;34m\u001b[0m\u001b[0m\n\u001b[1;32m    668\u001b[0m         \u001b[0;31m# input data shape: [# trials, # times, width, height]\u001b[0m\u001b[0;34m\u001b[0m\u001b[0;34m\u001b[0m\u001b[0;34m\u001b[0m\u001b[0m\n\u001b[0;32m--> 669\u001b[0;31m         \u001b[0marea_ids\u001b[0m\u001b[0;34m,\u001b[0m \u001b[0mtrial_courses\u001b[0m \u001b[0;34m=\u001b[0m \u001b[0msum_pixels_in_registered_mask\u001b[0m\u001b[0;34m(\u001b[0m\u001b[0mdata_stm\u001b[0m\u001b[0;34m,\u001b[0m \u001b[0mmaskwarp\u001b[0m\u001b[0;34m)\u001b[0m\u001b[0;34m\u001b[0m\u001b[0;34m\u001b[0m\u001b[0m\n\u001b[0m\u001b[1;32m    670\u001b[0m \u001b[0;34m\u001b[0m\u001b[0m\n\u001b[1;32m    671\u001b[0m         \u001b[0;31m# generate random time corses\u001b[0m\u001b[0;34m\u001b[0m\u001b[0;34m\u001b[0m\u001b[0;34m\u001b[0m\u001b[0m\n",
      "\u001b[0;32m~/code/self_initiated_paper/utility_classification.py\u001b[0m in \u001b[0;36msum_pixels_in_registered_mask\u001b[0;34m(data, maskwarp)\u001b[0m\n\u001b[1;32m    116\u001b[0m \u001b[0;34m\u001b[0m\u001b[0m\n\u001b[1;32m    117\u001b[0m                 \u001b[0;31m# save average of all pixesl post DFF\u001b[0m\u001b[0;34m\u001b[0m\u001b[0;34m\u001b[0m\u001b[0;34m\u001b[0m\u001b[0m\n\u001b[0;32m--> 118\u001b[0;31m                 \u001b[0mtime_courses_local\u001b[0m\u001b[0;34m.\u001b[0m\u001b[0mappend\u001b[0m\u001b[0;34m(\u001b[0m\u001b[0mnp\u001b[0m\u001b[0;34m.\u001b[0m\u001b[0mnanmean\u001b[0m\u001b[0;34m(\u001b[0m\u001b[0mdFF\u001b[0m\u001b[0;34m,\u001b[0m \u001b[0maxis\u001b[0m\u001b[0;34m=\u001b[0m\u001b[0;36m1\u001b[0m\u001b[0;34m)\u001b[0m\u001b[0;34m)\u001b[0m\u001b[0;34m\u001b[0m\u001b[0;34m\u001b[0m\u001b[0m\n\u001b[0m\u001b[1;32m    119\u001b[0m \u001b[0;34m\u001b[0m\u001b[0m\n\u001b[1;32m    120\u001b[0m             \u001b[0;31m#all_times.append(time_courses_local)\u001b[0m\u001b[0;34m\u001b[0m\u001b[0;34m\u001b[0m\u001b[0;34m\u001b[0m\u001b[0m\n",
      "\u001b[0;32m<__array_function__ internals>\u001b[0m in \u001b[0;36mnanmean\u001b[0;34m(*args, **kwargs)\u001b[0m\n",
      "\u001b[0;32m~/.local/lib/python3.8/site-packages/numpy/lib/nanfunctions.py\u001b[0m in \u001b[0;36mnanmean\u001b[0;34m(a, axis, dtype, out, keepdims)\u001b[0m\n\u001b[1;32m    946\u001b[0m         \u001b[0;32mraise\u001b[0m \u001b[0mTypeError\u001b[0m\u001b[0;34m(\u001b[0m\u001b[0;34m\"If a is inexact, then out must be inexact\"\u001b[0m\u001b[0;34m)\u001b[0m\u001b[0;34m\u001b[0m\u001b[0;34m\u001b[0m\u001b[0m\n\u001b[1;32m    947\u001b[0m \u001b[0;34m\u001b[0m\u001b[0m\n\u001b[0;32m--> 948\u001b[0;31m     \u001b[0mcnt\u001b[0m \u001b[0;34m=\u001b[0m \u001b[0mnp\u001b[0m\u001b[0;34m.\u001b[0m\u001b[0msum\u001b[0m\u001b[0;34m(\u001b[0m\u001b[0;34m~\u001b[0m\u001b[0mmask\u001b[0m\u001b[0;34m,\u001b[0m \u001b[0maxis\u001b[0m\u001b[0;34m=\u001b[0m\u001b[0maxis\u001b[0m\u001b[0;34m,\u001b[0m \u001b[0mdtype\u001b[0m\u001b[0;34m=\u001b[0m\u001b[0mnp\u001b[0m\u001b[0;34m.\u001b[0m\u001b[0mintp\u001b[0m\u001b[0;34m,\u001b[0m \u001b[0mkeepdims\u001b[0m\u001b[0;34m=\u001b[0m\u001b[0mkeepdims\u001b[0m\u001b[0;34m)\u001b[0m\u001b[0;34m\u001b[0m\u001b[0;34m\u001b[0m\u001b[0m\n\u001b[0m\u001b[1;32m    949\u001b[0m     \u001b[0mtot\u001b[0m \u001b[0;34m=\u001b[0m \u001b[0mnp\u001b[0m\u001b[0;34m.\u001b[0m\u001b[0msum\u001b[0m\u001b[0;34m(\u001b[0m\u001b[0marr\u001b[0m\u001b[0;34m,\u001b[0m \u001b[0maxis\u001b[0m\u001b[0;34m=\u001b[0m\u001b[0maxis\u001b[0m\u001b[0;34m,\u001b[0m \u001b[0mdtype\u001b[0m\u001b[0;34m=\u001b[0m\u001b[0mdtype\u001b[0m\u001b[0;34m,\u001b[0m \u001b[0mout\u001b[0m\u001b[0;34m=\u001b[0m\u001b[0mout\u001b[0m\u001b[0;34m,\u001b[0m \u001b[0mkeepdims\u001b[0m\u001b[0;34m=\u001b[0m\u001b[0mkeepdims\u001b[0m\u001b[0;34m)\u001b[0m\u001b[0;34m\u001b[0m\u001b[0;34m\u001b[0m\u001b[0m\n\u001b[1;32m    950\u001b[0m     \u001b[0mavg\u001b[0m \u001b[0;34m=\u001b[0m \u001b[0m_divide_by_count\u001b[0m\u001b[0;34m(\u001b[0m\u001b[0mtot\u001b[0m\u001b[0;34m,\u001b[0m \u001b[0mcnt\u001b[0m\u001b[0;34m,\u001b[0m \u001b[0mout\u001b[0m\u001b[0;34m=\u001b[0m\u001b[0mout\u001b[0m\u001b[0;34m)\u001b[0m\u001b[0;34m\u001b[0m\u001b[0;34m\u001b[0m\u001b[0m\n",
      "\u001b[0;32m<__array_function__ internals>\u001b[0m in \u001b[0;36msum\u001b[0;34m(*args, **kwargs)\u001b[0m\n",
      "\u001b[0;32m~/.local/lib/python3.8/site-packages/numpy/core/fromnumeric.py\u001b[0m in \u001b[0;36msum\u001b[0;34m(a, axis, dtype, out, keepdims, initial, where)\u001b[0m\n\u001b[1;32m   2239\u001b[0m         \u001b[0;32mreturn\u001b[0m \u001b[0mres\u001b[0m\u001b[0;34m\u001b[0m\u001b[0;34m\u001b[0m\u001b[0m\n\u001b[1;32m   2240\u001b[0m \u001b[0;34m\u001b[0m\u001b[0m\n\u001b[0;32m-> 2241\u001b[0;31m     return _wrapreduction(a, np.add, 'sum', axis, dtype, out, keepdims=keepdims,\n\u001b[0m\u001b[1;32m   2242\u001b[0m                           initial=initial, where=where)\n\u001b[1;32m   2243\u001b[0m \u001b[0;34m\u001b[0m\u001b[0m\n",
      "\u001b[0;32m~/.local/lib/python3.8/site-packages/numpy/core/fromnumeric.py\u001b[0m in \u001b[0;36m_wrapreduction\u001b[0;34m(obj, ufunc, method, axis, dtype, out, **kwargs)\u001b[0m\n\u001b[1;32m     85\u001b[0m                 \u001b[0;32mreturn\u001b[0m \u001b[0mreduction\u001b[0m\u001b[0;34m(\u001b[0m\u001b[0maxis\u001b[0m\u001b[0;34m=\u001b[0m\u001b[0maxis\u001b[0m\u001b[0;34m,\u001b[0m \u001b[0mout\u001b[0m\u001b[0;34m=\u001b[0m\u001b[0mout\u001b[0m\u001b[0;34m,\u001b[0m \u001b[0;34m**\u001b[0m\u001b[0mpasskwargs\u001b[0m\u001b[0;34m)\u001b[0m\u001b[0;34m\u001b[0m\u001b[0;34m\u001b[0m\u001b[0m\n\u001b[1;32m     86\u001b[0m \u001b[0;34m\u001b[0m\u001b[0m\n\u001b[0;32m---> 87\u001b[0;31m     \u001b[0;32mreturn\u001b[0m \u001b[0mufunc\u001b[0m\u001b[0;34m.\u001b[0m\u001b[0mreduce\u001b[0m\u001b[0;34m(\u001b[0m\u001b[0mobj\u001b[0m\u001b[0;34m,\u001b[0m \u001b[0maxis\u001b[0m\u001b[0;34m,\u001b[0m \u001b[0mdtype\u001b[0m\u001b[0;34m,\u001b[0m \u001b[0mout\u001b[0m\u001b[0;34m,\u001b[0m \u001b[0;34m**\u001b[0m\u001b[0mpasskwargs\u001b[0m\u001b[0;34m)\u001b[0m\u001b[0;34m\u001b[0m\u001b[0;34m\u001b[0m\u001b[0m\n\u001b[0m\u001b[1;32m     88\u001b[0m \u001b[0;34m\u001b[0m\u001b[0m\n\u001b[1;32m     89\u001b[0m \u001b[0;34m\u001b[0m\u001b[0m\n",
      "\u001b[0;31mKeyboardInterrupt\u001b[0m: "
     ]
    }
   ],
   "source": [
    "##################################################################\n",
    "##### COMPUTE ROI TRIAL COURSES - WITH & WITHOUT LOCKOUT #########\n",
    "##################################################################\n",
    "\n",
    "names = ['IA1','IA2','IA3','IJ1','IJ2','AR4','AQ2']\n",
    "names = ['IA2']\n",
    "\n",
    "from tqdm import tqdm\n",
    "feature_name = 'code_04'\n",
    "lockout_window = 10\n",
    "n_sec_window = 10\n",
    "\n",
    "for name in names:\n",
    "    root_dir = '/media/cat/4TBSSD/yuki/'+name\n",
    "    #recordings = np.loadtxt(root_dir + '/'+name+'.txt',dtype='str')\n",
    "    \n",
    "    temp_recs = np.load(root_dir+'/tif_files.npy')\n",
    "    recordings =[]\n",
    "    for k in range(len(temp_recs)):\n",
    "        try:\n",
    "            recordings.append(str(os.path.split(temp_recs[k])[1][:-4], \"utf-8\"))\n",
    "        except:\n",
    "            recordings.append(os.path.split(temp_recs[k])[1][:-4])\n",
    "    \n",
    "    print (\"PROCESSING: \", name)\n",
    "    \n",
    "    if False:\n",
    "        import parmap\n",
    "        res = parmap.map(compute_trial_courses_ROI_code04_trigger, \n",
    "                       recordings,\n",
    "                       root_dir,\n",
    "                       feature_name,\n",
    "                       lockout_window,\n",
    "                       n_sec_window,\n",
    "                       pm_processes=4,\n",
    "                       pm_pbar=True)\n",
    "    else:\n",
    "        res = []\n",
    "        for recording in tqdm(recordings):\n",
    "            print (\"recording: \", recording)\n",
    "            res.append(compute_trial_courses_ROI_code04_trigger(recording,\n",
    "                                                                root_dir,\n",
    "                                                                feature_name,\n",
    "                                                                lockout_window,\n",
    "                                                                n_sec_window))\n",
    "\n"
   ]
  },
  {
   "cell_type": "code",
   "execution_count": null,
   "metadata": {},
   "outputs": [],
   "source": []
  },
  {
   "cell_type": "code",
   "execution_count": 92,
   "metadata": {
    "scrolled": true
   },
   "outputs": [
    {
     "name": "stdout",
     "output_type": "stream",
     "text": [
      "PROCESSING:  AR4\n",
      "rec id,      rec name,           all rewarded trials,   10sec lockout rewarded trials (*** good sessions; ####### best 3 sessions\n",
      "        0       AR4_Oct27pm_15Hz_8x8      (0,)          (0,)\n",
      "        1       AR4_Oct28pm_15Hz_8x8      (14, 35, 301)          (10, 35, 301)\n",
      "        2       AR4_Oct29pm_15Hz_8x8      (0,)          (0,)\n",
      "        3       AR4_Nov3pm_15Hz_8x8      (0,)          (0,)\n",
      "        4       AR4_Nov3am_15Hz_8x8      (0,)          (0,)\n",
      "        5       AR4_Nov4am_15Hz_8x8      (92, 35, 301)          (16, 35, 301)\n",
      "####### 6       AR4_Nov5am_15Hz_8x8      (90, 35, 301)          (38, 35, 301)\n",
      "        7       AR4_Nov6am_15Hz_8x8      (173, 35, 301)          (23, 35, 301)\n",
      "        8       AR4_Nov7am_15Hz_8x8      (202, 35, 301)          (21, 35, 301)\n",
      "        9       AR4_Nov10am_15Hz_8x8      (163, 35, 301)          (11, 35, 301)\n",
      "        10       AR4_Nov11am_15Hz_8x8      (245, 35, 301)          (19, 35, 301)\n",
      "        11       AR4_Nov12am_15Hz_8x8      (230, 35, 301)          (29, 35, 301)\n",
      "    *** 12       AR4_Nov17am_15Hz_8x8      (153, 35, 301)          (32, 35, 301)\n",
      "        13       AR4_Nov19am_15Hz_8x8      (0,)          (0,)\n",
      "    *** 14       AR4_Nov21am_15Hz_8x8      (178, 35, 301)          (44, 35, 301)\n",
      "        15       AR4_Nov22am_15Hz_8x8      (251, 35, 301)          (19, 35, 301)\n",
      "        16       AR4_Nov23am_15Hz_8x8      (231, 35, 301)          (14, 35, 301)\n",
      "        17       AR4_Nov24am_15Hz_8x8      (17, 35, 301)          (7, 35, 301)\n",
      "        18       AR4_Nov25am_15Hz_8x8      (247, 35, 301)          (20, 35, 301)\n",
      "        19       AR4_Nov26am_15Hz_8x8      (241, 35, 301)          (20, 35, 301)\n",
      "        20       AR4_Nov27am_15Hz_8x8      (249, 35, 301)          (17, 35, 301)\n",
      "        21       AR4_Nov30am_15Hz_8x8      (231, 35, 301)          (16, 35, 301)\n",
      "        22       AR4_Dec1am_15Hz_8x8      (69, 35, 301)          (57, 35, 301)\n",
      "####### 23       AR4_Dec2am_15Hz_8x8      (83, 35, 301)          (53, 35, 301)\n",
      "        24       AR4_Dec3am_15Hz_8x8      (0,)          (0,)\n",
      "        25       AR4_Dec8am_15Hz_8x8      (0,)          (0,)\n",
      "    *** 26       AR4_Dec9am_15Hz_8x8      (60, 35, 301)          (37, 35, 301)\n",
      "    *** 27       AR4_Dec10am_15Hz_8x8      (99, 35, 301)          (51, 35, 301)\n",
      "    *** 28       AR4_Dec11am_15Hz_8x8      (115, 35, 301)          (54, 35, 301)\n",
      "        29       AR4_Dec12am_15Hz_8x8      (0,)          (0,)\n",
      "####### 30       AR4_Dec15am_15Hz_8x8      (97, 35, 301)          (53, 35, 301)\n",
      "    *** 31       AR4_Dec16am_15Hz_8x8      (124, 35, 301)          (48, 35, 301)\n",
      "    *** 32       AR4_Dec17am_15Hz_8x8      (134, 35, 301)          (40, 35, 301)\n"
     ]
    }
   ],
   "source": [
    "#########################################################\n",
    "############## MAKE ORDERED .NZP FILES ##################\n",
    "#########################################################\n",
    "\n",
    "# MANUALLY FIND WHICH SESSIONS HAVE LARGE DIFFERENCE OF REWARDED WITH /WITHOUT PULL OVERLAP IN 10SEC WINDOW\n",
    "# AQ2\n",
    "selected_sessions_AQ2 = [32,50,53,54,56,57,58,59,63,64,65,66,67,70,71,72,73,74,77,78,79,80,81]\n",
    "selected_sessions_AQ2 = np.append(selected_sessions_AQ2,np.arange(83,110))\n",
    "best_sessions_AQ2 = [32,58,91]\n",
    "\n",
    "# IA1\n",
    "selected_sessions_IA1 = [2,10,11,13,15,29]\n",
    "best_sessions_IA1 = [13,15,29]\n",
    "\n",
    "# IA2\n",
    "selected_sessions_IA2 = [3,4,13,21,28,29,30,31,32,35,40,43]\n",
    "best_sessions_IA2 = [3,29,40]\n",
    "\n",
    "# IA3\n",
    "selected_sessions_IA3 = [1,2,7,17,21,25,31,32,33,34,35,36,37,38,39,40,41,42,43]\n",
    "best_sessions_IA3 = [2,34,43]\n",
    "\n",
    "# IJ1\n",
    "selected_sessions_IJ1 = [14,18,20,21,22,58]\n",
    "best_sessions_IJ1 = [14,22,58]\n",
    "\n",
    "# IJ2\n",
    "selected_sessions_IJ2 = [2,17,18,19,20,26,33,37,39,40,43]\n",
    "best_sessions_IJ2 = [20,33,40]\n",
    "\n",
    "# AR4\n",
    "selected_sessions_AR4 = [6,12,14,23,26,27,28,30,31,32]\n",
    "best_sessions_AR4 = [6,23,30]\n",
    "\n",
    "\n",
    "\n",
    "selected_sessions_animal = selected_sessions_AR4\n",
    "best_sessions_animal = best_sessions_AR4\n",
    "    \n",
    "# CHECK ALL VS. LOCKOUT DATA\n",
    "names = ['IA1','IA2','IA3','IJ1','IJ2','AR4','AQ2']\n",
    "names = ['AR4']\n",
    "\n",
    "save_npz_data(names, selected_sessions_animal, best_sessions_animal)\n",
    "\n"
   ]
  },
  {
   "cell_type": "code",
   "execution_count": null,
   "metadata": {},
   "outputs": [],
   "source": []
  },
  {
   "cell_type": "code",
   "execution_count": null,
   "metadata": {},
   "outputs": [],
   "source": []
  },
  {
   "cell_type": "code",
   "execution_count": null,
   "metadata": {},
   "outputs": [],
   "source": []
  },
  {
   "cell_type": "code",
   "execution_count": 32,
   "metadata": {
    "scrolled": true
   },
   "outputs": [
    {
     "name": "stdout",
     "output_type": "stream",
     "text": [
      "PROCESSING:  AQ2\n",
      "rec id,      rec name,           all rewarded trials,   10sec lockout rewarded trials\n",
      "*** 3       AQ2am_Dec11_30Hz      (7, 35, 601)          (7, 35, 601)\n",
      "    4       AQ2pm_Dec14_30Hz      (10, 35, 601)          (9, 35, 601)\n",
      "    6       AQ2pm_Dec16_30Hz      (27, 35, 601)          (22, 35, 601)\n",
      "    7       AQ2am_Dec17_30Hz      (21, 35, 601)          (15, 35, 601)\n",
      "    8       AQ2pm_Dec17_30Hz      (5, 35, 601)          (5, 35, 601)\n",
      "    9       AQ2am_Dec18_30Hz      (7, 35, 601)          (7, 35, 601)\n",
      "    10       AQ2pm_Dec18_30Hz      (5, 35, 601)          (5, 35, 601)\n",
      "    11       AQ2am_Dec21_30Hz      (2, 35, 601)          (2, 35, 601)\n",
      "    14       AQ2am_Dec28_30Hz      (24, 35, 601)          (13, 35, 601)\n",
      "    15       AQ2am_Dec29_30Hz      (33, 35, 601)          (27, 35, 601)\n",
      "    17       AQ2am_Dec31_30Hz      (65, 35, 601)          (51, 35, 601)\n",
      "    18       AQ2am_Jan4_30Hz      (52, 35, 601)          (42, 35, 601)\n",
      "    19       AQ2am_Jan5_30Hz      (52, 35, 601)          (39, 35, 601)\n",
      "    20       AQ2am_Jan6_30Hz      (59, 35, 601)          (49, 35, 601)\n",
      "    21       AQ2am_Jan7_30Hz      (4, 35, 601)          (4, 35, 601)\n",
      "    22       AQ2am_Jan8_30Hz      (27, 35, 601)          (22, 35, 601)\n",
      "    23       AQ2pm_Jan11_30Hz      (17, 35, 601)          (16, 35, 601)\n",
      "    25       AQ2pm_Jan12_30Hz      (2, 35, 601)          (2, 35, 601)\n",
      "    27       AQ2pm_Jan13_30Hz      (37, 35, 601)          (31, 35, 601)\n",
      "    28       AQ2am_Jan13_30Hz      (55, 35, 601)          (43, 35, 601)\n",
      "    29       AQ2pm_Jan14_30Hz      (37, 35, 601)          (34, 35, 601)\n",
      "*** 30       AQ2am_Jan14_30Hz      (43, 35, 601)          (37, 35, 601)\n",
      "    31       AQ2am_Jan15_30Hz      (26, 35, 601)          (23, 35, 601)\n",
      "    32       AQ2pm_Jan15_30Hz      (70, 35, 601)          (41, 35, 601)\n",
      "    34       AQ2am_Jan18_30Hz      (13, 35, 601)          (10, 35, 601)\n",
      "    38       AQ2am_Jan20_30Hz      (2, 35, 601)          (2, 35, 601)\n",
      "    41       AQ2pm_Jan22_30Hz      (3, 35, 601)          (3, 35, 601)\n",
      "    42       AQ2am_Jan22_30Hz      (4, 35, 601)          (4, 35, 601)\n",
      "    47       AQ2am_Jan27_30Hz      (3, 35, 601)          (3, 35, 601)\n",
      "    48       AQ2pm_Jan27_30Hz      (55, 35, 601)          (35, 35, 601)\n",
      "    49       AQ2am_Jan28_30Hz      (46, 35, 601)          (43, 35, 601)\n",
      "*** 50       AQ2pm_Jan28_30Hz      (61, 35, 601)          (47, 35, 601)\n",
      "    51       AQ2am_Jan29_30Hz      (41, 35, 601)          (34, 35, 601)\n",
      "    52       AQ2pm_Jan29_30Hz      (50, 35, 601)          (27, 35, 601)\n",
      "    53       AQ2am_Feb2_30Hz      (68, 35, 601)          (46, 35, 601)\n",
      "    54       AQ2am_Feb3_30Hz      (79, 35, 601)          (52, 35, 601)\n",
      "    55       AQ2am_Feb4_30Hz      (21, 35, 601)          (21, 35, 601)\n",
      "    56       AQ2am_Feb5_30Hz      (74, 35, 601)          (52, 35, 601)\n",
      "    57       AQ2am_Feb9_30Hz      (91, 35, 601)          (47, 35, 601)\n",
      "    58       AQ2am_Feb10_30Hz      (93, 35, 601)          (54, 35, 601)\n",
      "    59       AQ2am_Feb11_30Hz      (131, 35, 601)          (44, 35, 601)\n",
      "    60       AQ2am_Feb12_30Hz      (184, 35, 601)          (19, 35, 601)\n",
      "    61       AQ2am_Feb15_30Hz      (158, 35, 601)          (19, 35, 601)\n",
      "    62       AQ2am_Feb16_30Hz      (145, 35, 601)          (32, 35, 601)\n",
      "    63       AQ2am_Feb17_30Hz      (104, 35, 601)          (54, 35, 601)\n",
      "    64       AQ2am_Feb18_30Hz      (156, 35, 601)          (35, 35, 601)\n",
      "    65       AQ2am_Feb19_30Hz      (96, 35, 601)          (41, 35, 601)\n",
      "    66       AQ2am_Feb22_30Hz      (145, 35, 601)          (39, 35, 601)\n",
      "    67       AQ2am_Feb23_30Hz      (121, 35, 601)          (51, 35, 601)\n",
      "    69       AQ2am_Feb26_30Hz      (92, 35, 601)          (29, 35, 601)\n",
      "    70       AQ2am_Feb29_30Hz      (91, 35, 601)          (44, 35, 601)\n",
      "    71       AQ2am_Mar1_30Hz      (127, 35, 601)          (37, 35, 601)\n",
      "    72       AQ2am_Mar2_30Hz      (58, 35, 601)          (36, 35, 601)\n",
      "    73       AQ2am_Mar3_30Hz      (131, 35, 601)          (38, 35, 601)\n",
      "    74       AQ2pm_Mar7_Day3_30Hz      (110, 35, 601)          (35, 35, 601)\n",
      "    75       AQ2pm_Mar9_Day5_30Hz      (71, 35, 601)          (27, 35, 601)\n",
      "    76       AQ2pm_Mar11_Day7_30Hz      (99, 35, 601)          (28, 35, 601)\n",
      "    77       AQ2am_Mar14_Week2_30Hz      (104, 35, 601)          (42, 35, 601)\n",
      "    78       AQ2pm_Mar15_Week2_30Hz      (144, 35, 601)          (36, 35, 601)\n",
      "    79       AQ2am_Mar16_Week2_30Hz      (122, 35, 601)          (37, 35, 601)\n",
      "    80       AQ2am_Mar17_Week2_30Hz      (104, 35, 601)          (50, 35, 601)\n",
      "    81       AQ2am_Mar18_Week2_30Hz      (140, 35, 601)          (45, 35, 601)\n",
      "    82       AQ2am_Mar21_Week3_30Hz      (48, 35, 601)          (32, 35, 601)\n",
      "    83       AQ2am_Mar22_Week3_30Hz      (64, 35, 601)          (47, 35, 601)\n",
      "    84       AQ2am_Mar23_Week3_30Hz      (85, 35, 601)          (42, 35, 601)\n",
      "    85       AQ2am_Mar24_Week3_30Hz      (125, 35, 601)          (44, 35, 601)\n",
      "    86       AQ2am_Mar29_Week4_30Hz      (91, 35, 601)          (47, 35, 601)\n",
      "    87       AQ2am_Mar30_Week4_30Hz      (149, 35, 601)          (43, 35, 601)\n",
      "    88       AQ2am_Mar31_Week4_30Hz      (116, 35, 601)          (45, 35, 601)\n",
      "    89       AQ2am_Apr1_Week4_30Hz      (138, 35, 601)          (44, 35, 601)\n",
      "    90       AQ2am_Apr4_Week5_30Hz      (127, 35, 601)          (48, 35, 601)\n",
      "    91       AQ2am_Apr5_Week5_30Hz      (100, 35, 601)          (56, 35, 601)\n",
      "    92       AQ2am_Apr6_Week5_30Hz      (118, 35, 601)          (44, 35, 601)\n",
      "    93       AQ2am_Apr7_Week5_30Hz      (93, 35, 601)          (49, 35, 601)\n",
      "    94       AQ2am_Apr8_Week5_30Hz      (105, 35, 601)          (46, 35, 601)\n",
      "    95       AQ2am_Apr11_Week6_30Hz      (144, 35, 601)          (51, 35, 601)\n",
      "    96       AQ2am_Apr12_Week6_30Hz      (94, 35, 601)          (52, 35, 601)\n",
      "    97       AQ2am_Apr13_Week6_30Hz      (106, 35, 601)          (57, 35, 601)\n",
      "    98       AQ2am_Apr14_Week6_30Hz      (99, 35, 601)          (60, 35, 601)\n",
      "    99       AQ2am_Apr15_Week6_30Hz      (84, 35, 601)          (53, 35, 601)\n",
      "    100       AQ2am_Apr18_Week7_30Hz      (77, 35, 601)          (53, 35, 601)\n",
      "    101       AQ2am_Apr19_Week7_30Hz      (71, 35, 601)          (49, 35, 601)\n",
      "    102       AQ2am_Apr20_Week7_30Hz      (69, 35, 601)          (45, 35, 601)\n",
      "    103       AQ2am_Apr21_Week7_30Hz      (53, 35, 601)          (37, 35, 601)\n",
      "    104       AQ2am_Apr22_Week7_30Hz      (123, 35, 601)          (47, 35, 601)\n",
      "    105       AQ2am_Apr25_Week8_30Hz      (114, 35, 601)          (36, 35, 601)\n",
      "    106       AQ2am_Apr26_Week8_30Hz      (112, 35, 601)          (47, 35, 601)\n",
      "    107       AQ2am_Apr27_Week8_30Hz      (138, 35, 601)          (28, 35, 601)\n",
      "    108       AQ2am_Apr28_Week8_30Hz      (86, 35, 601)          (53, 35, 601)\n",
      "    109       AQ2am_Apr29_Week8_30Hz      (85, 35, 601)          (51, 35, 601)\n"
     ]
    }
   ],
   "source": [
    "# # CHECK ALL VS. LOCKOUT DATA\n",
    "# names = ['IA1','IA2','IA3','IJ1','IJ2','AR4','AQ2']\n",
    "# names = ['AQ2']\n",
    "\n",
    "# selected_sessions = [3, 30, 50]\n",
    "\n",
    "# from tqdm import tqdm\n",
    "# feature_name = 'code_04'\n",
    "# lockout_window = 10\n",
    "# n_sec_window = 10\n",
    "\n",
    "# for name in names:\n",
    "#     root_dir = '/media/cat/4TBSSD/yuki/'+name\n",
    "#     #recordings = np.loadtxt(root_dir + '/'+name+'.txt',dtype='str')\n",
    "    \n",
    "#     temp_recs = np.load(root_dir+'/tif_files.npy')\n",
    "#     recordings =[]\n",
    "#     for k in range(len(temp_recs)):\n",
    "#         try:\n",
    "#             recordings.append(str(os.path.split(temp_recs[k])[1][:-4], \"utf-8\"))\n",
    "#         except:\n",
    "#             recordings.append(os.path.split(temp_recs[k])[1][:-4])\n",
    "    \n",
    "#     print (\"PROCESSING: \", name)\n",
    "    \n",
    "#     print (\"rec id,      rec name,           all rewarded trials,   10sec lockout rewarded trials\")\n",
    "#     for ctr,recording in enumerate(recordings):\n",
    "\n",
    "#         try: \n",
    "#             (data_04, data_04_random, data_04_lockout, data_04_lockout_random) = load_trial_courses_ROI_code04_trigger(\n",
    "#                                                                       recording,\n",
    "#                                                                       root_dir,\n",
    "#                                                                       feature_name,\n",
    "#                                                                       lockout_window,\n",
    "#                                                                       n_sec_window)\n",
    "#             if ctr not in selected_sessions:\n",
    "#                 print (\"   \",ctr, \"     \", recording,\"    \", data_04.shape, \"        \", data_04_lockout.shape)\n",
    "#             else:\n",
    "#                 print (\"***\", ctr, \"     \", recording,\"    \", data_04.shape, \"        \", data_04_lockout.shape)\n",
    "            \n",
    "#             #print ('')\n",
    "#         except:\n",
    "#             pass\n",
    "\n"
   ]
  },
  {
   "cell_type": "code",
   "execution_count": null,
   "metadata": {},
   "outputs": [],
   "source": [
    "# # MAKE ORDERED .NZP FILES\n",
    "# # MUST INPUT a temporally ordered.txt file\n",
    "# fname_list = '/media/cat/4TBSSD/yuki/time_courses/AQ2_ordered.txt'\n",
    "# fnames = np.loadtxt(fname_list,dtype='str')\n",
    "# #print (fnames)\n",
    "\n",
    "# data_list = []\n",
    "# fnames_data_list = []\n",
    "# data_random_list = []\n",
    "# fnames_data_random_list = []\n",
    "# for fname in fnames:\n",
    "#     if '04' in fname:\n",
    "#         data_list.append(np.load(fname))\n",
    "#         fnames_data_list.append(fname)\n",
    "#     else:\n",
    "#         data_random_list.append(np.load(fname))\n",
    "#         fnames_data_random_list.append(fname)\n",
    "\n",
    "# np.savez(fname_list[:-4]+'.npz',\n",
    "#         data_04_lever_pull = data_list,\n",
    "#         data_04_lever_pull_fnames = fnames_data_list,\n",
    "#         data_random = data_random_list,\n",
    "#         data_random_fnames = fnames_data_random_list)\n"
   ]
  },
  {
   "cell_type": "code",
   "execution_count": null,
   "metadata": {},
   "outputs": [],
   "source": [
    "# GET DISTRIBUTION OF SESSIONS IN EACH ANIMAL\n",
    "\n",
    "all_files = [\n",
    "'/media/cat/4TBSSD/yuki/time_courses/AR4_ordered.npz',\n",
    "'/media/cat/4TBSSD/yuki/time_courses/IA1_ordered.npz',\n",
    "'/media/cat/4TBSSD/yuki/time_courses/IA2_ordered.npz',\n",
    "'/media/cat/4TBSSD/yuki/time_courses/IA3_ordered.npz',\n",
    "'/media/cat/4TBSSD/yuki/time_courses/IJ1_ordered.npz',\n",
    "'/media/cat/4TBSSD/yuki/time_courses/IJ2_ordered.npz',\n",
    "'/media/cat/4TBSSD/yuki/time_courses/AQ2_ordered.npz'\n",
    "]\n",
    "\n",
    "tot = 0\n",
    "for ctr, file_ in enumerate(all_files):\n",
    "    temp = np.load(file_, allow_pickle=True)\n",
    "    #fnames = temp['data_04_lever_pull_fnames']\n",
    "    #print (fnames)\n",
    "    data = temp['data_04_lever_pull']\n",
    "    print (file_, \" # of sessions: \", len(data))\n",
    "    tot+=len(data)\n",
    "    ax=plt.subplot(2,4,ctr+1)\n",
    "    plt.title(os.path.split(file_)[1])\n",
    "    \n",
    "    lengths = []\n",
    "    for k in range(len(data)):\n",
    "        lengths.append(len(data[k]))\n",
    "        #print (data[k].shape)\n",
    "    y = np.histogram(lengths, np.arange(0,400,10))\n",
    "    plt.plot(y[1][:-1],y[0])\n",
    "    plt.ylabel(\"# of sessions\")\n",
    "    plt.xlabel(\"# of trials in sessions\")\n",
    "    plt.xlim(0,200)\n",
    "print (\"total: \", tot)"
   ]
  },
  {
   "cell_type": "code",
   "execution_count": null,
   "metadata": {},
   "outputs": [],
   "source": [
    "# SAVE DATA\n",
    "#np.save(root_dir+\"data_random_code_\"+str(locs_selected.shape[0])+\"trials_.npy\", data_stm)"
   ]
  },
  {
   "cell_type": "code",
   "execution_count": 66,
   "metadata": {},
   "outputs": [
    {
     "name": "stdout",
     "output_type": "stream",
     "text": [
      "(64, 35, 601)\n"
     ]
    }
   ],
   "source": [
    "data = np.load('/media/cat/4TBSSD/yuki/IA2/tif_files/IA2pm_Apr6_30Hz/data_random_code_64trials_ROIs.npy')\n",
    "print (data.shape)"
   ]
  },
  {
   "cell_type": "code",
   "execution_count": 10,
   "metadata": {},
   "outputs": [
    {
     "name": "stdout",
     "output_type": "stream",
     "text": [
      "['/media/cat/12TB/in_vivo/tim/yuki/AR4/tif_files/AR4_Oct27pm_15Hz_8x8/AR4_Oct27pm_15Hz_8x8.tif'\n",
      " '/media/cat/12TB/in_vivo/tim/yuki/AR4/tif_files/AR4_Oct28pm_15Hz_8x8/AR4_Oct28pm_15Hz_8x8.tif'\n",
      " '/media/cat/12TB/in_vivo/tim/yuki/AR4/tif_files/AR4_Oct29pm_15Hz_8x8/AR4_Oct29pm_15Hz_8x8.tif'\n",
      " '/media/cat/12TB/in_vivo/tim/yuki/AR4/tif_files/AR4_Nov3pm_15Hz_8x8/AR4_Nov3pm_15Hz_8x8.tif'\n",
      " '/media/cat/12TB/in_vivo/tim/yuki/AR4/tif_files/AR4_Nov3am_15Hz_8x8/AR4_Nov3am_15Hz_8x8.tif'\n",
      " '/media/cat/12TB/in_vivo/tim/yuki/AR4/tif_files/AR4_Nov4am_15Hz_8x8/AR4_Nov4am_15Hz_8x8.tif'\n",
      " '/media/cat/12TB/in_vivo/tim/yuki/AR4/tif_files/AR4_Nov5am_15Hz_8x8/AR4_Nov5am_15Hz_8x8.tif'\n",
      " '/media/cat/12TB/in_vivo/tim/yuki/AR4/tif_files/AR4_Nov6am_15Hz_8x8/AR4_Nov6am_15Hz_8x8.tif'\n",
      " '/media/cat/12TB/in_vivo/tim/yuki/AR4/tif_files/AR4_Nov7am_15Hz_8x8/AR4_Nov7am_15Hz_8x8.tif'\n",
      " '/media/cat/12TB/in_vivo/tim/yuki/AR4/tif_files/AR4_Nov10am_15Hz_8x8/AR4_Nov10am_15Hz_8x8.tif'\n",
      " '/media/cat/12TB/in_vivo/tim/yuki/AR4/tif_files/AR4_Nov11am_15Hz_8x8/AR4_Nov11am_15Hz_8x8.tif'\n",
      " '/media/cat/12TB/in_vivo/tim/yuki/AR4/tif_files/AR4_Nov12am_15Hz_8x8/AR4_Nov12am_15Hz_8x8.tif'\n",
      " '/media/cat/12TB/in_vivo/tim/yuki/AR4/tif_files/AR4_Nov17am_15Hz_8x8/AR4_Nov17am_15Hz_8x8.tif'\n",
      " '/media/cat/12TB/in_vivo/tim/yuki/AR4/tif_files/AR4_Nov19am_15Hz_8x8/AR4_Nov19am_15Hz_8x8.tif'\n",
      " '/media/cat/12TB/in_vivo/tim/yuki/AR4/tif_files/AR4_Nov21am_15Hz_8x8/AR4_Nov21am_15Hz_8x8.tif'\n",
      " '/media/cat/12TB/in_vivo/tim/yuki/AR4/tif_files/AR4_Nov22am_15Hz_8x8/AR4_Nov22am_15Hz_8x8.tif'\n",
      " '/media/cat/12TB/in_vivo/tim/yuki/AR4/tif_files/AR4_Nov23am_15Hz_8x8/AR4_Nov23am_15Hz_8x8.tif'\n",
      " '/media/cat/12TB/in_vivo/tim/yuki/AR4/tif_files/AR4_Nov24am_15Hz_8x8/AR4_Nov24am_15Hz_8x8.tif'\n",
      " '/media/cat/12TB/in_vivo/tim/yuki/AR4/tif_files/AR4_Nov25am_15Hz_8x8/AR4_Nov25am_15Hz_8x8.tif'\n",
      " '/media/cat/12TB/in_vivo/tim/yuki/AR4/tif_files/AR4_Nov26am_15Hz_8x8/AR4_Nov26am_15Hz_8x8.tif'\n",
      " '/media/cat/12TB/in_vivo/tim/yuki/AR4/tif_files/AR4_Nov27am_15Hz_8x8/AR4_Nov27am_15Hz_8x8.tif'\n",
      " '/media/cat/12TB/in_vivo/tim/yuki/AR4/tif_files/AR4_Nov30am_15Hz_8x8/AR4_Nov30am_15Hz_8x8.tif'\n",
      " '/media/cat/12TB/in_vivo/tim/yuki/AR4/tif_files/AR4_Dec1am_15Hz_8x8/AR4_Dec1am_15Hz_8x8.tif'\n",
      " '/media/cat/12TB/in_vivo/tim/yuki/AR4/tif_files/AR4_Dec2am_15Hz_8x8/AR4_Dec2am_15Hz_8x8.tif'\n",
      " '/media/cat/12TB/in_vivo/tim/yuki/AR4/tif_files/AR4_Dec3am_15Hz_8x8/AR4_Dec3am_15Hz_8x8.tif'\n",
      " '/media/cat/12TB/in_vivo/tim/yuki/AR4/tif_files/AR4_Dec8am_15Hz_8x8/AR4_Dec8am_15Hz_8x8.tif'\n",
      " '/media/cat/12TB/in_vivo/tim/yuki/AR4/tif_files/AR4_Dec9am_15Hz_8x8/AR4_Dec9am_15Hz_8x8.tif'\n",
      " '/media/cat/12TB/in_vivo/tim/yuki/AR4/tif_files/AR4_Dec10am_15Hz_8x8/AR4_Dec10am_15Hz_8x8.tif'\n",
      " '/media/cat/12TB/in_vivo/tim/yuki/AR4/tif_files/AR4_Dec11am_15Hz_8x8/AR4_Dec11am_15Hz_8x8.tif'\n",
      " '/media/cat/12TB/in_vivo/tim/yuki/AR4/tif_files/AR4_Dec12am_15Hz_8x8/AR4_Dec12am_15Hz_8x8.tif'\n",
      " '/media/cat/12TB/in_vivo/tim/yuki/AR4/tif_files/AR4_Dec15am_15Hz_8x8/AR4_Dec15am_15Hz_8x8.tif'\n",
      " '/media/cat/12TB/in_vivo/tim/yuki/AR4/tif_files/AR4_Dec16am_15Hz_8x8/AR4_Dec16am_15Hz_8x8.tif'\n",
      " '/media/cat/12TB/in_vivo/tim/yuki/AR4/tif_files/AR4_Dec17am_15Hz_8x8/AR4_Dec17am_15Hz_8x8.tif']\n"
     ]
    }
   ],
   "source": [
    "data= np.load('/media/cat/4TBSSD/yuki/AR4/tif_files.npy')\n",
    "print (data)"
   ]
  },
  {
   "cell_type": "code",
   "execution_count": 30,
   "metadata": {},
   "outputs": [
    {
     "name": "stdout",
     "output_type": "stream",
     "text": [
      "['/media/cat/12TB/in_vivo/tim/yuki/IA1/tif_files/IA1pm_Feb1_30Hz/IA1pm_Feb1_30Hz.tif'\n",
      " '/media/cat/12TB/in_vivo/tim/yuki/IA1/tif_files/IA1pm_Feb2_30Hz/IA1pm_Feb2_30Hz.tif'\n",
      " '/media/cat/12TB/in_vivo/tim/yuki/IA1/tif_files/IA1pm_Feb3_30Hz/IA1pm_Feb3_30Hz.tif'\n",
      " '/media/cat/12TB/in_vivo/tim/yuki/IA1/tif_files/IA1pm_Feb4_30Hz/IA1pm_Feb4_30Hz.tif'\n",
      " '/media/cat/12TB/in_vivo/tim/yuki/IA1/tif_files/IA1pm_Feb5_30Hz/IA1pm_Feb5_30Hz.tif'\n",
      " '/media/cat/12TB/in_vivo/tim/yuki/IA1/tif_files/IA1pm_Feb9_30Hz/IA1pm_Feb9_30Hz.tif'\n",
      " '/media/cat/12TB/in_vivo/tim/yuki/IA1/tif_files/IA1pm_Feb10_30Hz/IA1pm_Feb10_30Hz.tif'\n",
      " '/media/cat/12TB/in_vivo/tim/yuki/IA1/tif_files/IA1pm_Feb11_30Hz/IA1pm_Feb11_30Hz.tif'\n",
      " '/media/cat/12TB/in_vivo/tim/yuki/IA1/tif_files/IA1pm_Feb12_30Hz/IA1pm_Feb12_30Hz.tif'\n",
      " '/media/cat/12TB/in_vivo/tim/yuki/IA1/tif_files/IA1pm_Feb15_30Hz/IA1pm_Feb15_30Hz.tif'\n",
      " '/media/cat/12TB/in_vivo/tim/yuki/IA1/tif_files/IA1pm_Feb16_30Hz/IA1pm_Feb16_30Hz.tif'\n",
      " '/media/cat/12TB/in_vivo/tim/yuki/IA1/tif_files/IA1pm_Feb17_30Hz/IA1pm_Feb17_30Hz.tif'\n",
      " '/media/cat/12TB/in_vivo/tim/yuki/IA1/tif_files/IA1pm_Feb18_30Hz/IA1pm_Feb18_30Hz.tif'\n",
      " '/media/cat/12TB/in_vivo/tim/yuki/IA1/tif_files/IA1pm_Feb19_30Hz/IA1pm_Feb19_30Hz.tif'\n",
      " '/media/cat/12TB/in_vivo/tim/yuki/IA1/tif_files/IA1pm_Feb22_30Hz/IA1pm_Feb22_30Hz.tif'\n",
      " '/media/cat/12TB/in_vivo/tim/yuki/IA1/tif_files/IA1pm_Feb23_30Hz/IA1pm_Feb23_30Hz.tif'\n",
      " '/media/cat/12TB/in_vivo/tim/yuki/IA1/tif_files/IA1pm_Feb24_30Hz/IA1pm_Feb24_30Hz.tif'\n",
      " '/media/cat/12TB/in_vivo/tim/yuki/IA1/tif_files/IA1pm_Feb25_30Hz/IA1pm_Feb25_30Hz.tif'\n",
      " '/media/cat/12TB/in_vivo/tim/yuki/IA1/tif_files/IA1pm_Feb26_30Hz/IA1pm_Feb26_30Hz.tif'\n",
      " '/media/cat/12TB/in_vivo/tim/yuki/IA1/tif_files/IA1pm_Feb29_30Hz/IA1pm_Feb29_30Hz.tif'\n",
      " '/media/cat/12TB/in_vivo/tim/yuki/IA1/tif_files/IA1pm_Mar1_30Hz/IA1pm_Mar1_30Hz.tif'\n",
      " '/media/cat/12TB/in_vivo/tim/yuki/IA1/tif_files/IA1pm_Mar2_30Hz/IA1pm_Mar2_30Hz.tif'\n",
      " '/media/cat/12TB/in_vivo/tim/yuki/IA1/tif_files/IA1pm_Mar3_30Hz/IA1pm_Mar3_30Hz.tif'\n",
      " '/media/cat/12TB/in_vivo/tim/yuki/IA1/tif_files/IA1am_Mar4_30Hz/IA1am_Mar4_30Hz.tif'\n",
      " '/media/cat/12TB/in_vivo/tim/yuki/IA1/tif_files/IA1am_Mar7_30Hz/IA1am_Mar7_30Hz.tif'\n",
      " '/media/cat/12TB/in_vivo/tim/yuki/IA1/tif_files/IA1pm_Mar8_30Hz/IA1pm_Mar8_30Hz.tif'\n",
      " '/media/cat/12TB/in_vivo/tim/yuki/IA1/tif_files/IA1am_Mar9_30Hz/IA1am_Mar9_30Hz.tif'\n",
      " '/media/cat/12TB/in_vivo/tim/yuki/IA1/tif_files/IA1am_Mar10_30Hz/IA1am_Mar10_30Hz.tif'\n",
      " '/media/cat/12TB/in_vivo/tim/yuki/IA1/tif_files/IA1am_Mar11_30Hz/IA1am_Mar11_30Hz.tif'\n",
      " '/media/cat/12TB/in_vivo/tim/yuki/IA1/tif_files/IA1pm_Mar14_30Hz/IA1pm_Mar14_30Hz.tif'\n",
      " '/media/cat/12TB/in_vivo/tim/yuki/IA1/tif_files/IA1am_Mar15_30Hz/IA1am_Mar15_30Hz.tif'\n",
      " '/media/cat/12TB/in_vivo/tim/yuki/IA1/tif_files/IA1pm_Mar16_30Hz/IA1pm_Mar16_30Hz.tif'\n",
      " '/media/cat/12TB/in_vivo/tim/yuki/IA1/tif_files/IA1pm_Mar17_30Hz/IA1pm_Mar17_30Hz.tif'\n",
      " '/media/cat/12TB/in_vivo/tim/yuki/IA1/tif_files/IA1pm_Mar18_30Hz/IA1pm_Mar18_30Hz.tif'\n",
      " '/media/cat/12TB/in_vivo/tim/yuki/IA1/tif_files/IA1pm_Mar21_30Hz/IA1pm_Mar21_30Hz.tif'\n",
      " '/media/cat/12TB/in_vivo/tim/yuki/IA1/tif_files/IA1pm_Mar22_30Hz/IA1pm_Mar22_30Hz.tif'\n",
      " '/media/cat/12TB/in_vivo/tim/yuki/IA1/tif_files/IA1pm_Mar23_30Hz/IA1pm_Mar23_30Hz.tif'\n",
      " '/media/cat/12TB/in_vivo/tim/yuki/IA1/tif_files/IA1pm_Mar24_30Hz/IA1pm_Mar24_30Hz.tif'\n",
      " '/media/cat/12TB/in_vivo/tim/yuki/IA1/tif_files/IA1pm_Mar29_30Hz/IA1pm_Mar29_30Hz.tif'\n",
      " '/media/cat/12TB/in_vivo/tim/yuki/IA1/tif_files/IA1pm_Mar30_30Hz/IA1pm_Mar30_30Hz.tif'\n",
      " '/media/cat/12TB/in_vivo/tim/yuki/IA1/tif_files/IA1pm_Mar31_30Hz/IA1pm_Mar31_30Hz.tif'\n",
      " '/media/cat/12TB/in_vivo/tim/yuki/IA1/tif_files/IA1pm_Apr1_30Hz/IA1pm_Apr1_30Hz.tif'\n",
      " '/media/cat/12TB/in_vivo/tim/yuki/IA1/tif_files/IA1pm_Apr4_30Hz/IA1pm_Apr4_30Hz.tif'\n",
      " '/media/cat/12TB/in_vivo/tim/yuki/IA1/tif_files/IA1pm_Apr5_30Hz/IA1pm_Apr5_30Hz.tif'\n",
      " '/media/cat/12TB/in_vivo/tim/yuki/IA1/tif_files/IA1pm_Apr6_30Hz/IA1pm_Apr6_30Hz.tif'\n",
      " '/media/cat/12TB/in_vivo/tim/yuki/IA1/tif_files/IA1pm_Apr7_30Hz/IA1pm_Apr7_30Hz.tif'\n",
      " '/media/cat/12TB/in_vivo/tim/yuki/IA1/tif_files/IA1pm_Apr11_Day3_30Hz/IA1pm_Apr11_Day3_30Hz.tif'\n",
      " '/media/cat/12TB/in_vivo/tim/yuki/IA1/tif_files/IA1pm_Apr13_Day5_30Hz/IA1pm_Apr13_Day5_30Hz.tif'\n",
      " '/media/cat/12TB/in_vivo/tim/yuki/IA1/tif_files/IA1pm_Apr15_Day7_30Hz/IA1pm_Apr15_Day7_30Hz.tif'\n",
      " '/media/cat/12TB/in_vivo/tim/yuki/IA1/tif_files/IA1pm_Apr18_Week2_30Hz/IA1pm_Apr18_Week2_30Hz.tif'\n",
      " '/media/cat/12TB/in_vivo/tim/yuki/IA1/tif_files/IA1pm_Apr19_Week2_30Hz/IA1pm_Apr19_Week2_30Hz.tif'\n",
      " '/media/cat/12TB/in_vivo/tim/yuki/IA1/tif_files/IA1pm_Apr20_Week2_30Hz/IA1pm_Apr20_Week2_30Hz.tif'\n",
      " '/media/cat/12TB/in_vivo/tim/yuki/IA1/tif_files/IA1pm_Apr21_Week2_30Hz/IA1pm_Apr21_Week2_30Hz.tif'\n",
      " '/media/cat/12TB/in_vivo/tim/yuki/IA1/tif_files/IA1pm_Apr22_Week2_30Hz/IA1pm_Apr22_Week2_30Hz.tif'\n",
      " '/media/cat/12TB/in_vivo/tim/yuki/IA1/tif_files/IA1pm_Apr25_Week3_30Hz/IA1pm_Apr25_Week3_30Hz.tif'\n",
      " '/media/cat/12TB/in_vivo/tim/yuki/IA1/tif_files/IA1pm_Apr26_Week3_30Hz/IA1pm_Apr26_Week3_30Hz.tif'\n",
      " '/media/cat/12TB/in_vivo/tim/yuki/IA1/tif_files/IA1pm_Apr27_Week3_30Hz/IA1pm_Apr27_Week3_30Hz.tif'\n",
      " '/media/cat/12TB/in_vivo/tim/yuki/IA1/tif_files/IA1pm_Apr28_Week3_30Hz/IA1pm_Apr28_Week3_30Hz.tif'\n",
      " '/media/cat/12TB/in_vivo/tim/yuki/IA1/tif_files/IA1pm_Apr29_Week3_30Hz/IA1pm_Apr29_Week3_30Hz.tif'\n",
      " '/media/cat/12TB/in_vivo/tim/yuki/IA1/tif_files/IA1am_May2_Week4_30Hz/IA1am_May2_Week4_30Hz.tif'\n",
      " '/media/cat/12TB/in_vivo/tim/yuki/IA1/tif_files/IA1am_May4_Week4_30Hz/IA1am_May4_Week4_30Hz.tif'\n",
      " '/media/cat/12TB/in_vivo/tim/yuki/IA1/tif_files/IA1am_May5_Week4_30Hz/IA1am_May5_Week4_30Hz.tif'\n",
      " '/media/cat/12TB/in_vivo/tim/yuki/IA1/tif_files/IA1am_May6_Week4_30Hz/IA1am_May6_Week4_30Hz.tif'\n",
      " '/media/cat/12TB/in_vivo/tim/yuki/IA1/tif_files/IA1am_May9_Week5_30Hz/IA1am_May9_Week5_30Hz.tif'\n",
      " '/media/cat/12TB/in_vivo/tim/yuki/IA1/tif_files/IA1am_May10_Week5_30Hz/IA1am_May10_Week5_30Hz.tif'\n",
      " '/media/cat/12TB/in_vivo/tim/yuki/IA1/tif_files/IA1am_May12_Week5_30Hz/IA1am_May12_Week5_30Hz.tif'\n",
      " '/media/cat/12TB/in_vivo/tim/yuki/IA1/tif_files/IA1am_May13_Week5_30Hz/IA1am_May13_Week5_30Hz.tif'\n",
      " '/media/cat/12TB/in_vivo/tim/yuki/IA1/tif_files/IA1am_May16_Week6_30Hz/IA1am_May16_Week6_30Hz.tif'\n",
      " '/media/cat/12TB/in_vivo/tim/yuki/IA1/tif_files/IA1am_May17_Week6_30Hz/IA1am_May17_Week6_30Hz.tif'\n",
      " '/media/cat/12TB/in_vivo/tim/yuki/IA1/tif_files/IA1am_May18_Week6_30Hz/IA1am_May18_Week6_30Hz.tif'\n",
      " '/media/cat/12TB/in_vivo/tim/yuki/IA1/tif_files/IA1am_May20_Week6_30Hz/IA1am_May20_Week6_30Hz.tif']\n"
     ]
    }
   ],
   "source": [
    "print (np.load('/media/cat/4TBSSD/yuki/IA1/tif_files.npy'))"
   ]
  },
  {
   "cell_type": "code",
   "execution_count": 17,
   "metadata": {},
   "outputs": [
    {
     "name": "stdout",
     "output_type": "stream",
     "text": [
      "Keys: <KeysViewHDF5 ['df_with_missing']>\n"
     ]
    }
   ],
   "source": [
    "import h5py\n",
    "filename = \"/home/cat/Downloads/AR4_2014-12-02_12-56-34.975DLC_resnet50_yuki_leverJul21shuffle1_200000.h5\"\n",
    "\n",
    "f = h5py.File(filename, \"r\")\n",
    "# List all groups\n",
    "print(\"Keys: %s\" % f.keys())\n",
    "a_group_key = list(f.keys())[0]\n",
    "\n",
    "# Get the data\n",
    "data = list(f[a_group_key])\n",
    "\n",
    "data2 = f['df_with_missing']['table']"
   ]
  },
  {
   "cell_type": "code",
   "execution_count": 31,
   "metadata": {},
   "outputs": [
    {
     "name": "stdout",
     "output_type": "stream",
     "text": [
      "(21,)\n"
     ]
    }
   ],
   "source": [
    "print (data2[0][1].shape)\n",
    "\n",
    "traces = []\n",
    "for k in range(len(data2)):\n",
    "    traces.append(data2[k][1].reshape(-1,3))\n",
    "    "
   ]
  },
  {
   "cell_type": "code",
   "execution_count": 33,
   "metadata": {},
   "outputs": [
    {
     "name": "stdout",
     "output_type": "stream",
     "text": [
      "(20066, 7, 3)\n"
     ]
    }
   ],
   "source": [
    "traces = np.array(traces)\n",
    "print (traces.shape)"
   ]
  },
  {
   "cell_type": "code",
   "execution_count": 11,
   "metadata": {},
   "outputs": [
    {
     "ename": "AttributeError",
     "evalue": "'str' object has no attribute 'decode'",
     "output_type": "error",
     "traceback": [
      "\u001b[0;31m---------------------------------------------------------------------------\u001b[0m",
      "\u001b[0;31mAttributeError\u001b[0m                            Traceback (most recent call last)",
      "\u001b[0;32m<ipython-input-11-2be8bd57af7f>\u001b[0m in \u001b[0;36m<module>\u001b[0;34m\u001b[0m\n\u001b[1;32m      1\u001b[0m \u001b[0mfiles\u001b[0m \u001b[0;34m=\u001b[0m \u001b[0mnp\u001b[0m\u001b[0;34m.\u001b[0m\u001b[0mload\u001b[0m\u001b[0;34m(\u001b[0m\u001b[0;34m'/media/cat/4TBSSD/yuki/IJ1/tif_files.npy'\u001b[0m\u001b[0;34m)\u001b[0m\u001b[0;34m\u001b[0m\u001b[0;34m\u001b[0m\u001b[0m\n\u001b[0;32m----> 2\u001b[0;31m \u001b[0mprint\u001b[0m \u001b[0;34m(\u001b[0m\u001b[0mfiles\u001b[0m\u001b[0;34m[\u001b[0m\u001b[0;36m0\u001b[0m\u001b[0;34m]\u001b[0m\u001b[0;34m.\u001b[0m\u001b[0mdecode\u001b[0m\u001b[0;34m(\u001b[0m\u001b[0;34m\"utf-8\"\u001b[0m\u001b[0;34m)\u001b[0m\u001b[0;34m.\u001b[0m\u001b[0mdecode\u001b[0m\u001b[0;34m(\u001b[0m\u001b[0;34m\"utf-8\"\u001b[0m\u001b[0;34m)\u001b[0m\u001b[0;34m)\u001b[0m\u001b[0;34m\u001b[0m\u001b[0;34m\u001b[0m\u001b[0m\n\u001b[0m",
      "\u001b[0;31mAttributeError\u001b[0m: 'str' object has no attribute 'decode'"
     ]
    }
   ],
   "source": [
    "files = np.load('/media/cat/4TBSSD/yuki/IJ1/tif_files.npy')\n",
    "print (files[0].decode(\"utf-8\"))"
   ]
  },
  {
   "cell_type": "code",
   "execution_count": null,
   "metadata": {},
   "outputs": [],
   "source": []
  }
 ],
 "metadata": {
  "kernelspec": {
   "display_name": "Python 3",
   "language": "python",
   "name": "python3"
  },
  "language_info": {
   "codemirror_mode": {
    "name": "ipython",
    "version": 3
   },
   "file_extension": ".py",
   "mimetype": "text/x-python",
   "name": "python",
   "nbconvert_exporter": "python",
   "pygments_lexer": "ipython3",
   "version": "3.8.3"
  }
 },
 "nbformat": 4,
 "nbformat_minor": 4
}
