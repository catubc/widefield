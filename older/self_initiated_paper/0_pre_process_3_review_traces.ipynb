{
 "cells": [
  {
   "cell_type": "code",
   "execution_count": 2,
   "metadata": {},
   "outputs": [
    {
     "data": {
      "application/javascript": [
       "IPython.notebook.set_autosave_interval(180000)"
      ]
     },
     "metadata": {},
     "output_type": "display_data"
    },
    {
     "name": "stdout",
     "output_type": "stream",
     "text": [
      "Autosaving every 180 seconds\n"
     ]
    },
    {
     "data": {
      "text/html": [
       "<style>.container { width:100% !important; }</style>"
      ],
      "text/plain": [
       "<IPython.core.display.HTML object>"
      ]
     },
     "metadata": {},
     "output_type": "display_data"
    }
   ],
   "source": [
    "import matplotlib\n",
    "matplotlib.use('Agg')\n",
    "#%matplotlib tk\n",
    "%autosave 180\n",
    "import matplotlib.pyplot as plt\n",
    "from IPython.core.display import display, HTML\n",
    "display(HTML(\"<style>.container { width:100% !important; }</style>\"))\n",
    "import numpy as np\n",
    "\n",
    "# FUNCTION TO COMPUTE DFF\n",
    "import os\n",
    "from utility_classification import sum_pixels_in_registered_mask, fix_trials\n",
    "\n"
   ]
  },
  {
   "cell_type": "code",
   "execution_count": 3,
   "metadata": {},
   "outputs": [
    {
     "ename": "KeyError",
     "evalue": "'data_04_lever_pull is not a file in the archive'",
     "output_type": "error",
     "traceback": [
      "\u001b[0;31m---------------------------------------------------------------------------\u001b[0m",
      "\u001b[0;31mKeyError\u001b[0m                                  Traceback (most recent call last)",
      "\u001b[0;32m<ipython-input-3-9f0d95635d9d>\u001b[0m in \u001b[0;36m<module>\u001b[0;34m\u001b[0m\n\u001b[1;32m      3\u001b[0m               allow_pickle=True)\n\u001b[1;32m      4\u001b[0m \u001b[0;34m\u001b[0m\u001b[0m\n\u001b[0;32m----> 5\u001b[0;31m \u001b[0mdata_04\u001b[0m \u001b[0;34m=\u001b[0m \u001b[0mdata\u001b[0m\u001b[0;34m[\u001b[0m\u001b[0;34m'data_04_lever_pull'\u001b[0m\u001b[0;34m]\u001b[0m\u001b[0;34m\u001b[0m\u001b[0;34m\u001b[0m\u001b[0m\n\u001b[0m\u001b[1;32m      6\u001b[0m \u001b[0;34m\u001b[0m\u001b[0m\n\u001b[1;32m      7\u001b[0m \u001b[0;32mfor\u001b[0m \u001b[0mk\u001b[0m \u001b[0;32min\u001b[0m \u001b[0mrange\u001b[0m\u001b[0;34m(\u001b[0m\u001b[0mdata_04\u001b[0m\u001b[0;34m.\u001b[0m\u001b[0mshape\u001b[0m\u001b[0;34m[\u001b[0m\u001b[0;36m0\u001b[0m\u001b[0;34m]\u001b[0m\u001b[0;34m)\u001b[0m\u001b[0;34m:\u001b[0m\u001b[0;34m\u001b[0m\u001b[0;34m\u001b[0m\u001b[0m\n",
      "\u001b[0;32m~/.local/lib/python3.8/site-packages/numpy/lib/npyio.py\u001b[0m in \u001b[0;36m__getitem__\u001b[0;34m(self, key)\u001b[0m\n\u001b[1;32m    257\u001b[0m                 \u001b[0;32mreturn\u001b[0m \u001b[0mself\u001b[0m\u001b[0;34m.\u001b[0m\u001b[0mzip\u001b[0m\u001b[0;34m.\u001b[0m\u001b[0mread\u001b[0m\u001b[0;34m(\u001b[0m\u001b[0mkey\u001b[0m\u001b[0;34m)\u001b[0m\u001b[0;34m\u001b[0m\u001b[0;34m\u001b[0m\u001b[0m\n\u001b[1;32m    258\u001b[0m         \u001b[0;32melse\u001b[0m\u001b[0;34m:\u001b[0m\u001b[0;34m\u001b[0m\u001b[0;34m\u001b[0m\u001b[0m\n\u001b[0;32m--> 259\u001b[0;31m             \u001b[0;32mraise\u001b[0m \u001b[0mKeyError\u001b[0m\u001b[0;34m(\u001b[0m\u001b[0;34m\"%s is not a file in the archive\"\u001b[0m \u001b[0;34m%\u001b[0m \u001b[0mkey\u001b[0m\u001b[0;34m)\u001b[0m\u001b[0;34m\u001b[0m\u001b[0;34m\u001b[0m\u001b[0m\n\u001b[0m\u001b[1;32m    260\u001b[0m \u001b[0;34m\u001b[0m\u001b[0m\n\u001b[1;32m    261\u001b[0m \u001b[0;34m\u001b[0m\u001b[0m\n",
      "\u001b[0;31mKeyError\u001b[0m: 'data_04_lever_pull is not a file in the archive'"
     ]
    }
   ],
   "source": [
    "# LOAD saved .npz file\n",
    "data = np.load('/media/cat/4TBSSD/yuki/time_courses_all_rewarded_330sessions_no_lockout/IJ1.npz',\n",
    "              allow_pickle=True)\n",
    "\n",
    "data_04 = data['data_04_lever_pull']\n",
    "\n",
    "for k in range(data_04.shape[0]):\n",
    "    print (k, data_04[k].shape)"
   ]
  },
  {
   "cell_type": "code",
   "execution_count": 4,
   "metadata": {},
   "outputs": [],
   "source": [
    "data = np.load('/media/cat/4TBSSD/yuki/IA2/tif_files/IA2pm_Feb16_30Hz/IA2pm_Feb16_30Hz_abspositions.npy')\n",
    "data = data[int(216.5*120):]*1.15\n",
    "\n",
    "data = np.concatenate((data[:1000]/5, data[:3000]))\n",
    "\n",
    "fig=plt.figure(figsize=(40,20))\n",
    "ax=plt.subplot(2,1,1)\n",
    "plt.plot([0,1200],[40,40],'r--',linewidth=10,c='black', alpha=.7)\n",
    "\n",
    "\n",
    "t = np.arange(data.shape[0])/120.\n",
    "plt.plot(t, data, linewidth=10, c='brown')\n",
    "plt.xlim(0,33)\n",
    "plt.ylim(0,100)\n",
    "\n",
    "# plot threshold lines\n",
    "#plt.plot([0,1200],[0,0],linewidth=4,c='black')\n",
    "#plt.plot([0,1200],[40,40],'r--',c='black')\n",
    "plt.axhspan(0, 40, facecolor='grey', alpha=0.2)\n",
    "\n",
    "fig.savefig('/home/cat/trace2.png',dpi=300)\n",
    "plt.close()\n",
    "#plt.show()\n"
   ]
  },
  {
   "cell_type": "code",
   "execution_count": null,
   "metadata": {},
   "outputs": [],
   "source": []
  },
  {
   "cell_type": "code",
   "execution_count": null,
   "metadata": {},
   "outputs": [],
   "source": []
  },
  {
   "cell_type": "code",
   "execution_count": null,
   "metadata": {},
   "outputs": [],
   "source": []
  },
  {
   "cell_type": "code",
   "execution_count": null,
   "metadata": {},
   "outputs": [],
   "source": []
  },
  {
   "cell_type": "code",
   "execution_count": null,
   "metadata": {},
   "outputs": [],
   "source": []
  },
  {
   "cell_type": "code",
   "execution_count": 10,
   "metadata": {
    "scrolled": true
   },
   "outputs": [
    {
     "name": "stdout",
     "output_type": "stream",
     "text": [
      "PROCESSING:  IA1\n",
      "recording:  IA1pm_Feb1_30Hz\n",
      "recording:  IA1pm_Feb2_30Hz\n",
      "recording:  IA1pm_Feb3_30Hz\n",
      "recording:  IA1pm_Feb4_30Hz\n",
      "recording:  IA1pm_Feb5_30Hz\n",
      "recording:  IA1pm_Feb9_30Hz\n",
      "recording:  IA1pm_Feb10_30Hz\n",
      "recording:  IA1pm_Feb11_30Hz\n",
      "recording:  IA1pm_Feb12_30Hz\n",
      "recording:  IA1pm_Feb15_30Hz\n",
      "recording:  IA1pm_Feb16_30Hz\n",
      "recording:  IA1pm_Feb17_30Hz\n",
      "recording:  IA1pm_Feb18_30Hz\n",
      "recording:  IA1pm_Feb19_30Hz\n",
      "recording:  IA1pm_Feb22_30Hz\n",
      "recording:  IA1pm_Feb23_30Hz\n",
      "recording:  IA1pm_Feb24_30Hz\n",
      "locs 44 thrshold missing IA1pm_Feb24_30Hz\n",
      "zero length recording exiting\n",
      "data_stm is None IA1pm_Feb24_30Hz\n",
      "zero length recording exiting\n",
      "data_stm is None IA1pm_Feb24_30Hz\n",
      "recording:  IA1pm_Feb25_30Hz\n",
      "locs 44 thrshold missing IA1pm_Feb25_30Hz\n",
      "zero length recording exiting\n",
      "data_stm is None IA1pm_Feb25_30Hz\n",
      "zero length recording exiting\n",
      "data_stm is None IA1pm_Feb25_30Hz\n",
      "recording:  IA1pm_Feb26_30Hz\n",
      "recording:  IA1pm_Feb29_30Hz\n",
      "recording:  IA1pm_Mar1_30Hz\n",
      "recording:  IA1pm_Mar2_30Hz\n",
      "recording:  IA1pm_Mar3_30Hz\n",
      "recording:  IA1am_Mar4_30Hz\n",
      "recording:  IA1am_Mar7_30Hz\n",
      "recording:  IA1pm_Mar8_30Hz\n",
      "recording:  IA1am_Mar9_30Hz\n",
      "recording:  IA1am_Mar10_30Hz\n",
      "recording:  IA1am_Mar11_30Hz\n",
      "recording:  IA1pm_Mar14_30Hz\n",
      "recording:  IA1am_Mar15_30Hz\n",
      "recording:  IA1pm_Mar16_30Hz\n",
      "recording:  IA1pm_Mar17_30Hz\n",
      "recording:  IA1pm_Mar18_30Hz\n",
      "recording:  IA1pm_Mar21_30Hz\n",
      "recording:  IA1pm_Mar22_30Hz\n",
      "recording:  IA1pm_Mar23_30Hz\n",
      "recording:  IA1pm_Mar24_30Hz\n",
      "recording:  IA1pm_Mar29_30Hz\n",
      "recording:  IA1pm_Mar30_30Hz\n",
      "recording:  IA1pm_Mar31_30Hz\n",
      "recording:  IA1pm_Apr1_30Hz\n",
      "recording:  IA1pm_Apr4_30Hz\n",
      "Imaging rates between aligned and session are incorrect, exiting:  30.63092397998583\n",
      "data_stm is None IA1pm_Apr4_30Hz\n",
      "Imaging rates between aligned and session are incorrect, exiting:  30.63092397998583\n",
      "data_stm is None IA1pm_Apr4_30Hz\n",
      "recording:  IA1pm_Apr5_30Hz\n",
      "recording:  IA1pm_Apr6_30Hz\n",
      "recording:  IA1pm_Apr7_30Hz\n",
      "recording:  IA1pm_Apr11_Day3_30Hz\n",
      "recording:  IA1pm_Apr13_Day5_30Hz\n",
      "recording:  IA1pm_Apr15_Day7_30Hz\n",
      "recording:  IA1pm_Apr18_Week2_30Hz\n",
      "recording:  IA1pm_Apr19_Week2_30Hz\n",
      "recording:  IA1pm_Apr20_Week2_30Hz\n",
      "aligned images missing:  /media/cat/4TBSSD/yuki/IA1/tif_files/IA1pm_Apr20_Week2_30Hz/IA1pm_Apr20_Week2_30Hz_aligned_butterworth_0.1hz_6.0hz.npy\n",
      "data_stm is None IA1pm_Apr20_Week2_30Hz\n",
      "aligned images missing:  /media/cat/4TBSSD/yuki/IA1/tif_files/IA1pm_Apr20_Week2_30Hz/IA1pm_Apr20_Week2_30Hz_aligned_butterworth_0.1hz_6.0hz.npy\n",
      "data_stm is None IA1pm_Apr20_Week2_30Hz\n",
      "recording:  IA1pm_Apr21_Week2_30Hz\n",
      "recording:  IA1pm_Apr22_Week2_30Hz\n",
      "recording:  IA1pm_Apr25_Week3_30Hz\n",
      "recording:  IA1pm_Apr26_Week3_30Hz\n",
      "recording:  IA1pm_Apr27_Week3_30Hz\n",
      "recording:  IA1pm_Apr28_Week3_30Hz\n",
      "recording:  IA1pm_Apr29_Week3_30Hz\n",
      "recording:  IA1am_May2_Week4_30Hz\n",
      "recording:  IA1am_May4_Week4_30Hz\n",
      "recording:  IA1am_May5_Week4_30Hz\n",
      "recording:  IA1am_May6_Week4_30Hz\n",
      "recording:  IA1am_May9_Week5_30Hz\n",
      "recording:  IA1am_May10_Week5_30Hz\n",
      "recording:  IA1am_May12_Week5_30Hz\n",
      "recording:  IA1am_May13_Week5_30Hz\n",
      "recording:  IA1am_May16_Week6_30Hz\n",
      "recording:  IA1am_May17_Week6_30Hz\n",
      "recording:  IA1am_May18_Week6_30Hz\n",
      "recording:  IA1am_May20_Week6_30Hz\n",
      "PROCESSING:  IA2\n",
      "recording:  IA2pm_Feb1_30Hz\n",
      "recording:  IA2pm_Feb2_30Hz\n",
      "recording:  IA2pm_Feb3_30Hz\n",
      "recording:  IA2pm_Feb4_30Hz\n",
      "recording:  IA2pm_Feb5_30Hz\n",
      "recording:  IA2pm_Feb9_30Hz\n",
      "recording:  IA2pm_Feb10_30Hz\n",
      "recording:  IA2pm_Feb11_30Hz\n",
      "recording:  IA2pm_Feb12_30Hz\n",
      "recording:  IA2pm_Feb15_30Hz\n"
     ]
    },
    {
     "name": "stderr",
     "output_type": "stream",
     "text": [
      "<ipython-input-8-bd5ea8092c5b>:16: FutureWarning: elementwise comparison failed; returning scalar instead, but in the future will perform elementwise comparison\n",
      "  idx = np.where(codes==code)[0]\n"
     ]
    },
    {
     "name": "stdout",
     "output_type": "stream",
     "text": [
      "recording:  IA2pm_Feb16_30Hz\n",
      "recording:  IA2pm_Feb17_30Hz\n",
      "recording:  IA2pm_Feb18_30Hz\n",
      "recording:  IA2pm_Feb19_30Hz\n",
      "recording:  IA2pm_Feb22_30Hz\n",
      "recording:  IA2pm_Feb23_30Hz\n",
      "recording:  IA2pm_Feb24_30Hz\n",
      "locs 44 thrshold missing IA2pm_Feb24_30Hz\n",
      "zero length recording exiting\n",
      "data_stm is None IA2pm_Feb24_30Hz\n",
      "zero length recording exiting\n",
      "data_stm is None IA2pm_Feb24_30Hz\n",
      "recording:  IA2pm_Feb25_30Hz\n",
      "locs 44 thrshold missing IA2pm_Feb25_30Hz\n",
      "zero length recording exiting\n",
      "data_stm is None IA2pm_Feb25_30Hz\n",
      "zero length recording exiting\n",
      "data_stm is None IA2pm_Feb25_30Hz\n",
      "recording:  IA2pm_Feb26_30Hz\n",
      "recording:  IA2pm_Feb29_30Hz\n",
      "recording:  IA2pm_Mar1_30Hz\n",
      "recording:  IA2pm_Mar2_30Hz\n",
      "recording:  IA2pm_Mar3_30Hz\n",
      "recording:  IA2am_Mar4_30Hz\n",
      "recording:  IA2am_Mar7_30Hz\n",
      "recording:  IA2pm_Mar8_30Hz\n",
      "recording:  IA2am_Mar9_30Hz\n",
      "recording:  IA2am_Mar10_30Hz\n",
      "recording:  IA2am_Mar11_30Hz\n",
      "recording:  IA2pm_Mar14_30Hz\n",
      "recording:  IA2am_Mar15_30Hz\n",
      "recording:  IA2pm_Mar16_30Hz\n",
      "recording:  IA2pm_Mar17_30Hz\n",
      "recording:  IA2pm_Mar18_30Hz\n",
      "recording:  IA2pm_Mar21_30Hz\n",
      "recording:  IA2pm_Mar23_30Hz\n",
      "recording:  IA2pm_Mar24_30Hz\n",
      "recording:  IA2pm_Mar29_30Hz\n",
      "recording:  IA2pm_Mar30_30Hz\n",
      "recording:  IA2pm_Mar31_30Hz\n",
      "recording:  IA2pm_Apr1_30Hz\n",
      "recording:  IA2pm_Apr4_30Hz\n",
      "recording:  IA2pm_Apr5_30Hz\n",
      "recording:  IA2pm_Apr6_30Hz\n",
      "PROCESSING:  IA3\n",
      "recording:  IA3pm_Feb1_30Hz\n",
      "recording:  IA3pm_Feb2_30Hz\n",
      "recording:  IA3pm_Feb3_30Hz\n",
      "recording:  IA3pm_Feb4_30Hz\n",
      "recording:  IA3pm_Feb9_30Hz\n",
      "recording:  IA3pm_Feb10_30Hz\n",
      "recording:  IA3pm_Feb11_30Hz\n",
      "recording:  IA3pm_Feb12_30Hz\n",
      "recording:  IA3pm_Feb15_30Hz\n",
      "recording:  IA3pm_Feb16_30Hz\n",
      "recording:  IA3pm_Feb17_30Hz\n",
      "recording:  IA3pm_Feb18_30Hz\n",
      "recording:  IA3pm_Feb19_30Hz\n",
      "recording:  IA3pm_Feb22_30Hz\n",
      "recording:  IA3pm_Feb23_30Hz\n",
      "recording:  IA3pm_Feb24_30Hz\n",
      "locs 44 thrshold missing IA3pm_Feb24_30Hz\n",
      "zero length recording exiting\n",
      "data_stm is None IA3pm_Feb24_30Hz\n",
      "zero length recording exiting\n",
      "data_stm is None IA3pm_Feb24_30Hz\n",
      "recording:  IA3pm_Feb25_30Hz\n",
      "locs 44 thrshold missing IA3pm_Feb25_30Hz\n",
      "zero length recording exiting\n",
      "data_stm is None IA3pm_Feb25_30Hz\n",
      "zero length recording exiting\n",
      "data_stm is None IA3pm_Feb25_30Hz\n",
      "recording:  IA3pm_Feb26_30Hz\n",
      "recording:  IA3pm_Feb29_30Hz\n",
      "recording:  IA3pm_Mar1_30Hz\n",
      "recording:  IA3pm_Mar2_30Hz\n",
      "recording:  IA3pm_Mar3_30Hz\n",
      "recording:  IA3am_Mar7_30Hz\n",
      "recording:  IA3pm_Mar8_30Hz\n",
      "recording:  IA3am_Mar9_30Hz\n",
      "recording:  IA3am_Mar10_30Hz\n",
      "recording:  IA3am_Mar11_30Hz\n",
      "recording:  IA3pm_Mar14_30Hz\n",
      "recording:  IA3am_Mar15_30Hz\n",
      "recording:  IA3pm_Mar16_30Hz\n",
      "recording:  IA3pm_Mar17_30Hz\n",
      "recording:  IA3pm_Mar18_30Hz\n",
      "recording:  IA3pm_Mar21_30Hz\n",
      "recording:  IA3pm_Mar22_30Hz\n",
      "recording:  IA3pm_Mar23_30Hz\n",
      "recording:  IA3pm_Mar24_30Hz\n",
      "recording:  IA3pm_Mar29_30Hz\n",
      "recording:  IA3pm_Mar30_30Hz\n",
      "recording:  IA3pm_Mar31_30Hz\n",
      "recording:  IA3pm_Apr1_30Hz\n",
      "recording:  IA3pm_Apr4_30Hz\n",
      "recording:  IA3pm_Apr5_30Hz\n",
      "recording:  IA3pm_Apr6_30Hz\n",
      "recording:  IA3pm_Apr7_30Hz\n",
      "recording:  IA3pm_Apr11_Day3_30Hz\n",
      "locs 44 thrshold missing IA3pm_Apr11_Day3_30Hz\n"
     ]
    },
    {
     "ename": "FileNotFoundError",
     "evalue": "[Errno 2] No such file or directory: '/media/cat/4TBSSD/yuki/IA3/tif_files/IA3pm_Apr11_Day3_30Hz/IA3pm_Apr11_Day3_30Hz_aligned.npy'",
     "output_type": "error",
     "traceback": [
      "\u001b[0;31m---------------------------------------------------------------------------\u001b[0m",
      "\u001b[0;31mFileNotFoundError\u001b[0m                         Traceback (most recent call last)",
      "\u001b[0;32m<ipython-input-10-53e4d9b091ef>\u001b[0m in \u001b[0;36m<module>\u001b[0;34m\u001b[0m\n\u001b[1;32m     30\u001b[0m         \u001b[0;32mfor\u001b[0m \u001b[0mrecording\u001b[0m \u001b[0;32min\u001b[0m \u001b[0mrecordings\u001b[0m\u001b[0;34m:\u001b[0m\u001b[0;34m\u001b[0m\u001b[0;34m\u001b[0m\u001b[0m\n\u001b[1;32m     31\u001b[0m             \u001b[0mprint\u001b[0m \u001b[0;34m(\u001b[0m\u001b[0;34m\"recording: \"\u001b[0m\u001b[0;34m,\u001b[0m \u001b[0mrecording\u001b[0m\u001b[0;34m)\u001b[0m\u001b[0;34m\u001b[0m\u001b[0;34m\u001b[0m\u001b[0m\n\u001b[0;32m---> 32\u001b[0;31m             res.append(compute_trial_courses_ROI_code04_trigger(recording,\n\u001b[0m\u001b[1;32m     33\u001b[0m                                                             \u001b[0mroot_dir\u001b[0m\u001b[0;34m,\u001b[0m\u001b[0;34m\u001b[0m\u001b[0;34m\u001b[0m\u001b[0m\n\u001b[1;32m     34\u001b[0m                                                             \u001b[0mfeature_name\u001b[0m\u001b[0;34m,\u001b[0m\u001b[0;34m\u001b[0m\u001b[0;34m\u001b[0m\u001b[0m\n",
      "\u001b[0;32m<ipython-input-8-bd5ea8092c5b>\u001b[0m in \u001b[0;36mcompute_trial_courses_ROI_code04_trigger\u001b[0;34m(recording, root_dir, feature_name, lockout_window, n_sec_window)\u001b[0m\n\u001b[1;32m    559\u001b[0m \u001b[0;34m\u001b[0m\u001b[0m\n\u001b[1;32m    560\u001b[0m         \u001b[0;31m#if os.path.exists(fname_04)==False:\u001b[0m\u001b[0;34m\u001b[0m\u001b[0;34m\u001b[0m\u001b[0;34m\u001b[0m\u001b[0m\n\u001b[0;32m--> 561\u001b[0;31m         dff1, dff1_random = generate_arrays_ROI_triggered(root_dir,\n\u001b[0m\u001b[1;32m    562\u001b[0m                                                              \u001b[0mdff_method\u001b[0m\u001b[0;34m,\u001b[0m\u001b[0;34m\u001b[0m\u001b[0;34m\u001b[0m\u001b[0m\n\u001b[1;32m    563\u001b[0m                                                              \u001b[0mrecording\u001b[0m\u001b[0;34m,\u001b[0m\u001b[0;34m\u001b[0m\u001b[0;34m\u001b[0m\u001b[0m\n",
      "\u001b[0;32m<ipython-input-8-bd5ea8092c5b>\u001b[0m in \u001b[0;36mgenerate_arrays_ROI_triggered\u001b[0;34m(root_dir, dff_method, recording, locs_selected, n_sec_window, fname_04, fname_random)\u001b[0m\n\u001b[1;32m    597\u001b[0m     \u001b[0;32mif\u001b[0m \u001b[0mos\u001b[0m\u001b[0;34m.\u001b[0m\u001b[0mpath\u001b[0m\u001b[0;34m.\u001b[0m\u001b[0mexists\u001b[0m\u001b[0;34m(\u001b[0m\u001b[0mfname_04\u001b[0m\u001b[0;34m)\u001b[0m\u001b[0;34m==\u001b[0m\u001b[0;32mFalse\u001b[0m\u001b[0;34m:\u001b[0m\u001b[0;34m\u001b[0m\u001b[0;34m\u001b[0m\u001b[0m\n\u001b[1;32m    598\u001b[0m         \u001b[0;31m# CALL FUNCTION;\u001b[0m\u001b[0;34m\u001b[0m\u001b[0;34m\u001b[0m\u001b[0;34m\u001b[0m\u001b[0m\n\u001b[0;32m--> 599\u001b[0;31m         data_stm = compute_DFF_function(\n\u001b[0m\u001b[1;32m    600\u001b[0m                                 \u001b[0mroot_dir\u001b[0m\u001b[0;34m,\u001b[0m\u001b[0;34m\u001b[0m\u001b[0;34m\u001b[0m\u001b[0m\n\u001b[1;32m    601\u001b[0m                                 \u001b[0mdff_method\u001b[0m\u001b[0;34m,\u001b[0m \u001b[0;31m# 'globalAverage' or 'slidingWindow'\u001b[0m\u001b[0;34m\u001b[0m\u001b[0;34m\u001b[0m\u001b[0m\n",
      "\u001b[0;32m<ipython-input-8-bd5ea8092c5b>\u001b[0m in \u001b[0;36mcompute_DFF_function\u001b[0;34m(root_dir, dff_method, recording, locs_selected, n_sec_window)\u001b[0m\n\u001b[1;32m    106\u001b[0m     \u001b[0;31m#images_file = self.parent.animal.home_dir+self.parent.animal.name+'/tif_files/'+self.rec_filename+'/'+self.rec_filename+'_aligned.npy'\u001b[0m\u001b[0;34m\u001b[0m\u001b[0;34m\u001b[0m\u001b[0;34m\u001b[0m\u001b[0m\n\u001b[1;32m    107\u001b[0m     \u001b[0mimages_file\u001b[0m \u001b[0;34m=\u001b[0m \u001b[0maligned_fname\u001b[0m\u001b[0;34m\u001b[0m\u001b[0;34m\u001b[0m\u001b[0m\n\u001b[0;32m--> 108\u001b[0;31m     \u001b[0maligned_images\u001b[0m \u001b[0;34m=\u001b[0m \u001b[0mnp\u001b[0m\u001b[0;34m.\u001b[0m\u001b[0mload\u001b[0m\u001b[0;34m(\u001b[0m\u001b[0mimages_file\u001b[0m\u001b[0;34m)\u001b[0m\u001b[0;34m\u001b[0m\u001b[0;34m\u001b[0m\u001b[0m\n\u001b[0m\u001b[1;32m    109\u001b[0m \u001b[0;34m\u001b[0m\u001b[0m\n\u001b[1;32m    110\u001b[0m     \u001b[0;31m# Find blue light on/off\u001b[0m\u001b[0;34m\u001b[0m\u001b[0;34m\u001b[0m\u001b[0;34m\u001b[0m\u001b[0m\n",
      "\u001b[0;32m~/.local/lib/python3.8/site-packages/numpy/lib/npyio.py\u001b[0m in \u001b[0;36mload\u001b[0;34m(file, mmap_mode, allow_pickle, fix_imports, encoding)\u001b[0m\n\u001b[1;32m    414\u001b[0m             \u001b[0mown_fid\u001b[0m \u001b[0;34m=\u001b[0m \u001b[0;32mFalse\u001b[0m\u001b[0;34m\u001b[0m\u001b[0;34m\u001b[0m\u001b[0m\n\u001b[1;32m    415\u001b[0m         \u001b[0;32melse\u001b[0m\u001b[0;34m:\u001b[0m\u001b[0;34m\u001b[0m\u001b[0;34m\u001b[0m\u001b[0m\n\u001b[0;32m--> 416\u001b[0;31m             \u001b[0mfid\u001b[0m \u001b[0;34m=\u001b[0m \u001b[0mstack\u001b[0m\u001b[0;34m.\u001b[0m\u001b[0menter_context\u001b[0m\u001b[0;34m(\u001b[0m\u001b[0mopen\u001b[0m\u001b[0;34m(\u001b[0m\u001b[0mos_fspath\u001b[0m\u001b[0;34m(\u001b[0m\u001b[0mfile\u001b[0m\u001b[0;34m)\u001b[0m\u001b[0;34m,\u001b[0m \u001b[0;34m\"rb\"\u001b[0m\u001b[0;34m)\u001b[0m\u001b[0;34m)\u001b[0m\u001b[0;34m\u001b[0m\u001b[0;34m\u001b[0m\u001b[0m\n\u001b[0m\u001b[1;32m    417\u001b[0m             \u001b[0mown_fid\u001b[0m \u001b[0;34m=\u001b[0m \u001b[0;32mTrue\u001b[0m\u001b[0;34m\u001b[0m\u001b[0;34m\u001b[0m\u001b[0m\n\u001b[1;32m    418\u001b[0m \u001b[0;34m\u001b[0m\u001b[0m\n",
      "\u001b[0;31mFileNotFoundError\u001b[0m: [Errno 2] No such file or directory: '/media/cat/4TBSSD/yuki/IA3/tif_files/IA3pm_Apr11_Day3_30Hz/IA3pm_Apr11_Day3_30Hz_aligned.npy'"
     ]
    }
   ],
   "source": [
    "# COMPUTE ROI TRIAL COURSES - WITH & WITHOUT LOCKOUT\n",
    "\n",
    "names = ['IA1','IA2','IA3','IJ1','IJ2','AR4','AQ2']\n",
    "#names = ['IJ2']\n",
    "\n",
    "feature_name = 'code_04'\n",
    "lockout_window = 10\n",
    "n_sec_window = 10\n",
    "\n",
    "for name in names:\n",
    "    root_dir = '/media/cat/4TBSSD/yuki/'+name\n",
    "    #recordings = np.loadtxt(root_dir + '/'+name+'.txt',dtype='str')\n",
    "    \n",
    "    temp_recs = np.load(root_dir+'/tif_files.npy')\n",
    "    recordings =[]\n",
    "    for k in range(len(temp_recs)):\n",
    "        recordings.append(os.path.split(temp_recs[k])[1][:-4])\n",
    "    \n",
    "    print (\"PROCESSING: \", name)\n",
    "    \n",
    "    if False:\n",
    "        import parmap\n",
    "        res = parmap.map(compute_trial_courses_ROI_code04_trigger, \n",
    "                       recordings, \n",
    "                       root_dir,\n",
    "                       pm_processes=4,\n",
    "                       pm_pbar=True)\n",
    "    else:\n",
    "        res = []\n",
    "        for recording in recordings:\n",
    "            print (\"recording: \", recording)\n",
    "            res.append(compute_trial_courses_ROI_code04_trigger(recording,\n",
    "                                                            root_dir,\n",
    "                                                            feature_name,\n",
    "                                                            lockout_window,\n",
    "                                                            n_sec_window))\n",
    "\n"
   ]
  },
  {
   "cell_type": "code",
   "execution_count": 47,
   "metadata": {},
   "outputs": [],
   "source": [
    "# # CHECK ALIGNED IMAGES\n",
    "# data = []\n",
    "# data.append(np.load('/media/cat/4TBSSD/yuki/IJ2/tif_files/IJ2pm_Feb3_30Hz/IJ2pm_Feb3_30Hz_aligned.npy'))\n",
    "# data.append(np.load('/media/cat/4TBSSD/yuki/IJ2/tif_files/IJ2pm_Feb4_30Hz/IJ2pm_Feb4_30Hz_aligned.npy'))\n",
    "# data.append(np.load('/media/cat/4TBSSD/yuki/IJ2/tif_files/IJ2pm_Feb5_30Hz/IJ2pm_Feb5_30Hz_aligned.npy'))\n",
    "\n",
    "# print (data1.shape)\n",
    "# for k in range(4):\n",
    "#     ax=plt.subplot(2,2,k+1)\n",
    "#     plt.imshow(data[k][100])\n"
   ]
  },
  {
   "cell_type": "code",
   "execution_count": null,
   "metadata": {},
   "outputs": [],
   "source": [
    "# MAKE ORDERED .NZP FILES\n",
    "# MUST INPUT a temporally ordered.txt file\n",
    "fname_list = '/media/cat/4TBSSD/yuki/time_courses/AQ2_ordered.txt'\n",
    "fnames = np.loadtxt(fname_list,dtype='str')\n",
    "#print (fnames)\n",
    "\n",
    "data_list = []\n",
    "fnames_data_list = []\n",
    "data_random_list = []\n",
    "fnames_data_random_list = []\n",
    "for fname in fnames:\n",
    "    if '04' in fname:\n",
    "        data_list.append(np.load(fname))\n",
    "        fnames_data_list.append(fname)\n",
    "    else:\n",
    "        data_random_list.append(np.load(fname))\n",
    "        fnames_data_random_list.append(fname)\n",
    "\n",
    "np.savez(fname_list[:-4]+'.npz',\n",
    "        data_04_lever_pull = data_list,\n",
    "        data_04_lever_pull_fnames = fnames_data_list,\n",
    "        data_random = data_random_list,\n",
    "        data_random_fnames = fnames_data_random_list)\n"
   ]
  },
  {
   "cell_type": "code",
   "execution_count": null,
   "metadata": {},
   "outputs": [],
   "source": [
    "# GET DISTRIBUTION OF SESSIONS IN EACH ANIMAL\n",
    "\n",
    "all_files = [\n",
    "'/media/cat/4TBSSD/yuki/time_courses/AR4_ordered.npz',\n",
    "'/media/cat/4TBSSD/yuki/time_courses/IA1_ordered.npz',\n",
    "'/media/cat/4TBSSD/yuki/time_courses/IA2_ordered.npz',\n",
    "'/media/cat/4TBSSD/yuki/time_courses/IA3_ordered.npz',\n",
    "'/media/cat/4TBSSD/yuki/time_courses/IJ1_ordered.npz',\n",
    "'/media/cat/4TBSSD/yuki/time_courses/IJ2_ordered.npz',\n",
    "'/media/cat/4TBSSD/yuki/time_courses/AQ2_ordered.npz'\n",
    "]\n",
    "\n",
    "tot = 0\n",
    "for ctr, file_ in enumerate(all_files):\n",
    "    temp = np.load(file_, allow_pickle=True)\n",
    "    #fnames = temp['data_04_lever_pull_fnames']\n",
    "    #print (fnames)\n",
    "    data = temp['data_04_lever_pull']\n",
    "    print (file_, \" # of sessions: \", len(data))\n",
    "    tot+=len(data)\n",
    "    ax=plt.subplot(2,4,ctr+1)\n",
    "    plt.title(os.path.split(file_)[1])\n",
    "    \n",
    "    lengths = []\n",
    "    for k in range(len(data)):\n",
    "        lengths.append(len(data[k]))\n",
    "        #print (data[k].shape)\n",
    "    y = np.histogram(lengths, np.arange(0,400,10))\n",
    "    plt.plot(y[1][:-1],y[0])\n",
    "    plt.ylabel(\"# of sessions\")\n",
    "    plt.xlabel(\"# of trials in sessions\")\n",
    "    plt.xlim(0,200)\n",
    "print (\"total: \", tot)"
   ]
  },
  {
   "cell_type": "code",
   "execution_count": null,
   "metadata": {},
   "outputs": [],
   "source": [
    "# SAVE DATA\n",
    "#np.save(root_dir+\"data_random_code_\"+str(locs_selected.shape[0])+\"trials_.npy\", data_stm)"
   ]
  },
  {
   "cell_type": "code",
   "execution_count": 66,
   "metadata": {},
   "outputs": [
    {
     "name": "stdout",
     "output_type": "stream",
     "text": [
      "(64, 35, 601)\n"
     ]
    }
   ],
   "source": [
    "data = np.load('/media/cat/4TBSSD/yuki/IA2/tif_files/IA2pm_Apr6_30Hz/data_random_code_64trials_ROIs.npy')\n",
    "print (data.shape)"
   ]
  },
  {
   "cell_type": "code",
   "execution_count": 10,
   "metadata": {},
   "outputs": [
    {
     "name": "stdout",
     "output_type": "stream",
     "text": [
      "['/media/cat/12TB/in_vivo/tim/yuki/AR4/tif_files/AR4_Oct27pm_15Hz_8x8/AR4_Oct27pm_15Hz_8x8.tif'\n",
      " '/media/cat/12TB/in_vivo/tim/yuki/AR4/tif_files/AR4_Oct28pm_15Hz_8x8/AR4_Oct28pm_15Hz_8x8.tif'\n",
      " '/media/cat/12TB/in_vivo/tim/yuki/AR4/tif_files/AR4_Oct29pm_15Hz_8x8/AR4_Oct29pm_15Hz_8x8.tif'\n",
      " '/media/cat/12TB/in_vivo/tim/yuki/AR4/tif_files/AR4_Nov3pm_15Hz_8x8/AR4_Nov3pm_15Hz_8x8.tif'\n",
      " '/media/cat/12TB/in_vivo/tim/yuki/AR4/tif_files/AR4_Nov3am_15Hz_8x8/AR4_Nov3am_15Hz_8x8.tif'\n",
      " '/media/cat/12TB/in_vivo/tim/yuki/AR4/tif_files/AR4_Nov4am_15Hz_8x8/AR4_Nov4am_15Hz_8x8.tif'\n",
      " '/media/cat/12TB/in_vivo/tim/yuki/AR4/tif_files/AR4_Nov5am_15Hz_8x8/AR4_Nov5am_15Hz_8x8.tif'\n",
      " '/media/cat/12TB/in_vivo/tim/yuki/AR4/tif_files/AR4_Nov6am_15Hz_8x8/AR4_Nov6am_15Hz_8x8.tif'\n",
      " '/media/cat/12TB/in_vivo/tim/yuki/AR4/tif_files/AR4_Nov7am_15Hz_8x8/AR4_Nov7am_15Hz_8x8.tif'\n",
      " '/media/cat/12TB/in_vivo/tim/yuki/AR4/tif_files/AR4_Nov10am_15Hz_8x8/AR4_Nov10am_15Hz_8x8.tif'\n",
      " '/media/cat/12TB/in_vivo/tim/yuki/AR4/tif_files/AR4_Nov11am_15Hz_8x8/AR4_Nov11am_15Hz_8x8.tif'\n",
      " '/media/cat/12TB/in_vivo/tim/yuki/AR4/tif_files/AR4_Nov12am_15Hz_8x8/AR4_Nov12am_15Hz_8x8.tif'\n",
      " '/media/cat/12TB/in_vivo/tim/yuki/AR4/tif_files/AR4_Nov17am_15Hz_8x8/AR4_Nov17am_15Hz_8x8.tif'\n",
      " '/media/cat/12TB/in_vivo/tim/yuki/AR4/tif_files/AR4_Nov19am_15Hz_8x8/AR4_Nov19am_15Hz_8x8.tif'\n",
      " '/media/cat/12TB/in_vivo/tim/yuki/AR4/tif_files/AR4_Nov21am_15Hz_8x8/AR4_Nov21am_15Hz_8x8.tif'\n",
      " '/media/cat/12TB/in_vivo/tim/yuki/AR4/tif_files/AR4_Nov22am_15Hz_8x8/AR4_Nov22am_15Hz_8x8.tif'\n",
      " '/media/cat/12TB/in_vivo/tim/yuki/AR4/tif_files/AR4_Nov23am_15Hz_8x8/AR4_Nov23am_15Hz_8x8.tif'\n",
      " '/media/cat/12TB/in_vivo/tim/yuki/AR4/tif_files/AR4_Nov24am_15Hz_8x8/AR4_Nov24am_15Hz_8x8.tif'\n",
      " '/media/cat/12TB/in_vivo/tim/yuki/AR4/tif_files/AR4_Nov25am_15Hz_8x8/AR4_Nov25am_15Hz_8x8.tif'\n",
      " '/media/cat/12TB/in_vivo/tim/yuki/AR4/tif_files/AR4_Nov26am_15Hz_8x8/AR4_Nov26am_15Hz_8x8.tif'\n",
      " '/media/cat/12TB/in_vivo/tim/yuki/AR4/tif_files/AR4_Nov27am_15Hz_8x8/AR4_Nov27am_15Hz_8x8.tif'\n",
      " '/media/cat/12TB/in_vivo/tim/yuki/AR4/tif_files/AR4_Nov30am_15Hz_8x8/AR4_Nov30am_15Hz_8x8.tif'\n",
      " '/media/cat/12TB/in_vivo/tim/yuki/AR4/tif_files/AR4_Dec1am_15Hz_8x8/AR4_Dec1am_15Hz_8x8.tif'\n",
      " '/media/cat/12TB/in_vivo/tim/yuki/AR4/tif_files/AR4_Dec2am_15Hz_8x8/AR4_Dec2am_15Hz_8x8.tif'\n",
      " '/media/cat/12TB/in_vivo/tim/yuki/AR4/tif_files/AR4_Dec3am_15Hz_8x8/AR4_Dec3am_15Hz_8x8.tif'\n",
      " '/media/cat/12TB/in_vivo/tim/yuki/AR4/tif_files/AR4_Dec8am_15Hz_8x8/AR4_Dec8am_15Hz_8x8.tif'\n",
      " '/media/cat/12TB/in_vivo/tim/yuki/AR4/tif_files/AR4_Dec9am_15Hz_8x8/AR4_Dec9am_15Hz_8x8.tif'\n",
      " '/media/cat/12TB/in_vivo/tim/yuki/AR4/tif_files/AR4_Dec10am_15Hz_8x8/AR4_Dec10am_15Hz_8x8.tif'\n",
      " '/media/cat/12TB/in_vivo/tim/yuki/AR4/tif_files/AR4_Dec11am_15Hz_8x8/AR4_Dec11am_15Hz_8x8.tif'\n",
      " '/media/cat/12TB/in_vivo/tim/yuki/AR4/tif_files/AR4_Dec12am_15Hz_8x8/AR4_Dec12am_15Hz_8x8.tif'\n",
      " '/media/cat/12TB/in_vivo/tim/yuki/AR4/tif_files/AR4_Dec15am_15Hz_8x8/AR4_Dec15am_15Hz_8x8.tif'\n",
      " '/media/cat/12TB/in_vivo/tim/yuki/AR4/tif_files/AR4_Dec16am_15Hz_8x8/AR4_Dec16am_15Hz_8x8.tif'\n",
      " '/media/cat/12TB/in_vivo/tim/yuki/AR4/tif_files/AR4_Dec17am_15Hz_8x8/AR4_Dec17am_15Hz_8x8.tif']\n"
     ]
    }
   ],
   "source": [
    "data= np.load('/media/cat/4TBSSD/yuki/AR4/tif_files.npy')\n",
    "print (data)"
   ]
  },
  {
   "cell_type": "code",
   "execution_count": 30,
   "metadata": {},
   "outputs": [
    {
     "name": "stdout",
     "output_type": "stream",
     "text": [
      "['/media/cat/12TB/in_vivo/tim/yuki/IA1/tif_files/IA1pm_Feb1_30Hz/IA1pm_Feb1_30Hz.tif'\n",
      " '/media/cat/12TB/in_vivo/tim/yuki/IA1/tif_files/IA1pm_Feb2_30Hz/IA1pm_Feb2_30Hz.tif'\n",
      " '/media/cat/12TB/in_vivo/tim/yuki/IA1/tif_files/IA1pm_Feb3_30Hz/IA1pm_Feb3_30Hz.tif'\n",
      " '/media/cat/12TB/in_vivo/tim/yuki/IA1/tif_files/IA1pm_Feb4_30Hz/IA1pm_Feb4_30Hz.tif'\n",
      " '/media/cat/12TB/in_vivo/tim/yuki/IA1/tif_files/IA1pm_Feb5_30Hz/IA1pm_Feb5_30Hz.tif'\n",
      " '/media/cat/12TB/in_vivo/tim/yuki/IA1/tif_files/IA1pm_Feb9_30Hz/IA1pm_Feb9_30Hz.tif'\n",
      " '/media/cat/12TB/in_vivo/tim/yuki/IA1/tif_files/IA1pm_Feb10_30Hz/IA1pm_Feb10_30Hz.tif'\n",
      " '/media/cat/12TB/in_vivo/tim/yuki/IA1/tif_files/IA1pm_Feb11_30Hz/IA1pm_Feb11_30Hz.tif'\n",
      " '/media/cat/12TB/in_vivo/tim/yuki/IA1/tif_files/IA1pm_Feb12_30Hz/IA1pm_Feb12_30Hz.tif'\n",
      " '/media/cat/12TB/in_vivo/tim/yuki/IA1/tif_files/IA1pm_Feb15_30Hz/IA1pm_Feb15_30Hz.tif'\n",
      " '/media/cat/12TB/in_vivo/tim/yuki/IA1/tif_files/IA1pm_Feb16_30Hz/IA1pm_Feb16_30Hz.tif'\n",
      " '/media/cat/12TB/in_vivo/tim/yuki/IA1/tif_files/IA1pm_Feb17_30Hz/IA1pm_Feb17_30Hz.tif'\n",
      " '/media/cat/12TB/in_vivo/tim/yuki/IA1/tif_files/IA1pm_Feb18_30Hz/IA1pm_Feb18_30Hz.tif'\n",
      " '/media/cat/12TB/in_vivo/tim/yuki/IA1/tif_files/IA1pm_Feb19_30Hz/IA1pm_Feb19_30Hz.tif'\n",
      " '/media/cat/12TB/in_vivo/tim/yuki/IA1/tif_files/IA1pm_Feb22_30Hz/IA1pm_Feb22_30Hz.tif'\n",
      " '/media/cat/12TB/in_vivo/tim/yuki/IA1/tif_files/IA1pm_Feb23_30Hz/IA1pm_Feb23_30Hz.tif'\n",
      " '/media/cat/12TB/in_vivo/tim/yuki/IA1/tif_files/IA1pm_Feb24_30Hz/IA1pm_Feb24_30Hz.tif'\n",
      " '/media/cat/12TB/in_vivo/tim/yuki/IA1/tif_files/IA1pm_Feb25_30Hz/IA1pm_Feb25_30Hz.tif'\n",
      " '/media/cat/12TB/in_vivo/tim/yuki/IA1/tif_files/IA1pm_Feb26_30Hz/IA1pm_Feb26_30Hz.tif'\n",
      " '/media/cat/12TB/in_vivo/tim/yuki/IA1/tif_files/IA1pm_Feb29_30Hz/IA1pm_Feb29_30Hz.tif'\n",
      " '/media/cat/12TB/in_vivo/tim/yuki/IA1/tif_files/IA1pm_Mar1_30Hz/IA1pm_Mar1_30Hz.tif'\n",
      " '/media/cat/12TB/in_vivo/tim/yuki/IA1/tif_files/IA1pm_Mar2_30Hz/IA1pm_Mar2_30Hz.tif'\n",
      " '/media/cat/12TB/in_vivo/tim/yuki/IA1/tif_files/IA1pm_Mar3_30Hz/IA1pm_Mar3_30Hz.tif'\n",
      " '/media/cat/12TB/in_vivo/tim/yuki/IA1/tif_files/IA1am_Mar4_30Hz/IA1am_Mar4_30Hz.tif'\n",
      " '/media/cat/12TB/in_vivo/tim/yuki/IA1/tif_files/IA1am_Mar7_30Hz/IA1am_Mar7_30Hz.tif'\n",
      " '/media/cat/12TB/in_vivo/tim/yuki/IA1/tif_files/IA1pm_Mar8_30Hz/IA1pm_Mar8_30Hz.tif'\n",
      " '/media/cat/12TB/in_vivo/tim/yuki/IA1/tif_files/IA1am_Mar9_30Hz/IA1am_Mar9_30Hz.tif'\n",
      " '/media/cat/12TB/in_vivo/tim/yuki/IA1/tif_files/IA1am_Mar10_30Hz/IA1am_Mar10_30Hz.tif'\n",
      " '/media/cat/12TB/in_vivo/tim/yuki/IA1/tif_files/IA1am_Mar11_30Hz/IA1am_Mar11_30Hz.tif'\n",
      " '/media/cat/12TB/in_vivo/tim/yuki/IA1/tif_files/IA1pm_Mar14_30Hz/IA1pm_Mar14_30Hz.tif'\n",
      " '/media/cat/12TB/in_vivo/tim/yuki/IA1/tif_files/IA1am_Mar15_30Hz/IA1am_Mar15_30Hz.tif'\n",
      " '/media/cat/12TB/in_vivo/tim/yuki/IA1/tif_files/IA1pm_Mar16_30Hz/IA1pm_Mar16_30Hz.tif'\n",
      " '/media/cat/12TB/in_vivo/tim/yuki/IA1/tif_files/IA1pm_Mar17_30Hz/IA1pm_Mar17_30Hz.tif'\n",
      " '/media/cat/12TB/in_vivo/tim/yuki/IA1/tif_files/IA1pm_Mar18_30Hz/IA1pm_Mar18_30Hz.tif'\n",
      " '/media/cat/12TB/in_vivo/tim/yuki/IA1/tif_files/IA1pm_Mar21_30Hz/IA1pm_Mar21_30Hz.tif'\n",
      " '/media/cat/12TB/in_vivo/tim/yuki/IA1/tif_files/IA1pm_Mar22_30Hz/IA1pm_Mar22_30Hz.tif'\n",
      " '/media/cat/12TB/in_vivo/tim/yuki/IA1/tif_files/IA1pm_Mar23_30Hz/IA1pm_Mar23_30Hz.tif'\n",
      " '/media/cat/12TB/in_vivo/tim/yuki/IA1/tif_files/IA1pm_Mar24_30Hz/IA1pm_Mar24_30Hz.tif'\n",
      " '/media/cat/12TB/in_vivo/tim/yuki/IA1/tif_files/IA1pm_Mar29_30Hz/IA1pm_Mar29_30Hz.tif'\n",
      " '/media/cat/12TB/in_vivo/tim/yuki/IA1/tif_files/IA1pm_Mar30_30Hz/IA1pm_Mar30_30Hz.tif'\n",
      " '/media/cat/12TB/in_vivo/tim/yuki/IA1/tif_files/IA1pm_Mar31_30Hz/IA1pm_Mar31_30Hz.tif'\n",
      " '/media/cat/12TB/in_vivo/tim/yuki/IA1/tif_files/IA1pm_Apr1_30Hz/IA1pm_Apr1_30Hz.tif'\n",
      " '/media/cat/12TB/in_vivo/tim/yuki/IA1/tif_files/IA1pm_Apr4_30Hz/IA1pm_Apr4_30Hz.tif'\n",
      " '/media/cat/12TB/in_vivo/tim/yuki/IA1/tif_files/IA1pm_Apr5_30Hz/IA1pm_Apr5_30Hz.tif'\n",
      " '/media/cat/12TB/in_vivo/tim/yuki/IA1/tif_files/IA1pm_Apr6_30Hz/IA1pm_Apr6_30Hz.tif'\n",
      " '/media/cat/12TB/in_vivo/tim/yuki/IA1/tif_files/IA1pm_Apr7_30Hz/IA1pm_Apr7_30Hz.tif'\n",
      " '/media/cat/12TB/in_vivo/tim/yuki/IA1/tif_files/IA1pm_Apr11_Day3_30Hz/IA1pm_Apr11_Day3_30Hz.tif'\n",
      " '/media/cat/12TB/in_vivo/tim/yuki/IA1/tif_files/IA1pm_Apr13_Day5_30Hz/IA1pm_Apr13_Day5_30Hz.tif'\n",
      " '/media/cat/12TB/in_vivo/tim/yuki/IA1/tif_files/IA1pm_Apr15_Day7_30Hz/IA1pm_Apr15_Day7_30Hz.tif'\n",
      " '/media/cat/12TB/in_vivo/tim/yuki/IA1/tif_files/IA1pm_Apr18_Week2_30Hz/IA1pm_Apr18_Week2_30Hz.tif'\n",
      " '/media/cat/12TB/in_vivo/tim/yuki/IA1/tif_files/IA1pm_Apr19_Week2_30Hz/IA1pm_Apr19_Week2_30Hz.tif'\n",
      " '/media/cat/12TB/in_vivo/tim/yuki/IA1/tif_files/IA1pm_Apr20_Week2_30Hz/IA1pm_Apr20_Week2_30Hz.tif'\n",
      " '/media/cat/12TB/in_vivo/tim/yuki/IA1/tif_files/IA1pm_Apr21_Week2_30Hz/IA1pm_Apr21_Week2_30Hz.tif'\n",
      " '/media/cat/12TB/in_vivo/tim/yuki/IA1/tif_files/IA1pm_Apr22_Week2_30Hz/IA1pm_Apr22_Week2_30Hz.tif'\n",
      " '/media/cat/12TB/in_vivo/tim/yuki/IA1/tif_files/IA1pm_Apr25_Week3_30Hz/IA1pm_Apr25_Week3_30Hz.tif'\n",
      " '/media/cat/12TB/in_vivo/tim/yuki/IA1/tif_files/IA1pm_Apr26_Week3_30Hz/IA1pm_Apr26_Week3_30Hz.tif'\n",
      " '/media/cat/12TB/in_vivo/tim/yuki/IA1/tif_files/IA1pm_Apr27_Week3_30Hz/IA1pm_Apr27_Week3_30Hz.tif'\n",
      " '/media/cat/12TB/in_vivo/tim/yuki/IA1/tif_files/IA1pm_Apr28_Week3_30Hz/IA1pm_Apr28_Week3_30Hz.tif'\n",
      " '/media/cat/12TB/in_vivo/tim/yuki/IA1/tif_files/IA1pm_Apr29_Week3_30Hz/IA1pm_Apr29_Week3_30Hz.tif'\n",
      " '/media/cat/12TB/in_vivo/tim/yuki/IA1/tif_files/IA1am_May2_Week4_30Hz/IA1am_May2_Week4_30Hz.tif'\n",
      " '/media/cat/12TB/in_vivo/tim/yuki/IA1/tif_files/IA1am_May4_Week4_30Hz/IA1am_May4_Week4_30Hz.tif'\n",
      " '/media/cat/12TB/in_vivo/tim/yuki/IA1/tif_files/IA1am_May5_Week4_30Hz/IA1am_May5_Week4_30Hz.tif'\n",
      " '/media/cat/12TB/in_vivo/tim/yuki/IA1/tif_files/IA1am_May6_Week4_30Hz/IA1am_May6_Week4_30Hz.tif'\n",
      " '/media/cat/12TB/in_vivo/tim/yuki/IA1/tif_files/IA1am_May9_Week5_30Hz/IA1am_May9_Week5_30Hz.tif'\n",
      " '/media/cat/12TB/in_vivo/tim/yuki/IA1/tif_files/IA1am_May10_Week5_30Hz/IA1am_May10_Week5_30Hz.tif'\n",
      " '/media/cat/12TB/in_vivo/tim/yuki/IA1/tif_files/IA1am_May12_Week5_30Hz/IA1am_May12_Week5_30Hz.tif'\n",
      " '/media/cat/12TB/in_vivo/tim/yuki/IA1/tif_files/IA1am_May13_Week5_30Hz/IA1am_May13_Week5_30Hz.tif'\n",
      " '/media/cat/12TB/in_vivo/tim/yuki/IA1/tif_files/IA1am_May16_Week6_30Hz/IA1am_May16_Week6_30Hz.tif'\n",
      " '/media/cat/12TB/in_vivo/tim/yuki/IA1/tif_files/IA1am_May17_Week6_30Hz/IA1am_May17_Week6_30Hz.tif'\n",
      " '/media/cat/12TB/in_vivo/tim/yuki/IA1/tif_files/IA1am_May18_Week6_30Hz/IA1am_May18_Week6_30Hz.tif'\n",
      " '/media/cat/12TB/in_vivo/tim/yuki/IA1/tif_files/IA1am_May20_Week6_30Hz/IA1am_May20_Week6_30Hz.tif']\n"
     ]
    }
   ],
   "source": [
    "print (np.load('/media/cat/4TBSSD/yuki/IA1/tif_files.npy'))"
   ]
  },
  {
   "cell_type": "code",
   "execution_count": 17,
   "metadata": {},
   "outputs": [
    {
     "name": "stdout",
     "output_type": "stream",
     "text": [
      "Keys: <KeysViewHDF5 ['df_with_missing']>\n"
     ]
    }
   ],
   "source": [
    "import h5py\n",
    "filename = \"/home/cat/Downloads/AR4_2014-12-02_12-56-34.975DLC_resnet50_yuki_leverJul21shuffle1_200000.h5\"\n",
    "\n",
    "f = h5py.File(filename, \"r\")\n",
    "# List all groups\n",
    "print(\"Keys: %s\" % f.keys())\n",
    "a_group_key = list(f.keys())[0]\n",
    "\n",
    "# Get the data\n",
    "data = list(f[a_group_key])\n",
    "\n",
    "data2 = f['df_with_missing']['table']"
   ]
  },
  {
   "cell_type": "code",
   "execution_count": 31,
   "metadata": {},
   "outputs": [
    {
     "name": "stdout",
     "output_type": "stream",
     "text": [
      "(21,)\n"
     ]
    }
   ],
   "source": [
    "print (data2[0][1].shape)\n",
    "\n",
    "traces = []\n",
    "for k in range(len(data2)):\n",
    "    traces.append(data2[k][1].reshape(-1,3))\n",
    "    "
   ]
  },
  {
   "cell_type": "code",
   "execution_count": 33,
   "metadata": {},
   "outputs": [
    {
     "name": "stdout",
     "output_type": "stream",
     "text": [
      "(20066, 7, 3)\n"
     ]
    }
   ],
   "source": [
    "traces = np.array(traces)\n",
    "print (traces.shape)"
   ]
  },
  {
   "cell_type": "code",
   "execution_count": null,
   "metadata": {},
   "outputs": [],
   "source": []
  }
 ],
 "metadata": {
  "kernelspec": {
   "display_name": "Python 3",
   "language": "python",
   "name": "python3"
  },
  "language_info": {
   "codemirror_mode": {
    "name": "ipython",
    "version": 3
   },
   "file_extension": ".py",
   "mimetype": "text/x-python",
   "name": "python",
   "nbconvert_exporter": "python",
   "pygments_lexer": "ipython3",
   "version": "3.8.3"
  }
 },
 "nbformat": 4,
 "nbformat_minor": 4
}
