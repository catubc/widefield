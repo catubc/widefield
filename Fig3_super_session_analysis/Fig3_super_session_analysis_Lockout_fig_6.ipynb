{
 "cells": [
  {
   "cell_type": "code",
   "execution_count": 1,
   "id": "5be61b58",
   "metadata": {},
   "outputs": [
    {
     "data": {
      "application/javascript": [
       "IPython.notebook.set_autosave_interval(180000)"
      ]
     },
     "metadata": {},
     "output_type": "display_data"
    },
    {
     "name": "stdout",
     "output_type": "stream",
     "text": [
      "Autosaving every 180 seconds\n"
     ]
    },
    {
     "name": "stderr",
     "output_type": "stream",
     "text": [
      "<ipython-input-1-18c431622d4a>:12: DeprecationWarning: Importing display from IPython.core.display is deprecated since IPython 7.14, please import from IPython display\n",
      "  from IPython.core.display import display, HTML\n"
     ]
    },
    {
     "data": {
      "text/html": [
       "<style>.container { width:100% !important; }</style>"
      ],
      "text/plain": [
       "<IPython.core.display.HTML object>"
      ]
     },
     "metadata": {},
     "output_type": "display_data"
    }
   ],
   "source": [
    "import matplotlib\n",
    "#matplotlib.use('Agg')\n",
    "%matplotlib tk\n",
    "\n",
    "\n",
    "%load_ext autoreload\n",
    "%autoreload 2\n",
    "\n",
    "#%matplotlib tk\n",
    "%autosave 180\n",
    "import matplotlib.pyplot as plt\n",
    "from IPython.core.display import display, HTML\n",
    "display(HTML(\"<style>.container { width:100% !important; }</style>\"))\n",
    "\n",
    "import sys\n",
    "sys.path.append(\"/home/cat/code/widefield/\") # go to parent dir\n",
    "\n",
    "# \n",
    "import numpy as np\n",
    "import os\n",
    "\n",
    "import scipy\n",
    "from statsmodels.stats.multitest import multipletests\n",
    "\n",
    "import pandas as pd\n",
    "from scipy import stats\n",
    "import matplotlib.patches as mpatches\n",
    "\n",
    "\n",
    "# \n",
    "from tqdm import tqdm, trange\n",
    "\n",
    "#  SVM module\n",
    "from svm.svm import PredictSVMChoiceSuperSession\n"
   ]
  },
  {
   "cell_type": "code",
   "execution_count": 21,
   "id": "0d977cea",
   "metadata": {},
   "outputs": [],
   "source": [
    "def get_data_pie_charts(n_sec_lockout,\n",
    "                        body_feats_lockout,\n",
    "                        animal_id,\n",
    "                        root_dir):\n",
    "    \n",
    "    # skip 1,2,3 n-sec-lockouts and the empty lockouts\n",
    "    if len(body_feats_lockout)==0:    # if not using any lockout window\n",
    "        if n_sec_lockout in [1,2, 3]:  # \n",
    "            return [], [], []\n",
    "\n",
    "\n",
    "    # \n",
    "    fname = os.path.join(root_dir,\n",
    "                         animal_id,\n",
    "                         'super_sessions',\n",
    "                         'alldata_body_and_nonreward_lockout_'+str(n_sec_lockout)+'secLockout_'+\n",
    "                         str(body_feats_lockout)+'bodyfeats.npz')\n",
    "\n",
    "    # \n",
    "    data = np.load(fname, allow_pickle=True)\n",
    "\n",
    "    trials = data['trials']\n",
    "    \n",
    "    # \n",
    "    behaviors = data['behaviors']\n",
    "    # \n",
    "    names = data['names']\n",
    "\n",
    "    \n",
    "    return trials, names, behaviors\n",
    "\n",
    "\n",
    "# \n",
    "def get_no_of_hours(root_dir,\n",
    "                    animal_id):\n",
    "    \n",
    "    \n",
    "    sessions = os.listdir(os.path.join(root_dir,\n",
    "                           animal_id,\n",
    "                           'tif_files'))\n",
    "    \n",
    "    # \n",
    "    n_sessions=0\n",
    "    n_rewarded=0\n",
    "    for session in sessions:\n",
    "        fname = os.path.join(root_dir,\n",
    "                            animal_id,\n",
    "                            'tif_files',\n",
    "                            session,\n",
    "                            'rewarded_times.txt')\n",
    "        \n",
    "        if os.path.exists(fname):\n",
    "            n_sessions+=1\n",
    "\n",
    "            temp = np.loadtxt(fname, dtype='float32', ndmin=1)\n",
    "            if temp.shape[0]>0:\n",
    "                n_rewarded+=temp.shape[0]\n",
    "\n",
    "            \n",
    "    return n_sessions, n_rewarded\n",
    "\n",
    "# \n",
    "def filter_trace(trace, smooth_window=30):\n",
    "\n",
    "    box = np.ones(smooth_window)/smooth_window\n",
    "    trace_smooth = np.convolve(trace, box, mode='valid')\n",
    "\n",
    "    return trace_smooth\n",
    "\n",
    "\n",
    "# \n",
    "def compute_significance(data):\n",
    "\n",
    "    #\n",
    "    significance = 0.05\n",
    "\n",
    "    #\n",
    "    sig = []\n",
    "    for k in range(data.shape[0]):\n",
    "\n",
    "        #\n",
    "        res = scipy.stats.ttest_1samp(data[k], 0.5)\n",
    "\n",
    "        sig.append(res[1])\n",
    "\n",
    "\n",
    "    sig_save = np.array(sig).copy()\n",
    "\n",
    "    # multiple hypothesis test Benjamini-Hockberg\n",
    "    temp = np.array(sig)\n",
    "    temp2 = multipletests(temp, \n",
    "                          alpha=significance, \n",
    "                          method='fdr_bh')\n",
    "    sig = temp2[1]\n",
    "\n",
    "    # find earliest significant;\n",
    "    edt = 0\n",
    "    for k in range(sig.shape[0]-1,0,-1):\n",
    "        if sig[k]<=significance:\n",
    "            edt = k+1\n",
    "        else:\n",
    "            break\n",
    "\n",
    "    # \n",
    "    edtsec = -(sig.shape[0]-edt)/30.\n",
    "\n",
    "    # \n",
    "    return edtsec\n",
    "\n",
    "\n",
    "def box_plots(edts,\n",
    "             licking_flag=False):\n",
    "    \n",
    "    pvals = [0.05,0.01,0.001,0.0001,0.00001]\n",
    "\n",
    "    clrs_local = ['magenta','brown','pink','lightblue','darkblue', 'blue']\n",
    "    \n",
    "    # \n",
    "    if licking_flag==False:\n",
    "        my_dict = dict(three = edts[0][1], \n",
    "                   six = edts[1][1],\n",
    "                   nine = edts[2][1],\n",
    "                   twelve = edts[3][1],\n",
    "                   fifteen = edts[4][1],                      \n",
    "                  #All = edts[5]+15,                      \n",
    "                 )\n",
    "    else:\n",
    "        my_dict = dict(one = edts[0][1], \n",
    "               two = edts[1][1],\n",
    "               three = edts[2][1],\n",
    "               six = edts[3][1],\n",
    "               #nine = edts[4][1],\n",
    "               #twelve = edts[3][1],\n",
    "               #fifteen = edts[4][1],                      \n",
    "              #All = edts[5]+15,                      \n",
    "             )\n",
    "        \n",
    "    cmap = plt.cm.get_cmap('Reds', len(my_dict))    # 11 discrete colors\n",
    "\n",
    "        \n",
    "    #\n",
    "    data = pd.DataFrame.from_dict(my_dict, orient='index')\n",
    "    data = data.transpose()\n",
    "\n",
    "    print (\"DATA: \", data.shape)\n",
    "    print (\"means: \", np.mean(data,0))\n",
    "    means =np.mean(data,0)\n",
    "    ######################################################### \n",
    "    ################## SCATTER PLOTS ########################\n",
    "    ######################################################### \n",
    "    for i,d in enumerate(data):\n",
    "        y = data[d]\n",
    "        x = np.random.normal(i+1, 0.04, len(y))\n",
    "        #print (x)\n",
    "        #print (y)\n",
    "        if licking_flag==False:\n",
    "            plt.scatter(x,y,\n",
    "                   c=clrs_local[i],\n",
    "                   #c=cmap(i),\n",
    "                    s=100,\n",
    "                   edgecolor='black')\n",
    "        else:\n",
    "            plt.scatter(x,y,\n",
    "                   #c=clrs_local[i],\n",
    "                   c=cmap(i),\n",
    "                    s=100,\n",
    "                   edgecolor='black')\n",
    "\n",
    "    ######################################################### \n",
    "    ###################### BOX PLOTS ########################\n",
    "    ######################################################### \n",
    "    flierprops = dict(#marker='o', \n",
    "                      #markerfacecolor='g', \n",
    "                      markersize=10000,\n",
    "                      linestyle='none', \n",
    "                      markeredgecolor='r')\n",
    "\n",
    "    #\n",
    "    data.boxplot(showfliers=False,\n",
    "                 flierprops=flierprops)\n",
    "\n",
    "\n",
    "    \n",
    "    #\n",
    "    plt.xlim(0.5, 6.5)\n",
    "    plt.ylim(-15,0)    \n",
    "    plt.xticks([])\n",
    "    plt.yticks([])\n",
    "\n",
    "    #\n",
    "    plt.plot([0,6.5], [-3,-3],'--',linewidth=3,c='grey',alpha=.5)\n",
    "    plt.plot([0,6.5], [-5,-5],'--',linewidth=3,c='grey',alpha=.5)\n",
    "    plt.plot([0,6.5],[-10,-10],'--',linewidth=3,c='grey',alpha=.5)\n",
    "\n",
    "    # ax2 = ax.twinx()  # instantiate a second axes that shares the same x-axis\n",
    "\n",
    "    patches = []\n",
    "    for p in range(1,len(my_dict),1):\n",
    "        res = stats.ks_2samp(edts[p][1], edts[0][1])\n",
    "        print (\"res: \", res)\n",
    "        label_ = ''\n",
    "        for k in range(len(pvals)):\n",
    "            if res[1]<pvals[k]:\n",
    "                label_ = label_ + \"*\"\n",
    "            else:\n",
    "                break\n",
    "\n",
    "        patches.append(mpatches.Patch(label=label_))\n",
    "\n",
    "    plt.legend(handles=patches,fontsize=12)\n",
    "\n",
    "    return means\n",
    "\n",
    "\n",
    "\n",
    "\n",
    "def box_plots_6animals(edts,\n",
    "             licking_flag=False):\n",
    "    \n",
    "    pvals = [0.05,0.01,0.001,0.0001,0.00001]\n",
    "\n",
    "    clrs_local = ['magenta','brown','pink','lightblue','darkblue', 'blue']\n",
    "    \n",
    "    # \n",
    "    if licking_flag==False:\n",
    "        my_dict = dict(\n",
    "                   M1 = edts[0][1], \n",
    "                   M2 = edts[1][1],\n",
    "                   M3 = edts[2][1],\n",
    "                   M4 = edts[3][1],\n",
    "                   M5 = edts[4][1],                      \n",
    "                   M6 = edts[5][1],                      \n",
    "                  #All = edts[5]+15,                      \n",
    "                 )\n",
    "\n",
    "        \n",
    "    cmap = plt.cm.get_cmap('Reds', len(my_dict))    # 11 discrete colors\n",
    "\n",
    "        \n",
    "    #\n",
    "    data = pd.DataFrame.from_dict(my_dict, orient='index')\n",
    "    data = data.transpose()\n",
    "\n",
    "    print (\"DATA: \", data.shape)\n",
    "    print (\"means: \", np.mean(data,0))\n",
    "    means =np.mean(data,0)\n",
    "    ######################################################### \n",
    "    ################## SCATTER PLOTS ########################\n",
    "    ######################################################### \n",
    "    for i,d in enumerate(data):\n",
    "        y = data[d]\n",
    "        x = np.random.normal(i+1, 0.04, len(y))\n",
    "        #print (x)\n",
    "        #print (y)\n",
    "        if licking_flag==False:\n",
    "            plt.scatter(x,y,\n",
    "                   c=clrs_local[i],\n",
    "                   #c=cmap(i),\n",
    "                    s=100,\n",
    "                   edgecolor='black')\n",
    "        else:\n",
    "            plt.scatter(x,y,\n",
    "                   #c=clrs_local[i],\n",
    "                   c=cmap(i),\n",
    "                    s=100,\n",
    "                   edgecolor='black')\n",
    "\n",
    "    ######################################################### \n",
    "    ###################### BOX PLOTS ########################\n",
    "    ######################################################### \n",
    "    flierprops = dict(#marker='o', \n",
    "                      #markerfacecolor='g', \n",
    "                      markersize=10000,\n",
    "                      linestyle='none', \n",
    "                      markeredgecolor='r')\n",
    "\n",
    "    #\n",
    "    data.boxplot(showfliers=False,\n",
    "                 flierprops=flierprops)\n",
    "\n",
    "\n",
    "    \n",
    "    #\n",
    "    plt.xlim(0.5, 6.5)\n",
    "    plt.ylim(-15,0)    \n",
    "    plt.xticks([])\n",
    "    plt.yticks([])\n",
    "\n",
    "    #\n",
    "    plt.plot([0,6.5], [-3,-3],'--',linewidth=3,c='grey',alpha=.5)\n",
    "    plt.plot([0,6.5], [-5,-5],'--',linewidth=3,c='grey',alpha=.5)\n",
    "    plt.plot([0,6.5],[-10,-10],'--',linewidth=3,c='grey',alpha=.5)\n",
    "\n",
    "    # ax2 = ax.twinx()  # instantiate a second axes that shares the same x-axis\n",
    "\n",
    "    patches = []\n",
    "    for p in range(1,len(my_dict),1):\n",
    "        res = stats.ks_2samp(edts[p][1], edts[0][1])\n",
    "        print (\"res: \", res)\n",
    "        label_ = ''\n",
    "        for k in range(len(pvals)):\n",
    "            if res[1]<pvals[k]:\n",
    "                label_ = label_ + \"*\"\n",
    "            else:\n",
    "                break\n",
    "\n",
    "        patches.append(mpatches.Patch(label=label_))\n",
    "\n",
    "    plt.legend(handles=patches,fontsize=12)\n",
    "\n",
    "    return means"
   ]
  },
  {
   "cell_type": "code",
   "execution_count": 4,
   "id": "d48372ef",
   "metadata": {
    "scrolled": true,
    "tags": []
   },
   "outputs": [
    {
     "name": "stderr",
     "output_type": "stream",
     "text": [
      "100%|██████████| 13/13 [00:06<00:00,  1.94it/s]\n",
      "100%|██████████| 13/13 [00:00<00:00, 15.11it/s]\n",
      "100%|██████████| 13/13 [00:01<00:00,  8.25it/s]\n",
      "/media/cat/4TBSSD/anaconda3/envs/wide/lib/python3.8/site-packages/numpy/core/_asarray.py:171: VisibleDeprecationWarning: Creating an ndarray from ragged nested sequences (which is a list-or-tuple of lists-or-tuples-or ndarrays with different lengths or shapes) is deprecated. If you meant to do this, you must specify 'dtype=object' when creating the ndarray.\n",
      "  return array(a, dtype, copy=False, order=order, subok=True)\n",
      "100%|██████████| 13/13 [00:08<00:00,  1.52it/s]\n",
      "100%|██████████| 13/13 [00:00<00:00, 43.10it/s]\n",
      "100%|██████████| 13/13 [00:02<00:00,  6.12it/s]\n",
      "/media/cat/4TBSSD/anaconda3/envs/wide/lib/python3.8/site-packages/numpy/core/_asarray.py:171: VisibleDeprecationWarning: Creating an ndarray from ragged nested sequences (which is a list-or-tuple of lists-or-tuples-or ndarrays with different lengths or shapes) is deprecated. If you meant to do this, you must specify 'dtype=object' when creating the ndarray.\n",
      "  return array(a, dtype, copy=False, order=order, subok=True)\n",
      "100%|██████████| 13/13 [00:06<00:00,  2.12it/s]\n",
      "100%|██████████| 13/13 [00:00<00:00, 14.19it/s]\n",
      "100%|██████████| 13/13 [00:01<00:00,  6.77it/s]\n",
      "/media/cat/4TBSSD/anaconda3/envs/wide/lib/python3.8/site-packages/numpy/core/_asarray.py:171: VisibleDeprecationWarning: Creating an ndarray from ragged nested sequences (which is a list-or-tuple of lists-or-tuples-or ndarrays with different lengths or shapes) is deprecated. If you meant to do this, you must specify 'dtype=object' when creating the ndarray.\n",
      "  return array(a, dtype, copy=False, order=order, subok=True)\n",
      "100%|██████████| 13/13 [00:05<00:00,  2.53it/s]\n",
      "100%|██████████| 13/13 [00:00<00:00, 14.67it/s]\n",
      "100%|██████████| 13/13 [00:01<00:00,  6.66it/s]\n",
      "/media/cat/4TBSSD/anaconda3/envs/wide/lib/python3.8/site-packages/numpy/core/_asarray.py:171: VisibleDeprecationWarning: Creating an ndarray from ragged nested sequences (which is a list-or-tuple of lists-or-tuples-or ndarrays with different lengths or shapes) is deprecated. If you meant to do this, you must specify 'dtype=object' when creating the ndarray.\n",
      "  return array(a, dtype, copy=False, order=order, subok=True)\n",
      "100%|██████████| 13/13 [00:04<00:00,  3.04it/s]\n",
      "100%|██████████| 13/13 [00:00<00:00, 38.66it/s]\n",
      "100%|██████████| 13/13 [00:01<00:00,  9.94it/s]\n",
      "/media/cat/4TBSSD/anaconda3/envs/wide/lib/python3.8/site-packages/numpy/core/_asarray.py:171: VisibleDeprecationWarning: Creating an ndarray from ragged nested sequences (which is a list-or-tuple of lists-or-tuples-or ndarrays with different lengths or shapes) is deprecated. If you meant to do this, you must specify 'dtype=object' when creating the ndarray.\n",
      "  return array(a, dtype, copy=False, order=order, subok=True)\n",
      "100%|██████████| 13/13 [00:17<00:00,  1.36s/it]\n",
      "100%|██████████| 13/13 [00:02<00:00,  5.48it/s]\n",
      "100%|██████████| 13/13 [00:03<00:00,  4.13it/s]\n",
      "/media/cat/4TBSSD/anaconda3/envs/wide/lib/python3.8/site-packages/numpy/core/_asarray.py:171: VisibleDeprecationWarning: Creating an ndarray from ragged nested sequences (which is a list-or-tuple of lists-or-tuples-or ndarrays with different lengths or shapes) is deprecated. If you meant to do this, you must specify 'dtype=object' when creating the ndarray.\n",
      "  return array(a, dtype, copy=False, order=order, subok=True)\n"
     ]
    },
    {
     "data": {
      "image/png": "[encoded data removed]",
      "text/plain": [
       "<Figure size 432x288 with 1 Axes>"
      ]
     },
     "metadata": {
      "needs_background": "light"
     },
     "output_type": "display_data"
    }
   ],
   "source": [
    "################################################################################\n",
    "######### Compute # of rewqarded lever pulls vs. locked out behavior ###########\n",
    "################################################################################\n",
    "\n",
    "# Generate data for Fig 6e - revision manuscript (Fig 6e is plotted in the next cell)\n",
    "\n",
    "# this function is for making rewarded/unrewarded times and generating the final data+label .npz files\n",
    "root_dir = '/media/cat/4TBSSD/yuki/'\n",
    "\n",
    "#\n",
    "animal_ids = ['IA1','IA2','IA3','IJ1','IJ2','AQ2']\n",
    "#animal_ids = ['IA1']\n",
    "\n",
    "#\n",
    "n_sec_lockouts = [0,1,2,3,6,9,12,15,18,21,24,27,30]\n",
    "#n_sec_lockouts = [2]\n",
    "\n",
    "#\n",
    "body_feats_lockouts = [[],[0],[1],[5],[0,1,5]]\n",
    "body_feats_lockouts = [[],[0],[5]]\n",
    "#body_feats_lockouts = [[]]\n",
    "\n",
    "#labels = ['all', 'left paw','right paw','licking',' left paw, right paw and licking']\n",
    "labels = ['all', 'left paw', 'licking']\n",
    "\n",
    "clrs = ['black','red','green']\n",
    "\n",
    "#\n",
    "fig=plt.figure()\n",
    "ctr2 = 0\n",
    "all_array = []\n",
    "for k in range(len(animal_ids)):\n",
    "    all_array.append([])\n",
    "    #left_array.append([])\n",
    "    #lick_array.append([])\n",
    "\n",
    "\n",
    "fname_all_array = '/home/cat/all_array.npy'\n",
    "\n",
    "for ctr_animal, animal_id in enumerate(animal_ids):\n",
    "\n",
    "    \n",
    "    # \n",
    "    ax=plt.subplot(1,1,1)\n",
    "    \n",
    "    # \n",
    "    ctr=0\n",
    "    \n",
    "    rewarded_array = []\n",
    "    nSec_array = []\n",
    "    \n",
    "    fname_rewarded = '/home/cat/rewarded_array_'+animal_id+'.npy'\n",
    "    fname_nSec = '/home/cat/nSec_array_'+animal_id+'.npy'\n",
    "    ctr3 = 0\n",
    "    for body_feats_lockout in body_feats_lockouts:\n",
    "        \n",
    "        rewarded = []\n",
    "        nSec = []\n",
    "        #trials_array.append([])\n",
    "        #names_array.append([])\n",
    "        for n_sec in tqdm(n_sec_lockouts):\n",
    "            if len(body_feats_lockout)>0:\n",
    "                if n_sec==0:\n",
    "                    continue\n",
    "\n",
    "            # \n",
    "            trials, names, _ = get_data_pie_charts(n_sec,\n",
    "                                                    body_feats_lockout,\n",
    "                                                    animal_id,\n",
    "                                                    root_dir)\n",
    "           \n",
    "            # \n",
    "            n_rew = 0       # reset rewarded and nonrewarded plots\n",
    "            n_nonrew = 0\n",
    "\n",
    "            # \n",
    "            if len(trials)>0:\n",
    "                for k in range(len(trials)):\n",
    "                    n_rew += trials[k].shape[0]\n",
    "\n",
    "                if n_sec==0:\n",
    "                    n_sec=3\n",
    "\n",
    "                \n",
    "                rewarded.append(n_rew)\n",
    "                nSec.append(n_sec)\n",
    "\n",
    "        #        \n",
    "        rewarded_array.append(rewarded)\n",
    "        nSec_array.append(nSec)\n",
    "        \n",
    "                \n",
    "        if nSec[0]==3:\n",
    "            ntemp_rew = []\n",
    "            ntemp_sec = []\n",
    "            for k in range(3):\n",
    "                ntemp_rew.append(rewarded[0])\n",
    "                ntemp_sec.append(k)\n",
    "                \n",
    "            ntemp_sec.append(nSec)\n",
    "            ntemp_rew.append(rewarded)\n",
    "\n",
    "            nSec = np.hstack(ntemp_sec)\n",
    "            rewarded = np.hstack(ntemp_rew)\n",
    "            \n",
    "        rewarded = np.hstack(rewarded)\n",
    "        #rewarded = rewarded/1351\n",
    "        plt.plot(nSec,\n",
    "                 rewarded, \n",
    "                 c=clrs[ctr],\n",
    "                 label=labels[ctr],\n",
    "                linewidth=5)\n",
    "        \n",
    "        all_array[ctr_animal].append(rewarded)\n",
    "        \n",
    "        ctr+=1\n",
    "        \n",
    "        ctr3+=1\n",
    "\n",
    "    np.save(fname_rewarded, rewarded_array)\n",
    "    np.save(fname_nSec, nSec_array)\n",
    "    \n",
    "    plt.legend()\n",
    "    #plt.semilogy()    \n",
    "    #plt.scatter(n_sec, n_nonrew)\n",
    "    plt.xlim(0,20)\n",
    "    plt.ylim(bottom=0.01)\n",
    "    ctr2+=1\n",
    "    \n",
    "    if False:\n",
    "        plt.savefig('/home/cat/decays.svg')\n",
    "        plt.close()\n",
    "        break\n",
    "    else:\n",
    "        \n",
    "        pass\n",
    "    \n",
    "np.save(fname_all_array, all_array)\n",
    "plt.show()\n"
   ]
  },
  {
   "cell_type": "code",
   "execution_count": 8,
   "id": "3c52b146",
   "metadata": {},
   "outputs": [
    {
     "name": "stderr",
     "output_type": "stream",
     "text": [
      "No handles with labels found to put in legend.\n"
     ]
    },
    {
     "name": "stdout",
     "output_type": "stream",
     "text": [
      "[[array([1351, 1351, 1351, 1351, 1068,  741,  601,  503,  449,  399,  356,\n",
      "        339,  311]), array([190, 150, 122,  62,  31,  19,  12,   8,   7,   7,   4,   3]), array([300, 261, 236, 124,  57,  40,  30,  25,  23,  19,  16,  13])], [array([1704, 1704, 1704, 1704, 1466, 1027,  728,  564,  449,  385,  329,\n",
      "        289,  249]), array([59, 51, 50, 24,  7,  3,  1,  1]), array([287, 287, 287, 228, 148, 101,  75,  59,  53,  49,  45,  40])], [array([2447, 2447, 2447, 2447, 1273,  536,  310,  188,  135,   96,   68,\n",
      "         51,   44]), array([222, 209, 187,  52,   9,   3,   1]), array([436, 431, 418, 118,  36,  15,   7,   5,   5,   5,   5,   4])], [array([1615, 1615, 1615, 1615,  968,  512,  371,  261,  182,  137,  119,\n",
      "         99,   85]), array([143, 127, 115,  77,  52,  35,  24,  16,  14,  13,  11,   9]), array([297, 284, 278, 160, 114,  82,  66,  49,  41,  38,  34,  29])], [array([1867, 1867, 1867, 1867,  625,  316,  197,  139,  100,   82,   70,\n",
      "         55,   51]), array([74, 67, 61, 24,  7,  4,  1]), array([250, 230, 215,  75,  44,  31,  26,  26,  25,  23,  20,  20])], [array([6739, 6739, 6739, 6739, 2952, 1419,  910,  594,  412,  318,  231,\n",
      "        177,  141]), array([743, 602, 403,  42,   9,   7,   6,   3,   3,   3,   3,   2]), array([915, 737, 553,  97,  30,  18,  14,  13,  12,  10,   8,   7])]]\n",
      "(12,)\n",
      "(8,)\n",
      "(7,)\n",
      "(12,)\n",
      "(7,)\n",
      "(12,)\n",
      "(12,)\n",
      "(12,)\n",
      "(12,)\n",
      "(12,)\n",
      "(12,)\n",
      "(12,)\n"
     ]
    },
    {
     "data": {
      "image/png": "[encoded data removed]",
      "text/plain": [
       "<Figure size 640x480 with 1 Axes>"
      ]
     },
     "metadata": {},
     "output_type": "display_data"
    }
   ],
   "source": [
    "########################################################\n",
    "######## PLOT # LEVER PULLS VS LOCKOUTS - FIG 6E #######\n",
    "########################################################\n",
    "\n",
    "# plot figure 6e - revision manuscript\n",
    "fig=plt.figure()\n",
    "\n",
    "print (all_array)\n",
    "\n",
    "clrs = ['black','red','green']\n",
    "#####################################\n",
    "rew_all = []\n",
    "for k in range(6):\n",
    "    temp = all_array[k][0]\n",
    "    #temp = temp/np.max(temp)\n",
    "    rew_all.append(temp)\n",
    "\n",
    "rew_all = np.vstack(rew_all)\n",
    "rew_all = rew_all[:,1:]\n",
    "x = np.array([1,2,3,6,9,12,15,18,21,24,27,30])\n",
    "\n",
    "#\n",
    "if False:\n",
    "    mean = np.mean(rew_all, axis=0)\n",
    "    std = np.std(rew_all, axis=0)    \n",
    "    plt.plot(x,\n",
    "             mean,\n",
    "             color=clrs[0],\n",
    "             linewidth=5)\n",
    "\n",
    "    plt.fill_between(x, mean+std, mean-std, \n",
    "                     color=clrs[0], alpha=.1)\n",
    "else:\n",
    "    mean = np.mean(rew_all, axis=0)\n",
    "    std = np.std(rew_all, axis=0)    \n",
    "    plt.plot(x,\n",
    "             mean,\n",
    "             color=clrs[0],\n",
    "             linewidth=5)\n",
    "    for p in range(6):\n",
    "        plt.scatter(x,rew_all[p],\n",
    "                   c=clrs[0],\n",
    "                    edgecolor='black',\n",
    "                   alpha=.8)\n",
    "    \n",
    "# ######################################################\n",
    "x = np.array([1,2,3,6,9,12,15,18,21,24,27,30])\n",
    "\n",
    "rew_all = []\n",
    "for k in range(6):\n",
    "    temp = np.zeros(x.shape[0])\n",
    "    temp2 = all_array[k][1]\n",
    "    #temp2 = temp2/np.max(temp2)\n",
    "    print (temp2.shape)\n",
    "    temp[:temp2.shape[0]]=temp2\n",
    "    \n",
    "    rew_all.append(temp)\n",
    "\n",
    "rew_all = np.vstack(rew_all)\n",
    "\n",
    "#\n",
    "if False:\n",
    "    mean = np.mean(rew_all, axis=0)\n",
    "    std = np.std(rew_all, axis=0)    \n",
    "    plt.plot(x,\n",
    "         mean,\n",
    "             color=clrs[1],\n",
    "         linewidth=5)\n",
    "\n",
    "    plt.fill_between(x, mean+std, mean-std, \n",
    "                     color=clrs[1], alpha=.1)\n",
    "else:\n",
    "    mean = np.mean(rew_all, axis=0)\n",
    "    std = np.std(rew_all, axis=0)    \n",
    "    plt.plot(x,\n",
    "         mean,\n",
    "             color=clrs[1],\n",
    "         linewidth=5)\n",
    "    for p in range(6):\n",
    "        plt.scatter(x,rew_all[p],\n",
    "                   c=clrs[1],\n",
    "                    edgecolor='black',\n",
    "                   alpha=.8)\n",
    "    \n",
    "# ######################################################\n",
    "x = np.array([1,2,3,6,9,12,15,18,21,24,27,30])\n",
    "\n",
    "rew_all = []\n",
    "for k in range(6):\n",
    "    temp = np.zeros(x.shape[0])\n",
    "    temp2 = all_array[k][2]\n",
    "    #temp2 = temp2/np.max(temp2)\n",
    "    print (temp2.shape)\n",
    "    temp[:temp2.shape[0]]=temp2\n",
    "    \n",
    "    rew_all.append(temp)\n",
    "\n",
    "rew_all = np.vstack(rew_all)\n",
    "\n",
    "#\n",
    "if False:\n",
    "    mean = np.mean(rew_all, axis=0)\n",
    "    std = np.std(rew_all, axis=0)    \n",
    "    plt.plot(x,\n",
    "         mean,\n",
    "             color=clrs[2],\n",
    "         linewidth=5)\n",
    "\n",
    "    plt.fill_between(x, mean+std, mean-std, \n",
    "                     color=clrs[2], alpha=.1)\n",
    "else:\n",
    "    mean = np.mean(rew_all, axis=0)\n",
    "    std = np.std(rew_all, axis=0)    \n",
    "    plt.plot(x,\n",
    "         mean,\n",
    "             color=clrs[2],\n",
    "         linewidth=5)\n",
    "    \n",
    "    for p in range(6):\n",
    "        plt.scatter(x,rew_all[p],\n",
    "                   c=clrs[2],\n",
    "                    edgecolor='black',\n",
    "                   alpha=.8)\n",
    "    \n",
    "#\n",
    "plt.plot([3,3],[0,10000],'--',c='black')\n",
    "plt.semilogy()\n",
    "plt.fill_between(x, np.zeros(x.shape[0]), np.zeros(x.shape[0])+200,\n",
    "                     color='black', alpha=.05)\n",
    "plt.xlim(0,20)\n",
    "#plt.ylim(bottom=1)\n",
    "\n",
    "plt.legend()\n",
    "plt.ylim(bottom=1)\n",
    "plt.show()\n",
    "#plt.savefig('/home/cat/decays_all.svg')\n",
    "#plt.close()\n",
    "\n",
    "        \n",
    "        "
   ]
  },
  {
   "cell_type": "code",
   "execution_count": 9,
   "id": "ae5a8e36",
   "metadata": {
    "scrolled": true
   },
   "outputs": [
    {
     "name": "stderr",
     "output_type": "stream",
     "text": [
      "<ipython-input-2-a1a2827547ed>:55: UserWarning: loadtxt: Empty input file: \"/media/cat/4TBSSD/yuki/IA1/tif_files/IA1pm_Apr22_Week2_30Hz/rewarded_times.txt\"\n",
      "  temp = np.loadtxt(fname, dtype='float32', ndmin=1)\n",
      "<ipython-input-2-a1a2827547ed>:55: UserWarning: loadtxt: Empty input file: \"/media/cat/4TBSSD/yuki/IA1/tif_files/IA1am_May2_Week4_30Hz/rewarded_times.txt\"\n",
      "  temp = np.loadtxt(fname, dtype='float32', ndmin=1)\n",
      "<ipython-input-2-a1a2827547ed>:55: UserWarning: loadtxt: Empty input file: \"/media/cat/4TBSSD/yuki/IA2/tif_files/IA2pm_Feb15_30Hz/rewarded_times.txt\"\n",
      "  temp = np.loadtxt(fname, dtype='float32', ndmin=1)\n",
      "<ipython-input-2-a1a2827547ed>:55: UserWarning: loadtxt: Empty input file: \"/media/cat/4TBSSD/yuki/IA2/tif_files/IA2am_Mar10_30Hz/rewarded_times.txt\"\n",
      "  temp = np.loadtxt(fname, dtype='float32', ndmin=1)\n",
      "<ipython-input-2-a1a2827547ed>:55: UserWarning: loadtxt: Empty input file: \"/media/cat/4TBSSD/yuki/AQ2/tif_files/AQ2am_Dec9_30Hz/rewarded_times.txt\"\n",
      "  temp = np.loadtxt(fname, dtype='float32', ndmin=1)\n",
      "<ipython-input-2-a1a2827547ed>:55: UserWarning: loadtxt: Empty input file: \"/media/cat/4TBSSD/yuki/AQ2/tif_files/AQ2am_Dec23_30Hz/rewarded_times.txt\"\n",
      "  temp = np.loadtxt(fname, dtype='float32', ndmin=1)\n",
      "<ipython-input-2-a1a2827547ed>:55: UserWarning: loadtxt: Empty input file: \"/media/cat/4TBSSD/yuki/AQ2/tif_files/AQ2pm_Jan20_30Hz/rewarded_times.txt\"\n",
      "  temp = np.loadtxt(fname, dtype='float32', ndmin=1)\n",
      "<ipython-input-2-a1a2827547ed>:55: UserWarning: loadtxt: Empty input file: \"/media/cat/4TBSSD/yuki/AQ2/tif_files/AQ2am_Jan11_30Hz/rewarded_times.txt\"\n",
      "  temp = np.loadtxt(fname, dtype='float32', ndmin=1)\n",
      "<ipython-input-2-a1a2827547ed>:55: UserWarning: loadtxt: Empty input file: \"/media/cat/4TBSSD/yuki/AQ2/tif_files/AQ2am_Jan26_30Hz/rewarded_times.txt\"\n",
      "  temp = np.loadtxt(fname, dtype='float32', ndmin=1)\n",
      "<ipython-input-2-a1a2827547ed>:55: UserWarning: loadtxt: Empty input file: \"/media/cat/4TBSSD/yuki/AQ2/tif_files/AQ2am_Jan21_30Hz/rewarded_times.txt\"\n",
      "  temp = np.loadtxt(fname, dtype='float32', ndmin=1)\n",
      "<ipython-input-2-a1a2827547ed>:55: UserWarning: loadtxt: Empty input file: \"/media/cat/4TBSSD/yuki/AQ2/tif_files/AQ2am_Dec14_30Hz/rewarded_times.txt\"\n",
      "  temp = np.loadtxt(fname, dtype='float32', ndmin=1)\n",
      "<ipython-input-2-a1a2827547ed>:55: UserWarning: loadtxt: Empty input file: \"/media/cat/4TBSSD/yuki/AQ2/tif_files/AQ2am_Jan19_30Hz/rewarded_times.txt\"\n",
      "  temp = np.loadtxt(fname, dtype='float32', ndmin=1)\n",
      "<ipython-input-2-a1a2827547ed>:55: UserWarning: loadtxt: Empty input file: \"/media/cat/4TBSSD/yuki/AQ2/tif_files/AQ2pm_Jan18_30Hz/rewarded_times.txt\"\n",
      "  temp = np.loadtxt(fname, dtype='float32', ndmin=1)\n",
      "<ipython-input-2-a1a2827547ed>:55: UserWarning: loadtxt: Empty input file: \"/media/cat/4TBSSD/yuki/AQ2/tif_files/AQ2pm_Jan19_30Hz/rewarded_times.txt\"\n",
      "  temp = np.loadtxt(fname, dtype='float32', ndmin=1)\n",
      "<ipython-input-2-a1a2827547ed>:55: UserWarning: loadtxt: Empty input file: \"/media/cat/4TBSSD/yuki/AQ2/tif_files/AQ2am_Jan25_30Hz/rewarded_times.txt\"\n",
      "  temp = np.loadtxt(fname, dtype='float32', ndmin=1)\n",
      "<ipython-input-2-a1a2827547ed>:55: UserWarning: loadtxt: Empty input file: \"/media/cat/4TBSSD/yuki/AQ2/tif_files/AQ2pm_Jan21_30Hz/rewarded_times.txt\"\n",
      "  temp = np.loadtxt(fname, dtype='float32', ndmin=1)\n",
      "<ipython-input-2-a1a2827547ed>:55: UserWarning: loadtxt: Empty input file: \"/media/cat/4TBSSD/yuki/AQ2/tif_files/AQ2am_Jan12_30Hz/rewarded_times.txt\"\n",
      "  temp = np.loadtxt(fname, dtype='float32', ndmin=1)\n",
      "<ipython-input-2-a1a2827547ed>:55: UserWarning: loadtxt: Empty input file: \"/media/cat/4TBSSD/yuki/AQ2/tif_files/AQ2pm_Jan26_30Hz/rewarded_times.txt\"\n",
      "  temp = np.loadtxt(fname, dtype='float32', ndmin=1)\n"
     ]
    },
    {
     "data": {
      "image/png": "[encoded data removed]",
      "text/plain": [
       "<Figure size 640x480 with 2 Axes>"
      ]
     },
     "metadata": {},
     "output_type": "display_data"
    }
   ],
   "source": [
    "###################################################\n",
    "##### VISUALIZE # OF HRS OF RECORDING - FIG 6A ####\n",
    "###################################################\n",
    "\n",
    "# generate fig 6a - revision manuscript\n",
    "\n",
    "#\n",
    "animal_ids = ['IA1','IA2','IA3','IJ1','IJ2','AQ2']\n",
    "animal_names = ['M1','M2','M3','M4','M5','M6']\n",
    "\n",
    "# \n",
    "fig=plt.figure()\n",
    "ax1=plt.subplot(111)\n",
    "ax2 = ax1.twinx()\n",
    "\n",
    "hrs_array = []\n",
    "rew_array = []\n",
    "for ctr, animal_id in enumerate(animal_ids):\n",
    "    n_hrs, n_rew = get_no_of_hours(root_dir,animal_id)\n",
    "    \n",
    "    hrs_array.append(n_hrs)\n",
    "    rew_array.append(n_rew)\n",
    "    \n",
    "    n_hrs = n_hrs*22/60.\n",
    "    \n",
    "    ax1.scatter(ctr, n_hrs, c='black',\n",
    "                s=200,\n",
    "                label=animal_id)\n",
    "    \n",
    "    ax2.scatter(ctr, n_rew, c='blue',\n",
    "                s=200,\n",
    "                label=animal_id)\n",
    "np.save('/home/cat/hrs_array.npy',hrs_array)    \n",
    "np.save('/home/cat/rew_array.npy',rew_array)\n",
    "    \n",
    "# \n",
    "ax1.set_ylabel(\"# of hours of recording\")\n",
    "ax2.set_ylabel(\"# of rewarded pulls\")\n",
    "plt.xticks(np.arange(6), animal_names)\n",
    "ax1.set_ylim(0,45)\n",
    "ax2.set_ylim(0,7500)\n",
    "\n",
    "# \n",
    "if False:\n",
    "    plt.savefig('/home/cat/n_hours.svg')\n",
    "    plt.close()\n",
    "else:\n",
    "    plt.show()"
   ]
  },
  {
   "cell_type": "code",
   "execution_count": 13,
   "id": "a9131f89",
   "metadata": {},
   "outputs": [
    {
     "name": "stdout",
     "output_type": "stream",
     "text": [
      "(9,)\n",
      "['rewarded_lever_pulls' 'unrewarded_lever_pulls' 'left_paw' 'right_paw'\n",
      " 'nose' 'jaw' 'right_ear' 'tongue' 'lever_DLC']\n",
      "[ 2430  3798  4980  5230  8028  8685  9445  9933 10248 10570 11278 11751\n",
      " 12455 13304 14266 14746 15768 16534 17282 18079 18509 18829 19497 19883\n",
      " 20090 20578 22000 22349 23371 23721 23889 24091 24424 24942 25114 25664\n",
      " 30035 30889 32193 33042 33376 33950 34499 35239 35713 35925 36410 37101\n",
      " 37302 37789 38446] [  -63   -41     8 ... 40004 40006 40010]\n"
     ]
    },
    {
     "data": {
      "image/png": "[encoded data removed]",
      "text/plain": [
       "<Figure size 640x480 with 1 Axes>"
      ]
     },
     "metadata": {},
     "output_type": "display_data"
    }
   ],
   "source": [
    "# ################################################\n",
    "# ##### VISUALIZE PIE CHARTS - SINGLE ANIMAL ####\n",
    "# ################################################\n",
    "\n",
    "fname = '/media/cat/4TBSSD/yuki/IA1/tif_files/IA1pm_Feb9_30Hz/IA1pm_Feb9_30Hz_body_and_nonreward_lockout_0secLockout_[]bodyfeats.npz'\n",
    "d = np.load(fname, allow_pickle=True)\n",
    "trials = d['trials']\n",
    "random = d['random']\n",
    "behaviors = d['behaviors']\n",
    "names = d['names']\n",
    "\n",
    "print (behaviors.shape)\n",
    "print (names)\n",
    "print (behaviors[0], behaviors[3])\n",
    "\n",
    "selected_behaviors = [0,1,2,3,7]\n",
    "\n",
    "sizes = []\n",
    "for k in selected_behaviors:\n",
    "    sizes.append(behaviors[k].shape[0])\n",
    "\n",
    "# Pie chart, where the slices will be ordered and plotted counter-clockwise:\n",
    "labels = names[selected_behaviors]\n",
    "labels[-1]='licking'\n",
    "\n",
    "# \n",
    "fig1, ax1 = plt.subplots()\n",
    "patches, texts,_ = ax1.pie(sizes, \n",
    "                        #explode=explode, \n",
    "                        #labels=labels, \n",
    "                        autopct='%1.1f%%',\n",
    "                        #shadow=True, \n",
    "                        pctdistance=1.1,\n",
    "                        labeldistance=1.2,\n",
    "                        startangle=180\n",
    "                       )\n",
    "plt.legend(patches, labels, loc=\"best\")\n",
    "\n",
    "# Set aspect ratio to be equal so that pie is drawn as a circle.\n",
    "plt.axis('equal')\n",
    "plt.tight_layout()\n",
    "\n",
    "# \n",
    "plt.show()\n",
    "\n"
   ]
  },
  {
   "cell_type": "code",
   "execution_count": 10,
   "id": "8a78c364",
   "metadata": {
    "scrolled": true
   },
   "outputs": [
    {
     "name": "stderr",
     "output_type": "stream",
     "text": [
      "100%|██████████| 53/53 [00:00<00:00, 12934.08it/s]"
     ]
    },
    {
     "name": "stdout",
     "output_type": "stream",
     "text": [
      "(1351, 1800, 16)\n",
      "# sessions:  53\n",
      "seesion  3  # of behav  9\n",
      "# of feature moves:  (35,)\n",
      "video sessions:  53\n",
      "nrew:  619\n",
      "n_nonrew:  2318\n",
      "left_paw:  6438\n",
      "n_right_paw:  6703\n",
      "n_licking:  4471\n"
     ]
    },
    {
     "name": "stderr",
     "output_type": "stream",
     "text": [
      "\n",
      "100%|██████████| 33/33 [00:00<00:00, 18169.08it/s]"
     ]
    },
    {
     "name": "stdout",
     "output_type": "stream",
     "text": [
      "(1704, 1800, 16)\n",
      "# sessions:  33\n",
      "seesion  3  # of behav  9\n",
      "# of feature moves:  (9,)\n",
      "video sessions:  33\n",
      "nrew:  294\n",
      "n_nonrew:  537\n",
      "left_paw:  1567\n",
      "n_right_paw:  1746\n",
      "n_licking:  0\n"
     ]
    },
    {
     "name": "stderr",
     "output_type": "stream",
     "text": [
      "\n",
      "100%|██████████| 41/41 [00:00<00:00, 20771.41it/s]"
     ]
    },
    {
     "name": "stdout",
     "output_type": "stream",
     "text": [
      "(2447, 1800, 16)\n",
      "# sessions:  41\n",
      "seesion  3  # of behav  8\n",
      "# of feature moves:  (357,)\n",
      "video sessions:  41\n",
      "nrew:  524\n",
      "n_nonrew:  1750\n",
      "left_paw:  2962\n",
      "n_right_paw:  2910\n",
      "n_licking:  1817\n"
     ]
    },
    {
     "name": "stderr",
     "output_type": "stream",
     "text": [
      "\n",
      "100%|██████████| 40/40 [00:00<00:00, 15479.99it/s]"
     ]
    },
    {
     "name": "stdout",
     "output_type": "stream",
     "text": [
      "(1615, 1800, 16)\n",
      "# sessions:  40\n",
      "seesion  3  # of behav  8\n",
      "# of feature moves:  (165,)\n",
      "video sessions:  40\n",
      "nrew:  376\n",
      "n_nonrew:  1159\n",
      "left_paw:  2225\n",
      "n_right_paw:  2311\n",
      "n_licking:  1187\n"
     ]
    },
    {
     "name": "stderr",
     "output_type": "stream",
     "text": [
      "\n",
      "100%|██████████| 39/39 [00:00<00:00, 24624.09it/s]"
     ]
    },
    {
     "name": "stdout",
     "output_type": "stream",
     "text": [
      "(1867, 1800, 16)\n",
      "# sessions:  39\n",
      "seesion  3  # of behav  8\n",
      "# of feature moves:  (366,)\n",
      "video sessions:  39\n",
      "nrew:  354\n",
      "n_nonrew:  2230\n",
      "left_paw:  2622\n",
      "n_right_paw:  2439\n",
      "n_licking:  1225\n"
     ]
    },
    {
     "name": "stderr",
     "output_type": "stream",
     "text": [
      "\n",
      "100%|██████████| 79/79 [00:00<00:00, 22832.83it/s]"
     ]
    },
    {
     "name": "stdout",
     "output_type": "stream",
     "text": [
      "(6739, 1800, 16)\n",
      "# sessions:  79\n",
      "seesion  3  # of behav  8\n",
      "# of feature moves:  (82,)\n",
      "video sessions:  78\n",
      "nrew:  2726\n",
      "n_nonrew:  6982\n",
      "left_paw:  10746\n",
      "n_right_paw:  11327\n",
      "n_licking:  9120\n"
     ]
    },
    {
     "name": "stderr",
     "output_type": "stream",
     "text": [
      "\n"
     ]
    }
   ],
   "source": [
    "#########################################################\n",
    "##### VISUALIZE PIE CHARTS - ALL SESSIONS - FIG 3b ######\n",
    "#########################################################\n",
    "#\n",
    "animal_id = 'AQ2'    # \n",
    "animal_ids = ['IA1','IA2','IA3','IJ1','IJ2','AQ2']\n",
    "#animal_ids = ['IA1']\n",
    "all_rewarded = []\n",
    "plotting=False\n",
    "for animal_id in animal_ids:\n",
    "\n",
    "    # \n",
    "    n_sec = 0\n",
    "\n",
    "    #\n",
    "    body_feats_lockout = []\n",
    "\n",
    "    ctr=0\n",
    "\n",
    "    # \n",
    "    trials, names, behaviors = get_data_pie_charts(n_sec,\n",
    "                                                   body_feats_lockout,\n",
    "                                                   animal_id,\n",
    "                                                   root_dir)\n",
    "\n",
    "    # \n",
    "    sess = 3\n",
    "    feat = 1\n",
    "    print (np.vstack(trials).shape)\n",
    "    print (\"# sessions: \", len(behaviors))\n",
    "    print (\"seesion \",sess, \" # of behav \", len(behaviors[sess]))\n",
    "    print (\"# of feature moves: \", behaviors[sess][feat].shape)\n",
    "\n",
    "\n",
    "    # get # rewarded pulls:\n",
    "    n_rew = 0\n",
    "    n_nonrew = 0\n",
    "    n_left_paw = 0\n",
    "    n_right_paw = 0\n",
    "    n_licking = 0\n",
    "\n",
    "    # \n",
    "    feat_rew = 0\n",
    "    feat_nonrew = 1\n",
    "    feat_left_paw = 2\n",
    "    feat_right_paw = 3\n",
    "    feat_licking = 7\n",
    "\n",
    "    n_sess = 0\n",
    "    min_quiescence = 30 # in frame times\n",
    "    for sess in trange(len(behaviors)):\n",
    "        try:\n",
    "            if len(behaviors[sess][feat_left_paw])>0:\n",
    "                n_rew+= behaviors[sess][feat_rew].shape[0]\n",
    "                n_nonrew+= behaviors[sess][feat_nonrew].shape[0]\n",
    "\n",
    "                # left paw\n",
    "                temp = behaviors[sess][feat_left_paw]\n",
    "                diff = temp[1:]-temp[:-1]\n",
    "                #print (diff)\n",
    "                idx = np.where(diff>=min_quiescence)[0]\n",
    "                n_left_paw+= idx.shape[0]\n",
    "\n",
    "                # left paw\n",
    "                temp = behaviors[sess][feat_right_paw]\n",
    "                diff = temp[1:]-temp[:-1]\n",
    "                idx = np.where(diff>=min_quiescence)[0]\n",
    "                n_right_paw+= idx.shape[0]\n",
    "\n",
    "                # left paw\n",
    "                temp = behaviors[sess][feat_licking]\n",
    "                diff = temp[1:]-temp[:-1]\n",
    "                idx = np.where(diff>=min_quiescence)[0]\n",
    "                n_licking+= idx.shape[0]\n",
    "            n_sess+=1\n",
    "\n",
    "        except:\n",
    "            pass\n",
    "\n",
    "    print (\"video sessions: \", n_sess)\n",
    "    print (\"nrew: \", n_rew)  \n",
    "    print (\"n_nonrew: \", n_nonrew)  \n",
    "    print (\"left_paw: \", n_left_paw)  \n",
    "    print (\"n_right_paw: \", n_right_paw)  \n",
    "    print (\"n_licking: \", n_licking)  \n",
    "\n",
    "\n",
    "    sizes = np.array([n_rew, n_nonrew, n_left_paw, n_right_paw, n_licking])\n",
    "    sizes = sizes/np.sum(sizes)*100\n",
    "\n",
    "    # Pie chart, where the slices will be ordered and plotted counter-clockwise:\n",
    "    labels = ['rewarded lever pulls','non-rewarded lever pulls','left paw','right paw', 'licking']\n",
    "\n",
    "    # \n",
    "    all_rewarded.append(sizes[0])\n",
    "    \n",
    "    # \n",
    "    if plotting:\n",
    "\n",
    "        fig1, ax1 = plt.subplots()\n",
    "        colors = ['blue','lightgrey','wheat','paleturquoise','pink']\n",
    "        patches, texts,_ = ax1.pie(sizes, \n",
    "                                #explode=explode, \n",
    "                                #labels=labels, \n",
    "                                colors=colors,\n",
    "                                autopct='%1.1f%%',\n",
    "                                #shadow=True, \n",
    "                                pctdistance=1.1,\n",
    "                                labeldistance=1.2,\n",
    "                                startangle=180,\n",
    "                                textprops={'fontsize': 20}\n",
    "                               )\n",
    "\n",
    "        #patches[0][0].set_alpha(.1)\n",
    "\n",
    "        labels = [f'{l}, {s:0.1f}%' for l, s in zip(labels, sizes)]\n",
    "\n",
    "        ax1.legend(patches, labels, loc=\"best\")\n",
    "\n",
    "        # Set aspect ratio to be equal so that pie is drawn as a circle.\n",
    "        ax1.axis('equal')\n",
    "        plt.tight_layout()\n",
    "        plt.title(animal_id)\n",
    "        # \n",
    "\n",
    "        if False:\n",
    "            plt.savefig('/home/cat/piechart_'+animal_id+'.svg')\n",
    "            plt.close()\n",
    "            break\n",
    "        else:\n",
    "            plt.show()\n",
    "            break\n",
    "\n",
    "#\n",
    "np.save('/home/cat/all_rewarded_percentages.npy', all_rewarded)"
   ]
  },
  {
   "cell_type": "code",
   "execution_count": 14,
   "id": "54061667",
   "metadata": {},
   "outputs": [
    {
     "name": "stdout",
     "output_type": "stream",
     "text": [
      "[3.012312034648888, 7.094594594594595, 5.259460002007428, 5.180490493248828, 3.9909808342728295, 6.664873719468961]\n",
      "5.200451946373588\n"
     ]
    },
    {
     "data": {
      "image/png": "[encoded data removed]",
      "text/plain": [
       "<Figure size 640x480 with 1 Axes>"
      ]
     },
     "metadata": {},
     "output_type": "display_data"
    }
   ],
   "source": [
    "#####################################################\n",
    "##### VISUALIZE % REWARDED LEVER PULLS - FIG 6c #####\n",
    "#####################################################\n",
    "\n",
    "# generate figu 6c revision manuscript\n",
    "\n",
    "# \n",
    "animal_ids = ['IA1','IA2','IA3','IJ1','IJ2','AQ2']\n",
    "animal_names = ['M1','M2','M3','M4','M5','M6']\n",
    "\n",
    "# \n",
    "fig=plt.figure()\n",
    "ax1=plt.subplot(111)\n",
    "for ctr, animal_id in enumerate(animal_ids):\n",
    "    n_hrs = all_rewarded[ctr]\n",
    "    ax1.scatter(ctr, n_hrs, c='blue',\n",
    "                s=200,\n",
    "                label=animal_id)\n",
    "       \n",
    "# \n",
    "plt.plot([0,6],[np.mean(all_rewarded),np.mean(all_rewarded)],'--')\n",
    "ax1.set_ylabel(\"% behaviors == lever pulls\")\n",
    "plt.xticks(np.arange(6), animal_names)\n",
    "ax1.set_ylim(0,10)\n",
    "#ax2.set_ylim(0,7500)\n",
    "\n",
    "# \n",
    "if False:\n",
    "    plt.savefig('/home/cat/percent_leverpulls.svg')\n",
    "    plt.close()\n",
    "else:\n",
    "    plt.show()\n",
    "    \n",
    "    \n",
    "print (all_rewarded)\n",
    "\n",
    "print (np.mean(all_rewarded))"
   ]
  },
  {
   "cell_type": "markdown",
   "id": "46ce94ff",
   "metadata": {},
   "source": [
    "\n",
    "# Next - do the SVM decoding plots ###\n"
   ]
  },
  {
   "cell_type": "code",
   "execution_count": 19,
   "id": "5adbd537",
   "metadata": {
    "scrolled": true,
    "tags": []
   },
   "outputs": [
    {
     "name": "stderr",
     "output_type": "stream",
     "text": [
      "  6%|▌         | 12/200 [00:03<00:59,  3.18it/s]\n",
      "  0%|          | 0/200 [00:00<?, ?it/s]"
     ]
    },
    {
     "name": "stdout",
     "output_type": "stream",
     "text": [
      "Fname not found:  IA1 0 [5]\n"
     ]
    },
    {
     "name": "stderr",
     "output_type": "stream",
     "text": [
      "  3%|▎         | 6/200 [00:01<01:00,  3.18it/s]\n",
      "  0%|          | 0/200 [00:00<?, ?it/s]"
     ]
    },
    {
     "name": "stdout",
     "output_type": "stream",
     "text": [
      "Fname not found:  IA1 1 [5]\n"
     ]
    },
    {
     "name": "stderr",
     "output_type": "stream",
     "text": [
      "  2%|▎         | 5/200 [00:01<01:01,  3.16it/s]\n",
      "  0%|          | 0/200 [00:00<?, ?it/s]"
     ]
    },
    {
     "name": "stdout",
     "output_type": "stream",
     "text": [
      "Fname not found:  IA1 2 [5]\n"
     ]
    },
    {
     "name": "stderr",
     "output_type": "stream",
     "text": [
      "  2%|▎         | 5/200 [00:01<01:01,  3.17it/s]\n",
      "  0%|          | 0/200 [00:00<?, ?it/s]"
     ]
    },
    {
     "name": "stdout",
     "output_type": "stream",
     "text": [
      "Fname not found:  IA1 3 [5]\n"
     ]
    },
    {
     "name": "stderr",
     "output_type": "stream",
     "text": [
      "  1%|          | 2/200 [00:00<01:02,  3.16it/s]\n",
      "  0%|          | 0/200 [00:00<?, ?it/s]"
     ]
    },
    {
     "name": "stdout",
     "output_type": "stream",
     "text": [
      "Fname not found:  IA1 6 [5]\n"
     ]
    },
    {
     "name": "stderr",
     "output_type": "stream",
     "text": [
      "  0%|          | 1/200 [00:00<01:03,  3.14it/s]\n",
      "  0%|          | 0/200 [00:00<?, ?it/s]"
     ]
    },
    {
     "name": "stdout",
     "output_type": "stream",
     "text": [
      "Fname not found:  IA1 9 [5]\n"
     ]
    },
    {
     "name": "stderr",
     "output_type": "stream",
     "text": [
      "  0%|          | 1/200 [00:00<01:04,  3.11it/s]\n",
      "  0%|          | 0/200 [00:00<?, ?it/s]"
     ]
    },
    {
     "name": "stdout",
     "output_type": "stream",
     "text": [
      "Fname not found:  IA1 12 [5]\n"
     ]
    },
    {
     "name": "stderr",
     "output_type": "stream",
     "text": [
      "  0%|          | 1/200 [00:00<01:03,  3.13it/s]\n",
      "  0%|          | 0/200 [00:00<?, ?it/s]\n",
      "  0%|          | 0/200 [00:00<?, ?it/s]\n",
      "  0%|          | 0/200 [00:00<?, ?it/s]\n",
      "  0%|          | 0/200 [00:00<?, ?it/s]\n",
      "  0%|          | 0/200 [00:00<?, ?it/s]\n",
      "/media/cat/4TBSSD/anaconda3/envs/wide/lib/python3.8/site-packages/numpy/core/_asarray.py:171: VisibleDeprecationWarning: Creating an ndarray from ragged nested sequences (which is a list-or-tuple of lists-or-tuples-or ndarrays with different lengths or shapes) is deprecated. If you meant to do this, you must specify 'dtype=object' when creating the ndarray.\n",
      "  return array(a, dtype, copy=False, order=order, subok=True)\n",
      "  0%|          | 0/200 [00:00<?, ?it/s]"
     ]
    },
    {
     "name": "stdout",
     "output_type": "stream",
     "text": [
      "Fname not found:  IA1 15 [5]\n",
      "Fname not found:  IA1 18 [5]\n",
      "Fname not found:  IA1 21 [5]\n",
      "Fname not found:  IA1 24 [5]\n",
      "Fname not found:  IA1 27 [5]\n",
      "Fname not found:  IA1 30 [5]\n"
     ]
    },
    {
     "name": "stderr",
     "output_type": "stream",
     "text": [
      "  3%|▎         | 6/200 [00:01<01:01,  3.16it/s]\n",
      "  0%|          | 0/200 [00:00<?, ?it/s]"
     ]
    },
    {
     "name": "stdout",
     "output_type": "stream",
     "text": [
      "Fname not found:  IA2 0 [5]\n"
     ]
    },
    {
     "name": "stderr",
     "output_type": "stream",
     "text": [
      "  3%|▎         | 6/200 [00:01<01:00,  3.21it/s]\n",
      "  0%|          | 0/200 [00:00<?, ?it/s]"
     ]
    },
    {
     "name": "stdout",
     "output_type": "stream",
     "text": [
      "Fname not found:  IA2 1 [5]\n"
     ]
    },
    {
     "name": "stderr",
     "output_type": "stream",
     "text": [
      "  3%|▎         | 6/200 [00:01<01:00,  3.19it/s]\n",
      "  0%|          | 0/200 [00:00<?, ?it/s]"
     ]
    },
    {
     "name": "stdout",
     "output_type": "stream",
     "text": [
      "Fname not found:  IA2 2 [5]\n"
     ]
    },
    {
     "name": "stderr",
     "output_type": "stream",
     "text": [
      "  3%|▎         | 6/200 [00:01<01:00,  3.18it/s]\n",
      "  0%|          | 0/200 [00:00<?, ?it/s]"
     ]
    },
    {
     "name": "stdout",
     "output_type": "stream",
     "text": [
      "Fname not found:  IA2 3 [5]\n"
     ]
    },
    {
     "name": "stderr",
     "output_type": "stream",
     "text": [
      "  2%|▏         | 4/200 [00:01<01:01,  3.18it/s]\n",
      "  0%|          | 0/200 [00:00<?, ?it/s]"
     ]
    },
    {
     "name": "stdout",
     "output_type": "stream",
     "text": [
      "Fname not found:  IA2 6 [5]\n"
     ]
    },
    {
     "name": "stderr",
     "output_type": "stream",
     "text": [
      "  2%|▏         | 3/200 [00:00<01:02,  3.17it/s]\n",
      "  0%|          | 0/200 [00:00<?, ?it/s]"
     ]
    },
    {
     "name": "stdout",
     "output_type": "stream",
     "text": [
      "Fname not found:  IA2 9 [5]\n"
     ]
    },
    {
     "name": "stderr",
     "output_type": "stream",
     "text": [
      "  1%|          | 2/200 [00:00<01:02,  3.16it/s]\n",
      "  0%|          | 0/200 [00:00<?, ?it/s]"
     ]
    },
    {
     "name": "stdout",
     "output_type": "stream",
     "text": [
      "Fname not found:  IA2 12 [5]\n"
     ]
    },
    {
     "name": "stderr",
     "output_type": "stream",
     "text": [
      "  0%|          | 1/200 [00:00<01:02,  3.16it/s]\n",
      "  0%|          | 0/200 [00:00<?, ?it/s]"
     ]
    },
    {
     "name": "stdout",
     "output_type": "stream",
     "text": [
      "Fname not found:  IA2 15 [5]\n"
     ]
    },
    {
     "name": "stderr",
     "output_type": "stream",
     "text": [
      "  0%|          | 1/200 [00:00<01:04,  3.07it/s]\n",
      "  0%|          | 0/200 [00:00<?, ?it/s]"
     ]
    },
    {
     "name": "stdout",
     "output_type": "stream",
     "text": [
      "Fname not found:  IA2 18 [5]\n"
     ]
    },
    {
     "name": "stderr",
     "output_type": "stream",
     "text": [
      "  0%|          | 1/200 [00:00<01:03,  3.12it/s]\n",
      "  0%|          | 0/200 [00:00<?, ?it/s]"
     ]
    },
    {
     "name": "stdout",
     "output_type": "stream",
     "text": [
      "Fname not found:  IA2 21 [5]\n"
     ]
    },
    {
     "name": "stderr",
     "output_type": "stream",
     "text": [
      "  0%|          | 1/200 [00:00<01:04,  3.08it/s]\n",
      "  0%|          | 0/200 [00:00<?, ?it/s]"
     ]
    },
    {
     "name": "stdout",
     "output_type": "stream",
     "text": [
      "Fname not found:  IA2 24 [5]\n"
     ]
    },
    {
     "name": "stderr",
     "output_type": "stream",
     "text": [
      "  0%|          | 1/200 [00:00<01:03,  3.12it/s]\n",
      "  0%|          | 0/200 [00:00<?, ?it/s]"
     ]
    },
    {
     "name": "stdout",
     "output_type": "stream",
     "text": [
      "Fname not found:  IA2 27 [5]\n"
     ]
    },
    {
     "name": "stderr",
     "output_type": "stream",
     "text": [
      "  0%|          | 1/200 [00:00<01:05,  3.06it/s]\n",
      "  0%|          | 0/200 [00:00<?, ?it/s]"
     ]
    },
    {
     "name": "stdout",
     "output_type": "stream",
     "text": [
      "Fname not found:  IA2 30 [5]\n"
     ]
    },
    {
     "name": "stderr",
     "output_type": "stream",
     "text": [
      "  5%|▌         | 10/200 [00:03<01:01,  3.09it/s]\n",
      "  0%|          | 0/200 [00:00<?, ?it/s]"
     ]
    },
    {
     "name": "stdout",
     "output_type": "stream",
     "text": [
      "Fname not found:  IA3 0 [5]\n"
     ]
    },
    {
     "name": "stderr",
     "output_type": "stream",
     "text": [
      "  4%|▍         | 9/200 [00:02<01:01,  3.11it/s]\n",
      "  0%|          | 0/200 [00:00<?, ?it/s]"
     ]
    },
    {
     "name": "stdout",
     "output_type": "stream",
     "text": [
      "Fname not found:  IA3 1 [5]\n"
     ]
    },
    {
     "name": "stderr",
     "output_type": "stream",
     "text": [
      "  4%|▍         | 9/200 [00:02<01:00,  3.16it/s]\n",
      "  0%|          | 0/200 [00:00<?, ?it/s]"
     ]
    },
    {
     "name": "stdout",
     "output_type": "stream",
     "text": [
      "Fname not found:  IA3 2 [5]\n"
     ]
    },
    {
     "name": "stderr",
     "output_type": "stream",
     "text": [
      "  4%|▍         | 8/200 [00:02<01:01,  3.11it/s]\n",
      "  0%|          | 0/200 [00:00<?, ?it/s]"
     ]
    },
    {
     "name": "stdout",
     "output_type": "stream",
     "text": [
      "Fname not found:  IA3 3 [5]\n"
     ]
    },
    {
     "name": "stderr",
     "output_type": "stream",
     "text": [
      "  1%|          | 2/200 [00:00<01:03,  3.13it/s]\n",
      "  0%|          | 0/200 [00:00<?, ?it/s]"
     ]
    },
    {
     "name": "stdout",
     "output_type": "stream",
     "text": [
      "Fname not found:  IA3 6 [5]\n"
     ]
    },
    {
     "name": "stderr",
     "output_type": "stream",
     "text": [
      "  0%|          | 1/200 [00:00<01:04,  3.11it/s]\n",
      "  0%|          | 0/200 [00:00<?, ?it/s]\n",
      "  0%|          | 0/200 [00:00<?, ?it/s]\n",
      "  0%|          | 0/200 [00:00<?, ?it/s]\n",
      "  0%|          | 0/200 [00:00<?, ?it/s]\n",
      "  0%|          | 0/200 [00:00<?, ?it/s]\n",
      "  0%|          | 0/200 [00:00<?, ?it/s]\n",
      "  0%|          | 0/200 [00:00<?, ?it/s]\n",
      "  0%|          | 0/200 [00:00<?, ?it/s]"
     ]
    },
    {
     "name": "stdout",
     "output_type": "stream",
     "text": [
      "Fname not found:  IA3 9 [5]\n",
      "Fname not found:  IA3 12 [5]\n",
      "Fname not found:  IA3 15 [5]\n",
      "Fname not found:  IA3 18 [5]\n",
      "Fname not found:  IA3 21 [5]\n",
      "Fname not found:  IA3 24 [5]\n",
      "Fname not found:  IA3 27 [5]\n",
      "Fname not found:  IA3 30 [5]\n"
     ]
    },
    {
     "name": "stderr",
     "output_type": "stream",
     "text": [
      "  4%|▍         | 8/200 [00:02<01:00,  3.15it/s]\n",
      "  0%|          | 0/200 [00:00<?, ?it/s]"
     ]
    },
    {
     "name": "stdout",
     "output_type": "stream",
     "text": [
      "Fname not found:  IJ1 0 [5]\n"
     ]
    },
    {
     "name": "stderr",
     "output_type": "stream",
     "text": [
      "  3%|▎         | 6/200 [00:01<01:00,  3.19it/s]\n",
      "  0%|          | 0/200 [00:00<?, ?it/s]"
     ]
    },
    {
     "name": "stdout",
     "output_type": "stream",
     "text": [
      "Fname not found:  IJ1 1 [5]\n"
     ]
    },
    {
     "name": "stderr",
     "output_type": "stream",
     "text": [
      "  3%|▎         | 6/200 [00:01<01:00,  3.19it/s]\n",
      "  0%|          | 0/200 [00:00<?, ?it/s]"
     ]
    },
    {
     "name": "stdout",
     "output_type": "stream",
     "text": [
      "Fname not found:  IJ1 2 [5]\n"
     ]
    },
    {
     "name": "stderr",
     "output_type": "stream",
     "text": [
      "  2%|▎         | 5/200 [00:01<01:01,  3.19it/s]\n",
      "  0%|          | 0/200 [00:00<?, ?it/s]"
     ]
    },
    {
     "name": "stdout",
     "output_type": "stream",
     "text": [
      "Fname not found:  IJ1 3 [5]\n"
     ]
    },
    {
     "name": "stderr",
     "output_type": "stream",
     "text": [
      "  2%|▏         | 3/200 [00:00<01:02,  3.17it/s]\n",
      "  0%|          | 0/200 [00:00<?, ?it/s]"
     ]
    },
    {
     "name": "stdout",
     "output_type": "stream",
     "text": [
      "Fname not found:  IJ1 6 [5]\n"
     ]
    },
    {
     "name": "stderr",
     "output_type": "stream",
     "text": [
      "  1%|          | 2/200 [00:00<01:02,  3.15it/s]\n",
      "  0%|          | 0/200 [00:00<?, ?it/s]"
     ]
    },
    {
     "name": "stdout",
     "output_type": "stream",
     "text": [
      "Fname not found:  IJ1 9 [5]\n"
     ]
    },
    {
     "name": "stderr",
     "output_type": "stream",
     "text": [
      "  1%|          | 2/200 [00:00<01:02,  3.17it/s]\n",
      "  0%|          | 0/200 [00:00<?, ?it/s]"
     ]
    },
    {
     "name": "stdout",
     "output_type": "stream",
     "text": [
      "Fname not found:  IJ1 12 [5]\n"
     ]
    },
    {
     "name": "stderr",
     "output_type": "stream",
     "text": [
      "  0%|          | 1/200 [00:00<01:03,  3.11it/s]\n",
      "  0%|          | 0/200 [00:00<?, ?it/s]"
     ]
    },
    {
     "name": "stdout",
     "output_type": "stream",
     "text": [
      "Fname not found:  IJ1 15 [5]\n"
     ]
    },
    {
     "name": "stderr",
     "output_type": "stream",
     "text": [
      "  0%|          | 1/200 [00:00<01:04,  3.11it/s]\n",
      "  0%|          | 0/200 [00:00<?, ?it/s]"
     ]
    },
    {
     "name": "stdout",
     "output_type": "stream",
     "text": [
      "Fname not found:  IJ1 18 [5]\n"
     ]
    },
    {
     "name": "stderr",
     "output_type": "stream",
     "text": [
      "  0%|          | 1/200 [00:00<01:04,  3.11it/s]\n",
      "  0%|          | 0/200 [00:00<?, ?it/s]"
     ]
    },
    {
     "name": "stdout",
     "output_type": "stream",
     "text": [
      "Fname not found:  IJ1 21 [5]\n"
     ]
    },
    {
     "name": "stderr",
     "output_type": "stream",
     "text": [
      "  0%|          | 1/200 [00:00<01:05,  3.06it/s]\n",
      "  0%|          | 0/200 [00:00<?, ?it/s]"
     ]
    },
    {
     "name": "stdout",
     "output_type": "stream",
     "text": [
      "Fname not found:  IJ1 24 [5]\n"
     ]
    },
    {
     "name": "stderr",
     "output_type": "stream",
     "text": [
      "  0%|          | 1/200 [00:00<01:04,  3.09it/s]\n",
      "  0%|          | 0/200 [00:00<?, ?it/s]\n",
      "  0%|          | 0/200 [00:00<?, ?it/s]"
     ]
    },
    {
     "name": "stdout",
     "output_type": "stream",
     "text": [
      "Fname not found:  IJ1 27 [5]\n",
      "Fname not found:  IJ1 30 [5]\n"
     ]
    },
    {
     "name": "stderr",
     "output_type": "stream",
     "text": [
      "  4%|▎         | 7/200 [00:02<01:00,  3.19it/s]\n",
      "  0%|          | 0/200 [00:00<?, ?it/s]"
     ]
    },
    {
     "name": "stdout",
     "output_type": "stream",
     "text": [
      "Fname not found:  IJ2 0 [5]\n"
     ]
    },
    {
     "name": "stderr",
     "output_type": "stream",
     "text": [
      "  2%|▎         | 5/200 [00:01<01:01,  3.17it/s]\n",
      "  0%|          | 0/200 [00:00<?, ?it/s]"
     ]
    },
    {
     "name": "stdout",
     "output_type": "stream",
     "text": [
      "Fname not found:  IJ2 1 [5]\n"
     ]
    },
    {
     "name": "stderr",
     "output_type": "stream",
     "text": [
      "  2%|▎         | 5/200 [00:01<01:01,  3.19it/s]\n",
      "  0%|          | 0/200 [00:00<?, ?it/s]"
     ]
    },
    {
     "name": "stdout",
     "output_type": "stream",
     "text": [
      "Fname not found:  IJ2 2 [5]\n"
     ]
    },
    {
     "name": "stderr",
     "output_type": "stream",
     "text": [
      "  2%|▏         | 4/200 [00:01<01:01,  3.18it/s]\n",
      "  0%|          | 0/200 [00:00<?, ?it/s]"
     ]
    },
    {
     "name": "stdout",
     "output_type": "stream",
     "text": [
      "Fname not found:  IJ2 3 [5]\n"
     ]
    },
    {
     "name": "stderr",
     "output_type": "stream",
     "text": [
      "  0%|          | 1/200 [00:00<01:03,  3.11it/s]\n",
      "  0%|          | 0/200 [00:00<?, ?it/s]"
     ]
    },
    {
     "name": "stdout",
     "output_type": "stream",
     "text": [
      "Fname not found:  IJ2 6 [5]\n"
     ]
    },
    {
     "name": "stderr",
     "output_type": "stream",
     "text": [
      "  0%|          | 1/200 [00:00<01:04,  3.10it/s]\n",
      "  0%|          | 0/200 [00:00<?, ?it/s]"
     ]
    },
    {
     "name": "stdout",
     "output_type": "stream",
     "text": [
      "Fname not found:  IJ2 9 [5]\n"
     ]
    },
    {
     "name": "stderr",
     "output_type": "stream",
     "text": [
      "  0%|          | 1/200 [00:00<01:04,  3.11it/s]\n",
      "  0%|          | 0/200 [00:00<?, ?it/s]\n",
      "  0%|          | 0/200 [00:00<?, ?it/s]\n",
      "  0%|          | 0/200 [00:00<?, ?it/s]\n",
      "  0%|          | 0/200 [00:00<?, ?it/s]\n",
      "  0%|          | 0/200 [00:00<?, ?it/s]\n",
      "  0%|          | 0/200 [00:00<?, ?it/s]\n",
      "  0%|          | 0/200 [00:00<?, ?it/s]"
     ]
    },
    {
     "name": "stdout",
     "output_type": "stream",
     "text": [
      "Fname not found:  IJ2 12 [5]\n",
      "Fname not found:  IJ2 15 [5]\n",
      "Fname not found:  IJ2 18 [5]\n",
      "Fname not found:  IJ2 21 [5]\n",
      "Fname not found:  IJ2 24 [5]\n",
      "Fname not found:  IJ2 27 [5]\n",
      "Fname not found:  IJ2 30 [5]\n"
     ]
    },
    {
     "name": "stderr",
     "output_type": "stream",
     "text": [
      " 27%|██▋       | 54/200 [00:16<00:45,  3.20it/s]\n",
      "  0%|          | 0/200 [00:00<?, ?it/s]"
     ]
    },
    {
     "name": "stdout",
     "output_type": "stream",
     "text": [
      "Fname not found:  AQ2 0 [5]\n"
     ]
    },
    {
     "name": "stderr",
     "output_type": "stream",
     "text": [
      "  9%|▉         | 18/200 [00:05<00:56,  3.20it/s]\n",
      "  0%|          | 0/200 [00:00<?, ?it/s]"
     ]
    },
    {
     "name": "stdout",
     "output_type": "stream",
     "text": [
      "Fname not found:  AQ2 1 [5]\n"
     ]
    },
    {
     "name": "stderr",
     "output_type": "stream",
     "text": [
      "  8%|▊         | 15/200 [00:04<00:57,  3.20it/s]\n",
      "  0%|          | 0/200 [00:00<?, ?it/s]"
     ]
    },
    {
     "name": "stdout",
     "output_type": "stream",
     "text": [
      "Fname not found:  AQ2 2 [5]\n"
     ]
    },
    {
     "name": "stderr",
     "output_type": "stream",
     "text": [
      "  6%|▌         | 11/200 [00:03<00:59,  3.20it/s]\n",
      "  0%|          | 0/200 [00:00<?, ?it/s]"
     ]
    },
    {
     "name": "stdout",
     "output_type": "stream",
     "text": [
      "Fname not found:  AQ2 3 [5]\n"
     ]
    },
    {
     "name": "stderr",
     "output_type": "stream",
     "text": [
      "  1%|          | 2/200 [00:00<01:01,  3.20it/s]\n",
      "  0%|          | 0/200 [00:00<?, ?it/s]"
     ]
    },
    {
     "name": "stdout",
     "output_type": "stream",
     "text": [
      "Fname not found:  AQ2 6 [5]\n"
     ]
    },
    {
     "name": "stderr",
     "output_type": "stream",
     "text": [
      "  0%|          | 1/200 [00:00<01:02,  3.18it/s]\n",
      "  0%|          | 0/200 [00:00<?, ?it/s]\n",
      "  0%|          | 0/200 [00:00<?, ?it/s]\n",
      "  0%|          | 0/200 [00:00<?, ?it/s]\n",
      "  0%|          | 0/200 [00:00<?, ?it/s]\n",
      "  0%|          | 0/200 [00:00<?, ?it/s]\n",
      "  0%|          | 0/200 [00:00<?, ?it/s]\n",
      "  0%|          | 0/200 [00:00<?, ?it/s]"
     ]
    },
    {
     "name": "stdout",
     "output_type": "stream",
     "text": [
      "Fname not found:  AQ2 9 [5]\n",
      "Fname not found:  AQ2 12 [5]\n",
      "Fname not found:  AQ2 15 [5]\n",
      "Fname not found:  AQ2 18 [5]\n",
      "Fname not found:  AQ2 21 [5]\n",
      "Fname not found:  AQ2 24 [5]\n",
      "Fname not found:  AQ2 27 [5]\n",
      "Fname not found:  AQ2 30 [5]\n"
     ]
    },
    {
     "name": "stderr",
     "output_type": "stream",
     "text": [
      "\n"
     ]
    },
    {
     "data": {
      "text/plain": [
       "<Figure size 640x480 with 0 Axes>"
      ]
     },
     "metadata": {},
     "output_type": "display_data"
    }
   ],
   "source": [
    "##########################################\n",
    "##########################################\n",
    "##########################################\n",
    "\n",
    "# generate figure ...\n",
    "\n",
    "root_dir = '/media/cat/4TBSSD/yuki'\n",
    "\n",
    "# lockouts = [0,3,6,9,12,15,18,21,24,27,30]\n",
    "lockouts = [0,1,2,3,6,9,12,15,18,21,24,27,30]\n",
    "bodyfeats = []\n",
    "\n",
    "\n",
    "#body_feats_lockouts = [[],[0],[1],[5],[0,1,5]]\n",
    "#body_feats_lockouts = [[],[0],[5]]\n",
    "bodyfeats = [5]\n",
    "\n",
    "\n",
    "# from matplotlib import \n",
    "cmap = plt.cm.get_cmap('viridis', len(lockouts))    # 11 discrete colors\n",
    "\n",
    "#\n",
    "fig = plt.figure()\n",
    "animal_ids = ['IA1','IA2','IA3','IJ1','IJ2','AQ2']\n",
    "\n",
    "# \n",
    "for animal_id in animal_ids:\n",
    "    edts = []\n",
    "    for ctr, lockout in enumerate(lockouts):\n",
    "\n",
    "        edts_local=[]\n",
    "        for n in trange(0, 10000, 50):\n",
    "\n",
    "            fname = os.path.join(root_dir,\n",
    "                                 animal_id,\n",
    "                                 'super_sessions',\n",
    "                                 'alldata_body_and_nonreward_lockout_'+str(lockout)+'secLockout_'+\n",
    "                                 str(bodyfeats)+'bodyfeats_'+\n",
    "                                 str(n)+'_super_res.npz')\n",
    "            \n",
    "            #\n",
    "            try:\n",
    "                data = np.load(fname,\n",
    "                          allow_pickle=True)\n",
    "            except:\n",
    "                print (\"Fname not found: \", animal_id, lockout, bodyfeats)\n",
    "                break\n",
    "\n",
    "            acc = data['accuracy']\n",
    "\n",
    "            # \n",
    "            acc2 = []\n",
    "            for k in range(acc.shape[1]):\n",
    "                acc2.append(filter_trace(acc[:,k]))\n",
    "\n",
    "            acc2 = np.vstack(acc2).T\n",
    "\n",
    "            #\n",
    "            edt = compute_significance(acc2)\n",
    "            edts_local.append(edt)\n",
    "\n",
    "            #break\n",
    "        if len(edts_local)>0:\n",
    "            edts.append([lockout,edts_local])\n",
    "\n",
    "    np.save('/home/cat/'+animal_id+\"_edts_lockedout_licking.npy\", edts)\n",
    "#box_plots(edts_local)\n",
    "#plt.xlim(-30,1)\n",
    "#plt.ylim(0.4,1.0)\n",
    "#plt.plot([-30,1],[0.5,0.5],'--',c='grey')\n",
    "plt.show()"
   ]
  },
  {
   "cell_type": "code",
   "execution_count": 4,
   "id": "0195029a",
   "metadata": {
    "scrolled": true
   },
   "outputs": [
    {
     "name": "stdout",
     "output_type": "stream",
     "text": [
      "DATA:  (27, 5)\n",
      "means:  three     -2.855556\n",
      "six       -2.685714\n",
      "nine      -1.991111\n",
      "twelve    -2.430556\n",
      "fifteen   -1.926667\n",
      "dtype: float64\n",
      "res:  KstestResult(statistic=0.164021164021164, pvalue=0.8517362612151119)\n",
      "res:  KstestResult(statistic=0.3851851851851852, pvalue=0.08664813231587754)\n",
      "res:  KstestResult(statistic=0.21296296296296297, pvalue=0.7798023139544679)\n",
      "res:  KstestResult(statistic=0.3925925925925926, pvalue=0.15668362096582977)\n",
      "DATA:  (34, 5)\n",
      "means:  three     -4.010784\n",
      "six       -4.790805\n",
      "nine      -5.105000\n",
      "twelve    -4.826190\n",
      "fifteen   -3.139394\n",
      "dtype: float64\n",
      "res:  KstestResult(statistic=0.3022312373225152, pvalue=0.0890159924437578)\n",
      "res:  KstestResult(statistic=0.14411764705882352, pvalue=0.9165595995181188)\n",
      "res:  KstestResult(statistic=0.2815126050420168, pvalue=0.3435155245384486)\n",
      "res:  KstestResult(statistic=0.35294117647058826, pvalue=0.18153108549860508)\n",
      "DATA:  (49, 5)\n",
      "means:  three     -5.181633\n",
      "six       -6.209333\n",
      "nine      -3.530303\n",
      "twelve    -3.672222\n",
      "fifteen   -2.266667\n",
      "dtype: float64\n",
      "res:  KstestResult(statistic=0.3763265306122449, pvalue=0.011482946305567232)\n",
      "res:  KstestResult(statistic=0.4897959183673469, pvalue=0.01739682999759895)\n",
      "res:  KstestResult(statistic=0.6122448979591837, pvalue=0.01919407513192184)\n",
      "res:  KstestResult(statistic=0.9795918367346939, pvalue=3.4150089644024995e-05)\n",
      "DATA:  (32, 5)\n",
      "means:  three     -3.826042\n",
      "six       -3.043860\n",
      "nine      -2.356667\n",
      "twelve    -2.747619\n",
      "fifteen   -1.873333\n",
      "dtype: float64\n",
      "res:  KstestResult(statistic=0.37006578947368424, pvalue=0.05778281713600675)\n",
      "res:  KstestResult(statistic=0.575, pvalue=0.007375436356785281)\n",
      "res:  KstestResult(statistic=0.59375, pvalue=0.019574490162725278)\n",
      "res:  KstestResult(statistic=0.875, pvalue=0.00057811822517706)\n",
      "DATA:  (37, 5)\n",
      "means:  three     -4.171171\n",
      "six       -2.950000\n",
      "nine      -2.172222\n",
      "twelve    -2.325000\n",
      "fifteen   -1.644444\n",
      "dtype: float64\n",
      "res:  KstestResult(statistic=0.4572072072072072, pvalue=0.02793243009922497)\n",
      "res:  KstestResult(statistic=0.7027027027027027, pvalue=0.005134788189987138)\n",
      "res:  KstestResult(statistic=0.8108108108108109, pvalue=0.006517231164214432)\n",
      "res:  KstestResult(statistic=0.8108108108108109, pvalue=0.02429149797570851)\n",
      "DATA:  (135, 5)\n",
      "means:  three     -4.782716\n",
      "six       -4.002825\n",
      "nine      -2.884524\n",
      "twelve    -2.729630\n",
      "fifteen   -2.491667\n",
      "dtype: float64\n",
      "res:  KstestResult(statistic=0.31387319522912743, pvalue=0.000434384960269929)\n",
      "res:  KstestResult(statistic=0.6113756613756614, pvalue=1.0224637914113544e-08)\n",
      "res:  KstestResult(statistic=0.5962962962962963, pvalue=7.64415394816087e-06)\n",
      "res:  KstestResult(statistic=0.7018518518518518, pvalue=7.082855729811932e-06)\n"
     ]
    }
   ],
   "source": [
    "##########################################################\n",
    "########## FIG 6G - lockout distributions ################\n",
    "##########################################################\n",
    "\n",
    "# generate figure 6g - revision manuscript\n",
    "#\n",
    "animal_ids = ['IA1','IA2','IA3','IJ1','IJ2','AQ2']\n",
    "#animal_ids = ['IA1']#,'IA2','IA3','IJ1','IJ2','AQ2']\n",
    "licking_flag = False\n",
    "means = []\n",
    "for animal_id in animal_ids:\n",
    "    if licking_flag==False:\n",
    "        edts = np.load(os.path.join('/home/cat/',\n",
    "                                animal_id +\n",
    "                                #'_edts_lockedout_licking.npy'), allow_pickle=True)\n",
    "                                '_edts_lockedout.npy'), allow_pickle=True)\n",
    "    else:\n",
    "        edts = np.load(os.path.join('/home/cat/',\n",
    "                                animal_id +\n",
    "                                '_edts_lockedout_licking.npy'), allow_pickle=True)\n",
    "                                #'_edts_lockedout.npy'), allow_pickle=True)\n",
    "\n",
    "        \n",
    "    #\n",
    "    fig = plt.figure(figsize=(4.5,5.5))\n",
    "    plt.title(animal_id)\n",
    "    m_ = box_plots(edts, licking_flag)\n",
    "    means.append(m_)\n",
    "    if False:\n",
    "        plt.savefig(os.path.join('/home/cat/',\n",
    "                                animal_id+\"_edts_lockdout_licking.svg\"))\n",
    "        plt.close()\n",
    "    else:\n",
    "        plt.show()"
   ]
  },
  {
   "cell_type": "code",
   "execution_count": 24,
   "id": "a4363732",
   "metadata": {},
   "outputs": [
    {
     "data": {
      "image/png": "[encoded data removed]",
      "text/plain": [
       "<Figure size 640x480 with 1 Axes>"
      ]
     },
     "metadata": {},
     "output_type": "display_data"
    }
   ],
   "source": [
    "##################################\n",
    "############## FIG 6H ############\n",
    "##################################\n",
    "\n",
    "# generate fig 6h revision manuscript\n",
    "\n",
    "fig=plt.figure()\n",
    "t = np.array([3,6,9,12,15])\n",
    "for k in range(6):\n",
    "    mm = means[k]#.to_numpy()\n",
    "    #print (mm)\n",
    "    plt.plot(t, mm, \n",
    "             label=animal_ids[k],\n",
    "             linewidth=5)\n",
    "    plt.scatter(t, mm,\n",
    "               s=100)\n",
    "    \n",
    "    \n",
    "plt.plot([3,15],[-3,-3],'--',c='grey')\n",
    "plt.plot([3,15],[-5,-5],'--',c='grey')\n",
    "\n",
    "plt.ylim(-6.5,0)\n",
    "plt.legend()\n",
    "if False:\n",
    "    plt.savefig('/home/cat/mean_fits.svg')\n",
    "    plt.close()\n",
    "else:\n",
    "    plt.show()"
   ]
  },
  {
   "cell_type": "code",
   "execution_count": null,
   "id": "d6bc2aa5-8f73-420e-a3cd-5b2765b27fb9",
   "metadata": {},
   "outputs": [
    {
     "name": "stdout",
     "output_type": "stream",
     "text": [
      "DATA:  (27, 6)\n",
      "means:  M1   -2.855556\n",
      "M2   -2.685714\n",
      "M3   -1.991111\n",
      "M4   -2.430556\n",
      "M5   -1.926667\n",
      "M6   -2.007407\n",
      "dtype: float64\n",
      "res:  KstestResult(statistic=0.164021164021164, pvalue=0.8517362612151119)\n",
      "res:  KstestResult(statistic=0.3851851851851852, pvalue=0.08664813231587754)\n",
      "res:  KstestResult(statistic=0.21296296296296297, pvalue=0.7798023139544679)\n",
      "res:  KstestResult(statistic=0.3925925925925926, pvalue=0.15668362096582977)\n",
      "res:  KstestResult(statistic=0.3333333333333333, pvalue=0.4072205047455326)\n",
      "DATA:  (34, 6)\n",
      "means:  M1   -4.010784\n",
      "M2   -4.790805\n",
      "M3   -5.105000\n",
      "M4   -4.826190\n",
      "M5   -3.139394\n",
      "M6   -2.766667\n",
      "dtype: float64\n",
      "res:  KstestResult(statistic=0.3022312373225152, pvalue=0.0890159924437578)\n",
      "res:  KstestResult(statistic=0.14411764705882352, pvalue=0.9165595995181188)\n",
      "res:  KstestResult(statistic=0.2815126050420168, pvalue=0.3435155245384486)\n",
      "res:  KstestResult(statistic=0.35294117647058826, pvalue=0.18153108549860508)\n",
      "res:  KstestResult(statistic=0.37254901960784315, pvalue=0.2148966578258752)\n",
      "DATA:  (49, 6)\n",
      "means:  M1   -5.181633\n",
      "M2   -6.209333\n",
      "M3   -3.530303\n",
      "M4   -3.672222\n",
      "M5   -2.266667\n",
      "M6   -3.233333\n",
      "dtype: float64\n",
      "res:  KstestResult(statistic=0.3763265306122449, pvalue=0.011482946305567232)\n",
      "res:  KstestResult(statistic=0.4897959183673469, pvalue=0.01739682999759895)\n",
      "res:  KstestResult(statistic=0.6122448979591837, pvalue=0.01919407513192184)\n",
      "res:  KstestResult(statistic=0.9795918367346939, pvalue=3.4150089644024995e-05)\n",
      "res:  KstestResult(statistic=0.8367346938775511, pvalue=0.014932126696832637)\n",
      "DATA:  (32, 6)\n",
      "means:  M1   -3.826042\n",
      "M2   -3.043860\n",
      "M3   -2.356667\n",
      "M4   -2.747619\n",
      "M5   -1.873333\n",
      "M6   -2.308333\n",
      "dtype: float64\n",
      "res:  KstestResult(statistic=0.37006578947368424, pvalue=0.05778281713600675)\n",
      "res:  KstestResult(statistic=0.575, pvalue=0.007375436356785281)\n",
      "res:  KstestResult(statistic=0.59375, pvalue=0.019574490162725278)\n",
      "res:  KstestResult(statistic=0.875, pvalue=0.00057811822517706)\n",
      "res:  KstestResult(statistic=0.71875, pvalue=0.027400050929462627)\n",
      "DATA:  (37, 6)\n",
      "means:  M1   -4.171171\n",
      "M2   -2.950000\n",
      "M3   -2.172222\n",
      "M4   -2.325000\n",
      "M5   -1.644444\n",
      "M6   -2.383333\n",
      "dtype: float64\n",
      "res:  KstestResult(statistic=0.4572072072072072, pvalue=0.02793243009922497)\n",
      "res:  KstestResult(statistic=0.7027027027027027, pvalue=0.005134788189987138)\n",
      "res:  KstestResult(statistic=0.8108108108108109, pvalue=0.006517231164214432)\n",
      "res:  KstestResult(statistic=0.8108108108108109, pvalue=0.02429149797570851)\n",
      "res:  KstestResult(statistic=0.8108108108108109, pvalue=0.09716599190283404)\n",
      "DATA:  (135, 6)\n",
      "means:  M1   -4.782716\n",
      "M2   -4.002825\n",
      "M3   -2.884524\n",
      "M4   -2.729630\n",
      "M5   -2.491667\n",
      "M6   -1.754167\n",
      "dtype: float64\n",
      "res:  KstestResult(statistic=0.31387319522912743, pvalue=0.000434384960269929)\n",
      "res:  KstestResult(statistic=0.6113756613756614, pvalue=1.0224637914113544e-08)\n",
      "res:  KstestResult(statistic=0.5962962962962963, pvalue=7.64415394816087e-06)\n",
      "res:  KstestResult(statistic=0.7018518518518518, pvalue=7.082855729811932e-06)\n",
      "res:  KstestResult(statistic=0.8296296296296296, pvalue=4.5486892962243175e-06)\n"
     ]
    }
   ],
   "source": [
    "##########################################################\n",
    "######### Fig 6I - Filtered lockout distributions ########\n",
    "##########################################################\n",
    "\n",
    "# generate figure 6i - revision manuscript\n",
    "  \n",
    "# \n",
    "animal_ids = ['IA1','IA2','IA3','IJ1','IJ2','AQ2']\n",
    "#animal_ids = ['IA1']#,'IA2','IA3','IJ1','IJ2','AQ2']\n",
    "means = []\n",
    "for animal_id in animal_ids:\n",
    "    edts = np.load(os.path.join('/home/cat/',\n",
    "                            animal_id +\n",
    "                            #'_edts_lockedout_licking.npy'), allow_pickle=True)\n",
    "                            '_edts_lockedout.npy'), allow_pickle=True)\n",
    "        \n",
    "    #\n",
    "    fig = plt.figure(figsize=(4.5,5.5))\n",
    "    plt.title(animal_id)\n",
    "    m_ = box_plots(edts, licking_flag)\n",
    "    means.append(m_)\n",
    "    if False:\n",
    "        plt.savefig(os.path.join('/home/cat/',\n",
    "                                animal_id+\"_edts_lockdout_licking.svg\"))\n",
    "        plt.close()\n",
    "    else:\n",
    "        plt.show()"
   ]
  },
  {
   "cell_type": "code",
   "execution_count": 24,
   "id": "35ab9126-2e86-468b-8e14-bd26a28d9bac",
   "metadata": {},
   "outputs": [
    {
     "name": "stdout",
     "output_type": "stream",
     "text": [
      "[15\n",
      " list([-3.6666666666666665, -3.1, -2.6, -2.6, -1.7666666666666666, -1.9, -1.4333333333333333, -1.3, -0.5333333333333333, -0.36666666666666664])]\n",
      "[15\n",
      " list([-4.466666666666667, -3.7333333333333334, -3.6666666666666665, -2.3666666666666667, -2.6666666666666665, -2.3, -2.0, -4.166666666666667, -4.4, -3.7333333333333334, -1.0333333333333334])]\n",
      "[15\n",
      " list([-2.7, -2.8666666666666667, -2.966666666666667, -0.5333333333333333])]\n",
      "[15\n",
      " list([-0.7666666666666667, -2.6666666666666665, -2.6666666666666665, -2.433333333333333, -0.8333333333333334])]\n",
      "[15 list([-2.6666666666666665, -0.7333333333333333, -1.5333333333333334])]\n",
      "[15\n",
      " list([-3.4, -2.8, -3.433333333333333, -2.7666666666666666, -2.3666666666666667, -5.266666666666667, -2.3, -2.066666666666667, -1.5333333333333334, -2.0, -0.9666666666666667, -1.0])]\n",
      "DATA:  (12, 6)\n",
      "means:  M1   -1.926667\n",
      "M2   -3.139394\n",
      "M3   -2.266667\n",
      "M4   -1.873333\n",
      "M5   -1.644444\n",
      "M6   -2.491667\n",
      "dtype: float64\n",
      "res:  KstestResult(statistic=0.509090909090909, pvalue=0.1060966896880211)\n",
      "res:  KstestResult(statistic=0.55, pvalue=0.2597402597402597)\n",
      "res:  KstestResult(statistic=0.2, pvalue=0.9996669996669997)\n",
      "res:  KstestResult(statistic=0.26666666666666666, pvalue=0.986013986013986)\n",
      "res:  KstestResult(statistic=0.35, pvalue=0.39722197307336615)\n"
     ]
    }
   ],
   "source": [
    "##########################################################\n",
    "########## FIG 2g - lockout distributions for 15 sec################\n",
    "##########################################################\n",
    "\n",
    "# generate figure 6g - revision manuscript\n",
    "#\n",
    "animal_ids = ['IA1','IA2','IA3','IJ1','IJ2','AQ2']\n",
    "#animal_ids = ['IA1']#,'IA2','IA3','IJ1','IJ2','AQ2']\n",
    "means = []\n",
    "edts_array = []\n",
    "for animal_id in animal_ids:\n",
    "    edts = np.load(os.path.join('/home/cat/',\n",
    "                                animal_id +\n",
    "                                '_edts_lockedout.npy'), allow_pickle=True)\n",
    "                                #'_edts_lockedout.npy'), allow_pickle=True)\n",
    "\n",
    "    print (edts[4])    \n",
    "    edts_array.append(edts[4])\n",
    "    \n",
    "# #\n",
    "fig = plt.figure(figsize=(4.5,5.5))\n",
    "#plt.title(animal_id)\n",
    "m_ = box_plots_6animals(edts_array, licking_flag)\n",
    "plt.xlim(0.5,6.5)\n",
    "if True:\n",
    "    plt.savefig(os.path.join('/home/cat/',\n",
    "                            animal_id+\"_edts_lockdout_licking.svg\"))\n",
    "    plt.close()\n",
    "else:\n",
    "    plt.show()\n",
    "\n",
    "        "
   ]
  },
  {
   "cell_type": "code",
   "execution_count": null,
   "id": "cbd622fb-e5dd-4e1f-bfe6-f334bc591fbf",
   "metadata": {},
   "outputs": [],
   "source": []
  },
  {
   "cell_type": "code",
   "execution_count": null,
   "id": "fca0230c-6216-45fc-831f-9d8664f8ee24",
   "metadata": {},
   "outputs": [],
   "source": []
  },
  {
   "cell_type": "code",
   "execution_count": null,
   "id": "fffb0c7b-362c-4e35-98a7-128370a3c6dc",
   "metadata": {},
   "outputs": [],
   "source": []
  },
  {
   "cell_type": "code",
   "execution_count": null,
   "id": "f53bbc0f-3a91-4a39-a107-ab4fdac07419",
   "metadata": {},
   "outputs": [],
   "source": []
  },
  {
   "cell_type": "code",
   "execution_count": null,
   "id": "48aa037c-e3ac-4e41-8854-2860820163b2",
   "metadata": {},
   "outputs": [],
   "source": []
  },
  {
   "cell_type": "code",
   "execution_count": null,
   "id": "59cc001f-ea92-4693-9a21-0028253fdac0",
   "metadata": {},
   "outputs": [],
   "source": []
  },
  {
   "cell_type": "code",
   "execution_count": null,
   "id": "78694e1f-157a-4cf0-81b1-e449ef484f46",
   "metadata": {},
   "outputs": [],
   "source": []
  },
  {
   "cell_type": "code",
   "execution_count": 12,
   "id": "e819e34b",
   "metadata": {},
   "outputs": [
    {
     "name": "stdout",
     "output_type": "stream",
     "text": [
      "edts:  [ -2.36666667  -6.          -4.23333333  -3.83333333  -4.16666667\n",
      "  -3.3         -4.83333333  -6.4         -4.96666667  -2.23333333\n",
      "  -3.          -4.43333333  -2.46666667  -3.73333333  -3.66666667\n",
      "  -3.6         -6.73333333  -1.8         -2.46666667  -3.96666667\n",
      "  -4.23333333  -2.03333333  -3.16666667  -2.73333333  -4.3\n",
      "  -5.63333333  -8.93333333  -8.96666667  -5.53333333 -10.5\n",
      "  -4.66666667  -5.4         -7.76666667  -8.06666667  -2.23333333\n",
      "  -7.1         -4.56666667  -6.5       ]\n"
     ]
    }
   ],
   "source": [
    "\n",
    "\n",
    "fname = '/media/cat/4TBSSD/yuki/IA3/first_decoding_time.npz'\n",
    "\n",
    "edts = np.load(fname)['all_res_continuous']+15\n",
    "print (\"edts: \", edts)\n"
   ]
  },
  {
   "cell_type": "code",
   "execution_count": null,
   "id": "3ec66499-a90d-43f9-9886-f31cb1dc02ee",
   "metadata": {},
   "outputs": [],
   "source": []
  },
  {
   "cell_type": "code",
   "execution_count": null,
   "id": "b2a411e5-e6bc-4534-b1ee-70bc3f8a805d",
   "metadata": {},
   "outputs": [],
   "source": []
  },
  {
   "cell_type": "code",
   "execution_count": null,
   "id": "0499c8c1-047b-4376-a0b3-5ffc1fa74523",
   "metadata": {},
   "outputs": [],
   "source": []
  },
  {
   "cell_type": "code",
   "execution_count": 17,
   "id": "a959b29a",
   "metadata": {},
   "outputs": [
    {
     "name": "stdout",
     "output_type": "stream",
     "text": [
      "[9\n",
      " list([-4.533333333333333, -4.9, -3.3333333333333335, -3.3, -1.0666666666666667, -3.6333333333333333, -4.166666666666667, -2.7, -1.4, -2.7333333333333334, -3.6, -2.466666666666667, -2.966666666666667, -2.7666666666666666, -2.966666666666667, -2.7333333333333334, -2.2, -2.2, -3.066666666666667, -2.1, -3.3333333333333335, -2.7333333333333334, -3.3, -3.1, -3.0, -3.6, -2.2666666666666666, -0.6])]\n"
     ]
    }
   ],
   "source": [
    "data = np.load('/home/cat/AQ2_edts_lockedout.npy',allow_pickle=True)\n",
    "print (data[2])"
   ]
  },
  {
   "cell_type": "code",
   "execution_count": null,
   "id": "16440241",
   "metadata": {},
   "outputs": [],
   "source": []
  },
  {
   "cell_type": "code",
   "execution_count": null,
   "id": "0f9a3833",
   "metadata": {},
   "outputs": [],
   "source": []
  },
  {
   "cell_type": "code",
   "execution_count": null,
   "id": "ef40f6d1",
   "metadata": {},
   "outputs": [],
   "source": []
  },
  {
   "cell_type": "code",
   "execution_count": null,
   "id": "6c4cf768",
   "metadata": {},
   "outputs": [],
   "source": []
  },
  {
   "cell_type": "code",
   "execution_count": null,
   "id": "90c433ad",
   "metadata": {},
   "outputs": [],
   "source": []
  },
  {
   "cell_type": "code",
   "execution_count": null,
   "id": "66b2977b",
   "metadata": {},
   "outputs": [],
   "source": []
  },
  {
   "cell_type": "code",
   "execution_count": null,
   "id": "d3b8a34e",
   "metadata": {},
   "outputs": [],
   "source": []
  },
  {
   "cell_type": "code",
   "execution_count": null,
   "id": "2b4927d3",
   "metadata": {},
   "outputs": [],
   "source": []
  },
  {
   "cell_type": "code",
   "execution_count": null,
   "id": "27ac1ec0",
   "metadata": {},
   "outputs": [],
   "source": []
  },
  {
   "cell_type": "code",
   "execution_count": null,
   "id": "f7cac831",
   "metadata": {},
   "outputs": [],
   "source": []
  },
  {
   "cell_type": "code",
   "execution_count": null,
   "id": "b4b088ca",
   "metadata": {},
   "outputs": [],
   "source": []
  },
  {
   "cell_type": "code",
   "execution_count": null,
   "id": "38066a38",
   "metadata": {},
   "outputs": [],
   "source": []
  },
  {
   "cell_type": "code",
   "execution_count": null,
   "id": "de2a80e9",
   "metadata": {},
   "outputs": [],
   "source": []
  },
  {
   "cell_type": "code",
   "execution_count": null,
   "id": "0e19de98",
   "metadata": {},
   "outputs": [],
   "source": []
  }
 ],
 "metadata": {
  "kernelspec": {
   "display_name": "Python 3",
   "language": "python",
   "name": "python3"
  },
  "language_info": {
   "codemirror_mode": {
    "name": "ipython",
    "version": 3
   },
   "file_extension": ".py",
   "mimetype": "text/x-python",
   "name": "python",
   "nbconvert_exporter": "python",
   "pygments_lexer": "ipython3",
   "version": "3.8.0"
  }
 },
 "nbformat": 4,
 "nbformat_minor": 5
}
