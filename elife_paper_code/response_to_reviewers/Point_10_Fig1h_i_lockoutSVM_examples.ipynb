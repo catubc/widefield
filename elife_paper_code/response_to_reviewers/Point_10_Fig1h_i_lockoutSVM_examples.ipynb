{
 "cells": [
  {
   "cell_type": "code",
   "execution_count": 1,
   "id": "8f254106",
   "metadata": {},
   "outputs": [
    {
     "data": {
      "application/javascript": [
       "IPython.notebook.set_autosave_interval(180000)"
      ]
     },
     "metadata": {},
     "output_type": "display_data"
    },
    {
     "name": "stdout",
     "output_type": "stream",
     "text": [
      "Autosaving every 180 seconds\n"
     ]
    },
    {
     "name": "stderr",
     "output_type": "stream",
     "text": [
      "<ipython-input-1-2ad95b854a16>:11: DeprecationWarning: Importing display from IPython.core.display is deprecated since IPython 7.14, please import from IPython display\n",
      "  from IPython.core.display import display, HTML\n"
     ]
    },
    {
     "data": {
      "text/html": [
       "<style>.container { width:100% !important; }</style>"
      ],
      "text/plain": [
       "<IPython.core.display.HTML object>"
      ]
     },
     "metadata": {},
     "output_type": "display_data"
    }
   ],
   "source": [
    "import matplotlib\n",
    "%matplotlib tk\n",
    "#matplotlib.use('Agg')\n",
    "\n",
    "%load_ext autoreload\n",
    "%autoreload 2\n",
    "\n",
    "%autosave 180\n",
    "\n",
    "import matplotlib.pyplot as plt\n",
    "from IPython.core.display import display, HTML\n",
    "display(HTML(\"<style>.container { width:100% !important; }</style>\"))\n",
    "\n",
    "import numpy as np\n",
    "import os\n",
    "\n",
    "import sys\n",
    "sys.path.append('..')\n",
    "from visualize import visualize_svm as Visualize\n",
    "\n",
    "from tqdm import trange, tqdm\n",
    "\n",
    "sys.path.append('../..')\n",
    "from svm import svm as SVM\n",
    "\n",
    "import scipy\n",
    "from statsmodels.stats.multitest import multipletests\n",
    "\n",
    "#\n",
    "import pandas as pd\n",
    "import matplotlib.patches as mpatches\n",
    "import scipy.stats as stats\n"
   ]
  },
  {
   "cell_type": "code",
   "execution_count": 3,
   "id": "5b69e289-1a5a-4df5-9c6f-66f0491b718e",
   "metadata": {},
   "outputs": [],
   "source": [
    "# #######################################################\n",
    "# #### RERUN SVM BUT LOWPASS FILTER LOCANMF COMPS #######\n",
    "# #######################################################\n",
    "\n",
    "#\n",
    "def load_supersessions(animal_id, lockout):\n",
    "    fname = os.path.join('/media/cat/4TBSSD/yuki/',\n",
    "                         animal_id,\n",
    "                         'super_sessions',\n",
    "                         'alldata_body_and_nonreward_lockout_'+str(lockout)+'secLockout_[]bodyfeats.npz')\n",
    "\n",
    "    data = np.load(fname, allow_pickle=True)\n",
    "    trials = np.vstack(data['trials'])\n",
    "    random = np.vstack(data['random'])\n",
    "    \n",
    "    return trials, random\n",
    "\n",
    "# \n",
    "def filter_trace_box_convolve(trace, smooth_window=30):\n",
    "\n",
    "    box = np.ones(smooth_window)/smooth_window\n",
    "    trace_smooth = np.convolve(trace, box, mode='same')\n",
    "\n",
    "    return trace_smooth\n",
    "\n",
    "from scipy.signal import butter, lfilter, filtfilt, hilbert, chirp\n",
    "\n",
    "def butter_lowpass(cutoff, nyq_freq, order=4):\n",
    "    normal_cutoff = float(cutoff) / nyq_freq\n",
    "    b, a = butter(order, normal_cutoff, btype='lowpass')\n",
    "    return b, a\n",
    "\n",
    "def butter_lowpass_filter(data, cutoff_freq, nyq_freq, order=4):\n",
    "    # Source: https://github.com/guillaume-chevalier/filtering-stft-and-laplace-transform\n",
    "    b, a = butter_lowpass(cutoff_freq, nyq_freq, order=order)\n",
    "    y = filtfilt(b, a, data)\n",
    "    return y\n",
    "\n",
    "\n",
    "def compute_significance(data):\n",
    "\n",
    "    #\n",
    "    significance = 0.05\n",
    "\n",
    "    #\n",
    "    sig = []\n",
    "    for k in range(data.shape[0]):\n",
    "\n",
    "        #\n",
    "        res = scipy.stats.ttest_1samp(data[k], 0.5)\n",
    "        sig.append(res[1])\n",
    "\n",
    "    # multiple hypothesis test Benjamini-Hockberg\n",
    "    temp = np.array(sig)\n",
    "    temp2 = multipletests(temp, \n",
    "                          alpha=significance, \n",
    "                          method='fdr_bh')\n",
    "    sig = temp2[1]\n",
    "\n",
    "    # find earliest significant;\n",
    "    #print (\"sig (BH corrected):\", sig)\n",
    "    edt = sig.shape[0]\n",
    "    for k in range(sig.shape[0]-1,0,-1):\n",
    "        if sig[k]<=significance:\n",
    "            edt = k+1\n",
    "        else:\n",
    "            break\n",
    "\n",
    "    # \n",
    "    edtsec = -(sig.shape[0]-edt)/30.\n",
    "\n",
    "    # \n",
    "    return edtsec\n"
   ]
  },
  {
   "cell_type": "code",
   "execution_count": 12,
   "id": "42c6fa71-9794-4c7a-9aaa-0b929c9f34f5",
   "metadata": {},
   "outputs": [
    {
     "name": "stdout",
     "output_type": "stream",
     "text": [
      "n_trials:  328\n",
      "(900, 10)\n"
     ]
    }
   ],
   "source": [
    "############################################\n",
    "########## QUICK AND DIRTY CHECKS ##########\n",
    "############################################\n",
    "#session_name = 'IA1pm_Feb23_30Hz'\n",
    "fnames = [\n",
    "\n",
    "    # '/media/cat/4TBSSD/yuki/IA3/super_sessions/alldata_body_and_nonreward_lockout_15secLockout_[]bodyfeats_0.3hz_400_super_res.npz',\n",
    "    # '/media/cat/4TBSSD/yuki/IA3/super_sessions/alldata_body_and_nonreward_lockout_15secLockout_[]bodyfeats_0.3hz_350_super_res.npz',\n",
    "    # '/media/cat/4TBSSD/yuki/IA3/super_sessions/alldata_body_and_nonreward_lockout_15secLockout_[]bodyfeats_0.3hz_300_super_res.npz',\n",
    "    # '/media/cat/4TBSSD/yuki/IA3/super_sessions/alldata_body_and_nonreward_lockout_15secLockout_[]bodyfeats_0.3hz_250_super_res.npz',\n",
    "    # '/media/cat/4TBSSD/yuki/IA3/super_sessions/alldata_body_and_nonreward_lockout_15secLockout_[]bodyfeats_0.3hz_200_super_res.npz',\n",
    "    # '/media/cat/4TBSSD/yuki/IA3/super_sessions/alldata_body_and_nonreward_lockout_15secLockout_[]bodyfeats_0.3hz_150_super_res.npz',\n",
    "    # '/media/cat/4TBSSD/yuki/IA3/super_sessions/alldata_body_and_nonreward_lockout_15secLockout_[]bodyfeats_0.3hz_100_super_res.npz',\n",
    "    # '/media/cat/4TBSSD/yuki/IA3/super_sessions/alldata_body_and_nonreward_lockout_15secLockout_[]bodyfeats_0.3hz_50_super_res.npz',\n",
    "    # '/media/cat/4TBSSD/yuki/IA3/super_sessions/alldata_body_and_nonreward_lockout_15secLockout_[]bodyfeats_0.3hz_0_super_res.npz',\n",
    "\n",
    "    #'/media/cat/4TBSSD/yuki/IA1/super_sessions/alldata_body_and_nonreward_lockout_15secLockout_[]bodyfeats_0_super_res.npz',\n",
    "    #'/media/cat/4TBSSD/yuki/IA1/super_sessions/alldata_body_and_nonreward_lockout_15secLockout_[]bodyfeats_200_super_res.npz'\n",
    "\n",
    "    #'/media/cat/4TBSSD/yuki/IA1/super_sessions/alldata_body_and_nonreward_lockout_15secLockout_[]bodyfeats_0.3hz_0_super_res.npz',\n",
    "    #'/media/cat/4TBSSD/yuki/IA1/super_sessions/alldata_body_and_nonreward_lockout_15secLockout_[]bodyfeats_0.3hz_200_super_res.npz'\n",
    "    #'/media/cat/4TBSSD/yuki/IA2/super_sessions/alldata_body_and_nonreward_lockout_15secLockout_[]bodyfeats_200_super_res.npz',\n",
    "    #'/media/cat/4TBSSD/yuki/IA2/super_sessions/alldata_body_and_nonreward_lockout_15secLockout_[]bodyfeats_0.3hz_200_super_res.npz'\n",
    "    \n",
    "    # IA1 15sec lockouts\n",
    "    #'/media/cat/4TBSSD/yuki/IA1/super_sessions/alldata_body_and_nonreward_lockout_15secLockout_[]bodyfeats_0_super_res.npz',\n",
    "    #'/media/cat/4TBSSD/yuki/IA1/super_sessions/alldata_body_and_nonreward_lockout_15secLockout_[]bodyfeats_0.3hz_0_super_res.npz',\n",
    "    #'/media/cat/4TBSSD/yuki/IA1/super_sessions/alldata_body_and_nonreward_lockout_15secLockout_[]bodyfeats_0.3hz_100_super_res.npz',\n",
    "    #'/media/cat/4TBSSD/yuki/IA1/super_sessions/alldata_body_and_nonreward_lockout_15secLockout_[]bodyfeats_0.3hz_200_super_res.npz',\n",
    "    #'/media/cat/4TBSSD/yuki/IA1/super_sessions/alldata_body_and_nonreward_lockout_15secLockout_[]bodyfeats_0.3hz_300_super_res.npz',\n",
    "    \n",
    "    # IA2\n",
    "    #'/media/cat/4TBSSD/yuki/IA2/super_sessions/alldata_body_and_nonreward_lockout_15secLockout_[]bodyfeats_0.3hz_400_super_res.npz'\n",
    "    \n",
    "    # IA3\n",
    "    #'/media/cat/4TBSSD/yuki/IA3/super_sessions/alldata_body_and_nonreward_lockout_15secLockout_[]bodyfeats_0.3hz_0_super_res.npz',\n",
    "    \n",
    "    # IJ1\n",
    "    #'/media/cat/4TBSSD/yuki/IJ1/super_sessions/alldata_body_and_nonreward_lockout_15secLockout_[]bodyfeats_0.3hz_0_super_res.npz',\n",
    "\n",
    "    # AQ2\n",
    "    #'/media/cat/4TBSSD/yuki/AQ2/super_sessions/alldata_body_and_nonreward_lockout_15secLockout_[]bodyfeats_0.3hz_0_super_res.npz',\n",
    "    \n",
    "    \n",
    "    \n",
    "    #'/media/cat/4TBSSD/yuki/IA2/super_sessions/alldata_body_and_nonreward_lockout_15secLockout_[]bodyfeats_0_super_res.npz',\n",
    "    #'/media/cat/4TBSSD/yuki/IA2/super_sessions/alldata_body_and_nonreward_lockout_15secLockout_[]bodyfeats_100_super_res.npz',\n",
    "    #'/media/cat/4TBSSD/yuki/IA2/super_sessions/alldata_body_and_nonreward_lockout_15secLockout_[]bodyfeats_200_super_res.npz'\n",
    "    '/media/cat/4TBSSD/yuki/IA2/super_sessions/alldata_body_and_nonreward_lockout_15secLockout_[]bodyfeats_400_super_res.npz'\n",
    "    \n",
    "    \n",
    "]\n",
    "\n",
    "# \n",
    "fig=plt.figure(figsize=(10,10))\n",
    "ax=plt.subplot(111)\n",
    "for ctr,fname in enumerate(fnames):\n",
    "    #\n",
    "    data = np.load(fname)\n",
    "        \n",
    "    #\n",
    "    predictions = data['predictions']\n",
    "    print (\"n_trials: \", predictions.shape[1])\n",
    "    acc = data['accuracy']\n",
    "    #length = 1801-acc.shape[0]\n",
    "    #acc = np.vstack(\n",
    "    #                 (np.zeros((length,10), dtype=np.float32), \n",
    "    #                  acc))\n",
    "    \n",
    "    #acc2 = []\n",
    "    for k in range(acc.shape[1]):\n",
    "        #acc[:,k] = butter_lowpass_filter(acc[:,k],0.5, 30)    \n",
    "        acc[:,k] = filter_trace_box_convolve(acc[:,k])\n",
    "            \n",
    "    print (acc.shape)\n",
    "    t = np.arange(acc.shape[0])/30-29\n",
    "    mean = acc.mean(1)\n",
    "    std = np.std(acc,1)\n",
    "    plt.plot(t,mean, \n",
    "             c='blue',\n",
    "             linewidth=10,\n",
    "             label=fname)\n",
    "    ax.fill_between(t, mean+std,\n",
    "                    mean-std,\n",
    "                    color='blue',\n",
    "                    alpha=.2)\n",
    "\n",
    "#\n",
    "plt.plot([-30,30],[0.5,0.5],'--',c='grey')\n",
    "plt.ylim(0,1)\n",
    "plt.xlim(-20,0)\n",
    "#plt.legend(fontsize=6)\n",
    "if False:\n",
    "    plt.savefig('/home/cat/acc_filtered_IA1.svg')\n",
    "    plt.close()\n",
    "else:\n",
    "    plt.show()\n",
    "\n"
   ]
  },
  {
   "cell_type": "code",
   "execution_count": 42,
   "id": "b41fbd2c-ec6f-4691-93e3-05be47b0b603",
   "metadata": {},
   "outputs": [
    {
     "name": "stdout",
     "output_type": "stream",
     "text": [
      "(53,)\n"
     ]
    }
   ],
   "source": [
    "fname = '/media/cat/4TBSSD/yuki/IA1/first_decoding_time_0.3hzFilter.npz'\n",
    "data=np.load(fname)\n",
    "\n",
    "sessions = data['all_session_names']\n",
    "print (sessions.shape)"
   ]
  },
  {
   "cell_type": "code",
   "execution_count": null,
   "id": "6fd3a62b-5bbe-49cd-bfba-fac9fd2ae8ee",
   "metadata": {},
   "outputs": [],
   "source": []
  },
  {
   "cell_type": "code",
   "execution_count": null,
   "id": "2661f8e0-96a3-4ee3-b27a-48249b2525aa",
   "metadata": {},
   "outputs": [],
   "source": []
  },
  {
   "cell_type": "code",
   "execution_count": null,
   "id": "d21c131e",
   "metadata": {},
   "outputs": [],
   "source": []
  },
  {
   "cell_type": "code",
   "execution_count": null,
   "id": "de9381d6",
   "metadata": {},
   "outputs": [],
   "source": []
  },
  {
   "cell_type": "code",
   "execution_count": null,
   "id": "6ac980db",
   "metadata": {},
   "outputs": [],
   "source": []
  },
  {
   "cell_type": "code",
   "execution_count": null,
   "id": "f3f22311",
   "metadata": {},
   "outputs": [],
   "source": []
  },
  {
   "cell_type": "code",
   "execution_count": null,
   "id": "6b37949c",
   "metadata": {},
   "outputs": [],
   "source": []
  },
  {
   "cell_type": "code",
   "execution_count": null,
   "id": "d9c09633",
   "metadata": {},
   "outputs": [],
   "source": []
  },
  {
   "cell_type": "code",
   "execution_count": null,
   "id": "e3735304",
   "metadata": {},
   "outputs": [],
   "source": []
  },
  {
   "cell_type": "code",
   "execution_count": null,
   "id": "468b5666",
   "metadata": {},
   "outputs": [],
   "source": []
  },
  {
   "cell_type": "code",
   "execution_count": null,
   "id": "b9dc923e",
   "metadata": {},
   "outputs": [],
   "source": []
  },
  {
   "cell_type": "code",
   "execution_count": null,
   "id": "278ac878",
   "metadata": {},
   "outputs": [],
   "source": []
  },
  {
   "cell_type": "code",
   "execution_count": null,
   "id": "59ed340a",
   "metadata": {},
   "outputs": [],
   "source": []
  }
 ],
 "metadata": {
  "kernelspec": {
   "display_name": "Python 3",
   "language": "python",
   "name": "python3"
  },
  "language_info": {
   "codemirror_mode": {
    "name": "ipython",
    "version": 3
   },
   "file_extension": ".py",
   "mimetype": "text/x-python",
   "name": "python",
   "nbconvert_exporter": "python",
   "pygments_lexer": "ipython3",
   "version": "3.8.0"
  }
 },
 "nbformat": 4,
 "nbformat_minor": 5
}
