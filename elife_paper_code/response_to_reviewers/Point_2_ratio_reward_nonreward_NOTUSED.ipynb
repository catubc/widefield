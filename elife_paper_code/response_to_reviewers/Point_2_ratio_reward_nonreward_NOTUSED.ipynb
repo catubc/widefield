{
 "cells": [
  {
   "cell_type": "code",
   "execution_count": 1,
   "id": "8f254106",
   "metadata": {},
   "outputs": [
    {
     "data": {
      "application/javascript": [
       "IPython.notebook.set_autosave_interval(180000)"
      ]
     },
     "metadata": {},
     "output_type": "display_data"
    },
    {
     "name": "stdout",
     "output_type": "stream",
     "text": [
      "Autosaving every 180 seconds\n"
     ]
    },
    {
     "name": "stderr",
     "output_type": "stream",
     "text": [
      "<ipython-input-1-eeb477d8c4a5>:11: DeprecationWarning: Importing display from IPython.core.display is deprecated since IPython 7.14, please import from IPython display\n",
      "  from IPython.core.display import display, HTML\n"
     ]
    },
    {
     "data": {
      "text/html": [
       "<style>.container { width:100% !important; }</style>"
      ],
      "text/plain": [
       "<IPython.core.display.HTML object>"
      ]
     },
     "metadata": {},
     "output_type": "display_data"
    }
   ],
   "source": [
    "import matplotlib\n",
    "%matplotlib tk\n",
    "#matplotlib.use('Agg')\n",
    "\n",
    "%load_ext autoreload\n",
    "%autoreload 2\n",
    "\n",
    "%autosave 180\n",
    "\n",
    "import matplotlib.pyplot as plt\n",
    "from IPython.core.display import display, HTML\n",
    "display(HTML(\"<style>.container { width:100% !important; }</style>\"))\n",
    "\n",
    "import numpy as np\n",
    "import os\n",
    "\n",
    "import sys\n",
    "sys.path.append('..')\n",
    "\n",
    "# visualize results module\n",
    "from visualize import visualize_svm as Visualize\n",
    "\n"
   ]
  },
  {
   "cell_type": "code",
   "execution_count": 2,
   "id": "b039862d-9fc3-4c26-adfc-8fc4be0bbb9a",
   "metadata": {},
   "outputs": [
    {
     "name": "stdout",
     "output_type": "stream",
     "text": [
      " COULDN't FIND SESSION...\n",
      " COULDN't FIND SESSION...\n",
      " COULDN't FIND SESSION...\n",
      " COULDN't FIND SESSION...\n"
     ]
    }
   ],
   "source": [
    "from sklearn import linear_model\n",
    "from scipy import stats\n",
    "\n",
    "animal_ids = ['IA1','IA2','IA3','IJ1','IJ2','AQ2']\n",
    "names = [\"M1\",'M2','M3','M4','M5','M6']\n",
    "\n",
    "# \n",
    "plt.figure(figsize=(16,12))\n",
    "ctr=0\n",
    "for animal_id in animal_ids:\n",
    "    ax=plt.subplot(2,3,ctr+1)\n",
    "    v = Visualize.Visualize()\n",
    "    v.main_dir = '/media/cat/4TBSSD/yuki/'\n",
    "    v.animal_id = animal_id\n",
    "    \n",
    "    # \n",
    "    v.session_id = \"Mar4\"  # use a random date as dummy to load all other sessions\n",
    "    v.get_fname()\n",
    "\n",
    "    # load N of rewarded and nonrewarde trials\n",
    "    trials = v.get_rewarded_nonrewarded_trials()\n",
    "    ratios = trials[:,0]/trials[:,1]\n",
    "    \n",
    "    idx = np.where(ratios<=2)[0]\n",
    "    ratios=ratios[idx]\n",
    "\n",
    "    # \n",
    "    plt.scatter(np.arange(ratios.shape[0]),\n",
    "                ratios)\n",
    "    \n",
    "    # Create linear regression object\n",
    "    regr = linear_model.LinearRegression()\n",
    "    x = np.arange(ratios.shape[0]).reshape(-1,1)\n",
    "    #print (ratios.shape[0], x.shape[0])\n",
    "    regr.fit(x, ratios.reshape(-1,1))\n",
    "\n",
    "    # Make predictions using the testing set\n",
    "    x_test = np.arange(0,ratios.shape[0],.1)[:,None]\n",
    "    y_test = regr.predict(x_test)\n",
    "\n",
    "    #\n",
    "    ax.plot(x_test, y_test,\n",
    "             linewidth=3)\n",
    "    \n",
    "    #\n",
    "    plt.ylim(0,2)\n",
    "\n",
    "    pcor = stats.pearsonr(np.arange(ratios.shape[0]),\n",
    "                          ratios)\n",
    "    \n",
    "\n",
    "    plt.title(names[ctr]+\" , P cor: \"+ str(round(pcor[0],2))+ \" (pval:\"+str(round(pcor[1],3))+ \")\")\n",
    "              \n",
    "    plt.ylabel(\"Ratio: # rewarded/# nonrewarded\")\n",
    "    plt.xlabel(\"Session id\")\n",
    "    ctr+=1\n",
    "plt.savefig('/home/cat/ratios.svg')\n",
    "plt.close()\n",
    "#plt.show()\n"
   ]
  },
  {
   "cell_type": "code",
   "execution_count": null,
   "id": "d21c131e",
   "metadata": {},
   "outputs": [],
   "source": []
  },
  {
   "cell_type": "code",
   "execution_count": null,
   "id": "de9381d6",
   "metadata": {},
   "outputs": [],
   "source": []
  },
  {
   "cell_type": "code",
   "execution_count": null,
   "id": "6ac980db",
   "metadata": {},
   "outputs": [],
   "source": []
  },
  {
   "cell_type": "code",
   "execution_count": null,
   "id": "f3f22311",
   "metadata": {},
   "outputs": [],
   "source": []
  },
  {
   "cell_type": "code",
   "execution_count": null,
   "id": "6b37949c",
   "metadata": {},
   "outputs": [],
   "source": []
  },
  {
   "cell_type": "code",
   "execution_count": null,
   "id": "d9c09633",
   "metadata": {},
   "outputs": [],
   "source": []
  },
  {
   "cell_type": "code",
   "execution_count": null,
   "id": "e3735304",
   "metadata": {},
   "outputs": [],
   "source": []
  },
  {
   "cell_type": "code",
   "execution_count": null,
   "id": "468b5666",
   "metadata": {},
   "outputs": [],
   "source": []
  },
  {
   "cell_type": "code",
   "execution_count": null,
   "id": "b9dc923e",
   "metadata": {},
   "outputs": [],
   "source": []
  },
  {
   "cell_type": "code",
   "execution_count": null,
   "id": "278ac878",
   "metadata": {},
   "outputs": [],
   "source": []
  },
  {
   "cell_type": "code",
   "execution_count": null,
   "id": "59ed340a",
   "metadata": {},
   "outputs": [],
   "source": []
  }
 ],
 "metadata": {
  "kernelspec": {
   "display_name": "Python 3",
   "language": "python",
   "name": "python3"
  },
  "language_info": {
   "codemirror_mode": {
    "name": "ipython",
    "version": 3
   },
   "file_extension": ".py",
   "mimetype": "text/x-python",
   "name": "python",
   "nbconvert_exporter": "python",
   "pygments_lexer": "ipython3",
   "version": "3.8.0"
  }
 },
 "nbformat": 4,
 "nbformat_minor": 5
}
