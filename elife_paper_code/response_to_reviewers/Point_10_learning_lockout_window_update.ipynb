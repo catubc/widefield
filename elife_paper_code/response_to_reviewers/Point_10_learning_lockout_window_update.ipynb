{
 "cells": [
  {
   "cell_type": "code",
   "execution_count": 1,
   "id": "8f254106",
   "metadata": {},
   "outputs": [
    {
     "data": {
      "application/javascript": [
       "IPython.notebook.set_autosave_interval(180000)"
      ]
     },
     "metadata": {},
     "output_type": "display_data"
    },
    {
     "name": "stdout",
     "output_type": "stream",
     "text": [
      "Autosaving every 180 seconds\n"
     ]
    },
    {
     "name": "stderr",
     "output_type": "stream",
     "text": [
      "<ipython-input-1-0673dc4e64b0>:11: DeprecationWarning: Importing display from IPython.core.display is deprecated since IPython 7.14, please import from IPython display\n",
      "  from IPython.core.display import display, HTML\n"
     ]
    },
    {
     "data": {
      "text/html": [
       "<style>.container { width:100% !important; }</style>"
      ],
      "text/plain": [
       "<IPython.core.display.HTML object>"
      ]
     },
     "metadata": {},
     "output_type": "display_data"
    }
   ],
   "source": [
    "import matplotlib\n",
    "%matplotlib tk\n",
    "#matplotlib.use('Agg')\n",
    "\n",
    "%load_ext autoreload\n",
    "%autoreload 2\n",
    "\n",
    "%autosave 180\n",
    "\n",
    "import matplotlib.pyplot as plt\n",
    "from IPython.core.display import display, HTML\n",
    "display(HTML(\"<style>.container { width:100% !important; }</style>\"))\n",
    "\n",
    "import numpy as np\n",
    "import os\n",
    "\n",
    "import sys\n",
    "sys.path.append('..')\n",
    "\n",
    "# visualize results module\n",
    "from visualize import visualize_svm as Visualize\n"
   ]
  },
  {
   "cell_type": "code",
   "execution_count": 8,
   "id": "98c57df2-8be9-41ef-adb0-3ce99fc5ce5b",
   "metadata": {},
   "outputs": [],
   "source": [
    "#####################################################\n",
    "#####################################################\n",
    "#####################################################\n",
    "def load_lockout_widths(animal_id):\n",
    "    \n",
    "    root_dir = '/media/cat/4TBSSD/yuki/'\n",
    "    fname = os.path.join(root_dir,\n",
    "                         animal_id,\n",
    "                         'event_files.npy')\n",
    "\n",
    "    fnames = np.load(fname)\n",
    "    \n",
    "    return fnames\n",
    "    \n",
    "    \n",
    "def get_session_trials_and_paw_movements(animal_id,\n",
    "                                         n_sec_lockout):\n",
    "    \n",
    "    sample_rate_video =15\n",
    "\n",
    "    # \n",
    "    v = Visualize.Visualize()\n",
    "    v.main_dir = '/media/cat/4TBSSD/yuki/'\n",
    "    v.animal_id = animal_id\n",
    "\n",
    "    # \n",
    "    v.session_id = \"all\"  # use a random date as dummy to load all other sessions\n",
    "    v.get_fname()\n",
    "\n",
    "\n",
    "# \n",
    "def fit_line(x,y):\n",
    "    from sklearn import datasets, linear_model\n",
    "    import scipy\n",
    "    \n",
    "    \n",
    "    #print (\"x: \", x)\n",
    "    #print (\"y: \", y)\n",
    "    corr = scipy.stats.pearsonr(x,y.squeeze())\n",
    "    #print (\"pearson corr: \", corr)\n",
    "    \n",
    "    plt.title(\"pcor: \"+str(round(corr[0],5))+ \n",
    "              \"  pval: \"+str(round(corr[1],5)))\n",
    "\n",
    "    # Create linear regression object\n",
    "    regr = linear_model.LinearRegression()\n",
    "\n",
    "    #\n",
    "    x = x[:,None]\n",
    "    y = y#[:,None]\n",
    "    regr.fit(x, y)\n",
    "\n",
    "    # Make predictions using the testing set\n",
    "    x_test = x \n",
    "    y_test = regr.predict(x_test)\n",
    "\n",
    "    #\n",
    "\n",
    "    return x_test, y_test\n",
    "\n"
   ]
  },
  {
   "cell_type": "code",
   "execution_count": 65,
   "id": "226572f9-a7d2-400d-827c-351518aebce8",
   "metadata": {},
   "outputs": [
    {
     "name": "stderr",
     "output_type": "stream",
     "text": [
      "<ipython-input-65-692ab903e9cd>:41: FutureWarning: elementwise comparison failed; returning scalar instead, but in the future will perform elementwise comparison\n",
      "  idx = np.where(d1=='minPos')[0]\n"
     ]
    },
    {
     "name": "stdout",
     "output_type": "stream",
     "text": [
      "...DONE...\n",
      "temp:  [0.10000001, 0.09999999, 0.10000004, 0.1, 0.1, 0.10000001, 0.1, 0.10000001, 0.1, 0.099999994, 0.1, 0.1, 0.099999994, 0.100000024, 0.1, 0.10000003, 0.1, 0.1, 0.099999994, 0.099999994, 0.1, 0.099999994, 0.099999994, 0.099999994, 0.099999994, 0.1, 0.09999999, 0.1, 0.09999999, 0.1, 0.1, 0.10000001, 0.1, 0.099999994, 0.1, 0.1, 0.1, 0.09999999, 0.09999998, 0.1, 0.09999999, 0.1, 0.1, 0.1, 0.09999999, 0.1, 0.10000001, 0.09999999, 0.1, 0.099999994, 0.099999994, 0.1, 0.1, 0.1, 0.099999994, 0.099999994, 0.099999994, 0.09999999, 0.09999999, 0.1, 0.09999999, 0.1, 0.1, 0.099999994, 0.1, 0.1, 0.1, 0.1, 0.09999999, 0.099999994, 0.099999994]\n",
      "temp:  [0.1, 0.1, 0.1, 0.10000004, 0.100000024, 0.25, 0.25, 0.25, 0.1, 0.1, 0.1, 0.1, 0.1, 0.10000002, 0.100000024, 0.1, 0.10000001, 0.1, 0.099999994, 0.1, 0.09999999, 0.10000001, 0.09999999, 0.099999994, 0.10000001, 0.099999994, 0.1, 0.099999994, 0.10000003, 0.10000002, 0.10000002, 0.10000003, 0.10000004, 0.1, 0.1, 0.10000001, 0.1, 0.1, 0.1, 0.100000024, 0.10000003, 0.1, 0.1, 0.1]\n",
      "temp:  [0.099999994, 0.10000001, 0.100000024, 0.25, 0.25, 0.25, 0.25, 0.10000003, 0.099999994, 0.100000024, 0.1, 0.099999994, 0.09999999, 0.09999999, 0.099999994, 0.099999994, 0.09999999, 0.1, 0.099999994, 0.099999994, 0.099999994, 0.1, 0.099999994, 0.10000001, 0.1, 0.10000004, 0.10000001, 0.1, 0.10000001, 0.1, 0.100000024, 0.10000003, 0.10000003, 0.10000004, 0.10000003, 0.10000001, 0.10000004, 0.10000003, 0.10000004, 0.10000003, 0.10000002, 0.10000003, 0.10000001, 0.100000024]\n",
      "temp:  [0.099999994, 0.09999999, 0.09999999, 0.099999994, 0.10000001, 0.1, 0.100000024, 0.1, 0.10000001, 0.099999994, 0.10000001, 0.099999994, 0.10000001, 0.1, 0.100000024, 0.099999994, 0.1, 0.099999994, 0.100000024, 0.1, 0.1, 0.10000001, 0.10000001, 0.10000002, 0.1, 0.1, 0.1, 0.1, 0.10000001, 0.10000001, 0.099999994, 0.1, 0.1, 0.10000002, 0.1, 0.1, 0.10000001, 0.1, 0.1, 0.09999999, 0.10000001, 0.1, 0.1, 0.10000001]\n",
      "temp:  [0.1, 0.099999994, 0.099999994, 0.10000001, 0.10000001, 0.10000001, 0.1, 0.100000024, 0.1, 0.099999994, 0.1, 0.099999994, 0.1, 0.1, 0.10000001, 0.1, 0.09999999, 0.1, 0.10000003, 0.10000002, 0.10000004, 0.10000003, 0.10000004, 0.10000003, 0.10000003, 0.1, 0.1, 0.10000004, 0.10000004, 0.10000001, 0.10000004, 0.10000002, 0.099999994, 0.10000003, 0.10000003, 0.100000024, 0.1, 0.10000004, 0.10000002, 0.10000004, 0.10000004, 0.10000002, 0.1, 0.10000003]\n",
      "temp:  [0.1, 0.1, 0.1, 0.1, 0.1, 0.1, 0.09999999, 0.099999994, 0.1, 0.1, 0.10000001, 0.1, 0.1, 0.055, 0.1, 0.099999994, 0.100000024, 0.25, 0.25, 0.5, 0.5, 0.75, 0.75, 0.75, 0.75, 0.75, 0.75, 0.75, 0.75, 0.75, 0.75, 0.75, 1.0, 1.25, 1.25, 1.25, 1.25, 1.25, 1.25, 1.25, 1.25, 1.25, 1.25, 1.25, 1.25, 1.25, 1.25, 0.1, 0.099999994, 0.1, 0.1, 0.1, 0.099999994, 0.10000001, 0.10000003, 0.099999994, 0.10000003, 0.100000024, 0.10000003, 0.1, 0.10000002, 0.10000002, 0.10000001, 0.10000003, 0.100000024, 0.10000002, 0.100000024, 0.10000001, 0.1, 0.10000002, 0.10000002, 0.10000002, 0.1, 0.10000001, 0.10000003, 0.100000024, 0.10000003, 0.10000003, 0.10000001, 0.10000001, 0.10000004, 0.10000001, 0.099999994, 0.10000003, 0.10000004, 0.1, 0.10000004, 0.10000002, 0.100000024, 0.10000001, 0.10000002, 0.10000002, 0.10000001, 0.10000004, 0.10000003, 0.10000002, 0.10000003, 0.10000001, 0.10000002, 0.10000004, 0.1, 0.10000001, 0.100000024, 0.10000001, 0.10000004, 0.10000002, 0.100000024, 0.10000002, 0.10000003, 0.10000003]\n"
     ]
    }
   ],
   "source": [
    "########################################################\n",
    "########################################################   \n",
    "########################################################\n",
    "import pandas as pd\n",
    "\n",
    "stroke_sessions = ['sham', \n",
    "                   'sham',\n",
    "                   'IA3_4-11-2016_PM.txt',\n",
    "                   'IJ1_4-11-2016_PM.txt',\n",
    "                   'sham',\n",
    "                   'sham'\n",
    "                  ]\n",
    "animal_ids = ['IA1','IA2','IA3','IJ1','IJ2','AQ2']\n",
    "lock_durations = []\n",
    "for ctr, animal_id in enumerate(animal_ids):\n",
    "    fnames = load_lockout_widths(animal_id)\n",
    "\n",
    "    lock_durations.append([])\n",
    "    for k in range(len(fnames)):\n",
    "        fname1 = fnames[k]\n",
    "\n",
    "        try:\n",
    "            fname1 = fname1.decode(\"utf-8\") \n",
    "        except:\n",
    "            pass\n",
    "        fname1 = fname1.replace('12TB','4TBSSD').replace('10TB','4TBSSD').replace('/in_vivo/','').replace('tim','')\n",
    "\n",
    "        \n",
    "        if os.path.split(fname1)[1]==stroke_sessions[ctr]:\n",
    "            break\n",
    "        \n",
    "        try:\n",
    "            df = pd.read_csv(fname1, \n",
    "                           #header=None, \n",
    "                           delimiter=r\"\\s+\")\n",
    "        except:\n",
    "            pass\n",
    "\n",
    "        d1 = df['exp_hold'].to_numpy()\n",
    "\n",
    "        idx = np.where(d1=='minPos')[0]\n",
    "\n",
    "        if len(idx)>0:\n",
    "            d1[idx]=0.0\n",
    "\n",
    "        d1 = np.float32(d1)\n",
    "\n",
    "        idx = np.where(d1!=0)[0]\n",
    "        d1 = d1[idx]\n",
    "        # print (os.path.split(fname1)[1], round(d1.mean(0),2))\n",
    "        \n",
    "        lock_durations[ctr].append(d1.mean(0))\n",
    "print (\"...DONE...\")\n",
    "\n",
    "# \n",
    "names = [\"M1\",\"M2\",\"M3\",\"M4\",\"M5\",\"M6\"]\n",
    "plt.figure()\n",
    "for k in range(len(lock_durations)):\n",
    "    ax=plt.subplot(2,3,k+1)\n",
    "    plt.title(names[k])\n",
    "    temp = lock_durations[k]\n",
    "    print (\"temp: \", temp)\n",
    "    plt.scatter(np.arange(len(temp)), \n",
    "                temp)\n",
    "    plt.ylim(0,1.5)\n",
    "    plt.ylabel(\"Duration of lockout (sec)\")\n",
    "    plt.xlabel(\"Session #\")\n",
    "plt.show()\n",
    "\n",
    "    "
   ]
  },
  {
   "cell_type": "code",
   "execution_count": null,
   "id": "527c0d32-a3c1-4686-b380-a066bd15512e",
   "metadata": {},
   "outputs": [],
   "source": []
  },
  {
   "cell_type": "code",
   "execution_count": null,
   "id": "99d68da4-23dd-4594-a782-b312549dec1c",
   "metadata": {},
   "outputs": [],
   "source": []
  },
  {
   "cell_type": "code",
   "execution_count": null,
   "id": "4de855b8-cf7e-4f92-949a-0e4446a17eda",
   "metadata": {},
   "outputs": [],
   "source": []
  },
  {
   "cell_type": "code",
   "execution_count": null,
   "id": "7fc3c242-711f-4d20-a6cd-fbc9721f81d6",
   "metadata": {},
   "outputs": [],
   "source": []
  },
  {
   "cell_type": "code",
   "execution_count": null,
   "id": "c45c562e-832b-4788-aecc-296684859bc7",
   "metadata": {},
   "outputs": [],
   "source": []
  },
  {
   "cell_type": "code",
   "execution_count": null,
   "id": "6b37949c",
   "metadata": {},
   "outputs": [],
   "source": []
  },
  {
   "cell_type": "code",
   "execution_count": null,
   "id": "d9c09633",
   "metadata": {},
   "outputs": [],
   "source": []
  },
  {
   "cell_type": "code",
   "execution_count": null,
   "id": "e3735304",
   "metadata": {},
   "outputs": [],
   "source": []
  },
  {
   "cell_type": "code",
   "execution_count": null,
   "id": "468b5666",
   "metadata": {},
   "outputs": [],
   "source": []
  },
  {
   "cell_type": "code",
   "execution_count": null,
   "id": "b9dc923e",
   "metadata": {},
   "outputs": [],
   "source": []
  },
  {
   "cell_type": "code",
   "execution_count": null,
   "id": "278ac878",
   "metadata": {},
   "outputs": [],
   "source": []
  },
  {
   "cell_type": "code",
   "execution_count": 71,
   "id": "59ed340a",
   "metadata": {},
   "outputs": [
    {
     "name": "stdout",
     "output_type": "stream",
     "text": [
      "x:  [0 1 2 3 4]\n",
      "y:  [0. 0. 0. 0. 0.]\n"
     ]
    }
   ],
   "source": [
    "import matplotlib.pyplot as plt\n",
    "import numpy as np\n",
    "\n",
    "# generate a simple array\n",
    "x = np.arange(5)\n",
    "y = np.zeros(5)\n",
    "\n",
    "#\n",
    "print (\"x: \", x)\n",
    "print (\"y: \", y)\n",
    "\n",
    "# make a figure\n",
    "plt.figure()\n",
    "\n",
    "# scatter plot x vs. y\n",
    "plt.scatter(x,y)\n",
    "\n",
    "# show the image\n",
    "plt.show()"
   ]
  },
  {
   "cell_type": "code",
   "execution_count": null,
   "id": "652fc3f6-f84b-47d5-be61-92e39a27da9f",
   "metadata": {},
   "outputs": [],
   "source": []
  }
 ],
 "metadata": {
  "kernelspec": {
   "display_name": "Python 3",
   "language": "python",
   "name": "python3"
  },
  "language_info": {
   "codemirror_mode": {
    "name": "ipython",
    "version": 3
   },
   "file_extension": ".py",
   "mimetype": "text/x-python",
   "name": "python",
   "nbconvert_exporter": "python",
   "pygments_lexer": "ipython3",
   "version": "3.8.0"
  }
 },
 "nbformat": 4,
 "nbformat_minor": 5
}
