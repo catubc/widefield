{
 "cells": [
  {
   "cell_type": "code",
   "execution_count": 3,
   "id": "8f254106",
   "metadata": {},
   "outputs": [
    {
     "name": "stdout",
     "output_type": "stream",
     "text": [
      "The autoreload extension is already loaded. To reload it, use:\n",
      "  %reload_ext autoreload\n"
     ]
    },
    {
     "data": {
      "application/javascript": [
       "IPython.notebook.set_autosave_interval(180000)"
      ]
     },
     "metadata": {},
     "output_type": "display_data"
    },
    {
     "name": "stdout",
     "output_type": "stream",
     "text": [
      "Autosaving every 180 seconds\n"
     ]
    },
    {
     "name": "stderr",
     "output_type": "stream",
     "text": [
      "<ipython-input-3-9bc938cb63d7>:11: DeprecationWarning: Importing display from IPython.core.display is deprecated since IPython 7.14, please import from IPython display\n",
      "  from IPython.core.display import display, HTML\n"
     ]
    },
    {
     "data": {
      "text/html": [
       "<style>.container { width:100% !important; }</style>"
      ],
      "text/plain": [
       "<IPython.core.display.HTML object>"
      ]
     },
     "metadata": {},
     "output_type": "display_data"
    }
   ],
   "source": [
    "import matplotlib\n",
    "%matplotlib tk\n",
    "#matplotlib.use('Agg')\n",
    "\n",
    "%load_ext autoreload\n",
    "%autoreload 2\n",
    "\n",
    "%autosave 180\n",
    "\n",
    "import matplotlib.pyplot as plt\n",
    "from IPython.core.display import display, HTML\n",
    "display(HTML(\"<style>.container { width:100% !important; }</style>\"))\n",
    "\n",
    "import numpy as np\n",
    "import os\n",
    "\n",
    "import sys\n",
    "sys.path.append('..')\n",
    "\n",
    "# visualize results module\n",
    "from visualize import visualize_svm as Visualize\n",
    "\n",
    "import scipy\n",
    "from tqdm import tqdm"
   ]
  },
  {
   "cell_type": "code",
   "execution_count": 4,
   "id": "0d88ef94-2075-4d40-abd1-fe82d2065d1f",
   "metadata": {},
   "outputs": [
    {
     "name": "stdout",
     "output_type": "stream",
     "text": [
      "trials:  (503, 300, 16)\n"
     ]
    },
    {
     "ename": "NameError",
     "evalue": "name 'offset' is not defined",
     "output_type": "error",
     "traceback": [
      "\u001b[0;31m---------------------------------------------------------------------------\u001b[0m",
      "\u001b[0;31mNameError\u001b[0m                                 Traceback (most recent call last)",
      "Input \u001b[0;32mIn [4]\u001b[0m, in \u001b[0;36m<cell line: 17>\u001b[0;34m()\u001b[0m\n\u001b[1;32m     46\u001b[0m plt\u001b[38;5;241m.\u001b[39mplot(t,mean1,label\u001b[38;5;241m=\u001b[39m\u001b[38;5;124m'\u001b[39m\u001b[38;5;124mfirst \u001b[39m\u001b[38;5;124m'\u001b[39m\u001b[38;5;241m+\u001b[39m\u001b[38;5;28mstr\u001b[39m(n_trials)\u001b[38;5;241m+\u001b[39m \u001b[38;5;124m'\u001b[39m\u001b[38;5;124m trials\u001b[39m\u001b[38;5;124m'\u001b[39m,\n\u001b[1;32m     47\u001b[0m         c\u001b[38;5;241m=\u001b[39m\u001b[38;5;124m'\u001b[39m\u001b[38;5;124mblue\u001b[39m\u001b[38;5;124m'\u001b[39m)\n\u001b[1;32m     48\u001b[0m \u001b[38;5;66;03m#offset = 0\u001b[39;00m\n\u001b[1;32m     49\u001b[0m \u001b[38;5;66;03m#plt.plot(t,mean2+offset,label='middle',\u001b[39;00m\n\u001b[1;32m     50\u001b[0m \u001b[38;5;66;03m#        c='green')\u001b[39;00m\n\u001b[0;32m---> 51\u001b[0m plt\u001b[38;5;241m.\u001b[39mplot(t,mean3\u001b[38;5;241m+\u001b[39m\u001b[43moffset\u001b[49m,label\u001b[38;5;241m=\u001b[39m\u001b[38;5;124m'\u001b[39m\u001b[38;5;124mlast \u001b[39m\u001b[38;5;124m'\u001b[39m\u001b[38;5;241m+\u001b[39m\u001b[38;5;28mstr\u001b[39m(n_trials)\u001b[38;5;241m+\u001b[39m \u001b[38;5;124m'\u001b[39m\u001b[38;5;124m trials\u001b[39m\u001b[38;5;124m'\u001b[39m,\n\u001b[1;32m     52\u001b[0m         c\u001b[38;5;241m=\u001b[39m\u001b[38;5;124m'\u001b[39m\u001b[38;5;124mred\u001b[39m\u001b[38;5;124m'\u001b[39m)\n\u001b[1;32m     54\u001b[0m \u001b[38;5;28;01mif\u001b[39;00m \u001b[38;5;28;01mFalse\u001b[39;00m:\n\u001b[1;32m     55\u001b[0m     plt\u001b[38;5;241m.\u001b[39mfill_between(t, mean1\u001b[38;5;241m-\u001b[39mstd1, \n\u001b[1;32m     56\u001b[0m                         mean1\u001b[38;5;241m+\u001b[39mstd1, \n\u001b[1;32m     57\u001b[0m                         color\u001b[38;5;241m=\u001b[39m\u001b[38;5;124m'\u001b[39m\u001b[38;5;124mblue\u001b[39m\u001b[38;5;124m'\u001b[39m, \n\u001b[1;32m     58\u001b[0m                         alpha \u001b[38;5;241m=\u001b[39m \u001b[38;5;241m0.2\u001b[39m)\n",
      "\u001b[0;31mNameError\u001b[0m: name 'offset' is not defined"
     ]
    }
   ],
   "source": [
    "#################################################################\n",
    "#################################################################\n",
    "#################################################################\n",
    "animal_ids = ['IA1','IA2','IA3','IJ1','IJ2','AQ2']\n",
    "\n",
    "times = [600,900]\n",
    "\n",
    "animal_id = 'IA1'\n",
    "feature_id = 11    # 11, 4 and 12 are the largest\n",
    "\n",
    "lockout = 15\n",
    "n_trials = 150\n",
    "\n",
    "# \n",
    "ctr=0\n",
    "plt.figure(figsize=(10,6))\n",
    "for animal_id in animal_ids:\n",
    "    ax=plt.subplot(2,3,ctr+1)\n",
    "\n",
    "    # \n",
    "    fname = os.path.join('/media/cat/4TBSSD/yuki/',\n",
    "                         animal_id, \n",
    "                         'super_sessions',\n",
    "                         'alldata_body_and_nonreward_lockout_'+str(lockout)+'secLockout_[]bodyfeats.npz')\n",
    "    data = np.load(fname,allow_pickle=True)\n",
    "    trials = data['trials']\n",
    "    trials = np.vstack(trials)[:,times[0]:times[1]]\n",
    "    print (\"trials: \", trials.shape)\n",
    "    #\n",
    "    idx1 = np.arange(n_trials)\n",
    "    idx2 = np.arange(trials.shape[0]//2-n_trials//2,\n",
    "                     trials.shape[0]//2+n_trials//2,1)\n",
    "    idx3 = np.arange(trials.shape[0]-n_trials, trials.shape[0],1)\n",
    "    \n",
    "    # \n",
    "    mean1 = trials[idx1].mean(0)[:,feature_id]\n",
    "    std1 = np.std(trials[idx1],axis=0)[:,feature_id]\n",
    "    #mean2 = trials[idx2].mean(0)[:,feature_id]\n",
    "    #std2 = np.std(trials[idx2],axis=0)[:,feature_id]\n",
    "    mean3 = trials[idx3].mean(0)[:,feature_id]\n",
    "    std3 = np.std(trials[idx3],axis=0)[:,feature_id]\n",
    "\n",
    "    # \n",
    "    #plt.figure()\n",
    "    t= np.arange(mean1.shape[0])/30-10\n",
    "    plt.plot(t,mean1,label='first '+str(n_trials)+ ' trials',\n",
    "            c='blue')\n",
    "    #offset = 0\n",
    "    #plt.plot(t,mean2+offset,label='middle',\n",
    "    #        c='green')\n",
    "    plt.plot(t,mean3+offset,label='last '+str(n_trials)+ ' trials',\n",
    "            c='red')\n",
    "\n",
    "    if False:\n",
    "        plt.fill_between(t, mean1-std1, \n",
    "                            mean1+std1, \n",
    "                            color='blue', \n",
    "                            alpha = 0.2)\n",
    "\n",
    "        plt.fill_between(t, mean2-std2+offset, \n",
    "                            mean2+std2+offset, \n",
    "                            color='red', \n",
    "                            alpha = 0.2)\n",
    "        \n",
    "    plt.title(\"# of trials: \"+str(trials.shape[0]))\n",
    "    if ctr==0:\n",
    "        plt.legend()\n",
    "\n",
    "    ctr+=1\n",
    "    plt.xlim(t[0],t[-1])\n",
    "    plt.yticks([])\n",
    "    plt.plot([t[0],t[-1]],\n",
    "             [0,0],'--',\n",
    "             c='black')\n",
    "    plt.xticks([])\n",
    "    \n",
    "    \n",
    "plt.suptitle(\"Lockout: \"+str(lockout))\n",
    "\n",
    "if True: \n",
    "    plt.savefig('/home/cat/bleach.svg')\n",
    "    plt.close()\n",
    "else:\n",
    "    plt.show()\n"
   ]
  },
  {
   "cell_type": "code",
   "execution_count": 39,
   "id": "085b29b2-aa0e-40ef-820c-d1ba4e9e5d71",
   "metadata": {},
   "outputs": [
    {
     "name": "stdout",
     "output_type": "stream",
     "text": [
      "[  0   9  18  27  36  45  55  64  73  82  91 101 110 119 128 137 146 156\n",
      " 165 174 183 192 202 211 220 229 238 247 257 266 275 284 293 303 312 321\n",
      " 330 339 348 358 367 376 385 394 404 413 422 431 440 449 459 468 477 486\n",
      " 495 505 514 523 532 541 550 560 569 578 587 596 606 615 624 633 642 651\n",
      " 661 670 679 688 697 707 716 725 734 743 752 762 771 780 789 798 808 817\n",
      " 826 835 844 853 863 872 881 890 899 909]\n"
     ]
    }
   ],
   "source": []
  },
  {
   "cell_type": "code",
   "execution_count": 48,
   "id": "301a77c2-9b9a-4e56-a46b-824f32306e4e",
   "metadata": {},
   "outputs": [
    {
     "name": "stdout",
     "output_type": "stream",
     "text": [
      "(910, 300, 16)\n"
     ]
    }
   ],
   "source": [
    "print (trials.shape)\n",
    "\n",
    "means = trials.mean(0)\n",
    "plt.figure()\n",
    "for k in range(means.shape[1]):\n",
    "    plt.plot(means[:,k], label=str(k))\n",
    "plt.legend()\n",
    "plt.show()"
   ]
  },
  {
   "cell_type": "code",
   "execution_count": null,
   "id": "05f08f20-93a1-4dad-9117-12083ed73e86",
   "metadata": {},
   "outputs": [],
   "source": []
  },
  {
   "cell_type": "code",
   "execution_count": null,
   "id": "6ac980db",
   "metadata": {},
   "outputs": [],
   "source": []
  },
  {
   "cell_type": "code",
   "execution_count": null,
   "id": "f3f22311",
   "metadata": {},
   "outputs": [],
   "source": []
  },
  {
   "cell_type": "code",
   "execution_count": null,
   "id": "6b37949c",
   "metadata": {},
   "outputs": [],
   "source": []
  },
  {
   "cell_type": "code",
   "execution_count": null,
   "id": "d9c09633",
   "metadata": {},
   "outputs": [],
   "source": []
  },
  {
   "cell_type": "code",
   "execution_count": null,
   "id": "e3735304",
   "metadata": {},
   "outputs": [],
   "source": []
  },
  {
   "cell_type": "code",
   "execution_count": null,
   "id": "468b5666",
   "metadata": {},
   "outputs": [],
   "source": []
  },
  {
   "cell_type": "code",
   "execution_count": null,
   "id": "b9dc923e",
   "metadata": {},
   "outputs": [],
   "source": []
  },
  {
   "cell_type": "code",
   "execution_count": null,
   "id": "278ac878",
   "metadata": {},
   "outputs": [],
   "source": []
  },
  {
   "cell_type": "code",
   "execution_count": null,
   "id": "59ed340a",
   "metadata": {},
   "outputs": [],
   "source": []
  }
 ],
 "metadata": {
  "kernelspec": {
   "display_name": "Python 3",
   "language": "python",
   "name": "python3"
  },
  "language_info": {
   "codemirror_mode": {
    "name": "ipython",
    "version": 3
   },
   "file_extension": ".py",
   "mimetype": "text/x-python",
   "name": "python",
   "nbconvert_exporter": "python",
   "pygments_lexer": "ipython3",
   "version": "3.8.0"
  }
 },
 "nbformat": 4,
 "nbformat_minor": 5
}
