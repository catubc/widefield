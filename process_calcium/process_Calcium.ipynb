{
 "cells": [
  {
   "cell_type": "code",
   "execution_count": 1,
   "metadata": {},
   "outputs": [
    {
     "data": {
      "application/javascript": "IPython.notebook.set_autosave_interval(180000)"
     },
     "metadata": {},
     "output_type": "display_data"
    },
    {
     "name": "stdout",
     "output_type": "stream",
     "text": [
      "Autosaving every 180 seconds\n"
     ]
    },
    {
     "name": "stderr",
     "output_type": "stream",
     "text": [
      "/tmp/ipykernel_137469/2462979057.py:10: DeprecationWarning: Importing display from IPython.core.display is deprecated since IPython 7.14, please import from IPython display\n",
      "  from IPython.core.display import display, HTML\n"
     ]
    },
    {
     "data": {
      "text/html": [
       "<style>.container { width:100% !important; }</style>"
      ],
      "text/plain": [
       "<IPython.core.display.HTML object>"
      ]
     },
     "metadata": {},
     "output_type": "display_data"
    },
    {
     "name": "stderr",
     "output_type": "stream",
     "text": [
      "/home/cat/miniconda3/envs/wide/lib/python3.8/site-packages/tqdm/auto.py:21: TqdmWarning: IProgress not found. Please update jupyter and ipywidgets. See https://ipywidgets.readthedocs.io/en/stable/user_install.html\n",
      "  from .autonotebook import tqdm as notebook_tqdm\n"
     ]
    }
   ],
   "source": [
    "import matplotlib\n",
    "#matplotlib.use('Agg')\n",
    "\n",
    "%load_ext autoreload\n",
    "%autoreload 2\n",
    "\n",
    "%matplotlib tk\n",
    "%autosave 180\n",
    "import matplotlib.pyplot as plt\n",
    "from IPython.core.display import display, HTML\n",
    "display(HTML(\"<style>.container { width:100% !important; }</style>\"))\n",
    "\n",
    "\n",
    "import sys\n",
    "sys.path.append(\"/home/cat/code/widefield/\") # Adds higher directory to python modules path.\n",
    "\n",
    "#\n",
    "import numpy as np\n",
    "import os\n",
    "\n",
    "# pre process data module\n",
    "from ProcessCalcium import ProcessCalcium\n",
    "\n",
    "# \n",
    "\n"
   ]
  },
  {
   "cell_type": "code",
   "execution_count": 2,
   "metadata": {
    "scrolled": true
   },
   "outputs": [
    {
     "name": "stdout",
     "output_type": "stream",
     "text": [
      "PROCESSING:  IA1\n"
     ]
    },
    {
     "name": "stderr",
     "output_type": "stream",
     "text": [
      "  0%|          | 0/71 [00:00<?, ?it/s]"
     ]
    },
    {
     "name": "stdout",
     "output_type": "stream",
     "text": [
      "\n",
      "   recording:  IA1pm_Feb1_30Hz\n",
      "No video available:  IA1pm_Feb1_30Hz\n",
      "fname data stm for whole stack:  /home/cat/data/IA1/tif_files/IA1pm_Feb1_30Hz/IA1pm_Feb1_30Hz_aligned_butterworth_0.1hz_6.0hz.npy\n",
      "    data_stm:  (40000, 128, 128)\n",
      "    data pre PCA:  (40000, 128, 128)\n",
      "    data X into PCA:  (40000, 16384)\n",
      "    denoising data (pca.transofrm(X)) \n"
     ]
    },
    {
     "ename": "",
     "evalue": "",
     "output_type": "error",
     "traceback": [
      "\u001b[1;31mThe Kernel crashed while executing code in the current cell or a previous cell. \n",
      "\u001b[1;31mPlease review the code in the cell(s) to identify a possible cause of the failure. \n",
      "\u001b[1;31mClick <a href='https://aka.ms/vscodeJupyterKernelCrash'>here</a> for more info. \n",
      "\u001b[1;31mView Jupyter <a href='command:jupyter.viewOutput'>log</a> for further details."
     ]
    }
   ],
   "source": [
    "###########################################################################\n",
    "##### PROCESS [CA] DATA (EVENT TRIGGERED MAPS): ROI OR PCA TIME SERIES ####\n",
    "###########################################################################\n",
    "'''  Compute calcium activlearnity in ROIs selected (35) for \n",
    "     lever pull actiivty\n",
    "     \n",
    "     or just use PCA time courses \n",
    "'''\n",
    "\n",
    "# Processing flags\n",
    "parallel = False  # THIS DOESN\"T REALLY WORK TOO MUCH MEMORY...\n",
    "n_cores = 3\n",
    "\n",
    "# select animal names\n",
    "names = ['IA1']# ,'IA2','IA3','IJ1','IJ2','AQ2'] # 30HZ DATASETS\n",
    "#names = ['AI3','AK4','AK5','AR4','BA2']\n",
    "\n",
    "#names = ['AK4','AK5','AR4','BA2']\n",
    "\n",
    "\n",
    "# data_dir = '/media/cat/4TBSSD/yuki/'\n",
    "data_dir = '/media/cat/4TBSATA/yuki/'\n",
    "data_dir = '/home/cat/data/'\n",
    "\n",
    "\n",
    "# window to compute\n",
    "n_sec_window = 15\n",
    "lockout_window = 10   # no of seconds of previous movement / lever pull lockout\n",
    "recompute = False      # overwrite previously generated data\n",
    "\n",
    "# save PCA vs. ROI data; if selected, each dataset will be reduced to the PCs rquired to get to the explained var value\n",
    "pca_etm = True\n",
    "pca_explained_var_val = 0.95\n",
    "\n",
    "################################\n",
    "etm = ProcessCalcium()\n",
    "etm.main_dir = data_dir\n",
    "etm.export_blue_light_times = False\n",
    "#\n",
    "etm.random_events_lockout = 3.0  # minimum number of seconds difference between a rewarded pull and a random/control \n",
    "etm.n_sec_window = n_sec_window \n",
    "etm.recompute = recompute\n",
    "etm.pca_fixed_comps = 30  # fixed numer of components overrides explained_variance amount above\n",
    "\n",
    "#\n",
    "etm.low_cut = 0.1\n",
    "etm.high_cut = 6.0\n",
    "etm.img_rate = 30\n",
    "\n",
    "# \n",
    "etm.remove_shift = True\n",
    "etm.whole_stack = True\n",
    "etm.verbose = True\n",
    "#\n",
    "sessions = ['all']\n",
    "\n",
    "#features = ['left_paw','right_paw','jaw']\n",
    "features = ['code_04']\n",
    "for feature in features:\n",
    "    etm.features = feature\n",
    "    etm.feature_name = feature\n",
    "    etm.feature_quiescence = 3    # number of seconds of no-movement prior to feature movement ;not applicable to code-04\n",
    "                                    # this value is computed in generate_movements_quiescence_periods notebook;\n",
    "\n",
    "    # \n",
    "    #etm.skip_to = 'Mar14_'  # flag to pickup reprocessing at some point; only used if overwrite flag is set to True and need to partially restart\n",
    "    etm.skip_to = None  # \n",
    "\n",
    "    #\n",
    "    for session in sessions:\n",
    "        # \n",
    "        etm.sessions = session\n",
    "\n",
    "        # \n",
    "        etm.generate_etm(names,\n",
    "                         n_sec_window,\n",
    "                         lockout_window,\n",
    "                         recompute,\n",
    "                         pca_etm,\n",
    "                         pca_explained_var_val,\n",
    "                         parallel,\n",
    "                         n_cores,\n",
    "                         )                \n"
   ]
  },
  {
   "cell_type": "code",
   "execution_count": null,
   "metadata": {},
   "outputs": [],
   "source": [
    "# data1= np.load('/media/cat/4TBSSD/yuki/AI3/SVM_Scores/SVM_Scores_AI3_Dec3am_15Hz_8x8code_04_trial_ROItimeCourses_15sec_Xvalid10_Slidewindow30.npz',\n",
    "#                allow_pickle=True)\n",
    "# data2 = np.load('/media/cat/4TBSSD/yuki/AI3/SVM_Scores/SVM_Scores_AI3_Nov6am_15Hz_8x8code_04_trial_ROItimeCourses_15sec_Xvalid10_Slidewindow30.npz',\n",
    "#                 allow_pickle=True)\n",
    "# acc1 = data1['accuracy']\n",
    "# acc2 = data2['accuracy']"
   ]
  },
  {
   "cell_type": "code",
   "execution_count": null,
   "metadata": {},
   "outputs": [],
   "source": []
  }
 ],
 "metadata": {
  "kernelspec": {
   "display_name": "wide",
   "language": "python",
   "name": "python3"
  },
  "language_info": {
   "codemirror_mode": {
    "name": "ipython",
    "version": 3
   },
   "file_extension": ".py",
   "mimetype": "text/x-python",
   "name": "python",
   "nbconvert_exporter": "python",
   "pygments_lexer": "ipython3",
   "version": "3.8.18"
  }
 },
 "nbformat": 4,
 "nbformat_minor": 4
}
