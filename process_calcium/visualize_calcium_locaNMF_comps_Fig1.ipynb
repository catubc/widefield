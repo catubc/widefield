{
 "cells": [
  {
   "cell_type": "code",
   "execution_count": 1,
   "id": "6d7687b4",
   "metadata": {},
   "outputs": [
    {
     "data": {
      "application/javascript": [
       "IPython.notebook.set_autosave_interval(180000)"
      ]
     },
     "metadata": {},
     "output_type": "display_data"
    },
    {
     "name": "stdout",
     "output_type": "stream",
     "text": [
      "Autosaving every 180 seconds\n"
     ]
    },
    {
     "data": {
      "text/html": [
       "<style>.container { width:100% !important; }</style>"
      ],
      "text/plain": [
       "<IPython.core.display.HTML object>"
      ]
     },
     "metadata": {},
     "output_type": "display_data"
    }
   ],
   "source": [
    "import matplotlib\n",
    "#matplotlib.use('Agg')\n",
    "\n",
    "%load_ext autoreload\n",
    "%autoreload 2\n",
    "\n",
    "%matplotlib tk\n",
    "%autosave 180\n",
    "import matplotlib.pyplot as plt\n",
    "from IPython.core.display import display, HTML\n",
    "display(HTML(\"<style>.container { width:100% !important; }</style>\"))\n",
    "\n",
    "\n",
    "import sys\n",
    "sys.path.append(\"/home/cat/code/widefield/\") # Adds higher directory to python modules path.\n",
    "\n",
    "\n",
    "\n",
    "import numpy as np\n",
    "import os\n",
    "\n",
    "# pre process data module\n",
    "from ProcessCalcium import ProcessCalcium\n",
    "\n",
    "# \n",
    "from scipy.signal import hilbert, chirp"
   ]
  },
  {
   "cell_type": "code",
   "execution_count": 3,
   "id": "26e33244",
   "metadata": {},
   "outputs": [
    {
     "name": "stdout",
     "output_type": "stream",
     "text": [
      "(132, 16, 1801)\n",
      "['Retrosplenial area, dorsal part, layer 1 - right'\n",
      " 'Retrosplenial area, lateral agranular part, layer 1 - right'\n",
      " 'Primary visual area, layer 1 - right'\n",
      " 'Primary somatosensory area, upper limb, layer 1 - right'\n",
      " 'Primary somatosensory area, lower limb, layer 1 - right'\n",
      " 'Primary somatosensory area, barrel field, layer 1 - right'\n",
      " 'Secondary motor area, layer 1 - right'\n",
      " 'Primary motor area, Layer 1 - right'\n",
      " 'Primary motor area, Layer 1 - left'\n",
      " 'Secondary motor area, layer 1 - left'\n",
      " 'Primary somatosensory area, barrel field, layer 1 - left'\n",
      " 'Primary somatosensory area, lower limb, layer 1 - left'\n",
      " 'Primary somatosensory area, upper limb, layer 1 - left'\n",
      " 'Primary visual area, layer 1 - left'\n",
      " 'Retrosplenial area, lateral agranular part, layer 1 - left'\n",
      " 'Retrosplenial area, dorsal part, layer 1 - left']\n",
      "6\n",
      "7\n",
      "8\n",
      "9\n",
      "(1801,)\n"
     ]
    }
   ],
   "source": [
    "##########################################################################\n",
    "##########################################################################\n",
    "##########################################################################\n",
    "from scipy.signal import butter, lfilter, filtfilt\n",
    "\n",
    "def butter_bandpass(lowcut, highcut, fs, order=5):\n",
    "    nyq = 0.5 * fs\n",
    "    low = lowcut / nyq\n",
    "    high = highcut / nyq\n",
    "    b, a = butter(order, [low, high], btype='band')\n",
    "    return b, a\n",
    "\n",
    "\n",
    "def butter_bandpass_filter(data, lowcut, highcut, fs, order=5):\n",
    "    b, a = butter_bandpass(lowcut, highcut, fs, order=order)\n",
    "    y = filtfilt(b, a, data)\n",
    "    return y\n",
    "\n",
    "def butter_lowpass(cutoff, nyq_freq, order=4):\n",
    "    normal_cutoff = float(cutoff) / nyq_freq\n",
    "    b, a = butter(order, normal_cutoff, btype='lowpass')\n",
    "    return b, a\n",
    "\n",
    "def butter_lowpass_filter(data, cutoff_freq, nyq_freq, order=4):\n",
    "    # Source: https://github.com/guillaume-chevalier/filtering-stft-and-laplace-transform\n",
    "    b, a = butter_lowpass(cutoff_freq, nyq_freq, order=order)\n",
    "    y = filtfilt(b, a, data)\n",
    "    return y\n",
    "\n",
    "\n",
    "\n",
    "fname = '/media/cat/4TBSSD/yuki/IJ1/tif_files/IJ1pm_Mar3_30Hz/IJ1pm_Mar3_30Hz_locanmf.npz'\n",
    "\n",
    "data = np.load(fname, allow_pickle=True)\n",
    "\n",
    "trials = data['temporal_trial']\n",
    "print (trials.shape)\n",
    "random = data['temporal_random']\n",
    "\n",
    "\n",
    "names = data['names']\n",
    "print (names)\n",
    "\n",
    "name = 'motor'\n",
    "\n",
    "t = []\n",
    "r = []\n",
    "for k in range(trials.shape[1]):\n",
    "    if name in names[k]:\n",
    "        print (k)\n",
    "        t.append(trials[:,k].mean(0))\n",
    "        r.append(random[:,k].mean(0))\n",
    "        \n",
    "# \n",
    "t = np.array(t).mean(0)\n",
    "r = np.array(r).mean(0)\n",
    "print (t.shape)\n",
    "\n",
    "#\n",
    "#t -= np.mean(t)\n",
    "#r -= np.mean(r)\n",
    "\n",
    "filter_cutoff = 14\n",
    "t = butter_lowpass_filter(t, filter_cutoff,30)*100\n",
    "\n",
    "x = np.arange(t.shape[0])/30.-30\n",
    "\n",
    "analytic_signal = hilbert(t)\n",
    "amplitude_envelope = np.abs(analytic_signal)\n",
    "amplitude_envelope = butter_lowpass_filter(amplitude_envelope,.5,30)\n",
    "\n",
    "#analytical_signal = hilbert(sensor)\n",
    "\n",
    "\n",
    "#####################################################\n",
    "#####################################################\n",
    "#####################################################\n",
    "fig=plt.figure()\n",
    "\n",
    "#plt.plot(x,analytic_signal.real, c='black')\n",
    "#plt.plot(x,analytic_signal.imag, c='green')\n",
    "\n",
    "start = 300\n",
    "end = 1050\n",
    "t = t[start:end]\n",
    "r = r[start:end]\n",
    "x = x[start:end]\n",
    "amplitude_envelope = amplitude_envelope[start:end]\n",
    "\n",
    "plt.plot(x,t, c='blue', linewidth=3)\n",
    "plt.plot(x, \n",
    "         amplitude_envelope, '--', c='blue', linewidth=3)\n",
    "\n",
    "\n",
    "# \n",
    "plt.plot([x[0], x[-1]],[0,0],c='black', linewidth=3, label='neural')\n",
    "plt.plot([x[600], x[600]],[-5,7],'--',c='black', linewidth=3, label='Envelope')\n",
    "\n",
    "plt.xlim(x[0],x[-1])\n",
    "plt.ylim(-5,7)\n",
    "# plt.plot(x, \n",
    "#          -amplitude_envelope, c='blue')\n",
    "#plt.plot(x,r)\n",
    "plt.legend()\n",
    "\n",
    "if False:\n",
    "    plt.savefig('/home/cat/envelope.svg')\n",
    "    plt.close()\n",
    "else:\n",
    "    plt.show()"
   ]
  },
  {
   "cell_type": "code",
   "execution_count": null,
   "id": "80ed8dca",
   "metadata": {},
   "outputs": [],
   "source": []
  },
  {
   "cell_type": "code",
   "execution_count": null,
   "id": "f476fc8f",
   "metadata": {},
   "outputs": [],
   "source": []
  },
  {
   "cell_type": "code",
   "execution_count": null,
   "id": "6537304d",
   "metadata": {},
   "outputs": [],
   "source": []
  },
  {
   "cell_type": "code",
   "execution_count": null,
   "id": "203e9d2b",
   "metadata": {},
   "outputs": [],
   "source": []
  },
  {
   "cell_type": "code",
   "execution_count": null,
   "id": "9da84d1d",
   "metadata": {},
   "outputs": [],
   "source": []
  },
  {
   "cell_type": "code",
   "execution_count": null,
   "id": "17cbe707",
   "metadata": {},
   "outputs": [],
   "source": []
  },
  {
   "cell_type": "code",
   "execution_count": null,
   "id": "1ad33de2",
   "metadata": {},
   "outputs": [],
   "source": []
  },
  {
   "cell_type": "code",
   "execution_count": null,
   "id": "165220f9",
   "metadata": {},
   "outputs": [],
   "source": []
  },
  {
   "cell_type": "code",
   "execution_count": null,
   "id": "210aec38",
   "metadata": {},
   "outputs": [],
   "source": []
  },
  {
   "cell_type": "code",
   "execution_count": null,
   "id": "398234af",
   "metadata": {},
   "outputs": [],
   "source": []
  },
  {
   "cell_type": "code",
   "execution_count": null,
   "id": "11eb8e33",
   "metadata": {},
   "outputs": [],
   "source": []
  }
 ],
 "metadata": {
  "kernelspec": {
   "display_name": "Python 3",
   "language": "python",
   "name": "python3"
  },
  "language_info": {
   "codemirror_mode": {
    "name": "ipython",
    "version": 3
   },
   "file_extension": ".py",
   "mimetype": "text/x-python",
   "name": "python",
   "nbconvert_exporter": "python",
   "pygments_lexer": "ipython3",
   "version": "3.8.0"
  }
 },
 "nbformat": 4,
 "nbformat_minor": 5
}
