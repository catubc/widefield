{
 "cells": [
  {
   "cell_type": "code",
   "execution_count": 1,
   "metadata": {},
   "outputs": [
    {
     "data": {
      "application/javascript": [
       "IPython.notebook.set_autosave_interval(180000)"
      ]
     },
     "metadata": {},
     "output_type": "display_data"
    },
    {
     "name": "stdout",
     "output_type": "stream",
     "text": [
      "Autosaving every 180 seconds\n"
     ]
    },
    {
     "data": {
      "text/html": [
       "<style>.container { width:100% !important; }</style>"
      ],
      "text/plain": [
       "<IPython.core.display.HTML object>"
      ]
     },
     "metadata": {},
     "output_type": "display_data"
    }
   ],
   "source": [
    "import matplotlib\n",
    "#matplotlib.use('Agg')\n",
    "\n",
    "%load_ext autoreload\n",
    "%autoreload 2\n",
    "\n",
    "%matplotlib tk\n",
    "%autosave 180\n",
    "import matplotlib.pyplot as plt\n",
    "from IPython.core.display import display, HTML\n",
    "display(HTML(\"<style>.container { width:100% !important; }</style>\"))\n",
    "\n",
    "import numpy as np\n",
    "import os\n",
    "os.chdir('/home/cat/code/widefield/')\n",
    "import umap\n",
    "import parmap\n",
    "import scipy\n",
    "\n",
    "import glob2\n",
    "import numpy as np\n",
    "from sklearn.decomposition import PCA\n",
    "\n",
    "# visualize results module\n",
    "#from visualize import Visualize\n",
    "#from Visualize import PCA_Analysis\n",
    "from visualize import visualize\n",
    "\n",
    "import pickle as pk\n",
    "from sklearn.linear_model import LinearRegression\n",
    "\n",
    "# \n",
    "#data_dir = '/media/cat/4TBSSD/yuki/'\n",
    "data_dir = '/media/cat/4TBSSD/yuki/'\n"
   ]
  },
  {
   "cell_type": "code",
   "execution_count": null,
   "metadata": {
    "scrolled": true
   },
   "outputs": [
    {
     "name": "stdout",
     "output_type": "stream",
     "text": [
      " processing:  IA1pm_Feb1_30Hz\n",
      "     not enough points :  (3,)\n",
      "\n",
      "\n",
      " processing:  IA1pm_Feb2_30Hz\n",
      "     data laready processed\n",
      "\n",
      " processing:  IA1pm_Feb3_30Hz\n",
      "     data laready processed\n",
      "\n",
      " processing:  IA1pm_Feb4_30Hz\n",
      " data missing/led missing\n",
      "     missing data/blue light\n",
      "\n",
      "\n",
      " processing:  IA1pm_Feb5_30Hz\n",
      "     not enough points :  (4,)\n",
      "\n",
      "\n",
      " processing:  IA1pm_Feb9_30Hz\n",
      "     data laready processed\n",
      "\n",
      " processing:  IA1pm_Feb10_30Hz\n",
      "     data laready processed\n",
      "\n",
      " processing:  IA1pm_Feb11_30Hz\n",
      "     data laready processed\n",
      "\n",
      " processing:  IA1pm_Feb12_30Hz\n",
      " data missing/led missing\n",
      "     missing data/blue light\n",
      "\n",
      "\n",
      " processing:  IA1pm_Feb15_30Hz\n",
      "     data laready processed\n",
      "\n",
      " processing:  IA1pm_Feb16_30Hz\n",
      "     data laready processed\n",
      "\n",
      " processing:  IA1pm_Feb17_30Hz\n",
      "     data laready processed\n",
      "\n",
      " processing:  IA1pm_Feb18_30Hz\n",
      "     data laready processed\n",
      "\n",
      " processing:  IA1pm_Feb19_30Hz\n",
      "     data laready processed\n",
      "\n",
      " processing:  IA1pm_Feb22_30Hz\n",
      " data missing/led missing\n",
      "     missing data/blue light\n",
      "\n",
      "\n",
      " processing:  IA1pm_Feb23_30Hz\n",
      "     data laready processed\n",
      "\n",
      " processing:  IA1pm_Feb24_30Hz\n",
      " data missing/led missing\n",
      "     missing data/blue light\n",
      "\n",
      "\n",
      " processing:  IA1pm_Feb25_30Hz\n",
      " data missing/led missing\n",
      "     missing data/blue light\n",
      "\n",
      "\n",
      " processing:  IA1pm_Feb26_30Hz\n",
      "     data laready processed\n",
      "\n",
      " processing:  IA1pm_Feb29_30Hz\n",
      "     data laready processed\n",
      "\n",
      " processing:  IA1pm_Mar1_30Hz\n",
      "     not enough points :  (2,)\n",
      "\n",
      "\n",
      " processing:  IA1pm_Mar2_30Hz\n",
      "     data laready processed\n",
      "\n",
      " processing:  IA1pm_Mar3_30Hz\n",
      "     data laready processed\n",
      "\n",
      " processing:  IA1am_Mar4_30Hz\n",
      "     data laready processed\n",
      "\n",
      " processing:  IA1am_Mar7_30Hz\n",
      "     data laready processed\n",
      "\n",
      " processing:  IA1pm_Mar8_30Hz\n",
      "     data laready processed\n",
      "\n",
      " processing:  IA1am_Mar9_30Hz\n",
      "     data laready processed\n",
      "\n",
      " processing:  IA1am_Mar10_30Hz\n",
      "     data laready processed\n",
      "\n",
      " processing:  IA1am_Mar11_30Hz\n",
      "     data laready processed\n",
      "\n",
      " processing:  IA1pm_Mar14_30Hz\n",
      "     data laready processed\n",
      "\n",
      " processing:  IA1am_Mar15_30Hz\n",
      "     data laready processed\n",
      "\n",
      " processing:  IA1pm_Mar16_30Hz\n",
      "     data laready processed\n",
      "\n",
      " processing:  IA1pm_Mar17_30Hz\n",
      "     data laready processed\n",
      "\n",
      " processing:  IA1pm_Mar18_30Hz\n",
      "     data laready processed\n",
      "\n",
      " processing:  IA1pm_Mar21_30Hz\n",
      "     data laready processed\n",
      "\n",
      " processing:  IA1pm_Mar22_30Hz\n",
      "     data laready processed\n",
      "\n",
      " processing:  IA1pm_Mar23_30Hz\n",
      "     data laready processed\n",
      "\n",
      " processing:  IA1pm_Mar24_30Hz\n",
      "     data laready processed\n",
      "\n",
      " processing:  IA1pm_Mar29_30Hz\n",
      "     data laready processed\n",
      "\n",
      " processing:  IA1pm_Mar30_30Hz\n",
      "     data laready processed\n",
      "\n",
      " processing:  IA1pm_Mar31_30Hz\n",
      "     data laready processed\n",
      "\n",
      " processing:  IA1pm_Apr1_30Hz\n",
      "     data laready processed\n",
      "\n",
      " processing:  IA1pm_Apr4_30Hz\n",
      " data missing/led missing\n",
      "     missing data/blue light\n",
      "\n",
      "\n",
      " processing:  IA1pm_Apr5_30Hz\n",
      "     data laready processed\n",
      "\n",
      " processing:  IA1pm_Apr6_30Hz\n",
      "     data laready processed\n",
      "\n",
      " processing:  IA1pm_Apr7_30Hz\n",
      "     data laready processed\n",
      "\n",
      " processing:  IA1pm_Apr11_Day3_30Hz\n",
      "     data laready processed\n",
      "\n",
      " processing:  IA1pm_Apr13_Day5_30Hz\n",
      "     data laready processed\n",
      "\n",
      " processing:  IA1pm_Apr15_Day7_30Hz\n",
      "     data laready processed\n",
      "\n",
      " processing:  IA1pm_Apr18_Week2_30Hz\n",
      "     data laready processed\n",
      "\n",
      " processing:  IA1pm_Apr19_Week2_30Hz\n",
      "     data laready processed\n",
      "\n",
      " processing:  IA1pm_Apr20_Week2_30Hz\n",
      "     data laready processed\n",
      "\n",
      " processing:  IA1pm_Apr21_Week2_30Hz\n",
      "     data laready processed\n",
      "\n",
      " processing:  IA1pm_Apr22_Week2_30Hz\n",
      " data missing/led missing\n",
      "     missing data/blue light\n",
      "\n",
      "\n",
      " processing:  IA1pm_Apr25_Week3_30Hz\n",
      "     data laready processed\n",
      "\n",
      " processing:  IA1pm_Apr26_Week3_30Hz\n",
      "     data laready processed\n",
      "\n",
      " processing:  IA1pm_Apr27_Week3_30Hz\n",
      "     data laready processed\n",
      "\n",
      " processing:  IA1pm_Apr28_Week3_30Hz\n",
      "     data laready processed\n",
      "\n",
      " processing:  IA1pm_Apr29_Week3_30Hz\n",
      "     data laready processed\n",
      "\n",
      " processing:  IA1am_May2_Week4_30Hz\n",
      " data missing/led missing\n",
      "     missing data/blue light\n",
      "\n",
      "\n",
      " processing:  IA1am_May4_Week4_30Hz\n",
      "     data laready processed\n",
      "\n",
      " processing:  IA1am_May5_Week4_30Hz\n",
      "     data laready processed\n",
      "\n",
      " processing:  IA1am_May6_Week4_30Hz\n",
      "     data laready processed\n",
      "\n",
      " processing:  IA1am_May9_Week5_30Hz\n",
      "     data laready processed\n",
      "\n",
      " processing:  IA1am_May10_Week5_30Hz\n",
      "     data laready processed\n",
      "\n",
      " processing:  IA1am_May12_Week5_30Hz\n",
      "     data laready processed\n",
      "\n",
      " processing:  IA1am_May13_Week5_30Hz\n",
      "     not enough points :  (3,)\n",
      "\n",
      "\n",
      " processing:  IA1am_May16_Week6_30Hz\n",
      " data missing/led missing\n",
      "     missing data/blue light\n",
      "\n",
      "\n",
      " processing:  IA1am_May17_Week6_30Hz\n",
      "     data laready processed\n",
      "\n",
      " processing:  IA1am_May18_Week6_30Hz\n",
      "     data laready processed\n",
      "\n",
      " processing:  IA1am_May20_Week6_30Hz\n",
      "     data laready processed\n",
      "\n",
      " processing:  IA2pm_Feb1_30Hz\n",
      " data missing/led missing\n",
      "     missing data/blue light\n",
      "\n",
      "\n",
      " processing:  IA2pm_Feb2_30Hz\n",
      " data missing/led missing\n",
      "     missing data/blue light\n",
      "\n",
      "\n",
      " processing:  IA2pm_Feb3_30Hz\n",
      "     data laready processed\n",
      "\n",
      " processing:  IA2pm_Feb4_30Hz\n",
      "     data laready processed\n",
      "\n",
      " processing:  IA2pm_Feb5_30Hz\n",
      "     data laready processed\n",
      "\n",
      " processing:  IA2pm_Feb9_30Hz\n"
     ]
    }
   ],
   "source": [
    "##################################################\n",
    "######### PROCESS CONVEX HULL FOR ALL DATA #######\n",
    "##################################################\n",
    "\n",
    "# ************** FIG 2E Convex hull analysis\n",
    "\n",
    "root_dir = '/media/cat/4TBSSD/yuki/'\n",
    "\n",
    "animal_ids = ['IA1','IA2','IA3','IJ1',\"IJ2\",\"AQ2\"]\n",
    "session_id = 'all'\n",
    "\n",
    "# \n",
    "for animal_id in animal_ids:\n",
    "    pa = visualize.PCA_Analysis()\n",
    "    pa.root_dir = '/media/cat/4TBSSD/yuki/'\n",
    "    pa.session_id = 'all'\n",
    "    pa.animal_id = animal_id\n",
    "\n",
    "    # \n",
    "    pa.n_pca = 10\n",
    "    pa.sliding_window = 30    # how many frames to take into analysis window\n",
    "    pa.n_frames = 300         # how many frames back in time to analyze: \n",
    "\n",
    "    \n",
    "    # \n",
    "    sessions = visualize.get_sessions(pa.root_dir,\n",
    "                            pa.animal_id,\n",
    "                            pa.session_id)\n",
    "\n",
    "\n",
    "    for session in sessions:\n",
    "        pa.session = session\n",
    "        print (\" processing: \", session)\n",
    "        fname_out = os.path.join(pa.root_dir,\n",
    "                                  pa.animal_id,\n",
    "                                  'tif_files',\n",
    "                                  pa.session,\n",
    "                                  pa.session+'_convex_hull.npz')\n",
    "        if os.path.exists(fname_out):\n",
    "            print (\"     data laready processed\")\n",
    "            print ('')\n",
    "            continue\n",
    "            \n",
    "#         fname_triggers = os.path.join(pa.root_dir,\n",
    "#                                       pa.animal_id,\n",
    "#                                       'tif_files',\n",
    "#                                       pa.session,\n",
    "#                                       'blue_light_frame_triggers.npz')\n",
    "\n",
    "#         fname_data = os.path.join(pa.root_dir,\n",
    "#                                      pa.animal_id,\n",
    "#                                      'tif_files',\n",
    "#                                      pa.session,\n",
    "#                                      pa.session+ '_aligned_butterworth_0.1hz_6.0hz.npy')\n",
    "\n",
    "        #pa.X, pa.triggers = get_data_and_triggers(fname_triggers,\n",
    "        #                                          fname_data)\n",
    "\n",
    "        pa.X, pa.triggers = get_data_and_triggers(pa)\n",
    "        \n",
    "        if pa.X is None:\n",
    "            print (\"     missing data/blue light\")\n",
    "            print ('')\n",
    "            print ('')\n",
    "            continue\n",
    "            \n",
    "        if pa.triggers.shape[0]<5:\n",
    "            print (\"     not enough points : \", pa.triggers.shape )\n",
    "            print ('')\n",
    "            print ('')\n",
    "            continue\n",
    "            \n",
    "        # make PCA plots\n",
    "        pa.pca, pa.all_points = get_pca_object_and_all_points(pa)\n",
    "\n",
    "\n",
    "        # FIG 2 E top\n",
    "        pa.p_lever =  project_data_pca(pa)\n",
    "\n",
    "        # skip plotting option\n",
    "        # plot_pca_scatter(pa)\n",
    "         \n",
    "        # FIG 2E\n",
    "        pa =  get_convex_hull(pa)\n",
    "\n",
    "        # skip plotting option\n",
    "        # plot_convex_hull(pa)\n",
    "        print ('')\n"
   ]
  },
  {
   "cell_type": "code",
   "execution_count": 21,
   "metadata": {},
   "outputs": [],
   "source": [
    "#############################################################################################\n",
    "#### STAND ALONE FUNCTION TO PLOT LONGITUDINAL CONVEX HULL - MULTRIPLE RED CURVE PLOT #######\n",
    "#############################################################################################\n",
    "animal_ids = ['IA1','IA2','IA3','IJ1',\"IJ2\",\"AQ2\"]\n",
    "clrs = ['black','blue','red','green','magenta','pink']\n",
    "\n",
    "aucs = []\n",
    "aucs_norm = []\n",
    "\n",
    "#animal_ids = ['AQ2']\n",
    "plotting = False\n",
    "for ctr_animal, animal_id in enumerate(animal_ids):\n",
    "    \n",
    "    #\n",
    "    aucs.append([])\n",
    "    aucs_norm.append([])\n",
    "    \n",
    "    #\n",
    "    pa = visualize.PCA_Analysis()\n",
    "    pa.root_dir = '/media/cat/4TBSSD/yuki/'\n",
    "    pa.session_id = 'all'\n",
    "    pa.animal_id = animal_id\n",
    "\n",
    "    # \n",
    "    sessions = visualize.get_sessions(pa.root_dir,\n",
    "                     pa.animal_id,\n",
    "                     pa.session_id)\n",
    "    #\n",
    "    cmap = matplotlib.cm.get_cmap('Reds')\n",
    "\n",
    "    clr_ctr=0\n",
    "    n_sessions = len(sessions)\n",
    "    alpha = .5\n",
    "\n",
    "    if plotting:\n",
    "        fig=plt.figure(figsize=(7,5))\n",
    "    for session in sessions:\n",
    "        # \n",
    "        fname = os.path.join(pa.root_dir, pa.animal_id,'tif_files',session,\n",
    "                            session+ '_convex_hull.npz')\n",
    "        # fname = '/media/cat/4TBSSD/yuki/IA1/tif_files/IA1pm_Feb2_30Hz/IA1pm_Feb2_30Hz_convex_hull.npz'\n",
    "        try:\n",
    "            d = np.load(fname, allow_pickle = True)\n",
    "        except:\n",
    "            clr_ctr+=1\n",
    "            continue\n",
    "\n",
    "        pa.ratio_single = d['ratio_single'][::-1]\n",
    "        pa.ratio_cumsum = d['ratio_cumsum'][::-1]\n",
    "        pa.ratio_random_single = d['ratio_random_single'][::-1]\n",
    "        pa.ratio_random_cumulative = d['ratio_random_cumulative'][::-1]\n",
    "\n",
    "        # \n",
    "        if plotting:\n",
    "            visualize.plot_convex_hull_cumulative_only(pa,\n",
    "                                         cmap,\n",
    "                                         clr_ctr/n_sessions,\n",
    "                                         alpha)\n",
    "\n",
    "\n",
    "        # \n",
    "        #plot_convex_hull_single_only(pa,\n",
    "        #                            cmap,\n",
    "        #                            clr_ctr/n_sessions,\n",
    "        #                            alpha)\n",
    "        clr_ctr+=1\n",
    "\n",
    "\n",
    "        aucs[ctr_animal].append(pa.ratio_cumsum.sum())\n",
    "        aucs_norm[ctr_animal].append((pa.ratio_cumsum/np.max(pa.ratio_cumsum)).sum())\n",
    "\n",
    "    if plotting:\n",
    "        if True:\n",
    "            plt.savefig('/home/cat/convex_hull_'+str(animal_id)+'.svg',dpi=1200)\n",
    "            plt.close()\n",
    "        else:\n",
    "            plt.show()"
   ]
  },
  {
   "cell_type": "code",
   "execution_count": 22,
   "metadata": {},
   "outputs": [
    {
     "name": "stdout",
     "output_type": "stream",
     "text": [
      "cor:  (0.5844710067499294, 1.4565179455719109e-06)\n",
      " COMPUTE PEARSON CORR NOT T-TEST ON FIT\n",
      "cor:  (-0.05548145979729132, 0.7553071371489104)\n",
      " COMPUTE PEARSON CORR NOT T-TEST ON FIT\n",
      "cor:  (0.24489473472745507, 0.11802641601084893)\n",
      " COMPUTE PEARSON CORR NOT T-TEST ON FIT\n",
      "cor:  (-0.11573459960062614, 0.4711727435851725)\n",
      " COMPUTE PEARSON CORR NOT T-TEST ON FIT\n",
      "cor:  (0.2806744174726347, 0.08349377597229266)\n",
      " COMPUTE PEARSON CORR NOT T-TEST ON FIT\n",
      "cor:  (0.48088641573161484, 4.193891754569929e-06)\n",
      " COMPUTE PEARSON CORR NOT T-TEST ON FIT\n"
     ]
    }
   ],
   "source": [
    "#########################################################\n",
    "######## SCATTER PLOT OF TRENDS IN CONVEX HULL ##########\n",
    "#########################################################\n",
    "# plot AUC  <--------------------  MUST RUN PREVIOUS CELL TO GET THE AUCS FIRST -------------\n",
    "\n",
    "#\n",
    "clrs = ['black','blue','red','green','magenta','pink']\n",
    "animal_ids = ['M1','M2','M3','M4','M5','M6']\n",
    "\n",
    "sig = [0.05,0.01,0.001, 0.0001, 0.00001]\n",
    "fig = plt.figure(figsize=(6,6))\n",
    "for k in range(len(aucs)):\n",
    "    ax=plt.subplot(3,2,k+1)\n",
    "    \n",
    "    temp = aucs_norm[k]\n",
    "    plt.scatter(np.arange(len(temp)), temp,\n",
    "                c='red',\n",
    "                edgecolor='black',\n",
    "                s=100,\n",
    "                alpha=.5)\n",
    "\n",
    "    x = np.arange(len(temp))\n",
    "    corr = scipy.stats.pearsonr(x,temp)\n",
    "    print (\"cor: \", corr)\n",
    "\n",
    "    \n",
    "    # fit\n",
    "    model = LinearRegression()\n",
    "    y=np.array(temp).reshape(-1, 1)\n",
    "    x = np.arange(y.shape[0]).reshape(-1, 1)\n",
    "    model.fit(x, y)\n",
    "\n",
    "    x2 = np.arange(0,y.shape[0],1).reshape(-1, 1)\n",
    "    y_pred = model.intercept_ + model.coef_ * x2\n",
    "\n",
    "    #\n",
    "    \n",
    "    \n",
    "    #t,p = find_p_t(model, x, y, x2, y_pred)\n",
    "    \n",
    "#     temp_sig = ''\n",
    "#     for j in range(len(sig)):\n",
    "#         if p <= sig[j]:\n",
    "#             temp_sig = temp_sig+\"*\"\n",
    "            \n",
    "    \n",
    "    plt.plot(x2, y_pred, label= str(round(corr[0],2)),\n",
    "             c='black',\n",
    "             linewidth=6)\n",
    "    \n",
    "    \n",
    "    \n",
    "    legend = plt.legend(handlelength=0, fontsize=16)        \n",
    "    #plt.legend(fontsize=12)\n",
    "    plt.xlim(x[0],x[-1])\n",
    "    plt.ylim(np.min(y), np.max(y))\n",
    "    #print (\" COMPUTE PEARSON CORR NOT T-TEST ON FIT\")\n",
    "    #print (np.min(y), np.max(y))\n",
    "    #plt.ylim(0,2)\n",
    "\n",
    "    plt.xticks([])\n",
    "    plt.yticks([])\n",
    "\n",
    "if True:\n",
    "    plt.savefig('/home/cat/convex_hull_fits.svg')\n",
    "    plt.close()\n",
    "else:\n",
    "    plt.show()"
   ]
  },
  {
   "cell_type": "code",
   "execution_count": 29,
   "metadata": {
    "scrolled": true
   },
   "outputs": [
    {
     "name": "stderr",
     "output_type": "stream",
     "text": [
      "100%|██████████| 38908/38908 [00:00<00:00, 972393.74it/s]"
     ]
    },
    {
     "name": "stdout",
     "output_type": "stream",
     "text": [
      "loading data nad triggers\n",
      "(39508, 30)\n",
      "loading pca and all points\n",
      "fname all points:  /media/cat/4TBSSD/yuki/IA1/tif_files/IA1pm_Feb9_30Hz/IA1pm_Feb9_30Hz_all_points.npy\n",
      "pa shape:  (39508, 30)\n",
      " X data using :  30  number of frames  (38908, 900)\n"
     ]
    },
    {
     "name": "stderr",
     "output_type": "stream",
     "text": [
      "\n"
     ]
    },
    {
     "name": "stdout",
     "output_type": "stream",
     "text": [
      " done fit \n"
     ]
    },
    {
     "name": "stderr",
     "output_type": "stream",
     "text": [
      "100%|██████████| 30/30 [00:00<00:00, 707.55it/s]"
     ]
    },
    {
     "name": "stdout",
     "output_type": "stream",
     "text": [
      "all points denoised:  (38908, 20)\n",
      "projecting data\n",
      "30 44 20\n"
     ]
    },
    {
     "name": "stderr",
     "output_type": "stream",
     "text": [
      "\n"
     ]
    }
   ],
   "source": [
    "# #############################################################################\n",
    "# ##### COMPUTE PCA SCATTER PLOTS OF CONVEX HULL FOR SPECIFIC ANIMAL + DAY ####\n",
    "# #############################################################################\n",
    "\n",
    "# # OLDER VERSION: SHOWS CONVEX HULL FROM TIME POINT T to 0Sec\n",
    " \n",
    "# animal_ids = ['IA1']\n",
    "# animal_id = animal_ids[0]\n",
    "\n",
    "# session = 'IJ2pm_Mar31_30Hz'\n",
    "# session = 'IA1pm_Feb9_30Hz'\n",
    "\n",
    "# # \n",
    "# pa = visualize.PCA_Analysis()\n",
    "# pa.root_dir = '/media/cat/4TBSSD/yuki/'\n",
    "# pa.animal_id = animal_id\n",
    "\n",
    "# # \n",
    "# pa.use_pca_data = True    # this uses the PCA denoised STMs not Raw data!\n",
    "# pa.recompute = True\n",
    "# pa.n_pca = 20\n",
    "# pa.sliding_window = 30    # how many frames to take into analysis window\n",
    "# pa.n_frames = 30          # how many frames back in time to analyze: \n",
    "# pa.session = session\n",
    "\n",
    "# # \n",
    "# print (\"loading data and triggers\")\n",
    "# pa.X, pa.triggers = visualize.get_data_and_triggers(pa)\n",
    "\n",
    "# print (pa.X.shape)\n",
    "\n",
    "# # \n",
    "# print (\"loading pca and all points\")\n",
    "# pa.pca, pa.all_points = visualize.get_pca_object_and_all_points(pa)\n",
    "\n",
    "# # FIG 2 E top\n",
    "# print (\"projecting data\")\n",
    "# pa.p_lever =  visualize.project_data_pca(pa)\n",
    "\n"
   ]
  },
  {
   "cell_type": "code",
   "execution_count": 112,
   "metadata": {
    "scrolled": true
   },
   "outputs": [
    {
     "name": "stderr",
     "output_type": "stream",
     "text": [
      "100%|██████████| 38630/38630 [00:00<00:00, 850485.35it/s]"
     ]
    },
    {
     "name": "stdout",
     "output_type": "stream",
     "text": [
      "Times:  30 0\n",
      "fname all points:  /media/cat/4TBSSD/yuki/IJ2/tif_files/IJ2pm_Mar31_30Hz/IJ2pm_Mar31_30Hz_all_points.npy\n",
      "pa shape:  (39230, 30)\n"
     ]
    },
    {
     "name": "stderr",
     "output_type": "stream",
     "text": [
      "\n"
     ]
    },
    {
     "name": "stdout",
     "output_type": "stream",
     "text": [
      " X data using :  30  number of frames  (38630, 900)\n",
      " done fit \n"
     ]
    },
    {
     "name": "stderr",
     "output_type": "stream",
     "text": [
      "100%|██████████| 30/30 [00:00<00:00, 699.30it/s]\n",
      "triaging activity: 100%|██████████| 30/30 [00:00<00:00, 1385.28it/s]"
     ]
    },
    {
     "name": "stdout",
     "output_type": "stream",
     "text": [
      "all points denoised:  (38630, 20)\n",
      "30 32 20\n",
      "plever:  (30, 32, 20)\n",
      "all points pre triage:  (38630, 20)\n"
     ]
    },
    {
     "name": "stderr",
     "output_type": "stream",
     "text": [
      "\n",
      "100%|██████████| 38630/38630 [00:00<00:00, 1054835.93it/s]"
     ]
    },
    {
     "name": "stdout",
     "output_type": "stream",
     "text": [
      "all points post triage:  (34767, 20)\n",
      "computing hull of all points... (34767, 2)\n",
      "Times:  40 10\n",
      "fname all points:  /media/cat/4TBSSD/yuki/IJ2/tif_files/IJ2pm_Mar31_30Hz/IJ2pm_Mar31_30Hz_all_points.npy\n",
      "pa shape:  (39230, 30)\n"
     ]
    },
    {
     "name": "stderr",
     "output_type": "stream",
     "text": [
      "\n"
     ]
    },
    {
     "name": "stdout",
     "output_type": "stream",
     "text": [
      " X data using :  30  number of frames  (38630, 900)\n",
      " done fit \n"
     ]
    },
    {
     "name": "stderr",
     "output_type": "stream",
     "text": [
      "100%|██████████| 30/30 [00:00<00:00, 732.86it/s]\n",
      "triaging activity: 100%|██████████| 30/30 [00:00<00:00, 2166.82it/s]\n",
      "100%|██████████| 38630/38630 [00:00<00:00, 1098376.86it/s]"
     ]
    },
    {
     "name": "stdout",
     "output_type": "stream",
     "text": [
      "all points denoised:  (38630, 20)\n",
      "30 32 20\n",
      "plever:  (30, 32, 20)\n",
      "Times:  50 20\n",
      "fname all points:  /media/cat/4TBSSD/yuki/IJ2/tif_files/IJ2pm_Mar31_30Hz/IJ2pm_Mar31_30Hz_all_points.npy\n",
      "pa shape:  (39230, 30)\n"
     ]
    },
    {
     "name": "stderr",
     "output_type": "stream",
     "text": [
      "\n"
     ]
    },
    {
     "name": "stdout",
     "output_type": "stream",
     "text": [
      " X data using :  30  number of frames  (38630, 900)\n",
      " done fit \n"
     ]
    },
    {
     "name": "stderr",
     "output_type": "stream",
     "text": [
      "100%|██████████| 30/30 [00:00<00:00, 706.91it/s]\n",
      "triaging activity: 100%|██████████| 30/30 [00:00<00:00, 2340.44it/s]\n",
      "100%|██████████| 38630/38630 [00:00<00:00, 1118276.50it/s]"
     ]
    },
    {
     "name": "stdout",
     "output_type": "stream",
     "text": [
      "all points denoised:  (38630, 20)\n",
      "30 32 20\n",
      "plever:  (30, 32, 20)\n",
      "Times:  60 30\n",
      "fname all points:  /media/cat/4TBSSD/yuki/IJ2/tif_files/IJ2pm_Mar31_30Hz/IJ2pm_Mar31_30Hz_all_points.npy\n",
      "pa shape:  (39230, 30)\n"
     ]
    },
    {
     "name": "stderr",
     "output_type": "stream",
     "text": [
      "\n"
     ]
    },
    {
     "name": "stdout",
     "output_type": "stream",
     "text": [
      " X data using :  30  number of frames  (38630, 900)\n",
      " done fit \n"
     ]
    },
    {
     "name": "stderr",
     "output_type": "stream",
     "text": [
      "100%|██████████| 30/30 [00:00<00:00, 1017.27it/s]\n",
      "triaging activity: 100%|██████████| 30/30 [00:00<00:00, 1204.12it/s]\n",
      "100%|██████████| 38630/38630 [00:00<00:00, 1136370.39it/s]"
     ]
    },
    {
     "name": "stdout",
     "output_type": "stream",
     "text": [
      "all points denoised:  (38630, 20)\n",
      "30 32 20\n",
      "plever:  (30, 32, 20)\n",
      "Times:  70 40\n",
      "fname all points:  /media/cat/4TBSSD/yuki/IJ2/tif_files/IJ2pm_Mar31_30Hz/IJ2pm_Mar31_30Hz_all_points.npy\n",
      "pa shape:  (39230, 30)\n"
     ]
    },
    {
     "name": "stderr",
     "output_type": "stream",
     "text": [
      "\n"
     ]
    },
    {
     "name": "stdout",
     "output_type": "stream",
     "text": [
      " X data using :  30  number of frames  (38630, 900)\n",
      " done fit \n"
     ]
    },
    {
     "name": "stderr",
     "output_type": "stream",
     "text": [
      "100%|██████████| 30/30 [00:00<00:00, 1049.96it/s]\n",
      "triaging activity: 100%|██████████| 30/30 [00:00<00:00, 1265.96it/s]\n",
      "100%|██████████| 38630/38630 [00:00<00:00, 1030103.21it/s]"
     ]
    },
    {
     "name": "stdout",
     "output_type": "stream",
     "text": [
      "all points denoised:  (38630, 20)\n",
      "30 32 20\n",
      "plever:  (30, 32, 20)\n",
      "Times:  80 50\n",
      "fname all points:  /media/cat/4TBSSD/yuki/IJ2/tif_files/IJ2pm_Mar31_30Hz/IJ2pm_Mar31_30Hz_all_points.npy\n",
      "pa shape:  (39230, 30)\n"
     ]
    },
    {
     "name": "stderr",
     "output_type": "stream",
     "text": [
      "\n"
     ]
    },
    {
     "name": "stdout",
     "output_type": "stream",
     "text": [
      " X data using :  30  number of frames  (38630, 900)\n",
      " done fit \n"
     ]
    },
    {
     "name": "stderr",
     "output_type": "stream",
     "text": [
      "100%|██████████| 30/30 [00:00<00:00, 824.45it/s]\n",
      "triaging activity: 100%|██████████| 30/30 [00:00<00:00, 2323.20it/s]\n",
      "100%|██████████| 38630/38630 [00:00<00:00, 1101992.54it/s]"
     ]
    },
    {
     "name": "stdout",
     "output_type": "stream",
     "text": [
      "all points denoised:  (38630, 20)\n",
      "30 32 20\n",
      "plever:  (30, 32, 20)\n",
      "Times:  90 60\n",
      "fname all points:  /media/cat/4TBSSD/yuki/IJ2/tif_files/IJ2pm_Mar31_30Hz/IJ2pm_Mar31_30Hz_all_points.npy\n",
      "pa shape:  (39230, 30)\n"
     ]
    },
    {
     "name": "stderr",
     "output_type": "stream",
     "text": [
      "\n"
     ]
    },
    {
     "name": "stdout",
     "output_type": "stream",
     "text": [
      " X data using :  30  number of frames  (38630, 900)\n",
      " done fit \n"
     ]
    },
    {
     "name": "stderr",
     "output_type": "stream",
     "text": [
      "100%|██████████| 30/30 [00:00<00:00, 604.31it/s]\n",
      "triaging activity: 100%|██████████| 30/30 [00:00<00:00, 1282.84it/s]"
     ]
    },
    {
     "name": "stdout",
     "output_type": "stream",
     "text": [
      "all points denoised:  (38630, 20)\n",
      "30 32 20\n",
      "plever:  (30, 32, 20)\n"
     ]
    },
    {
     "name": "stderr",
     "output_type": "stream",
     "text": [
      "\n",
      "100%|██████████| 38630/38630 [00:00<00:00, 1089396.65it/s]"
     ]
    },
    {
     "name": "stdout",
     "output_type": "stream",
     "text": [
      "Times:  100 70\n",
      "fname all points:  /media/cat/4TBSSD/yuki/IJ2/tif_files/IJ2pm_Mar31_30Hz/IJ2pm_Mar31_30Hz_all_points.npy\n",
      "pa shape:  (39230, 30)\n",
      " X data using :  30  number of frames  (38630, 900)\n"
     ]
    },
    {
     "name": "stderr",
     "output_type": "stream",
     "text": [
      "\n"
     ]
    },
    {
     "name": "stdout",
     "output_type": "stream",
     "text": [
      " done fit \n"
     ]
    },
    {
     "name": "stderr",
     "output_type": "stream",
     "text": [
      "100%|██████████| 30/30 [00:00<00:00, 821.71it/s]\n",
      "triaging activity: 100%|██████████| 30/30 [00:00<00:00, 2244.14it/s]\n",
      "100%|██████████| 38630/38630 [00:00<00:00, 1118562.14it/s]"
     ]
    },
    {
     "name": "stdout",
     "output_type": "stream",
     "text": [
      "all points denoised:  (38630, 20)\n",
      "30 32 20\n",
      "plever:  (30, 32, 20)\n",
      "Times:  110 80\n",
      "fname all points:  /media/cat/4TBSSD/yuki/IJ2/tif_files/IJ2pm_Mar31_30Hz/IJ2pm_Mar31_30Hz_all_points.npy\n",
      "pa shape:  (39230, 30)\n"
     ]
    },
    {
     "name": "stderr",
     "output_type": "stream",
     "text": [
      "\n"
     ]
    },
    {
     "name": "stdout",
     "output_type": "stream",
     "text": [
      " X data using :  30  number of frames  (38630, 900)\n",
      " done fit \n"
     ]
    },
    {
     "name": "stderr",
     "output_type": "stream",
     "text": [
      "100%|██████████| 30/30 [00:00<00:00, 956.85it/s]\n",
      "triaging activity: 100%|██████████| 30/30 [00:00<00:00, 1361.18it/s]\n",
      "100%|██████████| 38630/38630 [00:00<00:00, 1122335.49it/s]"
     ]
    },
    {
     "name": "stdout",
     "output_type": "stream",
     "text": [
      "all points denoised:  (38630, 20)\n",
      "30 32 20\n",
      "plever:  (30, 32, 20)\n",
      "Times:  120 90\n",
      "fname all points:  /media/cat/4TBSSD/yuki/IJ2/tif_files/IJ2pm_Mar31_30Hz/IJ2pm_Mar31_30Hz_all_points.npy\n",
      "pa shape:  (39230, 30)\n"
     ]
    },
    {
     "name": "stderr",
     "output_type": "stream",
     "text": [
      "\n"
     ]
    },
    {
     "name": "stdout",
     "output_type": "stream",
     "text": [
      " X data using :  30  number of frames  (38630, 900)\n",
      " done fit \n"
     ]
    },
    {
     "name": "stderr",
     "output_type": "stream",
     "text": [
      "100%|██████████| 30/30 [00:00<00:00, 916.60it/s]\n",
      "triaging activity: 100%|██████████| 30/30 [00:00<00:00, 1648.92it/s]\n",
      "100%|██████████| 38630/38630 [00:00<00:00, 832845.68it/s]"
     ]
    },
    {
     "name": "stdout",
     "output_type": "stream",
     "text": [
      "all points denoised:  (38630, 20)\n",
      "30 32 20\n",
      "plever:  (30, 32, 20)\n",
      "Times:  130 100\n",
      "fname all points:  /media/cat/4TBSSD/yuki/IJ2/tif_files/IJ2pm_Mar31_30Hz/IJ2pm_Mar31_30Hz_all_points.npy\n",
      "pa shape:  (39230, 30)\n"
     ]
    },
    {
     "name": "stderr",
     "output_type": "stream",
     "text": [
      "\n"
     ]
    },
    {
     "name": "stdout",
     "output_type": "stream",
     "text": [
      " X data using :  30  number of frames  (38630, 900)\n",
      " done fit \n"
     ]
    },
    {
     "name": "stderr",
     "output_type": "stream",
     "text": [
      "100%|██████████| 30/30 [00:00<00:00, 831.45it/s]\n",
      "triaging activity: 100%|██████████| 30/30 [00:00<00:00, 1208.86it/s]\n",
      "100%|██████████| 38630/38630 [00:00<00:00, 854522.25it/s]"
     ]
    },
    {
     "name": "stdout",
     "output_type": "stream",
     "text": [
      "all points denoised:  (38630, 20)\n",
      "30 32 20\n",
      "plever:  (30, 32, 20)\n",
      "Times:  140 110\n",
      "fname all points:  /media/cat/4TBSSD/yuki/IJ2/tif_files/IJ2pm_Mar31_30Hz/IJ2pm_Mar31_30Hz_all_points.npy\n",
      "pa shape:  (39230, 30)\n"
     ]
    },
    {
     "name": "stderr",
     "output_type": "stream",
     "text": [
      "\n"
     ]
    },
    {
     "name": "stdout",
     "output_type": "stream",
     "text": [
      " X data using :  30  number of frames  (38630, 900)\n",
      " done fit \n"
     ]
    },
    {
     "name": "stderr",
     "output_type": "stream",
     "text": [
      "100%|██████████| 30/30 [00:00<00:00, 971.88it/s]\n",
      "triaging activity: 100%|██████████| 30/30 [00:00<00:00, 1244.35it/s]\n",
      "100%|██████████| 38630/38630 [00:00<00:00, 1046408.96it/s]"
     ]
    },
    {
     "name": "stdout",
     "output_type": "stream",
     "text": [
      "all points denoised:  (38630, 20)\n",
      "30 32 20\n",
      "plever:  (30, 32, 20)\n",
      "Times:  150 120\n",
      "fname all points:  /media/cat/4TBSSD/yuki/IJ2/tif_files/IJ2pm_Mar31_30Hz/IJ2pm_Mar31_30Hz_all_points.npy\n",
      "pa shape:  (39230, 30)\n"
     ]
    },
    {
     "name": "stderr",
     "output_type": "stream",
     "text": [
      "\n"
     ]
    },
    {
     "name": "stdout",
     "output_type": "stream",
     "text": [
      " X data using :  30  number of frames  (38630, 900)\n",
      " done fit \n"
     ]
    },
    {
     "name": "stderr",
     "output_type": "stream",
     "text": [
      "100%|██████████| 30/30 [00:00<00:00, 1064.61it/s]\n",
      "triaging activity: 100%|██████████| 30/30 [00:00<00:00, 2365.52it/s]\n",
      "100%|██████████| 38630/38630 [00:00<00:00, 1127395.95it/s]"
     ]
    },
    {
     "name": "stdout",
     "output_type": "stream",
     "text": [
      "all points denoised:  (38630, 20)\n",
      "30 32 20\n",
      "plever:  (30, 32, 20)\n",
      "Times:  160 130\n",
      "fname all points:  /media/cat/4TBSSD/yuki/IJ2/tif_files/IJ2pm_Mar31_30Hz/IJ2pm_Mar31_30Hz_all_points.npy\n",
      "pa shape:  (39230, 30)\n"
     ]
    },
    {
     "name": "stderr",
     "output_type": "stream",
     "text": [
      "\n"
     ]
    },
    {
     "name": "stdout",
     "output_type": "stream",
     "text": [
      " X data using :  30  number of frames  (38630, 900)\n",
      " done fit \n"
     ]
    },
    {
     "name": "stderr",
     "output_type": "stream",
     "text": [
      "100%|██████████| 30/30 [00:00<00:00, 808.02it/s]\n",
      "triaging activity: 100%|██████████| 30/30 [00:00<00:00, 1232.81it/s]\n",
      "100%|██████████| 38630/38630 [00:00<00:00, 1123175.75it/s]"
     ]
    },
    {
     "name": "stdout",
     "output_type": "stream",
     "text": [
      "all points denoised:  (38630, 20)\n",
      "30 32 20\n",
      "plever:  (30, 32, 20)\n",
      "Times:  170 140\n",
      "fname all points:  /media/cat/4TBSSD/yuki/IJ2/tif_files/IJ2pm_Mar31_30Hz/IJ2pm_Mar31_30Hz_all_points.npy\n",
      "pa shape:  (39230, 30)\n"
     ]
    },
    {
     "name": "stderr",
     "output_type": "stream",
     "text": [
      "\n"
     ]
    },
    {
     "name": "stdout",
     "output_type": "stream",
     "text": [
      " X data using :  30  number of frames  (38630, 900)\n",
      " done fit \n"
     ]
    },
    {
     "name": "stderr",
     "output_type": "stream",
     "text": [
      "100%|██████████| 30/30 [00:00<00:00, 1393.36it/s]\n",
      "triaging activity: 100%|██████████| 30/30 [00:00<00:00, 2054.35it/s]\n",
      "100%|██████████| 38630/38630 [00:00<00:00, 1085150.31it/s]"
     ]
    },
    {
     "name": "stdout",
     "output_type": "stream",
     "text": [
      "all points denoised:  (38630, 20)\n",
      "30 32 20\n",
      "plever:  (30, 32, 20)\n",
      "Times:  180 150\n",
      "fname all points:  /media/cat/4TBSSD/yuki/IJ2/tif_files/IJ2pm_Mar31_30Hz/IJ2pm_Mar31_30Hz_all_points.npy\n",
      "pa shape:  (39230, 30)\n"
     ]
    },
    {
     "name": "stderr",
     "output_type": "stream",
     "text": [
      "\n"
     ]
    },
    {
     "name": "stdout",
     "output_type": "stream",
     "text": [
      " X data using :  30  number of frames  (38630, 900)\n",
      " done fit \n"
     ]
    },
    {
     "name": "stderr",
     "output_type": "stream",
     "text": [
      "100%|██████████| 30/30 [00:00<00:00, 1152.50it/s]\n",
      "triaging activity: 100%|██████████| 30/30 [00:00<00:00, 1260.81it/s]\n",
      "100%|██████████| 38630/38630 [00:00<00:00, 1083184.34it/s]"
     ]
    },
    {
     "name": "stdout",
     "output_type": "stream",
     "text": [
      "all points denoised:  (38630, 20)\n",
      "30 32 20\n",
      "plever:  (30, 32, 20)\n",
      "Times:  190 160\n",
      "fname all points:  /media/cat/4TBSSD/yuki/IJ2/tif_files/IJ2pm_Mar31_30Hz/IJ2pm_Mar31_30Hz_all_points.npy\n",
      "pa shape:  (39230, 30)\n"
     ]
    },
    {
     "name": "stderr",
     "output_type": "stream",
     "text": [
      "\n"
     ]
    },
    {
     "name": "stdout",
     "output_type": "stream",
     "text": [
      " X data using :  30  number of frames  (38630, 900)\n",
      " done fit \n"
     ]
    },
    {
     "name": "stderr",
     "output_type": "stream",
     "text": [
      "100%|██████████| 30/30 [00:00<00:00, 721.19it/s]\n",
      "triaging activity: 100%|██████████| 30/30 [00:00<00:00, 2221.36it/s]\n",
      "100%|██████████| 38630/38630 [00:00<00:00, 1056893.25it/s]"
     ]
    },
    {
     "name": "stdout",
     "output_type": "stream",
     "text": [
      "all points denoised:  (38630, 20)\n",
      "30 32 20\n",
      "plever:  (30, 32, 20)\n",
      "Times:  200 170\n",
      "fname all points:  /media/cat/4TBSSD/yuki/IJ2/tif_files/IJ2pm_Mar31_30Hz/IJ2pm_Mar31_30Hz_all_points.npy\n",
      "pa shape:  (39230, 30)\n"
     ]
    },
    {
     "name": "stderr",
     "output_type": "stream",
     "text": [
      "\n"
     ]
    },
    {
     "name": "stdout",
     "output_type": "stream",
     "text": [
      " X data using :  30  number of frames  (38630, 900)\n",
      " done fit \n"
     ]
    },
    {
     "name": "stderr",
     "output_type": "stream",
     "text": [
      "100%|██████████| 30/30 [00:00<00:00, 776.36it/s]\n",
      "triaging activity: 100%|██████████| 30/30 [00:00<00:00, 1683.72it/s]\n",
      "100%|██████████| 38630/38630 [00:00<00:00, 1138478.36it/s]"
     ]
    },
    {
     "name": "stdout",
     "output_type": "stream",
     "text": [
      "all points denoised:  (38630, 20)\n",
      "30 32 20\n",
      "plever:  (30, 32, 20)\n",
      "Times:  210 180\n",
      "fname all points:  /media/cat/4TBSSD/yuki/IJ2/tif_files/IJ2pm_Mar31_30Hz/IJ2pm_Mar31_30Hz_all_points.npy\n",
      "pa shape:  (39230, 30)\n"
     ]
    },
    {
     "name": "stderr",
     "output_type": "stream",
     "text": [
      "\n"
     ]
    },
    {
     "name": "stdout",
     "output_type": "stream",
     "text": [
      " X data using :  30  number of frames  (38630, 900)\n",
      " done fit \n"
     ]
    },
    {
     "name": "stderr",
     "output_type": "stream",
     "text": [
      "100%|██████████| 30/30 [00:00<00:00, 917.79it/s]\n",
      "triaging activity: 100%|██████████| 30/30 [00:00<00:00, 1265.57it/s]\n",
      "100%|██████████| 38630/38630 [00:00<00:00, 1137495.27it/s]"
     ]
    },
    {
     "name": "stdout",
     "output_type": "stream",
     "text": [
      "all points denoised:  (38630, 20)\n",
      "30 32 20\n",
      "plever:  (30, 32, 20)\n",
      "Times:  220 190\n",
      "fname all points:  /media/cat/4TBSSD/yuki/IJ2/tif_files/IJ2pm_Mar31_30Hz/IJ2pm_Mar31_30Hz_all_points.npy\n",
      "pa shape:  (39230, 30)\n"
     ]
    },
    {
     "name": "stderr",
     "output_type": "stream",
     "text": [
      "\n"
     ]
    },
    {
     "name": "stdout",
     "output_type": "stream",
     "text": [
      " X data using :  30  number of frames  (38630, 900)\n",
      " done fit \n"
     ]
    },
    {
     "name": "stderr",
     "output_type": "stream",
     "text": [
      "100%|██████████| 30/30 [00:00<00:00, 782.24it/s]\n",
      "triaging activity: 100%|██████████| 30/30 [00:00<00:00, 1367.07it/s]\n",
      "100%|██████████| 38630/38630 [00:00<00:00, 1135733.16it/s]"
     ]
    },
    {
     "name": "stdout",
     "output_type": "stream",
     "text": [
      "all points denoised:  (38630, 20)\n",
      "30 32 20\n",
      "plever:  (30, 32, 20)\n",
      "Times:  230 200\n",
      "fname all points:  /media/cat/4TBSSD/yuki/IJ2/tif_files/IJ2pm_Mar31_30Hz/IJ2pm_Mar31_30Hz_all_points.npy\n",
      "pa shape:  (39230, 30)\n"
     ]
    },
    {
     "name": "stderr",
     "output_type": "stream",
     "text": [
      "\n"
     ]
    },
    {
     "name": "stdout",
     "output_type": "stream",
     "text": [
      " X data using :  30  number of frames  (38630, 900)\n",
      " done fit \n"
     ]
    },
    {
     "name": "stderr",
     "output_type": "stream",
     "text": [
      "100%|██████████| 30/30 [00:00<00:00, 1036.91it/s]\n",
      "triaging activity: 100%|██████████| 30/30 [00:00<00:00, 1268.50it/s]\n",
      "100%|██████████| 38630/38630 [00:00<00:00, 1146137.10it/s]"
     ]
    },
    {
     "name": "stdout",
     "output_type": "stream",
     "text": [
      "all points denoised:  (38630, 20)\n",
      "30 32 20\n",
      "plever:  (30, 32, 20)\n",
      "Times:  240 210\n",
      "fname all points:  /media/cat/4TBSSD/yuki/IJ2/tif_files/IJ2pm_Mar31_30Hz/IJ2pm_Mar31_30Hz_all_points.npy\n",
      "pa shape:  (39230, 30)\n"
     ]
    },
    {
     "name": "stderr",
     "output_type": "stream",
     "text": [
      "\n"
     ]
    },
    {
     "name": "stdout",
     "output_type": "stream",
     "text": [
      " X data using :  30  number of frames  (38630, 900)\n",
      " done fit \n"
     ]
    },
    {
     "name": "stderr",
     "output_type": "stream",
     "text": [
      "100%|██████████| 30/30 [00:00<00:00, 758.90it/s]\n",
      "triaging activity: 100%|██████████| 30/30 [00:00<00:00, 1787.14it/s]\n",
      "100%|██████████| 38630/38630 [00:00<00:00, 1142532.51it/s]"
     ]
    },
    {
     "name": "stdout",
     "output_type": "stream",
     "text": [
      "all points denoised:  (38630, 20)\n",
      "30 32 20\n",
      "plever:  (30, 32, 20)\n",
      "Times:  250 220\n",
      "fname all points:  /media/cat/4TBSSD/yuki/IJ2/tif_files/IJ2pm_Mar31_30Hz/IJ2pm_Mar31_30Hz_all_points.npy\n",
      "pa shape:  (39230, 30)\n"
     ]
    },
    {
     "name": "stderr",
     "output_type": "stream",
     "text": [
      "\n"
     ]
    },
    {
     "name": "stdout",
     "output_type": "stream",
     "text": [
      " X data using :  30  number of frames  (38630, 900)\n",
      " done fit \n"
     ]
    },
    {
     "name": "stderr",
     "output_type": "stream",
     "text": [
      "100%|██████████| 30/30 [00:00<00:00, 688.23it/s]\n",
      "triaging activity: 100%|██████████| 30/30 [00:00<00:00, 1269.85it/s]\n",
      "  0%|          | 0/38630 [00:00<?, ?it/s]"
     ]
    },
    {
     "name": "stdout",
     "output_type": "stream",
     "text": [
      "all points denoised:  (38630, 20)\n",
      "30 32 20\n",
      "plever:  (30, 32, 20)\n",
      "Times:  260 230\n",
      "fname all points:  /media/cat/4TBSSD/yuki/IJ2/tif_files/IJ2pm_Mar31_30Hz/IJ2pm_Mar31_30Hz_all_points.npy\n",
      "pa shape:  (39230, 30)\n"
     ]
    },
    {
     "name": "stderr",
     "output_type": "stream",
     "text": [
      "100%|██████████| 38630/38630 [00:00<00:00, 901100.41it/s]\n"
     ]
    },
    {
     "name": "stdout",
     "output_type": "stream",
     "text": [
      " X data using :  30  number of frames  (38630, 900)\n",
      " done fit \n"
     ]
    },
    {
     "name": "stderr",
     "output_type": "stream",
     "text": [
      "100%|██████████| 30/30 [00:00<00:00, 1043.95it/s]\n",
      "triaging activity: 100%|██████████| 30/30 [00:00<00:00, 1267.65it/s]\n",
      "100%|██████████| 38630/38630 [00:00<00:00, 876346.56it/s]"
     ]
    },
    {
     "name": "stdout",
     "output_type": "stream",
     "text": [
      "all points denoised:  (38630, 20)\n",
      "30 32 20\n",
      "plever:  (30, 32, 20)\n",
      "Times:  270 240\n",
      "fname all points:  /media/cat/4TBSSD/yuki/IJ2/tif_files/IJ2pm_Mar31_30Hz/IJ2pm_Mar31_30Hz_all_points.npy\n",
      "pa shape:  (39230, 30)\n"
     ]
    },
    {
     "name": "stderr",
     "output_type": "stream",
     "text": [
      "\n"
     ]
    },
    {
     "name": "stdout",
     "output_type": "stream",
     "text": [
      " X data using :  30  number of frames  (38630, 900)\n",
      " done fit \n"
     ]
    },
    {
     "name": "stderr",
     "output_type": "stream",
     "text": [
      "100%|██████████| 30/30 [00:00<00:00, 1165.66it/s]\n",
      "triaging activity: 100%|██████████| 30/30 [00:00<00:00, 2139.55it/s]\n",
      "100%|██████████| 38630/38630 [00:00<00:00, 1102945.23it/s]"
     ]
    },
    {
     "name": "stdout",
     "output_type": "stream",
     "text": [
      "all points denoised:  (38630, 20)\n",
      "30 32 20\n",
      "plever:  (30, 32, 20)\n",
      "Times:  280 250\n",
      "fname all points:  /media/cat/4TBSSD/yuki/IJ2/tif_files/IJ2pm_Mar31_30Hz/IJ2pm_Mar31_30Hz_all_points.npy\n",
      "pa shape:  (39230, 30)\n"
     ]
    },
    {
     "name": "stderr",
     "output_type": "stream",
     "text": [
      "\n"
     ]
    },
    {
     "name": "stdout",
     "output_type": "stream",
     "text": [
      " X data using :  30  number of frames  (38630, 900)\n",
      " done fit \n"
     ]
    },
    {
     "name": "stderr",
     "output_type": "stream",
     "text": [
      "100%|██████████| 30/30 [00:00<00:00, 1072.38it/s]\n",
      "triaging activity: 100%|██████████| 30/30 [00:00<00:00, 2249.68it/s]\n",
      "100%|██████████| 38630/38630 [00:00<00:00, 1090914.97it/s]"
     ]
    },
    {
     "name": "stdout",
     "output_type": "stream",
     "text": [
      "all points denoised:  (38630, 20)\n",
      "30 32 20\n",
      "plever:  (30, 32, 20)\n",
      "Times:  290 260\n",
      "fname all points:  /media/cat/4TBSSD/yuki/IJ2/tif_files/IJ2pm_Mar31_30Hz/IJ2pm_Mar31_30Hz_all_points.npy\n",
      "pa shape:  (39230, 30)\n"
     ]
    },
    {
     "name": "stderr",
     "output_type": "stream",
     "text": [
      "\n"
     ]
    },
    {
     "name": "stdout",
     "output_type": "stream",
     "text": [
      " X data using :  30  number of frames  (38630, 900)\n",
      " done fit \n"
     ]
    },
    {
     "name": "stderr",
     "output_type": "stream",
     "text": [
      "100%|██████████| 30/30 [00:00<00:00, 604.44it/s]\n",
      "triaging activity: 100%|██████████| 30/30 [00:00<00:00, 1270.44it/s]"
     ]
    },
    {
     "name": "stdout",
     "output_type": "stream",
     "text": [
      "all points denoised:  (38630, 20)\n",
      "30 32 20\n",
      "plever:  (30, 32, 20)\n"
     ]
    },
    {
     "name": "stderr",
     "output_type": "stream",
     "text": [
      "\n"
     ]
    }
   ],
   "source": [
    "#############################################################################\n",
    "##### COMPUTE PCA SCATTER PLOTS OF CONVEX HULL FOR SPECIFIC ANIMAL + DAY ####\n",
    "#############################################################################\n",
    "\n",
    "# NEW VERSION: SHOWS CONVEX HULL FROM TIME POINT T1 to T2\n",
    " \n",
    "def generate_convex_hulls(pa):\n",
    "\n",
    "    #pa.plot_all = True\n",
    "    pa.plot_3D = False\n",
    "    pa.alpha1 = 1.0\n",
    "    pa.alpha2 = 0.02\n",
    "    pa.knn_triage = .1\n",
    "    pa.knn_triage_based_on_last_point = False           # this flag removes all traces based on t=0 triaging\n",
    "                                                        # basically we use the outliers at t=0 to triage other time points;\n",
    "    pa.cmap = matplotlib.cm.get_cmap('jet')\n",
    "    pa.linewidth = 5\n",
    "    pa.t0_hull = False\n",
    "    pa.t0_dynamics = False\n",
    "    pa.plot_dynamics = False\n",
    "\n",
    "\n",
    "    #############################\n",
    "    visualize.plot_pca_scatter(pa)\n",
    "\n",
    "    plt.title(session+ \" triage: \"+ (str(pa.knn_triage)))\n",
    "\n",
    "\n",
    "#########################################\n",
    "animal_ids = ['IA1']\n",
    "\n",
    "#session = 'IJ2pm_Mar31_30Hz'\n",
    "session = 'IA1pm_Feb9_30Hz'\n",
    "\n",
    "\n",
    "# \n",
    "animal_id = animal_ids[0]\n",
    "\n",
    "\n",
    "#\n",
    "t1 = np.arange(30,310,10)\n",
    "t2 = np.arange(0,270,10)\n",
    "\n",
    "\n",
    "# \n",
    "cmap = matplotlib.cm.get_cmap('Reds', len(t1))   \n",
    "\n",
    "\n",
    "fig =plt.figure(figsize=(10,10))\n",
    "ctr=0\n",
    "for t1,t2 in zip(t1,t2):\n",
    "    print (\"Times: \", t1,t2)\n",
    "    \n",
    "    pa = visualize.PCA_Analysis()\n",
    "    pa.root_dir = '/media/cat/4TBSSD/yuki/'\n",
    "    pa.animal_id = animal_id\n",
    "\n",
    "    # \n",
    "    pa.use_pca_data = True    # this uses the PCA denoised STMs not Raw data!\n",
    "    pa.recompute = True\n",
    "    pa.n_pca = 20\n",
    "    pa.sliding_window = 30    # how many frames to take into analysis window\n",
    "    pa.n_frames = 30          # how many frames back in time to analyze: \n",
    "    pa.session = session\n",
    "\n",
    "    # \n",
    "    #print (\"loading data and triggers\")\n",
    "    pa.X, pa.triggers = visualize.get_data_and_triggers(pa)\n",
    "\n",
    "    #print (pa.X.shape)\n",
    "\n",
    "    # \n",
    "    #print (\"loading pca and all points\")\n",
    "    pa.pca, pa.all_points = visualize.get_pca_object_and_all_points(pa)\n",
    "\n",
    "    # FIG 2 E top\n",
    "    #print (\"projecting data\")\n",
    "    pa.t1 = t1\n",
    "    pa.t2 = t2\n",
    "    pa.p_lever =  visualize.project_data_pca2(pa)\n",
    "\n",
    "    if t1 ==30:\n",
    "        pa.plot_all=True\n",
    "    else:\n",
    "        pa.plot_all=False\n",
    "        \n",
    "    pa.hull_clr = cmap(ctr)\n",
    "        \n",
    "    generate_convex_hulls(pa)\n",
    "\n",
    "    ctr+=1\n",
    "    \n",
    "#############################\n",
    "if True:\n",
    "    #plt.savefig('/home/cat/scatter_convex.svg')\n",
    "    plt.savefig('/home/cat/scatter_convex_'+str(pa.t1)+\"_\"+str(pa.t2)+'.png',dpi=600)\n",
    "    plt.close()\n",
    "else:\n",
    "    plt.show()\n",
    "\n"
   ]
  },
  {
   "cell_type": "code",
   "execution_count": 109,
   "metadata": {},
   "outputs": [
    {
     "name": "stdout",
     "output_type": "stream",
     "text": [
      "(27,)\n"
     ]
    }
   ],
   "source": [
    "# MAKE COLORBAR\n",
    "# a = np.array([[0,1]])\n",
    "# plt.figure(figsize=(9, 1.5))\n",
    "# img = plt.imshow(a, cmap=\"viridis\")\n",
    "# plt.gca().set_visible(False)\n",
    "# cax = plt.axes([0.1, 0.2, 0.8, 0.6])\n",
    "# plt.colorbar(orientation=\"horizontal\", cax=cax)\n",
    "# plt.savefig(\"/home/cat/colorbar.png\")\n",
    "# plt.close()"
   ]
  },
  {
   "cell_type": "code",
   "execution_count": 139,
   "metadata": {
    "scrolled": true
   },
   "outputs": [
    {
     "name": "stderr",
     "output_type": "stream",
     "text": [
      "100%|██████████| 38630/38630 [00:00<00:00, 1012624.30it/s]"
     ]
    },
    {
     "name": "stdout",
     "output_type": "stream",
     "text": [
      "fname all points:  /media/cat/4TBSSD/yuki/IJ2/tif_files/IJ2pm_Mar31_30Hz/IJ2pm_Mar31_30Hz_all_points.npy\n",
      "pa shape:  (39230, 30)\n",
      " X data using :  30  number of frames  (38630, 900)\n"
     ]
    },
    {
     "name": "stderr",
     "output_type": "stream",
     "text": [
      "\n"
     ]
    },
    {
     "name": "stdout",
     "output_type": "stream",
     "text": [
      " done fit \n"
     ]
    },
    {
     "name": "stderr",
     "output_type": "stream",
     "text": [
      " 33%|███▎      | 98/300 [00:00<00:00, 971.46it/s]"
     ]
    },
    {
     "name": "stdout",
     "output_type": "stream",
     "text": [
      "all points denoised:  (38630, 20)\n",
      "300 32 20\n"
     ]
    },
    {
     "name": "stderr",
     "output_type": "stream",
     "text": [
      "100%|██████████| 300/300 [00:00<00:00, 1049.36it/s]\n",
      "  0%|          | 0/300 [00:00<?, ?it/s]"
     ]
    },
    {
     "name": "stdout",
     "output_type": "stream",
     "text": [
      "temp points:  (38630, 3)\n",
      "# points kept:  (38591,)  of total:  38630\n",
      "computing convex hull # dim:  3 (38591, 3)\n",
      "p lever:  (300, 32, 20)\n"
     ]
    },
    {
     "name": "stderr",
     "output_type": "stream",
     "text": [
      "100%|██████████| 300/300 [00:06<00:00, 44.94it/s]\n"
     ]
    },
    {
     "name": "stdout",
     "output_type": "stream",
     "text": [
      "(300, 10)\n",
      "(300,)\n",
      "(300,) (300,)\n"
     ]
    }
   ],
   "source": [
    "#####################################################\n",
    "####### COMPUTE AND PLOT CONVEX HULL DYNAMICS #######\n",
    "#####################################################\n",
    "\n",
    "# FIG 2E\n",
    "\n",
    "pa = visualize.PCA_Analysis()\n",
    "pa.root_dir = '/media/cat/4TBSSD/yuki/'\n",
    "pa.animal_id = animal_id\n",
    "\n",
    "# \n",
    "pa.use_pca_data = True    # this uses the PCA denoised STMs not Raw data!\n",
    "pa.recompute = True\n",
    "pa.n_pca = 20\n",
    "pa.sliding_window = 30    # how many frames to take into analysis window\n",
    "pa.n_frames = 300          # how many frames back in time to analyze: \n",
    "pa.session = session\n",
    "\n",
    "# \n",
    "#print (\"loading data and triggers\")\n",
    "pa.X, pa.triggers = visualize.get_data_and_triggers(pa)\n",
    "\n",
    "#print (pa.X.shape)\n",
    "\n",
    "# \n",
    "#print (\"loading pca and all points\")\n",
    "pa.pca, pa.all_points = visualize.get_pca_object_and_all_points(pa)\n",
    "\n",
    "# FIG 2 E top\n",
    "#print (\"projecting data\")\n",
    "pa.t1 = 300\n",
    "pa.t2 = 270\n",
    "pa.p_lever =  visualize.project_data_pca2(pa)\n",
    "\n",
    "# \n",
    "pa = visualize.get_convex_hull(pa)\n",
    "\n",
    "#  \n",
    "pa.t0_hull = False\n",
    "pa.t0_dynamics = False\n",
    "pa.plot_dynamics = False\n",
    "\n",
    "visualize.plot_convex_hull(pa)\n",
    "plt.savefig('/home/cat/convex_hull_traces.svg',dpi=1200)\n",
    "plt.close()"
   ]
  },
  {
   "cell_type": "code",
   "execution_count": null,
   "metadata": {},
   "outputs": [],
   "source": []
  },
  {
   "cell_type": "code",
   "execution_count": null,
   "metadata": {},
   "outputs": [],
   "source": []
  },
  {
   "cell_type": "code",
   "execution_count": null,
   "metadata": {},
   "outputs": [],
   "source": []
  },
  {
   "cell_type": "code",
   "execution_count": null,
   "metadata": {},
   "outputs": [],
   "source": []
  },
  {
   "cell_type": "code",
   "execution_count": null,
   "metadata": {},
   "outputs": [],
   "source": []
  },
  {
   "cell_type": "code",
   "execution_count": null,
   "metadata": {},
   "outputs": [],
   "source": []
  },
  {
   "cell_type": "code",
   "execution_count": null,
   "metadata": {},
   "outputs": [],
   "source": []
  },
  {
   "cell_type": "code",
   "execution_count": 59,
   "metadata": {},
   "outputs": [
    {
     "name": "stdout",
     "output_type": "stream",
     "text": [
      "XU_: (339, 491520)\n",
      "CPU times: user 1min 6s, sys: 1.09 s, total: 1min 7s\n",
      "Wall time: 1min 7s\n",
      "Umap output:  (339, 3)\n"
     ]
    }
   ],
   "source": [
    "# # UMAP ON DATA\n",
    "X_U = []\n",
    "X_U.append(X_lever)\n",
    "X_U.append(X_random)\n",
    "X_U.append(X_shifted)\n",
    "X_U = np.vstack(X_U)\n",
    "print (\"XU_:\", X_U.shape)\n",
    "\n",
    "import umap\n",
    "umap_3d = umap.UMAP(n_components=3, init='random', random_state=0)\n",
    "\n",
    "#fit = umap.UMAP()\n",
    "%time umap_3d.fit(X_U[::10])\n",
    "u = umap_3d.transform(X_U)\n",
    "\n",
    "print (\"Umap output: \", u.shape)\n"
   ]
  },
  {
   "cell_type": "code",
   "execution_count": 61,
   "metadata": {},
   "outputs": [],
   "source": [
    "fig=plt.figure()\n",
    "#ax = plt.subplot(111)\n",
    "ax = fig.add_subplot(projection='3d')\n",
    "ax.scatter(\n",
    "           u[:p_lever.shape[0],0], \n",
    "           u[:p_lever.shape[0],1],\n",
    "           u[:p_lever.shape[0],2],\n",
    "            c='red',\n",
    "            s=100,\n",
    "            edgecolor = 'black', alpha=1)\n",
    "\n",
    "ax.scatter(\n",
    "           u[p_lever.shape[0]:p_lever.shape[0]+p_random.shape[0],0], \n",
    "           u[p_lever.shape[0]:p_lever.shape[0]+p_random.shape[0],1], \n",
    "           u[p_lever.shape[0]:p_lever.shape[0]+p_random.shape[0],2], \n",
    "            c='black',\n",
    "            s=100,\n",
    "            edgecolor = 'black', alpha=1)\n",
    "\n",
    "ax.scatter(\n",
    "           u[p_lever.shape[0]+p_random.shape[0]:,0], \n",
    "           u[p_lever.shape[0]+p_random.shape[0]:,1], \n",
    "           u[p_lever.shape[0]+p_random.shape[0]:,2], \n",
    "    \n",
    "            c='pink',\n",
    "            s=100,\n",
    "            edgecolor = 'black', alpha=1)\n",
    "plt.show()"
   ]
  },
  {
   "cell_type": "code",
   "execution_count": 18,
   "metadata": {},
   "outputs": [
    {
     "name": "stdout",
     "output_type": "stream",
     "text": [
      "(13,) (13,)\n",
      "[  46.373909    229.03753495  245.04675794  247.31242704  307.61410499\n",
      "  328.63516998  752.77175403  846.9566381   973.14472914  976.04501009\n",
      " 1036.49321198 1051.39299798 1156.04846096]\n"
     ]
    }
   ],
   "source": []
  },
  {
   "cell_type": "code",
   "execution_count": 19,
   "metadata": {},
   "outputs": [
    {
     "name": "stdout",
     "output_type": "stream",
     "text": [
      "[b'0' b'0' b'0' ... b'0' b'0' b'0']\n",
      "[0. 0. 0. ... 0. 0. 0.]\n"
     ]
    }
   ],
   "source": []
  },
  {
   "cell_type": "code",
   "execution_count": null,
   "metadata": {},
   "outputs": [],
   "source": []
  },
  {
   "cell_type": "code",
   "execution_count": null,
   "metadata": {},
   "outputs": [],
   "source": []
  },
  {
   "cell_type": "code",
   "execution_count": null,
   "metadata": {},
   "outputs": [],
   "source": []
  }
 ],
 "metadata": {
  "kernelspec": {
   "display_name": "Python 3",
   "language": "python",
   "name": "python3"
  },
  "language_info": {
   "codemirror_mode": {
    "name": "ipython",
    "version": 3
   },
   "file_extension": ".py",
   "mimetype": "text/x-python",
   "name": "python",
   "nbconvert_exporter": "python",
   "pygments_lexer": "ipython3",
   "version": "3.8.0"
  }
 },
 "nbformat": 4,
 "nbformat_minor": 4
}
