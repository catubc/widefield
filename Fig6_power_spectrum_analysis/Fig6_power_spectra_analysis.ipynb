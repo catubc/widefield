{
 "cells": [
  {
   "cell_type": "code",
   "execution_count": 153,
   "metadata": {},
   "outputs": [
    {
     "data": {
      "application/javascript": [
       "IPython.notebook.set_autosave_interval(180000)"
      ]
     },
     "metadata": {},
     "output_type": "display_data"
    },
    {
     "name": "stdout",
     "output_type": "stream",
     "text": [
      "Autosaving every 180 seconds\n",
      "The autoreload extension is already loaded. To reload it, use:\n",
      "  %reload_ext autoreload\n"
     ]
    }
   ],
   "source": [
    "import matplotlib\n",
    "#matplotlib.use('Agg')\n",
    "%matplotlib tk\n",
    "%autosave 180\n",
    "\n",
    "%load_ext autoreload\n",
    "%reload_ext autoreload\n",
    "%autoreload 2\n",
    "\n",
    "# \n",
    "import sys\n",
    "sys.path.append(\"/home/cat/code/widefield/\") # Adds higher directory to python modules path.\n",
    "\n",
    "import h5py\n",
    "import numpy as np\n",
    "import scipy.io as sio\n",
    "import matplotlib.pyplot as plt\n",
    "from sklearn.cross_decomposition import CCA\n",
    "import torch\n",
    "from tqdm import tqdm\n",
    "import pandas as pd\n",
    "import scipy\n",
    "\n",
    "import os\n",
    "import time\n",
    "import warnings\n",
    "warnings.filterwarnings(\"ignore\")\n",
    "\n",
    "from locanmf import LocaNMF, postprocess\n",
    "from locanmf import analysis_fig4 \n",
    "from visualize import visualize_svm as Visualize\n",
    "import matplotlib.patches as mpatches\n",
    "from scipy import signal\n",
    "from scipy.fft import fftshift\n",
    "from scipy.signal import savgol_filter\n",
    "from numpy.polynomial import polynomial as P\n",
    "from scipy.signal import argrelmax\n"
   ]
  },
  {
   "cell_type": "code",
   "execution_count": 3,
   "metadata": {},
   "outputs": [],
   "source": [
    "\n",
    "def load_raw_data(spatial_fname, temporal_fname):\n",
    "    # GRAB AND RECONSTRUCT DATA\n",
    "    spatial = np.load(spatial_fname) \n",
    "    temporal = np.load(temporal_fname)\n",
    "    temporal = temporal.transpose(0,2,1)\n",
    "\n",
    "    #\n",
    "    print (spatial.shape)\n",
    "    print (temporal.shape)\n",
    "\n",
    "    #\n",
    "    print (\"reconstructing data: \")\n",
    "    data = np.matmul( temporal, spatial)\n",
    "    print (data.shape)\n",
    "\n",
    "    #\n",
    "    print (\"getting mean of data: \")\n",
    "    data_mean = data.mean(0)\n",
    "    print (\"data_mean: \", data_mean.shape)\n",
    "    # compute variance in raw data- not used\n",
    "    # var = np.var(data2d, axis=0)\n",
    "    # print (\"var: \", var.shape)\n",
    "\n",
    "    ######################################\n",
    "    ###### COMPUTE RAW ROI ACTIVITY ######\n",
    "    ######################################\n",
    "    data2D = data_mean.reshape(data_mean.shape[0], 128,128)\n",
    "    print (\"Data mean 2D: \", data2D.shape)\n",
    "\n",
    "    # \n",
    "    means = []\n",
    "    ctr=0\n",
    "    for id_ in ordered_names:\n",
    "        area_id = areas[id_]\n",
    "        idx = np.where(atlas==area_id)\n",
    "        print (ctr, \"areaId: \", area_id, names[id_], idx[0].shape)\n",
    "        mask = np.zeros((128,128),'float32') + np.nan\n",
    "        mask[idx] = 1\n",
    "\n",
    "        temp = data2D*mask\n",
    "        roi = np.nanmean(temp, axis=1)\n",
    "        roi = np.nanmean(roi, axis=1)\n",
    "        means.append(roi)\n",
    "\n",
    "        ctr+=1   \n",
    "\n",
    "    #\n",
    "    raw_means = np.array(means)\n",
    "    print (\"Raw data means: \", raw_means.shape)\n",
    "\n",
    "    return raw_means\n",
    "\n",
    "\n",
    "def load_locaNMF_data(fname_locaNMF):\n",
    "    # order locaNMF components by plot color ORDER in Fig 4A\n",
    "    ordered_names = np.array([15,0,14,1,   # retrosplenial areas\n",
    "                              13,2,\n",
    "                              12,3,\n",
    "                              11,4,\n",
    "                              10,5,\n",
    "                              9,6,\n",
    "                              8,7])[::-1]\n",
    "\n",
    "\n",
    "    # load raw data\n",
    "    try:\n",
    "        d = np.load(fname_locaNMF)\n",
    "    except:\n",
    "        print (\"file missing\", fname_locaNMF)\n",
    "        return None, None, None, None, None\n",
    "        \n",
    "    locaNMF_temporal = d['temporal_trial']\n",
    "    locaNMF_temporal_random = d['temporal_random']\n",
    "    locaNMF_temporal = locaNMF_temporal[:,ordered_names]\n",
    "    locaNMF_temporal_random = locaNMF_temporal_random[:,ordered_names]\n",
    "    #print (\"locanmf data: \", locaNMF_temporal.shape)\n",
    "\n",
    "    # \n",
    "    areas = d['areas'][ordered_names]\n",
    "    names = d['names'][ordered_names]\n",
    "    #print (\"original names: \", names.shape)\n",
    "\n",
    "    #\n",
    "    atlas = np.load('/media/cat/4TBSSD/yuki/yongxu/atlas_split.npy')\n",
    "    #print (\"atlas: \",atlas.shape)\n",
    "    # print (areas)\n",
    "    # print (names)\n",
    "\n",
    "    print (\"  # trials \", locaNMF_temporal.shape)\n",
    "    #print (\"ORDERED NAMES: \", names[ordered_names])\n",
    "\n",
    "    \n",
    "    return atlas, areas, names, locaNMF_temporal, locaNMF_temporal_random\n",
    "\n",
    "\n",
    "def plot_locanmf_vs_raw(locaNMF_temporal, raw_means):\n",
    "# FIg 2B locaNMF vs. raw\n",
    "\n",
    "    locaNMF_temporal_means_clip = np.mean(locaNMF_temporal,axis=0)[:,:900]\n",
    "    print ('locaNMF_temporal_means: ', \n",
    "            locaNMF_temporal_means_clip.shape)\n",
    "\n",
    "    # \n",
    "    raw_means_clip = raw_means[:,:900]\n",
    "    print ('raw temporal_means: ', raw_means.shape)\n",
    "\n",
    "    # \n",
    "    colors = plt.cm.jet(np.linspace(0,1,raw_means.shape[0]))\n",
    "    scale1 = 1\n",
    "    scale2 = scale4 = .075\n",
    "    scale3 = 1\n",
    "\n",
    "    #\n",
    "    t = np.arange(raw_means_clip.shape[1])/30-30\n",
    "    fig=plt.figure(figsize=(10,10))\n",
    "    linewidth=3\n",
    "    for k in range(raw_means.shape[0]):\n",
    "        ax1=plt.subplot(121)\n",
    "        plt.xticks([])\n",
    "        plt.yticks([])\n",
    "        plt.xlim(-15,0)\n",
    "        plt.ylim(-.1,1.25)\n",
    "\n",
    "        temp1 = raw_means_clip[k]#/np.max(raw_means[k])\n",
    "        if k==0:\n",
    "            plt.plot(t,temp1*scale1+k*scale2,c=colors[k], \n",
    "                     linewidth= linewidth, \n",
    "                     label = 'raw')\n",
    "        else:\n",
    "            plt.plot(t,temp1*scale1+k*scale2,c=colors[k], \n",
    "                     linewidth= linewidth)\n",
    "\n",
    "        #plt.plot([-15,0], [scale3+k*scale2, scale3+k*scale2],'--',c='black',alpha=.2)\n",
    "\n",
    "\n",
    "        # locanmf traces\n",
    "        temp2 = locaNMF_temporal_means_clip[k]#/np.max(locaNMF_temporal_means[k])\n",
    "\n",
    "        if k ==0: \n",
    "            plt.plot(t,temp2*scale3+k*scale2,'--',\n",
    "                     linewidth= linewidth, \n",
    "                     c=colors[k],\n",
    "                    label='locaNMF')\n",
    "        else:\n",
    "            plt.plot(t,temp2*scale3+k*scale2,'--',\n",
    "                     linewidth= linewidth, \n",
    "                     c=colors[k])\n",
    "\n",
    "        plt.plot([-15,0], [k*scale2,k*scale2],'--',c='black',alpha=.2)\n",
    "\n",
    "    #     # \n",
    "    #     ax2=plt.subplot(122)\n",
    "    #     plt.xlim(-15,0)\n",
    "    #     temp3 = temp2*scale3-temp1*scale1\n",
    "    #     plt.plot(t, temp3*scale3+k*scale4,'--', c=colors[k])\n",
    "\n",
    "    ax1.legend()\n",
    "    if False:\n",
    "        plt.savefig('/home/cat/fano.png',dpi=300)\n",
    "        plt.close()\n",
    "    else:\n",
    "        plt.show()               \n",
    "        \n",
    "#\n",
    "def variance_locaNMF(locaNMF_temporal):\n",
    "    # \n",
    "    t = np.arange(locaNMF_temporal.shape[2])/30 - 30\n",
    "    means = []\n",
    "    var = []\n",
    "    #for k in ordered_names:\n",
    "    for k in range(locaNMF_temporal.shape[1]):\n",
    "        temp = locaNMF_temporal[:,k].mean(0)\n",
    "        means.append(temp)\n",
    "\n",
    "        # \n",
    "        temp = np.var(locaNMF_temporal[:,k],axis=0)\n",
    "        var.append(temp)\n",
    "\n",
    "    #\n",
    "    means = np.array(means)#[:,:900]\n",
    "    var = np.array(var)#[:,:900]\n",
    "    #print (means.shape, var.shape)\n",
    "\n",
    "    return means, var\n",
    "\n",
    "\n",
    "\n",
    "def plot_longitudinal_roi_loca(n_trials, saved_names, all_means):\n",
    "    print ('n trials: ', n_trials)\n",
    "    colors = plt.cm.viridis(np.linspace(0,1,len(all_means)))\n",
    "    area_ids = [0,1,6,7,8,9,12,13]\n",
    "    time= np.arange(all_means[0].shape[1])/30-30.\n",
    "\n",
    "    #\n",
    "    ctr=1\n",
    "    min_trials = 10\n",
    "    aucs = []\n",
    "    saved = []\n",
    "    fig=plt.figure(figsize=(10,6))\n",
    "    for ctr, area_id in enumerate(area_ids): \n",
    "        ax = plt.subplot(2,4,ctr+1)\n",
    "\n",
    "        # \n",
    "        aucs.append([])\n",
    "        counter = 0\n",
    "        for t in range(len(all_means)):\n",
    "            temp = all_means[t][area_id]\n",
    "            if n_trials[t]<min_trials:\n",
    "                continue\n",
    "\n",
    "            if np.max(np.abs(temp))<0.2:\n",
    "                plt.plot(time, temp, \n",
    "                         color=colors[t],\n",
    "                        alpha=.8)\n",
    "\n",
    "                auc = np.nansum(np.abs(temp), axis=0)\n",
    "\n",
    "                aucs[ctr].append([t,auc])\n",
    "                counter+=1\n",
    "\n",
    "        print (ctr, 'area_id: ', area_id, counter)\n",
    "        # \n",
    "        #if ctr==5:\n",
    "\n",
    "        plt.xticks([])\n",
    "        plt.yticks([])\n",
    "        plt.xlim(-15,0)\n",
    "        plt.title(saved_names[area_id],fontsize=8)\n",
    "\n",
    "        # cmap = matplotlib.cm.viridis\n",
    "        #norm = matplotlib.colors.Normalize(vmin=5, vmax=10)\n",
    "\n",
    "        # cb1 = matplotlib.colorbar.ColorbarBase(ax, cmap=cmap,\n",
    "         #                               orientation='vertical')\n",
    "\n",
    "    #\n",
    "    if False:\n",
    "        plt.savefig('/home/cat/'+str(animal_id)+'_loca_longitudinal.png',dpi=300)\n",
    "        plt.close()\n",
    "    else:\n",
    "        plt.show()\n",
    "        \n",
    "        \n",
    "def plot_locanmf_temporal_averages(fig, \n",
    "                                   locaNMF_temporal,\n",
    "                                  clr):\n",
    "    locaNMF_temporal_means_clip = np.mean(locaNMF_temporal,axis=0)[:,:900]\n",
    "    print ('locaNMF_temporal_means: ', \n",
    "            locaNMF_temporal_means_clip.shape)\n",
    "\n",
    "    # \n",
    "    colors = plt.cm.jet(np.linspace(0,1,locaNMF_temporal_means_clip.shape[0]))\n",
    "    scale1 = 1\n",
    "    scale2 = scale4 = .075\n",
    "    scale3 = 1\n",
    "\n",
    "    #\n",
    "    t = np.arange(locaNMF_temporal_means_clip.shape[1])/30-30\n",
    "    linewidth=5\n",
    "    for k in range(locaNMF_temporal_means_clip.shape[0]):\n",
    "        #ax1=plt.subplot(121)\n",
    "        #plt.xticks([])\n",
    "        #plt.yticks([])\n",
    "        plt.xlim(-30,0)\n",
    "        #plt.ylim(-.1,1.25)\n",
    "\n",
    "        # locanmf traces\n",
    "        temp2 = locaNMF_temporal_means_clip[k]#/np.max(locaNMF_temporal_means[k])\n",
    "\n",
    "        if k ==0: \n",
    "            plt.plot(t,temp2*scale3+k*scale2,\n",
    "                     linewidth= linewidth, \n",
    "                     c=clr)\n",
    "        else:\n",
    "            plt.plot(t,temp2*scale3+k*scale2,\n",
    "                     linewidth= linewidth, \n",
    "                     c=clr)\n",
    "\n",
    "        plt.plot([-30,0], [k*scale2,k*scale2],'--',c='black',alpha=.2)\n",
    "\n",
    "    \n",
    "    \n",
    "##################\n",
    "def plot_variance_locaNMF(fig, var,\n",
    "                         clr):\n",
    "\n",
    "    scale1 = 1\n",
    "    scale2 = .004\n",
    "    linewidth=5\n",
    "    # scale3 = np.nan\n",
    "    t = np.arange(var.shape[1])/30-30\n",
    "    \n",
    "    \n",
    "    # \n",
    "    for k in range(var.shape[0]):\n",
    "        # \n",
    "        plt.xticks([])\n",
    "        #plt.yticks([])\n",
    "\n",
    "        # \n",
    "        temp = var[k]\n",
    "        temp = temp*scale1+k*scale2\n",
    "\n",
    "        # plot the variance\n",
    "        plt.plot(t, temp, c=clr,\n",
    "                linewidth=linewidth)\n",
    "        \n",
    "                \n",
    "        # \n",
    "        #\n",
    "        print (\"temp var: \", temp.shape)\n",
    "        idx = np.argmin(temp[750:900])\n",
    "        print (\"idx: \", idx)\n",
    "        print (t[idx+750], temp[idx+750])\n",
    "        plt.scatter(t[idx+750], temp[idx+750],\n",
    "                    s=1000,\n",
    "                    color=clr,\n",
    "                   alpha=.8)\n",
    "\n",
    "        # plot lines on top of plot\n",
    "        plt.plot([-30,0], [k*scale2,k*scale2],'--',c='black',alpha=.5)\n",
    "\n",
    "        # \n",
    "        mean2 = np.mean(temp.squeeze())\n",
    "        plt.plot([-30,0], [mean2,mean2],'--',c=clr,alpha=.5)\n",
    "\n",
    "    # \n",
    "    plt.xlim(-30,0)\n",
    "\n",
    "\n",
    "def load_locaNMF_temporal(animal_id, session_name, root_dir,\n",
    "                         session_id):\n",
    "\n",
    "    loca = analysis_fig4.LocaNMFClass(root_dir, animal_id, session_name)\n",
    "\n",
    "    #\n",
    "    loca.get_sessions(session_name)\n",
    "    print (\"sessions: \", loca.sessions.shape)\n",
    "    print (\"selected session: \", loca.sessions[session_id])\n",
    "\n",
    "    session = loca.sessions[session_id]\n",
    "\n",
    "    # load data\n",
    "    fname_locaNMF = os.path.join(root_dir, animal_id, 'tif_files',session,\n",
    "                                 session + '_locanmf.npz')\n",
    "\n",
    "\n",
    "    atlas, areas, names, locaNMF_temporal, locaNMF_temporal_random = load_locaNMF_data(fname_locaNMF)\n",
    "\n",
    "    return atlas, areas, names, locaNMF_temporal, locaNMF_temporal_random \n",
    "    \n",
    "    "
   ]
  },
  {
   "cell_type": "code",
   "execution_count": 38,
   "metadata": {
    "scrolled": true
   },
   "outputs": [
    {
     "name": "stdout",
     "output_type": "stream",
     "text": [
      "Feb3_ 43\n",
      "0 Retrosplenial area, dorsal part, layer 1 - right\n",
      "1 Retrosplenial area, lateral agranular part, layer 1 - right\n",
      "2 Primary visual area, layer 1 - right\n",
      "3 Primary somatosensory area, upper limb, layer 1 - right\n",
      "4 Primary somatosensory area, lower limb, layer 1 - right\n",
      "5 Primary somatosensory area, barrel field, layer 1 - right\n",
      "6 Secondary motor area, layer 1 - right\n",
      "7 Primary motor area, Layer 1 - right\n",
      "8 Primary motor area, Layer 1 - left\n",
      "9 Secondary motor area, layer 1 - left\n",
      "10 Primary somatosensory area, barrel field, layer 1 - left\n",
      "11 Primary somatosensory area, lower limb, layer 1 - left\n",
      "12 Primary somatosensory area, upper limb, layer 1 - left\n",
      "13 Primary visual area, layer 1 - left\n",
      "14 Retrosplenial area, lateral agranular part, layer 1 - left\n",
      "15 Retrosplenial area, dorsal part, layer 1 - left\n",
      "Mar2_ 106\n",
      "0 Retrosplenial area, dorsal part, layer 1 - right\n",
      "1 Retrosplenial area, lateral agranular part, layer 1 - right\n",
      "2 Primary visual area, layer 1 - right\n",
      "3 Primary somatosensory area, upper limb, layer 1 - right\n",
      "4 Primary somatosensory area, lower limb, layer 1 - right\n",
      "5 Primary somatosensory area, barrel field, layer 1 - right\n",
      "6 Secondary motor area, layer 1 - right\n",
      "7 Primary motor area, Layer 1 - right\n",
      "8 Primary motor area, Layer 1 - left\n",
      "9 Secondary motor area, layer 1 - left\n",
      "10 Primary somatosensory area, barrel field, layer 1 - left\n",
      "11 Primary somatosensory area, lower limb, layer 1 - left\n",
      "12 Primary somatosensory area, upper limb, layer 1 - left\n",
      "13 Primary visual area, layer 1 - left\n",
      "14 Retrosplenial area, lateral agranular part, layer 1 - left\n",
      "15 Retrosplenial area, dorsal part, layer 1 - left\n"
     ]
    }
   ],
   "source": [
    "#######################################################\n",
    "########### LOAD LIMB AREAS AND TIME COURSES ##########\n",
    "#######################################################\n",
    "\n",
    "# FIG 6A example of visual vs. limb averages\n",
    "\n",
    "main_dir = '/media/cat/4TBSSD/yuki/'\n",
    "animal_id = 'IJ2'\n",
    "session_ids = ['Feb1_', 'Mar2_','Mar31_','Apr4_']\n",
    "session_ids = ['Feb3_','Mar2_'] #,'Apr4_']\n",
    "\n",
    "colors = plt.cm.viridis(np.linspace(0,1,3))\n",
    "#colors=['black','blue','red','magenta']\n",
    "# \n",
    "plt.figure(figsize=(15,10))\n",
    "ctr_session=0\n",
    "area_ids = [13, 8, 12, 11]\n",
    "linewidth = 3\n",
    "for session_id in session_ids:\n",
    "    sessions = Visualize.get_sessions(main_dir,\n",
    "                     animal_id,\n",
    "                     session_id)\n",
    "    #print (sessions)\n",
    "\n",
    "    loca = np.load(os.path.join(main_dir, animal_id, 'tif_files',sessions[0],\n",
    "                                sessions[0]+'_locanmf.npz'))\n",
    "\n",
    "    trials = loca['temporal_trial']\n",
    "    random = loca['temporal_random']\n",
    "    print (session_id, trials.shape[0])\n",
    "    names = loca['names']\n",
    "    for k in range(len(names)):\n",
    "           print (k,names[k])\n",
    "    # \n",
    "    ctr=0\n",
    "    t=np.arange(900)/30.-30\n",
    "    for area_id in area_ids:\n",
    "        plt.subplot(2,2,ctr+1)\n",
    "        plt.title(names[area_id])\n",
    "        \n",
    "        plt.plot(t,trials[:43,area_id,:900].mean(0),\n",
    "                  linewidth=linewidth,\n",
    "                color=colors[ctr_session])\n",
    "        \n",
    "        \n",
    "        ran = random[:43,area_id,:900]\n",
    "        \n",
    "        if True:\n",
    "            for p in range(ran.shape[0]):\n",
    "                idx = np.random.choice(np.arange(-300,300,1))\n",
    "                #print (idx)\n",
    "                ran[p] = np.roll(ran[p], idx)\n",
    "        \n",
    "        plt.plot(t,ran.mean(0),'--',\n",
    "                 linewidth=linewidth,\n",
    "                color=colors[ctr_session])\n",
    "\n",
    "        \n",
    "        plt.ylim(-0.10, 0.10)\n",
    "        plt.xlim(-15,t[-1])\n",
    "        plt.plot([-30,0],[0,0],'--',c='grey')\n",
    "        ctr+=1\n",
    "        \n",
    "    ctr_session+=1\n",
    "\n",
    "if True:\n",
    "    plt.savefig('/home/cat/osccilations_roi.svg')\n",
    "    plt.close()\n",
    "else:\n",
    "    plt.show()\n"
   ]
  },
  {
   "cell_type": "code",
   "execution_count": 130,
   "metadata": {
    "scrolled": true
   },
   "outputs": [
    {
     "name": "stderr",
     "output_type": "stream",
     "text": [
      " 11%|█▏        | 5/44 [00:00<00:00, 44.70it/s]"
     ]
    },
    {
     "name": "stdout",
     "output_type": "stream",
     "text": [
      "# of sessions:  (44,)\n",
      "  # trials  (10, 16, 1801)\n",
      "  # trials  (16, 16, 1801)\n",
      "  # trials  (43, 16, 1801)\n",
      "  # trials  (47, 16, 1801)\n",
      "  # trials  (52, 16, 1801)\n",
      "file missing /media/cat/4TBSSD/yuki/IJ2/tif_files/IJ2pm_Feb9_30Hz/IJ2pm_Feb9_30Hz_locanmf.npz\n",
      "  # trials  (50, 16, 1801)\n",
      "  # trials  (39, 16, 1801)\n",
      "  # trials  (26, 16, 1801)\n",
      "file missing /media/cat/4TBSSD/yuki/IJ2/tif_files/IJ2pm_Feb15_30Hz/IJ2pm_Feb15_30Hz_locanmf.npz\n"
     ]
    },
    {
     "name": "stderr",
     "output_type": "stream",
     "text": [
      " 43%|████▎     | 19/44 [00:00<00:00, 50.09it/s]"
     ]
    },
    {
     "name": "stdout",
     "output_type": "stream",
     "text": [
      "  # trials  (56, 16, 1801)\n",
      "  # trials  (12, 16, 1801)\n",
      "  # trials  (29, 16, 1801)\n",
      "  # trials  (38, 16, 1801)\n",
      "file missing /media/cat/4TBSSD/yuki/IJ2/tif_files/IJ2pm_Feb23_30Hz/IJ2pm_Feb23_30Hz_locanmf.npz\n",
      "file missing /media/cat/4TBSSD/yuki/IJ2/tif_files/IJ2pm_Feb24_30Hz/IJ2pm_Feb24_30Hz_locanmf.npz\n",
      "file missing /media/cat/4TBSSD/yuki/IJ2/tif_files/IJ2pm_Feb25_30Hz/IJ2pm_Feb25_30Hz_locanmf.npz\n",
      "  # trials  (64, 16, 1801)\n",
      "  # trials  (94, 16, 1801)\n",
      "  # trials  (61, 16, 1801)\n"
     ]
    },
    {
     "name": "stderr",
     "output_type": "stream",
     "text": [
      "\r",
      " 57%|█████▋    | 25/44 [00:00<00:00, 39.58it/s]"
     ]
    },
    {
     "name": "stdout",
     "output_type": "stream",
     "text": [
      "  # trials  (106, 16, 1801)\n",
      "  # trials  (48, 16, 1801)\n",
      "  # trials  (34, 16, 1801)\n",
      "  # trials  (21, 16, 1801)\n",
      "  # trials  (50, 16, 1801)\n",
      "  # trials  (61, 16, 1801)\n",
      "  # trials  (59, 16, 1801)\n"
     ]
    },
    {
     "name": "stderr",
     "output_type": "stream",
     "text": [
      " 77%|███████▋  | 34/44 [00:00<00:00, 36.93it/s]"
     ]
    },
    {
     "name": "stdout",
     "output_type": "stream",
     "text": [
      "  # trials  (30, 16, 1801)\n",
      "  # trials  (28, 16, 1801)\n",
      "  # trials  (43, 16, 1801)\n",
      "  # trials  (22, 16, 1801)\n",
      "  # trials  (44, 16, 1801)\n",
      "  # trials  (39, 16, 1801)\n",
      "  # trials  (74, 16, 1801)\n",
      "  # trials  (33, 16, 1801)\n"
     ]
    },
    {
     "name": "stderr",
     "output_type": "stream",
     "text": [
      "\r",
      " 86%|████████▋ | 38/44 [00:00<00:00, 35.54it/s]"
     ]
    },
    {
     "name": "stdout",
     "output_type": "stream",
     "text": [
      "  # trials  (43, 16, 1801)\n",
      "  # trials  (50, 16, 1801)\n",
      "  # trials  (64, 16, 1801)\n",
      "  # trials  (33, 16, 1801)\n",
      "  # trials  (65, 16, 1801)\n",
      "  # trials  (82, 16, 1801)\n"
     ]
    },
    {
     "name": "stderr",
     "output_type": "stream",
     "text": [
      "100%|██████████| 44/44 [00:01<00:00, 36.87it/s]"
     ]
    },
    {
     "name": "stdout",
     "output_type": "stream",
     "text": [
      "  # trials  (58, 16, 1801)\n",
      "  # trials  (37, 16, 1801)\n",
      "  # trials  (60, 16, 1801)\n",
      "# good sessions:  39\n"
     ]
    },
    {
     "name": "stderr",
     "output_type": "stream",
     "text": [
      "\n"
     ]
    }
   ],
   "source": [
    "######################################################\n",
    "###### LOAD ANIMAL ALL SESSION MEANS/VARS ############\n",
    "######################################################\n",
    "\n",
    "animal_id = 'IJ2'\n",
    "session_name = 'all'\n",
    "root_dir = '/media/cat/4TBSSD/yuki/'\n",
    "\n",
    "\n",
    "# \n",
    "loca = analysis_fig4.LocaNMFClass(root_dir, animal_id, session_name)\n",
    "\n",
    "#\n",
    "loca.get_sessions(session_name)\n",
    "print (\"# of sessions: \", loca.sessions.shape)\n",
    "\n",
    "all_means = []\n",
    "n_trials = []\n",
    "saved_names = []\n",
    "all_means_random = []\n",
    "good_sessions = []\n",
    "all_loca_NMF = []\n",
    "for session in tqdm(loca.sessions):\n",
    "    \n",
    "    # load data\n",
    "    fname_locaNMF = os.path.join(root_dir, animal_id, 'tif_files',session,\n",
    "                                 session + '_locanmf.npz')\n",
    "    atlas, areas, names, locaNMF_temporal, random = load_locaNMF_data(fname_locaNMF)\n",
    "\n",
    "    # \n",
    "    if atlas is not None:\n",
    "        means, var = variance_locaNMF(locaNMF_temporal)\n",
    "        n_trials.append(locaNMF_temporal.shape[0])\n",
    "        all_means.append(means)\n",
    "        \n",
    "        means, var = variance_locaNMF(random)\n",
    "        all_means_random.append(means)\n",
    "                \n",
    "        saved_names = names\n",
    "        good_sessions.append(session)\n",
    "    \n",
    "print (\"# good sessions: \", len(good_sessions))"
   ]
  },
  {
   "cell_type": "code",
   "execution_count": 131,
   "metadata": {},
   "outputs": [],
   "source": [
    "########################################\n",
    "###### PLOT LONGITUDINAL RESULTS #######\n",
    "#########################################\n",
    "# # fig 5F longintudinal power spectra \n",
    "# plot_longitudinal_roi_loca(n_trials, saved_names, all_means)   "
   ]
  },
  {
   "cell_type": "code",
   "execution_count": 132,
   "metadata": {
    "scrolled": true
   },
   "outputs": [
    {
     "name": "stdout",
     "output_type": "stream",
     "text": [
      "['Primary visual area, layer 1 - left'\n",
      " 'Primary somatosensory area, upper limb, layer 1 - left'\n",
      " 'Primary motor area, Layer 1 - left'\n",
      " 'Retrosplenial area, dorsal part, layer 1 - left']\n"
     ]
    }
   ],
   "source": [
    "##############################\n",
    "####### POWER SPECTRUM #######\n",
    "##############################\n",
    "\n",
    "def plot_spectra_longintudinally(colors, plotting, fs, selected_areas, \n",
    "                                all_areas,\n",
    "                                all_means,\n",
    "                                all_means_random):\n",
    "\n",
    "    if plotting:\n",
    "        fig = plt.figure(figsize=(16,8))\n",
    "\n",
    "    # \n",
    "    norm = False\n",
    "    ctr2=0\n",
    "    averages = []\n",
    "    for k in range(len(selected_areas)):\n",
    "        averages.append([])\n",
    "\n",
    "    spectra = np.zeros((len(all_means),len(selected_areas),451))\n",
    "    # loop over all sessions\n",
    "    for k in range(len(all_means)):\n",
    "\n",
    "        # get all traces within a session\n",
    "        all_traces = all_means[k]\n",
    "\n",
    "        #\n",
    "        all_traces_random = all_means_random[k]\n",
    "        \n",
    "        temp_list = []\n",
    "        temp_list_random = []\n",
    "        pxx_list = []\n",
    "        # loop over all areas selected\n",
    "        for ctr_area, selected_area in enumerate(selected_areas):\n",
    "\n",
    "            #########################################\n",
    "            ######### PLOT INDIVIDUAL SPECGRAMS #####\n",
    "            #########################################\n",
    "            temp = all_traces[selected_area]\n",
    "            temp_random = all_traces_random[selected_area]\n",
    "            #temp = savgol_filter(temp, 7, 1)\n",
    "            temp_list.append(temp)\n",
    "            temp_list_random.append(temp_random)\n",
    "            if True: #np.max(np.abs(temp))<0.2:\n",
    "                temp = np.float64(temp)\n",
    "                temp_random = np.float64(temp_random)\n",
    "                f, Pxx_den = signal.periodogram(temp, fs)\n",
    "                f, Pxx_den_random = signal.periodogram(temp_random, fs)\n",
    "\n",
    "            if norm:\n",
    "                Pxx_den = Pxx_den/Pxx_den_random\n",
    "\n",
    "            # SHOW ONLY FIRST 451 datapoints\n",
    "            x = np.arange(0,451,1)/30.\n",
    "            Pxx_den = Pxx_den[:451]\n",
    "\n",
    "            if plotting:\n",
    "                ax = plt.subplot(1,len(selected_areas),ctr_area+1)\n",
    "                if norm == False:\n",
    "                    plt.ylim(1E-8,1E-1)\n",
    "                else:\n",
    "                    plt.ylim(1E-3,1E6)\n",
    "\n",
    "                plt.xlabel('frequency [Hz]')\n",
    "                plt.xlim(2E-2,6)\n",
    "                #ax.set_yticks([])\n",
    "                plt.semilogy()\n",
    "                plt.semilogx()\n",
    "                \n",
    "                plt.plot(x, \n",
    "                     Pxx_den,\n",
    "                     linewidth=3,\n",
    "                     c= colors[ctr_area][ctr2],\n",
    "                        alpha=.5)\n",
    "            # \n",
    "            xx = argrelmax(Pxx_den, order=100)\n",
    "\n",
    "            pxx_list.append(Pxx_den)\n",
    "            averages[ctr_area].append(Pxx_den)\n",
    "            \n",
    "            spectra[k,ctr_area]=Pxx_den\n",
    "        \n",
    "        ctr2+=1\n",
    "\n",
    "    #########################################\n",
    "    ######### PLOT AVERAGES #################\n",
    "    #########################################\n",
    "    for ctr_area in range(len(selected_areas)):\n",
    "        y = np.median(averages[ctr_area],axis=0)\n",
    "        argmax = np.argmax(y)\n",
    "\n",
    "        if plotting:\n",
    "            ax = plt.subplot(1,len(selected_areas),ctr_area+1)\n",
    "\n",
    "            plt.plot(x, \n",
    "                 y,\n",
    "                 linewidth=3,\n",
    "                 c= 'black')\n",
    "\n",
    "            plt.plot([x[argmax], x[argmax]],[1E-8,1E5], '--',c='red')\n",
    "            print (\"max freq: \", x[argmax])\n",
    "            #\n",
    "            plt.plot([0.1, 0.1],[1E-8,1E5], '--', c='black',alpha=.5)\n",
    "            plt.plot([1, 1],[1E-8,1E5], '--',c='black',alpha=.5)\n",
    "\n",
    "            for k in range(-8,-1,1):\n",
    "                plt.plot([1E-4,20],[10**k,10**k], '--',c='black',alpha=.5)\n",
    "\n",
    "\n",
    "    if plotting:\n",
    "        plt.savefig('/home/cat/power_spectra_logintiduinal.svg')\n",
    "        plt.close()\n",
    "    else:\n",
    "        plt.show()\n",
    "        \n",
    "    return spectra\n",
    "\n",
    "##############################################\n",
    "colors = []\n",
    "colors.append(plt.cm.viridis(np.linspace(0,1,len(all_means))))\n",
    "colors.append(plt.cm.viridis(np.linspace(0,1,len(all_means))))\n",
    "colors.append(plt.cm.viridis(np.linspace(0,1,len(all_means))))\n",
    "colors.append(plt.cm.viridis(np.linspace(0,1,len(all_means))))\n",
    "colors.append(plt.cm.viridis(np.linspace(0,1,len(all_means))))\n",
    "colors.append(plt.cm.Blues(np.linspace(0,1,len(all_means))))\n",
    "\n",
    "#\n",
    "fs = 30\n",
    "plotting=False\n",
    "selected_areas = [11,9,1,15]\n",
    "print (saved_names[selected_areas])\n",
    "all_areas = np.arange(all_means[0].shape[0])\n",
    "\n",
    "#\n",
    "spectra = plot_spectra_longintudinally(colors, plotting, fs, selected_areas, \n",
    "                            all_areas,\n",
    "                            all_means,\n",
    "                            all_means_random)\n",
    "\n",
    "#\n"
   ]
  },
  {
   "cell_type": "code",
   "execution_count": 157,
   "metadata": {},
   "outputs": [
    {
     "name": "stderr",
     "output_type": "stream",
     "text": [
      " 11%|█▏        | 8/71 [00:00<00:00, 66.02it/s]"
     ]
    },
    {
     "name": "stdout",
     "output_type": "stream",
     "text": [
      "# of sessions:  (71,)\n",
      "file missing /media/cat/4TBSSD/yuki/IA1/tif_files/IA1pm_Feb1_30Hz/IA1pm_Feb1_30Hz_locanmf.npz\n",
      "  # trials  (23, 16, 1801)\n",
      "  # trials  (58, 16, 1801)\n",
      "file missing /media/cat/4TBSSD/yuki/IA1/tif_files/IA1pm_Feb4_30Hz/IA1pm_Feb4_30Hz_locanmf.npz\n",
      "file missing /media/cat/4TBSSD/yuki/IA1/tif_files/IA1pm_Feb5_30Hz/IA1pm_Feb5_30Hz_locanmf.npz\n",
      "  # trials  (51, 16, 1801)\n",
      "  # trials  (13, 16, 1801)\n",
      "  # trials  (38, 16, 1801)\n",
      "file missing /media/cat/4TBSSD/yuki/IA1/tif_files/IA1pm_Feb12_30Hz/IA1pm_Feb12_30Hz_locanmf.npz\n",
      "  # trials  (18, 16, 1801)\n",
      "  # trials  (40, 16, 1801)\n",
      "  # trials  (36, 16, 1801)\n",
      "  # trials  (14, 16, 1801)\n"
     ]
    },
    {
     "name": "stderr",
     "output_type": "stream",
     "text": [
      " 32%|███▏      | 23/71 [00:00<00:00, 65.39it/s]"
     ]
    },
    {
     "name": "stdout",
     "output_type": "stream",
     "text": [
      "  # trials  (72, 16, 1801)\n",
      "file missing /media/cat/4TBSSD/yuki/IA1/tif_files/IA1pm_Feb22_30Hz/IA1pm_Feb22_30Hz_locanmf.npz\n",
      "  # trials  (76, 16, 1801)\n",
      "file missing /media/cat/4TBSSD/yuki/IA1/tif_files/IA1pm_Feb24_30Hz/IA1pm_Feb24_30Hz_locanmf.npz\n",
      "file missing /media/cat/4TBSSD/yuki/IA1/tif_files/IA1pm_Feb25_30Hz/IA1pm_Feb25_30Hz_locanmf.npz\n",
      "  # trials  (11, 16, 1801)\n",
      "  # trials  (29, 16, 1801)\n",
      "file missing /media/cat/4TBSSD/yuki/IA1/tif_files/IA1pm_Mar1_30Hz/IA1pm_Mar1_30Hz_locanmf.npz\n",
      "  # trials  (36, 16, 1801)\n",
      "  # trials  (24, 16, 1801)\n",
      "  # trials  (32, 16, 1801)\n",
      "  # trials  (20, 16, 1801)\n",
      "file missing /media/cat/4TBSSD/yuki/IA1/tif_files/IA1pm_Mar8_30Hz/IA1pm_Mar8_30Hz_locanmf.npz\n",
      "  # trials  (23, 16, 1801)\n",
      "  # trials  (24, 16, 1801)\n"
     ]
    },
    {
     "name": "stderr",
     "output_type": "stream",
     "text": [
      " 58%|█████▊    | 41/71 [00:00<00:00, 78.04it/s]"
     ]
    },
    {
     "name": "stdout",
     "output_type": "stream",
     "text": [
      "  # trials  (23, 16, 1801)\n",
      "  # trials  (44, 16, 1801)\n",
      "  # trials  (25, 16, 1801)\n",
      "file missing /media/cat/4TBSSD/yuki/IA1/tif_files/IA1pm_Mar16_30Hz/IA1pm_Mar16_30Hz_locanmf.npz\n",
      "  # trials  (13, 16, 1801)\n",
      "  # trials  (16, 16, 1801)\n",
      "  # trials  (13, 16, 1801)\n",
      "file missing /media/cat/4TBSSD/yuki/IA1/tif_files/IA1pm_Mar22_30Hz/IA1pm_Mar22_30Hz_locanmf.npz\n",
      "  # trials  (12, 16, 1801)\n",
      "  # trials  (11, 16, 1801)\n",
      "  # trials  (20, 16, 1801)\n",
      "  # trials  (13, 16, 1801)\n",
      "  # trials  (12, 16, 1801)\n",
      "  # trials  (11, 16, 1801)\n",
      "file missing /media/cat/4TBSSD/yuki/IA1/tif_files/IA1pm_Apr4_30Hz/IA1pm_Apr4_30Hz_locanmf.npz\n",
      "file missing /media/cat/4TBSSD/yuki/IA1/tif_files/IA1pm_Apr5_30Hz/IA1pm_Apr5_30Hz_locanmf.npz\n",
      "  # trials  (17, 16, 1801)\n",
      "  # trials  (10, 16, 1801)\n",
      "file missing /media/cat/4TBSSD/yuki/IA1/tif_files/IA1pm_Apr11_Day3_30Hz/IA1pm_Apr11_Day3_30Hz_locanmf.npz\n",
      "  # trials  (25, 16, 1801)\n",
      "  # trials  (20, 16, 1801)\n"
     ]
    },
    {
     "name": "stderr",
     "output_type": "stream",
     "text": [
      " 86%|████████▌ | 61/71 [00:00<00:00, 83.85it/s]"
     ]
    },
    {
     "name": "stdout",
     "output_type": "stream",
     "text": [
      "  # trials  (14, 16, 1801)\n",
      "  # trials  (18, 16, 1801)\n",
      "  # trials  (16, 16, 1801)\n",
      "  # trials  (39, 16, 1801)\n",
      "file missing /media/cat/4TBSSD/yuki/IA1/tif_files/IA1pm_Apr22_Week2_30Hz/IA1pm_Apr22_Week2_30Hz_locanmf.npz\n",
      "  # trials  (37, 16, 1801)\n",
      "  # trials  (23, 16, 1801)\n",
      "  # trials  (17, 16, 1801)\n",
      "  # trials  (13, 16, 1801)\n",
      "  # trials  (13, 16, 1801)\n",
      "file missing /media/cat/4TBSSD/yuki/IA1/tif_files/IA1am_May2_Week4_30Hz/IA1am_May2_Week4_30Hz_locanmf.npz\n",
      "  # trials  (28, 16, 1801)\n",
      "  # trials  (11, 16, 1801)\n",
      "  # trials  (22, 16, 1801)\n",
      "  # trials  (23, 16, 1801)\n"
     ]
    },
    {
     "name": "stderr",
     "output_type": "stream",
     "text": [
      "100%|██████████| 71/71 [00:00<00:00, 77.07it/s]\n"
     ]
    },
    {
     "name": "stdout",
     "output_type": "stream",
     "text": [
      "  # trials  (22, 16, 1801)\n",
      "  # trials  (39, 16, 1801)\n",
      "file missing /media/cat/4TBSSD/yuki/IA1/tif_files/IA1am_May13_Week5_30Hz/IA1am_May13_Week5_30Hz_locanmf.npz\n",
      "file missing /media/cat/4TBSSD/yuki/IA1/tif_files/IA1am_May16_Week6_30Hz/IA1am_May16_Week6_30Hz_locanmf.npz\n",
      "  # trials  (29, 16, 1801)\n",
      "  # trials  (16, 16, 1801)\n",
      "  # trials  (10, 16, 1801)\n",
      "# good sessions:  53\n",
      "['Primary visual area, layer 1 - left'\n",
      " 'Primary somatosensory area, upper limb, layer 1 - left'\n",
      " 'Primary motor area, Layer 1 - left'\n",
      " 'Retrosplenial area, dorsal part, layer 1 - left']\n",
      "(53, 4, 451)\n",
      "0 V1L  y shape:  (53,)\n",
      "0 corr (0.19437445256470293, 0.16311624941860392)\n",
      "1 SomFL  y shape:  (53,)\n",
      "1 corr (0.6079676302981403, 1.3768762096576255e-06)\n",
      "2 M1L  y shape:  (53,)\n",
      "2 corr (0.5394733205882425, 3.068433243245289e-05)\n",
      "3 RDL  y shape:  (53,)\n",
      "3 corr (0.5118274742448632, 8.95653628143738e-05)\n"
     ]
    },
    {
     "name": "stderr",
     "output_type": "stream",
     "text": [
      " 11%|█▏        | 5/44 [00:00<00:01, 35.89it/s]"
     ]
    },
    {
     "name": "stdout",
     "output_type": "stream",
     "text": [
      "# of sessions:  (44,)\n",
      "file missing /media/cat/4TBSSD/yuki/IA2/tif_files/IA2pm_Feb1_30Hz/IA2pm_Feb1_30Hz_locanmf.npz\n",
      "file missing /media/cat/4TBSSD/yuki/IA2/tif_files/IA2pm_Feb2_30Hz/IA2pm_Feb2_30Hz_locanmf.npz\n",
      "  # trials  (37, 16, 1801)\n",
      "  # trials  (88, 16, 1801)\n",
      "  # trials  (67, 16, 1801)\n",
      "file missing /media/cat/4TBSSD/yuki/IA2/tif_files/IA2pm_Feb9_30Hz/IA2pm_Feb9_30Hz_locanmf.npz\n",
      "file missing /media/cat/4TBSSD/yuki/IA2/tif_files/IA2pm_Feb10_30Hz/IA2pm_Feb10_30Hz_locanmf.npz\n",
      "file missing /media/cat/4TBSSD/yuki/IA2/tif_files/IA2pm_Feb11_30Hz/IA2pm_Feb11_30Hz_locanmf.npz\n",
      "  # trials  (19, 16, 1801)\n",
      "file missing /media/cat/4TBSSD/yuki/IA2/tif_files/IA2pm_Feb15_30Hz/IA2pm_Feb15_30Hz_locanmf.npz\n",
      "  # trials  (48, 16, 1801)\n",
      "  # trials  (24, 16, 1801)\n"
     ]
    },
    {
     "name": "stderr",
     "output_type": "stream",
     "text": [
      " 48%|████▊     | 21/44 [00:00<00:00, 58.58it/s]"
     ]
    },
    {
     "name": "stdout",
     "output_type": "stream",
     "text": [
      "  # trials  (45, 16, 1801)\n",
      "  # trials  (67, 16, 1801)\n",
      "  # trials  (42, 16, 1801)\n",
      "file missing /media/cat/4TBSSD/yuki/IA2/tif_files/IA2pm_Feb23_30Hz/IA2pm_Feb23_30Hz_locanmf.npz\n",
      "file missing /media/cat/4TBSSD/yuki/IA2/tif_files/IA2pm_Feb24_30Hz/IA2pm_Feb24_30Hz_locanmf.npz\n",
      "file missing /media/cat/4TBSSD/yuki/IA2/tif_files/IA2pm_Feb25_30Hz/IA2pm_Feb25_30Hz_locanmf.npz\n",
      "  # trials  (31, 16, 1801)\n",
      "  # trials  (59, 16, 1801)\n",
      "  # trials  (21, 16, 1801)\n",
      "  # trials  (63, 16, 1801)\n",
      "file missing /media/cat/4TBSSD/yuki/IA2/tif_files/IA2pm_Mar3_30Hz/IA2pm_Mar3_30Hz_locanmf.npz\n"
     ]
    },
    {
     "name": "stderr",
     "output_type": "stream",
     "text": [
      "\r",
      " 66%|██████▌   | 29/44 [00:00<00:00, 59.97it/s]"
     ]
    },
    {
     "name": "stdout",
     "output_type": "stream",
     "text": [
      "  # trials  (32, 16, 1801)\n",
      "file missing /media/cat/4TBSSD/yuki/IA2/tif_files/IA2am_Mar7_30Hz/IA2am_Mar7_30Hz_locanmf.npz\n",
      "  # trials  (13, 16, 1801)\n",
      "  # trials  (12, 16, 1801)\n",
      "file missing /media/cat/4TBSSD/yuki/IA2/tif_files/IA2am_Mar10_30Hz/IA2am_Mar10_30Hz_locanmf.npz\n",
      "  # trials  (79, 16, 1801)\n",
      "  # trials  (87, 16, 1801)\n",
      "  # trials  (63, 16, 1801)\n"
     ]
    },
    {
     "name": "stderr",
     "output_type": "stream",
     "text": [
      "\r",
      " 82%|████████▏ | 36/44 [00:00<00:00, 38.12it/s]"
     ]
    },
    {
     "name": "stdout",
     "output_type": "stream",
     "text": [
      "  # trials  (98, 16, 1801)\n",
      "  # trials  (82, 16, 1801)\n",
      "  # trials  (61, 16, 1801)\n",
      "  # trials  (49, 16, 1801)\n",
      "  # trials  (67, 16, 1801)\n",
      "  # trials  (45, 16, 1801)\n"
     ]
    },
    {
     "name": "stderr",
     "output_type": "stream",
     "text": [
      "100%|██████████| 44/44 [00:01<00:00, 41.81it/s]"
     ]
    },
    {
     "name": "stdout",
     "output_type": "stream",
     "text": [
      "file missing /media/cat/4TBSSD/yuki/IA2/tif_files/IA2pm_Mar29_30Hz/IA2pm_Mar29_30Hz_locanmf.npz\n",
      "  # trials  (35, 16, 1801)\n",
      "  # trials  (62, 16, 1801)\n",
      "  # trials  (85, 16, 1801)\n",
      "  # trials  (28, 16, 1801)\n",
      "  # trials  (22, 16, 1801)\n",
      "  # trials  (62, 16, 1801)\n",
      "# good sessions:  31\n",
      "['Primary visual area, layer 1 - left'\n",
      " 'Primary somatosensory area, upper limb, layer 1 - left'\n",
      " 'Primary motor area, Layer 1 - left'\n",
      " 'Retrosplenial area, dorsal part, layer 1 - left']\n"
     ]
    },
    {
     "name": "stderr",
     "output_type": "stream",
     "text": [
      "\n"
     ]
    },
    {
     "name": "stdout",
     "output_type": "stream",
     "text": [
      "(31, 4, 451)\n",
      "0 V1L  y shape:  (31,)\n",
      "0 corr (-0.2981575004119056, 0.10328140051384245)\n",
      "1 SomFL  y shape:  (31,)\n",
      "1 corr (-0.5561719296807195, 0.0011588332313313778)\n",
      "2 M1L  y shape:  (31,)\n",
      "2 corr (-0.6879678949224832, 1.8951364177999577e-05)\n",
      "3 RDL  y shape:  (31,)\n",
      "3 corr (-0.534062164574613, 0.0019713759242949835)\n"
     ]
    },
    {
     "name": "stderr",
     "output_type": "stream",
     "text": [
      "  7%|▋         | 3/44 [00:00<00:01, 23.99it/s]"
     ]
    },
    {
     "name": "stdout",
     "output_type": "stream",
     "text": [
      "# of sessions:  (44,)\n",
      "  # trials  (28, 16, 1801)\n",
      "  # trials  (65, 16, 1801)\n",
      "  # trials  (91, 16, 1801)\n",
      "  # trials  (53, 16, 1801)\n",
      "  # trials  (11, 16, 1801)\n",
      "file missing /media/cat/4TBSSD/yuki/IA3/tif_files/IA3pm_Feb10_30Hz/IA3pm_Feb10_30Hz_locanmf.npz\n",
      "  # trials  (13, 16, 1801)\n"
     ]
    },
    {
     "name": "stderr",
     "output_type": "stream",
     "text": [
      " 27%|██▋       | 12/44 [00:00<00:00, 33.98it/s]"
     ]
    },
    {
     "name": "stdout",
     "output_type": "stream",
     "text": [
      "  # trials  (82, 16, 1801)\n",
      "  # trials  (48, 16, 1801)\n",
      "  # trials  (66, 16, 1801)\n",
      "  # trials  (49, 16, 1801)\n",
      "  # trials  (38, 16, 1801)\n",
      "  # trials  (30, 16, 1801)\n",
      "  # trials  (24, 16, 1801)\n",
      "  # trials  (11, 16, 1801)\n",
      "file missing /media/cat/4TBSSD/yuki/IA3/tif_files/IA3pm_Feb24_30Hz/IA3pm_Feb24_30Hz_locanmf.npz\n",
      "file missing /media/cat/4TBSSD/yuki/IA3/tif_files/IA3pm_Feb25_30Hz/IA3pm_Feb25_30Hz_locanmf.npz\n"
     ]
    },
    {
     "name": "stderr",
     "output_type": "stream",
     "text": [
      " 55%|█████▍    | 24/44 [00:00<00:00, 43.17it/s]"
     ]
    },
    {
     "name": "stdout",
     "output_type": "stream",
     "text": [
      "  # trials  (65, 16, 1801)\n",
      "  # trials  (46, 16, 1801)\n",
      "  # trials  (23, 16, 1801)\n",
      "  # trials  (33, 16, 1801)\n",
      "  # trials  (51, 16, 1801)\n",
      "  # trials  (38, 16, 1801)\n",
      "  # trials  (34, 16, 1801)\n",
      "  # trials  (40, 16, 1801)\n"
     ]
    },
    {
     "name": "stderr",
     "output_type": "stream",
     "text": [
      "\r",
      " 66%|██████▌   | 29/44 [00:00<00:00, 40.61it/s]"
     ]
    },
    {
     "name": "stdout",
     "output_type": "stream",
     "text": [
      "  # trials  (65, 16, 1801)\n",
      "  # trials  (55, 16, 1801)\n",
      "  # trials  (22, 16, 1801)\n",
      "  # trials  (34, 16, 1801)\n",
      "  # trials  (47, 16, 1801)\n",
      "  # trials  (56, 16, 1801)\n",
      "  # trials  (80, 16, 1801)\n"
     ]
    },
    {
     "name": "stderr",
     "output_type": "stream",
     "text": [
      "\r",
      " 77%|███████▋  | 34/44 [00:00<00:00, 30.14it/s]"
     ]
    },
    {
     "name": "stdout",
     "output_type": "stream",
     "text": [
      "  # trials  (106, 16, 1801)\n",
      "  # trials  (99, 16, 1801)\n",
      "  # trials  (108, 16, 1801)\n"
     ]
    },
    {
     "name": "stderr",
     "output_type": "stream",
     "text": [
      "\r",
      " 86%|████████▋ | 38/44 [00:01<00:00, 24.43it/s]"
     ]
    },
    {
     "name": "stdout",
     "output_type": "stream",
     "text": [
      "  # trials  (130, 16, 1801)\n",
      "  # trials  (88, 16, 1801)\n",
      "  # trials  (48, 16, 1801)\n",
      "  # trials  (95, 16, 1801)\n"
     ]
    },
    {
     "name": "stderr",
     "output_type": "stream",
     "text": [
      "\r",
      " 93%|█████████▎| 41/44 [00:01<00:00, 23.19it/s]"
     ]
    },
    {
     "name": "stdout",
     "output_type": "stream",
     "text": [
      "  # trials  (75, 16, 1801)\n",
      "  # trials  (63, 16, 1801)\n",
      "  # trials  (117, 16, 1801)\n",
      "  # trials  (67, 16, 1801)\n"
     ]
    },
    {
     "name": "stderr",
     "output_type": "stream",
     "text": [
      "100%|██████████| 44/44 [00:01<00:00, 27.69it/s]\n"
     ]
    },
    {
     "name": "stdout",
     "output_type": "stream",
     "text": [
      "  # trials  (104, 16, 1801)\n",
      "# good sessions:  41\n",
      "['Primary visual area, layer 1 - left'\n",
      " 'Primary somatosensory area, upper limb, layer 1 - left'\n",
      " 'Primary motor area, Layer 1 - left'\n",
      " 'Retrosplenial area, dorsal part, layer 1 - left']\n",
      "(41, 4, 451)\n",
      "0 V1L  y shape:  (41,)\n",
      "0 corr (-0.21576947997994214, 0.17545107856797146)\n",
      "1 SomFL  y shape:  (41,)\n",
      "1 corr (-0.18245778154863068, 0.2535430168875494)\n",
      "2 M1L  y shape:  (41,)\n",
      "2 corr (-0.168625572296873, 0.29192432847158684)\n",
      "3 RDL  y shape:  (41,)\n",
      "3 corr (-0.09937351108289119, 0.5364723617416676)\n"
     ]
    },
    {
     "name": "stderr",
     "output_type": "stream",
     "text": [
      "  9%|▉         | 4/44 [00:00<00:01, 38.50it/s]"
     ]
    },
    {
     "name": "stdout",
     "output_type": "stream",
     "text": [
      "# of sessions:  (44,)\n",
      "  # trials  (29, 16, 1801)\n",
      "  # trials  (31, 16, 1801)\n",
      "  # trials  (43, 16, 1801)\n",
      "  # trials  (38, 16, 1801)\n",
      "  # trials  (44, 16, 1801)\n",
      "  # trials  (43, 16, 1801)\n",
      "  # trials  (54, 16, 1801)\n"
     ]
    },
    {
     "name": "stderr",
     "output_type": "stream",
     "text": [
      " 27%|██▋       | 12/44 [00:00<00:00, 34.79it/s]"
     ]
    },
    {
     "name": "stdout",
     "output_type": "stream",
     "text": [
      "  # trials  (49, 16, 1801)\n",
      "  # trials  (56, 16, 1801)\n",
      "  # trials  (31, 16, 1801)\n",
      "  # trials  (56, 16, 1801)\n",
      "  # trials  (27, 16, 1801)\n",
      "  # trials  (44, 16, 1801)\n",
      "  # trials  (26, 16, 1801)\n"
     ]
    },
    {
     "name": "stderr",
     "output_type": "stream",
     "text": [
      " 48%|████▊     | 21/44 [00:00<00:00, 37.60it/s]"
     ]
    },
    {
     "name": "stdout",
     "output_type": "stream",
     "text": [
      "  # trials  (82, 16, 1801)\n",
      "file missing /media/cat/4TBSSD/yuki/IJ1/tif_files/IJ1pm_Feb24_30Hz/IJ1pm_Feb24_30Hz_locanmf.npz\n",
      "file missing /media/cat/4TBSSD/yuki/IJ1/tif_files/IJ1pm_Feb25_30Hz/IJ1pm_Feb25_30Hz_locanmf.npz\n",
      "  # trials  (46, 16, 1801)\n",
      "  # trials  (73, 16, 1801)\n",
      "  # trials  (16, 16, 1801)\n",
      "  # trials  (61, 16, 1801)\n"
     ]
    },
    {
     "name": "stderr",
     "output_type": "stream",
     "text": [
      "\r",
      " 57%|█████▋    | 25/44 [00:00<00:00, 30.56it/s]"
     ]
    },
    {
     "name": "stdout",
     "output_type": "stream",
     "text": [
      "  # trials  (132, 16, 1801)\n",
      "  # trials  (114, 16, 1801)\n",
      "  # trials  (42, 16, 1801)\n",
      "file missing /media/cat/4TBSSD/yuki/IJ1/tif_files/IJ1am_Mar9_30Hz/IJ1am_Mar9_30Hz_locanmf.npz\n",
      "  # trials  (37, 16, 1801)\n",
      "  # trials  (18, 16, 1801)\n",
      "  # trials  (10, 16, 1801)\n",
      "  # trials  (44, 16, 1801)\n"
     ]
    },
    {
     "name": "stderr",
     "output_type": "stream",
     "text": [
      " 86%|████████▋ | 38/44 [00:00<00:00, 43.85it/s]"
     ]
    },
    {
     "name": "stdout",
     "output_type": "stream",
     "text": [
      "  # trials  (32, 16, 1801)\n",
      "  # trials  (21, 16, 1801)\n",
      "  # trials  (42, 16, 1801)\n",
      "  # trials  (12, 16, 1801)\n",
      "  # trials  (19, 16, 1801)\n",
      "  # trials  (20, 16, 1801)\n",
      "  # trials  (21, 16, 1801)\n",
      "  # trials  (19, 16, 1801)\n",
      "  # trials  (41, 16, 1801)\n",
      "  # trials  (47, 16, 1801)\n",
      "  # trials  (16, 16, 1801)\n",
      "  # trials  (27, 16, 1801)\n"
     ]
    },
    {
     "name": "stderr",
     "output_type": "stream",
     "text": [
      "100%|██████████| 44/44 [00:01<00:00, 40.51it/s]\n"
     ]
    },
    {
     "name": "stdout",
     "output_type": "stream",
     "text": [
      "  # trials  (37, 16, 1801)\n",
      "  # trials  (26, 16, 1801)\n",
      "file missing /media/cat/4TBSSD/yuki/IJ1/tif_files/IJ1pm_Apr7_30Hz/IJ1pm_Apr7_30Hz_locanmf.npz\n",
      "# good sessions:  40\n",
      "['Primary visual area, layer 1 - left'\n",
      " 'Primary somatosensory area, upper limb, layer 1 - left'\n",
      " 'Primary motor area, Layer 1 - left'\n",
      " 'Retrosplenial area, dorsal part, layer 1 - left']\n",
      "(40, 4, 451)\n",
      "0 V1L  y shape:  (40,)\n",
      "0 corr (0.31869689220644126, 0.0450375711188844)\n",
      "1 SomFL  y shape:  (40,)\n",
      "1 corr (0.187851779324123, 0.2457336372579979)\n",
      "2 M1L  y shape:  (40,)\n",
      "2 corr (0.2695423290069514, 0.09257479788117409)\n",
      "3 RDL  y shape:  (40,)\n",
      "3 corr (0.10265599662043437, 0.5284757929772151)\n"
     ]
    },
    {
     "name": "stderr",
     "output_type": "stream",
     "text": [
      " 11%|█▏        | 5/44 [00:00<00:00, 41.79it/s]"
     ]
    },
    {
     "name": "stdout",
     "output_type": "stream",
     "text": [
      "# of sessions:  (44,)\n",
      "  # trials  (10, 16, 1801)\n",
      "  # trials  (16, 16, 1801)\n",
      "  # trials  (43, 16, 1801)\n",
      "  # trials  (47, 16, 1801)\n",
      "  # trials  (52, 16, 1801)\n",
      "file missing /media/cat/4TBSSD/yuki/IJ2/tif_files/IJ2pm_Feb9_30Hz/IJ2pm_Feb9_30Hz_locanmf.npz\n",
      "  # trials  (50, 16, 1801)\n",
      "  # trials  (39, 16, 1801)\n",
      "  # trials  (26, 16, 1801)\n",
      "file missing /media/cat/4TBSSD/yuki/IJ2/tif_files/IJ2pm_Feb15_30Hz/IJ2pm_Feb15_30Hz_locanmf.npz\n"
     ]
    },
    {
     "name": "stderr",
     "output_type": "stream",
     "text": [
      " 43%|████▎     | 19/44 [00:00<00:00, 50.51it/s]"
     ]
    },
    {
     "name": "stdout",
     "output_type": "stream",
     "text": [
      "  # trials  (56, 16, 1801)\n",
      "  # trials  (12, 16, 1801)\n",
      "  # trials  (29, 16, 1801)\n",
      "  # trials  (38, 16, 1801)\n",
      "file missing /media/cat/4TBSSD/yuki/IJ2/tif_files/IJ2pm_Feb23_30Hz/IJ2pm_Feb23_30Hz_locanmf.npz\n",
      "file missing /media/cat/4TBSSD/yuki/IJ2/tif_files/IJ2pm_Feb24_30Hz/IJ2pm_Feb24_30Hz_locanmf.npz\n",
      "file missing /media/cat/4TBSSD/yuki/IJ2/tif_files/IJ2pm_Feb25_30Hz/IJ2pm_Feb25_30Hz_locanmf.npz\n",
      "  # trials  (64, 16, 1801)\n",
      "  # trials  (94, 16, 1801)\n",
      "  # trials  (61, 16, 1801)\n"
     ]
    },
    {
     "name": "stderr",
     "output_type": "stream",
     "text": [
      "\r",
      " 57%|█████▋    | 25/44 [00:00<00:00, 40.24it/s]"
     ]
    },
    {
     "name": "stdout",
     "output_type": "stream",
     "text": [
      "  # trials  (106, 16, 1801)\n",
      "  # trials  (48, 16, 1801)\n",
      "  # trials  (34, 16, 1801)\n",
      "  # trials  (21, 16, 1801)\n",
      "  # trials  (50, 16, 1801)\n",
      "  # trials  (61, 16, 1801)\n",
      "  # trials  (59, 16, 1801)\n"
     ]
    },
    {
     "name": "stderr",
     "output_type": "stream",
     "text": [
      " 77%|███████▋  | 34/44 [00:00<00:00, 36.17it/s]"
     ]
    },
    {
     "name": "stdout",
     "output_type": "stream",
     "text": [
      "  # trials  (30, 16, 1801)\n",
      "  # trials  (28, 16, 1801)\n",
      "  # trials  (43, 16, 1801)\n",
      "  # trials  (22, 16, 1801)\n",
      "  # trials  (44, 16, 1801)\n",
      "  # trials  (39, 16, 1801)\n",
      "  # trials  (74, 16, 1801)\n",
      "  # trials  (33, 16, 1801)\n"
     ]
    },
    {
     "name": "stderr",
     "output_type": "stream",
     "text": [
      "\r",
      " 86%|████████▋ | 38/44 [00:00<00:00, 35.12it/s]"
     ]
    },
    {
     "name": "stdout",
     "output_type": "stream",
     "text": [
      "  # trials  (43, 16, 1801)\n",
      "  # trials  (50, 16, 1801)\n",
      "  # trials  (64, 16, 1801)\n",
      "  # trials  (33, 16, 1801)\n",
      "  # trials  (65, 16, 1801)\n",
      "  # trials  (82, 16, 1801)\n"
     ]
    },
    {
     "name": "stderr",
     "output_type": "stream",
     "text": [
      "100%|██████████| 44/44 [00:01<00:00, 36.58it/s]"
     ]
    },
    {
     "name": "stdout",
     "output_type": "stream",
     "text": [
      "  # trials  (58, 16, 1801)\n",
      "  # trials  (37, 16, 1801)\n",
      "  # trials  (60, 16, 1801)\n",
      "# good sessions:  39\n",
      "['Primary visual area, layer 1 - left'\n",
      " 'Primary somatosensory area, upper limb, layer 1 - left'\n",
      " 'Primary motor area, Layer 1 - left'\n",
      " 'Retrosplenial area, dorsal part, layer 1 - left']\n"
     ]
    },
    {
     "name": "stderr",
     "output_type": "stream",
     "text": [
      "\n"
     ]
    },
    {
     "name": "stdout",
     "output_type": "stream",
     "text": [
      "(39, 4, 451)\n",
      "0 V1L  y shape:  (39,)\n",
      "0 corr (0.35502640674124386, 0.026567838607618854)\n",
      "1 SomFL  y shape:  (39,)\n",
      "1 corr (0.29830095964797165, 0.06510676129250421)\n",
      "2 M1L  y shape:  (39,)\n",
      "2 corr (0.3120975359999506, 0.053081491875992495)\n",
      "3 RDL  y shape:  (39,)\n",
      "3 corr (0.11267772629395284, 0.49463351226319296)\n"
     ]
    },
    {
     "name": "stderr",
     "output_type": "stream",
     "text": [
      " 16%|█▋        | 18/110 [00:00<00:00, 135.97it/s]"
     ]
    },
    {
     "name": "stdout",
     "output_type": "stream",
     "text": [
      "# of sessions:  (110,)\n",
      "file missing /media/cat/4TBSSD/yuki/AQ2/tif_files/AQ2am_Dec9_30Hz/AQ2am_Dec9_30Hz_locanmf.npz\n",
      "file missing /media/cat/4TBSSD/yuki/AQ2/tif_files/AQ2am_Dec10_30Hz/AQ2am_Dec10_30Hz_locanmf.npz\n",
      "file missing /media/cat/4TBSSD/yuki/AQ2/tif_files/AQ2pm_Dec10_30Hz/AQ2pm_Dec10_30Hz_locanmf.npz\n",
      "file missing /media/cat/4TBSSD/yuki/AQ2/tif_files/AQ2am_Dec11_30Hz/AQ2am_Dec11_30Hz_locanmf.npz\n",
      "  # trials  (9, 16, 1801)\n",
      "file missing /media/cat/4TBSSD/yuki/AQ2/tif_files/AQ2am_Dec14_30Hz/AQ2am_Dec14_30Hz_locanmf.npz\n",
      "  # trials  (26, 16, 1801)\n",
      "  # trials  (21, 16, 1801)\n",
      "file missing /media/cat/4TBSSD/yuki/AQ2/tif_files/AQ2pm_Dec17_30Hz/AQ2pm_Dec17_30Hz_locanmf.npz\n",
      "file missing /media/cat/4TBSSD/yuki/AQ2/tif_files/AQ2am_Dec18_30Hz/AQ2am_Dec18_30Hz_locanmf.npz\n",
      "file missing /media/cat/4TBSSD/yuki/AQ2/tif_files/AQ2pm_Dec18_30Hz/AQ2pm_Dec18_30Hz_locanmf.npz\n",
      "file missing /media/cat/4TBSSD/yuki/AQ2/tif_files/AQ2am_Dec21_30Hz/AQ2am_Dec21_30Hz_locanmf.npz\n",
      "file missing /media/cat/4TBSSD/yuki/AQ2/tif_files/AQ2am_Dec22_30Hz/AQ2am_Dec22_30Hz_locanmf.npz\n",
      "file missing /media/cat/4TBSSD/yuki/AQ2/tif_files/AQ2am_Dec23_30Hz/AQ2am_Dec23_30Hz_locanmf.npz\n",
      "  # trials  (24, 16, 1801)\n",
      "  # trials  (33, 16, 1801)\n",
      "file missing /media/cat/4TBSSD/yuki/AQ2/tif_files/AQ2am_Dec30_30Hz/AQ2am_Dec30_30Hz_locanmf.npz\n",
      "  # trials  (65, 16, 1801)\n",
      "  # trials  (52, 16, 1801)\n",
      "  # trials  (51, 16, 1801)\n"
     ]
    },
    {
     "name": "stderr",
     "output_type": "stream",
     "text": [
      "\r",
      " 29%|██▉       | 32/110 [00:00<00:01, 74.77it/s] "
     ]
    },
    {
     "name": "stdout",
     "output_type": "stream",
     "text": [
      "  # trials  (59, 16, 1801)\n",
      "file missing /media/cat/4TBSSD/yuki/AQ2/tif_files/AQ2am_Jan7_30Hz/AQ2am_Jan7_30Hz_locanmf.npz\n",
      "  # trials  (27, 16, 1801)\n",
      "  # trials  (17, 16, 1801)\n",
      "file missing /media/cat/4TBSSD/yuki/AQ2/tif_files/AQ2am_Jan11_30Hz/AQ2am_Jan11_30Hz_locanmf.npz\n",
      "file missing /media/cat/4TBSSD/yuki/AQ2/tif_files/AQ2pm_Jan12_30Hz/AQ2pm_Jan12_30Hz_locanmf.npz\n",
      "file missing /media/cat/4TBSSD/yuki/AQ2/tif_files/AQ2am_Jan12_30Hz/AQ2am_Jan12_30Hz_locanmf.npz\n",
      "  # trials  (37, 16, 1801)\n",
      "  # trials  (54, 16, 1801)\n",
      "  # trials  (37, 16, 1801)\n",
      "  # trials  (42, 16, 1801)\n",
      "  # trials  (26, 16, 1801)\n",
      "  # trials  (70, 16, 1801)\n"
     ]
    },
    {
     "name": "stderr",
     "output_type": "stream",
     "text": [
      "\r",
      " 45%|████▌     | 50/110 [00:00<00:00, 99.34it/s]"
     ]
    },
    {
     "name": "stdout",
     "output_type": "stream",
     "text": [
      "file missing /media/cat/4TBSSD/yuki/AQ2/tif_files/AQ2pm_Jan18_30Hz/AQ2pm_Jan18_30Hz_locanmf.npz\n",
      "  # trials  (12, 16, 1801)\n",
      "file missing /media/cat/4TBSSD/yuki/AQ2/tif_files/AQ2am_Jan19_30Hz/AQ2am_Jan19_30Hz_locanmf.npz\n",
      "file missing /media/cat/4TBSSD/yuki/AQ2/tif_files/AQ2pm_Jan19_30Hz/AQ2pm_Jan19_30Hz_locanmf.npz\n",
      "file missing /media/cat/4TBSSD/yuki/AQ2/tif_files/AQ2pm_Jan20_30Hz/AQ2pm_Jan20_30Hz_locanmf.npz\n",
      "file missing /media/cat/4TBSSD/yuki/AQ2/tif_files/AQ2am_Jan20_30Hz/AQ2am_Jan20_30Hz_locanmf.npz\n",
      "file missing /media/cat/4TBSSD/yuki/AQ2/tif_files/AQ2pm_Jan21_30Hz/AQ2pm_Jan21_30Hz_locanmf.npz\n",
      "file missing /media/cat/4TBSSD/yuki/AQ2/tif_files/AQ2am_Jan21_30Hz/AQ2am_Jan21_30Hz_locanmf.npz\n",
      "file missing /media/cat/4TBSSD/yuki/AQ2/tif_files/AQ2pm_Jan22_30Hz/AQ2pm_Jan22_30Hz_locanmf.npz\n",
      "file missing /media/cat/4TBSSD/yuki/AQ2/tif_files/AQ2am_Jan22_30Hz/AQ2am_Jan22_30Hz_locanmf.npz\n",
      "file missing /media/cat/4TBSSD/yuki/AQ2/tif_files/AQ2am_Jan25_30Hz/AQ2am_Jan25_30Hz_locanmf.npz\n",
      "file missing /media/cat/4TBSSD/yuki/AQ2/tif_files/AQ2pm_Jan25_30Hz/AQ2pm_Jan25_30Hz_locanmf.npz\n",
      "file missing /media/cat/4TBSSD/yuki/AQ2/tif_files/AQ2pm_Jan26_30Hz/AQ2pm_Jan26_30Hz_locanmf.npz\n",
      "file missing /media/cat/4TBSSD/yuki/AQ2/tif_files/AQ2am_Jan26_30Hz/AQ2am_Jan26_30Hz_locanmf.npz\n",
      "file missing /media/cat/4TBSSD/yuki/AQ2/tif_files/AQ2am_Jan27_30Hz/AQ2am_Jan27_30Hz_locanmf.npz\n",
      "  # trials  (55, 16, 1801)\n",
      "  # trials  (46, 16, 1801)\n",
      "  # trials  (60, 16, 1801)\n",
      "  # trials  (41, 16, 1801)\n",
      "  # trials  (50, 16, 1801)\n",
      "  # trials  (67, 16, 1801)\n",
      "  # trials  (78, 16, 1801)\n",
      "  # trials  (21, 16, 1801)\n",
      "  # trials  (74, 16, 1801)\n",
      "  # trials  (91, 16, 1801)\n",
      "  # trials  (93, 16, 1801)\n",
      "  # trials  (131, 16, 1801)\n",
      "  # trials  (184, 16, 1801)\n"
     ]
    },
    {
     "name": "stderr",
     "output_type": "stream",
     "text": [
      "\r",
      " 56%|█████▋    | 62/110 [00:01<00:01, 41.12it/s]"
     ]
    },
    {
     "name": "stdout",
     "output_type": "stream",
     "text": [
      "  # trials  (157, 16, 1801)\n",
      "  # trials  (145, 16, 1801)\n",
      "  # trials  (104, 16, 1801)\n",
      "file missing /media/cat/4TBSSD/yuki/AQ2/tif_files/AQ2am_Feb18_30Hz/AQ2am_Feb18_30Hz_locanmf.npz\n",
      "  # trials  (96, 16, 1801)\n",
      "  # trials  (144, 16, 1801)\n",
      "  # trials  (120, 16, 1801)\n",
      "file missing /media/cat/4TBSSD/yuki/AQ2/tif_files/AQ2am_Feb25_30Hz/AQ2am_Feb25_30Hz_locanmf.npz\n"
     ]
    },
    {
     "name": "stderr",
     "output_type": "stream",
     "text": [
      "\r",
      " 64%|██████▎   | 70/110 [00:01<00:01, 31.91it/s]"
     ]
    },
    {
     "name": "stdout",
     "output_type": "stream",
     "text": [
      "  # trials  (92, 16, 1801)\n",
      "  # trials  (90, 16, 1801)\n",
      "  # trials  (125, 16, 1801)\n",
      "  # trials  (58, 16, 1801)\n"
     ]
    },
    {
     "name": "stderr",
     "output_type": "stream",
     "text": [
      "\r",
      " 69%|██████▉   | 76/110 [00:01<00:01, 26.97it/s]"
     ]
    },
    {
     "name": "stdout",
     "output_type": "stream",
     "text": [
      "  # trials  (129, 16, 1801)\n",
      "  # trials  (109, 16, 1801)\n",
      "  # trials  (70, 16, 1801)\n",
      "  # trials  (99, 16, 1801)\n",
      "  # trials  (103, 16, 1801)\n",
      "  # trials  (143, 16, 1801)\n",
      "  # trials  (122, 16, 1801)\n"
     ]
    },
    {
     "name": "stderr",
     "output_type": "stream",
     "text": [
      "\r",
      " 74%|███████▎  | 81/110 [00:02<00:01, 23.21it/s]"
     ]
    },
    {
     "name": "stdout",
     "output_type": "stream",
     "text": [
      "  # trials  (104, 16, 1801)\n",
      "  # trials  (139, 16, 1801)\n",
      "  # trials  (47, 16, 1801)\n",
      "  # trials  (64, 16, 1801)\n"
     ]
    },
    {
     "name": "stderr",
     "output_type": "stream",
     "text": [
      "\r",
      " 77%|███████▋  | 85/110 [00:02<00:01, 22.38it/s]"
     ]
    },
    {
     "name": "stdout",
     "output_type": "stream",
     "text": [
      "  # trials  (84, 16, 1801)\n",
      "  # trials  (124, 16, 1801)\n",
      "  # trials  (91, 16, 1801)\n"
     ]
    },
    {
     "name": "stderr",
     "output_type": "stream",
     "text": [
      "\r",
      " 80%|████████  | 88/110 [00:02<00:01, 20.32it/s]"
     ]
    },
    {
     "name": "stdout",
     "output_type": "stream",
     "text": [
      "  # trials  (147, 16, 1801)\n",
      "  # trials  (114, 16, 1801)\n",
      "  # trials  (137, 16, 1801)\n"
     ]
    },
    {
     "name": "stderr",
     "output_type": "stream",
     "text": [
      "\r",
      " 83%|████████▎ | 91/110 [00:02<00:01, 17.93it/s]"
     ]
    },
    {
     "name": "stdout",
     "output_type": "stream",
     "text": [
      "  # trials  (127, 16, 1801)\n",
      "  # trials  (100, 16, 1801)\n",
      "  # trials  (117, 16, 1801)\n",
      "  # trials  (93, 16, 1801)\n"
     ]
    },
    {
     "name": "stderr",
     "output_type": "stream",
     "text": [
      " 87%|████████▋ | 96/110 [00:03<00:00, 16.52it/s]"
     ]
    },
    {
     "name": "stdout",
     "output_type": "stream",
     "text": [
      "  # trials  (104, 16, 1801)\n",
      "  # trials  (142, 16, 1801)\n",
      "  # trials  (94, 16, 1801)\n",
      "file missing /media/cat/4TBSSD/yuki/AQ2/tif_files/AQ2am_Apr13_Week6_30Hz/AQ2am_Apr13_Week6_30Hz_locanmf.npz\n"
     ]
    },
    {
     "name": "stderr",
     "output_type": "stream",
     "text": [
      " 93%|█████████▎| 102/110 [00:03<00:00, 18.95it/s]"
     ]
    },
    {
     "name": "stdout",
     "output_type": "stream",
     "text": [
      "  # trials  (98, 16, 1801)\n",
      "  # trials  (83, 16, 1801)\n",
      "  # trials  (77, 16, 1801)\n",
      "  # trials  (70, 16, 1801)\n",
      "  # trials  (69, 16, 1801)\n"
     ]
    },
    {
     "name": "stderr",
     "output_type": "stream",
     "text": [
      "\r",
      " 95%|█████████▌| 105/110 [00:03<00:00, 19.15it/s]"
     ]
    },
    {
     "name": "stdout",
     "output_type": "stream",
     "text": [
      "  # trials  (52, 16, 1801)\n",
      "  # trials  (121, 16, 1801)\n",
      "  # trials  (114, 16, 1801)\n"
     ]
    },
    {
     "name": "stderr",
     "output_type": "stream",
     "text": [
      " 99%|█████████▉| 109/110 [00:04<00:00, 16.62it/s]"
     ]
    },
    {
     "name": "stdout",
     "output_type": "stream",
     "text": [
      "  # trials  (112, 16, 1801)\n",
      "  # trials  (138, 16, 1801)\n",
      "  # trials  (86, 16, 1801)\n"
     ]
    },
    {
     "name": "stderr",
     "output_type": "stream",
     "text": [
      "100%|██████████| 110/110 [00:04<00:00, 26.91it/s]\n"
     ]
    },
    {
     "name": "stdout",
     "output_type": "stream",
     "text": [
      "  # trials  (82, 16, 1801)\n",
      "# good sessions:  77\n",
      "['Primary visual area, layer 1 - left'\n",
      " 'Primary somatosensory area, upper limb, layer 1 - left'\n",
      " 'Primary motor area, Layer 1 - left'\n",
      " 'Retrosplenial area, dorsal part, layer 1 - left']\n",
      "(77, 4, 451)\n",
      "0 V1L  y shape:  (77,)\n",
      "0 corr (0.19705950898847968, 0.08583406455828445)\n",
      "1 SomFL  y shape:  (77,)\n",
      "1 corr (0.11737700598252548, 0.30931907907670614)\n",
      "2 M1L  y shape:  (77,)\n",
      "2 corr (-0.11510223939037657, 0.31885398273169263)\n",
      "3 RDL  y shape:  (77,)\n",
      "3 corr (0.11999855653007875, 0.2985620215174832)\n"
     ]
    }
   ],
   "source": [
    "########################################################\n",
    "########################################################\n",
    "#########################################################\n",
    "def plot_box_plots(peaks):\n",
    "    \n",
    "    # \n",
    "    codes = ['Retrosplenial', 'barrel', 'limb', 'visual','motor']\n",
    "    #codes = ['limb, layer 1 - right', 'limb, layer 1 - left']\n",
    "    clrs_local = ['black','blue','red','magenta', 'pink','brown']\n",
    "    \n",
    "    # \n",
    "    #bin_width = 0.01\n",
    "    #bins = np.arange(0.1,2.0,bin_width)\n",
    "\n",
    "    # \n",
    "    edts = []\n",
    "    for a in range(len(peaks)):\n",
    "        good_vals = np.hstack(peaks[a])\n",
    "        edts.append(good_vals)\n",
    "#     # \n",
    "    roi_names = ['V1-L',\n",
    "     'SomF-L',\n",
    "     'M1-L',\n",
    "     'RD-L']\n",
    "    my_dict = dict(V1L = edts[0], \n",
    "                   SomFL = edts[1],\n",
    "                   M1L = edts[2],\n",
    "                   RDL = edts[3],\n",
    "#                    M5 = edts[4],                      \n",
    "#                    M6 = edts[5]\n",
    "                     )\n",
    "\n",
    "    data = pd.DataFrame.from_dict(my_dict, orient='index')\n",
    "    data = data.transpose()\n",
    "\n",
    "    # \n",
    "    flierprops = dict(marker='o', \n",
    "                      #markerfacecolor='g', \n",
    "                      #markersize=10000,\n",
    "                      linestyle='none', \n",
    "                      markeredgecolor='r')\n",
    "\n",
    "    #\n",
    "    data.boxplot(showfliers=False,\n",
    "                flierprops=flierprops)\n",
    "\n",
    "    # manually define a new patch \n",
    "    labels = []\n",
    "    for i,d in enumerate(data):\n",
    "        y = data[d]#+np.random.uniform(data[d].shape[0])/200.-1/400.\n",
    "        x = np.random.normal(i+1, 0.04, len(y))\n",
    "\n",
    "        #\n",
    "        colors = plt.cm.viridis(np.linspace(0,1,len(edts[i])))\n",
    "        x = np.random.normal(i+1, 0.04, len(edts[i]))\n",
    "        print (i,d, ' y shape: ', y.shape)\n",
    "        plt.scatter(x, edts[i], \n",
    "                   #c=clrs_local[i],\n",
    "                   c=colors,\n",
    "                   edgecolor='black',\n",
    "                   s=200,\n",
    "                   #alpha=np.linspace(.2, 1.0, x.shape[0])\n",
    "                   alpha=.5\n",
    "                   )\n",
    "        \n",
    "        # compute correlation between time and location\n",
    "        from scipy import stats\n",
    "        # Y and Z are numpy arrays or lists of variables \n",
    "        #print (np.arange(edts[i]).shape, y.shape)\n",
    "        corr = stats.pearsonr(np.arange(y.shape[0]), y)\n",
    "        #res = scipy.stats.normaltest(edts[i])\n",
    "        print (i, \"corr\", corr)\n",
    "        \n",
    "        # \n",
    "        patch = mpatches.Patch(color='grey', label=roi_names[i]+ \":  \"+str(round(corr[0],2)))\n",
    "\n",
    "        # handles is a list, so append manual patch\n",
    "        labels.append(patch) \n",
    "\n",
    "        # plot the legend\n",
    "    plt.legend(handles=labels, loc='upper center')\n",
    "\n",
    "    \n",
    "    \n",
    "        \n",
    "    plt.xticks([])\n",
    "    plt.yticks([])\n",
    "    \n",
    "    plt.semilogy()\n",
    "    plt.ylim(1E-5,1E-1)\n",
    "    \n",
    "    \n",
    "##############################################################\n",
    "session_name = 'all'\n",
    "root_dir = '/media/cat/4TBSSD/yuki/'\n",
    "\n",
    "plot_peak_frequency = True\n",
    "plot_peak_power = False\n",
    "animal_ids = ['IA1','IA2','IA3','IJ1','IJ2','AQ2']\n",
    "for animal_id in animal_ids:\n",
    "\n",
    "    ##############################################\n",
    "    ########### GET LOCA COMPONENTS ##############\n",
    "    ##############################################\n",
    "    loca = analysis_fig4.LocaNMFClass(root_dir, animal_id, session_name)\n",
    "\n",
    "    #\n",
    "    loca.get_sessions(session_name)\n",
    "    print (\"# of sessions: \", loca.sessions.shape)\n",
    "\n",
    "    all_means = []\n",
    "    n_trials = []\n",
    "    saved_names = []\n",
    "    all_means_random = []\n",
    "    good_sessions = []\n",
    "    for session in tqdm(loca.sessions):\n",
    "\n",
    "        # load data\n",
    "        fname_locaNMF = os.path.join(root_dir, animal_id, 'tif_files',session,\n",
    "                                     session + '_locanmf.npz')\n",
    "        atlas, areas, names, locaNMF_temporal, random = load_locaNMF_data(fname_locaNMF)\n",
    "\n",
    "        # \n",
    "        if atlas is not None:\n",
    "            means, var = variance_locaNMF(locaNMF_temporal)\n",
    "            n_trials.append(locaNMF_temporal.shape[0])\n",
    "            all_means.append(means)\n",
    "\n",
    "            means, var = variance_locaNMF(random)\n",
    "            all_means_random.append(means)\n",
    "\n",
    "            saved_names = names\n",
    "            good_sessions.append(session)\n",
    "    \n",
    "    print (\"# good sessions: \", len(good_sessions))\n",
    "    \n",
    "    \n",
    "    \n",
    "    \n",
    "    ##############################################\n",
    "    ########### GET SPECTRA ######################\n",
    "    ##############################################\n",
    "    fs = 30\n",
    "    plotting=False\n",
    "    selected_areas = [11,9,1,15]\n",
    "    print (saved_names[selected_areas])\n",
    "    all_areas = np.arange(all_means[0].shape[0])\n",
    "\n",
    "    #\n",
    "    spectra = plot_spectra_longintudinally(colors, plotting, fs, selected_areas, \n",
    "                                all_areas,\n",
    "                                all_means,\n",
    "                                all_means_random)\n",
    "\n",
    "    #####################################\n",
    "    ########### PLOT POWER ##############\n",
    "    #####################################\n",
    "    print (spectra.shape)\n",
    "    x = np.arange(0,451,1)/30.\n",
    "\n",
    "    peaks = []\n",
    "    for a in range(spectra.shape[1]):\n",
    "        peaks.append([])\n",
    "        for s in range(spectra.shape[0]):\n",
    "            temp = spectra[s,a]\n",
    "            argmax = np.argmax(temp)\n",
    "\n",
    "            # plot peak frequency\n",
    "            if plot_peak_frequency:\n",
    "                peaks[a].append(x[argmax])\n",
    "            # plot frequency power\n",
    "            elif plot_peak_power:\n",
    "                peaks[a].append(temp[argmax])\n",
    "\n",
    "    ############\n",
    "    fig = plt.figure(figsize=(15,10))\n",
    "    plot_box_plots(peaks)\n",
    "    \n",
    "\n",
    "    if True:\n",
    "        plt.savefig('/home/cat/'+animal_id+'_peakpower.svg')\n",
    "        plt.close()\n",
    "    else:\n",
    "        plt.show()"
   ]
  },
  {
   "cell_type": "code",
   "execution_count": null,
   "metadata": {},
   "outputs": [],
   "source": []
  },
  {
   "cell_type": "code",
   "execution_count": null,
   "metadata": {},
   "outputs": [],
   "source": []
  },
  {
   "cell_type": "code",
   "execution_count": null,
   "metadata": {},
   "outputs": [],
   "source": []
  },
  {
   "cell_type": "code",
   "execution_count": null,
   "metadata": {},
   "outputs": [],
   "source": []
  },
  {
   "cell_type": "code",
   "execution_count": null,
   "metadata": {},
   "outputs": [],
   "source": []
  },
  {
   "cell_type": "code",
   "execution_count": null,
   "metadata": {},
   "outputs": [],
   "source": []
  },
  {
   "cell_type": "code",
   "execution_count": 50,
   "metadata": {},
   "outputs": [],
   "source": [
    "a = np.array([[0,1]])\n",
    "plt.figure(figsize=(1.5,9))\n",
    "img = plt.imshow(a, cmap=\"viridis\")\n",
    "plt.gca().set_visible(False)\n",
    "cax = plt.axes([0.1, 0.2, 0.8, 0.6])\n",
    "plt.colorbar(orientation=\"vertical\", cax=cax)\n",
    "plt.savefig(\"/home/cat/colorbar.svg\")\n",
    "plt.close()"
   ]
  },
  {
   "cell_type": "code",
   "execution_count": 105,
   "metadata": {},
   "outputs": [
    {
     "name": "stdout",
     "output_type": "stream",
     "text": [
      "# of sessions:  (110,)\n",
      "fname:  /media/cat/4TBSSD/yuki/AQ2/tif_files/AQ2am_Dec29_30Hz/AQ2am_Dec29_30Hz_locanmf.npz\n",
      "  # trials  (33, 16, 1801)\n"
     ]
    }
   ],
   "source": [
    "###############################\n",
    "###### VARIANCE ANALYSIS ######\n",
    "###############################\n",
    "\n",
    "\n",
    "animal_id = 'AQ2'\n",
    "session_name = 'all'\n",
    "root_dir = '/media/cat/4TBSSD/yuki/'\n",
    "\n",
    "\n",
    "# \n",
    "loca = analysis_fig4.LocaNMFClass(root_dir, animal_id, session_name)\n",
    "\n",
    "#\n",
    "loca.get_sessions(session_name)\n",
    "print (\"# of sessions: \", loca.sessions.shape)\n",
    "\n",
    "session_id = 15\n",
    "session = loca.sessions[session_id]\n",
    "    \n",
    "# load data\n",
    "fname_locaNMF = os.path.join(root_dir, animal_id, 'tif_files',session,\n",
    "                             session + '_locanmf.npz')\n",
    "\n",
    "print (\"fname: \", fname_locaNMF)\n",
    "atlas, areas, names, locaNMF_temporal, random = load_locaNMF_data(fname_locaNMF)\n",
    "\n",
    "# \n",
    "if atlas is not None:\n",
    "    means, var = variance_locaNMF(locaNMF_temporal)\n",
    "    n_trials.append(locaNMF_temporal.shape[0])\n",
    "    all_means.append(means)\n",
    "\n",
    "    means, var = variance_locaNMF(locaNMF_temporal)\n",
    "    all_means_random.append(means)\n",
    "\n",
    "    saved_names = names\n",
    "    \n",
    "    fig = plt.figure()\n",
    "    plot_variance_locaNMF(fig, var)\n",
    "    \n",
    "else:\n",
    "    print ('session not good')"
   ]
  },
  {
   "cell_type": "code",
   "execution_count": null,
   "metadata": {},
   "outputs": [],
   "source": []
  },
  {
   "cell_type": "code",
   "execution_count": null,
   "metadata": {},
   "outputs": [],
   "source": []
  },
  {
   "cell_type": "code",
   "execution_count": null,
   "metadata": {},
   "outputs": [],
   "source": [
    "###################################################\n",
    "############ PLOT MEANS AND VARIANCES #############\n",
    "###################################################\n",
    "# \n",
    "animal_id = 'IJ1'\n",
    "session_name = 'all'\n",
    "root_dir = '/media/cat/4TBSSD/yuki/'\n",
    "\n",
    "session_ids = [0,17,25,42]\n",
    "\n",
    "colors = plt.cm.viridis(np.linspace(0,1,len(session_ids)))\n",
    "\n",
    "random_flag = False\n",
    "################################################ \n",
    "fig=plt.figure(figsize=(10,10))\n",
    "for ctr,session_id in enumerate(session_ids):\n",
    "    print \n",
    "\n",
    "    loca = load_locaNMF_temporal(animal_id, \n",
    "                                  session_name, \n",
    "                                  root_dir,\n",
    "                                  session_id)\n",
    "\n",
    "    # if using random data\n",
    "    if random_flag:\n",
    "        loca.locaNMF_temporal = loca.locaNMF_temporal_random\n",
    "        \n",
    "    ###################################################\n",
    "    if atlas is not None:\n",
    "        #print (\"areas: \", areas)\n",
    "        #print (\"names: \", names)\n",
    "\n",
    "        area_sel = 'upper limb, layer 1 - left'\n",
    "        areas_selected = []\n",
    "        for k in range(len(names)):\n",
    "            #print (\"areas\", names[k])\n",
    "            if area_sel in loca.names[k]:\n",
    "                areas_selected.append(k)\n",
    "\n",
    "        areas_selected = np.array(areas_selected)\n",
    "        locaNMF_temporal = locaNMF_temporal[:,areas_selected]\n",
    "\n",
    "        ##########################################\n",
    "\n",
    "        ax=plt.subplot(2,1,1)\n",
    "        clr = colors[ctr]\n",
    "\n",
    "        plot_locanmf_temporal_averages(fig, \n",
    "                                       locaNMF_temporal,\n",
    "                                      clr)\n",
    "        plt.xlim(-15,0)\n",
    "\n",
    "\n",
    "        ####################################################\n",
    "        means, var = variance_locaNMF(locaNMF_temporal)\n",
    "        all_means_random.append(means)\n",
    "\n",
    "        saved_names = names\n",
    "        ax=plt.subplot(2,1,2)\n",
    "        plot_variance_locaNMF(fig, var,\n",
    "                             clr)\n",
    "        plt.xlim(-15,0)\n",
    "\n",
    "        #plt.show()\n",
    "\n",
    "if True:\n",
    "    plt.savefig('/home/cat/means_vars.svg')\n",
    "    plt.close()\n",
    "else:\n",
    "    plt.show()"
   ]
  },
  {
   "cell_type": "code",
   "execution_count": null,
   "metadata": {},
   "outputs": [],
   "source": []
  },
  {
   "cell_type": "code",
   "execution_count": null,
   "metadata": {},
   "outputs": [],
   "source": []
  },
  {
   "cell_type": "code",
   "execution_count": null,
   "metadata": {},
   "outputs": [],
   "source": []
  },
  {
   "cell_type": "code",
   "execution_count": null,
   "metadata": {},
   "outputs": [],
   "source": []
  },
  {
   "cell_type": "code",
   "execution_count": null,
   "metadata": {},
   "outputs": [],
   "source": []
  },
  {
   "cell_type": "code",
   "execution_count": null,
   "metadata": {},
   "outputs": [],
   "source": []
  },
  {
   "cell_type": "code",
   "execution_count": null,
   "metadata": {},
   "outputs": [],
   "source": []
  },
  {
   "cell_type": "code",
   "execution_count": null,
   "metadata": {},
   "outputs": [],
   "source": []
  },
  {
   "cell_type": "code",
   "execution_count": null,
   "metadata": {},
   "outputs": [],
   "source": []
  },
  {
   "cell_type": "code",
   "execution_count": null,
   "metadata": {},
   "outputs": [],
   "source": []
  },
  {
   "cell_type": "code",
   "execution_count": null,
   "metadata": {},
   "outputs": [],
   "source": []
  },
  {
   "cell_type": "code",
   "execution_count": 37,
   "metadata": {},
   "outputs": [
    {
     "name": "stdout",
     "output_type": "stream",
     "text": [
      "(34, 16, 1801)\n"
     ]
    }
   ],
   "source": [
    "\n",
    "data = np.load('/media/cat/4TBSSD/yuki/IA3/tif_files/IA3am_Mar15_30Hz/IA3am_Mar15_30Hz_locanmf.npz',\n",
    "              allow_pickle=True)\n",
    "\n",
    "A_reshape = data['A_reshape']\n",
    "temp = data['temporal_trial']\n",
    "names = data['areanames_area']\n",
    "\n",
    "print (temp.shape)\n",
    "mean = temp.mean(0)\n",
    "\n",
    "\n",
    "fig=plt.figure()\n",
    "for i in range(A_reshape.shape[2]):\n",
    "    plt.subplot(4,4,i+1)\n",
    "    plt.imshow(A_reshape[:,:,i])\n",
    "    plt.xticks([])\n",
    "    plt.yticks([])\n",
    "    plt.title(names[i],fontsize=6)\n",
    "plt.tight_layout(h_pad=0.5,w_pad=0.5)\n",
    "plt.show()\n",
    "\n",
    "\n"
   ]
  },
  {
   "cell_type": "code",
   "execution_count": 24,
   "metadata": {},
   "outputs": [
    {
     "name": "stdout",
     "output_type": "stream",
     "text": [
      "(11, 16, 1801)\n"
     ]
    }
   ],
   "source": [
    "\n",
    "for k in range(mean.shape[0]):\n",
    "    plt.plot(mean[k,:900]+k*.1)\n",
    "plt.show()"
   ]
  },
  {
   "cell_type": "code",
   "execution_count": null,
   "metadata": {},
   "outputs": [],
   "source": []
  },
  {
   "cell_type": "code",
   "execution_count": null,
   "metadata": {},
   "outputs": [],
   "source": []
  },
  {
   "cell_type": "code",
   "execution_count": null,
   "metadata": {},
   "outputs": [],
   "source": []
  },
  {
   "cell_type": "code",
   "execution_count": null,
   "metadata": {},
   "outputs": [],
   "source": []
  },
  {
   "cell_type": "code",
   "execution_count": null,
   "metadata": {},
   "outputs": [],
   "source": []
  }
 ],
 "metadata": {
  "kernelspec": {
   "display_name": "Python 3",
   "language": "python",
   "name": "python3"
  },
  "language_info": {
   "codemirror_mode": {
    "name": "ipython",
    "version": 3
   },
   "file_extension": ".py",
   "mimetype": "text/x-python",
   "name": "python",
   "nbconvert_exporter": "python",
   "pygments_lexer": "ipython3",
   "version": "3.8.8"
  }
 },
 "nbformat": 4,
 "nbformat_minor": 4
}
