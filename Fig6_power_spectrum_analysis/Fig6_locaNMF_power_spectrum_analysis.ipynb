{
 "cells": [
  {
   "cell_type": "code",
   "execution_count": 1,
   "metadata": {},
   "outputs": [
    {
     "data": {
      "application/javascript": [
       "IPython.notebook.set_autosave_interval(180000)"
      ]
     },
     "metadata": {},
     "output_type": "display_data"
    },
    {
     "name": "stdout",
     "output_type": "stream",
     "text": [
      "Autosaving every 180 seconds\n"
     ]
    }
   ],
   "source": [
    "import matplotlib\n",
    "#matplotlib.use('Agg')\n",
    "%matplotlib tk\n",
    "%autosave 180\n",
    "\n",
    "%load_ext autoreload\n",
    "%reload_ext autoreload\n",
    "%autoreload 2\n",
    "\n",
    "# \n",
    "import sys\n",
    "sys.path.append(\"/home/cat/code/widefieldPredict/\") # Adds higher directory to python modules path.\n",
    "\n",
    "import h5py\n",
    "import numpy as np\n",
    "import scipy.io as sio\n",
    "import matplotlib.pyplot as plt\n",
    "from sklearn.cross_decomposition import CCA\n",
    "import torch\n",
    "from tqdm import tqdm\n",
    "\n",
    "import os\n",
    "import time\n",
    "import warnings\n",
    "warnings.filterwarnings(\"ignore\")\n",
    "\n",
    "from locanmf import LocaNMF, postprocess\n",
    "from locanmf import analysis_fig4 \n",
    "\n",
    "from scipy import signal\n",
    "from scipy.fft import fftshift\n",
    "from scipy.signal import savgol_filter\n",
    "from numpy.polynomial import polynomial as P\n",
    "from scipy.signal import argrelmax\n"
   ]
  },
  {
   "cell_type": "code",
   "execution_count": 9,
   "metadata": {},
   "outputs": [],
   "source": [
    "\n",
    "def load_raw_data(spatial_fname, temporal_fname):\n",
    "    # GRAB AND RECONSTRUCT DATA\n",
    "    spatial = np.load(spatial_fname) \n",
    "    temporal = np.load(temporal_fname)\n",
    "    temporal = temporal.transpose(0,2,1)\n",
    "\n",
    "    #\n",
    "    print (spatial.shape)\n",
    "    print (temporal.shape)\n",
    "\n",
    "    #\n",
    "    print (\"reconstructing data: \")\n",
    "    data = np.matmul( temporal, spatial)\n",
    "    print (data.shape)\n",
    "\n",
    "    #\n",
    "    print (\"getting mean of data: \")\n",
    "    data_mean = data.mean(0)\n",
    "    print (\"data_mean: \", data_mean.shape)\n",
    "    # compute variance in raw data- not used\n",
    "    # var = np.var(data2d, axis=0)\n",
    "    # print (\"var: \", var.shape)\n",
    "\n",
    "    ######################################\n",
    "    ###### COMPUTE RAW ROI ACTIVITY ######\n",
    "    ######################################\n",
    "    data2D = data_mean.reshape(data_mean.shape[0], 128,128)\n",
    "    print (\"Data mean 2D: \", data2D.shape)\n",
    "\n",
    "    # \n",
    "    means = []\n",
    "    ctr=0\n",
    "    for id_ in ordered_names:\n",
    "        area_id = areas[id_]\n",
    "        idx = np.where(atlas==area_id)\n",
    "        print (ctr, \"areaId: \", area_id, names[id_], idx[0].shape)\n",
    "        mask = np.zeros((128,128),'float32') + np.nan\n",
    "        mask[idx] = 1\n",
    "\n",
    "        temp = data2D*mask\n",
    "        roi = np.nanmean(temp, axis=1)\n",
    "        roi = np.nanmean(roi, axis=1)\n",
    "        means.append(roi)\n",
    "\n",
    "        ctr+=1   \n",
    "\n",
    "    #\n",
    "    raw_means = np.array(means)\n",
    "    print (\"Raw data means: \", raw_means.shape)\n",
    "\n",
    "    return raw_means\n",
    "\n",
    "\n",
    "\n",
    "def load_locaNMF_data(fname_locaNMF):\n",
    "    # order locaNMF components by plot color ORDER in Fig 4A\n",
    "    ordered_names = np.array([15,0,14,1,   # retrosplenial areas\n",
    "                              13,2,\n",
    "                              12,3,\n",
    "                              11,4,\n",
    "                              10,5,\n",
    "                              9,6,\n",
    "                              8,7])[::-1]\n",
    "\n",
    "\n",
    "    # load raw data\n",
    "    try:\n",
    "        d = np.load(fname_locaNMF)\n",
    "    except:\n",
    "        print (\"file missing\", fname_locaNMF)\n",
    "        return None, None, None, None, None\n",
    "        \n",
    "    locaNMF_temporal = d['temporal_trial']\n",
    "    locaNMF_temporal_random = d['temporal_random']\n",
    "    locaNMF_temporal = locaNMF_temporal[:,ordered_names]\n",
    "    locaNMF_temporal_random = locaNMF_temporal_random[:,ordered_names]\n",
    "    #print (\"locanmf data: \", locaNMF_temporal.shape)\n",
    "\n",
    "    # \n",
    "    areas = d['areas'][ordered_names]\n",
    "    names = d['names'][ordered_names]\n",
    "    #print (\"original names: \", names.shape)\n",
    "\n",
    "    #\n",
    "    atlas = np.load('/media/cat/4TBSSD/yuki/yongxu/atlas_split.npy')\n",
    "    #print (\"atlas: \",atlas.shape)\n",
    "    # print (areas)\n",
    "    # print (names)\n",
    "\n",
    "    print (\"  # trials \", locaNMF_temporal.shape)\n",
    "    #print (\"ORDERED NAMES: \", names[ordered_names])\n",
    "\n",
    "    \n",
    "    return atlas, areas, names, locaNMF_temporal, locaNMF_temporal_random\n",
    "\n",
    "\n",
    "def plot_locanmf_vs_raw(locaNMF_temporal, raw_means):\n",
    "# FIg 2B locaNMF vs. raw\n",
    "\n",
    "    locaNMF_temporal_means_clip = np.mean(locaNMF_temporal,axis=0)[:,:900]\n",
    "    print ('locaNMF_temporal_means: ', \n",
    "            locaNMF_temporal_means_clip.shape)\n",
    "\n",
    "    # \n",
    "    raw_means_clip = raw_means[:,:900]\n",
    "    print ('raw temporal_means: ', raw_means.shape)\n",
    "\n",
    "    # \n",
    "    colors = plt.cm.jet(np.linspace(0,1,raw_means.shape[0]))\n",
    "    scale1 = 1\n",
    "    scale2 = scale4 = .075\n",
    "    scale3 = 1\n",
    "\n",
    "    #\n",
    "    t = np.arange(raw_means_clip.shape[1])/30-30\n",
    "    fig=plt.figure(figsize=(10,10))\n",
    "    linewidth=3\n",
    "    for k in range(raw_means.shape[0]):\n",
    "        ax1=plt.subplot(121)\n",
    "        plt.xticks([])\n",
    "        plt.yticks([])\n",
    "        plt.xlim(-15,0)\n",
    "        plt.ylim(-.1,1.25)\n",
    "\n",
    "        temp1 = raw_means_clip[k]#/np.max(raw_means[k])\n",
    "        if k==0:\n",
    "            plt.plot(t,temp1*scale1+k*scale2,c=colors[k], \n",
    "                     linewidth= linewidth, \n",
    "                     label = 'raw')\n",
    "        else:\n",
    "            plt.plot(t,temp1*scale1+k*scale2,c=colors[k], \n",
    "                     linewidth= linewidth)\n",
    "\n",
    "        #plt.plot([-15,0], [scale3+k*scale2, scale3+k*scale2],'--',c='black',alpha=.2)\n",
    "\n",
    "\n",
    "        # locanmf traces\n",
    "        temp2 = locaNMF_temporal_means_clip[k]#/np.max(locaNMF_temporal_means[k])\n",
    "\n",
    "        if k ==0: \n",
    "            plt.plot(t,temp2*scale3+k*scale2,'--',\n",
    "                     linewidth= linewidth, \n",
    "                     c=colors[k],\n",
    "                    label='locaNMF')\n",
    "        else:\n",
    "            plt.plot(t,temp2*scale3+k*scale2,'--',\n",
    "                     linewidth= linewidth, \n",
    "                     c=colors[k])\n",
    "\n",
    "        plt.plot([-15,0], [k*scale2,k*scale2],'--',c='black',alpha=.2)\n",
    "\n",
    "    #     # \n",
    "    #     ax2=plt.subplot(122)\n",
    "    #     plt.xlim(-15,0)\n",
    "    #     temp3 = temp2*scale3-temp1*scale1\n",
    "    #     plt.plot(t, temp3*scale3+k*scale4,'--', c=colors[k])\n",
    "\n",
    "    ax1.legend()\n",
    "    if False:\n",
    "        plt.savefig('/home/cat/fano.png',dpi=300)\n",
    "        plt.close()\n",
    "    else:\n",
    "        plt.show()       \n",
    "        \n",
    "\n",
    " \n",
    "        \n",
    "        \n",
    "#\n",
    "def variance_locaNMF(locaNMF_temporal):\n",
    "    # \n",
    "    t = np.arange(locaNMF_temporal.shape[2])/30 - 30\n",
    "    means = []\n",
    "    var = []\n",
    "    #for k in ordered_names:\n",
    "    for k in range(locaNMF_temporal.shape[1]):\n",
    "        temp = locaNMF_temporal[:,k].mean(0)\n",
    "        means.append(temp)\n",
    "\n",
    "        # \n",
    "        temp = np.var(locaNMF_temporal[:,k],axis=0)\n",
    "        var.append(temp)\n",
    "\n",
    "    #\n",
    "    means = np.array(means)#[:,:900]\n",
    "    var = np.array(var)#[:,:900]\n",
    "    #print (means.shape, var.shape)\n",
    "\n",
    "    return means, var\n",
    "\n",
    "\n",
    "\n",
    "def plot_longitudinal_roi_loca(n_trials, saved_names, all_means):\n",
    "    print ('n trials: ', n_trials)\n",
    "    colors = plt.cm.viridis(np.linspace(0,1,len(all_means)))\n",
    "    area_ids = [0,1,6,7,8,9,12,13]\n",
    "    time= np.arange(all_means[0].shape[1])/30-30.\n",
    "\n",
    "    #\n",
    "    ctr=1\n",
    "    min_trials = 10\n",
    "    aucs = []\n",
    "    saved = []\n",
    "    fig=plt.figure(figsize=(10,6))\n",
    "    for ctr, area_id in enumerate(area_ids): \n",
    "        ax = plt.subplot(2,4,ctr+1)\n",
    "\n",
    "        # \n",
    "        aucs.append([])\n",
    "        counter = 0\n",
    "        for t in range(len(all_means)):\n",
    "            temp = all_means[t][area_id]\n",
    "            if n_trials[t]<min_trials:\n",
    "                continue\n",
    "\n",
    "            if np.max(np.abs(temp))<0.2:\n",
    "                plt.plot(time, temp, \n",
    "                         color=colors[t],\n",
    "                        alpha=.8)\n",
    "\n",
    "                auc = np.nansum(np.abs(temp), axis=0)\n",
    "\n",
    "                aucs[ctr].append([t,auc])\n",
    "                counter+=1\n",
    "\n",
    "        print (ctr, 'area_id: ', area_id, counter)\n",
    "        # \n",
    "        #if ctr==5:\n",
    "\n",
    "        plt.xticks([])\n",
    "        plt.yticks([])\n",
    "        plt.xlim(-15,0)\n",
    "        plt.title(saved_names[area_id],fontsize=8)\n",
    "\n",
    "        # cmap = matplotlib.cm.viridis\n",
    "        #norm = matplotlib.colors.Normalize(vmin=5, vmax=10)\n",
    "\n",
    "        # cb1 = matplotlib.colorbar.ColorbarBase(ax, cmap=cmap,\n",
    "         #                               orientation='vertical')\n",
    "\n",
    "    #\n",
    "    if False:\n",
    "        plt.savefig('/home/cat/'+str(animal_id)+'_loca_longitudinal.png',dpi=300)\n",
    "        plt.close()\n",
    "    else:\n",
    "        plt.show()\n",
    "        \n",
    "        \n",
    "def plot_locanmf_temporal_averages(fig, \n",
    "                                   locaNMF_temporal,\n",
    "                                  clr):\n",
    "    locaNMF_temporal_means_clip = np.mean(locaNMF_temporal,axis=0)[:,:900]\n",
    "    print ('locaNMF_temporal_means: ', \n",
    "            locaNMF_temporal_means_clip.shape)\n",
    "\n",
    "    # \n",
    "    colors = plt.cm.jet(np.linspace(0,1,locaNMF_temporal_means_clip.shape[0]))\n",
    "    scale1 = 1\n",
    "    scale2 = scale4 = .075\n",
    "    scale3 = 1\n",
    "\n",
    "    #\n",
    "    t = np.arange(locaNMF_temporal_means_clip.shape[1])/30-30\n",
    "    linewidth=5\n",
    "    for k in range(locaNMF_temporal_means_clip.shape[0]):\n",
    "        #ax1=plt.subplot(121)\n",
    "        #plt.xticks([])\n",
    "        #plt.yticks([])\n",
    "        plt.xlim(-30,0)\n",
    "        #plt.ylim(-.1,1.25)\n",
    "\n",
    "        # locanmf traces\n",
    "        temp2 = locaNMF_temporal_means_clip[k]#/np.max(locaNMF_temporal_means[k])\n",
    "\n",
    "        if k ==0: \n",
    "            plt.plot(t,temp2*scale3+k*scale2,\n",
    "                     linewidth= linewidth, \n",
    "                     c=clr)\n",
    "        else:\n",
    "            plt.plot(t,temp2*scale3+k*scale2,\n",
    "                     linewidth= linewidth, \n",
    "                     c=clr)\n",
    "\n",
    "        plt.plot([-30,0], [k*scale2,k*scale2],'--',c='black',alpha=.2)\n",
    "\n",
    "    \n",
    "    \n",
    "##################\n",
    "def plot_variance_locaNMF(fig, var,\n",
    "                         clr):\n",
    "\n",
    "    scale1 = 1\n",
    "    scale2 = .004\n",
    "    linewidth=5\n",
    "    # scale3 = np.nan\n",
    "    t = np.arange(var.shape[1])/30-30\n",
    "    \n",
    "    \n",
    "    # \n",
    "    for k in range(var.shape[0]):\n",
    "        # \n",
    "        plt.xticks([])\n",
    "        #plt.yticks([])\n",
    "\n",
    "        # \n",
    "        temp = var[k]\n",
    "        temp = temp*scale1+k*scale2\n",
    "\n",
    "        # \n",
    "        plt.plot(t,temp, c=clr,\n",
    "                linewidth=linewidth)\n",
    "\n",
    "        plt.plot([-30,0], [k*scale2,k*scale2],'--',c='black',alpha=.5)\n",
    "\n",
    "        \n",
    "        # \n",
    "        mean2 = np.mean(temp)\n",
    "        plt.plot([-30,0], [mean2,mean2],'--',c=clr,alpha=.5)\n",
    "\n",
    "    # \n",
    "    plt.xlim(-30,0)\n",
    "\n",
    "\n",
    "def load_locaNMF_temporal(animal_id, session_name, root_dir,\n",
    "                         session_id):\n",
    "\n",
    "    loca = analysis_fig4.LocaNMFClass(root_dir, animal_id, session_name)\n",
    "\n",
    "    #\n",
    "    loca.get_sessions(session_name)\n",
    "    print (\"sessions: \", loca.sessions.shape)\n",
    "    print (\"selected session: \", loca.sessions[session_id])\n",
    "\n",
    "    session = loca.sessions[session_id]\n",
    "\n",
    "    # load data\n",
    "    fname_locaNMF = os.path.join(root_dir, animal_id, 'tif_files',session,\n",
    "                                 session + '_locanmf.npz')\n",
    "\n",
    "\n",
    "    atlas, areas, names, locaNMF_temporal, locaNMF_temporal_random = load_locaNMF_data(fname_locaNMF)\n",
    "\n",
    "    return atlas, areas, names, locaNMF_temporal, locaNMF_temporal_random \n",
    "    \n",
    "    "
   ]
  },
  {
   "cell_type": "code",
   "execution_count": 40,
   "metadata": {},
   "outputs": [
    {
     "name": "stdout",
     "output_type": "stream",
     "text": [
      "(47, 7, 900)\n"
     ]
    }
   ],
   "source": [
    "###############################################\n",
    "########### SHOW PCA OSCILLATIONS #############\n",
    "###############################################\n",
    "\n",
    "fname = '/media/cat/4TBSSD/yuki/IJ1/tif_files/IJ1pm_Mar2_30Hz/IJ1pm_Mar2_30Hz_code_04_trial_ROItimeCourses_30sec_pca_0.95.npy'\n",
    "#fname = '/media/cat/4TBSSD/yuki/IJ1/tif_files/IJ1pm_Feb1_30Hz/IJ1pm_Feb1_30Hz_code_04_trial_ROItimeCourses_30sec_pca_0.95.npy'\n",
    "#fname = '/media/cat/4TBSSD/yuki/IJ1/tif_files/IJ1pm_Feb2_30Hz/IJ1pm_Feb2_30Hz_code_04_trial_ROItimeCourses_30sec_pca_0.95.npy'\n",
    "fname = '/media/cat/4TBSSD/yuki/IJ1/tif_files/IJ1pm_Apr6_30Hz/IJ1pm_Apr6_30Hz_code_04_trial_ROItimeCourses_30sec_pca_0.95.npy'\n",
    "fname = '/media/cat/4TBSSD/yuki/IJ1/tif_files/IJ1pm_Apr5_30Hz/IJ1pm_Apr5_30Hz_code_04_trial_ROItimeCourses_30sec_pca_0.95.npy'\n",
    "fname = '/media/cat/4TBSSD/yuki/IJ1/tif_files/IJ1pm_Apr4_30Hz/IJ1pm_Apr4_30Hz_code_04_trial_ROItimeCourses_30sec_pca_0.95.npy'\n",
    "fname = '/media/cat/4TBSSD/yuki/IJ1/tif_files/IJ1pm_Apr1_30Hz/IJ1pm_Apr1_30Hz_code_04_trial_ROItimeCourses_30sec_pca_0.95.npy'\n",
    "\n",
    "fname = '/media/cat/4TBSSD/yuki/IJ1/tif_files/IJ1pm_Mar31_30Hz/IJ1pm_Mar31_30Hz_code_04_trial_ROItimeCourses_30sec_pca_0.95.npy'\n",
    "\n",
    "\n",
    "\n",
    "#############\n",
    "data = np.load(fname)[:,:,:900]\n",
    "print (data.shape)\n",
    "random = np.load(fname.replace('trial','random'))[:,:,:900]\n",
    "\n",
    "#data = data\n",
    "t = np.arange(data.shape[2])/30-30.\n",
    "\n",
    "fig=plt.figure()\n",
    "ax=plt.subplot(121)\n",
    "plt.plot(t,data[:,0].T,c='black',\n",
    "        alpha=.1)\n",
    "mean = np.mean(data[:,0], axis=0)\n",
    "plt.plot(t,mean)\n",
    "plt.ylim(-10,10)\n",
    "plt.xlim(-15,0)\n",
    "ax=plt.subplot(122)\n",
    "plt.plot(t,random[:,0].T,c='black',\n",
    "        alpha=.1)\n",
    "mean = np.mean(random[:,0], axis=0)\n",
    "plt.plot(t,mean)\n",
    "plt.xlim(-15,0)\n",
    "plt.ylim(-10,10)\n",
    "plt.show()"
   ]
  },
  {
   "cell_type": "code",
   "execution_count": 3,
   "metadata": {},
   "outputs": [],
   "source": [
    "# ###########################################################\n",
    "# ########### LOAD RAW DATA OPTIONAL - FIG 4A ONLY ##########\n",
    "# ###########################################################\n",
    "\n",
    "# spatial_fname = '/media/cat/4TBSSD/yuki/yongxu/data/IJ1/Mar3/IJ1pm_Mar3_30Hz_code_04_trial_ROItimeCourses_30sec_pca_0.95_spatial.npy'\n",
    "# temporal_fname = '/media/cat/4TBSSD/yuki/yongxu/data/IJ1/Mar3/IJ1pm_Mar3_30Hz_code_04_trial_ROItimeCourses_30sec_pca_0.95.npy'\n",
    "    \n",
    "# raw_means = load_raw_data(spatial_fname, temporal_fname)\n",
    "\n",
    "# # Plot locaNMF vs. raw\n",
    "# plot_locanmf_vs_raw(locaNMF_temporal, raw_means)"
   ]
  },
  {
   "cell_type": "code",
   "execution_count": 6,
   "metadata": {},
   "outputs": [
    {
     "name": "stderr",
     "output_type": "stream",
     "text": [
      " 14%|█▎        | 15/110 [00:00<00:00, 122.26it/s]"
     ]
    },
    {
     "name": "stdout",
     "output_type": "stream",
     "text": [
      "# of sessions:  (110,)\n",
      "file missing /media/cat/4TBSSD/yuki/AQ2/tif_files/AQ2am_Dec9_30Hz/AQ2am_Dec9_30Hz_locanmf.npz\n",
      "file missing /media/cat/4TBSSD/yuki/AQ2/tif_files/AQ2am_Dec10_30Hz/AQ2am_Dec10_30Hz_locanmf.npz\n",
      "file missing /media/cat/4TBSSD/yuki/AQ2/tif_files/AQ2pm_Dec10_30Hz/AQ2pm_Dec10_30Hz_locanmf.npz\n",
      "file missing /media/cat/4TBSSD/yuki/AQ2/tif_files/AQ2am_Dec11_30Hz/AQ2am_Dec11_30Hz_locanmf.npz\n",
      "  # trials  (9, 16, 1801)\n",
      "file missing /media/cat/4TBSSD/yuki/AQ2/tif_files/AQ2am_Dec14_30Hz/AQ2am_Dec14_30Hz_locanmf.npz\n",
      "  # trials  (26, 16, 1801)\n",
      "  # trials  (21, 16, 1801)\n",
      "file missing /media/cat/4TBSSD/yuki/AQ2/tif_files/AQ2pm_Dec17_30Hz/AQ2pm_Dec17_30Hz_locanmf.npz\n",
      "file missing /media/cat/4TBSSD/yuki/AQ2/tif_files/AQ2am_Dec18_30Hz/AQ2am_Dec18_30Hz_locanmf.npz\n",
      "file missing /media/cat/4TBSSD/yuki/AQ2/tif_files/AQ2pm_Dec18_30Hz/AQ2pm_Dec18_30Hz_locanmf.npz\n",
      "file missing /media/cat/4TBSSD/yuki/AQ2/tif_files/AQ2am_Dec21_30Hz/AQ2am_Dec21_30Hz_locanmf.npz\n",
      "file missing /media/cat/4TBSSD/yuki/AQ2/tif_files/AQ2am_Dec22_30Hz/AQ2am_Dec22_30Hz_locanmf.npz\n",
      "file missing /media/cat/4TBSSD/yuki/AQ2/tif_files/AQ2am_Dec23_30Hz/AQ2am_Dec23_30Hz_locanmf.npz\n",
      "  # trials  (24, 16, 1801)\n",
      "  # trials  (33, 16, 1801)\n",
      "file missing /media/cat/4TBSSD/yuki/AQ2/tif_files/AQ2am_Dec30_30Hz/AQ2am_Dec30_30Hz_locanmf.npz\n",
      "  # trials  (65, 16, 1801)\n",
      "  # trials  (52, 16, 1801)\n",
      "  # trials  (51, 16, 1801)\n",
      "  # trials  (59, 16, 1801)\n"
     ]
    },
    {
     "name": "stderr",
     "output_type": "stream",
     "text": [
      "\r",
      " 25%|██▌       | 28/110 [00:00<00:01, 44.72it/s] "
     ]
    },
    {
     "name": "stdout",
     "output_type": "stream",
     "text": [
      "file missing /media/cat/4TBSSD/yuki/AQ2/tif_files/AQ2am_Jan7_30Hz/AQ2am_Jan7_30Hz_locanmf.npz\n",
      "  # trials  (27, 16, 1801)\n",
      "  # trials  (17, 16, 1801)\n",
      "file missing /media/cat/4TBSSD/yuki/AQ2/tif_files/AQ2am_Jan11_30Hz/AQ2am_Jan11_30Hz_locanmf.npz\n",
      "file missing /media/cat/4TBSSD/yuki/AQ2/tif_files/AQ2pm_Jan12_30Hz/AQ2pm_Jan12_30Hz_locanmf.npz\n",
      "file missing /media/cat/4TBSSD/yuki/AQ2/tif_files/AQ2am_Jan12_30Hz/AQ2am_Jan12_30Hz_locanmf.npz\n",
      "  # trials  (37, 16, 1801)\n",
      "  # trials  (54, 16, 1801)\n"
     ]
    },
    {
     "name": "stderr",
     "output_type": "stream",
     "text": [
      "\r",
      " 32%|███▏      | 35/110 [00:00<00:02, 34.81it/s]"
     ]
    },
    {
     "name": "stdout",
     "output_type": "stream",
     "text": [
      "  # trials  (37, 16, 1801)\n",
      "  # trials  (42, 16, 1801)\n",
      "  # trials  (26, 16, 1801)\n",
      "  # trials  (70, 16, 1801)\n",
      "file missing /media/cat/4TBSSD/yuki/AQ2/tif_files/AQ2pm_Jan18_30Hz/AQ2pm_Jan18_30Hz_locanmf.npz\n",
      "  # trials  (12, 16, 1801)\n",
      "file missing /media/cat/4TBSSD/yuki/AQ2/tif_files/AQ2am_Jan19_30Hz/AQ2am_Jan19_30Hz_locanmf.npz\n",
      "file missing /media/cat/4TBSSD/yuki/AQ2/tif_files/AQ2pm_Jan19_30Hz/AQ2pm_Jan19_30Hz_locanmf.npz\n",
      "file missing /media/cat/4TBSSD/yuki/AQ2/tif_files/AQ2pm_Jan20_30Hz/AQ2pm_Jan20_30Hz_locanmf.npz\n"
     ]
    },
    {
     "name": "stderr",
     "output_type": "stream",
     "text": [
      "\r",
      " 45%|████▌     | 50/110 [00:01<00:01, 51.13it/s]"
     ]
    },
    {
     "name": "stdout",
     "output_type": "stream",
     "text": [
      "file missing /media/cat/4TBSSD/yuki/AQ2/tif_files/AQ2am_Jan20_30Hz/AQ2am_Jan20_30Hz_locanmf.npz\n",
      "file missing /media/cat/4TBSSD/yuki/AQ2/tif_files/AQ2pm_Jan21_30Hz/AQ2pm_Jan21_30Hz_locanmf.npz\n",
      "file missing /media/cat/4TBSSD/yuki/AQ2/tif_files/AQ2am_Jan21_30Hz/AQ2am_Jan21_30Hz_locanmf.npz\n",
      "file missing /media/cat/4TBSSD/yuki/AQ2/tif_files/AQ2pm_Jan22_30Hz/AQ2pm_Jan22_30Hz_locanmf.npz\n",
      "file missing /media/cat/4TBSSD/yuki/AQ2/tif_files/AQ2am_Jan22_30Hz/AQ2am_Jan22_30Hz_locanmf.npz\n",
      "file missing /media/cat/4TBSSD/yuki/AQ2/tif_files/AQ2am_Jan25_30Hz/AQ2am_Jan25_30Hz_locanmf.npz\n",
      "file missing /media/cat/4TBSSD/yuki/AQ2/tif_files/AQ2pm_Jan25_30Hz/AQ2pm_Jan25_30Hz_locanmf.npz\n",
      "file missing /media/cat/4TBSSD/yuki/AQ2/tif_files/AQ2pm_Jan26_30Hz/AQ2pm_Jan26_30Hz_locanmf.npz\n",
      "file missing /media/cat/4TBSSD/yuki/AQ2/tif_files/AQ2am_Jan26_30Hz/AQ2am_Jan26_30Hz_locanmf.npz\n",
      "file missing /media/cat/4TBSSD/yuki/AQ2/tif_files/AQ2am_Jan27_30Hz/AQ2am_Jan27_30Hz_locanmf.npz\n",
      "  # trials  (55, 16, 1801)\n",
      "  # trials  (46, 16, 1801)\n",
      "  # trials  (60, 16, 1801)\n",
      "  # trials  (41, 16, 1801)\n",
      "  # trials  (50, 16, 1801)\n",
      "  # trials  (67, 16, 1801)\n",
      "  # trials  (78, 16, 1801)\n",
      "  # trials  (21, 16, 1801)\n",
      "  # trials  (74, 16, 1801)\n"
     ]
    },
    {
     "name": "stderr",
     "output_type": "stream",
     "text": [
      "\r",
      " 53%|█████▎    | 58/110 [00:01<00:01, 29.09it/s]"
     ]
    },
    {
     "name": "stdout",
     "output_type": "stream",
     "text": [
      "  # trials  (91, 16, 1801)\n",
      "  # trials  (93, 16, 1801)\n",
      "  # trials  (131, 16, 1801)\n",
      "  # trials  (184, 16, 1801)\n",
      "  # trials  (157, 16, 1801)\n"
     ]
    },
    {
     "name": "stderr",
     "output_type": "stream",
     "text": [
      "\r",
      " 57%|█████▋    | 63/110 [00:02<00:02, 16.66it/s]"
     ]
    },
    {
     "name": "stdout",
     "output_type": "stream",
     "text": [
      "  # trials  (145, 16, 1801)\n",
      "  # trials  (104, 16, 1801)\n",
      "file missing /media/cat/4TBSSD/yuki/AQ2/tif_files/AQ2am_Feb18_30Hz/AQ2am_Feb18_30Hz_locanmf.npz\n"
     ]
    },
    {
     "name": "stderr",
     "output_type": "stream",
     "text": [
      "\r",
      " 61%|██████    | 67/110 [00:02<00:02, 14.74it/s]"
     ]
    },
    {
     "name": "stdout",
     "output_type": "stream",
     "text": [
      "  # trials  (96, 16, 1801)\n",
      "  # trials  (144, 16, 1801)\n"
     ]
    },
    {
     "name": "stderr",
     "output_type": "stream",
     "text": [
      "\r",
      " 64%|██████▎   | 70/110 [00:03<00:02, 14.23it/s]"
     ]
    },
    {
     "name": "stdout",
     "output_type": "stream",
     "text": [
      "  # trials  (120, 16, 1801)\n",
      "file missing /media/cat/4TBSSD/yuki/AQ2/tif_files/AQ2am_Feb25_30Hz/AQ2am_Feb25_30Hz_locanmf.npz\n",
      "  # trials  (92, 16, 1801)\n",
      "  # trials  (90, 16, 1801)\n",
      "  # trials  (125, 16, 1801)\n"
     ]
    },
    {
     "name": "stderr",
     "output_type": "stream",
     "text": [
      "\r",
      " 66%|██████▋   | 73/110 [00:03<00:02, 12.91it/s]"
     ]
    },
    {
     "name": "stdout",
     "output_type": "stream",
     "text": [
      "  # trials  (58, 16, 1801)\n",
      "  # trials  (129, 16, 1801)\n"
     ]
    },
    {
     "name": "stderr",
     "output_type": "stream",
     "text": [
      "\r",
      " 68%|██████▊   | 75/110 [00:03<00:03, 11.54it/s]"
     ]
    },
    {
     "name": "stdout",
     "output_type": "stream",
     "text": [
      "  # trials  (109, 16, 1801)\n",
      "  # trials  (70, 16, 1801)\n",
      "  # trials  (99, 16, 1801)\n"
     ]
    },
    {
     "name": "stderr",
     "output_type": "stream",
     "text": [
      " 72%|███████▏  | 79/110 [00:04<00:03, 10.07it/s]"
     ]
    },
    {
     "name": "stdout",
     "output_type": "stream",
     "text": [
      "  # trials  (103, 16, 1801)\n",
      "  # trials  (143, 16, 1801)\n"
     ]
    },
    {
     "name": "stderr",
     "output_type": "stream",
     "text": [
      "\r",
      " 74%|███████▎  | 81/110 [00:04<00:03,  9.49it/s]"
     ]
    },
    {
     "name": "stdout",
     "output_type": "stream",
     "text": [
      "  # trials  (122, 16, 1801)\n",
      "  # trials  (104, 16, 1801)\n"
     ]
    },
    {
     "name": "stderr",
     "output_type": "stream",
     "text": [
      "\r",
      " 75%|███████▌  | 83/110 [00:04<00:02,  9.47it/s]"
     ]
    },
    {
     "name": "stdout",
     "output_type": "stream",
     "text": [
      "  # trials  (139, 16, 1801)\n",
      "  # trials  (47, 16, 1801)\n",
      "  # trials  (64, 16, 1801)\n"
     ]
    },
    {
     "name": "stderr",
     "output_type": "stream",
     "text": [
      "\r",
      " 77%|███████▋  | 85/110 [00:04<00:02,  9.82it/s]"
     ]
    },
    {
     "name": "stdout",
     "output_type": "stream",
     "text": [
      "  # trials  (84, 16, 1801)\n",
      "  # trials  (124, 16, 1801)\n"
     ]
    },
    {
     "name": "stderr",
     "output_type": "stream",
     "text": [
      "\r",
      " 79%|███████▉  | 87/110 [00:05<00:02,  9.28it/s]"
     ]
    },
    {
     "name": "stdout",
     "output_type": "stream",
     "text": [
      "  # trials  (91, 16, 1801)\n",
      "  # trials  (147, 16, 1801)\n"
     ]
    },
    {
     "name": "stderr",
     "output_type": "stream",
     "text": [
      " 82%|████████▏ | 90/110 [00:05<00:02,  7.44it/s]"
     ]
    },
    {
     "name": "stdout",
     "output_type": "stream",
     "text": [
      "  # trials  (114, 16, 1801)\n",
      "  # trials  (137, 16, 1801)\n"
     ]
    },
    {
     "name": "stderr",
     "output_type": "stream",
     "text": [
      " 84%|████████▎ | 92/110 [00:05<00:02,  7.74it/s]"
     ]
    },
    {
     "name": "stdout",
     "output_type": "stream",
     "text": [
      "  # trials  (127, 16, 1801)\n",
      "  # trials  (100, 16, 1801)\n"
     ]
    },
    {
     "name": "stderr",
     "output_type": "stream",
     "text": [
      " 85%|████████▌ | 94/110 [00:06<00:01,  8.13it/s]"
     ]
    },
    {
     "name": "stdout",
     "output_type": "stream",
     "text": [
      "  # trials  (117, 16, 1801)\n",
      "  # trials  (93, 16, 1801)\n"
     ]
    },
    {
     "name": "stderr",
     "output_type": "stream",
     "text": [
      " 87%|████████▋ | 96/110 [00:06<00:01,  7.52it/s]"
     ]
    },
    {
     "name": "stdout",
     "output_type": "stream",
     "text": [
      "  # trials  (104, 16, 1801)\n",
      "  # trials  (142, 16, 1801)\n"
     ]
    },
    {
     "name": "stderr",
     "output_type": "stream",
     "text": [
      " 90%|█████████ | 99/110 [00:06<00:01, 10.45it/s]"
     ]
    },
    {
     "name": "stdout",
     "output_type": "stream",
     "text": [
      "  # trials  (94, 16, 1801)\n",
      "file missing /media/cat/4TBSSD/yuki/AQ2/tif_files/AQ2am_Apr13_Week6_30Hz/AQ2am_Apr13_Week6_30Hz_locanmf.npz\n",
      "  # trials  (98, 16, 1801)\n"
     ]
    },
    {
     "name": "stderr",
     "output_type": "stream",
     "text": [
      "\r",
      " 92%|█████████▏| 101/110 [00:06<00:00, 10.51it/s]"
     ]
    },
    {
     "name": "stdout",
     "output_type": "stream",
     "text": [
      "  # trials  (83, 16, 1801)\n",
      "  # trials  (77, 16, 1801)\n",
      "  # trials  (70, 16, 1801)\n"
     ]
    },
    {
     "name": "stderr",
     "output_type": "stream",
     "text": [
      "\r",
      " 94%|█████████▎| 103/110 [00:06<00:00, 11.17it/s]"
     ]
    },
    {
     "name": "stdout",
     "output_type": "stream",
     "text": [
      "  # trials  (69, 16, 1801)\n",
      "  # trials  (52, 16, 1801)\n",
      "  # trials  (121, 16, 1801)\n"
     ]
    },
    {
     "name": "stderr",
     "output_type": "stream",
     "text": [
      " 97%|█████████▋| 107/110 [00:07<00:00,  9.67it/s]"
     ]
    },
    {
     "name": "stdout",
     "output_type": "stream",
     "text": [
      "  # trials  (114, 16, 1801)\n",
      "  # trials  (112, 16, 1801)\n"
     ]
    },
    {
     "name": "stderr",
     "output_type": "stream",
     "text": [
      "\r",
      " 99%|█████████▉| 109/110 [00:07<00:00,  9.05it/s]"
     ]
    },
    {
     "name": "stdout",
     "output_type": "stream",
     "text": [
      "  # trials  (138, 16, 1801)\n",
      "  # trials  (86, 16, 1801)\n",
      "  # trials  (82, 16, 1801)\n"
     ]
    },
    {
     "name": "stderr",
     "output_type": "stream",
     "text": [
      "\r",
      "100%|██████████| 110/110 [00:07<00:00, 14.25it/s]"
     ]
    },
    {
     "name": "stdout",
     "output_type": "stream",
     "text": [
      "# good sessions:  77\n"
     ]
    },
    {
     "name": "stderr",
     "output_type": "stream",
     "text": [
      "\n"
     ]
    }
   ],
   "source": [
    "######################################################\n",
    "###### LOAD ANIMAL ALL SESSION MEANS/VARS ############\n",
    "######################################################\n",
    "\n",
    "animal_id = 'AQ2'\n",
    "session_name = 'all'\n",
    "root_dir = '/media/cat/4TBSSD/yuki/'\n",
    "\n",
    "\n",
    "# \n",
    "loca = analysis_fig4.LocaNMFClass(root_dir, animal_id, session_name)\n",
    "\n",
    "#\n",
    "loca.get_sessions(session_name)\n",
    "print (\"# of sessions: \", loca.sessions.shape)\n",
    "\n",
    "all_means = []\n",
    "n_trials = []\n",
    "saved_names = []\n",
    "all_means_random = []\n",
    "good_sessions = []\n",
    "for session in tqdm(loca.sessions):\n",
    "    \n",
    "    # load data\n",
    "    fname_locaNMF = os.path.join(root_dir, animal_id, 'tif_files',session,\n",
    "                                 session + '_locanmf.npz')\n",
    "    atlas, areas, names, locaNMF_temporal, random = load_locaNMF_data(fname_locaNMF)\n",
    "\n",
    "    # \n",
    "    if atlas is not None:\n",
    "        means, var = variance_locaNMF(locaNMF_temporal)\n",
    "        n_trials.append(locaNMF_temporal.shape[0])\n",
    "        all_means.append(means)\n",
    "        \n",
    "        means, var = variance_locaNMF(random)\n",
    "        all_means_random.append(means)\n",
    "                \n",
    "        saved_names = names\n",
    "        good_sessions.append(session)\n",
    "    \n",
    "print (\"# good sessions: \", len(good_sessions))"
   ]
  },
  {
   "cell_type": "code",
   "execution_count": 7,
   "metadata": {},
   "outputs": [],
   "source": [
    "########################################\n",
    "###### PLOT LONGITUDINAL RESULTS #######\n",
    "#########################################\n",
    "# # fig 5F longintudinal power spectra \n",
    "# plot_longitudinal_roi_loca(n_trials, saved_names, all_means)   "
   ]
  },
  {
   "cell_type": "code",
   "execution_count": 8,
   "metadata": {
    "scrolled": true
   },
   "outputs": [
    {
     "name": "stdout",
     "output_type": "stream",
     "text": [
      " # areas:  16\n",
      " # areas:  16\n",
      " # areas:  16\n",
      " # areas:  16\n",
      " # areas:  16\n",
      " # areas:  16\n",
      " # areas:  16\n",
      " # areas:  16\n",
      " # areas:  16\n",
      " # areas:  16\n",
      " # areas:  16\n",
      " # areas:  16\n",
      " # areas:  16\n",
      " # areas:  16\n",
      " # areas:  16\n",
      " # areas:  16\n",
      " # areas:  16\n",
      " # areas:  16\n",
      " # areas:  16\n",
      " # areas:  16\n",
      " # areas:  16\n",
      " # areas:  16\n",
      " # areas:  16\n",
      " # areas:  16\n",
      " # areas:  16\n",
      " # areas:  16\n",
      " # areas:  16\n",
      " # areas:  16\n",
      " # areas:  16\n",
      " # areas:  16\n",
      " # areas:  16\n",
      " # areas:  16\n",
      " # areas:  16\n",
      " # areas:  16\n",
      " # areas:  16\n",
      " # areas:  16\n",
      " # areas:  16\n",
      " # areas:  16\n",
      " # areas:  16\n",
      " # areas:  16\n",
      " # areas:  16\n",
      " # areas:  16\n",
      " # areas:  16\n",
      " # areas:  16\n",
      " # areas:  16\n",
      " # areas:  16\n",
      " # areas:  16\n",
      " # areas:  16\n",
      " # areas:  16\n",
      " # areas:  16\n",
      " # areas:  16\n",
      " # areas:  16\n",
      " # areas:  16\n",
      " # areas:  16\n",
      " # areas:  16\n",
      " # areas:  16\n",
      " # areas:  16\n",
      " # areas:  16\n",
      " # areas:  16\n",
      " # areas:  16\n",
      " # areas:  16\n",
      " # areas:  16\n",
      " # areas:  16\n",
      " # areas:  16\n",
      " # areas:  16\n",
      " # areas:  16\n",
      " # areas:  16\n",
      " # areas:  16\n",
      " # areas:  16\n",
      " # areas:  16\n",
      " # areas:  16\n",
      " # areas:  16\n",
      " # areas:  16\n",
      " # areas:  16\n",
      " # areas:  16\n",
      " # areas:  16\n",
      " # areas:  16\n"
     ]
    }
   ],
   "source": [
    "##############################\n",
    "####### POWER SPECTRUM #######\n",
    "##############################\n",
    "\n",
    "\n",
    "def plot_spectra_longintudinally_two_areas(colors, plotting, fs, selected_areas, \n",
    "                                all_areas,\n",
    "                                all_means,\n",
    "                                all_means_random):\n",
    "\n",
    "    #norms = [True, False]\n",
    "    norms = [False]\n",
    "    for norm in norms:\n",
    "        fig = plt.figure(figsize=(12,12))\n",
    "        #for ctr2, area_id in enumerate(all_areas):\n",
    "        ctr2=0\n",
    "        averages = []\n",
    "        for k in range(len(selected_areas)):\n",
    "            averages.append([])\n",
    "\n",
    "        # loop over all sessions\n",
    "        for k in range(len(all_means)):\n",
    "            \n",
    "            # get all traces within a session\n",
    "            all_traces = all_means[k]\n",
    "            \n",
    "            # \n",
    "            print (\" # areas: \", len(all_traces))\n",
    "            \n",
    "            all_traces_random = all_means_random[k]\n",
    "            # loop over all areas selected\n",
    "            temp_list = []\n",
    "            temp_list_random = []\n",
    "            pxx_list = []\n",
    "            #pxx_random_list = []\n",
    "                \n",
    "            for ctr_area, selected_area in enumerate(selected_areas):\n",
    "                \n",
    "                #########################################\n",
    "                ######### PLOT INDIVIDUAL SPECGRAMS #####\n",
    "                #########################################\n",
    "                ax = plt.subplot(1,3,ctr_area+1)\n",
    "                if norm == False:\n",
    "                    plt.ylim(1E-8,1E-2)\n",
    "                else:\n",
    "                    plt.ylim(1E-3,1E6)\n",
    "\n",
    "                plt.xlabel('frequency [Hz]')\n",
    "                plt.xlim(2E-2,6)\n",
    "                #ax.set_yticks([])\n",
    "                plt.semilogy()\n",
    "                plt.semilogx()\n",
    "\n",
    "                temp = all_traces[selected_area]\n",
    "                temp_random = all_traces_random[selected_area]\n",
    "                #temp = savgol_filter(temp, 7, 1)\n",
    "                temp_list.append(temp)\n",
    "                temp_list_random.append(temp_random)\n",
    "                if True: #np.max(np.abs(temp))<0.2:\n",
    "                    f, Pxx_den = signal.periodogram(temp, fs)\n",
    "                    f, Pxx_den_random = signal.periodogram(temp_random, fs)\n",
    "\n",
    "                if norm:\n",
    "                    Pxx_den = Pxx_den/Pxx_den_random\n",
    "\n",
    "                # \n",
    "                # SHOW ONLY FIRST 451 datapoints\n",
    "                x = np.arange(0,451,1)/30.\n",
    "                Pxx_den = Pxx_den[:451]\n",
    "                #print ('x shape: ', x.shape, Pxx_den.shape)\n",
    "                \n",
    "                plt.plot(x, \n",
    "                     Pxx_den,\n",
    "                     linewidth=3,\n",
    "                     c= colors[ctr_area][ctr2])\n",
    "                # \n",
    "                xx = argrelmax(Pxx_den, order=100)\n",
    "                #print (\"Peak: \", x[xx])\n",
    "\n",
    "                pxx_list.append(Pxx_den)\n",
    "                #plt.yticks([])\n",
    "                averages[ctr_area].append(Pxx_den)\n",
    "                    \n",
    "                \n",
    "            # compute difference\n",
    "            # Pxx_den = pxx_list[0]-pxx_list[1]\n",
    "\n",
    "            #########################################\n",
    "            ######### PLOT RATIO ####################\n",
    "            #########################################\n",
    "            if False:\n",
    "                ax = plt.subplot(1,3,3)\n",
    "\n",
    "                if False: #np.max(np.abs(temp))<0.2:\n",
    "                    f, Pxx_den = signal.periodogram(temp_list[0]/temp_list[1], fs)\n",
    "                    f, Pxx_den_random = signal.periodogram(temp_list_random[0]/temp_list_random[1], fs)\n",
    "\n",
    "                if True: #np.max(np.abs(temp))<0.2:\n",
    "                    f, Pxx_den = signal.periodogram(temp_list[0]/temp_list_random[0], fs)\n",
    "                    #f, Pxx_den_random = signal.periodogram(temp_list_random[0]/temp_list_random[1], fs)\n",
    "\n",
    "\n",
    "                #if norm:\n",
    "                #    Pxx_den = Pxx_den/Pxx_den_random\n",
    "\n",
    "                plt.plot(x, \n",
    "                         Pxx_den,\n",
    "                         linewidth=3,\n",
    "                         c= colors[2][ctr2])\n",
    "\n",
    "                if norm == False:\n",
    "                    plt.ylim(1E-4,1E5)\n",
    "                else:\n",
    "                    plt.ylim(1E-3,1E6)\n",
    "\n",
    "                plt.xlabel('frequency [Hz]')\n",
    "                plt.xlim(2E-2,6)\n",
    "                plt.semilogy()\n",
    "                plt.semilogx()\n",
    "                #plt.yticks([])\n",
    "\n",
    "            ctr2+=1\n",
    "        \n",
    "        #########################################\n",
    "        ######### PLOT AVERAGES #################\n",
    "        #########################################\n",
    "        for ctr_area in range(2):\n",
    "            ax = plt.subplot(1,3,ctr_area+1)\n",
    "\n",
    "            y = np.median(averages[ctr_area],axis=0)\n",
    "            plt.plot(x, \n",
    "                 y,\n",
    "                 linewidth=3,\n",
    "                 c= 'black')\n",
    "                \n",
    "            #\n",
    "            plt.plot([0.1, 0.1],[1E-8,1E5], '--', c='black',alpha=.5)\n",
    "            plt.plot([1, 1],[1E-8,1E5], '--',c='black',alpha=.5)\n",
    "\n",
    "            for k in range(-8,-2,1):\n",
    "                plt.plot([1E-4,20],[10**k,10**k], '--',c='black',alpha=.5)\n",
    "\n",
    "                \n",
    "            #plt.yticks([])\n",
    "            plt.xticks([])\n",
    "            \n",
    "\n",
    "        #plt.ylabel('PSD [V**2/Hz]')\n",
    "        #plt.title(saved_names[area_id], fontsize=8)\n",
    "        #plt.xlim(0,2)\n",
    "        #plt.yticks([])\n",
    "\n",
    "        if False:\n",
    "            plt.savefig('/home/cat/spectra_'+str(animal_id)+'norm_'+str(norm)+'.png',dpi=300)\n",
    "            plt.close()\n",
    "        else:\n",
    "            plt.show()\n",
    "            \n",
    "            \n",
    "#\n",
    "all_areas = np.arange(all_means[0].shape[0])\n",
    "#area_ids = [0,1,6,7,8,9,12,13]\n",
    "#area_ids = [7]\n",
    "\n",
    "\n",
    "#colors = plt.cm.viridis(np.linspace(0,1,len(all_areas)))\n",
    "colors = []\n",
    "colors.append(plt.cm.Oranges(np.linspace(0,1,len(all_means))))\n",
    "colors.append(plt.cm.Greens(np.linspace(0,1,len(all_means))))\n",
    "colors.append(plt.cm.Greys(np.linspace(0,1,len(all_means))))\n",
    "\n",
    "fs = 30\n",
    "\n",
    "plotting=False\n",
    "\n",
    "selected_areas = [9,11]\n",
    "\n",
    "plot_spectra_longintudinally_two_areas(colors, plotting, fs, selected_areas, \n",
    "                                        all_areas,\n",
    "                                        all_means,\n",
    "                                        all_means_random)\n",
    "\n"
   ]
  },
  {
   "cell_type": "code",
   "execution_count": null,
   "metadata": {},
   "outputs": [],
   "source": []
  },
  {
   "cell_type": "code",
   "execution_count": null,
   "metadata": {},
   "outputs": [],
   "source": []
  },
  {
   "cell_type": "code",
   "execution_count": null,
   "metadata": {},
   "outputs": [],
   "source": []
  },
  {
   "cell_type": "code",
   "execution_count": null,
   "metadata": {},
   "outputs": [],
   "source": []
  }
 ],
 "metadata": {
  "kernelspec": {
   "display_name": "Python 3",
   "language": "python",
   "name": "python3"
  },
  "language_info": {
   "codemirror_mode": {
    "name": "ipython",
    "version": 3
   },
   "file_extension": ".py",
   "mimetype": "text/x-python",
   "name": "python",
   "nbconvert_exporter": "python",
   "pygments_lexer": "ipython3",
   "version": "3.8.0"
  }
 },
 "nbformat": 4,
 "nbformat_minor": 4
}
