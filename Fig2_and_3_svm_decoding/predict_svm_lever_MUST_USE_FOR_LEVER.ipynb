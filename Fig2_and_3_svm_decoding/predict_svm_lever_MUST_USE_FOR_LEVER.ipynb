{
 "cells": [
  {
   "cell_type": "code",
   "execution_count": 1,
   "metadata": {},
   "outputs": [
    {
     "data": {
      "application/javascript": [
       "IPython.notebook.set_autosave_interval(180000)"
      ]
     },
     "metadata": {},
     "output_type": "display_data"
    },
    {
     "name": "stdout",
     "output_type": "stream",
     "text": [
      "Autosaving every 180 seconds\n"
     ]
    },
    {
     "data": {
      "text/html": [
       "<style>.container { width:100% !important; }</style>"
      ],
      "text/plain": [
       "<IPython.core.display.HTML object>"
      ]
     },
     "metadata": {},
     "output_type": "display_data"
    }
   ],
   "source": [
    "import matplotlib\n",
    "#matplotlib.use('Agg')\n",
    "\n",
    "%load_ext autoreload\n",
    "%autoreload 2\n",
    "\n",
    "%matplotlib tk\n",
    "%autosave 180\n",
    "\n",
    "import sys\n",
    "sys.path.append(\"/home/cat/code/widefield/\") # Adds higher directory to python modules path.\n",
    "\n",
    "import matplotlib.pyplot as plt\n",
    "from IPython.core.display import display, HTML\n",
    "display(HTML(\"<style>.container { width:100% !important; }</style>\"))\n",
    "\n",
    "import numpy as np\n",
    "import os\n",
    "\n",
    "#  SVM module\n",
    "from svm import svm as SVM\n",
    "# \n",
    "data_dir = '/media/cat/4TBSSD/yuki/'\n",
    "#data_dir = '/mnt/f418adc0-4ff9-410c-93c9-d6d21a1e9c35/yuki/'\n"
   ]
  },
  {
   "cell_type": "code",
   "execution_count": 9,
   "metadata": {
    "scrolled": true
   },
   "outputs": [
    {
     "name": "stdout",
     "output_type": "stream",
     "text": [
      " ....file not found, skippping  /media/cat/4TBSATA/yuki/BA2/tif_files/BA2_Oct27pm_15Hz_8x8/BA2_Oct27pm_15Hz_8x8_code_04_lockout_10sec_trial_ROItimeCourses_15sec_pca_0.95.npy\n",
      " ....file not found, skippping  /media/cat/4TBSATA/yuki/BA2/tif_files/BA2_Oct28pm_15Hz_8x8/BA2_Oct28pm_15Hz_8x8_code_04_lockout_10sec_trial_ROItimeCourses_15sec_pca_0.95.npy\n",
      " ....file not found, skippping  /media/cat/4TBSATA/yuki/BA2/tif_files/BA2_Oct29pm_15Hz_8x8/BA2_Oct29pm_15Hz_8x8_code_04_lockout_10sec_trial_ROItimeCourses_15sec_pca_0.95.npy\n",
      "    Skipping too few trials less than  10\n",
      " ....file not found, skippping  /media/cat/4TBSATA/yuki/BA2/tif_files/BA2_Oct31pm_15Hz_8x8/BA2_Oct31pm_15Hz_8x8_code_04_lockout_10sec_trial_ROItimeCourses_15sec_pca_0.95.npy\n",
      "    Skipping too few trials less than  10\n",
      " ....file not found, skippping  /media/cat/4TBSATA/yuki/BA2/tif_files/BA2_Nov3pm_15Hz_8x8/BA2_Nov3pm_15Hz_8x8_code_04_lockout_10sec_trial_ROItimeCourses_15sec_pca_0.95.npy\n",
      "    Skipping too few trials less than  10\n",
      "    Skipping too few trials less than  10\n",
      "processing;  /media/cat/4TBSATA/yuki/BA2/tif_files/BA2_Nov5am_15Hz_8x8/BA2_Nov5am_15Hz_8x8_code_04_lockout_10sec_trial_ROItimeCourses_15sec_pca_0.95.npy  with lockout:  True\n"
     ]
    },
    {
     "name": "stderr",
     "output_type": "stream",
     "text": [
      "100%|██████████| 10/10 [00:00<00:00, 11.16it/s]"
     ]
    },
    {
     "name": "stdout",
     "output_type": "stream",
     "text": [
      "    Skipping too few trials less than  10\n",
      "    Skipping too few trials less than  10\n",
      "    Skipping too few trials less than  10\n",
      "processing;  /media/cat/4TBSATA/yuki/BA2/tif_files/BA2_Nov7am_15Hz_8x8/BA2_Nov7am_15Hz_8x8_code_04_lockout_10sec_trial_ROItimeCourses_15sec_pca_0.95.npy  with lockout:  True\n"
     ]
    },
    {
     "name": "stderr",
     "output_type": "stream",
     "text": [
      "\n",
      "100%|██████████| 10/10 [00:00<00:00, 15.23it/s]"
     ]
    },
    {
     "name": "stdout",
     "output_type": "stream",
     "text": [
      "    Skipping too few trials less than  10\n",
      "    Skipping too few trials less than  10\n",
      "    Skipping too few trials less than  10\n",
      "    Skipping too few trials less than  10\n",
      "    Skipping too few trials less than  10\n",
      "    Skipping too few trials less than  10\n",
      " ....file not found, skippping  /media/cat/4TBSATA/yuki/BA2/tif_files/BA2_Dec1am_15Hz_8x8/BA2_Dec1am_15Hz_8x8_code_04_lockout_10sec_trial_ROItimeCourses_15sec_pca_0.95.npy\n",
      " ....file not found, skippping  /media/cat/4TBSATA/yuki/BA2/tif_files/BA2_Dec2am_15Hz_8x8/BA2_Dec2am_15Hz_8x8_code_04_lockout_10sec_trial_ROItimeCourses_15sec_pca_0.95.npy\n",
      "processing;  /media/cat/4TBSATA/yuki/BA2/tif_files/BA2_Dec3am_15Hz_8x8/BA2_Dec3am_15Hz_8x8_code_04_lockout_10sec_trial_ROItimeCourses_15sec_pca_0.95.npy  with lockout:  True\n"
     ]
    },
    {
     "name": "stderr",
     "output_type": "stream",
     "text": [
      "\n",
      "100%|██████████| 10/10 [00:00<00:00, 10.48it/s]"
     ]
    },
    {
     "name": "stdout",
     "output_type": "stream",
     "text": [
      " ....file not found, skippping  /media/cat/4TBSATA/yuki/BA2/tif_files/BA2_Dec9am_15Hz_8x8/BA2_Dec9am_15Hz_8x8_code_04_lockout_10sec_trial_ROItimeCourses_15sec_pca_0.95.npy\n",
      " ....file not found, skippping  /media/cat/4TBSATA/yuki/BA2/tif_files/BA2_Dec10am_15Hz_8x8/BA2_Dec10am_15Hz_8x8_code_04_lockout_10sec_trial_ROItimeCourses_15sec_pca_0.95.npy\n",
      " ....file not found, skippping  /media/cat/4TBSATA/yuki/BA2/tif_files/BA2_Dec11am_15Hz_8x8/BA2_Dec11am_15Hz_8x8_code_04_lockout_10sec_trial_ROItimeCourses_15sec_pca_0.95.npy\n",
      " ....file not found, skippping  /media/cat/4TBSATA/yuki/BA2/tif_files/BA2_Dec12am_15Hz_8x8/BA2_Dec12am_15Hz_8x8_code_04_lockout_10sec_trial_ROItimeCourses_15sec_pca_0.95.npy\n",
      " ....file not found, skippping  /media/cat/4TBSATA/yuki/BA2/tif_files/BA2_Dec15am_15Hz_8x8/BA2_Dec15am_15Hz_8x8_code_04_lockout_10sec_trial_ROItimeCourses_15sec_pca_0.95.npy\n",
      " ....file not found, skippping  /media/cat/4TBSATA/yuki/BA2/tif_files/BA2_Dec16am_15Hz_8x8/BA2_Dec16am_15Hz_8x8_code_04_lockout_10sec_trial_ROItimeCourses_15sec_pca_0.95.npy\n",
      " ....file not found, skippping  /media/cat/4TBSATA/yuki/BA2/tif_files/BA2_Dec17am_15Hz_8x8/BA2_Dec17am_15Hz_8x8_code_04_lockout_10sec_trial_ROItimeCourses_15sec_pca_0.95.npy\n",
      " ....file not found, skippping  /media/cat/4TBSATA/yuki/BA2/tif_files/BA2_Dec19am_15Hz_8x8/BA2_Dec19am_15Hz_8x8_code_04_lockout_10sec_trial_ROItimeCourses_15sec_pca_0.95.npy\n",
      " ....file not found, skippping  /media/cat/4TBSATA/yuki/BA2/tif_files/BA2_Dec22am_15Hz_8x8/BA2_Dec22am_15Hz_8x8_code_04_lockout_10sec_trial_ROItimeCourses_15sec_pca_0.95.npy\n",
      " ....file not found, skippping  /media/cat/4TBSATA/yuki/BA2/tif_files/BA2_Jan6am_15Hz_8x8/BA2_Jan6am_15Hz_8x8_code_04_lockout_10sec_trial_ROItimeCourses_15sec_pca_0.95.npy\n",
      " ....file not found, skippping  /media/cat/4TBSATA/yuki/BA2/tif_files/BA2_Jan7am_15Hz_8x8/BA2_Jan7am_15Hz_8x8_code_04_lockout_10sec_trial_ROItimeCourses_15sec_pca_0.95.npy\n",
      " ....file not found, skippping  /media/cat/4TBSATA/yuki/BA2/tif_files/BA2_Jan8am_15Hz_8x8/BA2_Jan8am_15Hz_8x8_code_04_lockout_10sec_trial_ROItimeCourses_15sec_pca_0.95.npy\n",
      " ....file not found, skippping  /media/cat/4TBSATA/yuki/BA2/tif_files/BA2_Jan9am_15Hz_8x8/BA2_Jan9am_15Hz_8x8_code_04_lockout_10sec_trial_ROItimeCourses_15sec_pca_0.95.npy\n",
      " ....file not found, skippping  /media/cat/4TBSATA/yuki/BA2/tif_files/BA2_Jan12am_15Hz_8x8/BA2_Jan12am_15Hz_8x8_code_04_lockout_10sec_trial_ROItimeCourses_15sec_pca_0.95.npy\n",
      " ....file not found, skippping  /media/cat/4TBSATA/yuki/BA2/tif_files/BA2_Jan13am_15Hz_8x8/BA2_Jan13am_15Hz_8x8_code_04_lockout_10sec_trial_ROItimeCourses_15sec_pca_0.95.npy\n",
      " ....file not found, skippping  /media/cat/4TBSATA/yuki/BA2/tif_files/BA2_Jan16am_15Hz_8x8/BA2_Jan16am_15Hz_8x8_code_04_lockout_10sec_trial_ROItimeCourses_15sec_pca_0.95.npy\n",
      " ....file not found, skippping  /media/cat/4TBSATA/yuki/BA2/tif_files/BA2_Jan20am_15Hz_8x8/BA2_Jan20am_15Hz_8x8_code_04_lockout_10sec_trial_ROItimeCourses_15sec_pca_0.95.npy\n",
      " ....file not found, skippping  /media/cat/4TBSATA/yuki/BA2/tif_files/BA2_Jan21am_15Hz_8x8/BA2_Jan21am_15Hz_8x8_code_04_lockout_10sec_trial_ROItimeCourses_15sec_pca_0.95.npy\n",
      " ....file not found, skippping  /media/cat/4TBSATA/yuki/BA2/tif_files/BA2_Jan22am_15Hz_8x8/BA2_Jan22am_15Hz_8x8_code_04_lockout_10sec_trial_ROItimeCourses_15sec_pca_0.95.npy\n",
      "DONE predicting SVM on animal:  BA2\n"
     ]
    },
    {
     "name": "stderr",
     "output_type": "stream",
     "text": [
      "\n"
     ]
    }
   ],
   "source": [
    "######################################################\n",
    "##### PREDICT SVM DECISION CHOICE SINGLE SESSION #####\n",
    "######################################################\n",
    "\n",
    "# select animal names\n",
    "names = ['IA1','IA2','IA3','IJ1','IJ2','AQ2'] # \"AR4\" and other datasets could work\n",
    "#names = ['AI3','AK4','AK5','AR5','BA2']\n",
    "\n",
    "data_dir = '/media/cat/4TBSATA/yuki/'\n",
    "\n",
    "names = ['AI3','AK4','AK5','AR4','BA2']\n",
    "names = ['BA2']\n",
    "\n",
    "# \n",
    "svm = SVM.PredictSVMChoice()\n",
    "svm.root_dir = data_dir\n",
    "svm.random_flag = False  # shuffle data to show baseline\n",
    "\n",
    "#\n",
    "svm.imaging_rate = 15        # MUST SET THIS MANUALLY FOR NOW\n",
    "\n",
    "# window parameters\n",
    "svm.window = 15              # seconds of prediction window, backwards in time in seconds; e.g. -30sec ... +30sec\n",
    "svm.lockout_window = 10      # time for locking out other pulls \n",
    "svm.sliding_window = svm.imaging_rate      # number of frames in sliding window\n",
    "\n",
    "# pca params\n",
    "svm.pca_flag = True\n",
    "svm.pca_var = 0.95  # this is default for now for nComp = 20\n",
    "            \n",
    "# svm parameters\n",
    "svm.xvalidation = 10  # KFold xvalidation step\n",
    "svm.data_split = 0.8  # split 80/20 data for training\n",
    "svm.method = 'sigmoid'  # method used for computing SVM\n",
    "\n",
    "# run-time parameters\n",
    "svm.parallel = True\n",
    "svm.n_cores = svm.xvalidation\n",
    "svm.min_trials = 10\n",
    "svm.overwrite = False\n",
    "\n",
    "# session info\n",
    "#session_ids = ['Mar1_', 'Mar2_', 'Mar3_', 'Feb29', 'Mar7_']\n",
    "svm.session_id = 'all'\n",
    "#svm.session_id = 'Feb9_'\n",
    "\n",
    "# \n",
    "#codes = ['left_paw','right_paw','jaw']\n",
    "codes = ['code_04']\n",
    "\n",
    "#svm.correlation_prefix = '_oscillation'\n",
    "svm.correlation_prefix = ''\n",
    "\n",
    "# use ideal length flag:\n",
    "svm.ideal_window_flag = False\n",
    "\n",
    "#\n",
    "for code in codes:\n",
    "    svm.code = code\n",
    "\n",
    "    # \n",
    "    #lockouts = [False, True]\n",
    "    lockouts = [True]\n",
    "    for name in names:\n",
    "        for lockout in lockouts:\n",
    "            # \n",
    "            svm.lockout = lockout      # May wish to run SVM on both lockout and nonlockout eventually\n",
    "\n",
    "            #\n",
    "            svm.animal_id = name\n",
    "\n",
    "            #\n",
    "            svm.predict2()\n",
    "\n"
   ]
  },
  {
   "cell_type": "code",
   "execution_count": 17,
   "metadata": {},
   "outputs": [
    {
     "name": "stdout",
     "output_type": "stream",
     "text": [
      "(1801, 10)\n",
      "(1801, 10)\n"
     ]
    }
   ],
   "source": [
    "###############################################################\n",
    "############### QUICK AND DIRTY VISUALIZATIONS ################\n",
    "###############################################################\n",
    "\n",
    "codes = ['original','ideal']\n",
    "\n",
    "fnames = [\n",
    "\n",
    "# '/media/cat/4TBSSD/yuki/IJ1/SVM_Scores/SVM_Scores_IJ1pm_Mar2_30Hzcode_04_trial_ROItimeCourses_30sec_Xvalid10_Slidewindow30.npz',\n",
    "# '/media/cat/4TBSSD/yuki/IJ1/SVM_Scores/SVM_Scores_IJ1pm_Mar2_30Hzcode_04_correlation1_trial_ROItimeCourses_30sec_Xvalid10_Slidewindow30.npz',\n",
    "# '/media/cat/4TBSSD/yuki/IJ1/SVM_Scores/SVM_Scores_IJ1pm_Mar2_30Hzcode_04_correlation2_trial_ROItimeCourses_30sec_Xvalid10_Slidewindow30.npz'\n",
    "\n",
    "#'/media/cat/4TBSSD/yuki/AQ2/SVM_Scores/SVM_Scores_AQ2am_Apr29_Week8_30Hzcode_04_trial_ROItimeCourses_30sec_Xvalid10_Slidewindow30.npz',\n",
    "#'/media/cat/4TBSSD/yuki/AQ2/SVM_Scores/SVM_Scores_AQ2am_Apr29_Week8_30Hzcode_04_trial_ROItimeCourses_30sec_Xvalid10_Slidewindow150.npz'\n",
    "    \n",
    " \n",
    "#'/media/cat/4TBSSD/yuki/AQ2/SVM_Scores/SVM_Scores_AQ2am_Apr14_Week6_30Hzcode_04_trial_ROItimeCourses_30sec_Xvalid10_Slidewindow30.npz',\n",
    "#'/media/cat/4TBSSD/yuki/AQ2/SVM_Scores/SVM_Scores_AQ2am_Apr14_Week6_30Hzcode_04_trial_ROItimeCourses_30sec_Xvalid10_Slidewindow138.npz'\n",
    "    \n",
    "'/media/cat/4TBSSD/yuki/IJ1/SVM_Scores/SVM_Scores_IJ1pm_Mar2_30Hzcode_04_trial_ROItimeCourses_30sec_Xvalid10_Slidewindow30.npz',\n",
    "'/media/cat/4TBSSD/yuki/IJ1/SVM_Scores/SVM_Scores_IJ1pm_Mar2_30Hzcode_04_trial_ROItimeCourses_30sec_Xvalid10_Slidewindow128.npz'   \n",
    "    \n",
    "#'/media/cat/4TBSSD/yuki/IJ1/SVM_Scores/SVM_Scores_IJ1pm_Mar31_30Hzcode_04_trial_ROItimeCourses_30sec_Xvalid10_Slidewindow30.npz',\n",
    "#'/media/cat/4TBSSD/yuki/IJ1/SVM_Scores/SVM_Scores_IJ1pm_Mar31_30Hzcode_04_correlation1_trial_ROItimeCourses_30sec_Xvalid10_Slidewindow30.npz',\n",
    " \n",
    "    \n",
    "# '/media/cat/4TBSSD/yuki/IJ1/SVM_Scores/SVM_Scores_IJ1pm_Mar23_30Hzcode_04_trial_ROItimeCourses_30sec_Xvalid10_Slidewindow30.npz',\n",
    "# '/media/cat/4TBSSD/yuki/IJ1/SVM_Scores/SVM_Scores_IJ1pm_Mar23_30Hzcode_04_correlation1_trial_ROItimeCourses_30sec_Xvalid10_Slidewindow30.npz',\n",
    "# '/media/cat/4TBSSD/yuki/IJ1/SVM_Scores/SVM_Scores_IJ1pm_Mar23_30Hzcode_04_correlation2_trial_ROItimeCourses_30sec_Xvalid10_Slidewindow30.npz'    \n",
    "    \n",
    "]\n",
    "fig=plt.figure()\n",
    "ax=plt.subplot(111)\n",
    "for ctr,fname in enumerate(fnames):\n",
    "    data = np.load(fname)\n",
    "    acc = data['accuracy']\n",
    "    length = 1801-acc.shape[0]\n",
    "    acc = np.vstack(\n",
    "                     (np.zeros((length,10), dtype=np.float32), \n",
    "                      acc))\n",
    "    print (acc.shape)\n",
    "    #acc = acc[:870]\n",
    "    t = np.arange(acc.shape[0])/30-29\n",
    "    mean = acc.mean(1)\n",
    "    std = np.std(acc,1)\n",
    "    plt.plot(t,mean,label=codes[ctr])\n",
    "    ax.fill_between(t, mean+std,\n",
    "                   mean-std,\n",
    "                  alpha=.2)\n",
    "\n",
    "plt.plot([-30,0],[0.5,0.5],'--',c='grey')\n",
    "plt.ylim(0,1)\n",
    "plt.legend()\n",
    "plt.show()"
   ]
  },
  {
   "cell_type": "code",
   "execution_count": 16,
   "metadata": {},
   "outputs": [
    {
     "name": "stdout",
     "output_type": "stream",
     "text": [
      "(16, 7, 1801)\n",
      "(16, 16, 1801)\n"
     ]
    }
   ],
   "source": [
    "data = np.load('/media/cat/4TBSSD/yuki/IJ1/tif_files/IJ1pm_Mar1_30Hz/IJ1pm_Mar1_30Hz_code_04_trial_ROItimeCourses_30sec_pca_0.95.npy')\n",
    "print (data.shape)\n",
    "\n",
    "data2 = np.load('/media/cat/4TBSSD/yuki/IJ1/tif_files/IJ1pm_Mar1_30Hz/IJ1pm_Mar1_30Hz_code_04_correlation2_trial_ROItimeCourses_30sec_pca_0.95.npy')\n",
    "print (data2.shape)"
   ]
  },
  {
   "cell_type": "code",
   "execution_count": null,
   "metadata": {},
   "outputs": [],
   "source": []
  }
 ],
 "metadata": {
  "kernelspec": {
   "display_name": "Python 3",
   "language": "python",
   "name": "python3"
  },
  "language_info": {
   "codemirror_mode": {
    "name": "ipython",
    "version": 3
   },
   "file_extension": ".py",
   "mimetype": "text/x-python",
   "name": "python",
   "nbconvert_exporter": "python",
   "pygments_lexer": "ipython3",
   "version": "3.8.0"
  }
 },
 "nbformat": 4,
 "nbformat_minor": 4
}
