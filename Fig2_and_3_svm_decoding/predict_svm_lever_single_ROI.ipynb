{
 "cells": [
  {
   "cell_type": "code",
   "execution_count": 1,
   "metadata": {},
   "outputs": [
    {
     "data": {
      "application/javascript": [
       "IPython.notebook.set_autosave_interval(180000)"
      ]
     },
     "metadata": {},
     "output_type": "display_data"
    },
    {
     "name": "stdout",
     "output_type": "stream",
     "text": [
      "Autosaving every 180 seconds\n"
     ]
    },
    {
     "data": {
      "text/html": [
       "<style>.container { width:100% !important; }</style>"
      ],
      "text/plain": [
       "<IPython.core.display.HTML object>"
      ]
     },
     "metadata": {},
     "output_type": "display_data"
    }
   ],
   "source": [
    "import matplotlib\n",
    "#matplotlib.use('Agg')\n",
    "\n",
    "%load_ext autoreload\n",
    "%autoreload 2\n",
    "\n",
    "%matplotlib tk\n",
    "%autosave 180\n",
    "\n",
    "import sys\n",
    "sys.path.append(\"/home/cat/code/widefieldPredict/\") # go to parent dir\n",
    "\n",
    "##############################################\n",
    "from visualize import visualize_svm\n",
    "\n",
    "\n",
    "\n",
    "import matplotlib.pyplot as plt\n",
    "from IPython.core.display import display, HTML\n",
    "display(HTML(\"<style>.container { width:100% !important; }</style>\"))\n",
    "\n",
    "import numpy as np\n",
    "import os\n",
    "\n",
    "#  SVM module\n",
    "from svm import svm as SVM\n",
    "# \n",
    "data_dir = '/media/cat/4TBSSD/yuki/'\n",
    "#data_dir = '/mnt/f418adc0-4ff9-410c-93c9-d6d21a1e9c35/yuki/'\n"
   ]
  },
  {
   "cell_type": "code",
   "execution_count": 2,
   "metadata": {},
   "outputs": [
    {
     "name": "stdout",
     "output_type": "stream",
     "text": [
      "(23, 16, 1801) (23, 16, 1801)\n",
      "['Retrosplenial area, dorsal part, layer 1 - right'\n",
      " 'Retrosplenial area, lateral agranular part, layer 1 - right'\n",
      " 'Primary visual area, layer 1 - right'\n",
      " 'Primary somatosensory area, upper limb, layer 1 - right'\n",
      " 'Primary somatosensory area, lower limb, layer 1 - right'\n",
      " 'Primary somatosensory area, barrel field, layer 1 - right'\n",
      " 'Secondary motor area, layer 1 - right'\n",
      " 'Primary motor area, Layer 1 - right'\n",
      " 'Primary motor area, Layer 1 - left'\n",
      " 'Secondary motor area, layer 1 - left'\n",
      " 'Primary somatosensory area, barrel field, layer 1 - left'\n",
      " 'Primary somatosensory area, lower limb, layer 1 - left'\n",
      " 'Primary somatosensory area, upper limb, layer 1 - left'\n",
      " 'Primary visual area, layer 1 - left'\n",
      " 'Retrosplenial area, lateral agranular part, layer 1 - left'\n",
      " 'Retrosplenial area, dorsal part, layer 1 - left']\n"
     ]
    }
   ],
   "source": [
    "####################################\n",
    "###### TEST LOCANMF DATA ###########\n",
    "####################################\n",
    "data = np.load('/media/cat/4TBSSD/yuki/IA1/tif_files/IA1pm_Feb2_30Hz/IA1pm_Feb2_30Hz_locanmf.npz', allow_pickle=True)\n",
    "\n",
    "trial = data['temporal_trial']\n",
    "random = data['temporal_random']\n",
    "print (trial.shape, random.shape)\n",
    "\n",
    "names = data['names']\n",
    "print (names)"
   ]
  },
  {
   "cell_type": "code",
   "execution_count": 3,
   "metadata": {
    "scrolled": true
   },
   "outputs": [
    {
     "name": "stdout",
     "output_type": "stream",
     "text": [
      " ....file not found, skippping  /media/cat/4TBSSD/yuki/IA1/tif_files/IA1pm_Feb1_30Hz/IA1pm_Feb1_30Hz_locanmf.npz\n",
      "   already computed, skipping ... /media/cat/4TBSSD/yuki/IA1/SVM_Scores/SVM_Scores_ROI_IA1pm_Feb2_30Hz_limb, layer 1 - right_trial_ROItimeCourses_30sec_Xvalid10_Slidewindow30.npz\n",
      "\n",
      "\n",
      "   already computed, skipping ... /media/cat/4TBSSD/yuki/IA1/SVM_Scores/SVM_Scores_ROI_IA1pm_Feb3_30Hz_limb, layer 1 - right_trial_ROItimeCourses_30sec_Xvalid10_Slidewindow30.npz\n",
      "\n",
      "\n",
      " ....file not found, skippping  /media/cat/4TBSSD/yuki/IA1/tif_files/IA1pm_Feb4_30Hz/IA1pm_Feb4_30Hz_locanmf.npz\n",
      " ....file not found, skippping  /media/cat/4TBSSD/yuki/IA1/tif_files/IA1pm_Feb5_30Hz/IA1pm_Feb5_30Hz_locanmf.npz\n",
      "   already computed, skipping ... /media/cat/4TBSSD/yuki/IA1/SVM_Scores/SVM_Scores_ROI_IA1pm_Feb9_30Hz_limb, layer 1 - right_trial_ROItimeCourses_30sec_Xvalid10_Slidewindow30.npz\n",
      "\n",
      "\n",
      "   already computed, skipping ... /media/cat/4TBSSD/yuki/IA1/SVM_Scores/SVM_Scores_ROI_IA1pm_Feb10_30Hz_limb, layer 1 - right_trial_ROItimeCourses_30sec_Xvalid10_Slidewindow30.npz\n",
      "\n",
      "\n",
      "   already computed, skipping ... /media/cat/4TBSSD/yuki/IA1/SVM_Scores/SVM_Scores_ROI_IA1pm_Feb11_30Hz_limb, layer 1 - right_trial_ROItimeCourses_30sec_Xvalid10_Slidewindow30.npz\n",
      "\n",
      "\n",
      " ....file not found, skippping  /media/cat/4TBSSD/yuki/IA1/tif_files/IA1pm_Feb12_30Hz/IA1pm_Feb12_30Hz_locanmf.npz\n",
      "processing;  /media/cat/4TBSSD/yuki/IA1/tif_files/IA1pm_Feb15_30Hz/IA1pm_Feb15_30Hz_locanmf.npz  with lockout:  False\n"
     ]
    },
    {
     "name": "stderr",
     "output_type": "stream",
     "text": [
      "100%|██████████| 10/10 [00:04<00:00,  2.07it/s]"
     ]
    },
    {
     "name": "stdout",
     "output_type": "stream",
     "text": [
      "processing;  /media/cat/4TBSSD/yuki/IA1/tif_files/IA1pm_Feb16_30Hz/IA1pm_Feb16_30Hz_locanmf.npz  with lockout:  False\n"
     ]
    },
    {
     "name": "stderr",
     "output_type": "stream",
     "text": [
      "\n",
      "100%|██████████| 10/10 [00:05<00:00,  1.67it/s]"
     ]
    },
    {
     "name": "stdout",
     "output_type": "stream",
     "text": [
      "processing;  /media/cat/4TBSSD/yuki/IA1/tif_files/IA1pm_Feb17_30Hz/IA1pm_Feb17_30Hz_locanmf.npz  with lockout:  False\n"
     ]
    },
    {
     "name": "stderr",
     "output_type": "stream",
     "text": [
      "\n",
      "100%|██████████| 10/10 [00:05<00:00,  1.75it/s]"
     ]
    },
    {
     "name": "stdout",
     "output_type": "stream",
     "text": [
      "processing;  /media/cat/4TBSSD/yuki/IA1/tif_files/IA1pm_Feb18_30Hz/IA1pm_Feb18_30Hz_locanmf.npz  with lockout:  False\n"
     ]
    },
    {
     "name": "stderr",
     "output_type": "stream",
     "text": [
      "\n",
      "100%|██████████| 10/10 [00:04<00:00,  2.11it/s]"
     ]
    },
    {
     "name": "stdout",
     "output_type": "stream",
     "text": [
      " ....file not found, skippping  /media/cat/4TBSSD/yuki/IA1/tif_files/IA1pm_Feb19_30Hz/IA1pm_Feb19_30Hz_locanmf.npz\n",
      " ....file not found, skippping  /media/cat/4TBSSD/yuki/IA1/tif_files/IA1pm_Feb22_30Hz/IA1pm_Feb22_30Hz_locanmf.npz\n",
      "processing;  /media/cat/4TBSSD/yuki/IA1/tif_files/IA1pm_Feb23_30Hz/IA1pm_Feb23_30Hz_locanmf.npz  with lockout:  False\n"
     ]
    },
    {
     "name": "stderr",
     "output_type": "stream",
     "text": [
      "\n",
      "100%|██████████| 10/10 [00:08<00:00,  1.12it/s]"
     ]
    },
    {
     "name": "stdout",
     "output_type": "stream",
     "text": [
      " ....file not found, skippping  /media/cat/4TBSSD/yuki/IA1/tif_files/IA1pm_Feb24_30Hz/IA1pm_Feb24_30Hz_locanmf.npz\n",
      " ....file not found, skippping  /media/cat/4TBSSD/yuki/IA1/tif_files/IA1pm_Feb25_30Hz/IA1pm_Feb25_30Hz_locanmf.npz\n",
      "processing;  /media/cat/4TBSSD/yuki/IA1/tif_files/IA1pm_Feb26_30Hz/IA1pm_Feb26_30Hz_locanmf.npz  with lockout:  False\n"
     ]
    },
    {
     "name": "stderr",
     "output_type": "stream",
     "text": [
      "\n",
      "100%|██████████| 10/10 [00:04<00:00,  2.19it/s]"
     ]
    },
    {
     "name": "stdout",
     "output_type": "stream",
     "text": [
      "processing;  /media/cat/4TBSSD/yuki/IA1/tif_files/IA1pm_Feb29_30Hz/IA1pm_Feb29_30Hz_locanmf.npz  with lockout:  False\n"
     ]
    },
    {
     "name": "stderr",
     "output_type": "stream",
     "text": [
      "\n",
      "100%|██████████| 10/10 [00:05<00:00,  1.91it/s]"
     ]
    },
    {
     "name": "stdout",
     "output_type": "stream",
     "text": [
      " ....file not found, skippping  /media/cat/4TBSSD/yuki/IA1/tif_files/IA1pm_Mar1_30Hz/IA1pm_Mar1_30Hz_locanmf.npz\n",
      "processing;  /media/cat/4TBSSD/yuki/IA1/tif_files/IA1pm_Mar2_30Hz/IA1pm_Mar2_30Hz_locanmf.npz  with lockout:  False\n"
     ]
    },
    {
     "name": "stderr",
     "output_type": "stream",
     "text": [
      "\n",
      "100%|██████████| 10/10 [00:05<00:00,  1.75it/s]"
     ]
    },
    {
     "name": "stdout",
     "output_type": "stream",
     "text": [
      "processing;  /media/cat/4TBSSD/yuki/IA1/tif_files/IA1pm_Mar3_30Hz/IA1pm_Mar3_30Hz_locanmf.npz  with lockout:  False\n"
     ]
    },
    {
     "name": "stderr",
     "output_type": "stream",
     "text": [
      "\n",
      "100%|██████████| 10/10 [00:05<00:00,  1.98it/s]"
     ]
    },
    {
     "name": "stdout",
     "output_type": "stream",
     "text": [
      "processing;  /media/cat/4TBSSD/yuki/IA1/tif_files/IA1am_Mar4_30Hz/IA1am_Mar4_30Hz_locanmf.npz  with lockout:  False\n"
     ]
    },
    {
     "name": "stderr",
     "output_type": "stream",
     "text": [
      "\n",
      "100%|██████████| 10/10 [00:05<00:00,  1.81it/s]"
     ]
    },
    {
     "name": "stdout",
     "output_type": "stream",
     "text": [
      "processing;  /media/cat/4TBSSD/yuki/IA1/tif_files/IA1am_Mar7_30Hz/IA1am_Mar7_30Hz_locanmf.npz  with lockout:  False\n"
     ]
    },
    {
     "name": "stderr",
     "output_type": "stream",
     "text": [
      "\n",
      "100%|██████████| 10/10 [00:04<00:00,  2.01it/s]"
     ]
    },
    {
     "name": "stdout",
     "output_type": "stream",
     "text": [
      " ....file not found, skippping  /media/cat/4TBSSD/yuki/IA1/tif_files/IA1pm_Mar8_30Hz/IA1pm_Mar8_30Hz_locanmf.npz\n",
      "processing;  /media/cat/4TBSSD/yuki/IA1/tif_files/IA1am_Mar9_30Hz/IA1am_Mar9_30Hz_locanmf.npz  with lockout:  False\n"
     ]
    },
    {
     "name": "stderr",
     "output_type": "stream",
     "text": [
      "\n",
      "100%|██████████| 10/10 [00:05<00:00,  1.95it/s]"
     ]
    },
    {
     "name": "stdout",
     "output_type": "stream",
     "text": [
      "processing;  /media/cat/4TBSSD/yuki/IA1/tif_files/IA1am_Mar10_30Hz/IA1am_Mar10_30Hz_locanmf.npz  with lockout:  False\n"
     ]
    },
    {
     "name": "stderr",
     "output_type": "stream",
     "text": [
      "\n",
      "100%|██████████| 10/10 [00:05<00:00,  1.93it/s]"
     ]
    },
    {
     "name": "stdout",
     "output_type": "stream",
     "text": [
      "processing;  /media/cat/4TBSSD/yuki/IA1/tif_files/IA1am_Mar11_30Hz/IA1am_Mar11_30Hz_locanmf.npz  with lockout:  False\n"
     ]
    },
    {
     "name": "stderr",
     "output_type": "stream",
     "text": [
      "\n",
      "100%|██████████| 10/10 [00:04<00:00,  2.02it/s]"
     ]
    },
    {
     "name": "stdout",
     "output_type": "stream",
     "text": [
      "processing;  /media/cat/4TBSSD/yuki/IA1/tif_files/IA1pm_Mar14_30Hz/IA1pm_Mar14_30Hz_locanmf.npz  with lockout:  False\n"
     ]
    },
    {
     "name": "stderr",
     "output_type": "stream",
     "text": [
      "\n",
      "100%|██████████| 10/10 [00:06<00:00,  1.58it/s]"
     ]
    },
    {
     "name": "stdout",
     "output_type": "stream",
     "text": [
      "processing;  /media/cat/4TBSSD/yuki/IA1/tif_files/IA1am_Mar15_30Hz/IA1am_Mar15_30Hz_locanmf.npz  with lockout:  False\n"
     ]
    },
    {
     "name": "stderr",
     "output_type": "stream",
     "text": [
      "\n",
      "100%|██████████| 10/10 [00:05<00:00,  1.97it/s]"
     ]
    },
    {
     "name": "stdout",
     "output_type": "stream",
     "text": [
      " ....file not found, skippping  /media/cat/4TBSSD/yuki/IA1/tif_files/IA1pm_Mar16_30Hz/IA1pm_Mar16_30Hz_locanmf.npz\n",
      "processing;  /media/cat/4TBSSD/yuki/IA1/tif_files/IA1pm_Mar17_30Hz/IA1pm_Mar17_30Hz_locanmf.npz  with lockout:  False\n"
     ]
    },
    {
     "name": "stderr",
     "output_type": "stream",
     "text": [
      "\n",
      "100%|██████████| 10/10 [00:04<00:00,  2.15it/s]"
     ]
    },
    {
     "name": "stdout",
     "output_type": "stream",
     "text": [
      "processing;  /media/cat/4TBSSD/yuki/IA1/tif_files/IA1pm_Mar18_30Hz/IA1pm_Mar18_30Hz_locanmf.npz  with lockout:  False\n"
     ]
    },
    {
     "name": "stderr",
     "output_type": "stream",
     "text": [
      "\n",
      "100%|██████████| 10/10 [00:04<00:00,  2.13it/s]"
     ]
    },
    {
     "name": "stdout",
     "output_type": "stream",
     "text": [
      "processing;  /media/cat/4TBSSD/yuki/IA1/tif_files/IA1pm_Mar21_30Hz/IA1pm_Mar21_30Hz_locanmf.npz  with lockout:  False\n"
     ]
    },
    {
     "name": "stderr",
     "output_type": "stream",
     "text": [
      "\n",
      "100%|██████████| 10/10 [00:04<00:00,  2.14it/s]"
     ]
    },
    {
     "name": "stdout",
     "output_type": "stream",
     "text": [
      " ....file not found, skippping  /media/cat/4TBSSD/yuki/IA1/tif_files/IA1pm_Mar22_30Hz/IA1pm_Mar22_30Hz_locanmf.npz\n",
      "processing;  /media/cat/4TBSSD/yuki/IA1/tif_files/IA1pm_Mar23_30Hz/IA1pm_Mar23_30Hz_locanmf.npz  with lockout:  False\n"
     ]
    },
    {
     "name": "stderr",
     "output_type": "stream",
     "text": [
      "\n",
      "100%|██████████| 10/10 [00:04<00:00,  2.18it/s]"
     ]
    },
    {
     "name": "stdout",
     "output_type": "stream",
     "text": [
      "processing;  /media/cat/4TBSSD/yuki/IA1/tif_files/IA1pm_Mar24_30Hz/IA1pm_Mar24_30Hz_locanmf.npz  with lockout:  False\n"
     ]
    },
    {
     "name": "stderr",
     "output_type": "stream",
     "text": [
      "\n",
      "100%|██████████| 10/10 [00:04<00:00,  2.16it/s]"
     ]
    },
    {
     "name": "stdout",
     "output_type": "stream",
     "text": [
      "processing;  /media/cat/4TBSSD/yuki/IA1/tif_files/IA1pm_Mar29_30Hz/IA1pm_Mar29_30Hz_locanmf.npz  with lockout:  False\n"
     ]
    },
    {
     "name": "stderr",
     "output_type": "stream",
     "text": [
      "\n",
      "100%|██████████| 10/10 [00:04<00:00,  2.06it/s]"
     ]
    },
    {
     "name": "stdout",
     "output_type": "stream",
     "text": [
      "processing;  /media/cat/4TBSSD/yuki/IA1/tif_files/IA1pm_Mar30_30Hz/IA1pm_Mar30_30Hz_locanmf.npz  with lockout:  False\n"
     ]
    },
    {
     "name": "stderr",
     "output_type": "stream",
     "text": [
      "\n",
      "100%|██████████| 10/10 [00:04<00:00,  2.14it/s]"
     ]
    },
    {
     "name": "stdout",
     "output_type": "stream",
     "text": [
      "processing;  /media/cat/4TBSSD/yuki/IA1/tif_files/IA1pm_Mar31_30Hz/IA1pm_Mar31_30Hz_locanmf.npz  with lockout:  False\n"
     ]
    },
    {
     "name": "stderr",
     "output_type": "stream",
     "text": [
      "\n",
      "100%|██████████| 10/10 [00:04<00:00,  2.19it/s]"
     ]
    },
    {
     "name": "stdout",
     "output_type": "stream",
     "text": [
      "processing;  /media/cat/4TBSSD/yuki/IA1/tif_files/IA1pm_Apr1_30Hz/IA1pm_Apr1_30Hz_locanmf.npz  with lockout:  False\n"
     ]
    },
    {
     "name": "stderr",
     "output_type": "stream",
     "text": [
      "\n",
      "100%|██████████| 10/10 [00:04<00:00,  2.17it/s]"
     ]
    },
    {
     "name": "stdout",
     "output_type": "stream",
     "text": [
      " ....file not found, skippping  /media/cat/4TBSSD/yuki/IA1/tif_files/IA1pm_Apr4_30Hz/IA1pm_Apr4_30Hz_locanmf.npz\n",
      " ....file not found, skippping  /media/cat/4TBSSD/yuki/IA1/tif_files/IA1pm_Apr5_30Hz/IA1pm_Apr5_30Hz_locanmf.npz\n",
      "processing;  /media/cat/4TBSSD/yuki/IA1/tif_files/IA1pm_Apr6_30Hz/IA1pm_Apr6_30Hz_locanmf.npz  with lockout:  False\n"
     ]
    },
    {
     "name": "stderr",
     "output_type": "stream",
     "text": [
      "\n",
      "100%|██████████| 10/10 [00:04<00:00,  2.09it/s]"
     ]
    },
    {
     "name": "stdout",
     "output_type": "stream",
     "text": [
      "processing;  /media/cat/4TBSSD/yuki/IA1/tif_files/IA1pm_Apr7_30Hz/IA1pm_Apr7_30Hz_locanmf.npz  with lockout:  False\n"
     ]
    },
    {
     "name": "stderr",
     "output_type": "stream",
     "text": [
      "\n",
      "100%|██████████| 10/10 [00:04<00:00,  2.21it/s]"
     ]
    },
    {
     "name": "stdout",
     "output_type": "stream",
     "text": [
      " ....file not found, skippping  /media/cat/4TBSSD/yuki/IA1/tif_files/IA1pm_Apr11_Day3_30Hz/IA1pm_Apr11_Day3_30Hz_locanmf.npz\n",
      "processing;  /media/cat/4TBSSD/yuki/IA1/tif_files/IA1pm_Apr13_Day5_30Hz/IA1pm_Apr13_Day5_30Hz_locanmf.npz  with lockout:  False\n"
     ]
    },
    {
     "name": "stderr",
     "output_type": "stream",
     "text": [
      "\n",
      "100%|██████████| 10/10 [00:05<00:00,  1.92it/s]"
     ]
    },
    {
     "name": "stdout",
     "output_type": "stream",
     "text": [
      "processing;  /media/cat/4TBSSD/yuki/IA1/tif_files/IA1pm_Apr15_Day7_30Hz/IA1pm_Apr15_Day7_30Hz_locanmf.npz  with lockout:  False\n"
     ]
    },
    {
     "name": "stderr",
     "output_type": "stream",
     "text": [
      "\n",
      "100%|██████████| 10/10 [00:04<00:00,  2.05it/s]"
     ]
    },
    {
     "name": "stdout",
     "output_type": "stream",
     "text": [
      "processing;  /media/cat/4TBSSD/yuki/IA1/tif_files/IA1pm_Apr18_Week2_30Hz/IA1pm_Apr18_Week2_30Hz_locanmf.npz  with lockout:  False\n"
     ]
    },
    {
     "name": "stderr",
     "output_type": "stream",
     "text": [
      "\n",
      "100%|██████████| 10/10 [00:04<00:00,  2.13it/s]"
     ]
    },
    {
     "name": "stdout",
     "output_type": "stream",
     "text": [
      "processing;  /media/cat/4TBSSD/yuki/IA1/tif_files/IA1pm_Apr19_Week2_30Hz/IA1pm_Apr19_Week2_30Hz_locanmf.npz  with lockout:  False\n"
     ]
    },
    {
     "name": "stderr",
     "output_type": "stream",
     "text": [
      "\n",
      "100%|██████████| 10/10 [00:04<00:00,  2.08it/s]"
     ]
    },
    {
     "name": "stdout",
     "output_type": "stream",
     "text": [
      "processing;  /media/cat/4TBSSD/yuki/IA1/tif_files/IA1pm_Apr20_Week2_30Hz/IA1pm_Apr20_Week2_30Hz_locanmf.npz  with lockout:  False\n"
     ]
    },
    {
     "name": "stderr",
     "output_type": "stream",
     "text": [
      "\n",
      "100%|██████████| 10/10 [00:04<00:00,  2.14it/s]"
     ]
    },
    {
     "name": "stdout",
     "output_type": "stream",
     "text": [
      "processing;  /media/cat/4TBSSD/yuki/IA1/tif_files/IA1pm_Apr21_Week2_30Hz/IA1pm_Apr21_Week2_30Hz_locanmf.npz  with lockout:  False\n"
     ]
    },
    {
     "name": "stderr",
     "output_type": "stream",
     "text": [
      "\n",
      "100%|██████████| 10/10 [00:05<00:00,  1.69it/s]"
     ]
    },
    {
     "name": "stdout",
     "output_type": "stream",
     "text": [
      " ....file not found, skippping  /media/cat/4TBSSD/yuki/IA1/tif_files/IA1pm_Apr22_Week2_30Hz/IA1pm_Apr22_Week2_30Hz_locanmf.npz\n",
      "processing;  /media/cat/4TBSSD/yuki/IA1/tif_files/IA1pm_Apr25_Week3_30Hz/IA1pm_Apr25_Week3_30Hz_locanmf.npz  with lockout:  False\n"
     ]
    },
    {
     "name": "stderr",
     "output_type": "stream",
     "text": [
      "\n",
      "100%|██████████| 10/10 [00:05<00:00,  1.72it/s]"
     ]
    },
    {
     "name": "stdout",
     "output_type": "stream",
     "text": [
      "processing;  /media/cat/4TBSSD/yuki/IA1/tif_files/IA1pm_Apr26_Week3_30Hz/IA1pm_Apr26_Week3_30Hz_locanmf.npz  with lockout:  False\n"
     ]
    },
    {
     "name": "stderr",
     "output_type": "stream",
     "text": [
      "\n",
      "100%|██████████| 10/10 [00:05<00:00,  1.93it/s]"
     ]
    },
    {
     "name": "stdout",
     "output_type": "stream",
     "text": [
      "processing;  /media/cat/4TBSSD/yuki/IA1/tif_files/IA1pm_Apr27_Week3_30Hz/IA1pm_Apr27_Week3_30Hz_locanmf.npz  with lockout:  False\n"
     ]
    },
    {
     "name": "stderr",
     "output_type": "stream",
     "text": [
      "\n",
      "100%|██████████| 10/10 [00:04<00:00,  2.06it/s]"
     ]
    },
    {
     "name": "stdout",
     "output_type": "stream",
     "text": [
      "processing;  /media/cat/4TBSSD/yuki/IA1/tif_files/IA1pm_Apr28_Week3_30Hz/IA1pm_Apr28_Week3_30Hz_locanmf.npz  with lockout:  False\n"
     ]
    },
    {
     "name": "stderr",
     "output_type": "stream",
     "text": [
      "\n",
      "100%|██████████| 10/10 [00:04<00:00,  2.16it/s]"
     ]
    },
    {
     "name": "stdout",
     "output_type": "stream",
     "text": [
      "processing;  /media/cat/4TBSSD/yuki/IA1/tif_files/IA1pm_Apr29_Week3_30Hz/IA1pm_Apr29_Week3_30Hz_locanmf.npz  with lockout:  False\n"
     ]
    },
    {
     "name": "stderr",
     "output_type": "stream",
     "text": [
      "\n",
      "100%|██████████| 10/10 [00:04<00:00,  2.14it/s]"
     ]
    },
    {
     "name": "stdout",
     "output_type": "stream",
     "text": [
      " ....file not found, skippping  /media/cat/4TBSSD/yuki/IA1/tif_files/IA1am_May2_Week4_30Hz/IA1am_May2_Week4_30Hz_locanmf.npz\n",
      "processing;  /media/cat/4TBSSD/yuki/IA1/tif_files/IA1am_May4_Week4_30Hz/IA1am_May4_Week4_30Hz_locanmf.npz  with lockout:  False\n"
     ]
    },
    {
     "name": "stderr",
     "output_type": "stream",
     "text": [
      "\n",
      "100%|██████████| 10/10 [00:05<00:00,  1.89it/s]"
     ]
    },
    {
     "name": "stdout",
     "output_type": "stream",
     "text": [
      "processing;  /media/cat/4TBSSD/yuki/IA1/tif_files/IA1am_May5_Week4_30Hz/IA1am_May5_Week4_30Hz_locanmf.npz  with lockout:  False\n"
     ]
    },
    {
     "name": "stderr",
     "output_type": "stream",
     "text": [
      "\n",
      "100%|██████████| 10/10 [00:04<00:00,  2.17it/s]"
     ]
    },
    {
     "name": "stdout",
     "output_type": "stream",
     "text": [
      "processing;  /media/cat/4TBSSD/yuki/IA1/tif_files/IA1am_May6_Week4_30Hz/IA1am_May6_Week4_30Hz_locanmf.npz  with lockout:  False\n"
     ]
    },
    {
     "name": "stderr",
     "output_type": "stream",
     "text": [
      "\n",
      "100%|██████████| 10/10 [00:05<00:00,  1.94it/s]"
     ]
    },
    {
     "name": "stdout",
     "output_type": "stream",
     "text": [
      "processing;  /media/cat/4TBSSD/yuki/IA1/tif_files/IA1am_May9_Week5_30Hz/IA1am_May9_Week5_30Hz_locanmf.npz  with lockout:  False\n"
     ]
    },
    {
     "name": "stderr",
     "output_type": "stream",
     "text": [
      "\n",
      "100%|██████████| 10/10 [00:05<00:00,  1.98it/s]"
     ]
    },
    {
     "name": "stdout",
     "output_type": "stream",
     "text": [
      "processing;  /media/cat/4TBSSD/yuki/IA1/tif_files/IA1am_May10_Week5_30Hz/IA1am_May10_Week5_30Hz_locanmf.npz  with lockout:  False\n"
     ]
    },
    {
     "name": "stderr",
     "output_type": "stream",
     "text": [
      "\n",
      "100%|██████████| 10/10 [00:04<00:00,  2.01it/s]"
     ]
    },
    {
     "name": "stdout",
     "output_type": "stream",
     "text": [
      "processing;  /media/cat/4TBSSD/yuki/IA1/tif_files/IA1am_May12_Week5_30Hz/IA1am_May12_Week5_30Hz_locanmf.npz  with lockout:  False\n"
     ]
    },
    {
     "name": "stderr",
     "output_type": "stream",
     "text": [
      "\n",
      "100%|██████████| 10/10 [00:06<00:00,  1.67it/s]"
     ]
    },
    {
     "name": "stdout",
     "output_type": "stream",
     "text": [
      " ....file not found, skippping  /media/cat/4TBSSD/yuki/IA1/tif_files/IA1am_May13_Week5_30Hz/IA1am_May13_Week5_30Hz_locanmf.npz\n",
      " ....file not found, skippping  /media/cat/4TBSSD/yuki/IA1/tif_files/IA1am_May16_Week6_30Hz/IA1am_May16_Week6_30Hz_locanmf.npz\n",
      "processing;  /media/cat/4TBSSD/yuki/IA1/tif_files/IA1am_May17_Week6_30Hz/IA1am_May17_Week6_30Hz_locanmf.npz  with lockout:  False\n"
     ]
    },
    {
     "name": "stderr",
     "output_type": "stream",
     "text": [
      "\n",
      "100%|██████████| 10/10 [00:05<00:00,  1.87it/s]"
     ]
    },
    {
     "name": "stdout",
     "output_type": "stream",
     "text": [
      "processing;  /media/cat/4TBSSD/yuki/IA1/tif_files/IA1am_May18_Week6_30Hz/IA1am_May18_Week6_30Hz_locanmf.npz  with lockout:  False\n"
     ]
    },
    {
     "name": "stderr",
     "output_type": "stream",
     "text": [
      "\n",
      "100%|██████████| 10/10 [00:04<00:00,  2.10it/s]"
     ]
    },
    {
     "name": "stdout",
     "output_type": "stream",
     "text": [
      "processing;  /media/cat/4TBSSD/yuki/IA1/tif_files/IA1am_May20_Week6_30Hz/IA1am_May20_Week6_30Hz_locanmf.npz  with lockout:  False\n"
     ]
    },
    {
     "name": "stderr",
     "output_type": "stream",
     "text": [
      "\n",
      "100%|██████████| 10/10 [00:04<00:00,  2.20it/s]"
     ]
    },
    {
     "name": "stdout",
     "output_type": "stream",
     "text": [
      "DONE predicting SVM on animal:  IA1\n",
      " ....file not found, skippping  /media/cat/4TBSSD/yuki/IA1/tif_files/IA1pm_Feb1_30Hz/IA1pm_Feb1_30Hz_locanmf.npz\n",
      "processing;  /media/cat/4TBSSD/yuki/IA1/tif_files/IA1pm_Feb2_30Hz/IA1pm_Feb2_30Hz_locanmf.npz  with lockout:  False\n"
     ]
    },
    {
     "name": "stderr",
     "output_type": "stream",
     "text": [
      "\n",
      "100%|██████████| 10/10 [00:05<00:00,  1.99it/s]"
     ]
    },
    {
     "name": "stdout",
     "output_type": "stream",
     "text": [
      "processing;  /media/cat/4TBSSD/yuki/IA1/tif_files/IA1pm_Feb3_30Hz/IA1pm_Feb3_30Hz_locanmf.npz  with lockout:  False\n"
     ]
    },
    {
     "name": "stderr",
     "output_type": "stream",
     "text": [
      "\n",
      "100%|██████████| 10/10 [00:07<00:00,  1.38it/s]"
     ]
    },
    {
     "name": "stdout",
     "output_type": "stream",
     "text": [
      " ....file not found, skippping  /media/cat/4TBSSD/yuki/IA1/tif_files/IA1pm_Feb4_30Hz/IA1pm_Feb4_30Hz_locanmf.npz\n",
      " ....file not found, skippping  /media/cat/4TBSSD/yuki/IA1/tif_files/IA1pm_Feb5_30Hz/IA1pm_Feb5_30Hz_locanmf.npz\n",
      "processing;  /media/cat/4TBSSD/yuki/IA1/tif_files/IA1pm_Feb9_30Hz/IA1pm_Feb9_30Hz_locanmf.npz  with lockout:  False\n"
     ]
    },
    {
     "name": "stderr",
     "output_type": "stream",
     "text": [
      "\n",
      "100%|██████████| 10/10 [00:06<00:00,  1.46it/s]"
     ]
    },
    {
     "name": "stdout",
     "output_type": "stream",
     "text": [
      "processing;  /media/cat/4TBSSD/yuki/IA1/tif_files/IA1pm_Feb10_30Hz/IA1pm_Feb10_30Hz_locanmf.npz  with lockout:  False\n"
     ]
    },
    {
     "name": "stderr",
     "output_type": "stream",
     "text": [
      "\n",
      "100%|██████████| 10/10 [00:04<00:00,  2.10it/s]"
     ]
    },
    {
     "name": "stdout",
     "output_type": "stream",
     "text": [
      "processing;  /media/cat/4TBSSD/yuki/IA1/tif_files/IA1pm_Feb11_30Hz/IA1pm_Feb11_30Hz_locanmf.npz  with lockout:  False\n"
     ]
    },
    {
     "name": "stderr",
     "output_type": "stream",
     "text": [
      "\n",
      "100%|██████████| 10/10 [00:05<00:00,  1.72it/s]"
     ]
    },
    {
     "name": "stdout",
     "output_type": "stream",
     "text": [
      " ....file not found, skippping  /media/cat/4TBSSD/yuki/IA1/tif_files/IA1pm_Feb12_30Hz/IA1pm_Feb12_30Hz_locanmf.npz\n",
      "processing;  /media/cat/4TBSSD/yuki/IA1/tif_files/IA1pm_Feb15_30Hz/IA1pm_Feb15_30Hz_locanmf.npz  with lockout:  False\n"
     ]
    },
    {
     "name": "stderr",
     "output_type": "stream",
     "text": [
      "\n",
      "100%|██████████| 10/10 [00:04<00:00,  2.04it/s]"
     ]
    },
    {
     "name": "stdout",
     "output_type": "stream",
     "text": [
      "processing;  /media/cat/4TBSSD/yuki/IA1/tif_files/IA1pm_Feb16_30Hz/IA1pm_Feb16_30Hz_locanmf.npz  with lockout:  False\n"
     ]
    },
    {
     "name": "stderr",
     "output_type": "stream",
     "text": [
      "\n",
      "100%|██████████| 10/10 [00:05<00:00,  1.67it/s]"
     ]
    },
    {
     "name": "stdout",
     "output_type": "stream",
     "text": [
      "processing;  /media/cat/4TBSSD/yuki/IA1/tif_files/IA1pm_Feb17_30Hz/IA1pm_Feb17_30Hz_locanmf.npz  with lockout:  False\n"
     ]
    },
    {
     "name": "stderr",
     "output_type": "stream",
     "text": [
      "\n",
      "100%|██████████| 10/10 [00:05<00:00,  1.72it/s]"
     ]
    },
    {
     "name": "stdout",
     "output_type": "stream",
     "text": [
      "processing;  /media/cat/4TBSSD/yuki/IA1/tif_files/IA1pm_Feb18_30Hz/IA1pm_Feb18_30Hz_locanmf.npz  with lockout:  False\n"
     ]
    },
    {
     "name": "stderr",
     "output_type": "stream",
     "text": [
      "\n",
      "100%|██████████| 10/10 [00:04<00:00,  2.13it/s]"
     ]
    },
    {
     "name": "stdout",
     "output_type": "stream",
     "text": [
      " ....file not found, skippping  /media/cat/4TBSSD/yuki/IA1/tif_files/IA1pm_Feb19_30Hz/IA1pm_Feb19_30Hz_locanmf.npz\n",
      " ....file not found, skippping  /media/cat/4TBSSD/yuki/IA1/tif_files/IA1pm_Feb22_30Hz/IA1pm_Feb22_30Hz_locanmf.npz\n",
      "processing;  /media/cat/4TBSSD/yuki/IA1/tif_files/IA1pm_Feb23_30Hz/IA1pm_Feb23_30Hz_locanmf.npz  with lockout:  False\n"
     ]
    },
    {
     "name": "stderr",
     "output_type": "stream",
     "text": [
      "\n",
      "100%|██████████| 10/10 [00:09<00:00,  1.11it/s]"
     ]
    },
    {
     "name": "stdout",
     "output_type": "stream",
     "text": [
      " ....file not found, skippping  /media/cat/4TBSSD/yuki/IA1/tif_files/IA1pm_Feb24_30Hz/IA1pm_Feb24_30Hz_locanmf.npz\n",
      " ....file not found, skippping  /media/cat/4TBSSD/yuki/IA1/tif_files/IA1pm_Feb25_30Hz/IA1pm_Feb25_30Hz_locanmf.npz\n",
      "processing;  /media/cat/4TBSSD/yuki/IA1/tif_files/IA1pm_Feb26_30Hz/IA1pm_Feb26_30Hz_locanmf.npz  with lockout:  False\n"
     ]
    },
    {
     "name": "stderr",
     "output_type": "stream",
     "text": [
      "\n",
      "100%|██████████| 10/10 [00:04<00:00,  2.22it/s]"
     ]
    },
    {
     "name": "stdout",
     "output_type": "stream",
     "text": [
      "processing;  /media/cat/4TBSSD/yuki/IA1/tif_files/IA1pm_Feb29_30Hz/IA1pm_Feb29_30Hz_locanmf.npz  with lockout:  False\n"
     ]
    },
    {
     "name": "stderr",
     "output_type": "stream",
     "text": [
      "\n",
      "100%|██████████| 10/10 [00:05<00:00,  1.88it/s]"
     ]
    },
    {
     "name": "stdout",
     "output_type": "stream",
     "text": [
      " ....file not found, skippping  /media/cat/4TBSSD/yuki/IA1/tif_files/IA1pm_Mar1_30Hz/IA1pm_Mar1_30Hz_locanmf.npz\n",
      "processing;  /media/cat/4TBSSD/yuki/IA1/tif_files/IA1pm_Mar2_30Hz/IA1pm_Mar2_30Hz_locanmf.npz  with lockout:  False\n"
     ]
    },
    {
     "name": "stderr",
     "output_type": "stream",
     "text": [
      "\n",
      "100%|██████████| 10/10 [00:05<00:00,  1.74it/s]"
     ]
    },
    {
     "name": "stdout",
     "output_type": "stream",
     "text": [
      "processing;  /media/cat/4TBSSD/yuki/IA1/tif_files/IA1pm_Mar3_30Hz/IA1pm_Mar3_30Hz_locanmf.npz  with lockout:  False\n"
     ]
    },
    {
     "name": "stderr",
     "output_type": "stream",
     "text": [
      "\n",
      "100%|██████████| 10/10 [00:05<00:00,  1.97it/s]"
     ]
    },
    {
     "name": "stdout",
     "output_type": "stream",
     "text": [
      "processing;  /media/cat/4TBSSD/yuki/IA1/tif_files/IA1am_Mar4_30Hz/IA1am_Mar4_30Hz_locanmf.npz  with lockout:  False\n"
     ]
    },
    {
     "name": "stderr",
     "output_type": "stream",
     "text": [
      "\n",
      "100%|██████████| 10/10 [00:05<00:00,  1.80it/s]"
     ]
    },
    {
     "name": "stdout",
     "output_type": "stream",
     "text": [
      "processing;  /media/cat/4TBSSD/yuki/IA1/tif_files/IA1am_Mar7_30Hz/IA1am_Mar7_30Hz_locanmf.npz  with lockout:  False\n"
     ]
    },
    {
     "name": "stderr",
     "output_type": "stream",
     "text": [
      "\n",
      "100%|██████████| 10/10 [00:04<00:00,  2.05it/s]"
     ]
    },
    {
     "name": "stdout",
     "output_type": "stream",
     "text": [
      " ....file not found, skippping  /media/cat/4TBSSD/yuki/IA1/tif_files/IA1pm_Mar8_30Hz/IA1pm_Mar8_30Hz_locanmf.npz\n",
      "processing;  /media/cat/4TBSSD/yuki/IA1/tif_files/IA1am_Mar9_30Hz/IA1am_Mar9_30Hz_locanmf.npz  with lockout:  False\n"
     ]
    },
    {
     "name": "stderr",
     "output_type": "stream",
     "text": [
      "\n",
      "100%|██████████| 10/10 [00:05<00:00,  1.98it/s]"
     ]
    },
    {
     "name": "stdout",
     "output_type": "stream",
     "text": [
      "processing;  /media/cat/4TBSSD/yuki/IA1/tif_files/IA1am_Mar10_30Hz/IA1am_Mar10_30Hz_locanmf.npz  with lockout:  False\n"
     ]
    },
    {
     "name": "stderr",
     "output_type": "stream",
     "text": [
      "\n",
      "100%|██████████| 10/10 [00:05<00:00,  1.91it/s]"
     ]
    },
    {
     "name": "stdout",
     "output_type": "stream",
     "text": [
      "processing;  /media/cat/4TBSSD/yuki/IA1/tif_files/IA1am_Mar11_30Hz/IA1am_Mar11_30Hz_locanmf.npz  with lockout:  False\n"
     ]
    },
    {
     "name": "stderr",
     "output_type": "stream",
     "text": [
      "\n",
      "100%|██████████| 10/10 [00:05<00:00,  1.98it/s]"
     ]
    },
    {
     "name": "stdout",
     "output_type": "stream",
     "text": [
      "processing;  /media/cat/4TBSSD/yuki/IA1/tif_files/IA1pm_Mar14_30Hz/IA1pm_Mar14_30Hz_locanmf.npz  with lockout:  False\n"
     ]
    },
    {
     "name": "stderr",
     "output_type": "stream",
     "text": [
      "\n",
      "100%|██████████| 10/10 [00:06<00:00,  1.61it/s]"
     ]
    },
    {
     "name": "stdout",
     "output_type": "stream",
     "text": [
      "processing;  /media/cat/4TBSSD/yuki/IA1/tif_files/IA1am_Mar15_30Hz/IA1am_Mar15_30Hz_locanmf.npz  with lockout:  False\n"
     ]
    },
    {
     "name": "stderr",
     "output_type": "stream",
     "text": [
      "\n",
      "100%|██████████| 10/10 [00:05<00:00,  1.95it/s]"
     ]
    },
    {
     "name": "stdout",
     "output_type": "stream",
     "text": [
      " ....file not found, skippping  /media/cat/4TBSSD/yuki/IA1/tif_files/IA1pm_Mar16_30Hz/IA1pm_Mar16_30Hz_locanmf.npz\n",
      "processing;  /media/cat/4TBSSD/yuki/IA1/tif_files/IA1pm_Mar17_30Hz/IA1pm_Mar17_30Hz_locanmf.npz  with lockout:  False\n"
     ]
    },
    {
     "name": "stderr",
     "output_type": "stream",
     "text": [
      "\n",
      "100%|██████████| 10/10 [00:04<00:00,  2.12it/s]"
     ]
    },
    {
     "name": "stdout",
     "output_type": "stream",
     "text": [
      "processing;  /media/cat/4TBSSD/yuki/IA1/tif_files/IA1pm_Mar18_30Hz/IA1pm_Mar18_30Hz_locanmf.npz  with lockout:  False\n"
     ]
    },
    {
     "name": "stderr",
     "output_type": "stream",
     "text": [
      "\n",
      "100%|██████████| 10/10 [00:04<00:00,  2.04it/s]"
     ]
    },
    {
     "name": "stdout",
     "output_type": "stream",
     "text": [
      "processing;  /media/cat/4TBSSD/yuki/IA1/tif_files/IA1pm_Mar21_30Hz/IA1pm_Mar21_30Hz_locanmf.npz  with lockout:  False\n"
     ]
    },
    {
     "name": "stderr",
     "output_type": "stream",
     "text": [
      "\n",
      "100%|██████████| 10/10 [00:04<00:00,  2.17it/s]"
     ]
    },
    {
     "name": "stdout",
     "output_type": "stream",
     "text": [
      " ....file not found, skippping  /media/cat/4TBSSD/yuki/IA1/tif_files/IA1pm_Mar22_30Hz/IA1pm_Mar22_30Hz_locanmf.npz\n",
      "processing;  /media/cat/4TBSSD/yuki/IA1/tif_files/IA1pm_Mar23_30Hz/IA1pm_Mar23_30Hz_locanmf.npz  with lockout:  False\n"
     ]
    },
    {
     "name": "stderr",
     "output_type": "stream",
     "text": [
      "\n",
      "100%|██████████| 10/10 [00:04<00:00,  2.10it/s]"
     ]
    },
    {
     "name": "stdout",
     "output_type": "stream",
     "text": [
      "processing;  /media/cat/4TBSSD/yuki/IA1/tif_files/IA1pm_Mar24_30Hz/IA1pm_Mar24_30Hz_locanmf.npz  with lockout:  False\n"
     ]
    },
    {
     "name": "stderr",
     "output_type": "stream",
     "text": [
      "\n",
      "100%|██████████| 10/10 [00:04<00:00,  2.14it/s]"
     ]
    },
    {
     "name": "stdout",
     "output_type": "stream",
     "text": [
      "processing;  /media/cat/4TBSSD/yuki/IA1/tif_files/IA1pm_Mar29_30Hz/IA1pm_Mar29_30Hz_locanmf.npz  with lockout:  False\n"
     ]
    },
    {
     "name": "stderr",
     "output_type": "stream",
     "text": [
      "\n",
      "100%|██████████| 10/10 [00:05<00:00,  1.99it/s]"
     ]
    },
    {
     "name": "stdout",
     "output_type": "stream",
     "text": [
      "processing;  /media/cat/4TBSSD/yuki/IA1/tif_files/IA1pm_Mar30_30Hz/IA1pm_Mar30_30Hz_locanmf.npz  with lockout:  False\n"
     ]
    },
    {
     "name": "stderr",
     "output_type": "stream",
     "text": [
      "\n",
      "100%|██████████| 10/10 [00:04<00:00,  2.14it/s]"
     ]
    },
    {
     "name": "stdout",
     "output_type": "stream",
     "text": [
      "processing;  /media/cat/4TBSSD/yuki/IA1/tif_files/IA1pm_Mar31_30Hz/IA1pm_Mar31_30Hz_locanmf.npz  with lockout:  False\n"
     ]
    },
    {
     "name": "stderr",
     "output_type": "stream",
     "text": [
      "\n",
      "100%|██████████| 10/10 [00:04<00:00,  2.09it/s]"
     ]
    },
    {
     "name": "stdout",
     "output_type": "stream",
     "text": [
      "processing;  /media/cat/4TBSSD/yuki/IA1/tif_files/IA1pm_Apr1_30Hz/IA1pm_Apr1_30Hz_locanmf.npz  with lockout:  False\n"
     ]
    },
    {
     "name": "stderr",
     "output_type": "stream",
     "text": [
      "\n",
      "100%|██████████| 10/10 [00:04<00:00,  2.17it/s]"
     ]
    },
    {
     "name": "stdout",
     "output_type": "stream",
     "text": [
      " ....file not found, skippping  /media/cat/4TBSSD/yuki/IA1/tif_files/IA1pm_Apr4_30Hz/IA1pm_Apr4_30Hz_locanmf.npz\n",
      " ....file not found, skippping  /media/cat/4TBSSD/yuki/IA1/tif_files/IA1pm_Apr5_30Hz/IA1pm_Apr5_30Hz_locanmf.npz\n",
      "processing;  /media/cat/4TBSSD/yuki/IA1/tif_files/IA1pm_Apr6_30Hz/IA1pm_Apr6_30Hz_locanmf.npz  with lockout:  False\n"
     ]
    },
    {
     "name": "stderr",
     "output_type": "stream",
     "text": [
      "\n",
      "100%|██████████| 10/10 [00:04<00:00,  2.09it/s]"
     ]
    },
    {
     "name": "stdout",
     "output_type": "stream",
     "text": [
      "processing;  /media/cat/4TBSSD/yuki/IA1/tif_files/IA1pm_Apr7_30Hz/IA1pm_Apr7_30Hz_locanmf.npz  with lockout:  False\n"
     ]
    },
    {
     "name": "stderr",
     "output_type": "stream",
     "text": [
      "\n",
      "100%|██████████| 10/10 [00:04<00:00,  2.17it/s]"
     ]
    },
    {
     "name": "stdout",
     "output_type": "stream",
     "text": [
      " ....file not found, skippping  /media/cat/4TBSSD/yuki/IA1/tif_files/IA1pm_Apr11_Day3_30Hz/IA1pm_Apr11_Day3_30Hz_locanmf.npz\n",
      "processing;  /media/cat/4TBSSD/yuki/IA1/tif_files/IA1pm_Apr13_Day5_30Hz/IA1pm_Apr13_Day5_30Hz_locanmf.npz  with lockout:  False\n"
     ]
    },
    {
     "name": "stderr",
     "output_type": "stream",
     "text": [
      "\n",
      "100%|██████████| 10/10 [00:05<00:00,  1.92it/s]"
     ]
    },
    {
     "name": "stdout",
     "output_type": "stream",
     "text": [
      "processing;  /media/cat/4TBSSD/yuki/IA1/tif_files/IA1pm_Apr15_Day7_30Hz/IA1pm_Apr15_Day7_30Hz_locanmf.npz  with lockout:  False\n"
     ]
    },
    {
     "name": "stderr",
     "output_type": "stream",
     "text": [
      "\n",
      "100%|██████████| 10/10 [00:04<00:00,  2.06it/s]"
     ]
    },
    {
     "name": "stdout",
     "output_type": "stream",
     "text": [
      "processing;  /media/cat/4TBSSD/yuki/IA1/tif_files/IA1pm_Apr18_Week2_30Hz/IA1pm_Apr18_Week2_30Hz_locanmf.npz  with lockout:  False\n"
     ]
    },
    {
     "name": "stderr",
     "output_type": "stream",
     "text": [
      "\n",
      "100%|██████████| 10/10 [00:04<00:00,  2.10it/s]"
     ]
    },
    {
     "name": "stdout",
     "output_type": "stream",
     "text": [
      "processing;  /media/cat/4TBSSD/yuki/IA1/tif_files/IA1pm_Apr19_Week2_30Hz/IA1pm_Apr19_Week2_30Hz_locanmf.npz  with lockout:  False\n"
     ]
    },
    {
     "name": "stderr",
     "output_type": "stream",
     "text": [
      "\n",
      "100%|██████████| 10/10 [00:04<00:00,  2.08it/s]"
     ]
    },
    {
     "name": "stdout",
     "output_type": "stream",
     "text": [
      "processing;  /media/cat/4TBSSD/yuki/IA1/tif_files/IA1pm_Apr20_Week2_30Hz/IA1pm_Apr20_Week2_30Hz_locanmf.npz  with lockout:  False\n"
     ]
    },
    {
     "name": "stderr",
     "output_type": "stream",
     "text": [
      "\n",
      "100%|██████████| 10/10 [00:04<00:00,  2.02it/s]"
     ]
    },
    {
     "name": "stdout",
     "output_type": "stream",
     "text": [
      "processing;  /media/cat/4TBSSD/yuki/IA1/tif_files/IA1pm_Apr21_Week2_30Hz/IA1pm_Apr21_Week2_30Hz_locanmf.npz  with lockout:  False\n"
     ]
    },
    {
     "name": "stderr",
     "output_type": "stream",
     "text": [
      "\n",
      "100%|██████████| 10/10 [00:06<00:00,  1.60it/s]"
     ]
    },
    {
     "name": "stdout",
     "output_type": "stream",
     "text": [
      " ....file not found, skippping  /media/cat/4TBSSD/yuki/IA1/tif_files/IA1pm_Apr22_Week2_30Hz/IA1pm_Apr22_Week2_30Hz_locanmf.npz\n",
      "processing;  /media/cat/4TBSSD/yuki/IA1/tif_files/IA1pm_Apr25_Week3_30Hz/IA1pm_Apr25_Week3_30Hz_locanmf.npz  with lockout:  False\n"
     ]
    },
    {
     "name": "stderr",
     "output_type": "stream",
     "text": [
      "\n",
      "100%|██████████| 10/10 [00:06<00:00,  1.63it/s]"
     ]
    },
    {
     "name": "stdout",
     "output_type": "stream",
     "text": [
      "processing;  /media/cat/4TBSSD/yuki/IA1/tif_files/IA1pm_Apr26_Week3_30Hz/IA1pm_Apr26_Week3_30Hz_locanmf.npz  with lockout:  False\n"
     ]
    },
    {
     "name": "stderr",
     "output_type": "stream",
     "text": [
      "\n",
      "100%|██████████| 10/10 [00:05<00:00,  1.84it/s]"
     ]
    },
    {
     "name": "stdout",
     "output_type": "stream",
     "text": [
      "processing;  /media/cat/4TBSSD/yuki/IA1/tif_files/IA1pm_Apr27_Week3_30Hz/IA1pm_Apr27_Week3_30Hz_locanmf.npz  with lockout:  False\n"
     ]
    },
    {
     "name": "stderr",
     "output_type": "stream",
     "text": [
      "\n",
      "100%|██████████| 10/10 [00:05<00:00,  1.90it/s]"
     ]
    },
    {
     "name": "stdout",
     "output_type": "stream",
     "text": [
      "processing;  /media/cat/4TBSSD/yuki/IA1/tif_files/IA1pm_Apr28_Week3_30Hz/IA1pm_Apr28_Week3_30Hz_locanmf.npz  with lockout:  False\n"
     ]
    },
    {
     "name": "stderr",
     "output_type": "stream",
     "text": [
      "\n",
      "100%|██████████| 10/10 [00:05<00:00,  1.75it/s]"
     ]
    },
    {
     "name": "stdout",
     "output_type": "stream",
     "text": [
      "processing;  /media/cat/4TBSSD/yuki/IA1/tif_files/IA1pm_Apr29_Week3_30Hz/IA1pm_Apr29_Week3_30Hz_locanmf.npz  with lockout:  False\n"
     ]
    },
    {
     "name": "stderr",
     "output_type": "stream",
     "text": [
      "\n",
      "100%|██████████| 10/10 [00:05<00:00,  1.87it/s]"
     ]
    },
    {
     "name": "stdout",
     "output_type": "stream",
     "text": [
      " ....file not found, skippping  /media/cat/4TBSSD/yuki/IA1/tif_files/IA1am_May2_Week4_30Hz/IA1am_May2_Week4_30Hz_locanmf.npz\n",
      "processing;  /media/cat/4TBSSD/yuki/IA1/tif_files/IA1am_May4_Week4_30Hz/IA1am_May4_Week4_30Hz_locanmf.npz  with lockout:  False\n"
     ]
    },
    {
     "name": "stderr",
     "output_type": "stream",
     "text": [
      "\n",
      "100%|██████████| 10/10 [00:05<00:00,  1.80it/s]"
     ]
    },
    {
     "name": "stdout",
     "output_type": "stream",
     "text": [
      "processing;  /media/cat/4TBSSD/yuki/IA1/tif_files/IA1am_May5_Week4_30Hz/IA1am_May5_Week4_30Hz_locanmf.npz  with lockout:  False\n"
     ]
    },
    {
     "name": "stderr",
     "output_type": "stream",
     "text": [
      "\n",
      "100%|██████████| 10/10 [00:04<00:00,  2.16it/s]"
     ]
    },
    {
     "name": "stdout",
     "output_type": "stream",
     "text": [
      "processing;  /media/cat/4TBSSD/yuki/IA1/tif_files/IA1am_May6_Week4_30Hz/IA1am_May6_Week4_30Hz_locanmf.npz  with lockout:  False\n"
     ]
    },
    {
     "name": "stderr",
     "output_type": "stream",
     "text": [
      "\n",
      "100%|██████████| 10/10 [00:05<00:00,  1.93it/s]"
     ]
    },
    {
     "name": "stdout",
     "output_type": "stream",
     "text": [
      "processing;  /media/cat/4TBSSD/yuki/IA1/tif_files/IA1am_May9_Week5_30Hz/IA1am_May9_Week5_30Hz_locanmf.npz  with lockout:  False\n"
     ]
    },
    {
     "name": "stderr",
     "output_type": "stream",
     "text": [
      "\n",
      "100%|██████████| 10/10 [00:05<00:00,  1.95it/s]"
     ]
    },
    {
     "name": "stdout",
     "output_type": "stream",
     "text": [
      "processing;  /media/cat/4TBSSD/yuki/IA1/tif_files/IA1am_May10_Week5_30Hz/IA1am_May10_Week5_30Hz_locanmf.npz  with lockout:  False\n"
     ]
    },
    {
     "name": "stderr",
     "output_type": "stream",
     "text": [
      "\n",
      "100%|██████████| 10/10 [00:05<00:00,  1.84it/s]"
     ]
    },
    {
     "name": "stdout",
     "output_type": "stream",
     "text": [
      "processing;  /media/cat/4TBSSD/yuki/IA1/tif_files/IA1am_May12_Week5_30Hz/IA1am_May12_Week5_30Hz_locanmf.npz  with lockout:  False\n"
     ]
    },
    {
     "name": "stderr",
     "output_type": "stream",
     "text": [
      "\n",
      "100%|██████████| 10/10 [00:06<00:00,  1.66it/s]"
     ]
    },
    {
     "name": "stdout",
     "output_type": "stream",
     "text": [
      " ....file not found, skippping  /media/cat/4TBSSD/yuki/IA1/tif_files/IA1am_May13_Week5_30Hz/IA1am_May13_Week5_30Hz_locanmf.npz\n",
      " ....file not found, skippping  /media/cat/4TBSSD/yuki/IA1/tif_files/IA1am_May16_Week6_30Hz/IA1am_May16_Week6_30Hz_locanmf.npz\n",
      "processing;  /media/cat/4TBSSD/yuki/IA1/tif_files/IA1am_May17_Week6_30Hz/IA1am_May17_Week6_30Hz_locanmf.npz  with lockout:  False\n"
     ]
    },
    {
     "name": "stderr",
     "output_type": "stream",
     "text": [
      "\n",
      "100%|██████████| 10/10 [00:05<00:00,  1.84it/s]"
     ]
    },
    {
     "name": "stdout",
     "output_type": "stream",
     "text": [
      "processing;  /media/cat/4TBSSD/yuki/IA1/tif_files/IA1am_May18_Week6_30Hz/IA1am_May18_Week6_30Hz_locanmf.npz  with lockout:  False\n"
     ]
    },
    {
     "name": "stderr",
     "output_type": "stream",
     "text": [
      "\n",
      "100%|██████████| 10/10 [00:04<00:00,  2.06it/s]"
     ]
    },
    {
     "name": "stdout",
     "output_type": "stream",
     "text": [
      "processing;  /media/cat/4TBSSD/yuki/IA1/tif_files/IA1am_May20_Week6_30Hz/IA1am_May20_Week6_30Hz_locanmf.npz  with lockout:  False\n"
     ]
    },
    {
     "name": "stderr",
     "output_type": "stream",
     "text": [
      "\n",
      "100%|██████████| 10/10 [00:04<00:00,  2.17it/s]"
     ]
    },
    {
     "name": "stdout",
     "output_type": "stream",
     "text": [
      "DONE predicting SVM on animal:  IA1\n",
      " ....file not found, skippping  /media/cat/4TBSSD/yuki/IA2/tif_files/IA2pm_Feb1_30Hz/IA2pm_Feb1_30Hz_locanmf.npz\n",
      " ....file not found, skippping  /media/cat/4TBSSD/yuki/IA2/tif_files/IA2pm_Feb2_30Hz/IA2pm_Feb2_30Hz_locanmf.npz\n",
      "processing;  /media/cat/4TBSSD/yuki/IA2/tif_files/IA2pm_Feb3_30Hz/IA2pm_Feb3_30Hz_locanmf.npz  with lockout:  False\n"
     ]
    },
    {
     "name": "stderr",
     "output_type": "stream",
     "text": [
      "\n",
      "100%|██████████| 10/10 [00:06<00:00,  1.67it/s]"
     ]
    },
    {
     "name": "stdout",
     "output_type": "stream",
     "text": [
      "processing;  /media/cat/4TBSSD/yuki/IA2/tif_files/IA2pm_Feb4_30Hz/IA2pm_Feb4_30Hz_locanmf.npz  with lockout:  False\n"
     ]
    },
    {
     "name": "stderr",
     "output_type": "stream",
     "text": [
      "\n",
      "100%|██████████| 10/10 [00:10<00:00,  1.03s/it]"
     ]
    },
    {
     "name": "stdout",
     "output_type": "stream",
     "text": [
      "processing;  /media/cat/4TBSSD/yuki/IA2/tif_files/IA2pm_Feb5_30Hz/IA2pm_Feb5_30Hz_locanmf.npz  with lockout:  False\n"
     ]
    },
    {
     "name": "stderr",
     "output_type": "stream",
     "text": [
      "\n",
      "100%|██████████| 10/10 [00:08<00:00,  1.19it/s]"
     ]
    },
    {
     "name": "stdout",
     "output_type": "stream",
     "text": [
      " ....file not found, skippping  /media/cat/4TBSSD/yuki/IA2/tif_files/IA2pm_Feb9_30Hz/IA2pm_Feb9_30Hz_locanmf.npz\n",
      " ....file not found, skippping  /media/cat/4TBSSD/yuki/IA2/tif_files/IA2pm_Feb10_30Hz/IA2pm_Feb10_30Hz_locanmf.npz\n",
      " ....file not found, skippping  /media/cat/4TBSSD/yuki/IA2/tif_files/IA2pm_Feb11_30Hz/IA2pm_Feb11_30Hz_locanmf.npz\n",
      "processing;  /media/cat/4TBSSD/yuki/IA2/tif_files/IA2pm_Feb12_30Hz/IA2pm_Feb12_30Hz_locanmf.npz  with lockout:  False\n"
     ]
    },
    {
     "name": "stderr",
     "output_type": "stream",
     "text": [
      "\n",
      "100%|██████████| 10/10 [00:04<00:00,  2.06it/s]"
     ]
    },
    {
     "name": "stdout",
     "output_type": "stream",
     "text": [
      " ....file not found, skippping  /media/cat/4TBSSD/yuki/IA2/tif_files/IA2pm_Feb15_30Hz/IA2pm_Feb15_30Hz_locanmf.npz\n",
      "processing;  /media/cat/4TBSSD/yuki/IA2/tif_files/IA2pm_Feb16_30Hz/IA2pm_Feb16_30Hz_locanmf.npz  with lockout:  False\n"
     ]
    },
    {
     "name": "stderr",
     "output_type": "stream",
     "text": [
      "\n",
      "100%|██████████| 10/10 [00:06<00:00,  1.49it/s]"
     ]
    },
    {
     "name": "stdout",
     "output_type": "stream",
     "text": [
      "processing;  /media/cat/4TBSSD/yuki/IA2/tif_files/IA2pm_Feb17_30Hz/IA2pm_Feb17_30Hz_locanmf.npz  with lockout:  False\n"
     ]
    },
    {
     "name": "stderr",
     "output_type": "stream",
     "text": [
      "\n",
      "100%|██████████| 10/10 [00:05<00:00,  1.94it/s]"
     ]
    },
    {
     "name": "stdout",
     "output_type": "stream",
     "text": [
      "processing;  /media/cat/4TBSSD/yuki/IA2/tif_files/IA2pm_Feb18_30Hz/IA2pm_Feb18_30Hz_locanmf.npz  with lockout:  False\n"
     ]
    },
    {
     "name": "stderr",
     "output_type": "stream",
     "text": [
      "\n",
      "100%|██████████| 10/10 [00:06<00:00,  1.53it/s]"
     ]
    },
    {
     "name": "stdout",
     "output_type": "stream",
     "text": [
      "processing;  /media/cat/4TBSSD/yuki/IA2/tif_files/IA2pm_Feb19_30Hz/IA2pm_Feb19_30Hz_locanmf.npz  with lockout:  False\n"
     ]
    },
    {
     "name": "stderr",
     "output_type": "stream",
     "text": [
      "\n",
      "100%|██████████| 10/10 [00:08<00:00,  1.19it/s]"
     ]
    },
    {
     "name": "stdout",
     "output_type": "stream",
     "text": [
      "processing;  /media/cat/4TBSSD/yuki/IA2/tif_files/IA2pm_Feb22_30Hz/IA2pm_Feb22_30Hz_locanmf.npz  with lockout:  False\n"
     ]
    },
    {
     "name": "stderr",
     "output_type": "stream",
     "text": [
      "\n",
      "100%|██████████| 10/10 [00:06<00:00,  1.62it/s]\n"
     ]
    },
    {
     "name": "stdout",
     "output_type": "stream",
     "text": [
      " ....file not found, skippping  /media/cat/4TBSSD/yuki/IA2/tif_files/IA2pm_Feb23_30Hz/IA2pm_Feb23_30Hz_locanmf.npz\n",
      " ....file not found, skippping  /media/cat/4TBSSD/yuki/IA2/tif_files/IA2pm_Feb24_30Hz/IA2pm_Feb24_30Hz_locanmf.npz\n",
      " ....file not found, skippping  /media/cat/4TBSSD/yuki/IA2/tif_files/IA2pm_Feb25_30Hz/IA2pm_Feb25_30Hz_locanmf.npz\n",
      "processing;  /media/cat/4TBSSD/yuki/IA2/tif_files/IA2pm_Feb26_30Hz/IA2pm_Feb26_30Hz_locanmf.npz  with lockout:  False\n"
     ]
    },
    {
     "name": "stderr",
     "output_type": "stream",
     "text": [
      "100%|██████████| 10/10 [00:05<00:00,  1.84it/s]"
     ]
    },
    {
     "name": "stdout",
     "output_type": "stream",
     "text": [
      "processing;  /media/cat/4TBSSD/yuki/IA2/tif_files/IA2pm_Feb29_30Hz/IA2pm_Feb29_30Hz_locanmf.npz  with lockout:  False\n"
     ]
    },
    {
     "name": "stderr",
     "output_type": "stream",
     "text": [
      "\n",
      "100%|██████████| 10/10 [00:07<00:00,  1.27it/s]"
     ]
    },
    {
     "name": "stdout",
     "output_type": "stream",
     "text": [
      "processing;  /media/cat/4TBSSD/yuki/IA2/tif_files/IA2pm_Mar1_30Hz/IA2pm_Mar1_30Hz_locanmf.npz  with lockout:  False\n"
     ]
    },
    {
     "name": "stderr",
     "output_type": "stream",
     "text": [
      "\n",
      "100%|██████████| 10/10 [00:04<00:00,  2.04it/s]"
     ]
    },
    {
     "name": "stdout",
     "output_type": "stream",
     "text": [
      "processing;  /media/cat/4TBSSD/yuki/IA2/tif_files/IA2pm_Mar2_30Hz/IA2pm_Mar2_30Hz_locanmf.npz  with lockout:  False\n"
     ]
    },
    {
     "name": "stderr",
     "output_type": "stream",
     "text": [
      "\n",
      "100%|██████████| 10/10 [00:07<00:00,  1.25it/s]"
     ]
    },
    {
     "name": "stdout",
     "output_type": "stream",
     "text": [
      " ....file not found, skippping  /media/cat/4TBSSD/yuki/IA2/tif_files/IA2pm_Mar3_30Hz/IA2pm_Mar3_30Hz_locanmf.npz\n",
      "processing;  /media/cat/4TBSSD/yuki/IA2/tif_files/IA2am_Mar4_30Hz/IA2am_Mar4_30Hz_locanmf.npz  with lockout:  False\n"
     ]
    },
    {
     "name": "stderr",
     "output_type": "stream",
     "text": [
      "\n",
      "100%|██████████| 10/10 [00:05<00:00,  1.81it/s]"
     ]
    },
    {
     "name": "stdout",
     "output_type": "stream",
     "text": [
      " ....file not found, skippping  /media/cat/4TBSSD/yuki/IA2/tif_files/IA2am_Mar7_30Hz/IA2am_Mar7_30Hz_locanmf.npz\n",
      "processing;  /media/cat/4TBSSD/yuki/IA2/tif_files/IA2pm_Mar8_30Hz/IA2pm_Mar8_30Hz_locanmf.npz  with lockout:  False\n"
     ]
    },
    {
     "name": "stderr",
     "output_type": "stream",
     "text": [
      "\n",
      "100%|██████████| 10/10 [00:04<00:00,  2.13it/s]"
     ]
    },
    {
     "name": "stdout",
     "output_type": "stream",
     "text": [
      "processing;  /media/cat/4TBSSD/yuki/IA2/tif_files/IA2am_Mar9_30Hz/IA2am_Mar9_30Hz_locanmf.npz  with lockout:  False\n"
     ]
    },
    {
     "name": "stderr",
     "output_type": "stream",
     "text": [
      "\n",
      "100%|██████████| 10/10 [00:04<00:00,  2.16it/s]"
     ]
    },
    {
     "name": "stdout",
     "output_type": "stream",
     "text": [
      " ....file not found, skippping  /media/cat/4TBSSD/yuki/IA2/tif_files/IA2am_Mar10_30Hz/IA2am_Mar10_30Hz_locanmf.npz\n",
      "processing;  /media/cat/4TBSSD/yuki/IA2/tif_files/IA2am_Mar11_30Hz/IA2am_Mar11_30Hz_locanmf.npz  with lockout:  False\n"
     ]
    },
    {
     "name": "stderr",
     "output_type": "stream",
     "text": [
      "\n",
      "100%|██████████| 10/10 [00:09<00:00,  1.07it/s]"
     ]
    },
    {
     "name": "stdout",
     "output_type": "stream",
     "text": [
      "processing;  /media/cat/4TBSSD/yuki/IA2/tif_files/IA2pm_Mar14_30Hz/IA2pm_Mar14_30Hz_locanmf.npz  with lockout:  False\n"
     ]
    },
    {
     "name": "stderr",
     "output_type": "stream",
     "text": [
      "\n",
      "100%|██████████| 10/10 [00:10<00:00,  1.01s/it]\n"
     ]
    },
    {
     "name": "stdout",
     "output_type": "stream",
     "text": [
      " ....file not found, skippping  /media/cat/4TBSSD/yuki/IA2/tif_files/IA2am_Mar15_30Hz/IA2am_Mar15_30Hz_locanmf.npz\n",
      "processing;  /media/cat/4TBSSD/yuki/IA2/tif_files/IA2pm_Mar16_30Hz/IA2pm_Mar16_30Hz_locanmf.npz  with lockout:  False\n"
     ]
    },
    {
     "name": "stderr",
     "output_type": "stream",
     "text": [
      "100%|██████████| 10/10 [00:10<00:00,  1.09s/it]"
     ]
    },
    {
     "name": "stdout",
     "output_type": "stream",
     "text": [
      "processing;  /media/cat/4TBSSD/yuki/IA2/tif_files/IA2pm_Mar17_30Hz/IA2pm_Mar17_30Hz_locanmf.npz  with lockout:  False\n"
     ]
    },
    {
     "name": "stderr",
     "output_type": "stream",
     "text": [
      "\n",
      "100%|██████████| 10/10 [00:09<00:00,  1.06it/s]"
     ]
    },
    {
     "name": "stdout",
     "output_type": "stream",
     "text": [
      "processing;  /media/cat/4TBSSD/yuki/IA2/tif_files/IA2pm_Mar18_30Hz/IA2pm_Mar18_30Hz_locanmf.npz  with lockout:  False\n"
     ]
    },
    {
     "name": "stderr",
     "output_type": "stream",
     "text": [
      "\n",
      "100%|██████████| 10/10 [00:07<00:00,  1.32it/s]"
     ]
    },
    {
     "name": "stdout",
     "output_type": "stream",
     "text": [
      "processing;  /media/cat/4TBSSD/yuki/IA2/tif_files/IA2pm_Mar21_30Hz/IA2pm_Mar21_30Hz_locanmf.npz  with lockout:  False\n"
     ]
    },
    {
     "name": "stderr",
     "output_type": "stream",
     "text": [
      "\n",
      "100%|██████████| 10/10 [00:06<00:00,  1.51it/s]"
     ]
    },
    {
     "name": "stdout",
     "output_type": "stream",
     "text": [
      "processing;  /media/cat/4TBSSD/yuki/IA2/tif_files/IA2pm_Mar23_30Hz/IA2pm_Mar23_30Hz_locanmf.npz  with lockout:  False\n"
     ]
    },
    {
     "name": "stderr",
     "output_type": "stream",
     "text": [
      "\n",
      "100%|██████████| 10/10 [00:08<00:00,  1.22it/s]\n"
     ]
    },
    {
     "name": "stdout",
     "output_type": "stream",
     "text": [
      "processing;  /media/cat/4TBSSD/yuki/IA2/tif_files/IA2pm_Mar24_30Hz/IA2pm_Mar24_30Hz_locanmf.npz  with lockout:  False\n"
     ]
    },
    {
     "name": "stderr",
     "output_type": "stream",
     "text": [
      "100%|██████████| 10/10 [00:06<00:00,  1.55it/s]"
     ]
    },
    {
     "name": "stdout",
     "output_type": "stream",
     "text": [
      " ....file not found, skippping  /media/cat/4TBSSD/yuki/IA2/tif_files/IA2pm_Mar29_30Hz/IA2pm_Mar29_30Hz_locanmf.npz\n",
      "processing;  /media/cat/4TBSSD/yuki/IA2/tif_files/IA2pm_Mar30_30Hz/IA2pm_Mar30_30Hz_locanmf.npz  with lockout:  False\n"
     ]
    },
    {
     "name": "stderr",
     "output_type": "stream",
     "text": [
      "\n",
      "100%|██████████| 10/10 [00:05<00:00,  1.76it/s]"
     ]
    },
    {
     "name": "stdout",
     "output_type": "stream",
     "text": [
      "processing;  /media/cat/4TBSSD/yuki/IA2/tif_files/IA2pm_Mar31_30Hz/IA2pm_Mar31_30Hz_locanmf.npz  with lockout:  False\n"
     ]
    },
    {
     "name": "stderr",
     "output_type": "stream",
     "text": [
      "\n",
      "100%|██████████| 10/10 [00:07<00:00,  1.29it/s]"
     ]
    },
    {
     "name": "stdout",
     "output_type": "stream",
     "text": [
      "processing;  /media/cat/4TBSSD/yuki/IA2/tif_files/IA2pm_Apr1_30Hz/IA2pm_Apr1_30Hz_locanmf.npz  with lockout:  False\n"
     ]
    },
    {
     "name": "stderr",
     "output_type": "stream",
     "text": [
      "\n",
      "100%|██████████| 10/10 [00:09<00:00,  1.05it/s]"
     ]
    },
    {
     "name": "stdout",
     "output_type": "stream",
     "text": [
      "processing;  /media/cat/4TBSSD/yuki/IA2/tif_files/IA2pm_Apr4_30Hz/IA2pm_Apr4_30Hz_locanmf.npz  with lockout:  False\n"
     ]
    },
    {
     "name": "stderr",
     "output_type": "stream",
     "text": [
      "\n",
      "100%|██████████| 10/10 [00:05<00:00,  1.89it/s]"
     ]
    },
    {
     "name": "stdout",
     "output_type": "stream",
     "text": [
      "processing;  /media/cat/4TBSSD/yuki/IA2/tif_files/IA2pm_Apr5_30Hz/IA2pm_Apr5_30Hz_locanmf.npz  with lockout:  False\n"
     ]
    },
    {
     "name": "stderr",
     "output_type": "stream",
     "text": [
      "\n",
      "100%|██████████| 10/10 [00:05<00:00,  2.00it/s]"
     ]
    },
    {
     "name": "stdout",
     "output_type": "stream",
     "text": [
      "processing;  /media/cat/4TBSSD/yuki/IA2/tif_files/IA2pm_Apr6_30Hz/IA2pm_Apr6_30Hz_locanmf.npz  with lockout:  False\n"
     ]
    },
    {
     "name": "stderr",
     "output_type": "stream",
     "text": [
      "\n",
      "100%|██████████| 10/10 [00:07<00:00,  1.30it/s]"
     ]
    },
    {
     "name": "stdout",
     "output_type": "stream",
     "text": [
      "DONE predicting SVM on animal:  IA2\n",
      " ....file not found, skippping  /media/cat/4TBSSD/yuki/IA2/tif_files/IA2pm_Feb1_30Hz/IA2pm_Feb1_30Hz_locanmf.npz\n",
      " ....file not found, skippping  /media/cat/4TBSSD/yuki/IA2/tif_files/IA2pm_Feb2_30Hz/IA2pm_Feb2_30Hz_locanmf.npz\n",
      "processing;  /media/cat/4TBSSD/yuki/IA2/tif_files/IA2pm_Feb3_30Hz/IA2pm_Feb3_30Hz_locanmf.npz  with lockout:  False\n"
     ]
    },
    {
     "name": "stderr",
     "output_type": "stream",
     "text": [
      "\n",
      "100%|██████████| 10/10 [00:05<00:00,  1.71it/s]"
     ]
    },
    {
     "name": "stdout",
     "output_type": "stream",
     "text": [
      "processing;  /media/cat/4TBSSD/yuki/IA2/tif_files/IA2pm_Feb4_30Hz/IA2pm_Feb4_30Hz_locanmf.npz  with lockout:  False\n"
     ]
    },
    {
     "name": "stderr",
     "output_type": "stream",
     "text": [
      "\n",
      "100%|██████████| 10/10 [00:09<00:00,  1.00it/s]"
     ]
    },
    {
     "name": "stdout",
     "output_type": "stream",
     "text": [
      "processing;  /media/cat/4TBSSD/yuki/IA2/tif_files/IA2pm_Feb5_30Hz/IA2pm_Feb5_30Hz_locanmf.npz  with lockout:  False\n"
     ]
    },
    {
     "name": "stderr",
     "output_type": "stream",
     "text": [
      "\n",
      "100%|██████████| 10/10 [00:08<00:00,  1.21it/s]"
     ]
    },
    {
     "name": "stdout",
     "output_type": "stream",
     "text": [
      " ....file not found, skippping  /media/cat/4TBSSD/yuki/IA2/tif_files/IA2pm_Feb9_30Hz/IA2pm_Feb9_30Hz_locanmf.npz\n",
      " ....file not found, skippping  /media/cat/4TBSSD/yuki/IA2/tif_files/IA2pm_Feb10_30Hz/IA2pm_Feb10_30Hz_locanmf.npz\n",
      " ....file not found, skippping  /media/cat/4TBSSD/yuki/IA2/tif_files/IA2pm_Feb11_30Hz/IA2pm_Feb11_30Hz_locanmf.npz\n",
      "processing;  /media/cat/4TBSSD/yuki/IA2/tif_files/IA2pm_Feb12_30Hz/IA2pm_Feb12_30Hz_locanmf.npz  with lockout:  False\n"
     ]
    },
    {
     "name": "stderr",
     "output_type": "stream",
     "text": [
      "\n",
      "100%|██████████| 10/10 [00:04<00:00,  2.08it/s]"
     ]
    },
    {
     "name": "stdout",
     "output_type": "stream",
     "text": [
      " ....file not found, skippping  /media/cat/4TBSSD/yuki/IA2/tif_files/IA2pm_Feb15_30Hz/IA2pm_Feb15_30Hz_locanmf.npz\n",
      "processing;  /media/cat/4TBSSD/yuki/IA2/tif_files/IA2pm_Feb16_30Hz/IA2pm_Feb16_30Hz_locanmf.npz  with lockout:  False\n"
     ]
    },
    {
     "name": "stderr",
     "output_type": "stream",
     "text": [
      "\n",
      "100%|██████████| 10/10 [00:06<00:00,  1.51it/s]"
     ]
    },
    {
     "name": "stdout",
     "output_type": "stream",
     "text": [
      "processing;  /media/cat/4TBSSD/yuki/IA2/tif_files/IA2pm_Feb17_30Hz/IA2pm_Feb17_30Hz_locanmf.npz  with lockout:  False\n"
     ]
    },
    {
     "name": "stderr",
     "output_type": "stream",
     "text": [
      "\n",
      "100%|██████████| 10/10 [00:05<00:00,  1.93it/s]"
     ]
    },
    {
     "name": "stdout",
     "output_type": "stream",
     "text": [
      "processing;  /media/cat/4TBSSD/yuki/IA2/tif_files/IA2pm_Feb18_30Hz/IA2pm_Feb18_30Hz_locanmf.npz  with lockout:  False\n"
     ]
    },
    {
     "name": "stderr",
     "output_type": "stream",
     "text": [
      "\n",
      "100%|██████████| 10/10 [00:06<00:00,  1.54it/s]"
     ]
    },
    {
     "name": "stdout",
     "output_type": "stream",
     "text": [
      "processing;  /media/cat/4TBSSD/yuki/IA2/tif_files/IA2pm_Feb19_30Hz/IA2pm_Feb19_30Hz_locanmf.npz  with lockout:  False\n"
     ]
    },
    {
     "name": "stderr",
     "output_type": "stream",
     "text": [
      "\n",
      "100%|██████████| 10/10 [00:08<00:00,  1.18it/s]"
     ]
    },
    {
     "name": "stdout",
     "output_type": "stream",
     "text": [
      "processing;  /media/cat/4TBSSD/yuki/IA2/tif_files/IA2pm_Feb22_30Hz/IA2pm_Feb22_30Hz_locanmf.npz  with lockout:  False\n"
     ]
    },
    {
     "name": "stderr",
     "output_type": "stream",
     "text": [
      "\n",
      "100%|██████████| 10/10 [00:06<00:00,  1.60it/s]"
     ]
    },
    {
     "name": "stdout",
     "output_type": "stream",
     "text": [
      " ....file not found, skippping  /media/cat/4TBSSD/yuki/IA2/tif_files/IA2pm_Feb23_30Hz/IA2pm_Feb23_30Hz_locanmf.npz\n",
      " ....file not found, skippping  /media/cat/4TBSSD/yuki/IA2/tif_files/IA2pm_Feb24_30Hz/IA2pm_Feb24_30Hz_locanmf.npz\n",
      " ....file not found, skippping  /media/cat/4TBSSD/yuki/IA2/tif_files/IA2pm_Feb25_30Hz/IA2pm_Feb25_30Hz_locanmf.npz\n",
      "processing;  /media/cat/4TBSSD/yuki/IA2/tif_files/IA2pm_Feb26_30Hz/IA2pm_Feb26_30Hz_locanmf.npz  with lockout:  False\n"
     ]
    },
    {
     "name": "stderr",
     "output_type": "stream",
     "text": [
      "\n",
      "100%|██████████| 10/10 [00:05<00:00,  1.82it/s]"
     ]
    },
    {
     "name": "stdout",
     "output_type": "stream",
     "text": [
      "processing;  /media/cat/4TBSSD/yuki/IA2/tif_files/IA2pm_Feb29_30Hz/IA2pm_Feb29_30Hz_locanmf.npz  with lockout:  False\n"
     ]
    },
    {
     "name": "stderr",
     "output_type": "stream",
     "text": [
      "\n",
      "100%|██████████| 10/10 [00:07<00:00,  1.31it/s]"
     ]
    },
    {
     "name": "stdout",
     "output_type": "stream",
     "text": [
      "processing;  /media/cat/4TBSSD/yuki/IA2/tif_files/IA2pm_Mar1_30Hz/IA2pm_Mar1_30Hz_locanmf.npz  with lockout:  False\n"
     ]
    },
    {
     "name": "stderr",
     "output_type": "stream",
     "text": [
      "\n",
      "100%|██████████| 10/10 [00:04<00:00,  2.01it/s]"
     ]
    },
    {
     "name": "stdout",
     "output_type": "stream",
     "text": [
      "processing;  /media/cat/4TBSSD/yuki/IA2/tif_files/IA2pm_Mar2_30Hz/IA2pm_Mar2_30Hz_locanmf.npz  with lockout:  False\n"
     ]
    },
    {
     "name": "stderr",
     "output_type": "stream",
     "text": [
      "\n",
      "100%|██████████| 10/10 [00:08<00:00,  1.25it/s]"
     ]
    },
    {
     "name": "stdout",
     "output_type": "stream",
     "text": [
      " ....file not found, skippping  /media/cat/4TBSSD/yuki/IA2/tif_files/IA2pm_Mar3_30Hz/IA2pm_Mar3_30Hz_locanmf.npz\n",
      "processing;  /media/cat/4TBSSD/yuki/IA2/tif_files/IA2am_Mar4_30Hz/IA2am_Mar4_30Hz_locanmf.npz  with lockout:  False\n"
     ]
    },
    {
     "name": "stderr",
     "output_type": "stream",
     "text": [
      "\n",
      "100%|██████████| 10/10 [00:05<00:00,  1.80it/s]"
     ]
    },
    {
     "name": "stdout",
     "output_type": "stream",
     "text": [
      " ....file not found, skippping  /media/cat/4TBSSD/yuki/IA2/tif_files/IA2am_Mar7_30Hz/IA2am_Mar7_30Hz_locanmf.npz\n",
      "processing;  /media/cat/4TBSSD/yuki/IA2/tif_files/IA2pm_Mar8_30Hz/IA2pm_Mar8_30Hz_locanmf.npz  with lockout:  False\n"
     ]
    },
    {
     "name": "stderr",
     "output_type": "stream",
     "text": [
      "\n",
      "100%|██████████| 10/10 [00:04<00:00,  2.15it/s]"
     ]
    },
    {
     "name": "stdout",
     "output_type": "stream",
     "text": [
      "processing;  /media/cat/4TBSSD/yuki/IA2/tif_files/IA2am_Mar9_30Hz/IA2am_Mar9_30Hz_locanmf.npz  with lockout:  False\n"
     ]
    },
    {
     "name": "stderr",
     "output_type": "stream",
     "text": [
      "\n",
      "100%|██████████| 10/10 [00:04<00:00,  2.14it/s]"
     ]
    },
    {
     "name": "stdout",
     "output_type": "stream",
     "text": [
      " ....file not found, skippping  /media/cat/4TBSSD/yuki/IA2/tif_files/IA2am_Mar10_30Hz/IA2am_Mar10_30Hz_locanmf.npz\n",
      "processing;  /media/cat/4TBSSD/yuki/IA2/tif_files/IA2am_Mar11_30Hz/IA2am_Mar11_30Hz_locanmf.npz  with lockout:  False\n"
     ]
    },
    {
     "name": "stderr",
     "output_type": "stream",
     "text": [
      "\n",
      "100%|██████████| 10/10 [00:09<00:00,  1.08it/s]"
     ]
    },
    {
     "name": "stdout",
     "output_type": "stream",
     "text": [
      "processing;  /media/cat/4TBSSD/yuki/IA2/tif_files/IA2pm_Mar14_30Hz/IA2pm_Mar14_30Hz_locanmf.npz  with lockout:  False\n"
     ]
    },
    {
     "name": "stderr",
     "output_type": "stream",
     "text": [
      "\n",
      "100%|██████████| 10/10 [00:10<00:00,  1.03s/it]"
     ]
    },
    {
     "name": "stdout",
     "output_type": "stream",
     "text": [
      " ....file not found, skippping  /media/cat/4TBSSD/yuki/IA2/tif_files/IA2am_Mar15_30Hz/IA2am_Mar15_30Hz_locanmf.npz\n",
      "processing;  /media/cat/4TBSSD/yuki/IA2/tif_files/IA2pm_Mar16_30Hz/IA2pm_Mar16_30Hz_locanmf.npz  with lockout:  False\n"
     ]
    },
    {
     "name": "stderr",
     "output_type": "stream",
     "text": [
      "\n",
      "100%|██████████| 10/10 [00:11<00:00,  1.14s/it]"
     ]
    },
    {
     "name": "stdout",
     "output_type": "stream",
     "text": [
      "processing;  /media/cat/4TBSSD/yuki/IA2/tif_files/IA2pm_Mar17_30Hz/IA2pm_Mar17_30Hz_locanmf.npz  with lockout:  False\n"
     ]
    },
    {
     "name": "stderr",
     "output_type": "stream",
     "text": [
      "\n",
      "100%|██████████| 10/10 [00:09<00:00,  1.04it/s]"
     ]
    },
    {
     "name": "stdout",
     "output_type": "stream",
     "text": [
      "processing;  /media/cat/4TBSSD/yuki/IA2/tif_files/IA2pm_Mar18_30Hz/IA2pm_Mar18_30Hz_locanmf.npz  with lockout:  False\n"
     ]
    },
    {
     "name": "stderr",
     "output_type": "stream",
     "text": [
      "\n",
      "100%|██████████| 10/10 [00:07<00:00,  1.29it/s]"
     ]
    },
    {
     "name": "stdout",
     "output_type": "stream",
     "text": [
      "processing;  /media/cat/4TBSSD/yuki/IA2/tif_files/IA2pm_Mar21_30Hz/IA2pm_Mar21_30Hz_locanmf.npz  with lockout:  False\n"
     ]
    },
    {
     "name": "stderr",
     "output_type": "stream",
     "text": [
      "\n",
      "100%|██████████| 10/10 [00:06<00:00,  1.50it/s]"
     ]
    },
    {
     "name": "stdout",
     "output_type": "stream",
     "text": [
      "processing;  /media/cat/4TBSSD/yuki/IA2/tif_files/IA2pm_Mar23_30Hz/IA2pm_Mar23_30Hz_locanmf.npz  with lockout:  False\n"
     ]
    },
    {
     "name": "stderr",
     "output_type": "stream",
     "text": [
      "\n",
      "100%|██████████| 10/10 [00:08<00:00,  1.24it/s]"
     ]
    },
    {
     "name": "stdout",
     "output_type": "stream",
     "text": [
      "processing;  /media/cat/4TBSSD/yuki/IA2/tif_files/IA2pm_Mar24_30Hz/IA2pm_Mar24_30Hz_locanmf.npz  with lockout:  False\n"
     ]
    },
    {
     "name": "stderr",
     "output_type": "stream",
     "text": [
      "\n",
      "100%|██████████| 10/10 [00:06<00:00,  1.58it/s]"
     ]
    },
    {
     "name": "stdout",
     "output_type": "stream",
     "text": [
      " ....file not found, skippping  /media/cat/4TBSSD/yuki/IA2/tif_files/IA2pm_Mar29_30Hz/IA2pm_Mar29_30Hz_locanmf.npz\n",
      "processing;  /media/cat/4TBSSD/yuki/IA2/tif_files/IA2pm_Mar30_30Hz/IA2pm_Mar30_30Hz_locanmf.npz  with lockout:  False\n"
     ]
    },
    {
     "name": "stderr",
     "output_type": "stream",
     "text": [
      "\n",
      "100%|██████████| 10/10 [00:05<00:00,  1.76it/s]"
     ]
    },
    {
     "name": "stdout",
     "output_type": "stream",
     "text": [
      "processing;  /media/cat/4TBSSD/yuki/IA2/tif_files/IA2pm_Mar31_30Hz/IA2pm_Mar31_30Hz_locanmf.npz  with lockout:  False\n"
     ]
    },
    {
     "name": "stderr",
     "output_type": "stream",
     "text": [
      "\n",
      "100%|██████████| 10/10 [00:07<00:00,  1.31it/s]"
     ]
    },
    {
     "name": "stdout",
     "output_type": "stream",
     "text": [
      "processing;  /media/cat/4TBSSD/yuki/IA2/tif_files/IA2pm_Apr1_30Hz/IA2pm_Apr1_30Hz_locanmf.npz  with lockout:  False\n"
     ]
    },
    {
     "name": "stderr",
     "output_type": "stream",
     "text": [
      "\n",
      "100%|██████████| 10/10 [00:09<00:00,  1.04it/s]"
     ]
    },
    {
     "name": "stdout",
     "output_type": "stream",
     "text": [
      "processing;  /media/cat/4TBSSD/yuki/IA2/tif_files/IA2pm_Apr4_30Hz/IA2pm_Apr4_30Hz_locanmf.npz  with lockout:  False\n"
     ]
    },
    {
     "name": "stderr",
     "output_type": "stream",
     "text": [
      "\n",
      "100%|██████████| 10/10 [00:05<00:00,  1.89it/s]"
     ]
    },
    {
     "name": "stdout",
     "output_type": "stream",
     "text": [
      "processing;  /media/cat/4TBSSD/yuki/IA2/tif_files/IA2pm_Apr5_30Hz/IA2pm_Apr5_30Hz_locanmf.npz  with lockout:  False\n"
     ]
    },
    {
     "name": "stderr",
     "output_type": "stream",
     "text": [
      "\n",
      "100%|██████████| 10/10 [00:05<00:00,  1.93it/s]"
     ]
    },
    {
     "name": "stdout",
     "output_type": "stream",
     "text": [
      "processing;  /media/cat/4TBSSD/yuki/IA2/tif_files/IA2pm_Apr6_30Hz/IA2pm_Apr6_30Hz_locanmf.npz  with lockout:  False\n"
     ]
    },
    {
     "name": "stderr",
     "output_type": "stream",
     "text": [
      "\n",
      "100%|██████████| 10/10 [00:07<00:00,  1.27it/s]"
     ]
    },
    {
     "name": "stdout",
     "output_type": "stream",
     "text": [
      "DONE predicting SVM on animal:  IA2\n",
      "processing;  /media/cat/4TBSSD/yuki/IA3/tif_files/IA3pm_Feb1_30Hz/IA3pm_Feb1_30Hz_locanmf.npz  with lockout:  False\n"
     ]
    },
    {
     "name": "stderr",
     "output_type": "stream",
     "text": [
      "\n",
      "100%|██████████| 10/10 [00:05<00:00,  1.84it/s]"
     ]
    },
    {
     "name": "stdout",
     "output_type": "stream",
     "text": [
      "processing;  /media/cat/4TBSSD/yuki/IA3/tif_files/IA3pm_Feb2_30Hz/IA3pm_Feb2_30Hz_locanmf.npz  with lockout:  False\n"
     ]
    },
    {
     "name": "stderr",
     "output_type": "stream",
     "text": [
      "\n",
      "100%|██████████| 10/10 [00:08<00:00,  1.24it/s]"
     ]
    },
    {
     "name": "stdout",
     "output_type": "stream",
     "text": [
      "processing;  /media/cat/4TBSSD/yuki/IA3/tif_files/IA3pm_Feb3_30Hz/IA3pm_Feb3_30Hz_locanmf.npz  with lockout:  False\n"
     ]
    },
    {
     "name": "stderr",
     "output_type": "stream",
     "text": [
      "\n",
      "100%|██████████| 10/10 [00:10<00:00,  1.07s/it]"
     ]
    },
    {
     "name": "stdout",
     "output_type": "stream",
     "text": [
      "processing;  /media/cat/4TBSSD/yuki/IA3/tif_files/IA3pm_Feb4_30Hz/IA3pm_Feb4_30Hz_locanmf.npz  with lockout:  False\n"
     ]
    },
    {
     "name": "stderr",
     "output_type": "stream",
     "text": [
      "\n",
      "100%|██████████| 10/10 [00:07<00:00,  1.38it/s]"
     ]
    },
    {
     "name": "stdout",
     "output_type": "stream",
     "text": [
      "processing;  /media/cat/4TBSSD/yuki/IA3/tif_files/IA3pm_Feb9_30Hz/IA3pm_Feb9_30Hz_locanmf.npz  with lockout:  False\n"
     ]
    },
    {
     "name": "stderr",
     "output_type": "stream",
     "text": [
      "\n",
      "100%|██████████| 10/10 [00:04<00:00,  2.13it/s]"
     ]
    },
    {
     "name": "stdout",
     "output_type": "stream",
     "text": [
      " ....file not found, skippping  /media/cat/4TBSSD/yuki/IA3/tif_files/IA3pm_Feb10_30Hz/IA3pm_Feb10_30Hz_locanmf.npz\n",
      "processing;  /media/cat/4TBSSD/yuki/IA3/tif_files/IA3pm_Feb11_30Hz/IA3pm_Feb11_30Hz_locanmf.npz  with lockout:  False\n"
     ]
    },
    {
     "name": "stderr",
     "output_type": "stream",
     "text": [
      "\n",
      "100%|██████████| 10/10 [00:04<00:00,  2.08it/s]"
     ]
    },
    {
     "name": "stdout",
     "output_type": "stream",
     "text": [
      "processing;  /media/cat/4TBSSD/yuki/IA3/tif_files/IA3pm_Feb12_30Hz/IA3pm_Feb12_30Hz_locanmf.npz  with lockout:  False\n"
     ]
    },
    {
     "name": "stderr",
     "output_type": "stream",
     "text": [
      "\n",
      "100%|██████████| 10/10 [00:09<00:00,  1.06it/s]"
     ]
    },
    {
     "name": "stdout",
     "output_type": "stream",
     "text": [
      "processing;  /media/cat/4TBSSD/yuki/IA3/tif_files/IA3pm_Feb15_30Hz/IA3pm_Feb15_30Hz_locanmf.npz  with lockout:  False\n"
     ]
    },
    {
     "name": "stderr",
     "output_type": "stream",
     "text": [
      "\n",
      "100%|██████████| 10/10 [00:06<00:00,  1.50it/s]"
     ]
    },
    {
     "name": "stdout",
     "output_type": "stream",
     "text": [
      "processing;  /media/cat/4TBSSD/yuki/IA3/tif_files/IA3pm_Feb16_30Hz/IA3pm_Feb16_30Hz_locanmf.npz  with lockout:  False\n"
     ]
    },
    {
     "name": "stderr",
     "output_type": "stream",
     "text": [
      "\n",
      "100%|██████████| 10/10 [00:08<00:00,  1.19it/s]"
     ]
    },
    {
     "name": "stdout",
     "output_type": "stream",
     "text": [
      "processing;  /media/cat/4TBSSD/yuki/IA3/tif_files/IA3pm_Feb17_30Hz/IA3pm_Feb17_30Hz_locanmf.npz  with lockout:  False\n"
     ]
    },
    {
     "name": "stderr",
     "output_type": "stream",
     "text": [
      "\n",
      "100%|██████████| 10/10 [00:06<00:00,  1.48it/s]"
     ]
    },
    {
     "name": "stdout",
     "output_type": "stream",
     "text": [
      "processing;  /media/cat/4TBSSD/yuki/IA3/tif_files/IA3pm_Feb18_30Hz/IA3pm_Feb18_30Hz_locanmf.npz  with lockout:  False\n"
     ]
    },
    {
     "name": "stderr",
     "output_type": "stream",
     "text": [
      "\n",
      "100%|██████████| 10/10 [00:06<00:00,  1.66it/s]"
     ]
    },
    {
     "name": "stdout",
     "output_type": "stream",
     "text": [
      "processing;  /media/cat/4TBSSD/yuki/IA3/tif_files/IA3pm_Feb19_30Hz/IA3pm_Feb19_30Hz_locanmf.npz  with lockout:  False\n"
     ]
    },
    {
     "name": "stderr",
     "output_type": "stream",
     "text": [
      "\n",
      "100%|██████████| 10/10 [00:05<00:00,  1.85it/s]"
     ]
    },
    {
     "name": "stdout",
     "output_type": "stream",
     "text": [
      "processing;  /media/cat/4TBSSD/yuki/IA3/tif_files/IA3pm_Feb22_30Hz/IA3pm_Feb22_30Hz_locanmf.npz  with lockout:  False\n"
     ]
    },
    {
     "name": "stderr",
     "output_type": "stream",
     "text": [
      "\n",
      "100%|██████████| 10/10 [00:05<00:00,  1.93it/s]"
     ]
    },
    {
     "name": "stdout",
     "output_type": "stream",
     "text": [
      "processing;  /media/cat/4TBSSD/yuki/IA3/tif_files/IA3pm_Feb23_30Hz/IA3pm_Feb23_30Hz_locanmf.npz  with lockout:  False\n"
     ]
    },
    {
     "name": "stderr",
     "output_type": "stream",
     "text": [
      "\n",
      "100%|██████████| 10/10 [00:04<00:00,  2.10it/s]"
     ]
    },
    {
     "name": "stdout",
     "output_type": "stream",
     "text": [
      " ....file not found, skippping  /media/cat/4TBSSD/yuki/IA3/tif_files/IA3pm_Feb24_30Hz/IA3pm_Feb24_30Hz_locanmf.npz\n",
      " ....file not found, skippping  /media/cat/4TBSSD/yuki/IA3/tif_files/IA3pm_Feb25_30Hz/IA3pm_Feb25_30Hz_locanmf.npz\n",
      "processing;  /media/cat/4TBSSD/yuki/IA3/tif_files/IA3pm_Feb26_30Hz/IA3pm_Feb26_30Hz_locanmf.npz  with lockout:  False\n"
     ]
    },
    {
     "name": "stderr",
     "output_type": "stream",
     "text": [
      "\n",
      "100%|██████████| 10/10 [00:08<00:00,  1.25it/s]"
     ]
    },
    {
     "name": "stdout",
     "output_type": "stream",
     "text": [
      "processing;  /media/cat/4TBSSD/yuki/IA3/tif_files/IA3pm_Feb29_30Hz/IA3pm_Feb29_30Hz_locanmf.npz  with lockout:  False\n"
     ]
    },
    {
     "name": "stderr",
     "output_type": "stream",
     "text": [
      "\n",
      "100%|██████████| 10/10 [00:06<00:00,  1.53it/s]"
     ]
    },
    {
     "name": "stdout",
     "output_type": "stream",
     "text": [
      "processing;  /media/cat/4TBSSD/yuki/IA3/tif_files/IA3pm_Mar1_30Hz/IA3pm_Mar1_30Hz_locanmf.npz  with lockout:  False\n"
     ]
    },
    {
     "name": "stderr",
     "output_type": "stream",
     "text": [
      "\n",
      "100%|██████████| 10/10 [00:05<00:00,  1.97it/s]"
     ]
    },
    {
     "name": "stdout",
     "output_type": "stream",
     "text": [
      "processing;  /media/cat/4TBSSD/yuki/IA3/tif_files/IA3pm_Mar2_30Hz/IA3pm_Mar2_30Hz_locanmf.npz  with lockout:  False\n"
     ]
    },
    {
     "name": "stderr",
     "output_type": "stream",
     "text": [
      "\n",
      "100%|██████████| 10/10 [00:05<00:00,  1.80it/s]"
     ]
    },
    {
     "name": "stdout",
     "output_type": "stream",
     "text": [
      "processing;  /media/cat/4TBSSD/yuki/IA3/tif_files/IA3pm_Mar3_30Hz/IA3pm_Mar3_30Hz_locanmf.npz  with lockout:  False\n"
     ]
    },
    {
     "name": "stderr",
     "output_type": "stream",
     "text": [
      "\n",
      "100%|██████████| 10/10 [00:06<00:00,  1.44it/s]"
     ]
    },
    {
     "name": "stdout",
     "output_type": "stream",
     "text": [
      "processing;  /media/cat/4TBSSD/yuki/IA3/tif_files/IA3am_Mar7_30Hz/IA3am_Mar7_30Hz_locanmf.npz  with lockout:  False\n"
     ]
    },
    {
     "name": "stderr",
     "output_type": "stream",
     "text": [
      "\n",
      "100%|██████████| 10/10 [00:05<00:00,  1.67it/s]"
     ]
    },
    {
     "name": "stdout",
     "output_type": "stream",
     "text": [
      "processing;  /media/cat/4TBSSD/yuki/IA3/tif_files/IA3pm_Mar8_30Hz/IA3pm_Mar8_30Hz_locanmf.npz  with lockout:  False\n"
     ]
    },
    {
     "name": "stderr",
     "output_type": "stream",
     "text": [
      "\n",
      "100%|██████████| 10/10 [00:05<00:00,  1.76it/s]"
     ]
    },
    {
     "name": "stdout",
     "output_type": "stream",
     "text": [
      "processing;  /media/cat/4TBSSD/yuki/IA3/tif_files/IA3am_Mar9_30Hz/IA3am_Mar9_30Hz_locanmf.npz  with lockout:  False\n"
     ]
    },
    {
     "name": "stderr",
     "output_type": "stream",
     "text": [
      "\n",
      "100%|██████████| 10/10 [00:06<00:00,  1.66it/s]"
     ]
    },
    {
     "name": "stdout",
     "output_type": "stream",
     "text": [
      "processing;  /media/cat/4TBSSD/yuki/IA3/tif_files/IA3am_Mar10_30Hz/IA3am_Mar10_30Hz_locanmf.npz  with lockout:  False\n"
     ]
    },
    {
     "name": "stderr",
     "output_type": "stream",
     "text": [
      "\n",
      "100%|██████████| 10/10 [00:08<00:00,  1.25it/s]"
     ]
    },
    {
     "name": "stdout",
     "output_type": "stream",
     "text": [
      "processing;  /media/cat/4TBSSD/yuki/IA3/tif_files/IA3am_Mar11_30Hz/IA3am_Mar11_30Hz_locanmf.npz  with lockout:  False\n"
     ]
    },
    {
     "name": "stderr",
     "output_type": "stream",
     "text": [
      "\n",
      "100%|██████████| 10/10 [00:07<00:00,  1.36it/s]"
     ]
    },
    {
     "name": "stdout",
     "output_type": "stream",
     "text": [
      "processing;  /media/cat/4TBSSD/yuki/IA3/tif_files/IA3pm_Mar14_30Hz/IA3pm_Mar14_30Hz_locanmf.npz  with lockout:  False\n"
     ]
    },
    {
     "name": "stderr",
     "output_type": "stream",
     "text": [
      "\n",
      "100%|██████████| 10/10 [00:05<00:00,  1.93it/s]"
     ]
    },
    {
     "name": "stdout",
     "output_type": "stream",
     "text": [
      "processing;  /media/cat/4TBSSD/yuki/IA3/tif_files/IA3am_Mar15_30Hz/IA3am_Mar15_30Hz_locanmf.npz  with lockout:  False\n"
     ]
    },
    {
     "name": "stderr",
     "output_type": "stream",
     "text": [
      "\n",
      "100%|██████████| 10/10 [00:05<00:00,  1.77it/s]"
     ]
    },
    {
     "name": "stdout",
     "output_type": "stream",
     "text": [
      "processing;  /media/cat/4TBSSD/yuki/IA3/tif_files/IA3pm_Mar16_30Hz/IA3pm_Mar16_30Hz_locanmf.npz  with lockout:  False\n"
     ]
    },
    {
     "name": "stderr",
     "output_type": "stream",
     "text": [
      "\n",
      "100%|██████████| 10/10 [00:06<00:00,  1.51it/s]"
     ]
    },
    {
     "name": "stdout",
     "output_type": "stream",
     "text": [
      "processing;  /media/cat/4TBSSD/yuki/IA3/tif_files/IA3pm_Mar17_30Hz/IA3pm_Mar17_30Hz_locanmf.npz  with lockout:  False\n"
     ]
    },
    {
     "name": "stderr",
     "output_type": "stream",
     "text": [
      "\n",
      "100%|██████████| 10/10 [00:07<00:00,  1.36it/s]"
     ]
    },
    {
     "name": "stdout",
     "output_type": "stream",
     "text": [
      "processing;  /media/cat/4TBSSD/yuki/IA3/tif_files/IA3pm_Mar18_30Hz/IA3pm_Mar18_30Hz_locanmf.npz  with lockout:  False\n"
     ]
    },
    {
     "name": "stderr",
     "output_type": "stream",
     "text": [
      "\n",
      "100%|██████████| 10/10 [00:09<00:00,  1.05it/s]"
     ]
    },
    {
     "name": "stdout",
     "output_type": "stream",
     "text": [
      "processing;  /media/cat/4TBSSD/yuki/IA3/tif_files/IA3pm_Mar21_30Hz/IA3pm_Mar21_30Hz_locanmf.npz  with lockout:  False\n"
     ]
    },
    {
     "name": "stderr",
     "output_type": "stream",
     "text": [
      "\n",
      "100%|██████████| 10/10 [00:11<00:00,  1.15s/it]"
     ]
    },
    {
     "name": "stdout",
     "output_type": "stream",
     "text": [
      "processing;  /media/cat/4TBSSD/yuki/IA3/tif_files/IA3pm_Mar22_30Hz/IA3pm_Mar22_30Hz_locanmf.npz  with lockout:  False\n"
     ]
    },
    {
     "name": "stderr",
     "output_type": "stream",
     "text": [
      "\n",
      "100%|██████████| 10/10 [00:10<00:00,  1.06s/it]"
     ]
    },
    {
     "name": "stdout",
     "output_type": "stream",
     "text": [
      "processing;  /media/cat/4TBSSD/yuki/IA3/tif_files/IA3pm_Mar23_30Hz/IA3pm_Mar23_30Hz_locanmf.npz  with lockout:  False\n"
     ]
    },
    {
     "name": "stderr",
     "output_type": "stream",
     "text": [
      "\n",
      "100%|██████████| 10/10 [00:12<00:00,  1.21s/it]\n"
     ]
    },
    {
     "name": "stdout",
     "output_type": "stream",
     "text": [
      "processing;  /media/cat/4TBSSD/yuki/IA3/tif_files/IA3pm_Mar24_30Hz/IA3pm_Mar24_30Hz_locanmf.npz  with lockout:  False\n"
     ]
    },
    {
     "name": "stderr",
     "output_type": "stream",
     "text": [
      "100%|██████████| 10/10 [00:14<00:00,  1.47s/it]"
     ]
    },
    {
     "name": "stdout",
     "output_type": "stream",
     "text": [
      "processing;  /media/cat/4TBSSD/yuki/IA3/tif_files/IA3pm_Mar29_30Hz/IA3pm_Mar29_30Hz_locanmf.npz  with lockout:  False\n"
     ]
    },
    {
     "name": "stderr",
     "output_type": "stream",
     "text": [
      "\n",
      "100%|██████████| 10/10 [00:10<00:00,  1.01s/it]"
     ]
    },
    {
     "name": "stdout",
     "output_type": "stream",
     "text": [
      "processing;  /media/cat/4TBSSD/yuki/IA3/tif_files/IA3pm_Mar30_30Hz/IA3pm_Mar30_30Hz_locanmf.npz  with lockout:  False\n"
     ]
    },
    {
     "name": "stderr",
     "output_type": "stream",
     "text": [
      "\n",
      "100%|██████████| 10/10 [00:06<00:00,  1.51it/s]"
     ]
    },
    {
     "name": "stdout",
     "output_type": "stream",
     "text": [
      "processing;  /media/cat/4TBSSD/yuki/IA3/tif_files/IA3pm_Mar31_30Hz/IA3pm_Mar31_30Hz_locanmf.npz  with lockout:  False\n"
     ]
    },
    {
     "name": "stderr",
     "output_type": "stream",
     "text": [
      "\n",
      "100%|██████████| 10/10 [00:10<00:00,  1.03s/it]"
     ]
    },
    {
     "name": "stdout",
     "output_type": "stream",
     "text": [
      "processing;  /media/cat/4TBSSD/yuki/IA3/tif_files/IA3pm_Apr1_30Hz/IA3pm_Apr1_30Hz_locanmf.npz  with lockout:  False\n"
     ]
    },
    {
     "name": "stderr",
     "output_type": "stream",
     "text": [
      "\n",
      "100%|██████████| 10/10 [00:08<00:00,  1.13it/s]"
     ]
    },
    {
     "name": "stdout",
     "output_type": "stream",
     "text": [
      "processing;  /media/cat/4TBSSD/yuki/IA3/tif_files/IA3pm_Apr4_30Hz/IA3pm_Apr4_30Hz_locanmf.npz  with lockout:  False\n"
     ]
    },
    {
     "name": "stderr",
     "output_type": "stream",
     "text": [
      "\n",
      "100%|██████████| 10/10 [00:07<00:00,  1.26it/s]"
     ]
    },
    {
     "name": "stdout",
     "output_type": "stream",
     "text": [
      "processing;  /media/cat/4TBSSD/yuki/IA3/tif_files/IA3pm_Apr5_30Hz/IA3pm_Apr5_30Hz_locanmf.npz  with lockout:  False\n"
     ]
    },
    {
     "name": "stderr",
     "output_type": "stream",
     "text": [
      "\n",
      "100%|██████████| 10/10 [00:13<00:00,  1.36s/it]"
     ]
    },
    {
     "name": "stdout",
     "output_type": "stream",
     "text": [
      "processing;  /media/cat/4TBSSD/yuki/IA3/tif_files/IA3pm_Apr6_30Hz/IA3pm_Apr6_30Hz_locanmf.npz  with lockout:  False\n"
     ]
    },
    {
     "name": "stderr",
     "output_type": "stream",
     "text": [
      "\n",
      "100%|██████████| 10/10 [00:08<00:00,  1.22it/s]\n"
     ]
    },
    {
     "name": "stdout",
     "output_type": "stream",
     "text": [
      "processing;  /media/cat/4TBSSD/yuki/IA3/tif_files/IA3pm_Apr7_30Hz/IA3pm_Apr7_30Hz_locanmf.npz  with lockout:  False\n"
     ]
    },
    {
     "name": "stderr",
     "output_type": "stream",
     "text": [
      "100%|██████████| 10/10 [00:11<00:00,  1.20s/it]"
     ]
    },
    {
     "name": "stdout",
     "output_type": "stream",
     "text": [
      "DONE predicting SVM on animal:  IA3\n",
      "processing;  /media/cat/4TBSSD/yuki/IA3/tif_files/IA3pm_Feb1_30Hz/IA3pm_Feb1_30Hz_locanmf.npz  with lockout:  False\n"
     ]
    },
    {
     "name": "stderr",
     "output_type": "stream",
     "text": [
      "\n",
      "100%|██████████| 10/10 [00:05<00:00,  1.90it/s]"
     ]
    },
    {
     "name": "stdout",
     "output_type": "stream",
     "text": [
      "processing;  /media/cat/4TBSSD/yuki/IA3/tif_files/IA3pm_Feb2_30Hz/IA3pm_Feb2_30Hz_locanmf.npz  with lockout:  False\n"
     ]
    },
    {
     "name": "stderr",
     "output_type": "stream",
     "text": [
      "\n",
      "100%|██████████| 10/10 [00:07<00:00,  1.27it/s]"
     ]
    },
    {
     "name": "stdout",
     "output_type": "stream",
     "text": [
      "processing;  /media/cat/4TBSSD/yuki/IA3/tif_files/IA3pm_Feb3_30Hz/IA3pm_Feb3_30Hz_locanmf.npz  with lockout:  False\n"
     ]
    },
    {
     "name": "stderr",
     "output_type": "stream",
     "text": [
      "\n",
      "100%|██████████| 10/10 [00:10<00:00,  1.06s/it]"
     ]
    },
    {
     "name": "stdout",
     "output_type": "stream",
     "text": [
      "processing;  /media/cat/4TBSSD/yuki/IA3/tif_files/IA3pm_Feb4_30Hz/IA3pm_Feb4_30Hz_locanmf.npz  with lockout:  False\n"
     ]
    },
    {
     "name": "stderr",
     "output_type": "stream",
     "text": [
      "\n",
      "100%|██████████| 10/10 [00:07<00:00,  1.42it/s]"
     ]
    },
    {
     "name": "stdout",
     "output_type": "stream",
     "text": [
      "processing;  /media/cat/4TBSSD/yuki/IA3/tif_files/IA3pm_Feb9_30Hz/IA3pm_Feb9_30Hz_locanmf.npz  with lockout:  False\n"
     ]
    },
    {
     "name": "stderr",
     "output_type": "stream",
     "text": [
      "\n",
      "100%|██████████| 10/10 [00:04<00:00,  2.16it/s]"
     ]
    },
    {
     "name": "stdout",
     "output_type": "stream",
     "text": [
      " ....file not found, skippping  /media/cat/4TBSSD/yuki/IA3/tif_files/IA3pm_Feb10_30Hz/IA3pm_Feb10_30Hz_locanmf.npz\n",
      "processing;  /media/cat/4TBSSD/yuki/IA3/tif_files/IA3pm_Feb11_30Hz/IA3pm_Feb11_30Hz_locanmf.npz  with lockout:  False\n"
     ]
    },
    {
     "name": "stderr",
     "output_type": "stream",
     "text": [
      "\n",
      "100%|██████████| 10/10 [00:04<00:00,  2.11it/s]"
     ]
    },
    {
     "name": "stdout",
     "output_type": "stream",
     "text": [
      "processing;  /media/cat/4TBSSD/yuki/IA3/tif_files/IA3pm_Feb12_30Hz/IA3pm_Feb12_30Hz_locanmf.npz  with lockout:  False\n"
     ]
    },
    {
     "name": "stderr",
     "output_type": "stream",
     "text": [
      "\n",
      "100%|██████████| 10/10 [00:10<00:00,  1.00s/it]"
     ]
    },
    {
     "name": "stdout",
     "output_type": "stream",
     "text": [
      "processing;  /media/cat/4TBSSD/yuki/IA3/tif_files/IA3pm_Feb15_30Hz/IA3pm_Feb15_30Hz_locanmf.npz  with lockout:  False\n"
     ]
    },
    {
     "name": "stderr",
     "output_type": "stream",
     "text": [
      "\n",
      "100%|██████████| 10/10 [00:06<00:00,  1.44it/s]"
     ]
    },
    {
     "name": "stdout",
     "output_type": "stream",
     "text": [
      "processing;  /media/cat/4TBSSD/yuki/IA3/tif_files/IA3pm_Feb16_30Hz/IA3pm_Feb16_30Hz_locanmf.npz  with lockout:  False\n"
     ]
    },
    {
     "name": "stderr",
     "output_type": "stream",
     "text": [
      "\n",
      "100%|██████████| 10/10 [00:08<00:00,  1.23it/s]"
     ]
    },
    {
     "name": "stdout",
     "output_type": "stream",
     "text": [
      "processing;  /media/cat/4TBSSD/yuki/IA3/tif_files/IA3pm_Feb17_30Hz/IA3pm_Feb17_30Hz_locanmf.npz  with lockout:  False\n"
     ]
    },
    {
     "name": "stderr",
     "output_type": "stream",
     "text": [
      "\n",
      "100%|██████████| 10/10 [00:06<00:00,  1.49it/s]"
     ]
    },
    {
     "name": "stdout",
     "output_type": "stream",
     "text": [
      "processing;  /media/cat/4TBSSD/yuki/IA3/tif_files/IA3pm_Feb18_30Hz/IA3pm_Feb18_30Hz_locanmf.npz  with lockout:  False\n"
     ]
    },
    {
     "name": "stderr",
     "output_type": "stream",
     "text": [
      "\n",
      "100%|██████████| 10/10 [00:05<00:00,  1.68it/s]"
     ]
    },
    {
     "name": "stdout",
     "output_type": "stream",
     "text": [
      "processing;  /media/cat/4TBSSD/yuki/IA3/tif_files/IA3pm_Feb19_30Hz/IA3pm_Feb19_30Hz_locanmf.npz  with lockout:  False\n"
     ]
    },
    {
     "name": "stderr",
     "output_type": "stream",
     "text": [
      "\n",
      "100%|██████████| 10/10 [00:05<00:00,  1.84it/s]"
     ]
    },
    {
     "name": "stdout",
     "output_type": "stream",
     "text": [
      "processing;  /media/cat/4TBSSD/yuki/IA3/tif_files/IA3pm_Feb22_30Hz/IA3pm_Feb22_30Hz_locanmf.npz  with lockout:  False\n"
     ]
    },
    {
     "name": "stderr",
     "output_type": "stream",
     "text": [
      "\n",
      "100%|██████████| 10/10 [00:05<00:00,  1.91it/s]"
     ]
    },
    {
     "name": "stdout",
     "output_type": "stream",
     "text": [
      "processing;  /media/cat/4TBSSD/yuki/IA3/tif_files/IA3pm_Feb23_30Hz/IA3pm_Feb23_30Hz_locanmf.npz  with lockout:  False\n"
     ]
    },
    {
     "name": "stderr",
     "output_type": "stream",
     "text": [
      "\n",
      "100%|██████████| 10/10 [00:04<00:00,  2.16it/s]"
     ]
    },
    {
     "name": "stdout",
     "output_type": "stream",
     "text": [
      " ....file not found, skippping  /media/cat/4TBSSD/yuki/IA3/tif_files/IA3pm_Feb24_30Hz/IA3pm_Feb24_30Hz_locanmf.npz\n",
      " ....file not found, skippping  /media/cat/4TBSSD/yuki/IA3/tif_files/IA3pm_Feb25_30Hz/IA3pm_Feb25_30Hz_locanmf.npz\n",
      "processing;  /media/cat/4TBSSD/yuki/IA3/tif_files/IA3pm_Feb26_30Hz/IA3pm_Feb26_30Hz_locanmf.npz  with lockout:  False\n"
     ]
    },
    {
     "name": "stderr",
     "output_type": "stream",
     "text": [
      "\n",
      "100%|██████████| 10/10 [00:08<00:00,  1.22it/s]\n"
     ]
    },
    {
     "name": "stdout",
     "output_type": "stream",
     "text": [
      "processing;  /media/cat/4TBSSD/yuki/IA3/tif_files/IA3pm_Feb29_30Hz/IA3pm_Feb29_30Hz_locanmf.npz  with lockout:  False\n"
     ]
    },
    {
     "name": "stderr",
     "output_type": "stream",
     "text": [
      "100%|██████████| 10/10 [00:06<00:00,  1.53it/s]"
     ]
    },
    {
     "name": "stdout",
     "output_type": "stream",
     "text": [
      "processing;  /media/cat/4TBSSD/yuki/IA3/tif_files/IA3pm_Mar1_30Hz/IA3pm_Mar1_30Hz_locanmf.npz  with lockout:  False\n"
     ]
    },
    {
     "name": "stderr",
     "output_type": "stream",
     "text": [
      "\n",
      "100%|██████████| 10/10 [00:05<00:00,  1.92it/s]"
     ]
    },
    {
     "name": "stdout",
     "output_type": "stream",
     "text": [
      "processing;  /media/cat/4TBSSD/yuki/IA3/tif_files/IA3pm_Mar2_30Hz/IA3pm_Mar2_30Hz_locanmf.npz  with lockout:  False\n"
     ]
    },
    {
     "name": "stderr",
     "output_type": "stream",
     "text": [
      "\n",
      "100%|██████████| 10/10 [00:05<00:00,  1.77it/s]"
     ]
    },
    {
     "name": "stdout",
     "output_type": "stream",
     "text": [
      "processing;  /media/cat/4TBSSD/yuki/IA3/tif_files/IA3pm_Mar3_30Hz/IA3pm_Mar3_30Hz_locanmf.npz  with lockout:  False\n"
     ]
    },
    {
     "name": "stderr",
     "output_type": "stream",
     "text": [
      "\n",
      "100%|██████████| 10/10 [00:07<00:00,  1.42it/s]"
     ]
    },
    {
     "name": "stdout",
     "output_type": "stream",
     "text": [
      "processing;  /media/cat/4TBSSD/yuki/IA3/tif_files/IA3am_Mar7_30Hz/IA3am_Mar7_30Hz_locanmf.npz  with lockout:  False\n"
     ]
    },
    {
     "name": "stderr",
     "output_type": "stream",
     "text": [
      "\n",
      "100%|██████████| 10/10 [00:05<00:00,  1.70it/s]"
     ]
    },
    {
     "name": "stdout",
     "output_type": "stream",
     "text": [
      "processing;  /media/cat/4TBSSD/yuki/IA3/tif_files/IA3pm_Mar8_30Hz/IA3pm_Mar8_30Hz_locanmf.npz  with lockout:  False\n"
     ]
    },
    {
     "name": "stderr",
     "output_type": "stream",
     "text": [
      "\n",
      "100%|██████████| 10/10 [00:05<00:00,  1.79it/s]"
     ]
    },
    {
     "name": "stdout",
     "output_type": "stream",
     "text": [
      "processing;  /media/cat/4TBSSD/yuki/IA3/tif_files/IA3am_Mar9_30Hz/IA3am_Mar9_30Hz_locanmf.npz  with lockout:  False\n"
     ]
    },
    {
     "name": "stderr",
     "output_type": "stream",
     "text": [
      "\n",
      "100%|██████████| 10/10 [00:06<00:00,  1.66it/s]"
     ]
    },
    {
     "name": "stdout",
     "output_type": "stream",
     "text": [
      "processing;  /media/cat/4TBSSD/yuki/IA3/tif_files/IA3am_Mar10_30Hz/IA3am_Mar10_30Hz_locanmf.npz  with lockout:  False\n"
     ]
    },
    {
     "name": "stderr",
     "output_type": "stream",
     "text": [
      "\n",
      "100%|██████████| 10/10 [00:08<00:00,  1.23it/s]\n"
     ]
    },
    {
     "name": "stdout",
     "output_type": "stream",
     "text": [
      "processing;  /media/cat/4TBSSD/yuki/IA3/tif_files/IA3am_Mar11_30Hz/IA3am_Mar11_30Hz_locanmf.npz  with lockout:  False\n"
     ]
    },
    {
     "name": "stderr",
     "output_type": "stream",
     "text": [
      "100%|██████████| 10/10 [00:07<00:00,  1.39it/s]"
     ]
    },
    {
     "name": "stdout",
     "output_type": "stream",
     "text": [
      "processing;  /media/cat/4TBSSD/yuki/IA3/tif_files/IA3pm_Mar14_30Hz/IA3pm_Mar14_30Hz_locanmf.npz  with lockout:  False\n"
     ]
    },
    {
     "name": "stderr",
     "output_type": "stream",
     "text": [
      "\n",
      "100%|██████████| 10/10 [00:05<00:00,  1.97it/s]"
     ]
    },
    {
     "name": "stdout",
     "output_type": "stream",
     "text": [
      "processing;  /media/cat/4TBSSD/yuki/IA3/tif_files/IA3am_Mar15_30Hz/IA3am_Mar15_30Hz_locanmf.npz  with lockout:  False\n"
     ]
    },
    {
     "name": "stderr",
     "output_type": "stream",
     "text": [
      "\n",
      "100%|██████████| 10/10 [00:05<00:00,  1.78it/s]"
     ]
    },
    {
     "name": "stdout",
     "output_type": "stream",
     "text": [
      "processing;  /media/cat/4TBSSD/yuki/IA3/tif_files/IA3pm_Mar16_30Hz/IA3pm_Mar16_30Hz_locanmf.npz  with lockout:  False\n"
     ]
    },
    {
     "name": "stderr",
     "output_type": "stream",
     "text": [
      "\n",
      "100%|██████████| 10/10 [00:06<00:00,  1.52it/s]"
     ]
    },
    {
     "name": "stdout",
     "output_type": "stream",
     "text": [
      "processing;  /media/cat/4TBSSD/yuki/IA3/tif_files/IA3pm_Mar17_30Hz/IA3pm_Mar17_30Hz_locanmf.npz  with lockout:  False\n"
     ]
    },
    {
     "name": "stderr",
     "output_type": "stream",
     "text": [
      "\n",
      "100%|██████████| 10/10 [00:07<00:00,  1.37it/s]"
     ]
    },
    {
     "name": "stdout",
     "output_type": "stream",
     "text": [
      "processing;  /media/cat/4TBSSD/yuki/IA3/tif_files/IA3pm_Mar18_30Hz/IA3pm_Mar18_30Hz_locanmf.npz  with lockout:  False\n"
     ]
    },
    {
     "name": "stderr",
     "output_type": "stream",
     "text": [
      "\n",
      "100%|██████████| 10/10 [00:09<00:00,  1.04it/s]"
     ]
    },
    {
     "name": "stdout",
     "output_type": "stream",
     "text": [
      "processing;  /media/cat/4TBSSD/yuki/IA3/tif_files/IA3pm_Mar21_30Hz/IA3pm_Mar21_30Hz_locanmf.npz  with lockout:  False\n"
     ]
    },
    {
     "name": "stderr",
     "output_type": "stream",
     "text": [
      "\n",
      "100%|██████████| 10/10 [00:12<00:00,  1.20s/it]"
     ]
    },
    {
     "name": "stdout",
     "output_type": "stream",
     "text": [
      "processing;  /media/cat/4TBSSD/yuki/IA3/tif_files/IA3pm_Mar22_30Hz/IA3pm_Mar22_30Hz_locanmf.npz  with lockout:  False\n"
     ]
    },
    {
     "name": "stderr",
     "output_type": "stream",
     "text": [
      "\n",
      "100%|██████████| 10/10 [00:10<00:00,  1.04s/it]"
     ]
    },
    {
     "name": "stdout",
     "output_type": "stream",
     "text": [
      "processing;  /media/cat/4TBSSD/yuki/IA3/tif_files/IA3pm_Mar23_30Hz/IA3pm_Mar23_30Hz_locanmf.npz  with lockout:  False\n"
     ]
    },
    {
     "name": "stderr",
     "output_type": "stream",
     "text": [
      "\n",
      "100%|██████████| 10/10 [00:12<00:00,  1.23s/it]"
     ]
    },
    {
     "name": "stdout",
     "output_type": "stream",
     "text": [
      "processing;  /media/cat/4TBSSD/yuki/IA3/tif_files/IA3pm_Mar24_30Hz/IA3pm_Mar24_30Hz_locanmf.npz  with lockout:  False\n"
     ]
    },
    {
     "name": "stderr",
     "output_type": "stream",
     "text": [
      "\n",
      "100%|██████████| 10/10 [00:14<00:00,  1.48s/it]"
     ]
    },
    {
     "name": "stdout",
     "output_type": "stream",
     "text": [
      "processing;  /media/cat/4TBSSD/yuki/IA3/tif_files/IA3pm_Mar29_30Hz/IA3pm_Mar29_30Hz_locanmf.npz  with lockout:  False\n"
     ]
    },
    {
     "name": "stderr",
     "output_type": "stream",
     "text": [
      "\n",
      "100%|██████████| 10/10 [00:10<00:00,  1.03s/it]"
     ]
    },
    {
     "name": "stdout",
     "output_type": "stream",
     "text": [
      "processing;  /media/cat/4TBSSD/yuki/IA3/tif_files/IA3pm_Mar30_30Hz/IA3pm_Mar30_30Hz_locanmf.npz  with lockout:  False\n"
     ]
    },
    {
     "name": "stderr",
     "output_type": "stream",
     "text": [
      "\n",
      "100%|██████████| 10/10 [00:06<00:00,  1.51it/s]"
     ]
    },
    {
     "name": "stdout",
     "output_type": "stream",
     "text": [
      "processing;  /media/cat/4TBSSD/yuki/IA3/tif_files/IA3pm_Mar31_30Hz/IA3pm_Mar31_30Hz_locanmf.npz  with lockout:  False\n"
     ]
    },
    {
     "name": "stderr",
     "output_type": "stream",
     "text": [
      "\n",
      "100%|██████████| 10/10 [00:10<00:00,  1.05s/it]"
     ]
    },
    {
     "name": "stdout",
     "output_type": "stream",
     "text": [
      "processing;  /media/cat/4TBSSD/yuki/IA3/tif_files/IA3pm_Apr1_30Hz/IA3pm_Apr1_30Hz_locanmf.npz  with lockout:  False\n"
     ]
    },
    {
     "name": "stderr",
     "output_type": "stream",
     "text": [
      "\n",
      "100%|██████████| 10/10 [00:08<00:00,  1.13it/s]"
     ]
    },
    {
     "name": "stdout",
     "output_type": "stream",
     "text": [
      "processing;  /media/cat/4TBSSD/yuki/IA3/tif_files/IA3pm_Apr4_30Hz/IA3pm_Apr4_30Hz_locanmf.npz  with lockout:  False\n"
     ]
    },
    {
     "name": "stderr",
     "output_type": "stream",
     "text": [
      "\n",
      "100%|██████████| 10/10 [00:07<00:00,  1.27it/s]"
     ]
    },
    {
     "name": "stdout",
     "output_type": "stream",
     "text": [
      "processing;  /media/cat/4TBSSD/yuki/IA3/tif_files/IA3pm_Apr5_30Hz/IA3pm_Apr5_30Hz_locanmf.npz  with lockout:  False\n"
     ]
    },
    {
     "name": "stderr",
     "output_type": "stream",
     "text": [
      "\n",
      "100%|██████████| 10/10 [00:13<00:00,  1.38s/it]"
     ]
    },
    {
     "name": "stdout",
     "output_type": "stream",
     "text": [
      "processing;  /media/cat/4TBSSD/yuki/IA3/tif_files/IA3pm_Apr6_30Hz/IA3pm_Apr6_30Hz_locanmf.npz  with lockout:  False\n"
     ]
    },
    {
     "name": "stderr",
     "output_type": "stream",
     "text": [
      "\n",
      "100%|██████████| 10/10 [00:08<00:00,  1.22it/s]"
     ]
    },
    {
     "name": "stdout",
     "output_type": "stream",
     "text": [
      "processing;  /media/cat/4TBSSD/yuki/IA3/tif_files/IA3pm_Apr7_30Hz/IA3pm_Apr7_30Hz_locanmf.npz  with lockout:  False\n"
     ]
    },
    {
     "name": "stderr",
     "output_type": "stream",
     "text": [
      "\n",
      "100%|██████████| 10/10 [00:11<00:00,  1.19s/it]"
     ]
    },
    {
     "name": "stdout",
     "output_type": "stream",
     "text": [
      "DONE predicting SVM on animal:  IA3\n",
      "processing;  /media/cat/4TBSSD/yuki/IJ1/tif_files/IJ1pm_Feb1_30Hz/IJ1pm_Feb1_30Hz_locanmf.npz  with lockout:  False\n"
     ]
    },
    {
     "name": "stderr",
     "output_type": "stream",
     "text": [
      "\n",
      "100%|██████████| 10/10 [00:05<00:00,  1.88it/s]"
     ]
    },
    {
     "name": "stdout",
     "output_type": "stream",
     "text": [
      "processing;  /media/cat/4TBSSD/yuki/IJ1/tif_files/IJ1pm_Feb2_30Hz/IJ1pm_Feb2_30Hz_locanmf.npz  with lockout:  False\n"
     ]
    },
    {
     "name": "stderr",
     "output_type": "stream",
     "text": [
      "\n",
      "100%|██████████| 10/10 [00:05<00:00,  1.86it/s]"
     ]
    },
    {
     "name": "stdout",
     "output_type": "stream",
     "text": [
      "processing;  /media/cat/4TBSSD/yuki/IJ1/tif_files/IJ1pm_Feb3_30Hz/IJ1pm_Feb3_30Hz_locanmf.npz  with lockout:  False\n"
     ]
    },
    {
     "name": "stderr",
     "output_type": "stream",
     "text": [
      "\n",
      "100%|██████████| 10/10 [00:06<00:00,  1.63it/s]"
     ]
    },
    {
     "name": "stdout",
     "output_type": "stream",
     "text": [
      "processing;  /media/cat/4TBSSD/yuki/IJ1/tif_files/IJ1pm_Feb4_30Hz/IJ1pm_Feb4_30Hz_locanmf.npz  with lockout:  False\n"
     ]
    },
    {
     "name": "stderr",
     "output_type": "stream",
     "text": [
      "\n",
      "100%|██████████| 10/10 [00:05<00:00,  1.70it/s]"
     ]
    },
    {
     "name": "stdout",
     "output_type": "stream",
     "text": [
      "processing;  /media/cat/4TBSSD/yuki/IJ1/tif_files/IJ1pm_Feb5_30Hz/IJ1pm_Feb5_30Hz_locanmf.npz  with lockout:  False\n"
     ]
    },
    {
     "name": "stderr",
     "output_type": "stream",
     "text": [
      "\n",
      "100%|██████████| 10/10 [00:06<00:00,  1.59it/s]"
     ]
    },
    {
     "name": "stdout",
     "output_type": "stream",
     "text": [
      "processing;  /media/cat/4TBSSD/yuki/IJ1/tif_files/IJ1pm_Feb9_30Hz/IJ1pm_Feb9_30Hz_locanmf.npz  with lockout:  False\n"
     ]
    },
    {
     "name": "stderr",
     "output_type": "stream",
     "text": [
      "\n",
      "100%|██████████| 10/10 [00:06<00:00,  1.58it/s]"
     ]
    },
    {
     "name": "stdout",
     "output_type": "stream",
     "text": [
      "processing;  /media/cat/4TBSSD/yuki/IJ1/tif_files/IJ1pm_Feb10_30Hz/IJ1pm_Feb10_30Hz_locanmf.npz  with lockout:  False\n"
     ]
    },
    {
     "name": "stderr",
     "output_type": "stream",
     "text": [
      "\n",
      "100%|██████████| 10/10 [00:07<00:00,  1.40it/s]"
     ]
    },
    {
     "name": "stdout",
     "output_type": "stream",
     "text": [
      "processing;  /media/cat/4TBSSD/yuki/IJ1/tif_files/IJ1pm_Feb11_30Hz/IJ1pm_Feb11_30Hz_locanmf.npz  with lockout:  False\n"
     ]
    },
    {
     "name": "stderr",
     "output_type": "stream",
     "text": [
      "\n",
      "100%|██████████| 10/10 [00:06<00:00,  1.53it/s]"
     ]
    },
    {
     "name": "stdout",
     "output_type": "stream",
     "text": [
      "processing;  /media/cat/4TBSSD/yuki/IJ1/tif_files/IJ1pm_Feb12_30Hz/IJ1pm_Feb12_30Hz_locanmf.npz  with lockout:  False\n"
     ]
    },
    {
     "name": "stderr",
     "output_type": "stream",
     "text": [
      "\n",
      "100%|██████████| 10/10 [00:07<00:00,  1.36it/s]"
     ]
    },
    {
     "name": "stdout",
     "output_type": "stream",
     "text": [
      "processing;  /media/cat/4TBSSD/yuki/IJ1/tif_files/IJ1pm_Feb16_30Hz/IJ1pm_Feb16_30Hz_locanmf.npz  with lockout:  False\n"
     ]
    },
    {
     "name": "stderr",
     "output_type": "stream",
     "text": [
      "\n",
      "100%|██████████| 10/10 [00:05<00:00,  1.80it/s]"
     ]
    },
    {
     "name": "stdout",
     "output_type": "stream",
     "text": [
      "processing;  /media/cat/4TBSSD/yuki/IJ1/tif_files/IJ1pm_Feb17_30Hz/IJ1pm_Feb17_30Hz_locanmf.npz  with lockout:  False\n"
     ]
    },
    {
     "name": "stderr",
     "output_type": "stream",
     "text": [
      "\n",
      "100%|██████████| 10/10 [00:07<00:00,  1.37it/s]"
     ]
    },
    {
     "name": "stdout",
     "output_type": "stream",
     "text": [
      "processing;  /media/cat/4TBSSD/yuki/IJ1/tif_files/IJ1pm_Feb18_30Hz/IJ1pm_Feb18_30Hz_locanmf.npz  with lockout:  False\n"
     ]
    },
    {
     "name": "stderr",
     "output_type": "stream",
     "text": [
      "\n",
      "100%|██████████| 10/10 [00:05<00:00,  1.89it/s]"
     ]
    },
    {
     "name": "stdout",
     "output_type": "stream",
     "text": [
      "processing;  /media/cat/4TBSSD/yuki/IJ1/tif_files/IJ1pm_Feb19_30Hz/IJ1pm_Feb19_30Hz_locanmf.npz  with lockout:  False\n"
     ]
    },
    {
     "name": "stderr",
     "output_type": "stream",
     "text": [
      "\n",
      "100%|██████████| 10/10 [00:06<00:00,  1.58it/s]"
     ]
    },
    {
     "name": "stdout",
     "output_type": "stream",
     "text": [
      "processing;  /media/cat/4TBSSD/yuki/IJ1/tif_files/IJ1pm_Feb22_30Hz/IJ1pm_Feb22_30Hz_locanmf.npz  with lockout:  False\n"
     ]
    },
    {
     "name": "stderr",
     "output_type": "stream",
     "text": [
      "\n",
      "100%|██████████| 10/10 [00:05<00:00,  1.93it/s]"
     ]
    },
    {
     "name": "stdout",
     "output_type": "stream",
     "text": [
      "processing;  /media/cat/4TBSSD/yuki/IJ1/tif_files/IJ1pm_Feb23_30Hz/IJ1pm_Feb23_30Hz_locanmf.npz  with lockout:  False\n"
     ]
    },
    {
     "name": "stderr",
     "output_type": "stream",
     "text": [
      "\n",
      "100%|██████████| 10/10 [00:09<00:00,  1.04it/s]"
     ]
    },
    {
     "name": "stdout",
     "output_type": "stream",
     "text": [
      " ....file not found, skippping  /media/cat/4TBSSD/yuki/IJ1/tif_files/IJ1pm_Feb24_30Hz/IJ1pm_Feb24_30Hz_locanmf.npz\n",
      " ....file not found, skippping  /media/cat/4TBSSD/yuki/IJ1/tif_files/IJ1pm_Feb25_30Hz/IJ1pm_Feb25_30Hz_locanmf.npz\n",
      "processing;  /media/cat/4TBSSD/yuki/IJ1/tif_files/IJ1pm_Feb26_30Hz/IJ1pm_Feb26_30Hz_locanmf.npz  with lockout:  False\n"
     ]
    },
    {
     "name": "stderr",
     "output_type": "stream",
     "text": [
      "\n",
      "100%|██████████| 10/10 [00:06<00:00,  1.56it/s]"
     ]
    },
    {
     "name": "stdout",
     "output_type": "stream",
     "text": [
      "processing;  /media/cat/4TBSSD/yuki/IJ1/tif_files/IJ1pm_Feb29_30Hz/IJ1pm_Feb29_30Hz_locanmf.npz  with lockout:  False\n"
     ]
    },
    {
     "name": "stderr",
     "output_type": "stream",
     "text": [
      "\n",
      "100%|██████████| 10/10 [00:08<00:00,  1.14it/s]"
     ]
    },
    {
     "name": "stdout",
     "output_type": "stream",
     "text": [
      "processing;  /media/cat/4TBSSD/yuki/IJ1/tif_files/IJ1pm_Mar1_30Hz/IJ1pm_Mar1_30Hz_locanmf.npz  with lockout:  False\n"
     ]
    },
    {
     "name": "stderr",
     "output_type": "stream",
     "text": [
      "\n",
      "100%|██████████| 10/10 [00:04<00:00,  2.13it/s]"
     ]
    },
    {
     "name": "stdout",
     "output_type": "stream",
     "text": [
      "processing;  /media/cat/4TBSSD/yuki/IJ1/tif_files/IJ1pm_Mar2_30Hz/IJ1pm_Mar2_30Hz_locanmf.npz  with lockout:  False\n"
     ]
    },
    {
     "name": "stderr",
     "output_type": "stream",
     "text": [
      "\n",
      "100%|██████████| 10/10 [00:07<00:00,  1.28it/s]"
     ]
    },
    {
     "name": "stdout",
     "output_type": "stream",
     "text": [
      "processing;  /media/cat/4TBSSD/yuki/IJ1/tif_files/IJ1pm_Mar3_30Hz/IJ1pm_Mar3_30Hz_locanmf.npz  with lockout:  False\n"
     ]
    },
    {
     "name": "stderr",
     "output_type": "stream",
     "text": [
      "\n",
      "100%|██████████| 10/10 [00:15<00:00,  1.53s/it]"
     ]
    },
    {
     "name": "stdout",
     "output_type": "stream",
     "text": [
      "processing;  /media/cat/4TBSSD/yuki/IJ1/tif_files/IJ1am_Mar7_30Hz/IJ1am_Mar7_30Hz_locanmf.npz  with lockout:  False\n"
     ]
    },
    {
     "name": "stderr",
     "output_type": "stream",
     "text": [
      "\n",
      "100%|██████████| 10/10 [00:12<00:00,  1.26s/it]"
     ]
    },
    {
     "name": "stdout",
     "output_type": "stream",
     "text": [
      "processing;  /media/cat/4TBSSD/yuki/IJ1/tif_files/IJ1pm_Mar8_30Hz/IJ1pm_Mar8_30Hz_locanmf.npz  with lockout:  False\n"
     ]
    },
    {
     "name": "stderr",
     "output_type": "stream",
     "text": [
      "\n",
      "100%|██████████| 10/10 [00:06<00:00,  1.62it/s]\n"
     ]
    },
    {
     "name": "stdout",
     "output_type": "stream",
     "text": [
      " ....file not found, skippping  /media/cat/4TBSSD/yuki/IJ1/tif_files/IJ1am_Mar9_30Hz/IJ1am_Mar9_30Hz_locanmf.npz\n",
      "processing;  /media/cat/4TBSSD/yuki/IJ1/tif_files/IJ1am_Mar10_30Hz/IJ1am_Mar10_30Hz_locanmf.npz  with lockout:  False\n"
     ]
    },
    {
     "name": "stderr",
     "output_type": "stream",
     "text": [
      "100%|██████████| 10/10 [00:05<00:00,  1.72it/s]"
     ]
    },
    {
     "name": "stdout",
     "output_type": "stream",
     "text": [
      "processing;  /media/cat/4TBSSD/yuki/IJ1/tif_files/IJ1am_Mar11_30Hz/IJ1am_Mar11_30Hz_locanmf.npz  with lockout:  False\n"
     ]
    },
    {
     "name": "stderr",
     "output_type": "stream",
     "text": [
      "\n",
      "100%|██████████| 10/10 [00:04<00:00,  2.08it/s]"
     ]
    },
    {
     "name": "stdout",
     "output_type": "stream",
     "text": [
      "processing;  /media/cat/4TBSSD/yuki/IJ1/tif_files/IJ1pm_Mar14_30Hz/IJ1pm_Mar14_30Hz_locanmf.npz  with lockout:  False\n"
     ]
    },
    {
     "name": "stderr",
     "output_type": "stream",
     "text": [
      "\n",
      "100%|██████████| 10/10 [00:04<00:00,  2.17it/s]"
     ]
    },
    {
     "name": "stdout",
     "output_type": "stream",
     "text": [
      "processing;  /media/cat/4TBSSD/yuki/IJ1/tif_files/IJ1am_Mar15_30Hz/IJ1am_Mar15_30Hz_locanmf.npz  with lockout:  False\n"
     ]
    },
    {
     "name": "stderr",
     "output_type": "stream",
     "text": [
      "\n",
      "100%|██████████| 10/10 [00:06<00:00,  1.59it/s]"
     ]
    },
    {
     "name": "stdout",
     "output_type": "stream",
     "text": [
      "processing;  /media/cat/4TBSSD/yuki/IJ1/tif_files/IJ1pm_Mar16_30Hz/IJ1pm_Mar16_30Hz_locanmf.npz  with lockout:  False\n"
     ]
    },
    {
     "name": "stderr",
     "output_type": "stream",
     "text": [
      "\n",
      "100%|██████████| 10/10 [00:05<00:00,  1.80it/s]"
     ]
    },
    {
     "name": "stdout",
     "output_type": "stream",
     "text": [
      "processing;  /media/cat/4TBSSD/yuki/IJ1/tif_files/IJ1pm_Mar17_30Hz/IJ1pm_Mar17_30Hz_locanmf.npz  with lockout:  False\n"
     ]
    },
    {
     "name": "stderr",
     "output_type": "stream",
     "text": [
      "\n",
      "100%|██████████| 10/10 [00:05<00:00,  1.97it/s]"
     ]
    },
    {
     "name": "stdout",
     "output_type": "stream",
     "text": [
      "processing;  /media/cat/4TBSSD/yuki/IJ1/tif_files/IJ1pm_Mar18_30Hz/IJ1pm_Mar18_30Hz_locanmf.npz  with lockout:  False\n"
     ]
    },
    {
     "name": "stderr",
     "output_type": "stream",
     "text": [
      "\n",
      "100%|██████████| 10/10 [00:06<00:00,  1.62it/s]"
     ]
    },
    {
     "name": "stdout",
     "output_type": "stream",
     "text": [
      "processing;  /media/cat/4TBSSD/yuki/IJ1/tif_files/IJ1pm_Mar21_30Hz/IJ1pm_Mar21_30Hz_locanmf.npz  with lockout:  False\n"
     ]
    },
    {
     "name": "stderr",
     "output_type": "stream",
     "text": [
      "\n",
      "100%|██████████| 10/10 [00:04<00:00,  2.18it/s]"
     ]
    },
    {
     "name": "stdout",
     "output_type": "stream",
     "text": [
      "processing;  /media/cat/4TBSSD/yuki/IJ1/tif_files/IJ1pm_Mar22_30Hz/IJ1pm_Mar22_30Hz_locanmf.npz  with lockout:  False\n"
     ]
    },
    {
     "name": "stderr",
     "output_type": "stream",
     "text": [
      "\n",
      "100%|██████████| 10/10 [00:05<00:00,  1.98it/s]"
     ]
    },
    {
     "name": "stdout",
     "output_type": "stream",
     "text": [
      "processing;  /media/cat/4TBSSD/yuki/IJ1/tif_files/IJ1pm_Mar23_30Hz/IJ1pm_Mar23_30Hz_locanmf.npz  with lockout:  False\n"
     ]
    },
    {
     "name": "stderr",
     "output_type": "stream",
     "text": [
      "\n",
      "100%|██████████| 10/10 [00:05<00:00,  1.96it/s]"
     ]
    },
    {
     "name": "stdout",
     "output_type": "stream",
     "text": [
      "processing;  /media/cat/4TBSSD/yuki/IJ1/tif_files/IJ1pm_Mar24_30Hz/IJ1pm_Mar24_30Hz_locanmf.npz  with lockout:  False\n"
     ]
    },
    {
     "name": "stderr",
     "output_type": "stream",
     "text": [
      "\n",
      "100%|██████████| 10/10 [00:05<00:00,  1.97it/s]"
     ]
    },
    {
     "name": "stdout",
     "output_type": "stream",
     "text": [
      "processing;  /media/cat/4TBSSD/yuki/IJ1/tif_files/IJ1pm_Mar29_30Hz/IJ1pm_Mar29_30Hz_locanmf.npz  with lockout:  False\n"
     ]
    },
    {
     "name": "stderr",
     "output_type": "stream",
     "text": [
      "\n",
      "100%|██████████| 10/10 [00:04<00:00,  2.03it/s]"
     ]
    },
    {
     "name": "stdout",
     "output_type": "stream",
     "text": [
      "processing;  /media/cat/4TBSSD/yuki/IJ1/tif_files/IJ1pm_Mar30_30Hz/IJ1pm_Mar30_30Hz_locanmf.npz  with lockout:  False\n"
     ]
    },
    {
     "name": "stderr",
     "output_type": "stream",
     "text": [
      "\n",
      "100%|██████████| 10/10 [00:06<00:00,  1.64it/s]"
     ]
    },
    {
     "name": "stdout",
     "output_type": "stream",
     "text": [
      "processing;  /media/cat/4TBSSD/yuki/IJ1/tif_files/IJ1pm_Mar31_30Hz/IJ1pm_Mar31_30Hz_locanmf.npz  with lockout:  False\n"
     ]
    },
    {
     "name": "stderr",
     "output_type": "stream",
     "text": [
      "\n",
      "100%|██████████| 10/10 [00:06<00:00,  1.50it/s]"
     ]
    },
    {
     "name": "stdout",
     "output_type": "stream",
     "text": [
      "processing;  /media/cat/4TBSSD/yuki/IJ1/tif_files/IJ1pm_Apr1_30Hz/IJ1pm_Apr1_30Hz_locanmf.npz  with lockout:  False\n"
     ]
    },
    {
     "name": "stderr",
     "output_type": "stream",
     "text": [
      "\n",
      "100%|██████████| 10/10 [00:04<00:00,  2.11it/s]"
     ]
    },
    {
     "name": "stdout",
     "output_type": "stream",
     "text": [
      "processing;  /media/cat/4TBSSD/yuki/IJ1/tif_files/IJ1pm_Apr4_30Hz/IJ1pm_Apr4_30Hz_locanmf.npz  with lockout:  False\n"
     ]
    },
    {
     "name": "stderr",
     "output_type": "stream",
     "text": [
      "\n",
      "100%|██████████| 10/10 [00:05<00:00,  1.92it/s]"
     ]
    },
    {
     "name": "stdout",
     "output_type": "stream",
     "text": [
      "processing;  /media/cat/4TBSSD/yuki/IJ1/tif_files/IJ1pm_Apr5_30Hz/IJ1pm_Apr5_30Hz_locanmf.npz  with lockout:  False\n"
     ]
    },
    {
     "name": "stderr",
     "output_type": "stream",
     "text": [
      "\n",
      "100%|██████████| 10/10 [00:05<00:00,  1.70it/s]"
     ]
    },
    {
     "name": "stdout",
     "output_type": "stream",
     "text": [
      "processing;  /media/cat/4TBSSD/yuki/IJ1/tif_files/IJ1pm_Apr6_30Hz/IJ1pm_Apr6_30Hz_locanmf.npz  with lockout:  False\n"
     ]
    },
    {
     "name": "stderr",
     "output_type": "stream",
     "text": [
      "\n",
      "100%|██████████| 10/10 [00:05<00:00,  1.93it/s]"
     ]
    },
    {
     "name": "stdout",
     "output_type": "stream",
     "text": [
      " ....file not found, skippping  /media/cat/4TBSSD/yuki/IJ1/tif_files/IJ1pm_Apr7_30Hz/IJ1pm_Apr7_30Hz_locanmf.npz\n",
      "DONE predicting SVM on animal:  IJ1\n",
      "processing;  /media/cat/4TBSSD/yuki/IJ1/tif_files/IJ1pm_Feb1_30Hz/IJ1pm_Feb1_30Hz_locanmf.npz  with lockout:  False\n"
     ]
    },
    {
     "name": "stderr",
     "output_type": "stream",
     "text": [
      "\n",
      "100%|██████████| 10/10 [00:05<00:00,  1.83it/s]"
     ]
    },
    {
     "name": "stdout",
     "output_type": "stream",
     "text": [
      "processing;  /media/cat/4TBSSD/yuki/IJ1/tif_files/IJ1pm_Feb2_30Hz/IJ1pm_Feb2_30Hz_locanmf.npz  with lockout:  False\n"
     ]
    },
    {
     "name": "stderr",
     "output_type": "stream",
     "text": [
      "\n",
      "100%|██████████| 10/10 [00:05<00:00,  1.83it/s]"
     ]
    },
    {
     "name": "stdout",
     "output_type": "stream",
     "text": [
      "processing;  /media/cat/4TBSSD/yuki/IJ1/tif_files/IJ1pm_Feb3_30Hz/IJ1pm_Feb3_30Hz_locanmf.npz  with lockout:  False\n"
     ]
    },
    {
     "name": "stderr",
     "output_type": "stream",
     "text": [
      "\n",
      "100%|██████████| 10/10 [00:06<00:00,  1.64it/s]"
     ]
    },
    {
     "name": "stdout",
     "output_type": "stream",
     "text": [
      "processing;  /media/cat/4TBSSD/yuki/IJ1/tif_files/IJ1pm_Feb4_30Hz/IJ1pm_Feb4_30Hz_locanmf.npz  with lockout:  False\n"
     ]
    },
    {
     "name": "stderr",
     "output_type": "stream",
     "text": [
      "\n",
      "100%|██████████| 10/10 [00:05<00:00,  1.72it/s]"
     ]
    },
    {
     "name": "stdout",
     "output_type": "stream",
     "text": [
      "processing;  /media/cat/4TBSSD/yuki/IJ1/tif_files/IJ1pm_Feb5_30Hz/IJ1pm_Feb5_30Hz_locanmf.npz  with lockout:  False\n"
     ]
    },
    {
     "name": "stderr",
     "output_type": "stream",
     "text": [
      "\n",
      "100%|██████████| 10/10 [00:06<00:00,  1.56it/s]"
     ]
    },
    {
     "name": "stdout",
     "output_type": "stream",
     "text": [
      "processing;  /media/cat/4TBSSD/yuki/IJ1/tif_files/IJ1pm_Feb9_30Hz/IJ1pm_Feb9_30Hz_locanmf.npz  with lockout:  False\n"
     ]
    },
    {
     "name": "stderr",
     "output_type": "stream",
     "text": [
      "\n",
      "100%|██████████| 10/10 [00:06<00:00,  1.57it/s]"
     ]
    },
    {
     "name": "stdout",
     "output_type": "stream",
     "text": [
      "processing;  /media/cat/4TBSSD/yuki/IJ1/tif_files/IJ1pm_Feb10_30Hz/IJ1pm_Feb10_30Hz_locanmf.npz  with lockout:  False\n"
     ]
    },
    {
     "name": "stderr",
     "output_type": "stream",
     "text": [
      "\n",
      "100%|██████████| 10/10 [00:07<00:00,  1.42it/s]"
     ]
    },
    {
     "name": "stdout",
     "output_type": "stream",
     "text": [
      "processing;  /media/cat/4TBSSD/yuki/IJ1/tif_files/IJ1pm_Feb11_30Hz/IJ1pm_Feb11_30Hz_locanmf.npz  with lockout:  False\n"
     ]
    },
    {
     "name": "stderr",
     "output_type": "stream",
     "text": [
      "\n",
      "100%|██████████| 10/10 [00:06<00:00,  1.55it/s]"
     ]
    },
    {
     "name": "stdout",
     "output_type": "stream",
     "text": [
      "processing;  /media/cat/4TBSSD/yuki/IJ1/tif_files/IJ1pm_Feb12_30Hz/IJ1pm_Feb12_30Hz_locanmf.npz  with lockout:  False\n"
     ]
    },
    {
     "name": "stderr",
     "output_type": "stream",
     "text": [
      "\n",
      "100%|██████████| 10/10 [00:07<00:00,  1.39it/s]"
     ]
    },
    {
     "name": "stdout",
     "output_type": "stream",
     "text": [
      "processing;  /media/cat/4TBSSD/yuki/IJ1/tif_files/IJ1pm_Feb16_30Hz/IJ1pm_Feb16_30Hz_locanmf.npz  with lockout:  False\n"
     ]
    },
    {
     "name": "stderr",
     "output_type": "stream",
     "text": [
      "\n",
      "100%|██████████| 10/10 [00:05<00:00,  1.83it/s]"
     ]
    },
    {
     "name": "stdout",
     "output_type": "stream",
     "text": [
      "processing;  /media/cat/4TBSSD/yuki/IJ1/tif_files/IJ1pm_Feb17_30Hz/IJ1pm_Feb17_30Hz_locanmf.npz  with lockout:  False\n"
     ]
    },
    {
     "name": "stderr",
     "output_type": "stream",
     "text": [
      "\n",
      "100%|██████████| 10/10 [00:07<00:00,  1.36it/s]"
     ]
    },
    {
     "name": "stdout",
     "output_type": "stream",
     "text": [
      "processing;  /media/cat/4TBSSD/yuki/IJ1/tif_files/IJ1pm_Feb18_30Hz/IJ1pm_Feb18_30Hz_locanmf.npz  with lockout:  False\n"
     ]
    },
    {
     "name": "stderr",
     "output_type": "stream",
     "text": [
      "\n",
      "100%|██████████| 10/10 [00:05<00:00,  1.89it/s]"
     ]
    },
    {
     "name": "stdout",
     "output_type": "stream",
     "text": [
      "processing;  /media/cat/4TBSSD/yuki/IJ1/tif_files/IJ1pm_Feb19_30Hz/IJ1pm_Feb19_30Hz_locanmf.npz  with lockout:  False\n"
     ]
    },
    {
     "name": "stderr",
     "output_type": "stream",
     "text": [
      "\n",
      "100%|██████████| 10/10 [00:06<00:00,  1.54it/s]"
     ]
    },
    {
     "name": "stdout",
     "output_type": "stream",
     "text": [
      "processing;  /media/cat/4TBSSD/yuki/IJ1/tif_files/IJ1pm_Feb22_30Hz/IJ1pm_Feb22_30Hz_locanmf.npz  with lockout:  False\n"
     ]
    },
    {
     "name": "stderr",
     "output_type": "stream",
     "text": [
      "\n",
      "100%|██████████| 10/10 [00:05<00:00,  1.88it/s]"
     ]
    },
    {
     "name": "stdout",
     "output_type": "stream",
     "text": [
      "processing;  /media/cat/4TBSSD/yuki/IJ1/tif_files/IJ1pm_Feb23_30Hz/IJ1pm_Feb23_30Hz_locanmf.npz  with lockout:  False\n"
     ]
    },
    {
     "name": "stderr",
     "output_type": "stream",
     "text": [
      "\n",
      "100%|██████████| 10/10 [00:09<00:00,  1.05it/s]"
     ]
    },
    {
     "name": "stdout",
     "output_type": "stream",
     "text": [
      " ....file not found, skippping  /media/cat/4TBSSD/yuki/IJ1/tif_files/IJ1pm_Feb24_30Hz/IJ1pm_Feb24_30Hz_locanmf.npz\n",
      " ....file not found, skippping  /media/cat/4TBSSD/yuki/IJ1/tif_files/IJ1pm_Feb25_30Hz/IJ1pm_Feb25_30Hz_locanmf.npz\n",
      "processing;  /media/cat/4TBSSD/yuki/IJ1/tif_files/IJ1pm_Feb26_30Hz/IJ1pm_Feb26_30Hz_locanmf.npz  with lockout:  False\n"
     ]
    },
    {
     "name": "stderr",
     "output_type": "stream",
     "text": [
      "\n",
      "100%|██████████| 10/10 [00:06<00:00,  1.57it/s]"
     ]
    },
    {
     "name": "stdout",
     "output_type": "stream",
     "text": [
      "processing;  /media/cat/4TBSSD/yuki/IJ1/tif_files/IJ1pm_Feb29_30Hz/IJ1pm_Feb29_30Hz_locanmf.npz  with lockout:  False\n"
     ]
    },
    {
     "name": "stderr",
     "output_type": "stream",
     "text": [
      "\n",
      "100%|██████████| 10/10 [00:09<00:00,  1.10it/s]"
     ]
    },
    {
     "name": "stdout",
     "output_type": "stream",
     "text": [
      "processing;  /media/cat/4TBSSD/yuki/IJ1/tif_files/IJ1pm_Mar1_30Hz/IJ1pm_Mar1_30Hz_locanmf.npz  with lockout:  False\n"
     ]
    },
    {
     "name": "stderr",
     "output_type": "stream",
     "text": [
      "\n",
      "100%|██████████| 10/10 [00:04<00:00,  2.06it/s]"
     ]
    },
    {
     "name": "stdout",
     "output_type": "stream",
     "text": [
      "processing;  /media/cat/4TBSSD/yuki/IJ1/tif_files/IJ1pm_Mar2_30Hz/IJ1pm_Mar2_30Hz_locanmf.npz  with lockout:  False\n"
     ]
    },
    {
     "name": "stderr",
     "output_type": "stream",
     "text": [
      "\n",
      "100%|██████████| 10/10 [00:07<00:00,  1.31it/s]"
     ]
    },
    {
     "name": "stdout",
     "output_type": "stream",
     "text": [
      "processing;  /media/cat/4TBSSD/yuki/IJ1/tif_files/IJ1pm_Mar3_30Hz/IJ1pm_Mar3_30Hz_locanmf.npz  with lockout:  False\n"
     ]
    },
    {
     "name": "stderr",
     "output_type": "stream",
     "text": [
      "\n",
      "100%|██████████| 10/10 [00:15<00:00,  1.58s/it]"
     ]
    },
    {
     "name": "stdout",
     "output_type": "stream",
     "text": [
      "processing;  /media/cat/4TBSSD/yuki/IJ1/tif_files/IJ1am_Mar7_30Hz/IJ1am_Mar7_30Hz_locanmf.npz  with lockout:  False\n"
     ]
    },
    {
     "name": "stderr",
     "output_type": "stream",
     "text": [
      "\n",
      "100%|██████████| 10/10 [00:12<00:00,  1.25s/it]"
     ]
    },
    {
     "name": "stdout",
     "output_type": "stream",
     "text": [
      "processing;  /media/cat/4TBSSD/yuki/IJ1/tif_files/IJ1pm_Mar8_30Hz/IJ1pm_Mar8_30Hz_locanmf.npz  with lockout:  False\n"
     ]
    },
    {
     "name": "stderr",
     "output_type": "stream",
     "text": [
      "\n",
      "100%|██████████| 10/10 [00:06<00:00,  1.56it/s]"
     ]
    },
    {
     "name": "stdout",
     "output_type": "stream",
     "text": [
      " ....file not found, skippping  /media/cat/4TBSSD/yuki/IJ1/tif_files/IJ1am_Mar9_30Hz/IJ1am_Mar9_30Hz_locanmf.npz\n",
      "processing;  /media/cat/4TBSSD/yuki/IJ1/tif_files/IJ1am_Mar10_30Hz/IJ1am_Mar10_30Hz_locanmf.npz  with lockout:  False\n"
     ]
    },
    {
     "name": "stderr",
     "output_type": "stream",
     "text": [
      "\n",
      "100%|██████████| 10/10 [00:05<00:00,  1.72it/s]"
     ]
    },
    {
     "name": "stdout",
     "output_type": "stream",
     "text": [
      "processing;  /media/cat/4TBSSD/yuki/IJ1/tif_files/IJ1am_Mar11_30Hz/IJ1am_Mar11_30Hz_locanmf.npz  with lockout:  False\n"
     ]
    },
    {
     "name": "stderr",
     "output_type": "stream",
     "text": [
      "\n",
      "100%|██████████| 10/10 [00:04<00:00,  2.10it/s]"
     ]
    },
    {
     "name": "stdout",
     "output_type": "stream",
     "text": [
      "processing;  /media/cat/4TBSSD/yuki/IJ1/tif_files/IJ1pm_Mar14_30Hz/IJ1pm_Mar14_30Hz_locanmf.npz  with lockout:  False\n"
     ]
    },
    {
     "name": "stderr",
     "output_type": "stream",
     "text": [
      "\n",
      "100%|██████████| 10/10 [00:04<00:00,  2.21it/s]"
     ]
    },
    {
     "name": "stdout",
     "output_type": "stream",
     "text": [
      "processing;  /media/cat/4TBSSD/yuki/IJ1/tif_files/IJ1am_Mar15_30Hz/IJ1am_Mar15_30Hz_locanmf.npz  with lockout:  False\n"
     ]
    },
    {
     "name": "stderr",
     "output_type": "stream",
     "text": [
      "\n",
      "100%|██████████| 10/10 [00:06<00:00,  1.58it/s]"
     ]
    },
    {
     "name": "stdout",
     "output_type": "stream",
     "text": [
      "processing;  /media/cat/4TBSSD/yuki/IJ1/tif_files/IJ1pm_Mar16_30Hz/IJ1pm_Mar16_30Hz_locanmf.npz  with lockout:  False\n"
     ]
    },
    {
     "name": "stderr",
     "output_type": "stream",
     "text": [
      "\n",
      "100%|██████████| 10/10 [00:05<00:00,  1.82it/s]"
     ]
    },
    {
     "name": "stdout",
     "output_type": "stream",
     "text": [
      "processing;  /media/cat/4TBSSD/yuki/IJ1/tif_files/IJ1pm_Mar17_30Hz/IJ1pm_Mar17_30Hz_locanmf.npz  with lockout:  False\n"
     ]
    },
    {
     "name": "stderr",
     "output_type": "stream",
     "text": [
      "\n",
      "100%|██████████| 10/10 [00:05<00:00,  2.00it/s]"
     ]
    },
    {
     "name": "stdout",
     "output_type": "stream",
     "text": [
      "processing;  /media/cat/4TBSSD/yuki/IJ1/tif_files/IJ1pm_Mar18_30Hz/IJ1pm_Mar18_30Hz_locanmf.npz  with lockout:  False\n"
     ]
    },
    {
     "name": "stderr",
     "output_type": "stream",
     "text": [
      "\n",
      "100%|██████████| 10/10 [00:06<00:00,  1.60it/s]"
     ]
    },
    {
     "name": "stdout",
     "output_type": "stream",
     "text": [
      "processing;  /media/cat/4TBSSD/yuki/IJ1/tif_files/IJ1pm_Mar21_30Hz/IJ1pm_Mar21_30Hz_locanmf.npz  with lockout:  False\n"
     ]
    },
    {
     "name": "stderr",
     "output_type": "stream",
     "text": [
      "\n",
      "100%|██████████| 10/10 [00:04<00:00,  2.16it/s]"
     ]
    },
    {
     "name": "stdout",
     "output_type": "stream",
     "text": [
      "processing;  /media/cat/4TBSSD/yuki/IJ1/tif_files/IJ1pm_Mar22_30Hz/IJ1pm_Mar22_30Hz_locanmf.npz  with lockout:  False\n"
     ]
    },
    {
     "name": "stderr",
     "output_type": "stream",
     "text": [
      "\n",
      "100%|██████████| 10/10 [00:04<00:00,  2.07it/s]"
     ]
    },
    {
     "name": "stdout",
     "output_type": "stream",
     "text": [
      "processing;  /media/cat/4TBSSD/yuki/IJ1/tif_files/IJ1pm_Mar23_30Hz/IJ1pm_Mar23_30Hz_locanmf.npz  with lockout:  False\n"
     ]
    },
    {
     "name": "stderr",
     "output_type": "stream",
     "text": [
      "\n",
      "100%|██████████| 10/10 [00:04<00:00,  2.01it/s]"
     ]
    },
    {
     "name": "stdout",
     "output_type": "stream",
     "text": [
      "processing;  /media/cat/4TBSSD/yuki/IJ1/tif_files/IJ1pm_Mar24_30Hz/IJ1pm_Mar24_30Hz_locanmf.npz  with lockout:  False\n"
     ]
    },
    {
     "name": "stderr",
     "output_type": "stream",
     "text": [
      "\n",
      "100%|██████████| 10/10 [00:05<00:00,  1.99it/s]"
     ]
    },
    {
     "name": "stdout",
     "output_type": "stream",
     "text": [
      "processing;  /media/cat/4TBSSD/yuki/IJ1/tif_files/IJ1pm_Mar29_30Hz/IJ1pm_Mar29_30Hz_locanmf.npz  with lockout:  False\n"
     ]
    },
    {
     "name": "stderr",
     "output_type": "stream",
     "text": [
      "\n",
      "100%|██████████| 10/10 [00:04<00:00,  2.02it/s]"
     ]
    },
    {
     "name": "stdout",
     "output_type": "stream",
     "text": [
      "processing;  /media/cat/4TBSSD/yuki/IJ1/tif_files/IJ1pm_Mar30_30Hz/IJ1pm_Mar30_30Hz_locanmf.npz  with lockout:  False\n"
     ]
    },
    {
     "name": "stderr",
     "output_type": "stream",
     "text": [
      "\n",
      "100%|██████████| 10/10 [00:06<00:00,  1.65it/s]"
     ]
    },
    {
     "name": "stdout",
     "output_type": "stream",
     "text": [
      "processing;  /media/cat/4TBSSD/yuki/IJ1/tif_files/IJ1pm_Mar31_30Hz/IJ1pm_Mar31_30Hz_locanmf.npz  with lockout:  False\n"
     ]
    },
    {
     "name": "stderr",
     "output_type": "stream",
     "text": [
      "\n",
      "100%|██████████| 10/10 [00:06<00:00,  1.53it/s]"
     ]
    },
    {
     "name": "stdout",
     "output_type": "stream",
     "text": [
      "processing;  /media/cat/4TBSSD/yuki/IJ1/tif_files/IJ1pm_Apr1_30Hz/IJ1pm_Apr1_30Hz_locanmf.npz  with lockout:  False\n"
     ]
    },
    {
     "name": "stderr",
     "output_type": "stream",
     "text": [
      "\n",
      "100%|██████████| 10/10 [00:04<00:00,  2.12it/s]"
     ]
    },
    {
     "name": "stdout",
     "output_type": "stream",
     "text": [
      "processing;  /media/cat/4TBSSD/yuki/IJ1/tif_files/IJ1pm_Apr4_30Hz/IJ1pm_Apr4_30Hz_locanmf.npz  with lockout:  False\n"
     ]
    },
    {
     "name": "stderr",
     "output_type": "stream",
     "text": [
      "\n",
      "100%|██████████| 10/10 [00:05<00:00,  1.91it/s]"
     ]
    },
    {
     "name": "stdout",
     "output_type": "stream",
     "text": [
      "processing;  /media/cat/4TBSSD/yuki/IJ1/tif_files/IJ1pm_Apr5_30Hz/IJ1pm_Apr5_30Hz_locanmf.npz  with lockout:  False\n"
     ]
    },
    {
     "name": "stderr",
     "output_type": "stream",
     "text": [
      "\n",
      "100%|██████████| 10/10 [00:05<00:00,  1.70it/s]"
     ]
    },
    {
     "name": "stdout",
     "output_type": "stream",
     "text": [
      "processing;  /media/cat/4TBSSD/yuki/IJ1/tif_files/IJ1pm_Apr6_30Hz/IJ1pm_Apr6_30Hz_locanmf.npz  with lockout:  False\n"
     ]
    },
    {
     "name": "stderr",
     "output_type": "stream",
     "text": [
      "\n",
      "100%|██████████| 10/10 [00:05<00:00,  1.91it/s]"
     ]
    },
    {
     "name": "stdout",
     "output_type": "stream",
     "text": [
      " ....file not found, skippping  /media/cat/4TBSSD/yuki/IJ1/tif_files/IJ1pm_Apr7_30Hz/IJ1pm_Apr7_30Hz_locanmf.npz\n",
      "DONE predicting SVM on animal:  IJ1\n",
      "processing;  /media/cat/4TBSSD/yuki/IJ2/tif_files/IJ2pm_Feb1_30Hz/IJ2pm_Feb1_30Hz_locanmf.npz  with lockout:  False\n"
     ]
    },
    {
     "name": "stderr",
     "output_type": "stream",
     "text": [
      "\n",
      "100%|██████████| 10/10 [00:04<00:00,  2.13it/s]"
     ]
    },
    {
     "name": "stdout",
     "output_type": "stream",
     "text": [
      "processing;  /media/cat/4TBSSD/yuki/IJ2/tif_files/IJ2pm_Feb2_30Hz/IJ2pm_Feb2_30Hz_locanmf.npz  with lockout:  False\n"
     ]
    },
    {
     "name": "stderr",
     "output_type": "stream",
     "text": [
      "\n",
      "100%|██████████| 10/10 [00:04<00:00,  2.13it/s]"
     ]
    },
    {
     "name": "stdout",
     "output_type": "stream",
     "text": [
      "processing;  /media/cat/4TBSSD/yuki/IJ2/tif_files/IJ2pm_Feb3_30Hz/IJ2pm_Feb3_30Hz_locanmf.npz  with lockout:  False\n"
     ]
    },
    {
     "name": "stderr",
     "output_type": "stream",
     "text": [
      "\n",
      "100%|██████████| 10/10 [00:06<00:00,  1.62it/s]"
     ]
    },
    {
     "name": "stdout",
     "output_type": "stream",
     "text": [
      "processing;  /media/cat/4TBSSD/yuki/IJ2/tif_files/IJ2pm_Feb4_30Hz/IJ2pm_Feb4_30Hz_locanmf.npz  with lockout:  False\n"
     ]
    },
    {
     "name": "stderr",
     "output_type": "stream",
     "text": [
      "\n",
      "100%|██████████| 10/10 [00:06<00:00,  1.52it/s]"
     ]
    },
    {
     "name": "stdout",
     "output_type": "stream",
     "text": [
      "processing;  /media/cat/4TBSSD/yuki/IJ2/tif_files/IJ2pm_Feb5_30Hz/IJ2pm_Feb5_30Hz_locanmf.npz  with lockout:  False\n"
     ]
    },
    {
     "name": "stderr",
     "output_type": "stream",
     "text": [
      "\n",
      "100%|██████████| 10/10 [00:06<00:00,  1.44it/s]"
     ]
    },
    {
     "name": "stdout",
     "output_type": "stream",
     "text": [
      " ....file not found, skippping  /media/cat/4TBSSD/yuki/IJ2/tif_files/IJ2pm_Feb9_30Hz/IJ2pm_Feb9_30Hz_locanmf.npz\n",
      "processing;  /media/cat/4TBSSD/yuki/IJ2/tif_files/IJ2pm_Feb10_30Hz/IJ2pm_Feb10_30Hz_locanmf.npz  with lockout:  False\n"
     ]
    },
    {
     "name": "stderr",
     "output_type": "stream",
     "text": [
      "\n",
      "100%|██████████| 10/10 [00:06<00:00,  1.48it/s]"
     ]
    },
    {
     "name": "stdout",
     "output_type": "stream",
     "text": [
      "processing;  /media/cat/4TBSSD/yuki/IJ2/tif_files/IJ2pm_Feb11_30Hz/IJ2pm_Feb11_30Hz_locanmf.npz  with lockout:  False\n"
     ]
    },
    {
     "name": "stderr",
     "output_type": "stream",
     "text": [
      "\n",
      "100%|██████████| 10/10 [00:05<00:00,  1.70it/s]"
     ]
    },
    {
     "name": "stdout",
     "output_type": "stream",
     "text": [
      "processing;  /media/cat/4TBSSD/yuki/IJ2/tif_files/IJ2pm_Feb12_30Hz/IJ2pm_Feb12_30Hz_locanmf.npz  with lockout:  False\n"
     ]
    },
    {
     "name": "stderr",
     "output_type": "stream",
     "text": [
      "\n",
      "100%|██████████| 10/10 [00:05<00:00,  1.88it/s]"
     ]
    },
    {
     "name": "stdout",
     "output_type": "stream",
     "text": [
      " ....file not found, skippping  /media/cat/4TBSSD/yuki/IJ2/tif_files/IJ2pm_Feb15_30Hz/IJ2pm_Feb15_30Hz_locanmf.npz\n",
      "processing;  /media/cat/4TBSSD/yuki/IJ2/tif_files/IJ2pm_Feb16_30Hz/IJ2pm_Feb16_30Hz_locanmf.npz  with lockout:  False\n"
     ]
    },
    {
     "name": "stderr",
     "output_type": "stream",
     "text": [
      "\n",
      "100%|██████████| 10/10 [00:07<00:00,  1.36it/s]"
     ]
    },
    {
     "name": "stdout",
     "output_type": "stream",
     "text": [
      "processing;  /media/cat/4TBSSD/yuki/IJ2/tif_files/IJ2pm_Feb17_30Hz/IJ2pm_Feb17_30Hz_locanmf.npz  with lockout:  False\n"
     ]
    },
    {
     "name": "stderr",
     "output_type": "stream",
     "text": [
      "\n",
      "100%|██████████| 10/10 [00:04<00:00,  2.13it/s]"
     ]
    },
    {
     "name": "stdout",
     "output_type": "stream",
     "text": [
      "processing;  /media/cat/4TBSSD/yuki/IJ2/tif_files/IJ2pm_Feb18_30Hz/IJ2pm_Feb18_30Hz_locanmf.npz  with lockout:  False\n"
     ]
    },
    {
     "name": "stderr",
     "output_type": "stream",
     "text": [
      "\n",
      "100%|██████████| 10/10 [00:05<00:00,  1.81it/s]"
     ]
    },
    {
     "name": "stdout",
     "output_type": "stream",
     "text": [
      "processing;  /media/cat/4TBSSD/yuki/IJ2/tif_files/IJ2pm_Feb22_30Hz/IJ2pm_Feb22_30Hz_locanmf.npz  with lockout:  False\n"
     ]
    },
    {
     "name": "stderr",
     "output_type": "stream",
     "text": [
      "\n",
      "100%|██████████| 10/10 [00:06<00:00,  1.66it/s]"
     ]
    },
    {
     "name": "stdout",
     "output_type": "stream",
     "text": [
      " ....file not found, skippping  /media/cat/4TBSSD/yuki/IJ2/tif_files/IJ2pm_Feb23_30Hz/IJ2pm_Feb23_30Hz_locanmf.npz\n",
      " ....file not found, skippping  /media/cat/4TBSSD/yuki/IJ2/tif_files/IJ2pm_Feb24_30Hz/IJ2pm_Feb24_30Hz_locanmf.npz\n",
      " ....file not found, skippping  /media/cat/4TBSSD/yuki/IJ2/tif_files/IJ2pm_Feb25_30Hz/IJ2pm_Feb25_30Hz_locanmf.npz\n",
      "processing;  /media/cat/4TBSSD/yuki/IJ2/tif_files/IJ2pm_Feb26_30Hz/IJ2pm_Feb26_30Hz_locanmf.npz  with lockout:  False\n"
     ]
    },
    {
     "name": "stderr",
     "output_type": "stream",
     "text": [
      "\n",
      "100%|██████████| 10/10 [00:07<00:00,  1.25it/s]"
     ]
    },
    {
     "name": "stdout",
     "output_type": "stream",
     "text": [
      "processing;  /media/cat/4TBSSD/yuki/IJ2/tif_files/IJ2pm_Feb29_30Hz/IJ2pm_Feb29_30Hz_locanmf.npz  with lockout:  False\n"
     ]
    },
    {
     "name": "stderr",
     "output_type": "stream",
     "text": [
      "\n",
      "100%|██████████| 10/10 [00:10<00:00,  1.07s/it]"
     ]
    },
    {
     "name": "stdout",
     "output_type": "stream",
     "text": [
      "processing;  /media/cat/4TBSSD/yuki/IJ2/tif_files/IJ2pm_Mar1_30Hz/IJ2pm_Mar1_30Hz_locanmf.npz  with lockout:  False\n"
     ]
    },
    {
     "name": "stderr",
     "output_type": "stream",
     "text": [
      "\n",
      "100%|██████████| 10/10 [00:07<00:00,  1.28it/s]"
     ]
    },
    {
     "name": "stdout",
     "output_type": "stream",
     "text": [
      "processing;  /media/cat/4TBSSD/yuki/IJ2/tif_files/IJ2pm_Mar2_30Hz/IJ2pm_Mar2_30Hz_locanmf.npz  with lockout:  False\n"
     ]
    },
    {
     "name": "stderr",
     "output_type": "stream",
     "text": [
      "\n",
      "100%|██████████| 10/10 [00:12<00:00,  1.27s/it]"
     ]
    },
    {
     "name": "stdout",
     "output_type": "stream",
     "text": [
      "processing;  /media/cat/4TBSSD/yuki/IJ2/tif_files/IJ2pm_Mar3_30Hz/IJ2pm_Mar3_30Hz_locanmf.npz  with lockout:  False\n"
     ]
    },
    {
     "name": "stderr",
     "output_type": "stream",
     "text": [
      "\n",
      "100%|██████████| 10/10 [00:06<00:00,  1.51it/s]"
     ]
    },
    {
     "name": "stdout",
     "output_type": "stream",
     "text": [
      "processing;  /media/cat/4TBSSD/yuki/IJ2/tif_files/IJ2am_Mar7_30Hz/IJ2am_Mar7_30Hz_locanmf.npz  with lockout:  False\n"
     ]
    },
    {
     "name": "stderr",
     "output_type": "stream",
     "text": [
      "\n",
      "100%|██████████| 10/10 [00:05<00:00,  1.78it/s]"
     ]
    },
    {
     "name": "stdout",
     "output_type": "stream",
     "text": [
      "processing;  /media/cat/4TBSSD/yuki/IJ2/tif_files/IJ2pm_Mar8_30Hz/IJ2pm_Mar8_30Hz_locanmf.npz  with lockout:  False\n"
     ]
    },
    {
     "name": "stderr",
     "output_type": "stream",
     "text": [
      "\n",
      "100%|██████████| 10/10 [00:05<00:00,  2.00it/s]"
     ]
    },
    {
     "name": "stdout",
     "output_type": "stream",
     "text": [
      "processing;  /media/cat/4TBSSD/yuki/IJ2/tif_files/IJ2am_Mar9_30Hz/IJ2am_Mar9_30Hz_locanmf.npz  with lockout:  False\n"
     ]
    },
    {
     "name": "stderr",
     "output_type": "stream",
     "text": [
      "\n",
      "100%|██████████| 10/10 [00:06<00:00,  1.47it/s]"
     ]
    },
    {
     "name": "stdout",
     "output_type": "stream",
     "text": [
      "processing;  /media/cat/4TBSSD/yuki/IJ2/tif_files/IJ2am_Mar10_30Hz/IJ2am_Mar10_30Hz_locanmf.npz  with lockout:  False\n"
     ]
    },
    {
     "name": "stderr",
     "output_type": "stream",
     "text": [
      "\n",
      "100%|██████████| 10/10 [00:07<00:00,  1.26it/s]"
     ]
    },
    {
     "name": "stdout",
     "output_type": "stream",
     "text": [
      "processing;  /media/cat/4TBSSD/yuki/IJ2/tif_files/IJ2am_Mar11_30Hz/IJ2am_Mar11_30Hz_locanmf.npz  with lockout:  False\n"
     ]
    },
    {
     "name": "stderr",
     "output_type": "stream",
     "text": [
      "\n",
      "100%|██████████| 10/10 [00:07<00:00,  1.30it/s]"
     ]
    },
    {
     "name": "stdout",
     "output_type": "stream",
     "text": [
      "processing;  /media/cat/4TBSSD/yuki/IJ2/tif_files/IJ2pm_Mar14_30Hz/IJ2pm_Mar14_30Hz_locanmf.npz  with lockout:  False\n"
     ]
    },
    {
     "name": "stderr",
     "output_type": "stream",
     "text": [
      "\n",
      "100%|██████████| 10/10 [00:05<00:00,  1.84it/s]"
     ]
    },
    {
     "name": "stdout",
     "output_type": "stream",
     "text": [
      "processing;  /media/cat/4TBSSD/yuki/IJ2/tif_files/IJ2am_Mar15_30Hz/IJ2am_Mar15_30Hz_locanmf.npz  with lockout:  False\n"
     ]
    },
    {
     "name": "stderr",
     "output_type": "stream",
     "text": [
      "\n",
      "100%|██████████| 10/10 [00:05<00:00,  1.84it/s]"
     ]
    },
    {
     "name": "stdout",
     "output_type": "stream",
     "text": [
      "processing;  /media/cat/4TBSSD/yuki/IJ2/tif_files/IJ2pm_Mar16_30Hz/IJ2pm_Mar16_30Hz_locanmf.npz  with lockout:  False\n"
     ]
    },
    {
     "name": "stderr",
     "output_type": "stream",
     "text": [
      "\n",
      "100%|██████████| 10/10 [00:06<00:00,  1.58it/s]"
     ]
    },
    {
     "name": "stdout",
     "output_type": "stream",
     "text": [
      "processing;  /media/cat/4TBSSD/yuki/IJ2/tif_files/IJ2pm_Mar17_30Hz/IJ2pm_Mar17_30Hz_locanmf.npz  with lockout:  False\n"
     ]
    },
    {
     "name": "stderr",
     "output_type": "stream",
     "text": [
      "\n",
      "100%|██████████| 10/10 [00:05<00:00,  1.97it/s]"
     ]
    },
    {
     "name": "stdout",
     "output_type": "stream",
     "text": [
      "processing;  /media/cat/4TBSSD/yuki/IJ2/tif_files/IJ2pm_Mar18_30Hz/IJ2pm_Mar18_30Hz_locanmf.npz  with lockout:  False\n"
     ]
    },
    {
     "name": "stderr",
     "output_type": "stream",
     "text": [
      "\n",
      "100%|██████████| 10/10 [00:06<00:00,  1.55it/s]"
     ]
    },
    {
     "name": "stdout",
     "output_type": "stream",
     "text": [
      "processing;  /media/cat/4TBSSD/yuki/IJ2/tif_files/IJ2pm_Mar21_30Hz/IJ2pm_Mar21_30Hz_locanmf.npz  with lockout:  False\n"
     ]
    },
    {
     "name": "stderr",
     "output_type": "stream",
     "text": [
      "\n",
      "100%|██████████| 10/10 [00:06<00:00,  1.65it/s]"
     ]
    },
    {
     "name": "stdout",
     "output_type": "stream",
     "text": [
      "processing;  /media/cat/4TBSSD/yuki/IJ2/tif_files/IJ2pm_Mar22_30Hz/IJ2pm_Mar22_30Hz_locanmf.npz  with lockout:  False\n"
     ]
    },
    {
     "name": "stderr",
     "output_type": "stream",
     "text": [
      "\n",
      "100%|██████████| 10/10 [00:09<00:00,  1.10it/s]"
     ]
    },
    {
     "name": "stdout",
     "output_type": "stream",
     "text": [
      "processing;  /media/cat/4TBSSD/yuki/IJ2/tif_files/IJ2pm_Mar23_30Hz/IJ2pm_Mar23_30Hz_locanmf.npz  with lockout:  False\n"
     ]
    },
    {
     "name": "stderr",
     "output_type": "stream",
     "text": [
      "\n",
      "100%|██████████| 10/10 [00:05<00:00,  1.79it/s]"
     ]
    },
    {
     "name": "stdout",
     "output_type": "stream",
     "text": [
      "processing;  /media/cat/4TBSSD/yuki/IJ2/tif_files/IJ2pm_Mar24_30Hz/IJ2pm_Mar24_30Hz_locanmf.npz  with lockout:  False\n"
     ]
    },
    {
     "name": "stderr",
     "output_type": "stream",
     "text": [
      "\n",
      "100%|██████████| 10/10 [00:06<00:00,  1.58it/s]"
     ]
    },
    {
     "name": "stdout",
     "output_type": "stream",
     "text": [
      "processing;  /media/cat/4TBSSD/yuki/IJ2/tif_files/IJ2pm_Mar29_30Hz/IJ2pm_Mar29_30Hz_locanmf.npz  with lockout:  False\n"
     ]
    },
    {
     "name": "stderr",
     "output_type": "stream",
     "text": [
      "\n",
      "100%|██████████| 10/10 [00:06<00:00,  1.44it/s]"
     ]
    },
    {
     "name": "stdout",
     "output_type": "stream",
     "text": [
      "processing;  /media/cat/4TBSSD/yuki/IJ2/tif_files/IJ2pm_Mar30_30Hz/IJ2pm_Mar30_30Hz_locanmf.npz  with lockout:  False\n"
     ]
    },
    {
     "name": "stderr",
     "output_type": "stream",
     "text": [
      "\n",
      "100%|██████████| 10/10 [00:08<00:00,  1.24it/s]"
     ]
    },
    {
     "name": "stdout",
     "output_type": "stream",
     "text": [
      "processing;  /media/cat/4TBSSD/yuki/IJ2/tif_files/IJ2pm_Mar31_30Hz/IJ2pm_Mar31_30Hz_locanmf.npz  with lockout:  False\n"
     ]
    },
    {
     "name": "stderr",
     "output_type": "stream",
     "text": [
      "\n",
      "100%|██████████| 10/10 [00:05<00:00,  1.79it/s]"
     ]
    },
    {
     "name": "stdout",
     "output_type": "stream",
     "text": [
      "processing;  /media/cat/4TBSSD/yuki/IJ2/tif_files/IJ2pm_Apr1_30Hz/IJ2pm_Apr1_30Hz_locanmf.npz  with lockout:  False\n"
     ]
    },
    {
     "name": "stderr",
     "output_type": "stream",
     "text": [
      "\n",
      "100%|██████████| 10/10 [00:08<00:00,  1.25it/s]"
     ]
    },
    {
     "name": "stdout",
     "output_type": "stream",
     "text": [
      "processing;  /media/cat/4TBSSD/yuki/IJ2/tif_files/IJ2pm_Apr4_30Hz/IJ2pm_Apr4_30Hz_locanmf.npz  with lockout:  False\n"
     ]
    },
    {
     "name": "stderr",
     "output_type": "stream",
     "text": [
      "\n",
      "100%|██████████| 10/10 [00:09<00:00,  1.03it/s]"
     ]
    },
    {
     "name": "stdout",
     "output_type": "stream",
     "text": [
      "processing;  /media/cat/4TBSSD/yuki/IJ2/tif_files/IJ2pm_Apr5_30Hz/IJ2pm_Apr5_30Hz_locanmf.npz  with lockout:  False\n"
     ]
    },
    {
     "name": "stderr",
     "output_type": "stream",
     "text": [
      "\n",
      "100%|██████████| 10/10 [00:07<00:00,  1.35it/s]"
     ]
    },
    {
     "name": "stdout",
     "output_type": "stream",
     "text": [
      "processing;  /media/cat/4TBSSD/yuki/IJ2/tif_files/IJ2pm_Apr6_30Hz/IJ2pm_Apr6_30Hz_locanmf.npz  with lockout:  False\n"
     ]
    },
    {
     "name": "stderr",
     "output_type": "stream",
     "text": [
      "\n",
      "100%|██████████| 10/10 [00:05<00:00,  1.67it/s]"
     ]
    },
    {
     "name": "stdout",
     "output_type": "stream",
     "text": [
      "processing;  /media/cat/4TBSSD/yuki/IJ2/tif_files/IJ2pm_Apr7_30Hz/IJ2pm_Apr7_30Hz_locanmf.npz  with lockout:  False\n"
     ]
    },
    {
     "name": "stderr",
     "output_type": "stream",
     "text": [
      "\n",
      "100%|██████████| 10/10 [00:07<00:00,  1.31it/s]"
     ]
    },
    {
     "name": "stdout",
     "output_type": "stream",
     "text": [
      "DONE predicting SVM on animal:  IJ2\n",
      "processing;  /media/cat/4TBSSD/yuki/IJ2/tif_files/IJ2pm_Feb1_30Hz/IJ2pm_Feb1_30Hz_locanmf.npz  with lockout:  False\n"
     ]
    },
    {
     "name": "stderr",
     "output_type": "stream",
     "text": [
      "\n",
      "100%|██████████| 10/10 [00:04<00:00,  2.19it/s]"
     ]
    },
    {
     "name": "stdout",
     "output_type": "stream",
     "text": [
      "processing;  /media/cat/4TBSSD/yuki/IJ2/tif_files/IJ2pm_Feb2_30Hz/IJ2pm_Feb2_30Hz_locanmf.npz  with lockout:  False\n"
     ]
    },
    {
     "name": "stderr",
     "output_type": "stream",
     "text": [
      "\n",
      "100%|██████████| 10/10 [00:04<00:00,  2.09it/s]"
     ]
    },
    {
     "name": "stdout",
     "output_type": "stream",
     "text": [
      "processing;  /media/cat/4TBSSD/yuki/IJ2/tif_files/IJ2pm_Feb3_30Hz/IJ2pm_Feb3_30Hz_locanmf.npz  with lockout:  False\n"
     ]
    },
    {
     "name": "stderr",
     "output_type": "stream",
     "text": [
      "\n",
      "100%|██████████| 10/10 [00:06<00:00,  1.59it/s]"
     ]
    },
    {
     "name": "stdout",
     "output_type": "stream",
     "text": [
      "processing;  /media/cat/4TBSSD/yuki/IJ2/tif_files/IJ2pm_Feb4_30Hz/IJ2pm_Feb4_30Hz_locanmf.npz  with lockout:  False\n"
     ]
    },
    {
     "name": "stderr",
     "output_type": "stream",
     "text": [
      "\n",
      "100%|██████████| 10/10 [00:06<00:00,  1.55it/s]"
     ]
    },
    {
     "name": "stdout",
     "output_type": "stream",
     "text": [
      "processing;  /media/cat/4TBSSD/yuki/IJ2/tif_files/IJ2pm_Feb5_30Hz/IJ2pm_Feb5_30Hz_locanmf.npz  with lockout:  False\n"
     ]
    },
    {
     "name": "stderr",
     "output_type": "stream",
     "text": [
      "\n",
      "100%|██████████| 10/10 [00:06<00:00,  1.46it/s]"
     ]
    },
    {
     "name": "stdout",
     "output_type": "stream",
     "text": [
      " ....file not found, skippping  /media/cat/4TBSSD/yuki/IJ2/tif_files/IJ2pm_Feb9_30Hz/IJ2pm_Feb9_30Hz_locanmf.npz\n",
      "processing;  /media/cat/4TBSSD/yuki/IJ2/tif_files/IJ2pm_Feb10_30Hz/IJ2pm_Feb10_30Hz_locanmf.npz  with lockout:  False\n"
     ]
    },
    {
     "name": "stderr",
     "output_type": "stream",
     "text": [
      "\n",
      "100%|██████████| 10/10 [00:06<00:00,  1.44it/s]"
     ]
    },
    {
     "name": "stdout",
     "output_type": "stream",
     "text": [
      "processing;  /media/cat/4TBSSD/yuki/IJ2/tif_files/IJ2pm_Feb11_30Hz/IJ2pm_Feb11_30Hz_locanmf.npz  with lockout:  False\n"
     ]
    },
    {
     "name": "stderr",
     "output_type": "stream",
     "text": [
      "\n",
      "100%|██████████| 10/10 [00:06<00:00,  1.66it/s]"
     ]
    },
    {
     "name": "stdout",
     "output_type": "stream",
     "text": [
      "processing;  /media/cat/4TBSSD/yuki/IJ2/tif_files/IJ2pm_Feb12_30Hz/IJ2pm_Feb12_30Hz_locanmf.npz  with lockout:  False\n"
     ]
    },
    {
     "name": "stderr",
     "output_type": "stream",
     "text": [
      "\n",
      "100%|██████████| 10/10 [00:05<00:00,  1.95it/s]"
     ]
    },
    {
     "name": "stdout",
     "output_type": "stream",
     "text": [
      " ....file not found, skippping  /media/cat/4TBSSD/yuki/IJ2/tif_files/IJ2pm_Feb15_30Hz/IJ2pm_Feb15_30Hz_locanmf.npz\n",
      "processing;  /media/cat/4TBSSD/yuki/IJ2/tif_files/IJ2pm_Feb16_30Hz/IJ2pm_Feb16_30Hz_locanmf.npz  with lockout:  False\n"
     ]
    },
    {
     "name": "stderr",
     "output_type": "stream",
     "text": [
      "\n",
      "100%|██████████| 10/10 [00:07<00:00,  1.36it/s]"
     ]
    },
    {
     "name": "stdout",
     "output_type": "stream",
     "text": [
      "processing;  /media/cat/4TBSSD/yuki/IJ2/tif_files/IJ2pm_Feb17_30Hz/IJ2pm_Feb17_30Hz_locanmf.npz  with lockout:  False\n"
     ]
    },
    {
     "name": "stderr",
     "output_type": "stream",
     "text": [
      "\n",
      "100%|██████████| 10/10 [00:04<00:00,  2.16it/s]"
     ]
    },
    {
     "name": "stdout",
     "output_type": "stream",
     "text": [
      "processing;  /media/cat/4TBSSD/yuki/IJ2/tif_files/IJ2pm_Feb18_30Hz/IJ2pm_Feb18_30Hz_locanmf.npz  with lockout:  False\n"
     ]
    },
    {
     "name": "stderr",
     "output_type": "stream",
     "text": [
      "\n",
      "100%|██████████| 10/10 [00:05<00:00,  1.88it/s]"
     ]
    },
    {
     "name": "stdout",
     "output_type": "stream",
     "text": [
      "processing;  /media/cat/4TBSSD/yuki/IJ2/tif_files/IJ2pm_Feb22_30Hz/IJ2pm_Feb22_30Hz_locanmf.npz  with lockout:  False\n"
     ]
    },
    {
     "name": "stderr",
     "output_type": "stream",
     "text": [
      "\n",
      "100%|██████████| 10/10 [00:05<00:00,  1.72it/s]"
     ]
    },
    {
     "name": "stdout",
     "output_type": "stream",
     "text": [
      " ....file not found, skippping  /media/cat/4TBSSD/yuki/IJ2/tif_files/IJ2pm_Feb23_30Hz/IJ2pm_Feb23_30Hz_locanmf.npz\n",
      " ....file not found, skippping  /media/cat/4TBSSD/yuki/IJ2/tif_files/IJ2pm_Feb24_30Hz/IJ2pm_Feb24_30Hz_locanmf.npz\n",
      " ....file not found, skippping  /media/cat/4TBSSD/yuki/IJ2/tif_files/IJ2pm_Feb25_30Hz/IJ2pm_Feb25_30Hz_locanmf.npz\n",
      "processing;  /media/cat/4TBSSD/yuki/IJ2/tif_files/IJ2pm_Feb26_30Hz/IJ2pm_Feb26_30Hz_locanmf.npz  with lockout:  False\n"
     ]
    },
    {
     "name": "stderr",
     "output_type": "stream",
     "text": [
      "\n",
      "100%|██████████| 10/10 [00:08<00:00,  1.23it/s]\n"
     ]
    },
    {
     "name": "stdout",
     "output_type": "stream",
     "text": [
      "processing;  /media/cat/4TBSSD/yuki/IJ2/tif_files/IJ2pm_Feb29_30Hz/IJ2pm_Feb29_30Hz_locanmf.npz  with lockout:  False\n"
     ]
    },
    {
     "name": "stderr",
     "output_type": "stream",
     "text": [
      "100%|██████████| 10/10 [00:10<00:00,  1.07s/it]"
     ]
    },
    {
     "name": "stdout",
     "output_type": "stream",
     "text": [
      "processing;  /media/cat/4TBSSD/yuki/IJ2/tif_files/IJ2pm_Mar1_30Hz/IJ2pm_Mar1_30Hz_locanmf.npz  with lockout:  False\n"
     ]
    },
    {
     "name": "stderr",
     "output_type": "stream",
     "text": [
      "\n",
      "100%|██████████| 10/10 [00:07<00:00,  1.31it/s]"
     ]
    },
    {
     "name": "stdout",
     "output_type": "stream",
     "text": [
      "processing;  /media/cat/4TBSSD/yuki/IJ2/tif_files/IJ2pm_Mar2_30Hz/IJ2pm_Mar2_30Hz_locanmf.npz  with lockout:  False\n"
     ]
    },
    {
     "name": "stderr",
     "output_type": "stream",
     "text": [
      "\n",
      "100%|██████████| 10/10 [00:12<00:00,  1.27s/it]"
     ]
    },
    {
     "name": "stdout",
     "output_type": "stream",
     "text": [
      "processing;  /media/cat/4TBSSD/yuki/IJ2/tif_files/IJ2pm_Mar3_30Hz/IJ2pm_Mar3_30Hz_locanmf.npz  with lockout:  False\n"
     ]
    },
    {
     "name": "stderr",
     "output_type": "stream",
     "text": [
      "\n",
      "100%|██████████| 10/10 [00:06<00:00,  1.52it/s]"
     ]
    },
    {
     "name": "stdout",
     "output_type": "stream",
     "text": [
      "processing;  /media/cat/4TBSSD/yuki/IJ2/tif_files/IJ2am_Mar7_30Hz/IJ2am_Mar7_30Hz_locanmf.npz  with lockout:  False\n"
     ]
    },
    {
     "name": "stderr",
     "output_type": "stream",
     "text": [
      "\n",
      "100%|██████████| 10/10 [00:05<00:00,  1.78it/s]"
     ]
    },
    {
     "name": "stdout",
     "output_type": "stream",
     "text": [
      "processing;  /media/cat/4TBSSD/yuki/IJ2/tif_files/IJ2pm_Mar8_30Hz/IJ2pm_Mar8_30Hz_locanmf.npz  with lockout:  False\n"
     ]
    },
    {
     "name": "stderr",
     "output_type": "stream",
     "text": [
      "\n",
      "100%|██████████| 10/10 [00:04<00:00,  2.02it/s]"
     ]
    },
    {
     "name": "stdout",
     "output_type": "stream",
     "text": [
      "processing;  /media/cat/4TBSSD/yuki/IJ2/tif_files/IJ2am_Mar9_30Hz/IJ2am_Mar9_30Hz_locanmf.npz  with lockout:  False\n"
     ]
    },
    {
     "name": "stderr",
     "output_type": "stream",
     "text": [
      "\n",
      "100%|██████████| 10/10 [00:06<00:00,  1.48it/s]"
     ]
    },
    {
     "name": "stdout",
     "output_type": "stream",
     "text": [
      "processing;  /media/cat/4TBSSD/yuki/IJ2/tif_files/IJ2am_Mar10_30Hz/IJ2am_Mar10_30Hz_locanmf.npz  with lockout:  False\n"
     ]
    },
    {
     "name": "stderr",
     "output_type": "stream",
     "text": [
      "\n",
      "100%|██████████| 10/10 [00:07<00:00,  1.28it/s]"
     ]
    },
    {
     "name": "stdout",
     "output_type": "stream",
     "text": [
      "processing;  /media/cat/4TBSSD/yuki/IJ2/tif_files/IJ2am_Mar11_30Hz/IJ2am_Mar11_30Hz_locanmf.npz  with lockout:  False\n"
     ]
    },
    {
     "name": "stderr",
     "output_type": "stream",
     "text": [
      "\n",
      "100%|██████████| 10/10 [00:07<00:00,  1.32it/s]"
     ]
    },
    {
     "name": "stdout",
     "output_type": "stream",
     "text": [
      "processing;  /media/cat/4TBSSD/yuki/IJ2/tif_files/IJ2pm_Mar14_30Hz/IJ2pm_Mar14_30Hz_locanmf.npz  with lockout:  False\n"
     ]
    },
    {
     "name": "stderr",
     "output_type": "stream",
     "text": [
      "\n",
      "100%|██████████| 10/10 [00:05<00:00,  1.81it/s]"
     ]
    },
    {
     "name": "stdout",
     "output_type": "stream",
     "text": [
      "processing;  /media/cat/4TBSSD/yuki/IJ2/tif_files/IJ2am_Mar15_30Hz/IJ2am_Mar15_30Hz_locanmf.npz  with lockout:  False\n"
     ]
    },
    {
     "name": "stderr",
     "output_type": "stream",
     "text": [
      "\n",
      "100%|██████████| 10/10 [00:05<00:00,  1.89it/s]"
     ]
    },
    {
     "name": "stdout",
     "output_type": "stream",
     "text": [
      "processing;  /media/cat/4TBSSD/yuki/IJ2/tif_files/IJ2pm_Mar16_30Hz/IJ2pm_Mar16_30Hz_locanmf.npz  with lockout:  False\n"
     ]
    },
    {
     "name": "stderr",
     "output_type": "stream",
     "text": [
      "\n",
      "100%|██████████| 10/10 [00:06<00:00,  1.60it/s]"
     ]
    },
    {
     "name": "stdout",
     "output_type": "stream",
     "text": [
      "processing;  /media/cat/4TBSSD/yuki/IJ2/tif_files/IJ2pm_Mar17_30Hz/IJ2pm_Mar17_30Hz_locanmf.npz  with lockout:  False\n"
     ]
    },
    {
     "name": "stderr",
     "output_type": "stream",
     "text": [
      "\n",
      "100%|██████████| 10/10 [00:05<00:00,  1.98it/s]"
     ]
    },
    {
     "name": "stdout",
     "output_type": "stream",
     "text": [
      "processing;  /media/cat/4TBSSD/yuki/IJ2/tif_files/IJ2pm_Mar18_30Hz/IJ2pm_Mar18_30Hz_locanmf.npz  with lockout:  False\n"
     ]
    },
    {
     "name": "stderr",
     "output_type": "stream",
     "text": [
      "\n",
      "100%|██████████| 10/10 [00:06<00:00,  1.55it/s]"
     ]
    },
    {
     "name": "stdout",
     "output_type": "stream",
     "text": [
      "processing;  /media/cat/4TBSSD/yuki/IJ2/tif_files/IJ2pm_Mar21_30Hz/IJ2pm_Mar21_30Hz_locanmf.npz  with lockout:  False\n"
     ]
    },
    {
     "name": "stderr",
     "output_type": "stream",
     "text": [
      "\n",
      "100%|██████████| 10/10 [00:05<00:00,  1.67it/s]"
     ]
    },
    {
     "name": "stdout",
     "output_type": "stream",
     "text": [
      "processing;  /media/cat/4TBSSD/yuki/IJ2/tif_files/IJ2pm_Mar22_30Hz/IJ2pm_Mar22_30Hz_locanmf.npz  with lockout:  False\n"
     ]
    },
    {
     "name": "stderr",
     "output_type": "stream",
     "text": [
      "\n",
      "100%|██████████| 10/10 [00:08<00:00,  1.12it/s]"
     ]
    },
    {
     "name": "stdout",
     "output_type": "stream",
     "text": [
      "processing;  /media/cat/4TBSSD/yuki/IJ2/tif_files/IJ2pm_Mar23_30Hz/IJ2pm_Mar23_30Hz_locanmf.npz  with lockout:  False\n"
     ]
    },
    {
     "name": "stderr",
     "output_type": "stream",
     "text": [
      "\n",
      "100%|██████████| 10/10 [00:05<00:00,  1.80it/s]"
     ]
    },
    {
     "name": "stdout",
     "output_type": "stream",
     "text": [
      "processing;  /media/cat/4TBSSD/yuki/IJ2/tif_files/IJ2pm_Mar24_30Hz/IJ2pm_Mar24_30Hz_locanmf.npz  with lockout:  False\n"
     ]
    },
    {
     "name": "stderr",
     "output_type": "stream",
     "text": [
      "\n",
      "100%|██████████| 10/10 [00:06<00:00,  1.59it/s]"
     ]
    },
    {
     "name": "stdout",
     "output_type": "stream",
     "text": [
      "processing;  /media/cat/4TBSSD/yuki/IJ2/tif_files/IJ2pm_Mar29_30Hz/IJ2pm_Mar29_30Hz_locanmf.npz  with lockout:  False\n"
     ]
    },
    {
     "name": "stderr",
     "output_type": "stream",
     "text": [
      "\n",
      "100%|██████████| 10/10 [00:06<00:00,  1.45it/s]"
     ]
    },
    {
     "name": "stdout",
     "output_type": "stream",
     "text": [
      "processing;  /media/cat/4TBSSD/yuki/IJ2/tif_files/IJ2pm_Mar30_30Hz/IJ2pm_Mar30_30Hz_locanmf.npz  with lockout:  False\n"
     ]
    },
    {
     "name": "stderr",
     "output_type": "stream",
     "text": [
      "\n",
      "100%|██████████| 10/10 [00:07<00:00,  1.26it/s]"
     ]
    },
    {
     "name": "stdout",
     "output_type": "stream",
     "text": [
      "processing;  /media/cat/4TBSSD/yuki/IJ2/tif_files/IJ2pm_Mar31_30Hz/IJ2pm_Mar31_30Hz_locanmf.npz  with lockout:  False\n"
     ]
    },
    {
     "name": "stderr",
     "output_type": "stream",
     "text": [
      "\n",
      "100%|██████████| 10/10 [00:05<00:00,  1.80it/s]"
     ]
    },
    {
     "name": "stdout",
     "output_type": "stream",
     "text": [
      "processing;  /media/cat/4TBSSD/yuki/IJ2/tif_files/IJ2pm_Apr1_30Hz/IJ2pm_Apr1_30Hz_locanmf.npz  with lockout:  False\n"
     ]
    },
    {
     "name": "stderr",
     "output_type": "stream",
     "text": [
      "\n",
      "100%|██████████| 10/10 [00:07<00:00,  1.26it/s]"
     ]
    },
    {
     "name": "stdout",
     "output_type": "stream",
     "text": [
      "processing;  /media/cat/4TBSSD/yuki/IJ2/tif_files/IJ2pm_Apr4_30Hz/IJ2pm_Apr4_30Hz_locanmf.npz  with lockout:  False\n"
     ]
    },
    {
     "name": "stderr",
     "output_type": "stream",
     "text": [
      "\n",
      "100%|██████████| 10/10 [00:09<00:00,  1.03it/s]"
     ]
    },
    {
     "name": "stdout",
     "output_type": "stream",
     "text": [
      "processing;  /media/cat/4TBSSD/yuki/IJ2/tif_files/IJ2pm_Apr5_30Hz/IJ2pm_Apr5_30Hz_locanmf.npz  with lockout:  False\n"
     ]
    },
    {
     "name": "stderr",
     "output_type": "stream",
     "text": [
      "\n",
      "100%|██████████| 10/10 [00:07<00:00,  1.35it/s]"
     ]
    },
    {
     "name": "stdout",
     "output_type": "stream",
     "text": [
      "processing;  /media/cat/4TBSSD/yuki/IJ2/tif_files/IJ2pm_Apr6_30Hz/IJ2pm_Apr6_30Hz_locanmf.npz  with lockout:  False\n"
     ]
    },
    {
     "name": "stderr",
     "output_type": "stream",
     "text": [
      "\n",
      "100%|██████████| 10/10 [00:05<00:00,  1.71it/s]"
     ]
    },
    {
     "name": "stdout",
     "output_type": "stream",
     "text": [
      "processing;  /media/cat/4TBSSD/yuki/IJ2/tif_files/IJ2pm_Apr7_30Hz/IJ2pm_Apr7_30Hz_locanmf.npz  with lockout:  False\n"
     ]
    },
    {
     "name": "stderr",
     "output_type": "stream",
     "text": [
      "\n",
      "100%|██████████| 10/10 [00:07<00:00,  1.33it/s]"
     ]
    },
    {
     "name": "stdout",
     "output_type": "stream",
     "text": [
      "DONE predicting SVM on animal:  IJ2\n",
      " ....file not found, skippping  /media/cat/4TBSSD/yuki/AQ2/tif_files/AQ2am_Dec9_30Hz/AQ2am_Dec9_30Hz_locanmf.npz\n",
      " ....file not found, skippping  /media/cat/4TBSSD/yuki/AQ2/tif_files/AQ2am_Dec10_30Hz/AQ2am_Dec10_30Hz_locanmf.npz\n",
      " ....file not found, skippping  /media/cat/4TBSSD/yuki/AQ2/tif_files/AQ2pm_Dec10_30Hz/AQ2pm_Dec10_30Hz_locanmf.npz\n",
      " ....file not found, skippping  /media/cat/4TBSSD/yuki/AQ2/tif_files/AQ2am_Dec11_30Hz/AQ2am_Dec11_30Hz_locanmf.npz\n",
      "    Skipping too few trials less than  10\n",
      " ....file not found, skippping  /media/cat/4TBSSD/yuki/AQ2/tif_files/AQ2am_Dec14_30Hz/AQ2am_Dec14_30Hz_locanmf.npz\n",
      "processing;  /media/cat/4TBSSD/yuki/AQ2/tif_files/AQ2pm_Dec16_30Hz/AQ2pm_Dec16_30Hz_locanmf.npz  with lockout:  False\n"
     ]
    },
    {
     "name": "stderr",
     "output_type": "stream",
     "text": [
      "\n",
      "100%|██████████| 10/10 [00:05<00:00,  1.94it/s]"
     ]
    },
    {
     "name": "stdout",
     "output_type": "stream",
     "text": [
      "processing;  /media/cat/4TBSSD/yuki/AQ2/tif_files/AQ2am_Dec17_30Hz/AQ2am_Dec17_30Hz_locanmf.npz  with lockout:  False\n"
     ]
    },
    {
     "name": "stderr",
     "output_type": "stream",
     "text": [
      "\n",
      "100%|██████████| 10/10 [00:04<00:00,  2.03it/s]"
     ]
    },
    {
     "name": "stdout",
     "output_type": "stream",
     "text": [
      " ....file not found, skippping  /media/cat/4TBSSD/yuki/AQ2/tif_files/AQ2pm_Dec17_30Hz/AQ2pm_Dec17_30Hz_locanmf.npz\n",
      " ....file not found, skippping  /media/cat/4TBSSD/yuki/AQ2/tif_files/AQ2am_Dec18_30Hz/AQ2am_Dec18_30Hz_locanmf.npz\n",
      " ....file not found, skippping  /media/cat/4TBSSD/yuki/AQ2/tif_files/AQ2pm_Dec18_30Hz/AQ2pm_Dec18_30Hz_locanmf.npz\n",
      " ....file not found, skippping  /media/cat/4TBSSD/yuki/AQ2/tif_files/AQ2am_Dec21_30Hz/AQ2am_Dec21_30Hz_locanmf.npz\n",
      " ....file not found, skippping  /media/cat/4TBSSD/yuki/AQ2/tif_files/AQ2am_Dec22_30Hz/AQ2am_Dec22_30Hz_locanmf.npz\n",
      " ....file not found, skippping  /media/cat/4TBSSD/yuki/AQ2/tif_files/AQ2am_Dec23_30Hz/AQ2am_Dec23_30Hz_locanmf.npz\n",
      "processing;  /media/cat/4TBSSD/yuki/AQ2/tif_files/AQ2am_Dec28_30Hz/AQ2am_Dec28_30Hz_locanmf.npz  with lockout:  False\n"
     ]
    },
    {
     "name": "stderr",
     "output_type": "stream",
     "text": [
      "\n",
      "100%|██████████| 10/10 [00:05<00:00,  1.98it/s]"
     ]
    },
    {
     "name": "stdout",
     "output_type": "stream",
     "text": [
      "processing;  /media/cat/4TBSSD/yuki/AQ2/tif_files/AQ2am_Dec29_30Hz/AQ2am_Dec29_30Hz_locanmf.npz  with lockout:  False\n"
     ]
    },
    {
     "name": "stderr",
     "output_type": "stream",
     "text": [
      "\n",
      "100%|██████████| 10/10 [00:05<00:00,  1.80it/s]"
     ]
    },
    {
     "name": "stdout",
     "output_type": "stream",
     "text": [
      " ....file not found, skippping  /media/cat/4TBSSD/yuki/AQ2/tif_files/AQ2am_Dec30_30Hz/AQ2am_Dec30_30Hz_locanmf.npz\n",
      "processing;  /media/cat/4TBSSD/yuki/AQ2/tif_files/AQ2am_Dec31_30Hz/AQ2am_Dec31_30Hz_locanmf.npz  with lockout:  False\n"
     ]
    },
    {
     "name": "stderr",
     "output_type": "stream",
     "text": [
      "\n",
      "100%|██████████| 10/10 [00:08<00:00,  1.25it/s]"
     ]
    },
    {
     "name": "stdout",
     "output_type": "stream",
     "text": [
      "processing;  /media/cat/4TBSSD/yuki/AQ2/tif_files/AQ2am_Jan4_30Hz/AQ2am_Jan4_30Hz_locanmf.npz  with lockout:  False\n"
     ]
    },
    {
     "name": "stderr",
     "output_type": "stream",
     "text": [
      "\n",
      "100%|██████████| 10/10 [00:06<00:00,  1.44it/s]"
     ]
    },
    {
     "name": "stdout",
     "output_type": "stream",
     "text": [
      "processing;  /media/cat/4TBSSD/yuki/AQ2/tif_files/AQ2am_Jan5_30Hz/AQ2am_Jan5_30Hz_locanmf.npz  with lockout:  False\n"
     ]
    },
    {
     "name": "stderr",
     "output_type": "stream",
     "text": [
      "\n",
      "100%|██████████| 10/10 [00:06<00:00,  1.45it/s]"
     ]
    },
    {
     "name": "stdout",
     "output_type": "stream",
     "text": [
      "processing;  /media/cat/4TBSSD/yuki/AQ2/tif_files/AQ2am_Jan6_30Hz/AQ2am_Jan6_30Hz_locanmf.npz  with lockout:  False\n"
     ]
    },
    {
     "name": "stderr",
     "output_type": "stream",
     "text": [
      "\n",
      "100%|██████████| 10/10 [00:07<00:00,  1.31it/s]"
     ]
    },
    {
     "name": "stdout",
     "output_type": "stream",
     "text": [
      " ....file not found, skippping  /media/cat/4TBSSD/yuki/AQ2/tif_files/AQ2am_Jan7_30Hz/AQ2am_Jan7_30Hz_locanmf.npz\n",
      "processing;  /media/cat/4TBSSD/yuki/AQ2/tif_files/AQ2am_Jan8_30Hz/AQ2am_Jan8_30Hz_locanmf.npz  with lockout:  False\n"
     ]
    },
    {
     "name": "stderr",
     "output_type": "stream",
     "text": [
      "\n",
      "100%|██████████| 10/10 [00:05<00:00,  1.91it/s]"
     ]
    },
    {
     "name": "stdout",
     "output_type": "stream",
     "text": [
      "processing;  /media/cat/4TBSSD/yuki/AQ2/tif_files/AQ2pm_Jan11_30Hz/AQ2pm_Jan11_30Hz_locanmf.npz  with lockout:  False\n"
     ]
    },
    {
     "name": "stderr",
     "output_type": "stream",
     "text": [
      "\n",
      "100%|██████████| 10/10 [00:04<00:00,  2.08it/s]"
     ]
    },
    {
     "name": "stdout",
     "output_type": "stream",
     "text": [
      " ....file not found, skippping  /media/cat/4TBSSD/yuki/AQ2/tif_files/AQ2am_Jan11_30Hz/AQ2am_Jan11_30Hz_locanmf.npz\n",
      " ....file not found, skippping  /media/cat/4TBSSD/yuki/AQ2/tif_files/AQ2pm_Jan12_30Hz/AQ2pm_Jan12_30Hz_locanmf.npz\n",
      " ....file not found, skippping  /media/cat/4TBSSD/yuki/AQ2/tif_files/AQ2am_Jan12_30Hz/AQ2am_Jan12_30Hz_locanmf.npz\n",
      "processing;  /media/cat/4TBSSD/yuki/AQ2/tif_files/AQ2pm_Jan13_30Hz/AQ2pm_Jan13_30Hz_locanmf.npz  with lockout:  False\n"
     ]
    },
    {
     "name": "stderr",
     "output_type": "stream",
     "text": [
      "\n",
      "100%|██████████| 10/10 [00:05<00:00,  1.72it/s]"
     ]
    },
    {
     "name": "stdout",
     "output_type": "stream",
     "text": [
      "processing;  /media/cat/4TBSSD/yuki/AQ2/tif_files/AQ2am_Jan13_30Hz/AQ2am_Jan13_30Hz_locanmf.npz  with lockout:  False\n"
     ]
    },
    {
     "name": "stderr",
     "output_type": "stream",
     "text": [
      "\n",
      "100%|██████████| 10/10 [00:07<00:00,  1.40it/s]"
     ]
    },
    {
     "name": "stdout",
     "output_type": "stream",
     "text": [
      "processing;  /media/cat/4TBSSD/yuki/AQ2/tif_files/AQ2pm_Jan14_30Hz/AQ2pm_Jan14_30Hz_locanmf.npz  with lockout:  False\n"
     ]
    },
    {
     "name": "stderr",
     "output_type": "stream",
     "text": [
      "\n",
      "100%|██████████| 10/10 [00:05<00:00,  1.72it/s]"
     ]
    },
    {
     "name": "stdout",
     "output_type": "stream",
     "text": [
      "processing;  /media/cat/4TBSSD/yuki/AQ2/tif_files/AQ2am_Jan14_30Hz/AQ2am_Jan14_30Hz_locanmf.npz  with lockout:  False\n"
     ]
    },
    {
     "name": "stderr",
     "output_type": "stream",
     "text": [
      "\n",
      "100%|██████████| 10/10 [00:06<00:00,  1.63it/s]"
     ]
    },
    {
     "name": "stdout",
     "output_type": "stream",
     "text": [
      "processing;  /media/cat/4TBSSD/yuki/AQ2/tif_files/AQ2am_Jan15_30Hz/AQ2am_Jan15_30Hz_locanmf.npz  with lockout:  False\n"
     ]
    },
    {
     "name": "stderr",
     "output_type": "stream",
     "text": [
      "\n",
      "100%|██████████| 10/10 [00:05<00:00,  1.95it/s]"
     ]
    },
    {
     "name": "stdout",
     "output_type": "stream",
     "text": [
      "processing;  /media/cat/4TBSSD/yuki/AQ2/tif_files/AQ2pm_Jan15_30Hz/AQ2pm_Jan15_30Hz_locanmf.npz  with lockout:  False\n"
     ]
    },
    {
     "name": "stderr",
     "output_type": "stream",
     "text": [
      "\n",
      "100%|██████████| 10/10 [00:08<00:00,  1.17it/s]"
     ]
    },
    {
     "name": "stdout",
     "output_type": "stream",
     "text": [
      " ....file not found, skippping  /media/cat/4TBSSD/yuki/AQ2/tif_files/AQ2pm_Jan18_30Hz/AQ2pm_Jan18_30Hz_locanmf.npz\n",
      "processing;  /media/cat/4TBSSD/yuki/AQ2/tif_files/AQ2am_Jan18_30Hz/AQ2am_Jan18_30Hz_locanmf.npz  with lockout:  False\n"
     ]
    },
    {
     "name": "stderr",
     "output_type": "stream",
     "text": [
      "\n",
      "100%|██████████| 10/10 [00:04<00:00,  2.15it/s]"
     ]
    },
    {
     "name": "stdout",
     "output_type": "stream",
     "text": [
      " ....file not found, skippping  /media/cat/4TBSSD/yuki/AQ2/tif_files/AQ2am_Jan19_30Hz/AQ2am_Jan19_30Hz_locanmf.npz\n",
      " ....file not found, skippping  /media/cat/4TBSSD/yuki/AQ2/tif_files/AQ2pm_Jan19_30Hz/AQ2pm_Jan19_30Hz_locanmf.npz\n",
      " ....file not found, skippping  /media/cat/4TBSSD/yuki/AQ2/tif_files/AQ2pm_Jan20_30Hz/AQ2pm_Jan20_30Hz_locanmf.npz\n",
      " ....file not found, skippping  /media/cat/4TBSSD/yuki/AQ2/tif_files/AQ2am_Jan20_30Hz/AQ2am_Jan20_30Hz_locanmf.npz\n",
      " ....file not found, skippping  /media/cat/4TBSSD/yuki/AQ2/tif_files/AQ2pm_Jan21_30Hz/AQ2pm_Jan21_30Hz_locanmf.npz\n",
      " ....file not found, skippping  /media/cat/4TBSSD/yuki/AQ2/tif_files/AQ2am_Jan21_30Hz/AQ2am_Jan21_30Hz_locanmf.npz\n",
      " ....file not found, skippping  /media/cat/4TBSSD/yuki/AQ2/tif_files/AQ2pm_Jan22_30Hz/AQ2pm_Jan22_30Hz_locanmf.npz\n",
      " ....file not found, skippping  /media/cat/4TBSSD/yuki/AQ2/tif_files/AQ2am_Jan22_30Hz/AQ2am_Jan22_30Hz_locanmf.npz\n",
      " ....file not found, skippping  /media/cat/4TBSSD/yuki/AQ2/tif_files/AQ2am_Jan25_30Hz/AQ2am_Jan25_30Hz_locanmf.npz\n",
      " ....file not found, skippping  /media/cat/4TBSSD/yuki/AQ2/tif_files/AQ2pm_Jan25_30Hz/AQ2pm_Jan25_30Hz_locanmf.npz\n",
      " ....file not found, skippping  /media/cat/4TBSSD/yuki/AQ2/tif_files/AQ2pm_Jan26_30Hz/AQ2pm_Jan26_30Hz_locanmf.npz\n",
      " ....file not found, skippping  /media/cat/4TBSSD/yuki/AQ2/tif_files/AQ2am_Jan26_30Hz/AQ2am_Jan26_30Hz_locanmf.npz\n",
      " ....file not found, skippping  /media/cat/4TBSSD/yuki/AQ2/tif_files/AQ2am_Jan27_30Hz/AQ2am_Jan27_30Hz_locanmf.npz\n",
      "processing;  /media/cat/4TBSSD/yuki/AQ2/tif_files/AQ2pm_Jan27_30Hz/AQ2pm_Jan27_30Hz_locanmf.npz  with lockout:  False\n"
     ]
    },
    {
     "name": "stderr",
     "output_type": "stream",
     "text": [
      "\n",
      "100%|██████████| 10/10 [00:07<00:00,  1.39it/s]"
     ]
    },
    {
     "name": "stdout",
     "output_type": "stream",
     "text": [
      "processing;  /media/cat/4TBSSD/yuki/AQ2/tif_files/AQ2am_Jan28_30Hz/AQ2am_Jan28_30Hz_locanmf.npz  with lockout:  False\n"
     ]
    },
    {
     "name": "stderr",
     "output_type": "stream",
     "text": [
      "\n",
      "100%|██████████| 10/10 [00:06<00:00,  1.53it/s]"
     ]
    },
    {
     "name": "stdout",
     "output_type": "stream",
     "text": [
      "processing;  /media/cat/4TBSSD/yuki/AQ2/tif_files/AQ2pm_Jan28_30Hz/AQ2pm_Jan28_30Hz_locanmf.npz  with lockout:  False\n"
     ]
    },
    {
     "name": "stderr",
     "output_type": "stream",
     "text": [
      "\n",
      "100%|██████████| 10/10 [00:07<00:00,  1.31it/s]"
     ]
    },
    {
     "name": "stdout",
     "output_type": "stream",
     "text": [
      "processing;  /media/cat/4TBSSD/yuki/AQ2/tif_files/AQ2am_Jan29_30Hz/AQ2am_Jan29_30Hz_locanmf.npz  with lockout:  False\n"
     ]
    },
    {
     "name": "stderr",
     "output_type": "stream",
     "text": [
      "\n",
      "100%|██████████| 10/10 [00:06<00:00,  1.62it/s]\n"
     ]
    },
    {
     "name": "stdout",
     "output_type": "stream",
     "text": [
      "processing;  /media/cat/4TBSSD/yuki/AQ2/tif_files/AQ2pm_Jan29_30Hz/AQ2pm_Jan29_30Hz_locanmf.npz  with lockout:  False\n"
     ]
    },
    {
     "name": "stderr",
     "output_type": "stream",
     "text": [
      "100%|██████████| 10/10 [00:06<00:00,  1.44it/s]"
     ]
    },
    {
     "name": "stdout",
     "output_type": "stream",
     "text": [
      "processing;  /media/cat/4TBSSD/yuki/AQ2/tif_files/AQ2am_Feb2_30Hz/AQ2am_Feb2_30Hz_locanmf.npz  with lockout:  False\n"
     ]
    },
    {
     "name": "stderr",
     "output_type": "stream",
     "text": [
      "\n",
      "100%|██████████| 10/10 [00:08<00:00,  1.19it/s]"
     ]
    },
    {
     "name": "stdout",
     "output_type": "stream",
     "text": [
      "processing;  /media/cat/4TBSSD/yuki/AQ2/tif_files/AQ2am_Feb3_30Hz/AQ2am_Feb3_30Hz_locanmf.npz  with lockout:  False\n"
     ]
    },
    {
     "name": "stderr",
     "output_type": "stream",
     "text": [
      "\n",
      "100%|██████████| 10/10 [00:09<00:00,  1.04it/s]"
     ]
    },
    {
     "name": "stdout",
     "output_type": "stream",
     "text": [
      "processing;  /media/cat/4TBSSD/yuki/AQ2/tif_files/AQ2am_Feb4_30Hz/AQ2am_Feb4_30Hz_locanmf.npz  with lockout:  False\n"
     ]
    },
    {
     "name": "stderr",
     "output_type": "stream",
     "text": [
      "\n",
      "100%|██████████| 10/10 [00:05<00:00,  1.99it/s]"
     ]
    },
    {
     "name": "stdout",
     "output_type": "stream",
     "text": [
      "processing;  /media/cat/4TBSSD/yuki/AQ2/tif_files/AQ2am_Feb5_30Hz/AQ2am_Feb5_30Hz_locanmf.npz  with lockout:  False\n"
     ]
    },
    {
     "name": "stderr",
     "output_type": "stream",
     "text": [
      "\n",
      "100%|██████████| 10/10 [00:09<00:00,  1.08it/s]"
     ]
    },
    {
     "name": "stdout",
     "output_type": "stream",
     "text": [
      "processing;  /media/cat/4TBSSD/yuki/AQ2/tif_files/AQ2am_Feb9_30Hz/AQ2am_Feb9_30Hz_locanmf.npz  with lockout:  False\n"
     ]
    },
    {
     "name": "stderr",
     "output_type": "stream",
     "text": [
      "\n",
      "100%|██████████| 10/10 [00:10<00:00,  1.08s/it]"
     ]
    },
    {
     "name": "stdout",
     "output_type": "stream",
     "text": [
      "processing;  /media/cat/4TBSSD/yuki/AQ2/tif_files/AQ2am_Feb10_30Hz/AQ2am_Feb10_30Hz_locanmf.npz  with lockout:  False\n"
     ]
    },
    {
     "name": "stderr",
     "output_type": "stream",
     "text": [
      "\n",
      "100%|██████████| 10/10 [00:10<00:00,  1.09s/it]"
     ]
    },
    {
     "name": "stdout",
     "output_type": "stream",
     "text": [
      "processing;  /media/cat/4TBSSD/yuki/AQ2/tif_files/AQ2am_Feb11_30Hz/AQ2am_Feb11_30Hz_locanmf.npz  with lockout:  False\n"
     ]
    },
    {
     "name": "stderr",
     "output_type": "stream",
     "text": [
      "\n",
      "100%|██████████| 10/10 [00:15<00:00,  1.53s/it]"
     ]
    },
    {
     "name": "stdout",
     "output_type": "stream",
     "text": [
      "processing;  /media/cat/4TBSSD/yuki/AQ2/tif_files/AQ2am_Feb12_30Hz/AQ2am_Feb12_30Hz_locanmf.npz  with lockout:  False\n"
     ]
    },
    {
     "name": "stderr",
     "output_type": "stream",
     "text": [
      "\n",
      "100%|██████████| 10/10 [00:23<00:00,  2.38s/it]"
     ]
    },
    {
     "name": "stdout",
     "output_type": "stream",
     "text": [
      "processing;  /media/cat/4TBSSD/yuki/AQ2/tif_files/AQ2am_Feb15_30Hz/AQ2am_Feb15_30Hz_locanmf.npz  with lockout:  False\n"
     ]
    },
    {
     "name": "stderr",
     "output_type": "stream",
     "text": [
      "\n",
      "100%|██████████| 10/10 [00:21<00:00,  2.14s/it]"
     ]
    },
    {
     "name": "stdout",
     "output_type": "stream",
     "text": [
      "processing;  /media/cat/4TBSSD/yuki/AQ2/tif_files/AQ2am_Feb16_30Hz/AQ2am_Feb16_30Hz_locanmf.npz  with lockout:  False\n"
     ]
    },
    {
     "name": "stderr",
     "output_type": "stream",
     "text": [
      "\n",
      "100%|██████████| 10/10 [00:19<00:00,  1.93s/it]"
     ]
    },
    {
     "name": "stdout",
     "output_type": "stream",
     "text": [
      "processing;  /media/cat/4TBSSD/yuki/AQ2/tif_files/AQ2am_Feb17_30Hz/AQ2am_Feb17_30Hz_locanmf.npz  with lockout:  False\n"
     ]
    },
    {
     "name": "stderr",
     "output_type": "stream",
     "text": [
      "\n",
      "100%|██████████| 10/10 [00:12<00:00,  1.24s/it]"
     ]
    },
    {
     "name": "stdout",
     "output_type": "stream",
     "text": [
      " ....file not found, skippping  /media/cat/4TBSSD/yuki/AQ2/tif_files/AQ2am_Feb18_30Hz/AQ2am_Feb18_30Hz_locanmf.npz\n",
      "processing;  /media/cat/4TBSSD/yuki/AQ2/tif_files/AQ2am_Feb19_30Hz/AQ2am_Feb19_30Hz_locanmf.npz  with lockout:  False\n"
     ]
    },
    {
     "name": "stderr",
     "output_type": "stream",
     "text": [
      "\n",
      "100%|██████████| 10/10 [00:11<00:00,  1.19s/it]"
     ]
    },
    {
     "name": "stdout",
     "output_type": "stream",
     "text": [
      "processing;  /media/cat/4TBSSD/yuki/AQ2/tif_files/AQ2am_Feb22_30Hz/AQ2am_Feb22_30Hz_locanmf.npz  with lockout:  False\n"
     ]
    },
    {
     "name": "stderr",
     "output_type": "stream",
     "text": [
      "\n",
      "100%|██████████| 10/10 [00:17<00:00,  1.78s/it]"
     ]
    },
    {
     "name": "stdout",
     "output_type": "stream",
     "text": [
      " ....file not found, skippping  /media/cat/4TBSSD/yuki/AQ2/tif_files/AQ2am_Feb23_30Hz/AQ2am_Feb23_30Hz_locanmf.npz\n",
      " ....file not found, skippping  /media/cat/4TBSSD/yuki/AQ2/tif_files/AQ2am_Feb25_30Hz/AQ2am_Feb25_30Hz_locanmf.npz\n",
      "processing;  /media/cat/4TBSSD/yuki/AQ2/tif_files/AQ2am_Feb26_30Hz/AQ2am_Feb26_30Hz_locanmf.npz  with lockout:  False\n"
     ]
    },
    {
     "name": "stderr",
     "output_type": "stream",
     "text": [
      "\n",
      "100%|██████████| 10/10 [00:11<00:00,  1.11s/it]"
     ]
    },
    {
     "name": "stdout",
     "output_type": "stream",
     "text": [
      "processing;  /media/cat/4TBSSD/yuki/AQ2/tif_files/AQ2am_Feb29_30Hz/AQ2am_Feb29_30Hz_locanmf.npz  with lockout:  False\n"
     ]
    },
    {
     "name": "stderr",
     "output_type": "stream",
     "text": [
      "\n",
      "100%|██████████| 10/10 [00:10<00:00,  1.07s/it]"
     ]
    },
    {
     "name": "stdout",
     "output_type": "stream",
     "text": [
      "processing;  /media/cat/4TBSSD/yuki/AQ2/tif_files/AQ2am_Mar1_30Hz/AQ2am_Mar1_30Hz_locanmf.npz  with lockout:  False\n"
     ]
    },
    {
     "name": "stderr",
     "output_type": "stream",
     "text": [
      "\n",
      "100%|██████████| 10/10 [00:14<00:00,  1.46s/it]"
     ]
    },
    {
     "name": "stdout",
     "output_type": "stream",
     "text": [
      " ....file not found, skippping  /media/cat/4TBSSD/yuki/AQ2/tif_files/AQ2am_Mar2_30Hz/AQ2am_Mar2_30Hz_locanmf.npz\n",
      "processing;  /media/cat/4TBSSD/yuki/AQ2/tif_files/AQ2am_Mar3_30Hz/AQ2am_Mar3_30Hz_locanmf.npz  with lockout:  False\n"
     ]
    },
    {
     "name": "stderr",
     "output_type": "stream",
     "text": [
      "\n",
      "100%|██████████| 10/10 [00:15<00:00,  1.52s/it]"
     ]
    },
    {
     "name": "stdout",
     "output_type": "stream",
     "text": [
      "processing;  /media/cat/4TBSSD/yuki/AQ2/tif_files/AQ2pm_Mar7_Day3_30Hz/AQ2pm_Mar7_Day3_30Hz_locanmf.npz  with lockout:  False\n"
     ]
    },
    {
     "name": "stderr",
     "output_type": "stream",
     "text": [
      "\n",
      "100%|██████████| 10/10 [00:12<00:00,  1.27s/it]"
     ]
    },
    {
     "name": "stdout",
     "output_type": "stream",
     "text": [
      " ....file not found, skippping  /media/cat/4TBSSD/yuki/AQ2/tif_files/AQ2pm_Mar9_Day5_30Hz/AQ2pm_Mar9_Day5_30Hz_locanmf.npz\n",
      "processing;  /media/cat/4TBSSD/yuki/AQ2/tif_files/AQ2pm_Mar11_Day7_30Hz/AQ2pm_Mar11_Day7_30Hz_locanmf.npz  with lockout:  False\n"
     ]
    },
    {
     "name": "stderr",
     "output_type": "stream",
     "text": [
      "\n",
      "100%|██████████| 10/10 [00:12<00:00,  1.20s/it]"
     ]
    },
    {
     "name": "stdout",
     "output_type": "stream",
     "text": [
      "processing;  /media/cat/4TBSSD/yuki/AQ2/tif_files/AQ2am_Mar14_Week2_30Hz/AQ2am_Mar14_Week2_30Hz_locanmf.npz  with lockout:  False\n"
     ]
    },
    {
     "name": "stderr",
     "output_type": "stream",
     "text": [
      "\n",
      "100%|██████████| 10/10 [00:12<00:00,  1.30s/it]"
     ]
    },
    {
     "name": "stdout",
     "output_type": "stream",
     "text": [
      "processing;  /media/cat/4TBSSD/yuki/AQ2/tif_files/AQ2pm_Mar15_Week2_30Hz/AQ2pm_Mar15_Week2_30Hz_locanmf.npz  with lockout:  False\n"
     ]
    },
    {
     "name": "stderr",
     "output_type": "stream",
     "text": [
      "\n",
      "100%|██████████| 10/10 [00:18<00:00,  1.84s/it]"
     ]
    },
    {
     "name": "stdout",
     "output_type": "stream",
     "text": [
      " ....file not found, skippping  /media/cat/4TBSSD/yuki/AQ2/tif_files/AQ2am_Mar16_Week2_30Hz/AQ2am_Mar16_Week2_30Hz_locanmf.npz\n",
      "processing;  /media/cat/4TBSSD/yuki/AQ2/tif_files/AQ2am_Mar17_Week2_30Hz/AQ2am_Mar17_Week2_30Hz_locanmf.npz  with lockout:  False\n"
     ]
    },
    {
     "name": "stderr",
     "output_type": "stream",
     "text": [
      "\n",
      "100%|██████████| 10/10 [00:13<00:00,  1.30s/it]"
     ]
    },
    {
     "name": "stdout",
     "output_type": "stream",
     "text": [
      "processing;  /media/cat/4TBSSD/yuki/AQ2/tif_files/AQ2am_Mar18_Week2_30Hz/AQ2am_Mar18_Week2_30Hz_locanmf.npz  with lockout:  False\n"
     ]
    },
    {
     "name": "stderr",
     "output_type": "stream",
     "text": [
      "\n",
      "100%|██████████| 10/10 [00:17<00:00,  1.79s/it]"
     ]
    },
    {
     "name": "stdout",
     "output_type": "stream",
     "text": [
      "processing;  /media/cat/4TBSSD/yuki/AQ2/tif_files/AQ2am_Mar21_Week3_30Hz/AQ2am_Mar21_Week3_30Hz_locanmf.npz  with lockout:  False\n"
     ]
    },
    {
     "name": "stderr",
     "output_type": "stream",
     "text": [
      "\n",
      "100%|██████████| 10/10 [00:06<00:00,  1.52it/s]"
     ]
    },
    {
     "name": "stdout",
     "output_type": "stream",
     "text": [
      "processing;  /media/cat/4TBSSD/yuki/AQ2/tif_files/AQ2am_Mar22_Week3_30Hz/AQ2am_Mar22_Week3_30Hz_locanmf.npz  with lockout:  False\n"
     ]
    },
    {
     "name": "stderr",
     "output_type": "stream",
     "text": [
      "\n",
      "100%|██████████| 10/10 [00:08<00:00,  1.23it/s]\n"
     ]
    },
    {
     "name": "stdout",
     "output_type": "stream",
     "text": [
      " ....file not found, skippping  /media/cat/4TBSSD/yuki/AQ2/tif_files/AQ2am_Mar23_Week3_30Hz/AQ2am_Mar23_Week3_30Hz_locanmf.npz\n",
      "processing;  /media/cat/4TBSSD/yuki/AQ2/tif_files/AQ2am_Mar24_Week3_30Hz/AQ2am_Mar24_Week3_30Hz_locanmf.npz  with lockout:  False\n"
     ]
    },
    {
     "name": "stderr",
     "output_type": "stream",
     "text": [
      "100%|██████████| 10/10 [00:15<00:00,  1.57s/it]"
     ]
    },
    {
     "name": "stdout",
     "output_type": "stream",
     "text": [
      "processing;  /media/cat/4TBSSD/yuki/AQ2/tif_files/AQ2am_Mar29_Week4_30Hz/AQ2am_Mar29_Week4_30Hz_locanmf.npz  with lockout:  False\n"
     ]
    },
    {
     "name": "stderr",
     "output_type": "stream",
     "text": [
      "\n",
      "100%|██████████| 10/10 [00:10<00:00,  1.07s/it]"
     ]
    },
    {
     "name": "stdout",
     "output_type": "stream",
     "text": [
      "processing;  /media/cat/4TBSSD/yuki/AQ2/tif_files/AQ2am_Mar30_Week4_30Hz/AQ2am_Mar30_Week4_30Hz_locanmf.npz  with lockout:  False\n"
     ]
    },
    {
     "name": "stderr",
     "output_type": "stream",
     "text": [
      "\n",
      "100%|██████████| 10/10 [00:18<00:00,  1.81s/it]\n"
     ]
    },
    {
     "name": "stdout",
     "output_type": "stream",
     "text": [
      "processing;  /media/cat/4TBSSD/yuki/AQ2/tif_files/AQ2am_Mar31_Week4_30Hz/AQ2am_Mar31_Week4_30Hz_locanmf.npz  with lockout:  False\n"
     ]
    },
    {
     "name": "stderr",
     "output_type": "stream",
     "text": [
      "100%|██████████| 10/10 [00:13<00:00,  1.37s/it]"
     ]
    },
    {
     "name": "stdout",
     "output_type": "stream",
     "text": [
      "processing;  /media/cat/4TBSSD/yuki/AQ2/tif_files/AQ2am_Apr1_Week4_30Hz/AQ2am_Apr1_Week4_30Hz_locanmf.npz  with lockout:  False\n"
     ]
    },
    {
     "name": "stderr",
     "output_type": "stream",
     "text": [
      "\n",
      "100%|██████████| 10/10 [00:17<00:00,  1.73s/it]"
     ]
    },
    {
     "name": "stdout",
     "output_type": "stream",
     "text": [
      "processing;  /media/cat/4TBSSD/yuki/AQ2/tif_files/AQ2am_Apr4_Week5_30Hz/AQ2am_Apr4_Week5_30Hz_locanmf.npz  with lockout:  False\n"
     ]
    },
    {
     "name": "stderr",
     "output_type": "stream",
     "text": [
      "\n",
      "100%|██████████| 10/10 [00:16<00:00,  1.63s/it]"
     ]
    },
    {
     "name": "stdout",
     "output_type": "stream",
     "text": [
      "processing;  /media/cat/4TBSSD/yuki/AQ2/tif_files/AQ2am_Apr5_Week5_30Hz/AQ2am_Apr5_Week5_30Hz_locanmf.npz  with lockout:  False\n"
     ]
    },
    {
     "name": "stderr",
     "output_type": "stream",
     "text": [
      "\n",
      "100%|██████████| 10/10 [00:12<00:00,  1.23s/it]"
     ]
    },
    {
     "name": "stdout",
     "output_type": "stream",
     "text": [
      "processing;  /media/cat/4TBSSD/yuki/AQ2/tif_files/AQ2am_Apr6_Week5_30Hz/AQ2am_Apr6_Week5_30Hz_locanmf.npz  with lockout:  False\n"
     ]
    },
    {
     "name": "stderr",
     "output_type": "stream",
     "text": [
      "\n",
      "100%|██████████| 10/10 [00:14<00:00,  1.42s/it]"
     ]
    },
    {
     "name": "stdout",
     "output_type": "stream",
     "text": [
      "processing;  /media/cat/4TBSSD/yuki/AQ2/tif_files/AQ2am_Apr7_Week5_30Hz/AQ2am_Apr7_Week5_30Hz_locanmf.npz  with lockout:  False\n"
     ]
    },
    {
     "name": "stderr",
     "output_type": "stream",
     "text": [
      "\n",
      "100%|██████████| 10/10 [00:11<00:00,  1.15s/it]"
     ]
    },
    {
     "name": "stdout",
     "output_type": "stream",
     "text": [
      "processing;  /media/cat/4TBSSD/yuki/AQ2/tif_files/AQ2am_Apr8_Week5_30Hz/AQ2am_Apr8_Week5_30Hz_locanmf.npz  with lockout:  False\n"
     ]
    },
    {
     "name": "stderr",
     "output_type": "stream",
     "text": [
      "\n",
      "100%|██████████| 10/10 [00:12<00:00,  1.25s/it]"
     ]
    },
    {
     "name": "stdout",
     "output_type": "stream",
     "text": [
      "processing;  /media/cat/4TBSSD/yuki/AQ2/tif_files/AQ2am_Apr11_Week6_30Hz/AQ2am_Apr11_Week6_30Hz_locanmf.npz  with lockout:  False\n"
     ]
    },
    {
     "name": "stderr",
     "output_type": "stream",
     "text": [
      "\n",
      "100%|██████████| 10/10 [00:17<00:00,  1.78s/it]"
     ]
    },
    {
     "name": "stdout",
     "output_type": "stream",
     "text": [
      "processing;  /media/cat/4TBSSD/yuki/AQ2/tif_files/AQ2am_Apr12_Week6_30Hz/AQ2am_Apr12_Week6_30Hz_locanmf.npz  with lockout:  False\n"
     ]
    },
    {
     "name": "stderr",
     "output_type": "stream",
     "text": [
      "\n",
      "100%|██████████| 10/10 [00:11<00:00,  1.12s/it]"
     ]
    },
    {
     "name": "stdout",
     "output_type": "stream",
     "text": [
      " ....file not found, skippping  /media/cat/4TBSSD/yuki/AQ2/tif_files/AQ2am_Apr13_Week6_30Hz/AQ2am_Apr13_Week6_30Hz_locanmf.npz\n",
      "processing;  /media/cat/4TBSSD/yuki/AQ2/tif_files/AQ2am_Apr14_Week6_30Hz/AQ2am_Apr14_Week6_30Hz_locanmf.npz  with lockout:  False\n"
     ]
    },
    {
     "name": "stderr",
     "output_type": "stream",
     "text": [
      "\n",
      "100%|██████████| 10/10 [00:11<00:00,  1.15s/it]"
     ]
    },
    {
     "name": "stdout",
     "output_type": "stream",
     "text": [
      "processing;  /media/cat/4TBSSD/yuki/AQ2/tif_files/AQ2am_Apr15_Week6_30Hz/AQ2am_Apr15_Week6_30Hz_locanmf.npz  with lockout:  False\n"
     ]
    },
    {
     "name": "stderr",
     "output_type": "stream",
     "text": [
      "\n",
      "100%|██████████| 10/10 [00:10<00:00,  1.01s/it]\n"
     ]
    },
    {
     "name": "stdout",
     "output_type": "stream",
     "text": [
      "processing;  /media/cat/4TBSSD/yuki/AQ2/tif_files/AQ2am_Apr18_Week7_30Hz/AQ2am_Apr18_Week7_30Hz_locanmf.npz  with lockout:  False\n"
     ]
    },
    {
     "name": "stderr",
     "output_type": "stream",
     "text": [
      "100%|██████████| 10/10 [00:09<00:00,  1.06it/s]"
     ]
    },
    {
     "name": "stdout",
     "output_type": "stream",
     "text": [
      "processing;  /media/cat/4TBSSD/yuki/AQ2/tif_files/AQ2am_Apr19_Week7_30Hz/AQ2am_Apr19_Week7_30Hz_locanmf.npz  with lockout:  False\n"
     ]
    },
    {
     "name": "stderr",
     "output_type": "stream",
     "text": [
      "\n",
      "100%|██████████| 10/10 [00:08<00:00,  1.13it/s]"
     ]
    },
    {
     "name": "stdout",
     "output_type": "stream",
     "text": [
      "processing;  /media/cat/4TBSSD/yuki/AQ2/tif_files/AQ2am_Apr20_Week7_30Hz/AQ2am_Apr20_Week7_30Hz_locanmf.npz  with lockout:  False\n"
     ]
    },
    {
     "name": "stderr",
     "output_type": "stream",
     "text": [
      "\n",
      "100%|██████████| 10/10 [00:08<00:00,  1.18it/s]"
     ]
    },
    {
     "name": "stdout",
     "output_type": "stream",
     "text": [
      "processing;  /media/cat/4TBSSD/yuki/AQ2/tif_files/AQ2am_Apr21_Week7_30Hz/AQ2am_Apr21_Week7_30Hz_locanmf.npz  with lockout:  False\n"
     ]
    },
    {
     "name": "stderr",
     "output_type": "stream",
     "text": [
      "\n",
      "100%|██████████| 10/10 [00:06<00:00,  1.44it/s]"
     ]
    },
    {
     "name": "stdout",
     "output_type": "stream",
     "text": [
      "processing;  /media/cat/4TBSSD/yuki/AQ2/tif_files/AQ2am_Apr22_Week7_30Hz/AQ2am_Apr22_Week7_30Hz_locanmf.npz  with lockout:  False\n"
     ]
    },
    {
     "name": "stderr",
     "output_type": "stream",
     "text": [
      "\n",
      "100%|██████████| 10/10 [00:14<00:00,  1.42s/it]\n"
     ]
    },
    {
     "name": "stdout",
     "output_type": "stream",
     "text": [
      "processing;  /media/cat/4TBSSD/yuki/AQ2/tif_files/AQ2am_Apr25_Week8_30Hz/AQ2am_Apr25_Week8_30Hz_locanmf.npz  with lockout:  False\n"
     ]
    },
    {
     "name": "stderr",
     "output_type": "stream",
     "text": [
      "100%|██████████| 10/10 [00:13<00:00,  1.33s/it]"
     ]
    },
    {
     "name": "stdout",
     "output_type": "stream",
     "text": [
      "processing;  /media/cat/4TBSSD/yuki/AQ2/tif_files/AQ2am_Apr26_Week8_30Hz/AQ2am_Apr26_Week8_30Hz_locanmf.npz  with lockout:  False\n"
     ]
    },
    {
     "name": "stderr",
     "output_type": "stream",
     "text": [
      "\n",
      "100%|██████████| 10/10 [00:13<00:00,  1.38s/it]"
     ]
    },
    {
     "name": "stdout",
     "output_type": "stream",
     "text": [
      "processing;  /media/cat/4TBSSD/yuki/AQ2/tif_files/AQ2am_Apr27_Week8_30Hz/AQ2am_Apr27_Week8_30Hz_locanmf.npz  with lockout:  False\n"
     ]
    },
    {
     "name": "stderr",
     "output_type": "stream",
     "text": [
      "\n",
      "100%|██████████| 10/10 [00:17<00:00,  1.71s/it]"
     ]
    },
    {
     "name": "stdout",
     "output_type": "stream",
     "text": [
      "processing;  /media/cat/4TBSSD/yuki/AQ2/tif_files/AQ2am_Apr28_Week8_30Hz/AQ2am_Apr28_Week8_30Hz_locanmf.npz  with lockout:  False\n"
     ]
    },
    {
     "name": "stderr",
     "output_type": "stream",
     "text": [
      "\n",
      "100%|██████████| 10/10 [00:10<00:00,  1.05s/it]"
     ]
    },
    {
     "name": "stdout",
     "output_type": "stream",
     "text": [
      "processing;  /media/cat/4TBSSD/yuki/AQ2/tif_files/AQ2am_Apr29_Week8_30Hz/AQ2am_Apr29_Week8_30Hz_locanmf.npz  with lockout:  False\n"
     ]
    },
    {
     "name": "stderr",
     "output_type": "stream",
     "text": [
      "\n",
      "100%|██████████| 10/10 [00:09<00:00,  1.01it/s]"
     ]
    },
    {
     "name": "stdout",
     "output_type": "stream",
     "text": [
      "DONE predicting SVM on animal:  AQ2\n",
      " ....file not found, skippping  /media/cat/4TBSSD/yuki/AQ2/tif_files/AQ2am_Dec9_30Hz/AQ2am_Dec9_30Hz_locanmf.npz\n",
      " ....file not found, skippping  /media/cat/4TBSSD/yuki/AQ2/tif_files/AQ2am_Dec10_30Hz/AQ2am_Dec10_30Hz_locanmf.npz\n",
      " ....file not found, skippping  /media/cat/4TBSSD/yuki/AQ2/tif_files/AQ2pm_Dec10_30Hz/AQ2pm_Dec10_30Hz_locanmf.npz\n",
      " ....file not found, skippping  /media/cat/4TBSSD/yuki/AQ2/tif_files/AQ2am_Dec11_30Hz/AQ2am_Dec11_30Hz_locanmf.npz\n",
      "    Skipping too few trials less than  10\n",
      " ....file not found, skippping  /media/cat/4TBSSD/yuki/AQ2/tif_files/AQ2am_Dec14_30Hz/AQ2am_Dec14_30Hz_locanmf.npz\n",
      "processing;  /media/cat/4TBSSD/yuki/AQ2/tif_files/AQ2pm_Dec16_30Hz/AQ2pm_Dec16_30Hz_locanmf.npz  with lockout:  False\n"
     ]
    },
    {
     "name": "stderr",
     "output_type": "stream",
     "text": [
      "\n",
      "100%|██████████| 10/10 [00:05<00:00,  1.91it/s]"
     ]
    },
    {
     "name": "stdout",
     "output_type": "stream",
     "text": [
      "processing;  /media/cat/4TBSSD/yuki/AQ2/tif_files/AQ2am_Dec17_30Hz/AQ2am_Dec17_30Hz_locanmf.npz  with lockout:  False\n"
     ]
    },
    {
     "name": "stderr",
     "output_type": "stream",
     "text": [
      "\n",
      "100%|██████████| 10/10 [00:05<00:00,  1.99it/s]"
     ]
    },
    {
     "name": "stdout",
     "output_type": "stream",
     "text": [
      " ....file not found, skippping  /media/cat/4TBSSD/yuki/AQ2/tif_files/AQ2pm_Dec17_30Hz/AQ2pm_Dec17_30Hz_locanmf.npz\n",
      " ....file not found, skippping  /media/cat/4TBSSD/yuki/AQ2/tif_files/AQ2am_Dec18_30Hz/AQ2am_Dec18_30Hz_locanmf.npz\n",
      " ....file not found, skippping  /media/cat/4TBSSD/yuki/AQ2/tif_files/AQ2pm_Dec18_30Hz/AQ2pm_Dec18_30Hz_locanmf.npz\n",
      " ....file not found, skippping  /media/cat/4TBSSD/yuki/AQ2/tif_files/AQ2am_Dec21_30Hz/AQ2am_Dec21_30Hz_locanmf.npz\n",
      " ....file not found, skippping  /media/cat/4TBSSD/yuki/AQ2/tif_files/AQ2am_Dec22_30Hz/AQ2am_Dec22_30Hz_locanmf.npz\n",
      " ....file not found, skippping  /media/cat/4TBSSD/yuki/AQ2/tif_files/AQ2am_Dec23_30Hz/AQ2am_Dec23_30Hz_locanmf.npz\n",
      "processing;  /media/cat/4TBSSD/yuki/AQ2/tif_files/AQ2am_Dec28_30Hz/AQ2am_Dec28_30Hz_locanmf.npz  with lockout:  False\n"
     ]
    },
    {
     "name": "stderr",
     "output_type": "stream",
     "text": [
      "\n",
      "100%|██████████| 10/10 [00:05<00:00,  1.93it/s]"
     ]
    },
    {
     "name": "stdout",
     "output_type": "stream",
     "text": [
      "processing;  /media/cat/4TBSSD/yuki/AQ2/tif_files/AQ2am_Dec29_30Hz/AQ2am_Dec29_30Hz_locanmf.npz  with lockout:  False\n"
     ]
    },
    {
     "name": "stderr",
     "output_type": "stream",
     "text": [
      "\n",
      "100%|██████████| 10/10 [00:05<00:00,  1.75it/s]"
     ]
    },
    {
     "name": "stdout",
     "output_type": "stream",
     "text": [
      " ....file not found, skippping  /media/cat/4TBSSD/yuki/AQ2/tif_files/AQ2am_Dec30_30Hz/AQ2am_Dec30_30Hz_locanmf.npz\n",
      "processing;  /media/cat/4TBSSD/yuki/AQ2/tif_files/AQ2am_Dec31_30Hz/AQ2am_Dec31_30Hz_locanmf.npz  with lockout:  False\n"
     ]
    },
    {
     "name": "stderr",
     "output_type": "stream",
     "text": [
      "\n",
      "100%|██████████| 10/10 [00:08<00:00,  1.25it/s]"
     ]
    },
    {
     "name": "stdout",
     "output_type": "stream",
     "text": [
      "processing;  /media/cat/4TBSSD/yuki/AQ2/tif_files/AQ2am_Jan4_30Hz/AQ2am_Jan4_30Hz_locanmf.npz  with lockout:  False\n"
     ]
    },
    {
     "name": "stderr",
     "output_type": "stream",
     "text": [
      "\n",
      "100%|██████████| 10/10 [00:06<00:00,  1.44it/s]"
     ]
    },
    {
     "name": "stdout",
     "output_type": "stream",
     "text": [
      "processing;  /media/cat/4TBSSD/yuki/AQ2/tif_files/AQ2am_Jan5_30Hz/AQ2am_Jan5_30Hz_locanmf.npz  with lockout:  False\n"
     ]
    },
    {
     "name": "stderr",
     "output_type": "stream",
     "text": [
      "\n",
      "100%|██████████| 10/10 [00:06<00:00,  1.46it/s]"
     ]
    },
    {
     "name": "stdout",
     "output_type": "stream",
     "text": [
      "processing;  /media/cat/4TBSSD/yuki/AQ2/tif_files/AQ2am_Jan6_30Hz/AQ2am_Jan6_30Hz_locanmf.npz  with lockout:  False\n"
     ]
    },
    {
     "name": "stderr",
     "output_type": "stream",
     "text": [
      "\n",
      "100%|██████████| 10/10 [00:07<00:00,  1.32it/s]"
     ]
    },
    {
     "name": "stdout",
     "output_type": "stream",
     "text": [
      " ....file not found, skippping  /media/cat/4TBSSD/yuki/AQ2/tif_files/AQ2am_Jan7_30Hz/AQ2am_Jan7_30Hz_locanmf.npz\n",
      "processing;  /media/cat/4TBSSD/yuki/AQ2/tif_files/AQ2am_Jan8_30Hz/AQ2am_Jan8_30Hz_locanmf.npz  with lockout:  False\n"
     ]
    },
    {
     "name": "stderr",
     "output_type": "stream",
     "text": [
      "\n",
      "100%|██████████| 10/10 [00:05<00:00,  1.94it/s]"
     ]
    },
    {
     "name": "stdout",
     "output_type": "stream",
     "text": [
      "processing;  /media/cat/4TBSSD/yuki/AQ2/tif_files/AQ2pm_Jan11_30Hz/AQ2pm_Jan11_30Hz_locanmf.npz  with lockout:  False\n"
     ]
    },
    {
     "name": "stderr",
     "output_type": "stream",
     "text": [
      "\n",
      "100%|██████████| 10/10 [00:04<00:00,  2.11it/s]"
     ]
    },
    {
     "name": "stdout",
     "output_type": "stream",
     "text": [
      " ....file not found, skippping  /media/cat/4TBSSD/yuki/AQ2/tif_files/AQ2am_Jan11_30Hz/AQ2am_Jan11_30Hz_locanmf.npz\n",
      " ....file not found, skippping  /media/cat/4TBSSD/yuki/AQ2/tif_files/AQ2pm_Jan12_30Hz/AQ2pm_Jan12_30Hz_locanmf.npz\n",
      " ....file not found, skippping  /media/cat/4TBSSD/yuki/AQ2/tif_files/AQ2am_Jan12_30Hz/AQ2am_Jan12_30Hz_locanmf.npz\n",
      "processing;  /media/cat/4TBSSD/yuki/AQ2/tif_files/AQ2pm_Jan13_30Hz/AQ2pm_Jan13_30Hz_locanmf.npz  with lockout:  False\n"
     ]
    },
    {
     "name": "stderr",
     "output_type": "stream",
     "text": [
      "\n",
      "100%|██████████| 10/10 [00:05<00:00,  1.73it/s]"
     ]
    },
    {
     "name": "stdout",
     "output_type": "stream",
     "text": [
      "processing;  /media/cat/4TBSSD/yuki/AQ2/tif_files/AQ2am_Jan13_30Hz/AQ2am_Jan13_30Hz_locanmf.npz  with lockout:  False\n"
     ]
    },
    {
     "name": "stderr",
     "output_type": "stream",
     "text": [
      "\n",
      "100%|██████████| 10/10 [00:07<00:00,  1.41it/s]"
     ]
    },
    {
     "name": "stdout",
     "output_type": "stream",
     "text": [
      "processing;  /media/cat/4TBSSD/yuki/AQ2/tif_files/AQ2pm_Jan14_30Hz/AQ2pm_Jan14_30Hz_locanmf.npz  with lockout:  False\n"
     ]
    },
    {
     "name": "stderr",
     "output_type": "stream",
     "text": [
      "\n",
      "100%|██████████| 10/10 [00:05<00:00,  1.67it/s]"
     ]
    },
    {
     "name": "stdout",
     "output_type": "stream",
     "text": [
      "processing;  /media/cat/4TBSSD/yuki/AQ2/tif_files/AQ2am_Jan14_30Hz/AQ2am_Jan14_30Hz_locanmf.npz  with lockout:  False\n"
     ]
    },
    {
     "name": "stderr",
     "output_type": "stream",
     "text": [
      "\n",
      "100%|██████████| 10/10 [00:06<00:00,  1.63it/s]"
     ]
    },
    {
     "name": "stdout",
     "output_type": "stream",
     "text": [
      "processing;  /media/cat/4TBSSD/yuki/AQ2/tif_files/AQ2am_Jan15_30Hz/AQ2am_Jan15_30Hz_locanmf.npz  with lockout:  False\n"
     ]
    },
    {
     "name": "stderr",
     "output_type": "stream",
     "text": [
      "\n",
      "100%|██████████| 10/10 [00:05<00:00,  1.94it/s]"
     ]
    },
    {
     "name": "stdout",
     "output_type": "stream",
     "text": [
      "processing;  /media/cat/4TBSSD/yuki/AQ2/tif_files/AQ2pm_Jan15_30Hz/AQ2pm_Jan15_30Hz_locanmf.npz  with lockout:  False\n"
     ]
    },
    {
     "name": "stderr",
     "output_type": "stream",
     "text": [
      "\n",
      "100%|██████████| 10/10 [00:08<00:00,  1.14it/s]"
     ]
    },
    {
     "name": "stdout",
     "output_type": "stream",
     "text": [
      " ....file not found, skippping  /media/cat/4TBSSD/yuki/AQ2/tif_files/AQ2pm_Jan18_30Hz/AQ2pm_Jan18_30Hz_locanmf.npz\n",
      "processing;  /media/cat/4TBSSD/yuki/AQ2/tif_files/AQ2am_Jan18_30Hz/AQ2am_Jan18_30Hz_locanmf.npz  with lockout:  False\n"
     ]
    },
    {
     "name": "stderr",
     "output_type": "stream",
     "text": [
      "\n",
      "100%|██████████| 10/10 [00:04<00:00,  2.09it/s]"
     ]
    },
    {
     "name": "stdout",
     "output_type": "stream",
     "text": [
      " ....file not found, skippping  /media/cat/4TBSSD/yuki/AQ2/tif_files/AQ2am_Jan19_30Hz/AQ2am_Jan19_30Hz_locanmf.npz\n",
      " ....file not found, skippping  /media/cat/4TBSSD/yuki/AQ2/tif_files/AQ2pm_Jan19_30Hz/AQ2pm_Jan19_30Hz_locanmf.npz\n",
      " ....file not found, skippping  /media/cat/4TBSSD/yuki/AQ2/tif_files/AQ2pm_Jan20_30Hz/AQ2pm_Jan20_30Hz_locanmf.npz\n",
      " ....file not found, skippping  /media/cat/4TBSSD/yuki/AQ2/tif_files/AQ2am_Jan20_30Hz/AQ2am_Jan20_30Hz_locanmf.npz\n",
      " ....file not found, skippping  /media/cat/4TBSSD/yuki/AQ2/tif_files/AQ2pm_Jan21_30Hz/AQ2pm_Jan21_30Hz_locanmf.npz\n",
      " ....file not found, skippping  /media/cat/4TBSSD/yuki/AQ2/tif_files/AQ2am_Jan21_30Hz/AQ2am_Jan21_30Hz_locanmf.npz\n",
      " ....file not found, skippping  /media/cat/4TBSSD/yuki/AQ2/tif_files/AQ2pm_Jan22_30Hz/AQ2pm_Jan22_30Hz_locanmf.npz\n",
      " ....file not found, skippping  /media/cat/4TBSSD/yuki/AQ2/tif_files/AQ2am_Jan22_30Hz/AQ2am_Jan22_30Hz_locanmf.npz\n",
      " ....file not found, skippping  /media/cat/4TBSSD/yuki/AQ2/tif_files/AQ2am_Jan25_30Hz/AQ2am_Jan25_30Hz_locanmf.npz\n",
      " ....file not found, skippping  /media/cat/4TBSSD/yuki/AQ2/tif_files/AQ2pm_Jan25_30Hz/AQ2pm_Jan25_30Hz_locanmf.npz\n",
      " ....file not found, skippping  /media/cat/4TBSSD/yuki/AQ2/tif_files/AQ2pm_Jan26_30Hz/AQ2pm_Jan26_30Hz_locanmf.npz\n",
      " ....file not found, skippping  /media/cat/4TBSSD/yuki/AQ2/tif_files/AQ2am_Jan26_30Hz/AQ2am_Jan26_30Hz_locanmf.npz\n",
      " ....file not found, skippping  /media/cat/4TBSSD/yuki/AQ2/tif_files/AQ2am_Jan27_30Hz/AQ2am_Jan27_30Hz_locanmf.npz\n",
      "processing;  /media/cat/4TBSSD/yuki/AQ2/tif_files/AQ2pm_Jan27_30Hz/AQ2pm_Jan27_30Hz_locanmf.npz  with lockout:  False\n"
     ]
    },
    {
     "name": "stderr",
     "output_type": "stream",
     "text": [
      "\n",
      "100%|██████████| 10/10 [00:07<00:00,  1.37it/s]"
     ]
    },
    {
     "name": "stdout",
     "output_type": "stream",
     "text": [
      "processing;  /media/cat/4TBSSD/yuki/AQ2/tif_files/AQ2am_Jan28_30Hz/AQ2am_Jan28_30Hz_locanmf.npz  with lockout:  False\n"
     ]
    },
    {
     "name": "stderr",
     "output_type": "stream",
     "text": [
      "\n",
      "100%|██████████| 10/10 [00:06<00:00,  1.53it/s]"
     ]
    },
    {
     "name": "stdout",
     "output_type": "stream",
     "text": [
      "processing;  /media/cat/4TBSSD/yuki/AQ2/tif_files/AQ2pm_Jan28_30Hz/AQ2pm_Jan28_30Hz_locanmf.npz  with lockout:  False\n"
     ]
    },
    {
     "name": "stderr",
     "output_type": "stream",
     "text": [
      "\n",
      "100%|██████████| 10/10 [00:07<00:00,  1.29it/s]"
     ]
    },
    {
     "name": "stdout",
     "output_type": "stream",
     "text": [
      "processing;  /media/cat/4TBSSD/yuki/AQ2/tif_files/AQ2am_Jan29_30Hz/AQ2am_Jan29_30Hz_locanmf.npz  with lockout:  False\n"
     ]
    },
    {
     "name": "stderr",
     "output_type": "stream",
     "text": [
      "\n",
      "100%|██████████| 10/10 [00:06<00:00,  1.61it/s]"
     ]
    },
    {
     "name": "stdout",
     "output_type": "stream",
     "text": [
      "processing;  /media/cat/4TBSSD/yuki/AQ2/tif_files/AQ2pm_Jan29_30Hz/AQ2pm_Jan29_30Hz_locanmf.npz  with lockout:  False\n"
     ]
    },
    {
     "name": "stderr",
     "output_type": "stream",
     "text": [
      "\n",
      "100%|██████████| 10/10 [00:06<00:00,  1.44it/s]"
     ]
    },
    {
     "name": "stdout",
     "output_type": "stream",
     "text": [
      "processing;  /media/cat/4TBSSD/yuki/AQ2/tif_files/AQ2am_Feb2_30Hz/AQ2am_Feb2_30Hz_locanmf.npz  with lockout:  False\n"
     ]
    },
    {
     "name": "stderr",
     "output_type": "stream",
     "text": [
      "\n",
      "100%|██████████| 10/10 [00:08<00:00,  1.19it/s]"
     ]
    },
    {
     "name": "stdout",
     "output_type": "stream",
     "text": [
      "processing;  /media/cat/4TBSSD/yuki/AQ2/tif_files/AQ2am_Feb3_30Hz/AQ2am_Feb3_30Hz_locanmf.npz  with lockout:  False\n"
     ]
    },
    {
     "name": "stderr",
     "output_type": "stream",
     "text": [
      "\n",
      "100%|██████████| 10/10 [00:09<00:00,  1.05it/s]"
     ]
    },
    {
     "name": "stdout",
     "output_type": "stream",
     "text": [
      "processing;  /media/cat/4TBSSD/yuki/AQ2/tif_files/AQ2am_Feb4_30Hz/AQ2am_Feb4_30Hz_locanmf.npz  with lockout:  False\n"
     ]
    },
    {
     "name": "stderr",
     "output_type": "stream",
     "text": [
      "\n",
      "100%|██████████| 10/10 [00:04<00:00,  2.03it/s]"
     ]
    },
    {
     "name": "stdout",
     "output_type": "stream",
     "text": [
      "processing;  /media/cat/4TBSSD/yuki/AQ2/tif_files/AQ2am_Feb5_30Hz/AQ2am_Feb5_30Hz_locanmf.npz  with lockout:  False\n"
     ]
    },
    {
     "name": "stderr",
     "output_type": "stream",
     "text": [
      "\n",
      "100%|██████████| 10/10 [00:09<00:00,  1.09it/s]"
     ]
    },
    {
     "name": "stdout",
     "output_type": "stream",
     "text": [
      "processing;  /media/cat/4TBSSD/yuki/AQ2/tif_files/AQ2am_Feb9_30Hz/AQ2am_Feb9_30Hz_locanmf.npz  with lockout:  False\n"
     ]
    },
    {
     "name": "stderr",
     "output_type": "stream",
     "text": [
      "\n",
      "100%|██████████| 10/10 [00:11<00:00,  1.10s/it]"
     ]
    },
    {
     "name": "stdout",
     "output_type": "stream",
     "text": [
      "processing;  /media/cat/4TBSSD/yuki/AQ2/tif_files/AQ2am_Feb10_30Hz/AQ2am_Feb10_30Hz_locanmf.npz  with lockout:  False\n"
     ]
    },
    {
     "name": "stderr",
     "output_type": "stream",
     "text": [
      "\n",
      "100%|██████████| 10/10 [00:10<00:00,  1.09s/it]"
     ]
    },
    {
     "name": "stdout",
     "output_type": "stream",
     "text": [
      "processing;  /media/cat/4TBSSD/yuki/AQ2/tif_files/AQ2am_Feb11_30Hz/AQ2am_Feb11_30Hz_locanmf.npz  with lockout:  False\n"
     ]
    },
    {
     "name": "stderr",
     "output_type": "stream",
     "text": [
      "\n",
      "100%|██████████| 10/10 [00:15<00:00,  1.55s/it]\n"
     ]
    },
    {
     "name": "stdout",
     "output_type": "stream",
     "text": [
      "processing;  /media/cat/4TBSSD/yuki/AQ2/tif_files/AQ2am_Feb12_30Hz/AQ2am_Feb12_30Hz_locanmf.npz  with lockout:  False\n"
     ]
    },
    {
     "name": "stderr",
     "output_type": "stream",
     "text": [
      "100%|██████████| 10/10 [00:23<00:00,  2.36s/it]"
     ]
    },
    {
     "name": "stdout",
     "output_type": "stream",
     "text": [
      "processing;  /media/cat/4TBSSD/yuki/AQ2/tif_files/AQ2am_Feb15_30Hz/AQ2am_Feb15_30Hz_locanmf.npz  with lockout:  False\n"
     ]
    },
    {
     "name": "stderr",
     "output_type": "stream",
     "text": [
      "\n",
      "100%|██████████| 10/10 [00:21<00:00,  2.12s/it]"
     ]
    },
    {
     "name": "stdout",
     "output_type": "stream",
     "text": [
      "processing;  /media/cat/4TBSSD/yuki/AQ2/tif_files/AQ2am_Feb16_30Hz/AQ2am_Feb16_30Hz_locanmf.npz  with lockout:  False\n"
     ]
    },
    {
     "name": "stderr",
     "output_type": "stream",
     "text": [
      "\n",
      "100%|██████████| 10/10 [00:19<00:00,  1.91s/it]"
     ]
    },
    {
     "name": "stdout",
     "output_type": "stream",
     "text": [
      "processing;  /media/cat/4TBSSD/yuki/AQ2/tif_files/AQ2am_Feb17_30Hz/AQ2am_Feb17_30Hz_locanmf.npz  with lockout:  False\n"
     ]
    },
    {
     "name": "stderr",
     "output_type": "stream",
     "text": [
      "\n",
      "100%|██████████| 10/10 [00:12<00:00,  1.26s/it]"
     ]
    },
    {
     "name": "stdout",
     "output_type": "stream",
     "text": [
      " ....file not found, skippping  /media/cat/4TBSSD/yuki/AQ2/tif_files/AQ2am_Feb18_30Hz/AQ2am_Feb18_30Hz_locanmf.npz\n",
      "processing;  /media/cat/4TBSSD/yuki/AQ2/tif_files/AQ2am_Feb19_30Hz/AQ2am_Feb19_30Hz_locanmf.npz  with lockout:  False\n"
     ]
    },
    {
     "name": "stderr",
     "output_type": "stream",
     "text": [
      "\n",
      "100%|██████████| 10/10 [00:11<00:00,  1.18s/it]"
     ]
    },
    {
     "name": "stdout",
     "output_type": "stream",
     "text": [
      "processing;  /media/cat/4TBSSD/yuki/AQ2/tif_files/AQ2am_Feb22_30Hz/AQ2am_Feb22_30Hz_locanmf.npz  with lockout:  False\n"
     ]
    },
    {
     "name": "stderr",
     "output_type": "stream",
     "text": [
      "\n",
      "100%|██████████| 10/10 [00:17<00:00,  1.75s/it]"
     ]
    },
    {
     "name": "stdout",
     "output_type": "stream",
     "text": [
      " ....file not found, skippping  /media/cat/4TBSSD/yuki/AQ2/tif_files/AQ2am_Feb23_30Hz/AQ2am_Feb23_30Hz_locanmf.npz\n",
      " ....file not found, skippping  /media/cat/4TBSSD/yuki/AQ2/tif_files/AQ2am_Feb25_30Hz/AQ2am_Feb25_30Hz_locanmf.npz\n",
      "processing;  /media/cat/4TBSSD/yuki/AQ2/tif_files/AQ2am_Feb26_30Hz/AQ2am_Feb26_30Hz_locanmf.npz  with lockout:  False\n"
     ]
    },
    {
     "name": "stderr",
     "output_type": "stream",
     "text": [
      "\n",
      "100%|██████████| 10/10 [00:11<00:00,  1.10s/it]"
     ]
    },
    {
     "name": "stdout",
     "output_type": "stream",
     "text": [
      "processing;  /media/cat/4TBSSD/yuki/AQ2/tif_files/AQ2am_Feb29_30Hz/AQ2am_Feb29_30Hz_locanmf.npz  with lockout:  False\n"
     ]
    },
    {
     "name": "stderr",
     "output_type": "stream",
     "text": [
      "\n",
      "100%|██████████| 10/10 [00:10<00:00,  1.07s/it]"
     ]
    },
    {
     "name": "stdout",
     "output_type": "stream",
     "text": [
      "processing;  /media/cat/4TBSSD/yuki/AQ2/tif_files/AQ2am_Mar1_30Hz/AQ2am_Mar1_30Hz_locanmf.npz  with lockout:  False\n"
     ]
    },
    {
     "name": "stderr",
     "output_type": "stream",
     "text": [
      "\n",
      "100%|██████████| 10/10 [00:14<00:00,  1.48s/it]"
     ]
    },
    {
     "name": "stdout",
     "output_type": "stream",
     "text": [
      " ....file not found, skippping  /media/cat/4TBSSD/yuki/AQ2/tif_files/AQ2am_Mar2_30Hz/AQ2am_Mar2_30Hz_locanmf.npz\n",
      "processing;  /media/cat/4TBSSD/yuki/AQ2/tif_files/AQ2am_Mar3_30Hz/AQ2am_Mar3_30Hz_locanmf.npz  with lockout:  False\n"
     ]
    },
    {
     "name": "stderr",
     "output_type": "stream",
     "text": [
      "\n",
      "100%|██████████| 10/10 [00:15<00:00,  1.54s/it]"
     ]
    },
    {
     "name": "stdout",
     "output_type": "stream",
     "text": [
      "processing;  /media/cat/4TBSSD/yuki/AQ2/tif_files/AQ2pm_Mar7_Day3_30Hz/AQ2pm_Mar7_Day3_30Hz_locanmf.npz  with lockout:  False\n"
     ]
    },
    {
     "name": "stderr",
     "output_type": "stream",
     "text": [
      "\n",
      "100%|██████████| 10/10 [00:13<00:00,  1.31s/it]"
     ]
    },
    {
     "name": "stdout",
     "output_type": "stream",
     "text": [
      " ....file not found, skippping  /media/cat/4TBSSD/yuki/AQ2/tif_files/AQ2pm_Mar9_Day5_30Hz/AQ2pm_Mar9_Day5_30Hz_locanmf.npz\n",
      "processing;  /media/cat/4TBSSD/yuki/AQ2/tif_files/AQ2pm_Mar11_Day7_30Hz/AQ2pm_Mar11_Day7_30Hz_locanmf.npz  with lockout:  False\n"
     ]
    },
    {
     "name": "stderr",
     "output_type": "stream",
     "text": [
      "\n",
      "100%|██████████| 10/10 [00:12<00:00,  1.21s/it]\n"
     ]
    },
    {
     "name": "stdout",
     "output_type": "stream",
     "text": [
      "processing;  /media/cat/4TBSSD/yuki/AQ2/tif_files/AQ2am_Mar14_Week2_30Hz/AQ2am_Mar14_Week2_30Hz_locanmf.npz  with lockout:  False\n"
     ]
    },
    {
     "name": "stderr",
     "output_type": "stream",
     "text": [
      "100%|██████████| 10/10 [00:12<00:00,  1.27s/it]"
     ]
    },
    {
     "name": "stdout",
     "output_type": "stream",
     "text": [
      "processing;  /media/cat/4TBSSD/yuki/AQ2/tif_files/AQ2pm_Mar15_Week2_30Hz/AQ2pm_Mar15_Week2_30Hz_locanmf.npz  with lockout:  False\n"
     ]
    },
    {
     "name": "stderr",
     "output_type": "stream",
     "text": [
      "\n",
      "100%|██████████| 10/10 [00:18<00:00,  1.84s/it]"
     ]
    },
    {
     "name": "stdout",
     "output_type": "stream",
     "text": [
      " ....file not found, skippping  /media/cat/4TBSSD/yuki/AQ2/tif_files/AQ2am_Mar16_Week2_30Hz/AQ2am_Mar16_Week2_30Hz_locanmf.npz\n",
      "processing;  /media/cat/4TBSSD/yuki/AQ2/tif_files/AQ2am_Mar17_Week2_30Hz/AQ2am_Mar17_Week2_30Hz_locanmf.npz  with lockout:  False\n"
     ]
    },
    {
     "name": "stderr",
     "output_type": "stream",
     "text": [
      "\n",
      "100%|██████████| 10/10 [00:12<00:00,  1.30s/it]"
     ]
    },
    {
     "name": "stdout",
     "output_type": "stream",
     "text": [
      "processing;  /media/cat/4TBSSD/yuki/AQ2/tif_files/AQ2am_Mar18_Week2_30Hz/AQ2am_Mar18_Week2_30Hz_locanmf.npz  with lockout:  False\n"
     ]
    },
    {
     "name": "stderr",
     "output_type": "stream",
     "text": [
      "\n",
      "100%|██████████| 10/10 [00:17<00:00,  1.76s/it]"
     ]
    },
    {
     "name": "stdout",
     "output_type": "stream",
     "text": [
      "processing;  /media/cat/4TBSSD/yuki/AQ2/tif_files/AQ2am_Mar21_Week3_30Hz/AQ2am_Mar21_Week3_30Hz_locanmf.npz  with lockout:  False\n"
     ]
    },
    {
     "name": "stderr",
     "output_type": "stream",
     "text": [
      "\n",
      "100%|██████████| 10/10 [00:06<00:00,  1.52it/s]"
     ]
    },
    {
     "name": "stdout",
     "output_type": "stream",
     "text": [
      "processing;  /media/cat/4TBSSD/yuki/AQ2/tif_files/AQ2am_Mar22_Week3_30Hz/AQ2am_Mar22_Week3_30Hz_locanmf.npz  with lockout:  False\n"
     ]
    },
    {
     "name": "stderr",
     "output_type": "stream",
     "text": [
      "\n",
      "100%|██████████| 10/10 [00:08<00:00,  1.24it/s]\n"
     ]
    },
    {
     "name": "stdout",
     "output_type": "stream",
     "text": [
      " ....file not found, skippping  /media/cat/4TBSSD/yuki/AQ2/tif_files/AQ2am_Mar23_Week3_30Hz/AQ2am_Mar23_Week3_30Hz_locanmf.npz\n",
      "processing;  /media/cat/4TBSSD/yuki/AQ2/tif_files/AQ2am_Mar24_Week3_30Hz/AQ2am_Mar24_Week3_30Hz_locanmf.npz  with lockout:  False\n"
     ]
    },
    {
     "name": "stderr",
     "output_type": "stream",
     "text": [
      "100%|██████████| 10/10 [00:15<00:00,  1.55s/it]"
     ]
    },
    {
     "name": "stdout",
     "output_type": "stream",
     "text": [
      "processing;  /media/cat/4TBSSD/yuki/AQ2/tif_files/AQ2am_Mar29_Week4_30Hz/AQ2am_Mar29_Week4_30Hz_locanmf.npz  with lockout:  False\n"
     ]
    },
    {
     "name": "stderr",
     "output_type": "stream",
     "text": [
      "\n",
      "100%|██████████| 10/10 [00:10<00:00,  1.08s/it]"
     ]
    },
    {
     "name": "stdout",
     "output_type": "stream",
     "text": [
      "processing;  /media/cat/4TBSSD/yuki/AQ2/tif_files/AQ2am_Mar30_Week4_30Hz/AQ2am_Mar30_Week4_30Hz_locanmf.npz  with lockout:  False\n"
     ]
    },
    {
     "name": "stderr",
     "output_type": "stream",
     "text": [
      "\n",
      "100%|██████████| 10/10 [00:18<00:00,  1.82s/it]"
     ]
    },
    {
     "name": "stdout",
     "output_type": "stream",
     "text": [
      "processing;  /media/cat/4TBSSD/yuki/AQ2/tif_files/AQ2am_Mar31_Week4_30Hz/AQ2am_Mar31_Week4_30Hz_locanmf.npz  with lockout:  False\n"
     ]
    },
    {
     "name": "stderr",
     "output_type": "stream",
     "text": [
      "\n",
      "100%|██████████| 10/10 [00:13<00:00,  1.36s/it]"
     ]
    },
    {
     "name": "stdout",
     "output_type": "stream",
     "text": [
      "processing;  /media/cat/4TBSSD/yuki/AQ2/tif_files/AQ2am_Apr1_Week4_30Hz/AQ2am_Apr1_Week4_30Hz_locanmf.npz  with lockout:  False\n"
     ]
    },
    {
     "name": "stderr",
     "output_type": "stream",
     "text": [
      "\n",
      "100%|██████████| 10/10 [00:16<00:00,  1.68s/it]"
     ]
    },
    {
     "name": "stdout",
     "output_type": "stream",
     "text": [
      "processing;  /media/cat/4TBSSD/yuki/AQ2/tif_files/AQ2am_Apr4_Week5_30Hz/AQ2am_Apr4_Week5_30Hz_locanmf.npz  with lockout:  False\n"
     ]
    },
    {
     "name": "stderr",
     "output_type": "stream",
     "text": [
      "\n",
      "100%|██████████| 10/10 [00:16<00:00,  1.61s/it]\n"
     ]
    },
    {
     "name": "stdout",
     "output_type": "stream",
     "text": [
      "processing;  /media/cat/4TBSSD/yuki/AQ2/tif_files/AQ2am_Apr5_Week5_30Hz/AQ2am_Apr5_Week5_30Hz_locanmf.npz  with lockout:  False\n"
     ]
    },
    {
     "name": "stderr",
     "output_type": "stream",
     "text": [
      "100%|██████████| 10/10 [00:12<00:00,  1.21s/it]\n"
     ]
    },
    {
     "name": "stdout",
     "output_type": "stream",
     "text": [
      "processing;  /media/cat/4TBSSD/yuki/AQ2/tif_files/AQ2am_Apr6_Week5_30Hz/AQ2am_Apr6_Week5_30Hz_locanmf.npz  with lockout:  False\n"
     ]
    },
    {
     "name": "stderr",
     "output_type": "stream",
     "text": [
      "100%|██████████| 10/10 [00:13<00:00,  1.40s/it]"
     ]
    },
    {
     "name": "stdout",
     "output_type": "stream",
     "text": [
      "processing;  /media/cat/4TBSSD/yuki/AQ2/tif_files/AQ2am_Apr7_Week5_30Hz/AQ2am_Apr7_Week5_30Hz_locanmf.npz  with lockout:  False\n"
     ]
    },
    {
     "name": "stderr",
     "output_type": "stream",
     "text": [
      "\n",
      "100%|██████████| 10/10 [00:11<00:00,  1.12s/it]"
     ]
    },
    {
     "name": "stdout",
     "output_type": "stream",
     "text": [
      "processing;  /media/cat/4TBSSD/yuki/AQ2/tif_files/AQ2am_Apr8_Week5_30Hz/AQ2am_Apr8_Week5_30Hz_locanmf.npz  with lockout:  False\n"
     ]
    },
    {
     "name": "stderr",
     "output_type": "stream",
     "text": [
      "\n",
      "100%|██████████| 10/10 [00:12<00:00,  1.23s/it]"
     ]
    },
    {
     "name": "stdout",
     "output_type": "stream",
     "text": [
      "processing;  /media/cat/4TBSSD/yuki/AQ2/tif_files/AQ2am_Apr11_Week6_30Hz/AQ2am_Apr11_Week6_30Hz_locanmf.npz  with lockout:  False\n"
     ]
    },
    {
     "name": "stderr",
     "output_type": "stream",
     "text": [
      "\n",
      "100%|██████████| 10/10 [00:17<00:00,  1.71s/it]"
     ]
    },
    {
     "name": "stdout",
     "output_type": "stream",
     "text": [
      "processing;  /media/cat/4TBSSD/yuki/AQ2/tif_files/AQ2am_Apr12_Week6_30Hz/AQ2am_Apr12_Week6_30Hz_locanmf.npz  with lockout:  False\n"
     ]
    },
    {
     "name": "stderr",
     "output_type": "stream",
     "text": [
      "\n",
      "100%|██████████| 10/10 [00:11<00:00,  1.12s/it]"
     ]
    },
    {
     "name": "stdout",
     "output_type": "stream",
     "text": [
      " ....file not found, skippping  /media/cat/4TBSSD/yuki/AQ2/tif_files/AQ2am_Apr13_Week6_30Hz/AQ2am_Apr13_Week6_30Hz_locanmf.npz\n",
      "processing;  /media/cat/4TBSSD/yuki/AQ2/tif_files/AQ2am_Apr14_Week6_30Hz/AQ2am_Apr14_Week6_30Hz_locanmf.npz  with lockout:  False\n"
     ]
    },
    {
     "name": "stderr",
     "output_type": "stream",
     "text": [
      "\n",
      "100%|██████████| 10/10 [00:11<00:00,  1.14s/it]"
     ]
    },
    {
     "name": "stdout",
     "output_type": "stream",
     "text": [
      "processing;  /media/cat/4TBSSD/yuki/AQ2/tif_files/AQ2am_Apr15_Week6_30Hz/AQ2am_Apr15_Week6_30Hz_locanmf.npz  with lockout:  False\n"
     ]
    },
    {
     "name": "stderr",
     "output_type": "stream",
     "text": [
      "\n",
      "100%|██████████| 10/10 [00:09<00:00,  1.00it/s]"
     ]
    },
    {
     "name": "stdout",
     "output_type": "stream",
     "text": [
      "processing;  /media/cat/4TBSSD/yuki/AQ2/tif_files/AQ2am_Apr18_Week7_30Hz/AQ2am_Apr18_Week7_30Hz_locanmf.npz  with lockout:  False\n"
     ]
    },
    {
     "name": "stderr",
     "output_type": "stream",
     "text": [
      "\n",
      "100%|██████████| 10/10 [00:09<00:00,  1.07it/s]"
     ]
    },
    {
     "name": "stdout",
     "output_type": "stream",
     "text": [
      "processing;  /media/cat/4TBSSD/yuki/AQ2/tif_files/AQ2am_Apr19_Week7_30Hz/AQ2am_Apr19_Week7_30Hz_locanmf.npz  with lockout:  False\n"
     ]
    },
    {
     "name": "stderr",
     "output_type": "stream",
     "text": [
      "\n",
      "100%|██████████| 10/10 [00:08<00:00,  1.15it/s]"
     ]
    },
    {
     "name": "stdout",
     "output_type": "stream",
     "text": [
      "processing;  /media/cat/4TBSSD/yuki/AQ2/tif_files/AQ2am_Apr20_Week7_30Hz/AQ2am_Apr20_Week7_30Hz_locanmf.npz  with lockout:  False\n"
     ]
    },
    {
     "name": "stderr",
     "output_type": "stream",
     "text": [
      "\n",
      "100%|██████████| 10/10 [00:08<00:00,  1.17it/s]"
     ]
    },
    {
     "name": "stdout",
     "output_type": "stream",
     "text": [
      "processing;  /media/cat/4TBSSD/yuki/AQ2/tif_files/AQ2am_Apr21_Week7_30Hz/AQ2am_Apr21_Week7_30Hz_locanmf.npz  with lockout:  False\n"
     ]
    },
    {
     "name": "stderr",
     "output_type": "stream",
     "text": [
      "\n",
      "100%|██████████| 10/10 [00:06<00:00,  1.45it/s]"
     ]
    },
    {
     "name": "stdout",
     "output_type": "stream",
     "text": [
      "processing;  /media/cat/4TBSSD/yuki/AQ2/tif_files/AQ2am_Apr22_Week7_30Hz/AQ2am_Apr22_Week7_30Hz_locanmf.npz  with lockout:  False\n"
     ]
    },
    {
     "name": "stderr",
     "output_type": "stream",
     "text": [
      "\n",
      "100%|██████████| 10/10 [00:13<00:00,  1.38s/it]"
     ]
    },
    {
     "name": "stdout",
     "output_type": "stream",
     "text": [
      "processing;  /media/cat/4TBSSD/yuki/AQ2/tif_files/AQ2am_Apr25_Week8_30Hz/AQ2am_Apr25_Week8_30Hz_locanmf.npz  with lockout:  False\n"
     ]
    },
    {
     "name": "stderr",
     "output_type": "stream",
     "text": [
      "\n",
      "100%|██████████| 10/10 [00:13<00:00,  1.36s/it]"
     ]
    },
    {
     "name": "stdout",
     "output_type": "stream",
     "text": [
      "processing;  /media/cat/4TBSSD/yuki/AQ2/tif_files/AQ2am_Apr26_Week8_30Hz/AQ2am_Apr26_Week8_30Hz_locanmf.npz  with lockout:  False\n"
     ]
    },
    {
     "name": "stderr",
     "output_type": "stream",
     "text": [
      "\n",
      "100%|██████████| 10/10 [00:13<00:00,  1.38s/it]"
     ]
    },
    {
     "name": "stdout",
     "output_type": "stream",
     "text": [
      "processing;  /media/cat/4TBSSD/yuki/AQ2/tif_files/AQ2am_Apr27_Week8_30Hz/AQ2am_Apr27_Week8_30Hz_locanmf.npz  with lockout:  False\n"
     ]
    },
    {
     "name": "stderr",
     "output_type": "stream",
     "text": [
      "\n",
      "100%|██████████| 10/10 [00:17<00:00,  1.70s/it]"
     ]
    },
    {
     "name": "stdout",
     "output_type": "stream",
     "text": [
      "processing;  /media/cat/4TBSSD/yuki/AQ2/tif_files/AQ2am_Apr28_Week8_30Hz/AQ2am_Apr28_Week8_30Hz_locanmf.npz  with lockout:  False\n"
     ]
    },
    {
     "name": "stderr",
     "output_type": "stream",
     "text": [
      "\n",
      "100%|██████████| 10/10 [00:10<00:00,  1.03s/it]"
     ]
    },
    {
     "name": "stdout",
     "output_type": "stream",
     "text": [
      "processing;  /media/cat/4TBSSD/yuki/AQ2/tif_files/AQ2am_Apr29_Week8_30Hz/AQ2am_Apr29_Week8_30Hz_locanmf.npz  with lockout:  False\n"
     ]
    },
    {
     "name": "stderr",
     "output_type": "stream",
     "text": [
      "\n",
      "100%|██████████| 10/10 [00:10<00:00,  1.01s/it]"
     ]
    },
    {
     "name": "stdout",
     "output_type": "stream",
     "text": [
      "DONE predicting SVM on animal:  AQ2\n"
     ]
    },
    {
     "name": "stderr",
     "output_type": "stream",
     "text": [
      "\n"
     ]
    }
   ],
   "source": [
    "######################################################\n",
    "##### PREDICT SVM DECISION CHOICE SINGLE SESSION #####\n",
    "######################################################\n",
    "def predict_ROI_parallel(name,\n",
    "                         codes):\n",
    "    \n",
    "    # \n",
    "    svm = SVM.PredictSVMChoice()\n",
    "    svm.root_dir = data_dir\n",
    "    svm.random_flag = False  # shuffle data to show baseline\n",
    "\n",
    "    # window parameters\n",
    "    svm.window = 30              # prediction window, backwards in time in seconds\n",
    "    svm.lockout_window = 10      # time for locking out other pulls \n",
    "    svm.sliding_window = 30      # number of frames in sliding window\n",
    "    svm.lockout = False\n",
    "\n",
    "    # pca params\n",
    "    svm.pca_flag = True\n",
    "    svm.pca_var = 0.95  # this is default for now for nComp = 20\n",
    "\n",
    "    # svm parameters\n",
    "    svm.xvalidation = 10  # KFold xvalidation step\n",
    "    svm.data_split = 0.8  # split 80/20 data for training\n",
    "    svm.method = 'sigmoid'  # method used for computing SVM\n",
    "\n",
    "    # run-time parameters\n",
    "    svm.parallel = True\n",
    "    svm.n_cores = svm.xvalidation\n",
    "    svm.min_trials = 10\n",
    "    svm.overwrite = False\n",
    "\n",
    "\n",
    "    # session info\n",
    "    #session_ids = ['Mar1_', 'Mar2_', 'Mar3_', 'Feb29', 'Mar7_']\n",
    "    svm.session_id = 'all'\n",
    "    #svm.session_id = 'Feb9_'\n",
    "\n",
    "    #for name in names:\n",
    "    svm.animal_id = name\n",
    "\n",
    "    # \n",
    "    for code in codes:\n",
    "        svm.code = code\n",
    "\n",
    "        #\n",
    "        svm.predict_ROI()\n",
    "        \n",
    "        \n",
    "# select animal names\n",
    "names = ['IA1','IA2','IA3','IJ1','IJ2','AQ2'] # \"AR4\" and other datasets could work\n",
    "#names = ['IA1']\n",
    "\n",
    "\n",
    "# \n",
    "codes = ['Retrosplenial', 'barrel', 'limb', 'visual','motor']\n",
    "codes = ['limb, layer 1 - right', 'limb, layer 1 - left']\n",
    "#codes = ['all']\n",
    "\n",
    "#\n",
    "for name in names:\n",
    "    predict_ROI_parallel(name,codes)\n",
    "    \n",
    "    \n",
    "    \n",
    "    "
   ]
  },
  {
   "cell_type": "code",
   "execution_count": 9,
   "metadata": {},
   "outputs": [
    {
     "name": "stdout",
     "output_type": "stream",
     "text": [
      "(871, 10)\n",
      "(871, 10)\n",
      "(871, 10)\n"
     ]
    }
   ],
   "source": [
    "#################################################################\n",
    "#################################################################\n",
    "#################################################################\n",
    "\n",
    "\n",
    "codes = ['left_paw','right_paw','jaw']\n",
    "\n",
    "fnames = [\n",
    "'/media/cat/4TBSSD/yuki/IA1/SVM_Scores/SVM_Scores_IA1pm_Feb5_30Hzjaw_trial_ROItimeCourses_15sec_Xvalid10_Slidewindow30.npz',\n",
    "'/media/cat/4TBSSD/yuki/IA1/SVM_Scores/SVM_Scores_IA1pm_Feb5_30Hzright_paw_trial_ROItimeCourses_15sec_Xvalid10_Slidewindow30.npz',\n",
    "'/media/cat/4TBSSD/yuki/IA1/SVM_Scores/SVM_Scores_IA1pm_Feb5_30Hzleft_paw_trial_ROItimeCourses_15sec_Xvalid10_Slidewindow30.npz'\n",
    "]\n",
    "\n",
    "for ctr,fname in enumerate(fnames):\n",
    "    data = np.load(fname)\n",
    "    acc = data['accuracy']\n",
    "    print (acc.shape)\n",
    "    acc = acc[:450]\n",
    "    t = np.arange(acc.shape[0])/30-14\n",
    "    plt.plot(t,acc.mean(1),label=codes[ctr])\n",
    "\n",
    "plt.legend()\n",
    "plt.show()"
   ]
  },
  {
   "cell_type": "code",
   "execution_count": 8,
   "metadata": {},
   "outputs": [
    {
     "name": "stdout",
     "output_type": "stream",
     "text": [
      "Primary somatosensory area, lower limb, layer 1 - left\n",
      "Primary somatosensory area, upper limb, layer 1 - left\n"
     ]
    }
   ],
   "source": [
    "data = np.load('/media/cat/4TBSSD/yuki/IA1/tif_files/IA1am_Mar4_30Hz/IA1am_Mar4_30Hz_locanmf.npz',allow_pickle=True)\n",
    "names = data['names']\n",
    "#print (names)\n",
    "for name in names:\n",
    "    if 'limb, layer 1 - right' in name:\n",
    "        print (name)\n"
   ]
  },
  {
   "cell_type": "code",
   "execution_count": 8,
   "metadata": {},
   "outputs": [],
   "source": [
    "import sys\n",
    "sys.path.append(\"/home/cat/code/widefieldPredict/\") # go to parent dir\n",
    "from visualize import visualize_svm\n",
    "\n",
    "\n"
   ]
  },
  {
   "cell_type": "code",
   "execution_count": null,
   "metadata": {},
   "outputs": [],
   "source": []
  }
 ],
 "metadata": {
  "kernelspec": {
   "display_name": "Python 3",
   "language": "python",
   "name": "python3"
  },
  "language_info": {
   "codemirror_mode": {
    "name": "ipython",
    "version": 3
   },
   "file_extension": ".py",
   "mimetype": "text/x-python",
   "name": "python",
   "nbconvert_exporter": "python",
   "pygments_lexer": "ipython3",
   "version": "3.8.0"
  }
 },
 "nbformat": 4,
 "nbformat_minor": 4
}
