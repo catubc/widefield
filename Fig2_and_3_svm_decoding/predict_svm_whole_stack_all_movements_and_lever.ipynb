{
 "cells": [
  {
   "cell_type": "code",
   "execution_count": 1,
   "metadata": {},
   "outputs": [
    {
     "data": {
      "application/javascript": [
       "IPython.notebook.set_autosave_interval(180000)"
      ]
     },
     "metadata": {},
     "output_type": "display_data"
    },
    {
     "name": "stdout",
     "output_type": "stream",
     "text": [
      "Autosaving every 180 seconds\n"
     ]
    },
    {
     "data": {
      "text/html": [
       "<style>.container { width:100% !important; }</style>"
      ],
      "text/plain": [
       "<IPython.core.display.HTML object>"
      ]
     },
     "metadata": {},
     "output_type": "display_data"
    }
   ],
   "source": [
    "import matplotlib\n",
    "#matplotlib.use('Agg')\n",
    "\n",
    "%load_ext autoreload\n",
    "%autoreload 2\n",
    "\n",
    "%matplotlib tk\n",
    "%autosave 180\n",
    "import matplotlib.pyplot as plt\n",
    "\n",
    "from IPython.core.display import display, HTML\n",
    "display(HTML(\"<style>.container { width:100% !important; }</style>\"))\n",
    "\n",
    "\n",
    "import numpy as np\n",
    "import os\n",
    "\n",
    "\n",
    "import sys\n",
    "sys.path.append(\"/home/cat/code/widefield/\") # go to parent dir\n",
    "\n",
    "#  SVM module\n",
    "from svm import svm as PredictSVMChoice\n",
    "\n",
    "# \n",
    "data_dir = '/media/cat/4TBSSD/yuki/'\n",
    "#data_dir = '/mnt/f418adc0-4ff9-410c-93c9-d6d21a1e9c35/yuki/'\n",
    "\n",
    "labels = ['left_paw', \n",
    "            'right_paw',\n",
    "            'nose',\n",
    "            'jaw',\n",
    "            'right_ear',\n",
    "            'tongue',\n",
    "            'lever',\n",
    "            'all',\n",
    "            'code_04',\n",
    "            'code_04_lockout']"
   ]
  },
  {
   "cell_type": "code",
   "execution_count": 8,
   "metadata": {
    "scrolled": true
   },
   "outputs": [
    {
     "name": "stdout",
     "output_type": "stream",
     "text": [
      "  running:  AQ2pm_Mar15_Week2_30Hz\n",
      "   [Ca] file missing, skipping ...\n",
      "DONE predicting SVM on animal:  AQ2\n"
     ]
    }
   ],
   "source": [
    "######################################################\n",
    "##### PREDICT SVM DECISION CHOICE SINGLE SESSION #####\n",
    "######################################################\n",
    "\n",
    "# select animal names\n",
    "names = ['IA1','IA2','IA3','IJ1','IJ2','AQ2'] # \"AR4\" and other datasets could work\n",
    "names = ['AQ2']\n",
    "\n",
    "# \n",
    "svm = PredictSVMChoice.PredictSVMChoice()\n",
    "svm.root_dir = data_dir\n",
    "svm.random_flag = False  # shuffle data to show baseline\n",
    "svm.verbose = True\n",
    "\n",
    "# window parameters\n",
    "svm.window = 15              # prediction window, backwards in time in seconds\n",
    "svm.lockout_window = 10      # time in sec for locking out other pulls - used to generate lockout examples\n",
    "\n",
    "#\n",
    "svm.imaging_rate = 30\n",
    "\n",
    "#\n",
    "svm.sliding_window = svm.imaging_rate      # number of frames in sliding window for SVM steps; usually 1 sec = img_rate\n",
    "svm.lockout = False\n",
    "\n",
    "# movement related params\n",
    "svm.no_movement = 3          # number of seconds of quiescence before behavior initiation; parameter comes from\n",
    "                             #     the \"generate_movements_quiescent_periods\" notebook in behavior_analysis\n",
    "svm.random_lockout = 3       # number of seconds of buffer for selecting random trials for control\n",
    "\n",
    "# pca params\n",
    "svm.pca_flag = True\n",
    "svm.pca_var = 0.95      # this is total amount of var explained to be used - NOT USED FOR NOW\n",
    "svm.all_comps = 30      # this is the total # components saved\n",
    "svm.nComp = 30          # this is the total # of comps to be used for decoding\n",
    "            \n",
    "# svm parameters\n",
    "svm.min_trials = 10     # minimum number of trials to run SVM\n",
    "svm.xvalidation = 10    # KFold xvalidation step\n",
    "svm.data_split = 0.8    # split 80/20 data for training  NOT USED WITH XVALIDATION WHICH SPLITS 90/10\n",
    "svm.method = 'sigmoid'  # method used for computing SVM\n",
    "\n",
    "# run-time parameters\n",
    "svm.parallel = True\n",
    "svm.n_cores = svm.xvalidation\n",
    "svm.overwrite = False\n",
    "\n",
    "#\n",
    "\n",
    "## session info\n",
    "# session_ids = ['Mar1_', 'Mar2_', 'Mar3_', 'Feb29', 'Mar7_']\n",
    "# svm.session_id = 'all'\n",
    "\n",
    "# \n",
    "# codes = ['left_paw','right_paw','jaw']\n",
    "svm.all_labels = ['left_paw', \n",
    "                  'right_paw',\n",
    "                  'nose',\n",
    "                  'jaw',\n",
    "                  'right_ear',\n",
    "                  'tongue',\n",
    "                  'lever',\n",
    "                  'all',\n",
    "                  'code_04',\n",
    "                  'code_04_lockout'\n",
    "                 ]\n",
    "\n",
    "# labels = ['code_04']  # DO NOT USE TO PREDICT LEVER - THE PCA COMPRESSION IS POOR\n",
    "labels = ['left_paw']\n",
    "svm.labels = labels\n",
    "svm.code = '_whole_stack'\n",
    "svm.session_id = 'Mar15'\n",
    "\n",
    "svm.add_lever_to_ca_shift = False\n",
    "\n",
    "# \n",
    "for name in names:\n",
    "    svm.animal_id = name\n",
    "\n",
    "    #\n",
    "    svm.predict_whole_stack()   # this requires PCA to be run on the entire imaging session first: 400000, 128, 128\n",
    "                                        # need also movement initiations \n",
    "                                        # need also shift between initiations and ca imaging\n",
    "                                # This bypasses the need to compute [Ca] stms for each behavior/trial\n",
    "\n"
   ]
  },
  {
   "cell_type": "code",
   "execution_count": null,
   "metadata": {},
   "outputs": [],
   "source": [
    "###############################################\n",
    "########## VISUALIZE RESULTS ##################\n",
    "###############################################\n",
    "\n",
    "# to visualize results load the \"visualize_svm-body_movements\" notebook from /visualize/\n",
    "\n"
   ]
  },
  {
   "cell_type": "code",
   "execution_count": 13,
   "metadata": {},
   "outputs": [
    {
     "name": "stdout",
     "output_type": "stream",
     "text": [
      "acc 04:  (871, 10)\n",
      "plotting\n"
     ]
    }
   ],
   "source": [
    "#########################################################\n",
    "########## VISUALIZE RESULTS - QUICK AND DIRTY ##########\n",
    "#########################################################\n",
    "\n",
    "import pickle\n",
    "\n",
    "fname = '/media/cat/4TBSSD/yuki/AQ2/SVM_Scores/SVM_Scores_AQ2pm_Mar15_Week2_30Hzcode_04_trial_ROItimeCourses_15sec_Xvalid10_Slidewindow30.npz'\n",
    "#fname = '/media/cat/4TBSSD/yuki/AQ2/SVM_Scores/SVM_Scores_AQ2pm_Mar15_Week2_30Hz_whole_stack_pca30Components_window15sec_Xvalid10_Slidewindow30Frames_accuracy.npz'\n",
    "data = np.load(fname, allow_pickle=True)\n",
    "\n",
    "\n",
    "\n",
    "if 'AI3' in fname:\n",
    "    acc = data['accuracy']\n",
    "    acc_c04 = np.array(acc[8])   \n",
    "    imaging_rate = 15\n",
    "    clr='blue'\n",
    "\n",
    "elif 'AQ2' in fname:\n",
    "    acc_c04 = data['accuracy']\n",
    "    if 'pca30' in fname:\n",
    "        acc_c04 = np.array(acc_c04[8]) \n",
    "        \n",
    "    imaging_rate = 30\n",
    "    clr='black'\n",
    "\n",
    "#for k in range(len(acc)):\n",
    "#    print (k, labels[k], acc[k], np.array(acc[k]).shape)\n",
    "\n",
    "\n",
    "print (\"acc 04: \", acc_c04.shape)\n",
    "\n",
    "######################\n",
    "fig=plt.figure()\n",
    "ax=plt.subplot(111)\n",
    "mean_r = acc_c04.mean(1)\n",
    "std_r = np.std(acc_c04,axis=1)\n",
    "\n",
    "t = np.arange(mean_r.shape[0])/imaging_rate-(15-1)\n",
    "\n",
    "print (\"plotting\")\n",
    "plt.plot(t,mean_r, linewidth=3, c=clr)\n",
    "ax.fill_between(t, mean_r+std_r,\n",
    "               mean_r-std_r,\n",
    "               color=clr,\n",
    "               alpha=.2)\n",
    "\n",
    "plt.plot([-15,+15],[0.5,0.5],'--',c='grey')\n",
    "plt.plot([0,0],[0,1],'--',c='grey')\n",
    "\n",
    "plt.ylim(0.3,1.0)\n",
    "plt.xlim(-15,1)\n",
    "plt.show()\n"
   ]
  },
  {
   "cell_type": "code",
   "execution_count": 64,
   "metadata": {},
   "outputs": [],
   "source": [
    "\n",
    "fnames = np.loadtxt('/media/cat/4TBSSD/yuki/AQ2/blue_light.txt',dtype='str')\n",
    "s = []\n",
    "for fname in fnames:\n",
    "    data = np.load(fname)\n",
    "\n",
    "    start = data['start_blue']\n",
    "    end = data['end_blue']\n",
    "    img = data['img_frame_triggers']\n",
    "    \n",
    "    s.append(start/30)\n",
    "\n",
    "y = np.histogram(s,bins=np.arange(0,5,0.1))\n",
    "\n",
    "plt.plot(y[1][1:],y[0])    \n",
    "plt.show()\n",
    "    \n",
    "    "
   ]
  },
  {
   "cell_type": "code",
   "execution_count": null,
   "metadata": {},
   "outputs": [],
   "source": []
  },
  {
   "cell_type": "code",
   "execution_count": null,
   "metadata": {},
   "outputs": [],
   "source": []
  },
  {
   "cell_type": "code",
   "execution_count": null,
   "metadata": {},
   "outputs": [],
   "source": []
  },
  {
   "cell_type": "code",
   "execution_count": null,
   "metadata": {},
   "outputs": [],
   "source": []
  },
  {
   "cell_type": "code",
   "execution_count": null,
   "metadata": {},
   "outputs": [],
   "source": []
  },
  {
   "cell_type": "code",
   "execution_count": null,
   "metadata": {},
   "outputs": [],
   "source": [
    "# ######################################################\n",
    "# ##### PREDICT SVM DECISION CHOICE SINGLE SESSION #####\n",
    "# ######################################################\n",
    "\n",
    "# # select animal names\n",
    "# names = ['IA1','IA2','IA3','IJ1','IJ2','AQ2'] # \"AR4\" and other datasets could work\n",
    "# #names = ['IA1']\n",
    "\n",
    "# # \n",
    "# svm = PredictSVMChoice()\n",
    "# svm.root_dir = data_dir\n",
    "# svm.random_flag = False  # shuffle data to show baseline\n",
    "# svm.verbose = True\n",
    "\n",
    "# # window parameters\n",
    "# svm.window = 15              # prediction window, backwards in time in seconds\n",
    "# svm.lockout_window = 10      # time for locking out other pulls; OPTIONAL\n",
    "# svm.sliding_window = 30      # number of frames in sliding window for SVM steps; usually 1 sec = 30 frames\n",
    "# svm.lockout = False\n",
    "\n",
    "# # movement related params\n",
    "# svm.no_movement = 3          # number of seconds of quiescence before behavior initiation; parameter comes from\n",
    "#                              #     the \"generate_movements_quiescent_periods\" notebook in behavior_analysis\n",
    "# svm.random_lockout = 3       # number of seconds of buffer for selecting random trials for control\n",
    "\n",
    "# # pca params\n",
    "# svm.pca_flag = True\n",
    "# svm.pca_var = 0.95      # this is total amount of var explained to be used - NOT USED FOR NOW\n",
    "# svm.all_comps = 30      # this is the total # components saved\n",
    "# svm.nComp = 30          # this is the total # of comps to be used for decoding\n",
    "            \n",
    "# # svm parameters\n",
    "# svm.min_trials = 10     # minimum number of trials to run SVM\n",
    "# svm.xvalidation = 10    # KFold xvalidation step\n",
    "# svm.data_split = 0.8    # split 80/20 data for training  NOT USED WITH XVALIDATION WHICH SPLITS 90/10\n",
    "# svm.method = 'sigmoid'  # method used for computing SVM\n",
    "\n",
    "# # run-time parameters\n",
    "# svm.parallel = True\n",
    "# svm.n_cores = svm.xvalidation\n",
    "# svm.overwrite = False\n",
    "\n",
    "# ## session info\n",
    "# # session_ids = ['Mar1_', 'Mar2_', 'Mar3_', 'Feb29', 'Mar7_']\n",
    "# # svm.session_id = 'all'\n",
    "# svm.session_id = 'all'\n",
    "\n",
    "# # \n",
    "# # codes = ['left_paw','right_paw','jaw']\n",
    "# labels = ['left_paw', \n",
    "#           'right_paw',\n",
    "#           'nose',\n",
    "#           'jaw',\n",
    "#           'right_ear',\n",
    "#           'tongue',\n",
    "#           'lever',\n",
    "#           'all',\n",
    "#           'code_04',\n",
    "#           'code_04_lockout']\n",
    "\n",
    "# svm.labels = labels\n",
    "# svm.code = '_whole_stack'\n",
    "\n",
    "# # \n",
    "# for name in names:\n",
    "#     svm.animal_id = name\n",
    "\n",
    "#     #\n",
    "#     svm.predict_whole_stack()   # this requires PCA to be run on the entire imaging session first: 400000, 128, 128\n",
    "#                                         # need also movement initiations \n",
    "#                                         # need also shift between initiations and ca imaging\n",
    "#                                 # This bypasses the need to compute [Ca] stms for each behavior/trial\n"
   ]
  },
  {
   "cell_type": "code",
   "execution_count": null,
   "metadata": {},
   "outputs": [],
   "source": []
  },
  {
   "cell_type": "code",
   "execution_count": null,
   "metadata": {},
   "outputs": [],
   "source": []
  },
  {
   "cell_type": "code",
   "execution_count": null,
   "metadata": {},
   "outputs": [],
   "source": []
  },
  {
   "cell_type": "code",
   "execution_count": null,
   "metadata": {},
   "outputs": [],
   "source": []
  },
  {
   "cell_type": "code",
   "execution_count": null,
   "metadata": {},
   "outputs": [],
   "source": []
  },
  {
   "cell_type": "code",
   "execution_count": null,
   "metadata": {},
   "outputs": [],
   "source": []
  },
  {
   "cell_type": "code",
   "execution_count": null,
   "metadata": {},
   "outputs": [],
   "source": []
  },
  {
   "cell_type": "code",
   "execution_count": 28,
   "metadata": {
    "collapsed": true
   },
   "outputs": [
    {
     "name": "stdout",
     "output_type": "stream",
     "text": [
      "(10, 30, 30)\n",
      "(10,)\n",
      "[ 7.  2. 12. 21. 22. 23. 21.  5.  7.  4. 15.  1. 22.  8.  1. 29. 23. 15.\n",
      " 16. 10. 29. 20. 15.  6. 24. 28. 20.  2. 28. 20.  9. 21. 17. 14. 17. 27.\n",
      "  8. 24. 28. 12. 15. 29. 14.  6. 13. 24.  2. 19. 12. 23. 12. 12. 19. 24.\n",
      "  9. 15. 22. 15. 10. 23.  6.  4. 29. 14. 15. 10.  1. 23. 18.  4. 26.  6.\n",
      " 18.  0. 20.  9. 23. 12. 10. 29. 24. 24. 22. 20. 18. 15.  5. 27.  7. 23.\n",
      "  7. 15.  1.  9.  7.  5.  4. 10.  8.  4. 18. 20. 18. 13.  6. 14. 27. 17.\n",
      "  6. 12. 28. 21. 11. 25. 16. 21. 15.  7.  0. 20.  1.  0. 21. 26.  7. 28.\n",
      "  7.  7. 29. 14.  2.  6. 27.  1. 16. 20.  6.  2. 19.  8. 21. 23.  8. 19.\n",
      " 25. 21. 27. 13. 10. 16. 23. 22. 29.  1.  5. 21.  4.  7.  1. 24.  2.  9.\n",
      "  9. 13.  5. 20. 24.  8. 15. 12. 27. 13. 21. 16. 24. 20. 20. 12. 24.  8.\n",
      " 27.  6. 29. 29.  7. 16. 18. 10. 27.  4.  0. 18. 24.  5. 22. 12. 27. 12.\n",
      " 21.  2. 17.  1.  7. 10. 24. 20. 16.  6.  0. 25. 19. 23. 28.  5.  4.  0.\n",
      " 15.  4. 28. 24. 21. 15.  9.  5. 28. 29. 10.  2. 20. 14.  8. 14. 12.  4.\n",
      "  4. 13.  6.  2. 16. 27. 24.  4. 21. 10. 15. 12. 12. 11. 29. 12.  3. 19.\n",
      " 23. 15. 14.  4. 12.  2. 15. 17.  5. 27.  5.  9. 24. 10. 16. 15. 25. 16.\n",
      " 22. 20.  8. 16.  4. 27. 22. 21.  4. 10. 20. 22. 28.  1. 14.  7. 21. 16.\n",
      "  4. 23. 13. 15. 29. 17. 14. 24.  8. 12.  4. 22. 23.  4.  6. 13. 15. 28.\n",
      " 15.  3. 17.  1.  8. 21.  6. 28. 10.  6. 15.  0.  2. 17. 25. 25. 21. 12.\n",
      "  9. 24. 16. 15. 12. 16. 15.  4. 19.  1.  3.  2.  1.  7. 16. 21. 16. 28.\n",
      "  4. 29. 10. 16.  7. 25.  4. 24. 10. 17. 16.  3. 15.  1. 28.  1. 16. 16.\n",
      "  3. 23.  1. 27. 13. 17. 28.  7. 12. 27. 23. 24. 16. 14. 25. 16.  8.  1.\n",
      " 27. 15. 24.  1. 21. 24. 23. 12. 14. 28. 23. 23.  6.  7. 24. 21. 24. 15.\n",
      " 20.  7. 23.  1.  7. 16. 10. 23. 24. 18. 16. 27.  7.  2. 23. 12. 17. 15.\n",
      "  9.  5. 27. 16.  0. 15. 24. 23.  5. 24. 21. 24.  6. 17. 21.  2. 17. 14.\n",
      "  0.  3. 28. 20. 21.  3. 10.  6. 24. 29. 12. 14. 12. 16. 21. 20. 29.  7.\n",
      " 25. 29. 28. 17. 20.  5. 12. 12. 10. 27.  6. 10.  8. 10. 10.  7.  5. 29.\n",
      " 16. 12. 16. 16.  7. 18. 29.  9. 17. 15. 12. 21. 12.  7. 15. 27. 15. 20.\n",
      " 21.  6.  7. 15. 15. 24. 20. 24. 23. 24.  6. 14. 24. 29. 17.  2. 24. 15.\n",
      " 12.  6. 20. 17. 22. 15. 19. 16. 14. 19. 12. 20.  8. 16. 21. 19.  8.  7.\n",
      " 21. 16. 27. 29.  6.  1.  0. 21. 12.  3. 12. 28. 11. 12. 12.  1. 16.  7.\n",
      " 15. 16. 25. 14. 15. 23. 27. 18. 21. 13. 12. 12. 16. 14.  1. 22. 29. 26.\n",
      " 21. 17.  1. 15. 29.  4.  3.  7. 16. 25. 22. 21.  3. 21. 20.  3. 21. 27.\n",
      " 16. 18.  6. 21.  7. 25. 17.  5. 12.  5. 29. 19. 27. 27.  5. 22. 24.  5.\n",
      "  4.  9. 24. 25. 20. 20. 15.  2. 17. 18.  1. 21. 25.  6. 29. 29. 24.  6.\n",
      "  1. 12. 21. 17. 14.  6. 20. 23. 10.  9.  5. 19. 25.  3.  6.  2.  9.  7.\n",
      " 19. 24. 29.  7.  7. 27. 19. 14.  8. 10.  4. 15. 19. 10. 25. 11.  4. 16.\n",
      "  8. 28. 22. 28. 21. 11. 15.  1. 27. 22. 12. 19.]\n"
     ]
    }
   ],
   "source": [
    "data = np.load('/home/cat/concatenated_res.npz',allow_pickle=True)\n",
    "cf = data['conf_matrix_ten']\n",
    "print (cf.shape)\n",
    "\n",
    "y_pred = data['y_predicted']\n",
    "print (y_pred.shape)\n",
    "print (y_pred[2])"
   ]
  },
  {
   "cell_type": "code",
   "execution_count": 29,
   "metadata": {},
   "outputs": [
    {
     "ename": "KeyError",
     "evalue": "'ten_svm is not a file in the archive'",
     "output_type": "error",
     "traceback": [
      "\u001b[0;31m---------------------------------------------------------------------------\u001b[0m",
      "\u001b[0;31mKeyError\u001b[0m                                  Traceback (most recent call last)",
      "\u001b[0;32m<ipython-input-29-d25d9cf69229>\u001b[0m in \u001b[0;36m<module>\u001b[0;34m\u001b[0m\n\u001b[0;32m----> 1\u001b[0;31m \u001b[0mten_svm\u001b[0m \u001b[0;34m=\u001b[0m \u001b[0mdata\u001b[0m\u001b[0;34m[\u001b[0m\u001b[0;34m'ten_svm'\u001b[0m\u001b[0;34m]\u001b[0m\u001b[0;34m\u001b[0m\u001b[0;34m\u001b[0m\u001b[0m\n\u001b[0m\u001b[1;32m      2\u001b[0m \u001b[0mprint\u001b[0m \u001b[0;34m(\u001b[0m\u001b[0mten_svm\u001b[0m\u001b[0;34m.\u001b[0m\u001b[0mshape\u001b[0m\u001b[0;34m)\u001b[0m\u001b[0;34m\u001b[0m\u001b[0;34m\u001b[0m\u001b[0m\n\u001b[1;32m      3\u001b[0m \u001b[0mprint\u001b[0m \u001b[0;34m(\u001b[0m\u001b[0mten_svm\u001b[0m\u001b[0;34m)\u001b[0m\u001b[0;34m\u001b[0m\u001b[0;34m\u001b[0m\u001b[0m\n",
      "\u001b[0;32m/media/cat/4TBSSD/anaconda3/envs/wide/lib/python3.8/site-packages/numpy/lib/npyio.py\u001b[0m in \u001b[0;36m__getitem__\u001b[0;34m(self, key)\u001b[0m\n\u001b[1;32m    258\u001b[0m                 \u001b[0;32mreturn\u001b[0m \u001b[0mself\u001b[0m\u001b[0;34m.\u001b[0m\u001b[0mzip\u001b[0m\u001b[0;34m.\u001b[0m\u001b[0mread\u001b[0m\u001b[0;34m(\u001b[0m\u001b[0mkey\u001b[0m\u001b[0;34m)\u001b[0m\u001b[0;34m\u001b[0m\u001b[0;34m\u001b[0m\u001b[0m\n\u001b[1;32m    259\u001b[0m         \u001b[0;32melse\u001b[0m\u001b[0;34m:\u001b[0m\u001b[0;34m\u001b[0m\u001b[0;34m\u001b[0m\u001b[0m\n\u001b[0;32m--> 260\u001b[0;31m             \u001b[0;32mraise\u001b[0m \u001b[0mKeyError\u001b[0m\u001b[0;34m(\u001b[0m\u001b[0;34m\"%s is not a file in the archive\"\u001b[0m \u001b[0;34m%\u001b[0m \u001b[0mkey\u001b[0m\u001b[0;34m)\u001b[0m\u001b[0;34m\u001b[0m\u001b[0;34m\u001b[0m\u001b[0m\n\u001b[0m\u001b[1;32m    261\u001b[0m \u001b[0;34m\u001b[0m\u001b[0m\n\u001b[1;32m    262\u001b[0m \u001b[0;34m\u001b[0m\u001b[0m\n",
      "\u001b[0;31mKeyError\u001b[0m: 'ten_svm is not a file in the archive'"
     ]
    }
   ],
   "source": [
    "ten_svm = data['ten_svm']\n",
    "print (ten_svm.shape)\n",
    "print (ten_svm)"
   ]
  },
  {
   "cell_type": "code",
   "execution_count": null,
   "metadata": {},
   "outputs": [],
   "source": []
  },
  {
   "cell_type": "code",
   "execution_count": null,
   "metadata": {},
   "outputs": [],
   "source": []
  },
  {
   "cell_type": "code",
   "execution_count": 30,
   "metadata": {
    "collapsed": true
   },
   "outputs": [
    {
     "name": "stdout",
     "output_type": "stream",
     "text": [
      "(10, 30, 30)\n",
      "[0.         0.         0.         0.02222222 0.         0.11111111\n",
      " 0.04166667 0.         0.         0.09090909 0.04347826 0.03846154\n",
      " 0.07142857 0.04166667 0.125      0.03030303 0.02222222 0.\n",
      " 0.         0.         0.         0.05263158 0.         0.06818182\n",
      " 0.02083333 0.         0.         0.03703704 0.         0.        ]\n",
      "[0.         0.         0.03225806 0.05555556 0.0625     0.\n",
      " 0.08       0.05263158 0.         0.         0.         0.\n",
      " 0.1        0.07894737 0.05555556 0.03125    0.05714286 0.03846154\n",
      " 0.02702703 0.         0.08571429 0.02272727 0.05263158 0.03448276\n",
      " 0.06666667 0.         0.         0.07692308 0.         0.07142857]\n",
      "[0.         0.         0.05882353 0.         0.08       0.\n",
      " 0.03703704 0.03125    0.05882353 0.         0.04166667 0.2\n",
      " 0.         0.2        0.         0.02439024 0.10526316 0.\n",
      " 0.08333333 0.         0.07407407 0.02631579 0.         0.\n",
      " 0.         0.0625     0.         0.         0.         0.        ]\n",
      "[0.         0.05263158 0.         0.         0.04761905 0.13333333\n",
      " 0.08333333 0.03571429 0.         0.05263158 0.0625     0.\n",
      " 0.         0.05882353 0.06666667 0.         0.         0.\n",
      " 0.         0.         0.02222222 0.08695652 0.18181818 0.02173913\n",
      " 0.02222222 0.         0.         0.         0.         0.        ]\n",
      "[0.09090909 0.04545455 0.         0.07692308 0.12       0.11111111\n",
      " 0.         0.10526316 0.11111111 0.33333333 0.06666667 0.\n",
      " 0.         0.05555556 0.02857143 0.04347826 0.02941176 0.05405405\n",
      " 0.07692308 0.1        0.04       0.05555556 0.04545455 0.05882353\n",
      " 0.02325581 0.         0.         0.08       0.         0.0625    ]\n",
      "[0.         0.05       0.06666667 0.03225806 0.03030303 0.\n",
      " 0.03846154 0.         0.11111111 0.         0.         0.05555556\n",
      " 0.08333333 0.         0.04       0.06060606 0.         0.\n",
      " 0.05263158 0.         0.03030303 0.15       0.08333333 0.04761905\n",
      " 0.05357143 0.         0.         0.         0.         0.        ]\n",
      "[0.08333333 0.         0.         0.05555556 0.04166667 0.\n",
      " 0.         0.         0.125      0.         0.         0.\n",
      " 0.         0.         0.         0.         0.15384615 0.0952381\n",
      " 0.         0.         0.02777778 0.02777778 0.         0.\n",
      " 0.03225806 0.04166667 0.         0.05714286 0.         0.        ]\n",
      "[0.         0.         0.         0.02941176 0.         0.\n",
      " 0.05       0.07142857 0.1        0.         0.         0.\n",
      " 0.         0.05       0.10714286 0.02857143 0.0625     0.03846154\n",
      " 0.         0.08695652 0.02857143 0.         0.11764706 0.\n",
      " 0.02777778 0.         0.         0.06666667 0.         0.        ]\n",
      "[0.         0.         0.         0.03448276 0.03125    0.\n",
      " 0.         0.         0.09090909 0.         0.09090909 0.08333333\n",
      " 0.         0.04545455 0.03846154 0.05555556 0.         0.08333333\n",
      " 0.0952381  0.04166667 0.         0.         0.         0.0625\n",
      " 0.04       0.         0.         0.09090909 0.         0.04545455]\n",
      "[0.         0.         0.         0.         0.04       0.\n",
      " 0.07407407 0.10526316 0.         0.         0.05555556 0.\n",
      " 0.         0.05263158 0.         0.         0.06060606 0.\n",
      " 0.         0.02777778 0.06451613 0.         0.2        0.04\n",
      " 0.         0.0625     0.         0.         0.         0.        ]\n"
     ]
    }
   ],
   "source": [
    " def plot_decision_time(ax=None):\n",
    "\n",
    "        #\n",
    "        if ax is None:\n",
    "            ax=plt.subplot(111)\n",
    "        clrs = ['black','blue']\n",
    "        names = ['all', 'lockout']\n",
    "        \n",
    "        #\n",
    "        lockouts = [False, True]\n",
    "        ctr=0\n",
    "        n_trials_both = []\n",
    "\n",
    "        #\n",
    "        data = np.load('/home/cat/concatenated_res.npz')\n",
    "        conf_matrix_ten = data['conf_matrix_ten']\n",
    "        n_trials_both.append(data['n_trials'])\n",
    "\n",
    "        #\n",
    "        sc=np.mean(conf_matrix_ten,axis=0) # mean of confusion matrix\n",
    "\n",
    "        #\n",
    "        confusion_10=sc.diagonal()\n",
    "        confusion_s=conf_matrix_ten\n",
    "\n",
    "        confusion_d=[]\n",
    "        print (confusion_s.shape)\n",
    "        for i in range(0,10):\n",
    "            \n",
    "            print (confusion_s[i].diagonal())\n",
    "            confusion_d.append(confusion_s[i].diagonal())\n",
    "        x_std=np.std(confusion_d,axis=0) #/(10**0.5)\n",
    "\n",
    "        t = np.arange(-29.5,0.5,1)\n",
    "        ax.plot(t,confusion_10, c=clrs[ctr])\n",
    "\n",
    "        ax.fill_between(t, \n",
    "                         confusion_10+x_std,\n",
    "                         confusion_10-x_std,\n",
    "                         color=clrs[ctr],\n",
    "                         alpha=.2,\n",
    "                label=names[ctr])\n",
    "        ctr+=1\n",
    "        ax.set_ylim(0,1.0)\n",
    "        #ax.set_xlim(-10,t[-1])\n",
    "\n",
    "        ax.plot([t[0],t[-1]], [0.1,0.1], 'r--')\n",
    "\n",
    "        \n",
    "plot_decision_time()"
   ]
  },
  {
   "cell_type": "code",
   "execution_count": 4,
   "metadata": {},
   "outputs": [
    {
     "data": {
      "text/plain": [
       "(218, 20, 900)"
      ]
     },
     "execution_count": 4,
     "metadata": {},
     "output_type": "execute_result"
    }
   ],
   "source": [
    "data = np.load('/home/cat/concatenated_trials.npy')\n",
    "data.shape"
   ]
  },
  {
   "cell_type": "code",
   "execution_count": null,
   "metadata": {},
   "outputs": [],
   "source": []
  },
  {
   "cell_type": "code",
   "execution_count": 5,
   "metadata": {},
   "outputs": [
    {
     "name": "stderr",
     "output_type": "stream",
     "text": [
      "<ipython-input-5-d794d1f35346>:9: VisibleDeprecationWarning: Creating an ndarray from ragged nested sequences (which is a list-or-tuple of lists-or-tuples-or ndarrays with different lengths or shapes) is deprecated. If you meant to do this, you must specify 'dtype=object' when creating the ndarray.\n",
      "  accuracy = np.array(pd.read_pickle(fname))\n"
     ]
    },
    {
     "name": "stdout",
     "output_type": "stream",
     "text": [
      "(870, 10)\n",
      "(870, 10)\n",
      "(870, 10)\n",
      "(870, 10)\n",
      "(870, 10)\n",
      "(870, 10)\n",
      "(0,)\n",
      "(870, 10)\n",
      "(870, 10)\n",
      "(870, 10)\n"
     ]
    }
   ],
   "source": [
    "##############################\n",
    "##### VISUALIZE A RESULT #####\n",
    "##############################\n",
    "\n",
    "import pandas as pd\n",
    "\n",
    "#\n",
    "fname = '/media/cat/4TBSSD/yuki/IA1/SVM_Scores/SVM_Scores_IA1pm_Feb2_30Hz_whole_stack_pca30Components_window15sec_Xvalid10_Slidewindow30Frames_accuracy.pk'\n",
    "accuracy = np.array(pd.read_pickle(fname))\n",
    "\n",
    "# \n",
    "fig = plt.figure()\n",
    "for k in range(len(accuracy)):\n",
    "    ax=plt.subplot(2,5,k+1)\n",
    "    acc = np.array(accuracy[k])\n",
    "    print (acc.shape)\n",
    "\n",
    "    if acc.shape[0]==0:\n",
    "        continue\n",
    "    t = np.arange(acc.shape[0])/30-14\n",
    "    \n",
    "    # \n",
    "    mean = acc.mean(1)\n",
    "    plt.plot(t,mean,label=labels[k])\n",
    "    std = np.std(acc)\n",
    "    ax.fill_between(t, mean+std,\n",
    "                   mean-std,\n",
    "                  alpha=.2)\n",
    "\n",
    "    # \n",
    "    plt.xlim(-14,15)\n",
    "    plt.xlim(-10,10)\n",
    "    plt.ylim(0.4,1.0)\n",
    "    plt.plot([-14,15],[0.5,0.5],'--',c='black')\n",
    "    \n",
    "    plt.legend()\n",
    "plt.show()"
   ]
  },
  {
   "cell_type": "code",
   "execution_count": 12,
   "metadata": {},
   "outputs": [
    {
     "name": "stdout",
     "output_type": "stream",
     "text": [
      "(71, 15, 901)\n"
     ]
    }
   ],
   "source": [
    "# ######################################################\n",
    "# ######## SET SHIFTS FOR LEVER PULL AND DLC DATA ######\n",
    "# ######################################################\n",
    "\n",
    "# # SET SHIFT FOR LEVER PULL\n",
    "# # Find blue light on/off\n",
    "# blue_light_threshold = 400  #Intensity threshold; when this value is reached - imaging light was turned on\n",
    "# start_blue = 0; end_blue = len(aligned_images)\n",
    "\n",
    "# if np.average(aligned_images[0])> blue_light_threshold:    #Case #1: imaging starts with light on; need to remove end chunk; though likely bad recording\n",
    "#     for k in range(len(aligned_images)):\n",
    "#         if np.average(aligned_images[k])< blue_light_threshold:\n",
    "#             #self.aligned_images = self.aligned_images[k:]\n",
    "#             end_blue = k\n",
    "#             break\n",
    "# else:                                                           #Case #2: start with light off; remove starting and end chunks;\n",
    "#     #Find first light on\n",
    "#     for k in range(len(aligned_images)):\n",
    "#         if np.average(aligned_images[k])> blue_light_threshold:\n",
    "#             start_blue = k\n",
    "#             break\n",
    "\n",
    "#     #Find light off - count backwards from end of imaging data\n",
    "#     for k in range(len(aligned_images)-1,0,-1):\n",
    "#         if np.average(aligned_images[k])> blue_light_threshold:\n",
    "#             end_blue= k\n",
    "#             break\n",
    "\n",
    "# #\n",
    "# filtered_filename = images_file[:-4]+'_'+selected_dff_filter+'_'+str(low_cut)+'hz_'+str(high_cut)+'hz.npy'\n",
    "# if os.path.exists(filtered_filename):\n",
    "#     try:\n",
    "#         aligned_images = np.load(filtered_filename, allow_pickle=True)\n",
    "#     except:\n",
    "#         print (\"aligned filtered images corrupt... recomputing: \", filtered_filename)\n",
    "#         self.filter_data(root_dir, recording)\n",
    "#         aligned_images = np.load(filtered_filename)\n",
    "# else:\n",
    "#     print (\"aligned filtered images missing... recomputing: \", filtered_filename)\n",
    "#     self.filter_data(root_dir, recording)\n",
    "#     aligned_images = np.load(filtered_filename)\n",
    "\n",
    "# aligned_images = aligned_images[start_blue:end_blue]\n",
    "\n",
    "\n",
    "        \n",
    "        "
   ]
  },
  {
   "cell_type": "code",
   "execution_count": null,
   "metadata": {},
   "outputs": [],
   "source": []
  },
  {
   "cell_type": "code",
   "execution_count": null,
   "metadata": {},
   "outputs": [],
   "source": []
  },
  {
   "cell_type": "code",
   "execution_count": null,
   "metadata": {},
   "outputs": [],
   "source": []
  },
  {
   "cell_type": "code",
   "execution_count": null,
   "metadata": {},
   "outputs": [],
   "source": []
  },
  {
   "cell_type": "code",
   "execution_count": null,
   "metadata": {},
   "outputs": [],
   "source": []
  },
  {
   "cell_type": "code",
   "execution_count": null,
   "metadata": {},
   "outputs": [],
   "source": []
  },
  {
   "cell_type": "code",
   "execution_count": null,
   "metadata": {},
   "outputs": [],
   "source": []
  },
  {
   "cell_type": "code",
   "execution_count": null,
   "metadata": {},
   "outputs": [],
   "source": []
  },
  {
   "cell_type": "code",
   "execution_count": null,
   "metadata": {},
   "outputs": [],
   "source": []
  },
  {
   "cell_type": "code",
   "execution_count": null,
   "metadata": {},
   "outputs": [],
   "source": []
  },
  {
   "cell_type": "code",
   "execution_count": null,
   "metadata": {},
   "outputs": [],
   "source": []
  },
  {
   "cell_type": "code",
   "execution_count": null,
   "metadata": {},
   "outputs": [],
   "source": []
  },
  {
   "cell_type": "code",
   "execution_count": null,
   "metadata": {},
   "outputs": [],
   "source": []
  },
  {
   "cell_type": "code",
   "execution_count": 3,
   "metadata": {},
   "outputs": [
    {
     "ename": "FileNotFoundError",
     "evalue": "[Errno 2] No such file or directory: '/mnt/f418adc0-4ff9-410c-93c9-d6d21a1e9c35/yuki/IA1/SVM_Scores/IA1pm_Mar3_30Hz/SVM_Scores_IA1pm_Mar3_30Hz_code_04_trial_ROItimeCourses_15sec_pca_0.95_Xvalid100_Slidewindow30.npy'",
     "output_type": "error",
     "traceback": [
      "\u001b[0;31m---------------------------------------------------------------------------\u001b[0m",
      "\u001b[0;31mFileNotFoundError\u001b[0m                         Traceback (most recent call last)",
      "\u001b[0;32m<ipython-input-3-b112cd831b88>\u001b[0m in \u001b[0;36m<module>\u001b[0;34m\u001b[0m\n\u001b[1;32m     20\u001b[0m \u001b[0mfig\u001b[0m\u001b[0;34m=\u001b[0m\u001b[0mplt\u001b[0m\u001b[0;34m.\u001b[0m\u001b[0mfigure\u001b[0m\u001b[0;34m(\u001b[0m\u001b[0;34m)\u001b[0m\u001b[0;34m\u001b[0m\u001b[0;34m\u001b[0m\u001b[0m\n\u001b[1;32m     21\u001b[0m \u001b[0;32mfor\u001b[0m \u001b[0mfname\u001b[0m \u001b[0;32min\u001b[0m \u001b[0mfnames\u001b[0m\u001b[0;34m:\u001b[0m\u001b[0;34m\u001b[0m\u001b[0;34m\u001b[0m\u001b[0m\n\u001b[0;32m---> 22\u001b[0;31m     \u001b[0mdata\u001b[0m \u001b[0;34m=\u001b[0m \u001b[0mnp\u001b[0m\u001b[0;34m.\u001b[0m\u001b[0mload\u001b[0m\u001b[0;34m(\u001b[0m\u001b[0mfname\u001b[0m\u001b[0;34m)\u001b[0m\u001b[0;34m.\u001b[0m\u001b[0mT\u001b[0m\u001b[0;34m\u001b[0m\u001b[0;34m\u001b[0m\u001b[0m\n\u001b[0m\u001b[1;32m     23\u001b[0m \u001b[0;34m\u001b[0m\u001b[0m\n\u001b[1;32m     24\u001b[0m     \u001b[0msd\u001b[0m \u001b[0;34m=\u001b[0m \u001b[0mnp\u001b[0m\u001b[0;34m.\u001b[0m\u001b[0mwhere\u001b[0m\u001b[0;34m(\u001b[0m\u001b[0mdata\u001b[0m\u001b[0;34m>\u001b[0m\u001b[0;36m1\u001b[0m\u001b[0;34m)\u001b[0m\u001b[0;34m\u001b[0m\u001b[0;34m\u001b[0m\u001b[0m\n",
      "\u001b[0;32m/media/cat/4TBSSD/anaconda3/envs/wide/lib/python3.8/site-packages/numpy/lib/npyio.py\u001b[0m in \u001b[0;36mload\u001b[0;34m(file, mmap_mode, allow_pickle, fix_imports, encoding)\u001b[0m\n\u001b[1;32m    415\u001b[0m             \u001b[0mown_fid\u001b[0m \u001b[0;34m=\u001b[0m \u001b[0;32mFalse\u001b[0m\u001b[0;34m\u001b[0m\u001b[0;34m\u001b[0m\u001b[0m\n\u001b[1;32m    416\u001b[0m         \u001b[0;32melse\u001b[0m\u001b[0;34m:\u001b[0m\u001b[0;34m\u001b[0m\u001b[0;34m\u001b[0m\u001b[0m\n\u001b[0;32m--> 417\u001b[0;31m             \u001b[0mfid\u001b[0m \u001b[0;34m=\u001b[0m \u001b[0mstack\u001b[0m\u001b[0;34m.\u001b[0m\u001b[0menter_context\u001b[0m\u001b[0;34m(\u001b[0m\u001b[0mopen\u001b[0m\u001b[0;34m(\u001b[0m\u001b[0mos_fspath\u001b[0m\u001b[0;34m(\u001b[0m\u001b[0mfile\u001b[0m\u001b[0;34m)\u001b[0m\u001b[0;34m,\u001b[0m \u001b[0;34m\"rb\"\u001b[0m\u001b[0;34m)\u001b[0m\u001b[0;34m)\u001b[0m\u001b[0;34m\u001b[0m\u001b[0;34m\u001b[0m\u001b[0m\n\u001b[0m\u001b[1;32m    418\u001b[0m             \u001b[0mown_fid\u001b[0m \u001b[0;34m=\u001b[0m \u001b[0;32mTrue\u001b[0m\u001b[0;34m\u001b[0m\u001b[0;34m\u001b[0m\u001b[0m\n\u001b[1;32m    419\u001b[0m \u001b[0;34m\u001b[0m\u001b[0m\n",
      "\u001b[0;31mFileNotFoundError\u001b[0m: [Errno 2] No such file or directory: '/mnt/f418adc0-4ff9-410c-93c9-d6d21a1e9c35/yuki/IA1/SVM_Scores/IA1pm_Mar3_30Hz/SVM_Scores_IA1pm_Mar3_30Hz_code_04_trial_ROItimeCourses_15sec_pca_0.95_Xvalid100_Slidewindow30.npy'"
     ]
    }
   ],
   "source": [
    "#############################################################\n",
    "##################VISUALIZe ################\n",
    "#############################################################\n",
    "data=[]\n",
    "#data.append(np.load('/mnt/f418adc0-4ff9-410c-93c9-d6d21a1e9c35/yuki/IJ2/SVM_Scores/SVM_Scores_IJ2pm_Mar3_30Hz_code_04_trial_ROItimeCourses_15sec_pca_0.95_10xvalid.npy').T)\n",
    "#data.append(np.load('/mnt/f418adc0-4ff9-410c-93c9-d6d21a1e9c35/yuki/IJ2/SVM_Scores/SVM_Scores_IJ2pm_Mar3_30Hz_code_04_trial_ROItimeCourses_15sec_pca_0.95_50xvalid.npy').T)\n",
    "#data.append(np.load('/mnt/f418adc0-4ff9-410c-93c9-d6d21a1e9c35/yuki/IJ2/SVM_Scores/SVM_Scores_IJ2pm_Mar3_30Hz_code_04_trial_ROItimeCourses_15sec_pca_0.95_100xvalid.npy').T)\n",
    "\n",
    "fnames = [\n",
    "    #'/mnt/f418adc0-4ff9-410c-93c9-d6d21a1e9c35/yuki/IA1/SVM_Scores/IA1pm_Mar3_30Hz/SVM_Scores_IA1pm_Mar3_30Hz_code_04_trial_ROItimeCourses_15sec_pca_0.95_Xvalid10_Slidewindow30.npy',\n",
    "    '/mnt/f418adc0-4ff9-410c-93c9-d6d21a1e9c35/yuki/IA1/SVM_Scores/IA1pm_Mar3_30Hz/SVM_Scores_IA1pm_Mar3_30Hz_code_04_trial_ROItimeCourses_15sec_pca_0.95_Xvalid100_Slidewindow30.npy',\n",
    "    '/mnt/f418adc0-4ff9-410c-93c9-d6d21a1e9c35/yuki/IA1/SVM_Scores/IA1pm_Mar3_30Hz/SVM_Scores_IA1pm_Mar3_30Hz_code_04_trial_ROItimeCourses_15sec_pca_0.95_Xvalid100_Slidewindow90.npy',\n",
    "    #     '/mnt/f418adc0-4ff9-410c-93c9-d6d21a1e9c35/yuki/IA1/SVM_Scores/IA1pm_Mar3_30Hz/SVM_Scores_IA1pm_Mar3_30Hz_code_04_trial_ROItimeCourses_15sec_pca_0.95_Xvalid20_Slidewindow30.npy'\n",
    "    #'/mnt/f418adc0-4ff9-410c-93c9-d6d21a1e9c35/yuki/IA1/SVM_Scores/IA1pm_Mar3_30Hz/SVM_Scores_IA1pm_Mar3_30Hz_code_04_trial_ROItimeCourses_15sec_pca_0.95_Xvalid100_Slidewindow10.npy'\n",
    "\n",
    "]\n",
    "# \n",
    "clrs=['black','blue','red']\n",
    "ctr=0\n",
    "fig=plt.figure()\n",
    "for fname in fnames:\n",
    "    data = np.load(fname).T\n",
    "    \n",
    "    sd = np.where(data>1)\n",
    "    print (\"sd: \", sd)\n",
    "    \n",
    "    idx = fname.find('Xvalid')\n",
    "    idx2 = fname[idx:].find(\"_\")\n",
    "    xvalid = int(fname[idx+6:idx+idx2])\n",
    "    print (\"xvalid: \", xvalid)\n",
    "    \n",
    "    idx = fname.find('Slidewindow')\n",
    "    idx2 = fname[idx:].find(\".npy\")\n",
    "    swindow = int(fname[idx+11:idx+idx2])\n",
    "    print (\"swindow: \", swindow)\n",
    "    \n",
    "    \n",
    "    \n",
    "    #ax=plt.subplot(2,2,k+1)\n",
    "    mean = data.mean(1)\n",
    "    std = np.std(data,1)\n",
    "    t=(np.arange(mean.shape[0]))/30-15.+swindow/30\n",
    "    plt.plot(t,mean,c=clrs[ctr])\n",
    "    plt.fill_between(t,mean+std, mean-std, color=clrs[ctr], alpha=.2,\n",
    "                    label=\"xvalid: \"+str(xvalid)+\n",
    "                          '  swindow: '+str(swindow),\n",
    "                    )\n",
    "    \n",
    "    plt.plot([t[0],t[-1]],[0.5,0.5],'--',c='black')\n",
    "    plt.legend()\n",
    "    plt.ylim(0.3,1.0)\n",
    "    ctr+=1\n",
    "plt.xlim(right=0)\n",
    "plt.show()"
   ]
  },
  {
   "cell_type": "code",
   "execution_count": null,
   "metadata": {},
   "outputs": [],
   "source": []
  },
  {
   "cell_type": "code",
   "execution_count": null,
   "metadata": {},
   "outputs": [],
   "source": []
  },
  {
   "cell_type": "code",
   "execution_count": null,
   "metadata": {},
   "outputs": [],
   "source": []
  },
  {
   "cell_type": "code",
   "execution_count": null,
   "metadata": {},
   "outputs": [],
   "source": []
  },
  {
   "cell_type": "code",
   "execution_count": null,
   "metadata": {},
   "outputs": [],
   "source": []
  },
  {
   "cell_type": "code",
   "execution_count": null,
   "metadata": {},
   "outputs": [],
   "source": []
  },
  {
   "cell_type": "code",
   "execution_count": 4,
   "metadata": {
    "scrolled": true
   },
   "outputs": [
    {
     "name": "stderr",
     "output_type": "stream",
     "text": [
      "\r",
      "  0%|          | 0/71 [00:00<?, ?it/s]"
     ]
    },
    {
     "name": "stdout",
     "output_type": "stream",
     "text": [
      " too few trials... skipping\n"
     ]
    },
    {
     "name": "stderr",
     "output_type": "stream",
     "text": [
      "  4%|▍         | 3/71 [00:01<00:27,  2.46it/s]"
     ]
    },
    {
     "name": "stdout",
     "output_type": "stream",
     "text": [
      "no such filename, skipping\n",
      " too few trials... skipping\n"
     ]
    },
    {
     "name": "stderr",
     "output_type": "stream",
     "text": [
      " 14%|█▍        | 10/71 [00:02<00:13,  4.64it/s]"
     ]
    },
    {
     "name": "stdout",
     "output_type": "stream",
     "text": [
      " too few trials... skipping\n"
     ]
    },
    {
     "name": "stderr",
     "output_type": "stream",
     "text": [
      " 20%|█▉        | 14/71 [00:05<00:33,  1.72it/s]"
     ]
    },
    {
     "name": "stdout",
     "output_type": "stream",
     "text": [
      " too few trials... skipping\n"
     ]
    },
    {
     "name": "stderr",
     "output_type": "stream",
     "text": [
      "\r",
      " 23%|██▎       | 16/71 [00:07<00:37,  1.45it/s]"
     ]
    },
    {
     "name": "stdout",
     "output_type": "stream",
     "text": [
      "no such filename, skipping\n",
      "no such filename, skipping\n"
     ]
    },
    {
     "name": "stderr",
     "output_type": "stream",
     "text": [
      "\r",
      " 28%|██▊       | 20/71 [00:07<00:20,  2.55it/s]"
     ]
    },
    {
     "name": "stdout",
     "output_type": "stream",
     "text": [
      " too few trials... skipping\n"
     ]
    },
    {
     "name": "stderr",
     "output_type": "stream",
     "text": [
      " 35%|███▌      | 25/71 [00:09<00:14,  3.12it/s]"
     ]
    },
    {
     "name": "stdout",
     "output_type": "stream",
     "text": [
      " too few trials... skipping\n"
     ]
    },
    {
     "name": "stderr",
     "output_type": "stream",
     "text": [
      " 46%|████▋     | 33/71 [00:10<00:07,  4.77it/s]"
     ]
    },
    {
     "name": "stdout",
     "output_type": "stream",
     "text": [
      " too few trials... skipping\n"
     ]
    },
    {
     "name": "stderr",
     "output_type": "stream",
     "text": [
      " 54%|█████▎    | 38/71 [00:11<00:03,  8.80it/s]"
     ]
    },
    {
     "name": "stdout",
     "output_type": "stream",
     "text": [
      " too few trials... skipping\n"
     ]
    },
    {
     "name": "stderr",
     "output_type": "stream",
     "text": [
      " 63%|██████▎   | 45/71 [00:12<00:02, 10.79it/s]"
     ]
    },
    {
     "name": "stdout",
     "output_type": "stream",
     "text": [
      "no such filename, skipping\n",
      " too few trials... skipping\n",
      " too few trials... skipping\n"
     ]
    },
    {
     "name": "stderr",
     "output_type": "stream",
     "text": [
      " 75%|███████▍  | 53/71 [00:13<00:04,  3.99it/s]"
     ]
    },
    {
     "name": "stdout",
     "output_type": "stream",
     "text": [
      "no such filename, skipping\n"
     ]
    },
    {
     "name": "stderr",
     "output_type": "stream",
     "text": [
      " 83%|████████▎ | 59/71 [00:14<00:02,  5.93it/s]"
     ]
    },
    {
     "name": "stdout",
     "output_type": "stream",
     "text": [
      "no such filename, skipping\n"
     ]
    },
    {
     "name": "stderr",
     "output_type": "stream",
     "text": [
      " 93%|█████████▎| 66/71 [00:16<00:01,  3.62it/s]"
     ]
    },
    {
     "name": "stdout",
     "output_type": "stream",
     "text": [
      " too few trials... skipping\n",
      " too few trials... skipping\n"
     ]
    },
    {
     "name": "stderr",
     "output_type": "stream",
     "text": [
      "100%|██████████| 71/71 [00:17<00:00,  4.17it/s]\n",
      "  0%|          | 0/44 [00:00<?, ?it/s]"
     ]
    },
    {
     "name": "stdout",
     "output_type": "stream",
     "text": [
      "no such filename, skipping\n",
      " too few trials... skipping\n"
     ]
    },
    {
     "name": "stderr",
     "output_type": "stream",
     "text": [
      " 20%|██        | 9/44 [00:03<00:11,  3.07it/s]"
     ]
    },
    {
     "name": "stdout",
     "output_type": "stream",
     "text": [
      " too few trials... skipping\n",
      " too few trials... skipping\n",
      " too few trials... skipping\n",
      "no such filename, skipping\n"
     ]
    },
    {
     "name": "stderr",
     "output_type": "stream",
     "text": [
      " 34%|███▍      | 15/44 [00:06<00:13,  2.21it/s]"
     ]
    },
    {
     "name": "stdout",
     "output_type": "stream",
     "text": [
      " too few trials... skipping\n",
      "no such filename, skipping\n",
      "no such filename, skipping\n"
     ]
    },
    {
     "name": "stderr",
     "output_type": "stream",
     "text": [
      " 61%|██████▏   | 27/44 [00:10<00:05,  2.90it/s]"
     ]
    },
    {
     "name": "stdout",
     "output_type": "stream",
     "text": [
      "no such filename, skipping\n"
     ]
    },
    {
     "name": "stderr",
     "output_type": "stream",
     "text": [
      " 84%|████████▍ | 37/44 [00:24<00:07,  1.08s/it]"
     ]
    },
    {
     "name": "stdout",
     "output_type": "stream",
     "text": [
      " too few trials... skipping\n"
     ]
    },
    {
     "name": "stderr",
     "output_type": "stream",
     "text": [
      "100%|██████████| 44/44 [00:30<00:00,  1.46it/s]\n",
      " 16%|█▌        | 7/44 [00:04<00:17,  2.11it/s]"
     ]
    },
    {
     "name": "stdout",
     "output_type": "stream",
     "text": [
      " too few trials... skipping\n"
     ]
    },
    {
     "name": "stderr",
     "output_type": "stream",
     "text": [
      " 32%|███▏      | 14/44 [00:09<00:14,  2.04it/s]"
     ]
    },
    {
     "name": "stdout",
     "output_type": "stream",
     "text": [
      "no such filename, skipping\n",
      "no such filename, skipping\n"
     ]
    },
    {
     "name": "stderr",
     "output_type": "stream",
     "text": [
      "100%|██████████| 44/44 [00:53<00:00,  1.21s/it]\n",
      " 34%|███▍      | 15/44 [00:11<00:32,  1.11s/it]"
     ]
    },
    {
     "name": "stdout",
     "output_type": "stream",
     "text": [
      "no such filename, skipping\n",
      "no such filename, skipping\n"
     ]
    },
    {
     "name": "stderr",
     "output_type": "stream",
     "text": [
      " 55%|█████▍    | 24/44 [00:24<00:41,  2.10s/it]"
     ]
    },
    {
     "name": "stdout",
     "output_type": "stream",
     "text": [
      " too few trials... skipping\n"
     ]
    },
    {
     "name": "stderr",
     "output_type": "stream",
     "text": [
      "100%|██████████| 44/44 [00:30<00:00,  1.44it/s]\n",
      "  5%|▍         | 2/44 [00:00<00:03, 11.21it/s]"
     ]
    },
    {
     "name": "stdout",
     "output_type": "stream",
     "text": [
      "no such filename, skipping\n"
     ]
    },
    {
     "name": "stderr",
     "output_type": "stream",
     "text": [
      " 11%|█▏        | 5/44 [00:02<00:26,  1.45it/s]"
     ]
    },
    {
     "name": "stdout",
     "output_type": "stream",
     "text": [
      "no such filename, skipping\n"
     ]
    },
    {
     "name": "stderr",
     "output_type": "stream",
     "text": [
      " 20%|██        | 9/44 [00:04<00:14,  2.37it/s]"
     ]
    },
    {
     "name": "stdout",
     "output_type": "stream",
     "text": [
      "no such filename, skipping\n"
     ]
    },
    {
     "name": "stderr",
     "output_type": "stream",
     "text": [
      " 32%|███▏      | 14/44 [00:05<00:09,  3.02it/s]"
     ]
    },
    {
     "name": "stdout",
     "output_type": "stream",
     "text": [
      "no such filename, skipping\n",
      "no such filename, skipping\n",
      "no such filename, skipping\n"
     ]
    },
    {
     "name": "stderr",
     "output_type": "stream",
     "text": [
      "100%|██████████| 44/44 [00:26<00:00,  1.64it/s]\n",
      "  0%|          | 0/110 [00:00<?, ?it/s]"
     ]
    },
    {
     "name": "stdout",
     "output_type": "stream",
     "text": [
      "no such filename, skipping\n",
      "no such filename, skipping\n",
      "no such filename, skipping\n",
      " too few trials... skipping\n",
      "no such filename, skipping\n"
     ]
    },
    {
     "name": "stderr",
     "output_type": "stream",
     "text": [
      "  9%|▉         | 10/110 [00:00<00:05, 18.80it/s]"
     ]
    },
    {
     "name": "stdout",
     "output_type": "stream",
     "text": [
      " too few trials... skipping\n",
      " too few trials... skipping\n",
      " too few trials... skipping\n",
      " too few trials... skipping\n",
      "no such filename, skipping\n",
      "no such filename, skipping\n"
     ]
    },
    {
     "name": "stderr",
     "output_type": "stream",
     "text": [
      "\r",
      " 14%|█▎        | 15/110 [00:00<00:04, 21.20it/s]"
     ]
    },
    {
     "name": "stdout",
     "output_type": "stream",
     "text": [
      "no such filename, skipping\n"
     ]
    },
    {
     "name": "stderr",
     "output_type": "stream",
     "text": [
      " 19%|█▉        | 21/110 [00:04<00:32,  2.75it/s]"
     ]
    },
    {
     "name": "stdout",
     "output_type": "stream",
     "text": [
      " too few trials... skipping\n"
     ]
    },
    {
     "name": "stderr",
     "output_type": "stream",
     "text": [
      " 22%|██▏       | 24/110 [00:04<00:22,  3.76it/s]"
     ]
    },
    {
     "name": "stdout",
     "output_type": "stream",
     "text": [
      "no such filename, skipping\n",
      " too few trials... skipping\n",
      "no such filename, skipping\n"
     ]
    },
    {
     "name": "stderr",
     "output_type": "stream",
     "text": [
      " 30%|███       | 33/110 [00:08<00:36,  2.09it/s]"
     ]
    },
    {
     "name": "stdout",
     "output_type": "stream",
     "text": [
      "no such filename, skipping\n",
      "no such filename, skipping\n",
      "no such filename, skipping\n",
      "no such filename, skipping\n",
      " too few trials... skipping\n",
      "no such filename, skipping\n",
      "no such filename, skipping\n",
      " too few trials... skipping\n",
      " too few trials... skipping\n",
      "no such filename, skipping\n",
      "no such filename, skipping\n",
      "no such filename, skipping\n",
      "no such filename, skipping\n",
      " too few trials... skipping\n"
     ]
    },
    {
     "name": "stderr",
     "output_type": "stream",
     "text": [
      " 62%|██████▏   | 68/110 [00:58<02:46,  3.97s/it]"
     ]
    },
    {
     "name": "stdout",
     "output_type": "stream",
     "text": [
      "no such filename, skipping\n"
     ]
    },
    {
     "name": "stderr",
     "output_type": "stream",
     "text": [
      "100%|██████████| 110/110 [02:51<00:00,  1.56s/it]\n",
      "  3%|▎         | 2/71 [00:00<00:05, 11.81it/s]"
     ]
    },
    {
     "name": "stdout",
     "output_type": "stream",
     "text": [
      " too few trials... skipping\n"
     ]
    },
    {
     "name": "stderr",
     "output_type": "stream",
     "text": [
      "\r",
      "  6%|▌         | 4/71 [00:00<00:09,  6.98it/s]"
     ]
    },
    {
     "name": "stdout",
     "output_type": "stream",
     "text": [
      "no such filename, skipping\n",
      " too few trials... skipping\n"
     ]
    },
    {
     "name": "stderr",
     "output_type": "stream",
     "text": [
      "\r",
      "  8%|▊         | 6/71 [00:01<00:13,  4.89it/s]"
     ]
    },
    {
     "name": "stdout",
     "output_type": "stream",
     "text": [
      " too few trials... skipping\n"
     ]
    },
    {
     "name": "stderr",
     "output_type": "stream",
     "text": [
      "\r",
      " 11%|█▏        | 8/71 [00:01<00:11,  5.33it/s]"
     ]
    },
    {
     "name": "stdout",
     "output_type": "stream",
     "text": [
      " too few trials... skipping\n"
     ]
    },
    {
     "name": "stderr",
     "output_type": "stream",
     "text": [
      " 17%|█▋        | 12/71 [00:02<00:10,  5.57it/s]"
     ]
    },
    {
     "name": "stdout",
     "output_type": "stream",
     "text": [
      " too few trials... skipping\n"
     ]
    },
    {
     "name": "stderr",
     "output_type": "stream",
     "text": [
      "\r",
      " 20%|█▉        | 14/71 [00:02<00:12,  4.61it/s]"
     ]
    },
    {
     "name": "stdout",
     "output_type": "stream",
     "text": [
      " too few trials... skipping\n"
     ]
    },
    {
     "name": "stderr",
     "output_type": "stream",
     "text": [
      "\r",
      " 23%|██▎       | 16/71 [00:03<00:15,  3.52it/s]"
     ]
    },
    {
     "name": "stdout",
     "output_type": "stream",
     "text": [
      "no such filename, skipping\n",
      "no such filename, skipping\n"
     ]
    },
    {
     "name": "stderr",
     "output_type": "stream",
     "text": [
      "\r",
      " 28%|██▊       | 20/71 [00:03<00:09,  5.58it/s]"
     ]
    },
    {
     "name": "stdout",
     "output_type": "stream",
     "text": [
      " too few trials... skipping\n"
     ]
    },
    {
     "name": "stderr",
     "output_type": "stream",
     "text": [
      " 38%|███▊      | 27/71 [00:04<00:06,  6.95it/s]"
     ]
    },
    {
     "name": "stdout",
     "output_type": "stream",
     "text": [
      " too few trials... skipping\n"
     ]
    },
    {
     "name": "stderr",
     "output_type": "stream",
     "text": [
      " 48%|████▊     | 34/71 [00:05<00:04,  7.78it/s]"
     ]
    },
    {
     "name": "stdout",
     "output_type": "stream",
     "text": [
      " too few trials... skipping\n"
     ]
    },
    {
     "name": "stderr",
     "output_type": "stream",
     "text": [
      "\r",
      " 52%|█████▏    | 37/71 [00:06<00:03, 10.13it/s]"
     ]
    },
    {
     "name": "stdout",
     "output_type": "stream",
     "text": [
      " too few trials... skipping\n"
     ]
    },
    {
     "name": "stderr",
     "output_type": "stream",
     "text": [
      " 63%|██████▎   | 45/71 [00:06<00:02, 11.57it/s]"
     ]
    },
    {
     "name": "stdout",
     "output_type": "stream",
     "text": [
      "no such filename, skipping\n",
      " too few trials... skipping\n"
     ]
    },
    {
     "name": "stderr",
     "output_type": "stream",
     "text": [
      "\r",
      " 68%|██████▊   | 48/71 [00:07<00:01, 11.83it/s]"
     ]
    },
    {
     "name": "stdout",
     "output_type": "stream",
     "text": [
      " too few trials... skipping\n"
     ]
    },
    {
     "name": "stderr",
     "output_type": "stream",
     "text": [
      " 75%|███████▍  | 53/71 [00:08<00:02,  6.01it/s]"
     ]
    },
    {
     "name": "stdout",
     "output_type": "stream",
     "text": [
      "no such filename, skipping\n"
     ]
    },
    {
     "name": "stderr",
     "output_type": "stream",
     "text": [
      " 83%|████████▎ | 59/71 [00:08<00:01,  7.51it/s]"
     ]
    },
    {
     "name": "stdout",
     "output_type": "stream",
     "text": [
      "no such filename, skipping\n"
     ]
    },
    {
     "name": "stderr",
     "output_type": "stream",
     "text": [
      "\r",
      " 86%|████████▌ | 61/71 [00:09<00:01,  7.62it/s]"
     ]
    },
    {
     "name": "stdout",
     "output_type": "stream",
     "text": [
      " too few trials... skipping\n"
     ]
    },
    {
     "name": "stderr",
     "output_type": "stream",
     "text": [
      " 93%|█████████▎| 66/71 [00:10<00:01,  4.56it/s]"
     ]
    },
    {
     "name": "stdout",
     "output_type": "stream",
     "text": [
      " too few trials... skipping\n",
      " too few trials... skipping\n"
     ]
    },
    {
     "name": "stderr",
     "output_type": "stream",
     "text": [
      "100%|██████████| 71/71 [00:10<00:00,  6.60it/s]\n",
      "  0%|          | 0/44 [00:00<?, ?it/s]"
     ]
    },
    {
     "name": "stdout",
     "output_type": "stream",
     "text": [
      "no such filename, skipping\n",
      " too few trials... skipping\n"
     ]
    },
    {
     "name": "stderr",
     "output_type": "stream",
     "text": [
      " 20%|██        | 9/44 [00:01<00:06,  5.29it/s]"
     ]
    },
    {
     "name": "stdout",
     "output_type": "stream",
     "text": [
      " too few trials... skipping\n",
      " too few trials... skipping\n",
      " too few trials... skipping\n",
      "no such filename, skipping\n"
     ]
    },
    {
     "name": "stderr",
     "output_type": "stream",
     "text": [
      " 43%|████▎     | 19/44 [00:03<00:04,  6.24it/s]"
     ]
    },
    {
     "name": "stdout",
     "output_type": "stream",
     "text": [
      " too few trials... skipping\n",
      "no such filename, skipping\n",
      "no such filename, skipping\n"
     ]
    },
    {
     "name": "stderr",
     "output_type": "stream",
     "text": [
      " 61%|██████▏   | 27/44 [00:06<00:03,  4.46it/s]"
     ]
    },
    {
     "name": "stdout",
     "output_type": "stream",
     "text": [
      "no such filename, skipping\n"
     ]
    },
    {
     "name": "stderr",
     "output_type": "stream",
     "text": [
      " 84%|████████▍ | 37/44 [00:12<00:03,  2.21it/s]"
     ]
    },
    {
     "name": "stdout",
     "output_type": "stream",
     "text": [
      " too few trials... skipping\n"
     ]
    },
    {
     "name": "stderr",
     "output_type": "stream",
     "text": [
      "100%|██████████| 44/44 [00:14<00:00,  2.96it/s]\n",
      " 16%|█▌        | 7/44 [00:02<00:08,  4.16it/s]"
     ]
    },
    {
     "name": "stdout",
     "output_type": "stream",
     "text": [
      " too few trials... skipping\n"
     ]
    },
    {
     "name": "stderr",
     "output_type": "stream",
     "text": [
      " 32%|███▏      | 14/44 [00:05<00:10,  2.95it/s]"
     ]
    },
    {
     "name": "stdout",
     "output_type": "stream",
     "text": [
      "no such filename, skipping\n",
      "no such filename, skipping\n"
     ]
    },
    {
     "name": "stderr",
     "output_type": "stream",
     "text": [
      "100%|██████████| 44/44 [00:19<00:00,  2.21it/s]\n",
      " 34%|███▍      | 15/44 [00:07<00:16,  1.78it/s]"
     ]
    },
    {
     "name": "stdout",
     "output_type": "stream",
     "text": [
      "no such filename, skipping\n",
      "no such filename, skipping\n"
     ]
    },
    {
     "name": "stderr",
     "output_type": "stream",
     "text": [
      " 55%|█████▍    | 24/44 [00:10<00:09,  2.08it/s]"
     ]
    },
    {
     "name": "stdout",
     "output_type": "stream",
     "text": [
      " too few trials... skipping\n"
     ]
    },
    {
     "name": "stderr",
     "output_type": "stream",
     "text": [
      "100%|██████████| 44/44 [00:15<00:00,  2.91it/s]\n",
      "  5%|▍         | 2/44 [00:00<00:03, 11.25it/s]"
     ]
    },
    {
     "name": "stdout",
     "output_type": "stream",
     "text": [
      "no such filename, skipping\n"
     ]
    },
    {
     "name": "stderr",
     "output_type": "stream",
     "text": [
      " 11%|█▏        | 5/44 [00:02<00:20,  1.89it/s]"
     ]
    },
    {
     "name": "stdout",
     "output_type": "stream",
     "text": [
      "no such filename, skipping\n"
     ]
    },
    {
     "name": "stderr",
     "output_type": "stream",
     "text": [
      " 20%|██        | 9/44 [00:03<00:11,  3.02it/s]"
     ]
    },
    {
     "name": "stdout",
     "output_type": "stream",
     "text": [
      "no such filename, skipping\n"
     ]
    },
    {
     "name": "stderr",
     "output_type": "stream",
     "text": [
      " 32%|███▏      | 14/44 [00:04<00:07,  4.04it/s]"
     ]
    },
    {
     "name": "stdout",
     "output_type": "stream",
     "text": [
      "no such filename, skipping\n",
      "no such filename, skipping\n",
      "no such filename, skipping\n"
     ]
    },
    {
     "name": "stderr",
     "output_type": "stream",
     "text": [
      "100%|██████████| 44/44 [00:15<00:00,  2.93it/s]\n",
      "  6%|▋         | 7/110 [00:00<00:02, 37.62it/s]"
     ]
    },
    {
     "name": "stdout",
     "output_type": "stream",
     "text": [
      "no such filename, skipping\n",
      "no such filename, skipping\n",
      "no such filename, skipping\n",
      " too few trials... skipping\n",
      " too few trials... skipping\n",
      "no such filename, skipping\n"
     ]
    },
    {
     "name": "stderr",
     "output_type": "stream",
     "text": [
      "\r",
      " 10%|█         | 11/110 [00:00<00:02, 34.43it/s]"
     ]
    },
    {
     "name": "stdout",
     "output_type": "stream",
     "text": [
      " too few trials... skipping\n",
      " too few trials... skipping\n",
      " too few trials... skipping\n",
      " too few trials... skipping\n",
      "no such filename, skipping\n",
      "no such filename, skipping\n"
     ]
    },
    {
     "name": "stderr",
     "output_type": "stream",
     "text": [
      "\r",
      " 15%|█▍        | 16/110 [00:00<00:03, 23.69it/s]"
     ]
    },
    {
     "name": "stdout",
     "output_type": "stream",
     "text": [
      "no such filename, skipping\n"
     ]
    },
    {
     "name": "stderr",
     "output_type": "stream",
     "text": [
      " 21%|██        | 23/110 [00:03<00:16,  5.24it/s]"
     ]
    },
    {
     "name": "stdout",
     "output_type": "stream",
     "text": [
      " too few trials... skipping\n"
     ]
    },
    {
     "name": "stderr",
     "output_type": "stream",
     "text": [
      "\r",
      " 24%|██▎       | 26/110 [00:03<00:11,  7.19it/s]"
     ]
    },
    {
     "name": "stdout",
     "output_type": "stream",
     "text": [
      "no such filename, skipping\n",
      " too few trials... skipping\n",
      "no such filename, skipping\n"
     ]
    },
    {
     "name": "stderr",
     "output_type": "stream",
     "text": [
      " 30%|███       | 33/110 [00:05<00:19,  3.93it/s]"
     ]
    },
    {
     "name": "stdout",
     "output_type": "stream",
     "text": [
      "no such filename, skipping\n",
      "no such filename, skipping\n",
      "no such filename, skipping\n",
      "no such filename, skipping\n",
      " too few trials... skipping\n",
      "no such filename, skipping\n",
      "no such filename, skipping\n",
      " too few trials... skipping\n",
      " too few trials... skipping\n",
      "no such filename, skipping\n",
      "no such filename, skipping\n",
      "no such filename, skipping\n",
      "no such filename, skipping\n",
      " too few trials... skipping\n"
     ]
    },
    {
     "name": "stderr",
     "output_type": "stream",
     "text": [
      " 62%|██████▏   | 68/110 [00:14<00:21,  1.97it/s]"
     ]
    },
    {
     "name": "stdout",
     "output_type": "stream",
     "text": [
      "no such filename, skipping\n"
     ]
    },
    {
     "name": "stderr",
     "output_type": "stream",
     "text": [
      "100%|██████████| 110/110 [00:35<00:00,  3.07it/s]\n"
     ]
    }
   ],
   "source": [
    "#####################################\n",
    "##### PREDICT SVM DECISION TIME #####\n",
    "#####################################\n",
    "svm = PredictSVMTime()\n",
    "svm.main_dir = '/media/cat/4TBSSD/yuki/'\n",
    "\n",
    "# default params\n",
    "svm.lockout = False\n",
    "svm.lockout_window = 10\n",
    "svm.pca_flag = True\n",
    "svm.pca_var = 0.95\n",
    "svm.window = 10\n",
    "svm.use_saved_model = False\n",
    "svm.fname_saved_model = '/media/cat/4TBSSD/yuki/AQ2/tif_files/AQ2am_Feb11_30Hz/analysis/00599_svm.pkl'\n",
    "\n",
    "# \n",
    "names = ['IA1','IA2','IA3','IJ1','IJ2','AQ2'] # \"AR4\" and other datasets could work\n",
    "\n",
    "# \n",
    "lockouts = [False, True]\n",
    "for lockout in lockouts:\n",
    "    svm.lockout=lockout\n",
    "    for id_ in names:\n",
    "        svm.animal_id = id_\n",
    "        svm.session_id = 'all'\n",
    "\n",
    "        # \n",
    "        svm.predict()\n",
    "\n",
    "# svm.process_data()"
   ]
  },
  {
   "cell_type": "code",
   "execution_count": 18,
   "metadata": {
    "scrolled": true
   },
   "outputs": [
    {
     "name": "stdout",
     "output_type": "stream",
     "text": [
      "['AQ2am_Dec9_30Hz' 'AQ2am_Dec10_30Hz' 'AQ2pm_Dec10_30Hz'\n",
      " 'AQ2am_Dec11_30Hz' 'AQ2pm_Dec14_30Hz' 'AQ2am_Dec14_30Hz'\n",
      " 'AQ2pm_Dec16_30Hz' 'AQ2am_Dec17_30Hz' 'AQ2pm_Dec17_30Hz'\n",
      " 'AQ2am_Dec18_30Hz' 'AQ2pm_Dec18_30Hz' 'AQ2am_Dec21_30Hz'\n",
      " 'AQ2am_Dec22_30Hz' 'AQ2am_Dec23_30Hz' 'AQ2am_Dec28_30Hz'\n",
      " 'AQ2am_Dec29_30Hz' 'AQ2am_Dec30_30Hz' 'AQ2am_Dec31_30Hz'\n",
      " 'AQ2am_Jan4_30Hz' 'AQ2am_Jan5_30Hz' 'AQ2am_Jan6_30Hz' 'AQ2am_Jan7_30Hz'\n",
      " 'AQ2am_Jan8_30Hz' 'AQ2pm_Jan11_30Hz' 'AQ2am_Jan11_30Hz'\n",
      " 'AQ2pm_Jan12_30Hz' 'AQ2am_Jan12_30Hz' 'AQ2pm_Jan13_30Hz'\n",
      " 'AQ2am_Jan13_30Hz' 'AQ2pm_Jan14_30Hz' 'AQ2am_Jan14_30Hz'\n",
      " 'AQ2am_Jan15_30Hz' 'AQ2pm_Jan15_30Hz' 'AQ2pm_Jan18_30Hz'\n",
      " 'AQ2am_Jan18_30Hz' 'AQ2am_Jan19_30Hz' 'AQ2pm_Jan19_30Hz'\n",
      " 'AQ2pm_Jan20_30Hz' 'AQ2am_Jan20_30Hz' 'AQ2pm_Jan21_30Hz'\n",
      " 'AQ2am_Jan21_30Hz' 'AQ2pm_Jan22_30Hz' 'AQ2am_Jan22_30Hz'\n",
      " 'AQ2am_Jan25_30Hz' 'AQ2pm_Jan25_30Hz' 'AQ2pm_Jan26_30Hz'\n",
      " 'AQ2am_Jan26_30Hz' 'AQ2am_Jan27_30Hz' 'AQ2pm_Jan27_30Hz'\n",
      " 'AQ2am_Jan28_30Hz' 'AQ2pm_Jan28_30Hz' 'AQ2am_Jan29_30Hz'\n",
      " 'AQ2pm_Jan29_30Hz' 'AQ2am_Feb2_30Hz' 'AQ2am_Feb3_30Hz' 'AQ2am_Feb4_30Hz'\n",
      " 'AQ2am_Feb5_30Hz' 'AQ2am_Feb9_30Hz' 'AQ2am_Feb10_30Hz' 'AQ2am_Feb11_30Hz'\n",
      " 'AQ2am_Feb12_30Hz' 'AQ2am_Feb15_30Hz' 'AQ2am_Feb16_30Hz'\n",
      " 'AQ2am_Feb17_30Hz' 'AQ2am_Feb18_30Hz' 'AQ2am_Feb19_30Hz'\n",
      " 'AQ2am_Feb22_30Hz' 'AQ2am_Feb23_30Hz' 'AQ2am_Feb25_30Hz'\n",
      " 'AQ2am_Feb26_30Hz' 'AQ2am_Feb29_30Hz' 'AQ2am_Mar1_30Hz' 'AQ2am_Mar2_30Hz'\n",
      " 'AQ2am_Mar3_30Hz' 'AQ2pm_Mar7_Day3_30Hz' 'AQ2pm_Mar9_Day5_30Hz'\n",
      " 'AQ2pm_Mar11_Day7_30Hz' 'AQ2am_Mar14_Week2_30Hz' 'AQ2pm_Mar15_Week2_30Hz'\n",
      " 'AQ2am_Mar16_Week2_30Hz' 'AQ2am_Mar17_Week2_30Hz'\n",
      " 'AQ2am_Mar18_Week2_30Hz' 'AQ2am_Mar21_Week3_30Hz'\n",
      " 'AQ2am_Mar22_Week3_30Hz' 'AQ2am_Mar23_Week3_30Hz'\n",
      " 'AQ2am_Mar24_Week3_30Hz' 'AQ2am_Mar29_Week4_30Hz'\n",
      " 'AQ2am_Mar30_Week4_30Hz' 'AQ2am_Mar31_Week4_30Hz' 'AQ2am_Apr1_Week4_30Hz'\n",
      " 'AQ2am_Apr4_Week5_30Hz' 'AQ2am_Apr5_Week5_30Hz' 'AQ2am_Apr6_Week5_30Hz'\n",
      " 'AQ2am_Apr7_Week5_30Hz' 'AQ2am_Apr8_Week5_30Hz' 'AQ2am_Apr11_Week6_30Hz'\n",
      " 'AQ2am_Apr12_Week6_30Hz' 'AQ2am_Apr13_Week6_30Hz'\n",
      " 'AQ2am_Apr14_Week6_30Hz' 'AQ2am_Apr15_Week6_30Hz'\n",
      " 'AQ2am_Apr18_Week7_30Hz' 'AQ2am_Apr19_Week7_30Hz'\n",
      " 'AQ2am_Apr20_Week7_30Hz' 'AQ2am_Apr21_Week7_30Hz'\n",
      " 'AQ2am_Apr22_Week7_30Hz' 'AQ2am_Apr25_Week8_30Hz'\n",
      " 'AQ2am_Apr26_Week8_30Hz' 'AQ2am_Apr27_Week8_30Hz'\n",
      " 'AQ2am_Apr28_Week8_30Hz' 'AQ2am_Apr29_Week8_30Hz']\n"
     ]
    },
    {
     "data": {
      "text/plain": [
       "Text(0.5, 0.98, 'AQ2')"
      ]
     },
     "execution_count": 18,
     "metadata": {},
     "output_type": "execute_result"
    }
   ],
   "source": [
    "################################################\n",
    "################################################\n",
    "################################################\n",
    "fig = plt.figure()\n",
    "svm.animal_id = 'AQ2'\n",
    "svm.session_id = 'all'\n",
    "svm.get_sessions()\n",
    "print (svm.sessions)\n",
    "\n",
    "#\n",
    "ctr=1\n",
    "for session_id in svm.sessions:\n",
    "    ax=plt.subplot(8,10,ctr)\n",
    "    svm.session_id = session_id\n",
    "    try:\n",
    "        svm.plot_decision_time(ax)\n",
    "        plt.title(session_id+\", #: \"+str(svm.n_trials), fontsize=6)\n",
    "        if ctr!=1:\n",
    "            plt.yticks([])\n",
    "        if ctr!=31:\n",
    "            plt.xticks([])\n",
    "\n",
    "        ctr+=1\n",
    "\n",
    "    except:\n",
    "        pass\n",
    "plt.suptitle(svm.animal_id,fontsize=20)"
   ]
  },
  {
   "cell_type": "code",
   "execution_count": null,
   "metadata": {},
   "outputs": [],
   "source": []
  },
  {
   "cell_type": "code",
   "execution_count": null,
   "metadata": {},
   "outputs": [],
   "source": []
  },
  {
   "cell_type": "code",
   "execution_count": 12,
   "metadata": {},
   "outputs": [
    {
     "name": "stdout",
     "output_type": "stream",
     "text": [
      "(7, 20050)\n",
      "(7,) 2960\n",
      "['left_paw' 'right_paw' 'nose' 'jaw' 'right_ear' 'tongue' 'lever']\n",
      "[4.765 5.036 4.922]\n"
     ]
    }
   ],
   "source": [
    "import numpy as np\n",
    "data = np.load('/media/cat/4TBSSD/yuki/IA1/tif_files/IA1pm_Feb11_30Hz/IA1pm_Feb11_30Hz_0secNoMove_movements.npz',\n",
    "              allow_pickle=True)\n",
    "\n",
    "feature_init=data['feature_initiations']\n",
    "print (feature_init.shape)\n",
    "\n",
    "quiescent = data['feature_quiescent']\n",
    "print (quiescent.shape, len(quiescent[2]))\n",
    "\n",
    "labels = data['labels']\n",
    "print (labels)\n",
    "\n",
    "print (data['video_shift'])"
   ]
  },
  {
   "cell_type": "code",
   "execution_count": null,
   "metadata": {},
   "outputs": [],
   "source": []
  },
  {
   "cell_type": "code",
   "execution_count": null,
   "metadata": {},
   "outputs": [],
   "source": []
  },
  {
   "cell_type": "code",
   "execution_count": null,
   "metadata": {},
   "outputs": [],
   "source": []
  },
  {
   "cell_type": "code",
   "execution_count": null,
   "metadata": {},
   "outputs": [],
   "source": []
  },
  {
   "cell_type": "code",
   "execution_count": null,
   "metadata": {},
   "outputs": [],
   "source": []
  },
  {
   "cell_type": "code",
   "execution_count": null,
   "metadata": {},
   "outputs": [],
   "source": []
  }
 ],
 "metadata": {
  "kernelspec": {
   "display_name": "Python 3",
   "language": "python",
   "name": "python3"
  },
  "language_info": {
   "codemirror_mode": {
    "name": "ipython",
    "version": 3
   },
   "file_extension": ".py",
   "mimetype": "text/x-python",
   "name": "python",
   "nbconvert_exporter": "python",
   "pygments_lexer": "ipython3",
   "version": "3.8.0"
  }
 },
 "nbformat": 4,
 "nbformat_minor": 4
}
