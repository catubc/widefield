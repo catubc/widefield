{
 "cells": [
  {
   "cell_type": "code",
   "execution_count": 76,
   "id": "006c938d",
   "metadata": {},
   "outputs": [
    {
     "name": "stdout",
     "output_type": "stream",
     "text": [
      "The autoreload extension is already loaded. To reload it, use:\n",
      "  %reload_ext autoreload\n"
     ]
    },
    {
     "data": {
      "application/javascript": [
       "IPython.notebook.set_autosave_interval(180000)"
      ]
     },
     "metadata": {},
     "output_type": "display_data"
    },
    {
     "name": "stdout",
     "output_type": "stream",
     "text": [
      "Autosaving every 180 seconds\n"
     ]
    },
    {
     "data": {
      "text/html": [
       "<style>.container { width:100% !important; }</style>"
      ],
      "text/plain": [
       "<IPython.core.display.HTML object>"
      ]
     },
     "metadata": {},
     "output_type": "display_data"
    }
   ],
   "source": [
    "import matplotlib\n",
    "#matplotlib.use('Agg')\n",
    "\n",
    "%load_ext autoreload\n",
    "%autoreload 2\n",
    "\n",
    "%matplotlib tk\n",
    "%autosave 180\n",
    "\n",
    "import sys\n",
    "sys.path.append(\"/home/cat/code/widefieldPredict/\") # Adds higher directory to python modules path.\n",
    "\n",
    "import matplotlib.pyplot as plt\n",
    "from IPython.core.display import display, HTML\n",
    "display(HTML(\"<style>.container { width:100% !important; }</style>\"))\n",
    "\n",
    "import numpy as np\n",
    "import os\n",
    "\n",
    "#  SVM module\n",
    "from svm import svm as SVM\n",
    "# \n",
    "data_dir = '/media/cat/4TBSSD/yuki/'\n",
    "#data_dir = '/mnt/f418adc0-4ff9-410c-93c9-d6d21a1e9c35/yuki/'"
   ]
  },
  {
   "cell_type": "code",
   "execution_count": 189,
   "id": "cb595cf7",
   "metadata": {},
   "outputs": [
    {
     "name": "stdout",
     "output_type": "stream",
     "text": [
      "fname:  /media/cat/4TBSSD/yuki/IJ1/SVM_Scores/SVM_Scores_IJ1pm_Feb12_30Hzcode_04_trial_ROItimeCourses_30sec_Xvalid10_Slidewindow30.npz\n",
      "predictions:  (1771, 112)\n",
      "\n",
      "fname:  /media/cat/4TBSSD/yuki/IJ1/SVM_Scores/SVM_Scores_IJ1pm_Feb12_30Hzcode_04_correlation1_trial_ROItimeCourses_30sec_Xvalid10_Slidewindow30.npz\n",
      "predictions:  (1771, 112)\n",
      "\n",
      "fname:  /media/cat/4TBSSD/yuki/IJ1/SVM_Scores/SVM_Scores_IJ1pm_Feb12_30Hzcode_04_correlation2_trial_ROItimeCourses_30sec_Xvalid10_Slidewindow30.npz\n",
      "predictions:  (1771, 112)\n",
      "\n",
      "fname:  /media/cat/4TBSSD/yuki/IJ1/tif_files/IJ1pm_Feb12_30Hz/IJ1pm_Feb12_30Hz_globalPca_min_trials_concatenated200_code_04_30sec_accuracy.npz\n"
     ]
    }
   ],
   "source": [
    "######################################################\n",
    "######################################################\n",
    "######################################################\n",
    "\n",
    "def plot_accuracy_correlation(root_dir, animal_id, session_id):\n",
    "\n",
    "    clrs = ['black','blue','red','green']\n",
    "\n",
    "    fig=plt.figure()\n",
    "    ax=plt.subplot(111)\n",
    "    #prefixes = [\"\", \"_correlation1\", \"_correlation2\"]\n",
    "    names = [\"\", '_correlation1',\"_correlation2\"]\n",
    "    ctr=0\n",
    "    #clip \n",
    "    ######\n",
    "    for prefix in names:\n",
    "\n",
    "        fname = os.path.join(root_dir, animal_id, 'SVM_Scores', \n",
    "                            'SVM_Scores_'+session_id+'code_04'+prefix+'_trial_ROItimeCourses_30sec_Xvalid10_Slidewindow30.npz')\n",
    "        if os.path.exists(fname)==False:\n",
    "            ctr+=1\n",
    "            continue\n",
    "        print (\"fname: \", fname)\n",
    "        data = np.load(fname)\n",
    "        acc = data['accuracy']\n",
    "        predictions = data['predictions']\n",
    "        print (\"predictions: \", predictions.shape)\n",
    "        n_trials=predictions.shape[1]/2\n",
    "\n",
    "        #acc = acc[:870]\n",
    "        t = np.arange(acc.shape[0])/30-29\n",
    "        mean = acc.mean(1)\n",
    "        std = np.std(acc,1)\n",
    "        plt.fill_between(t, mean+std,\n",
    "                        mean-std,\n",
    "                        alpha=.2,\n",
    "                        color=clrs[ctr])\n",
    "\n",
    "        if names[ctr] == '':\n",
    "            names[ctr]='_[Ca]'\n",
    "\n",
    "\n",
    "        plt.plot(t, mean, \n",
    "                 label=names[ctr][1:],\n",
    "                 c=clrs[ctr])\n",
    "        ctr+=1\n",
    "        print ('')\n",
    "    # \n",
    "    fname = os.path.join(root_dir, animal_id, 'tif_files', session_id, \n",
    "                         session_id + '_globalPca_min_trials_concatenated200_code_04_30sec_accuracy.npz')\n",
    "    print (\"fname: \", fname)\n",
    "    data = np.load(fname)\n",
    "    acc = data['accuracy']\n",
    "#     predictions = data['predictions']\n",
    "#     print (\"predictions: \", predictions.shape)\n",
    "#     n_trials=predictions.shape[1]\n",
    "\n",
    "\n",
    "    #acc = acc[:870]\n",
    "    t = np.arange(acc.shape[0])/30-29\n",
    "    mean = acc.mean(1)\n",
    "    std = np.std(acc,1)\n",
    "    plt.fill_between(t, mean+std,\n",
    "                    mean-std,\n",
    "                    alpha=.2,\n",
    "                    color=clrs[ctr])\n",
    "    plt.plot(t, mean, \n",
    "             c=clrs[ctr],\n",
    "             label='concatenated')\n",
    "\n",
    "\n",
    "    #plt.legend([arr1, arr2, arr3], ['u','v','u+v'])\n",
    "\n",
    "    plt.legend(fontsize=20)\n",
    "    plt.plot([-30,30],[0.5,0.5],'--',c='grey')\n",
    "    plt.ylim(0,1)\n",
    "    plt.xlim(-20,0)\n",
    "    plt.suptitle(session_id+ \"  # trials: \"+str(n_trials))\n",
    "    plt.show()\n",
    "\n",
    "# \n",
    "root_dir = '/media/cat/4TBSSD/yuki/'\n",
    "animal_id = 'IJ1'\n",
    "session_id = 'IJ1pm_Feb12_30Hz'\n",
    "\n",
    "# \n",
    "plot_accuracy_correlation(root_dir, animal_id, session_id)\n",
    "\n"
   ]
  },
  {
   "cell_type": "code",
   "execution_count": 153,
   "id": "fdb933f9",
   "metadata": {},
   "outputs": [
    {
     "name": "stdout",
     "output_type": "stream",
     "text": [
      "(61, 16, 1801)\n",
      "(61, 16, 1801)\n"
     ]
    }
   ],
   "source": [
    "fname = '/media/cat/4TBSSD/yuki/IJ1/tif_files/IJ1pm_Mar2_30Hz/IJ1pm_Mar2_30Hz_code_04_correlation1_trial_ROItimeCourses_30sec_pca_0.95.npy'\n",
    "d = np.load(fname)\n",
    "\n",
    "print (d.shape)\n",
    "fig=plt.figure()\n",
    "plt.plot(d[:,0,:900].T,\n",
    "        c='black',\n",
    "        alpha=.2)\n",
    "\n",
    "d = np.load(fname.replace('trial','random'))\n",
    "\n",
    "print (d.shape)\n",
    "plt.plot(d[:,0,:900].T,\n",
    "        c='red',\n",
    "        alpha=.2)\n",
    "\n",
    "plt.show()"
   ]
  },
  {
   "cell_type": "code",
   "execution_count": 157,
   "id": "14250b4f",
   "metadata": {},
   "outputs": [
    {
     "name": "stdout",
     "output_type": "stream",
     "text": [
      "(61, 7, 1801) (61, 7, 1801)\n",
      "(100, 275, 1) (100,) [1 2 4 3 1 4 4 1 1 4 4 4 4 3 4 1 3 2 4 4 4 4 3 2 1 2 4 4 2 4 1 1 4 4 2 1 1\n",
      " 2 1 1 3 3 3 3 3 1 4 4 4 2 4 3 2 1 4 2 2 2 2 1 3 2 4 3 3 2 2 1 4 4 2 3 2 1\n",
      " 3 4 1 1 3 3 1 3 1 3 3 3 4 1 2 1 4 4 4 1 3 1 2 4 1 2]\n",
      "(100, 275, 1) (100,)\n"
     ]
    }
   ],
   "source": [
    "import numpy\n",
    "import matplotlib.pyplot as plt\n",
    "\n",
    "from tslearn.datasets import CachedDatasets\n",
    "from tslearn.preprocessing import TimeSeriesScalerMinMax\n",
    "from tslearn.svm import TimeSeriesSVC\n",
    "\n",
    "numpy.random.seed(0)\n",
    "\n",
    "fname = '/media/cat/4TBSSD/yuki/IJ1/tif_files/IJ1pm_Mar2_30Hz/IJ1pm_Mar2_30Hz_code_04_trial_ROItimeCourses_30sec_pca_0.95.npy'\n",
    "trials = np.load(fname)\n",
    "random = np.load(fname.replace('trial','random'))\n",
    "print (trials.shape, random.shape)\n",
    "\n",
    "X_train, y_train, X_test, y_test = CachedDatasets().load_dataset(\"Trace\")\n",
    "\n",
    "print (X_train.shape, y_train.shape, y_train)\n",
    "print (X_test.shape, y_test.shape)\n",
    "\n",
    "\n",
    "\n",
    "\n",
    "\n",
    "# # \n",
    "# X_train = TimeSeriesScalerMinMax().fit_transform(X_train)\n",
    "# X_test = TimeSeriesScalerMinMax().fit_transform(X_test)\n",
    "\n",
    "# clf = TimeSeriesSVC(kernel=\"gak\", gamma=.1)\n",
    "# clf.fit(X_train, y_train)\n",
    "# print(\"Correct classification rate:\", clf.score(X_test, y_test))\n",
    "\n",
    "# n_classes = len(set(y_train))\n",
    "\n",
    "# plt.figure()\n",
    "# support_vectors = clf.support_vectors_\n",
    "# for i, cl in enumerate(set(y_train)):\n",
    "#     plt.subplot(n_classes, 1, i + 1)\n",
    "#     plt.title(\"Support vectors for class %d\" % cl)\n",
    "#     for ts in support_vectors[i]:\n",
    "#         plt.plot(ts.ravel())\n",
    "\n",
    "# plt.tight_layout()\n",
    "# plt.show()"
   ]
  },
  {
   "cell_type": "code",
   "execution_count": 173,
   "id": "a2fd7207",
   "metadata": {},
   "outputs": [
    {
     "name": "stdout",
     "output_type": "stream",
     "text": [
      "trials:  (50, 61, 7)\n",
      "XNew:  (100, 61, 7)\n",
      "X: [timesteps * #classes, # samples, dimensions] (20, 64, 2)\n",
      "[0 0 0 0 0 0 0 0 0 0 1 1 1 1 1 1 1 1 1 1]\n"
     ]
    },
    {
     "data": {
      "text/plain": [
       "(100, 2)"
      ]
     },
     "execution_count": 173,
     "metadata": {},
     "output_type": "execute_result"
    }
   ],
   "source": [
    "from tslearn.generators import random_walk_blobs\n",
    "X, y = random_walk_blobs(n_ts_per_blob=10, sz=64, d=2, n_blobs=2)\n",
    "\n",
    "fname = '/media/cat/4TBSSD/yuki/IJ1/tif_files/IJ1pm_Mar2_30Hz/IJ1pm_Mar2_30Hz_code_04_trial_ROItimeCourses_30sec_pca_0.95.npy'\n",
    "trials = np.load(fname).transpose(2,0,1)[850:900]\n",
    "random = np.load(fname.replace('trial','random')).transpose(2,0,1)[850:900]\n",
    "print (\"trials: \", trials.shape)\n",
    "\n",
    "X_new = np.vstack((trials, random))\n",
    "print (\"XNew: \", X_new.shape)\n",
    "y_new = np.zeros(X_new.shape[0],dtype=np.int32)\n",
    "y_new[y_new.shape[0]//2:] = 1\n",
    "\n",
    "print (\"X: [timesteps * #classes, # samples, dimensions]\", X.shape)\n",
    "print (y)\n",
    "\n",
    "X = X_new\n",
    "y = y_new\n",
    "\n",
    "# \n",
    "clf = TimeSeriesSVC(kernel=\"gak\", gamma=\"auto\", probability=True)\n",
    "clf.fit(X, y).predict(X).shape\n",
    "\n",
    "sv = clf.support_vectors_\n",
    "len(sv)  # should be equal to the nr of classes in the clf problem\n",
    "\n",
    "sv[0].shape  # doctest: +ELLIPSIS\n",
    "\n",
    "sv_sum = sum([sv_i.shape[0] for sv_i in sv])\n",
    "sv_sum == clf.svm_estimator_.n_support_.sum()\n",
    "\n",
    "\n",
    "clf.predict_log_proba(X).shape\n",
    "\n",
    "res = clf.predict_proba(X)\n",
    "\n",
    "\n",
    "\n"
   ]
  },
  {
   "cell_type": "code",
   "execution_count": 175,
   "id": "950144e2",
   "metadata": {},
   "outputs": [
    {
     "name": "stdout",
     "output_type": "stream",
     "text": [
      "(100,)\n"
     ]
    }
   ],
   "source": [
    "dec_function = clf.decision_function(X)\n",
    "print (dec_function.shape)\n",
    "    \n",
    "    "
   ]
  },
  {
   "cell_type": "code",
   "execution_count": 176,
   "id": "120486f2",
   "metadata": {},
   "outputs": [
    {
     "name": "stdout",
     "output_type": "stream",
     "text": [
      "[-0.98468867 -1.0003172  -1.01147035 -1.02720838 -1.05156564 -1.08289533\n",
      " -1.11219587 -1.13015842 -1.13946065 -1.14884679 -1.15585007 -1.15325992\n",
      " -1.14668269 -1.15210995 -1.17096714 -1.18708628 -1.19281098 -1.19190822\n",
      " -1.17969005 -1.15459565 -1.13548665 -1.13142463 -1.13112806 -1.12782397\n",
      " -1.12562907 -1.12169633 -1.10626559 -1.08038721 -1.0531692  -1.03377097\n",
      " -1.02443555 -1.02033146 -1.01263949 -1.00008417 -0.99998389 -1.01753964\n",
      " -1.03387624 -1.03435737 -1.02054577 -1.00472083 -1.00105787 -1.00979147\n",
      " -1.02285676 -1.02933488 -1.01981449 -1.00005763 -0.99004528 -1.00345918\n",
      " -0.99991262 -0.92967376  0.99960062  1.0004109   1.0109307   1.02898043\n",
      "  1.030131    1.01429361  1.006456    1.00262452  0.99967311  1.00592719\n",
      "  1.01178114  1.00913188  1.0090282   1.01264172  1.01120925  1.00257108\n",
      "  0.99995687  1.02217789  1.06724483  1.11012075  1.13784555  1.15453723\n",
      "  1.15425854  1.1462292   1.14696042  1.15254826  1.15180789  1.13652548\n",
      "  1.11095119  1.09035307  1.08527504  1.09126595  1.09923297  1.10486821\n",
      "  1.10518165  1.0980887   1.09063794  1.09117037  1.0924841   1.07856377\n",
      "  1.05118367  1.02164746  1.00325012  1.00014302  1.00468121  1.00655673\n",
      "  1.00429019  1.00377818  1.0044      1.00008739]\n"
     ]
    }
   ],
   "source": [
    "print (dec_function)"
   ]
  },
  {
   "cell_type": "code",
   "execution_count": null,
   "id": "5e956390",
   "metadata": {},
   "outputs": [],
   "source": []
  }
 ],
 "metadata": {
  "kernelspec": {
   "display_name": "Python 3",
   "language": "python",
   "name": "python3"
  },
  "language_info": {
   "codemirror_mode": {
    "name": "ipython",
    "version": 3
   },
   "file_extension": ".py",
   "mimetype": "text/x-python",
   "name": "python",
   "nbconvert_exporter": "python",
   "pygments_lexer": "ipython3",
   "version": "3.8.0"
  }
 },
 "nbformat": 4,
 "nbformat_minor": 5
}
