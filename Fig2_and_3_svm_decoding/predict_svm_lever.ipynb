{
 "cells": [
  {
   "cell_type": "code",
   "execution_count": 2,
   "metadata": {},
   "outputs": [
    {
     "data": {
      "application/javascript": [
       "IPython.notebook.set_autosave_interval(180000)"
      ]
     },
     "metadata": {},
     "output_type": "display_data"
    },
    {
     "name": "stdout",
     "output_type": "stream",
     "text": [
      "Autosaving every 180 seconds\n"
     ]
    },
    {
     "data": {
      "text/html": [
       "<style>.container { width:100% !important; }</style>"
      ],
      "text/plain": [
       "<IPython.core.display.HTML object>"
      ]
     },
     "metadata": {},
     "output_type": "display_data"
    }
   ],
   "source": [
    "import matplotlib\n",
    "#matplotlib.use('Agg')\n",
    "\n",
    "%load_ext autoreload\n",
    "%autoreload 2\n",
    "\n",
    "%matplotlib tk\n",
    "%autosave 180\n",
    "\n",
    "import sys\n",
    "sys.path.append(\"/home/cat/code/widefieldPredict/\") # Adds higher directory to python modules path.\n",
    "\n",
    "import matplotlib.pyplot as plt\n",
    "from IPython.core.display import display, HTML\n",
    "display(HTML(\"<style>.container { width:100% !important; }</style>\"))\n",
    "\n",
    "import numpy as np\n",
    "import os\n",
    "\n",
    "#  SVM module\n",
    "from svm import svm as SVM\n",
    "# \n",
    "data_dir = '/media/cat/4TBSSD/yuki/'\n",
    "#data_dir = '/mnt/f418adc0-4ff9-410c-93c9-d6d21a1e9c35/yuki/'\n"
   ]
  },
  {
   "cell_type": "code",
   "execution_count": 4,
   "metadata": {
    "scrolled": true
   },
   "outputs": [
    {
     "name": "stdout",
     "output_type": "stream",
     "text": [
      "   already computed, skipping ... /media/cat/4TBSSD/yuki/IJ1/SVM_Scores/SVM_Scores_IJ1pm_Feb1_30Hzcode_04_correlation2_trial_ROItimeCourses_30sec_Xvalid10_Slidewindow30.npz\n",
      "\n",
      "\n",
      "   already computed, skipping ... /media/cat/4TBSSD/yuki/IJ1/SVM_Scores/SVM_Scores_IJ1pm_Feb2_30Hzcode_04_correlation2_trial_ROItimeCourses_30sec_Xvalid10_Slidewindow30.npz\n",
      "\n",
      "\n",
      "   already computed, skipping ... /media/cat/4TBSSD/yuki/IJ1/SVM_Scores/SVM_Scores_IJ1pm_Feb3_30Hzcode_04_correlation2_trial_ROItimeCourses_30sec_Xvalid10_Slidewindow30.npz\n",
      "\n",
      "\n",
      "   already computed, skipping ... /media/cat/4TBSSD/yuki/IJ1/SVM_Scores/SVM_Scores_IJ1pm_Feb4_30Hzcode_04_correlation2_trial_ROItimeCourses_30sec_Xvalid10_Slidewindow30.npz\n",
      "\n",
      "\n",
      "   already computed, skipping ... /media/cat/4TBSSD/yuki/IJ1/SVM_Scores/SVM_Scores_IJ1pm_Feb5_30Hzcode_04_correlation2_trial_ROItimeCourses_30sec_Xvalid10_Slidewindow30.npz\n",
      "\n",
      "\n",
      "   already computed, skipping ... /media/cat/4TBSSD/yuki/IJ1/SVM_Scores/SVM_Scores_IJ1pm_Feb9_30Hzcode_04_correlation2_trial_ROItimeCourses_30sec_Xvalid10_Slidewindow30.npz\n",
      "\n",
      "\n",
      "   already computed, skipping ... /media/cat/4TBSSD/yuki/IJ1/SVM_Scores/SVM_Scores_IJ1pm_Feb10_30Hzcode_04_correlation2_trial_ROItimeCourses_30sec_Xvalid10_Slidewindow30.npz\n",
      "\n",
      "\n",
      "   already computed, skipping ... /media/cat/4TBSSD/yuki/IJ1/SVM_Scores/SVM_Scores_IJ1pm_Feb11_30Hzcode_04_correlation2_trial_ROItimeCourses_30sec_Xvalid10_Slidewindow30.npz\n",
      "\n",
      "\n",
      "   already computed, skipping ... /media/cat/4TBSSD/yuki/IJ1/SVM_Scores/SVM_Scores_IJ1pm_Feb12_30Hzcode_04_correlation2_trial_ROItimeCourses_30sec_Xvalid10_Slidewindow30.npz\n",
      "\n",
      "\n",
      "   already computed, skipping ... /media/cat/4TBSSD/yuki/IJ1/SVM_Scores/SVM_Scores_IJ1pm_Feb16_30Hzcode_04_correlation2_trial_ROItimeCourses_30sec_Xvalid10_Slidewindow30.npz\n",
      "\n",
      "\n",
      "   already computed, skipping ... /media/cat/4TBSSD/yuki/IJ1/SVM_Scores/SVM_Scores_IJ1pm_Feb17_30Hzcode_04_correlation2_trial_ROItimeCourses_30sec_Xvalid10_Slidewindow30.npz\n",
      "\n",
      "\n",
      "   already computed, skipping ... /media/cat/4TBSSD/yuki/IJ1/SVM_Scores/SVM_Scores_IJ1pm_Feb18_30Hzcode_04_correlation2_trial_ROItimeCourses_30sec_Xvalid10_Slidewindow30.npz\n",
      "\n",
      "\n",
      "   already computed, skipping ... /media/cat/4TBSSD/yuki/IJ1/SVM_Scores/SVM_Scores_IJ1pm_Feb19_30Hzcode_04_correlation2_trial_ROItimeCourses_30sec_Xvalid10_Slidewindow30.npz\n",
      "\n",
      "\n",
      "   already computed, skipping ... /media/cat/4TBSSD/yuki/IJ1/SVM_Scores/SVM_Scores_IJ1pm_Feb22_30Hzcode_04_correlation2_trial_ROItimeCourses_30sec_Xvalid10_Slidewindow30.npz\n",
      "\n",
      "\n",
      "   already computed, skipping ... /media/cat/4TBSSD/yuki/IJ1/SVM_Scores/SVM_Scores_IJ1pm_Feb23_30Hzcode_04_correlation2_trial_ROItimeCourses_30sec_Xvalid10_Slidewindow30.npz\n",
      "\n",
      "\n",
      " ....file not found, skippping  /media/cat/4TBSSD/yuki/IJ1/tif_files/IJ1pm_Feb24_30Hz/IJ1pm_Feb24_30Hz_code_04_correlation2_trial_ROItimeCourses_30sec_pca_0.95.npy\n",
      " ....file not found, skippping  /media/cat/4TBSSD/yuki/IJ1/tif_files/IJ1pm_Feb25_30Hz/IJ1pm_Feb25_30Hz_code_04_correlation2_trial_ROItimeCourses_30sec_pca_0.95.npy\n",
      "   already computed, skipping ... /media/cat/4TBSSD/yuki/IJ1/SVM_Scores/SVM_Scores_IJ1pm_Feb26_30Hzcode_04_correlation2_trial_ROItimeCourses_30sec_Xvalid10_Slidewindow30.npz\n",
      "\n",
      "\n",
      "   already computed, skipping ... /media/cat/4TBSSD/yuki/IJ1/SVM_Scores/SVM_Scores_IJ1pm_Feb29_30Hzcode_04_correlation2_trial_ROItimeCourses_30sec_Xvalid10_Slidewindow30.npz\n",
      "\n",
      "\n",
      "   already computed, skipping ... /media/cat/4TBSSD/yuki/IJ1/SVM_Scores/SVM_Scores_IJ1pm_Mar1_30Hzcode_04_correlation2_trial_ROItimeCourses_30sec_Xvalid10_Slidewindow30.npz\n",
      "\n",
      "\n",
      "processing;  /media/cat/4TBSSD/yuki/IJ1/tif_files/IJ1pm_Mar2_30Hz/IJ1pm_Mar2_30Hz_code_04_correlation2_trial_ROItimeCourses_30sec_pca_0.95.npy  with lockout:  False\n"
     ]
    },
    {
     "name": "stderr",
     "output_type": "stream",
     "text": [
      "100%|██████████| 10/10 [00:10<00:00,  1.06s/it]"
     ]
    },
    {
     "name": "stdout",
     "output_type": "stream",
     "text": [
      "   already computed, skipping ... /media/cat/4TBSSD/yuki/IJ1/SVM_Scores/SVM_Scores_IJ1pm_Mar3_30Hzcode_04_correlation2_trial_ROItimeCourses_30sec_Xvalid10_Slidewindow30.npz\n",
      "\n",
      "\n",
      "   already computed, skipping ... /media/cat/4TBSSD/yuki/IJ1/SVM_Scores/SVM_Scores_IJ1am_Mar7_30Hzcode_04_correlation2_trial_ROItimeCourses_30sec_Xvalid10_Slidewindow30.npz\n",
      "\n",
      "\n",
      "   already computed, skipping ... /media/cat/4TBSSD/yuki/IJ1/SVM_Scores/SVM_Scores_IJ1pm_Mar8_30Hzcode_04_correlation2_trial_ROItimeCourses_30sec_Xvalid10_Slidewindow30.npz\n",
      "\n",
      "\n",
      " ....file not found, skippping  /media/cat/4TBSSD/yuki/IJ1/tif_files/IJ1am_Mar9_30Hz/IJ1am_Mar9_30Hz_code_04_correlation2_trial_ROItimeCourses_30sec_pca_0.95.npy\n",
      "   already computed, skipping ... /media/cat/4TBSSD/yuki/IJ1/SVM_Scores/SVM_Scores_IJ1am_Mar10_30Hzcode_04_correlation2_trial_ROItimeCourses_30sec_Xvalid10_Slidewindow30.npz\n",
      "\n",
      "\n",
      "   already computed, skipping ... /media/cat/4TBSSD/yuki/IJ1/SVM_Scores/SVM_Scores_IJ1am_Mar11_30Hzcode_04_correlation2_trial_ROItimeCourses_30sec_Xvalid10_Slidewindow30.npz\n",
      "\n",
      "\n",
      "   already computed, skipping ... /media/cat/4TBSSD/yuki/IJ1/SVM_Scores/SVM_Scores_IJ1pm_Mar14_30Hzcode_04_correlation2_trial_ROItimeCourses_30sec_Xvalid10_Slidewindow30.npz\n",
      "\n",
      "\n",
      "   already computed, skipping ... /media/cat/4TBSSD/yuki/IJ1/SVM_Scores/SVM_Scores_IJ1am_Mar15_30Hzcode_04_correlation2_trial_ROItimeCourses_30sec_Xvalid10_Slidewindow30.npz\n",
      "\n",
      "\n",
      "   already computed, skipping ... /media/cat/4TBSSD/yuki/IJ1/SVM_Scores/SVM_Scores_IJ1pm_Mar16_30Hzcode_04_correlation2_trial_ROItimeCourses_30sec_Xvalid10_Slidewindow30.npz\n",
      "\n",
      "\n",
      "   already computed, skipping ... /media/cat/4TBSSD/yuki/IJ1/SVM_Scores/SVM_Scores_IJ1pm_Mar17_30Hzcode_04_correlation2_trial_ROItimeCourses_30sec_Xvalid10_Slidewindow30.npz\n",
      "\n",
      "\n",
      "   already computed, skipping ... /media/cat/4TBSSD/yuki/IJ1/SVM_Scores/SVM_Scores_IJ1pm_Mar18_30Hzcode_04_correlation2_trial_ROItimeCourses_30sec_Xvalid10_Slidewindow30.npz\n",
      "\n",
      "\n",
      "   already computed, skipping ... /media/cat/4TBSSD/yuki/IJ1/SVM_Scores/SVM_Scores_IJ1pm_Mar21_30Hzcode_04_correlation2_trial_ROItimeCourses_30sec_Xvalid10_Slidewindow30.npz\n",
      "\n",
      "\n",
      "   already computed, skipping ... /media/cat/4TBSSD/yuki/IJ1/SVM_Scores/SVM_Scores_IJ1pm_Mar22_30Hzcode_04_correlation2_trial_ROItimeCourses_30sec_Xvalid10_Slidewindow30.npz\n",
      "\n",
      "\n",
      "   already computed, skipping ... /media/cat/4TBSSD/yuki/IJ1/SVM_Scores/SVM_Scores_IJ1pm_Mar23_30Hzcode_04_correlation2_trial_ROItimeCourses_30sec_Xvalid10_Slidewindow30.npz\n",
      "\n",
      "\n",
      "   already computed, skipping ... /media/cat/4TBSSD/yuki/IJ1/SVM_Scores/SVM_Scores_IJ1pm_Mar24_30Hzcode_04_correlation2_trial_ROItimeCourses_30sec_Xvalid10_Slidewindow30.npz\n",
      "\n",
      "\n",
      "   already computed, skipping ... /media/cat/4TBSSD/yuki/IJ1/SVM_Scores/SVM_Scores_IJ1pm_Mar29_30Hzcode_04_correlation2_trial_ROItimeCourses_30sec_Xvalid10_Slidewindow30.npz\n",
      "\n",
      "\n",
      "   already computed, skipping ... /media/cat/4TBSSD/yuki/IJ1/SVM_Scores/SVM_Scores_IJ1pm_Mar30_30Hzcode_04_correlation2_trial_ROItimeCourses_30sec_Xvalid10_Slidewindow30.npz\n",
      "\n",
      "\n",
      "   already computed, skipping ... /media/cat/4TBSSD/yuki/IJ1/SVM_Scores/SVM_Scores_IJ1pm_Mar31_30Hzcode_04_correlation2_trial_ROItimeCourses_30sec_Xvalid10_Slidewindow30.npz\n",
      "\n",
      "\n",
      "   already computed, skipping ... /media/cat/4TBSSD/yuki/IJ1/SVM_Scores/SVM_Scores_IJ1pm_Apr1_30Hzcode_04_correlation2_trial_ROItimeCourses_30sec_Xvalid10_Slidewindow30.npz\n",
      "\n",
      "\n",
      " ....file not found, skippping  /media/cat/4TBSSD/yuki/IJ1/tif_files/IJ1pm_Apr4_30Hz/IJ1pm_Apr4_30Hz_code_04_correlation2_trial_ROItimeCourses_30sec_pca_0.95.npy\n",
      " ....file not found, skippping  /media/cat/4TBSSD/yuki/IJ1/tif_files/IJ1pm_Apr5_30Hz/IJ1pm_Apr5_30Hz_code_04_correlation2_trial_ROItimeCourses_30sec_pca_0.95.npy\n",
      " ....file not found, skippping  /media/cat/4TBSSD/yuki/IJ1/tif_files/IJ1pm_Apr6_30Hz/IJ1pm_Apr6_30Hz_code_04_correlation2_trial_ROItimeCourses_30sec_pca_0.95.npy\n",
      " ....file not found, skippping  /media/cat/4TBSSD/yuki/IJ1/tif_files/IJ1pm_Apr7_30Hz/IJ1pm_Apr7_30Hz_code_04_correlation2_trial_ROItimeCourses_30sec_pca_0.95.npy\n",
      "DONE predicting SVM on animal:  IJ1\n"
     ]
    },
    {
     "name": "stderr",
     "output_type": "stream",
     "text": [
      "\n"
     ]
    }
   ],
   "source": [
    "######################################################\n",
    "##### PREDICT SVM DECISION CHOICE SINGLE SESSION #####\n",
    "######################################################\n",
    "\n",
    "# select animal names\n",
    "names = ['IA1','IA2','IA3','IJ1','IJ2','AQ2'] # \"AR4\" and other datasets could work\n",
    "names = ['IJ1']\n",
    "\n",
    "# \n",
    "svm = SVM.PredictSVMChoice()\n",
    "svm.root_dir = data_dir\n",
    "svm.random_flag = False  # shuffle data to show baseline\n",
    "\n",
    "# window parameters\n",
    "svm.window = 30              # prediction window, backwards in time in seconds\n",
    "svm.lockout_window = 10      # time for locking out other pulls \n",
    "svm.sliding_window = 30      # number of frames in sliding window\n",
    "\n",
    "# pca params\n",
    "svm.pca_flag = True\n",
    "svm.pca_var = 0.95  # this is default for now for nComp = 20\n",
    "            \n",
    "# svm parameters\n",
    "svm.xvalidation = 10  # KFold xvalidation step\n",
    "svm.data_split = 0.8  # split 80/20 data for training\n",
    "svm.method = 'sigmoid'  # method used for computing SVM\n",
    "\n",
    "# run-time parameters\n",
    "svm.parallel = True\n",
    "svm.n_cores = svm.xvalidation\n",
    "svm.min_trials = 10\n",
    "svm.overwrite = False\n",
    "\n",
    "# session info\n",
    "#session_ids = ['Mar1_', 'Mar2_', 'Mar3_', 'Feb29', 'Mar7_']\n",
    "svm.session_id = 'all'\n",
    "#svm.session_id = 'Feb9_'\n",
    "\n",
    "# \n",
    "#codes = ['left_paw','right_paw','jaw']\n",
    "codes = ['code_04']\n",
    "\n",
    "svm.correlation_prefix = '_correlation2'\n",
    "\n",
    "#\n",
    "for code in codes:\n",
    "    svm.code = code\n",
    "\n",
    "    # \n",
    "    #lockouts = [False, True]\n",
    "    lockouts = [False]\n",
    "    for name in names:\n",
    "        for lockout in lockouts:\n",
    "            # \n",
    "            svm.lockout = lockout      # May wish to run SVM on both lockout and nonlockout eventually\n",
    "\n",
    "            #\n",
    "            svm.animal_id = name\n",
    "\n",
    "            #\n",
    "            svm.predict2()\n",
    "\n"
   ]
  },
  {
   "cell_type": "code",
   "execution_count": 19,
   "metadata": {},
   "outputs": [
    {
     "name": "stdout",
     "output_type": "stream",
     "text": [
      "(1771, 10)\n",
      "(1771, 10)\n",
      "(1771, 10)\n"
     ]
    }
   ],
   "source": [
    "# data = np.load('/media/cat/4TBSSD/yuki/IA1/SVM_Scores/SVM_Scores_IA1pm_Feb1_30Hzleft_paw_trial_ROItimeCourses_15sec_Xvalid10_Slidewindow30.npz')\n",
    "# acc = data['accuracy']\n",
    "# print (acc.shape)\n",
    "# plt.plot(acc.mean(1))\n",
    "codes = ['[ca]','correlation1','correlation2']\n",
    "\n",
    "fnames = [\n",
    "\n",
    "'/media/cat/4TBSSD/yuki/IJ1/SVM_Scores/SVM_Scores_IJ1pm_Mar2_30Hzcode_04_trial_ROItimeCourses_30sec_Xvalid10_Slidewindow30.npz',\n",
    "'/media/cat/4TBSSD/yuki/IJ1/SVM_Scores/SVM_Scores_IJ1pm_Mar2_30Hzcode_04_correlation1_trial_ROItimeCourses_30sec_Xvalid10_Slidewindow30.npz',\n",
    "'/media/cat/4TBSSD/yuki/IJ1/SVM_Scores/SVM_Scores_IJ1pm_Mar2_30Hzcode_04_correlation2_trial_ROItimeCourses_30sec_Xvalid10_Slidewindow30.npz'\n",
    " \n",
    "#'/media/cat/4TBSSD/yuki/IJ1/SVM_Scores/SVM_Scores_IJ1pm_Mar31_30Hzcode_04_trial_ROItimeCourses_30sec_Xvalid10_Slidewindow30.npz',\n",
    "#'/media/cat/4TBSSD/yuki/IJ1/SVM_Scores/SVM_Scores_IJ1pm_Mar31_30Hzcode_04_correlation1_trial_ROItimeCourses_30sec_Xvalid10_Slidewindow30.npz',\n",
    " \n",
    "    \n",
    "# '/media/cat/4TBSSD/yuki/IJ1/SVM_Scores/SVM_Scores_IJ1pm_Mar23_30Hzcode_04_trial_ROItimeCourses_30sec_Xvalid10_Slidewindow30.npz',\n",
    "# '/media/cat/4TBSSD/yuki/IJ1/SVM_Scores/SVM_Scores_IJ1pm_Mar23_30Hzcode_04_correlation1_trial_ROItimeCourses_30sec_Xvalid10_Slidewindow30.npz',\n",
    "# '/media/cat/4TBSSD/yuki/IJ1/SVM_Scores/SVM_Scores_IJ1pm_Mar23_30Hzcode_04_correlation2_trial_ROItimeCourses_30sec_Xvalid10_Slidewindow30.npz'    \n",
    "    \n",
    "]\n",
    "fig=plt.figure()\n",
    "ax=plt.subplot(111)\n",
    "for ctr,fname in enumerate(fnames):\n",
    "    data = np.load(fname)\n",
    "    acc = data['accuracy']\n",
    "    print (acc.shape)\n",
    "    acc = acc[:870]\n",
    "    t = np.arange(acc.shape[0])/30-29\n",
    "    mean = acc.mean(1)\n",
    "    std = np.std(acc,1)\n",
    "    plt.plot(t,mean,label=codes[ctr])\n",
    "    ax.fill_between(t, mean+std,\n",
    "                   mean-std,\n",
    "                  alpha=.2)\n",
    "\n",
    "plt.plot([-30,0],[0.5,0.5],'--',c='grey')\n",
    "plt.ylim(0,1)\n",
    "plt.legend()\n",
    "plt.show()"
   ]
  },
  {
   "cell_type": "code",
   "execution_count": 16,
   "metadata": {},
   "outputs": [
    {
     "name": "stdout",
     "output_type": "stream",
     "text": [
      "(16, 7, 1801)\n",
      "(16, 16, 1801)\n"
     ]
    }
   ],
   "source": [
    "data = np.load('/media/cat/4TBSSD/yuki/IJ1/tif_files/IJ1pm_Mar1_30Hz/IJ1pm_Mar1_30Hz_code_04_trial_ROItimeCourses_30sec_pca_0.95.npy')\n",
    "print (data.shape)\n",
    "\n",
    "data2 = np.load('/media/cat/4TBSSD/yuki/IJ1/tif_files/IJ1pm_Mar1_30Hz/IJ1pm_Mar1_30Hz_code_04_correlation2_trial_ROItimeCourses_30sec_pca_0.95.npy')\n",
    "print (data2.shape)"
   ]
  },
  {
   "cell_type": "code",
   "execution_count": 17,
   "metadata": {},
   "outputs": [],
   "source": [
    "\n",
    "plt.plot(data2[:,0,:900].T,\n",
    "        c='black',\n",
    "        alpha=.2)\n",
    "plt.show()\n",
    "\n"
   ]
  },
  {
   "cell_type": "code",
   "execution_count": null,
   "metadata": {},
   "outputs": [],
   "source": []
  }
 ],
 "metadata": {
  "kernelspec": {
   "display_name": "Python 3",
   "language": "python",
   "name": "python3"
  },
  "language_info": {
   "codemirror_mode": {
    "name": "ipython",
    "version": 3
   },
   "file_extension": ".py",
   "mimetype": "text/x-python",
   "name": "python",
   "nbconvert_exporter": "python",
   "pygments_lexer": "ipython3",
   "version": "3.8.0"
  }
 },
 "nbformat": 4,
 "nbformat_minor": 4
}
