{
 "cells": [
  {
   "cell_type": "code",
   "execution_count": 1,
   "metadata": {},
   "outputs": [
    {
     "data": {
      "application/javascript": [
       "IPython.notebook.set_autosave_interval(180000)"
      ]
     },
     "metadata": {},
     "output_type": "display_data"
    },
    {
     "name": "stdout",
     "output_type": "stream",
     "text": [
      "Autosaving every 180 seconds\n"
     ]
    },
    {
     "data": {
      "text/html": [
       "<style>.container { width:100% !important; }</style>"
      ],
      "text/plain": [
       "<IPython.core.display.HTML object>"
      ]
     },
     "metadata": {},
     "output_type": "display_data"
    }
   ],
   "source": [
    "import matplotlib\n",
    "#matplotlib.use('Agg')\n",
    "\n",
    "%load_ext autoreload\n",
    "%autoreload 2\n",
    "\n",
    "%matplotlib tk\n",
    "%autosave 180\n",
    "\n",
    "import sys\n",
    "sys.path.append(\"/home/cat/code/widefield/\") # Adds higher directory to python modules path.\n",
    "\n",
    "import matplotlib.pyplot as plt\n",
    "from IPython.core.display import display, HTML\n",
    "display(HTML(\"<style>.container { width:100% !important; }</style>\"))\n",
    "\n",
    "import numpy as np\n",
    "import os\n",
    "\n",
    "#  SVM module\n",
    "from svm import svm as SVM\n",
    "# \n",
    "data_dir = '/media/cat/4TBSSD/yuki/'\n",
    "#data_dir = '/mnt/f418adc0-4ff9-410c-93c9-d6d21a1e9c35/yuki/'\n"
   ]
  },
  {
   "cell_type": "code",
   "execution_count": 8,
   "metadata": {
    "scrolled": true
   },
   "outputs": [
    {
     "name": "stdout",
     "output_type": "stream",
     "text": [
      " No ideal sliding window computed, skipping\n",
      "IDEAL SLIDING WINDOW:  224\n",
      "processing;  /media/cat/4TBSSD/yuki/IA1/tif_files/IA1pm_Feb2_30Hz/IA1pm_Feb2_30Hz_code_04_trial_ROItimeCourses_30sec_pca_0.95.npy  with lockout:  False\n"
     ]
    },
    {
     "name": "stderr",
     "output_type": "stream",
     "text": [
      "100%|██████████| 10/10 [00:12<00:00,  1.29s/it]"
     ]
    },
    {
     "name": "stdout",
     "output_type": "stream",
     "text": [
      "IDEAL SLIDING WINDOW:  180\n",
      "processing;  /media/cat/4TBSSD/yuki/IA1/tif_files/IA1pm_Feb3_30Hz/IA1pm_Feb3_30Hz_code_04_trial_ROItimeCourses_30sec_pca_0.95.npy  with lockout:  False\n"
     ]
    },
    {
     "name": "stderr",
     "output_type": "stream",
     "text": [
      "\n",
      "100%|██████████| 10/10 [00:18<00:00,  1.80s/it]"
     ]
    },
    {
     "name": "stdout",
     "output_type": "stream",
     "text": [
      " No ideal sliding window computed, skipping\n",
      " No ideal sliding window computed, skipping\n",
      "IDEAL SLIDING WINDOW:  180\n",
      "processing;  /media/cat/4TBSSD/yuki/IA1/tif_files/IA1pm_Feb9_30Hz/IA1pm_Feb9_30Hz_code_04_trial_ROItimeCourses_30sec_pca_0.95.npy  with lockout:  False\n"
     ]
    },
    {
     "name": "stderr",
     "output_type": "stream",
     "text": [
      "\n",
      "100%|██████████| 10/10 [00:24<00:00,  2.40s/it]"
     ]
    },
    {
     "name": "stdout",
     "output_type": "stream",
     "text": [
      "IDEAL SLIDING WINDOW:  138\n",
      "processing;  /media/cat/4TBSSD/yuki/IA1/tif_files/IA1pm_Feb10_30Hz/IA1pm_Feb10_30Hz_code_04_trial_ROItimeCourses_30sec_pca_0.95.npy  with lockout:  False\n"
     ]
    },
    {
     "name": "stderr",
     "output_type": "stream",
     "text": [
      "\n",
      "100%|██████████| 10/10 [00:04<00:00,  2.27it/s]"
     ]
    },
    {
     "name": "stdout",
     "output_type": "stream",
     "text": [
      "IDEAL SLIDING WINDOW:  200\n",
      "processing;  /media/cat/4TBSSD/yuki/IA1/tif_files/IA1pm_Feb11_30Hz/IA1pm_Feb11_30Hz_code_04_trial_ROItimeCourses_30sec_pca_0.95.npy  with lockout:  False\n"
     ]
    },
    {
     "name": "stderr",
     "output_type": "stream",
     "text": [
      "\n",
      "100%|██████████| 10/10 [00:15<00:00,  1.56s/it]"
     ]
    },
    {
     "name": "stdout",
     "output_type": "stream",
     "text": [
      " No ideal sliding window computed, skipping\n",
      "IDEAL SLIDING WINDOW:  180\n",
      "processing;  /media/cat/4TBSSD/yuki/IA1/tif_files/IA1pm_Feb15_30Hz/IA1pm_Feb15_30Hz_code_04_trial_ROItimeCourses_30sec_pca_0.95.npy  with lockout:  False\n"
     ]
    },
    {
     "name": "stderr",
     "output_type": "stream",
     "text": [
      "\n",
      "100%|██████████| 10/10 [00:06<00:00,  1.48it/s]"
     ]
    },
    {
     "name": "stdout",
     "output_type": "stream",
     "text": [
      "IDEAL SLIDING WINDOW:  224\n",
      "processing;  /media/cat/4TBSSD/yuki/IA1/tif_files/IA1pm_Feb16_30Hz/IA1pm_Feb16_30Hz_code_04_trial_ROItimeCourses_30sec_pca_0.95.npy  with lockout:  False\n"
     ]
    },
    {
     "name": "stderr",
     "output_type": "stream",
     "text": [
      "\n",
      "100%|██████████| 10/10 [00:26<00:00,  2.61s/it]"
     ]
    },
    {
     "name": "stdout",
     "output_type": "stream",
     "text": [
      "IDEAL SLIDING WINDOW:  224\n",
      "processing;  /media/cat/4TBSSD/yuki/IA1/tif_files/IA1pm_Feb17_30Hz/IA1pm_Feb17_30Hz_code_04_trial_ROItimeCourses_30sec_pca_0.95.npy  with lockout:  False\n"
     ]
    },
    {
     "name": "stderr",
     "output_type": "stream",
     "text": [
      "\n",
      "100%|██████████| 10/10 [00:25<00:00,  2.59s/it]"
     ]
    },
    {
     "name": "stdout",
     "output_type": "stream",
     "text": [
      "IDEAL SLIDING WINDOW:  224\n",
      "processing;  /media/cat/4TBSSD/yuki/IA1/tif_files/IA1pm_Feb18_30Hz/IA1pm_Feb18_30Hz_code_04_trial_ROItimeCourses_30sec_pca_0.95.npy  with lockout:  False\n"
     ]
    },
    {
     "name": "stderr",
     "output_type": "stream",
     "text": [
      "\n",
      "100%|██████████| 10/10 [00:06<00:00,  1.51it/s]"
     ]
    },
    {
     "name": "stdout",
     "output_type": "stream",
     "text": [
      "IDEAL SLIDING WINDOW:  257\n",
      "processing;  /media/cat/4TBSSD/yuki/IA1/tif_files/IA1pm_Feb19_30Hz/IA1pm_Feb19_30Hz_code_04_trial_ROItimeCourses_30sec_pca_0.95.npy  with lockout:  False\n"
     ]
    },
    {
     "name": "stderr",
     "output_type": "stream",
     "text": [
      "\n",
      "100%|██████████| 10/10 [02:27<00:00, 14.76s/it]"
     ]
    },
    {
     "name": "stdout",
     "output_type": "stream",
     "text": [
      " No ideal sliding window computed, skipping\n",
      "IDEAL SLIDING WINDOW:  224\n",
      "processing;  /media/cat/4TBSSD/yuki/IA1/tif_files/IA1pm_Feb23_30Hz/IA1pm_Feb23_30Hz_code_04_trial_ROItimeCourses_30sec_pca_0.95.npy  with lockout:  False\n"
     ]
    },
    {
     "name": "stderr",
     "output_type": "stream",
     "text": [
      "\n",
      "100%|██████████| 10/10 [01:45<00:00, 10.54s/it]"
     ]
    },
    {
     "name": "stdout",
     "output_type": "stream",
     "text": [
      " No ideal sliding window computed, skipping\n",
      " No ideal sliding window computed, skipping\n",
      "IDEAL SLIDING WINDOW:  105\n",
      "processing;  /media/cat/4TBSSD/yuki/IA1/tif_files/IA1pm_Feb26_30Hz/IA1pm_Feb26_30Hz_code_04_trial_ROItimeCourses_30sec_pca_0.95.npy  with lockout:  False\n"
     ]
    },
    {
     "name": "stderr",
     "output_type": "stream",
     "text": [
      "\n",
      "100%|██████████| 10/10 [00:03<00:00,  2.73it/s]"
     ]
    },
    {
     "name": "stdout",
     "output_type": "stream",
     "text": [
      "IDEAL SLIDING WINDOW:  180\n",
      "processing;  /media/cat/4TBSSD/yuki/IA1/tif_files/IA1pm_Feb29_30Hz/IA1pm_Feb29_30Hz_code_04_trial_ROItimeCourses_30sec_pca_0.95.npy  with lockout:  False\n"
     ]
    },
    {
     "name": "stderr",
     "output_type": "stream",
     "text": [
      "\n",
      "100%|██████████| 10/10 [00:11<00:00,  1.13s/it]"
     ]
    },
    {
     "name": "stdout",
     "output_type": "stream",
     "text": [
      " No ideal sliding window computed, skipping\n",
      "IDEAL SLIDING WINDOW:  200\n",
      "processing;  /media/cat/4TBSSD/yuki/IA1/tif_files/IA1pm_Mar2_30Hz/IA1pm_Mar2_30Hz_code_04_trial_ROItimeCourses_30sec_pca_0.95.npy  with lockout:  False\n"
     ]
    },
    {
     "name": "stderr",
     "output_type": "stream",
     "text": [
      "\n",
      "100%|██████████| 10/10 [00:21<00:00,  2.13s/it]"
     ]
    },
    {
     "name": "stdout",
     "output_type": "stream",
     "text": [
      "IDEAL SLIDING WINDOW:  224\n",
      "processing;  /media/cat/4TBSSD/yuki/IA1/tif_files/IA1pm_Mar3_30Hz/IA1pm_Mar3_30Hz_code_04_trial_ROItimeCourses_30sec_pca_0.95.npy  with lockout:  False\n"
     ]
    },
    {
     "name": "stderr",
     "output_type": "stream",
     "text": [
      "\n",
      "100%|██████████| 10/10 [00:12<00:00,  1.21s/it]"
     ]
    },
    {
     "name": "stdout",
     "output_type": "stream",
     "text": [
      "IDEAL SLIDING WINDOW:  200\n",
      "processing;  /media/cat/4TBSSD/yuki/IA1/tif_files/IA1am_Mar4_30Hz/IA1am_Mar4_30Hz_code_04_trial_ROItimeCourses_30sec_pca_0.95.npy  with lockout:  False\n"
     ]
    },
    {
     "name": "stderr",
     "output_type": "stream",
     "text": [
      "\n",
      "100%|██████████| 10/10 [00:16<00:00,  1.64s/it]"
     ]
    },
    {
     "name": "stdout",
     "output_type": "stream",
     "text": [
      "IDEAL SLIDING WINDOW:  200\n",
      "processing;  /media/cat/4TBSSD/yuki/IA1/tif_files/IA1am_Mar7_30Hz/IA1am_Mar7_30Hz_code_04_trial_ROItimeCourses_30sec_pca_0.95.npy  with lockout:  False\n"
     ]
    },
    {
     "name": "stderr",
     "output_type": "stream",
     "text": [
      "\n",
      "100%|██████████| 10/10 [00:08<00:00,  1.21it/s]"
     ]
    },
    {
     "name": "stdout",
     "output_type": "stream",
     "text": [
      " No ideal sliding window computed, skipping\n",
      "IDEAL SLIDING WINDOW:  180\n",
      "processing;  /media/cat/4TBSSD/yuki/IA1/tif_files/IA1am_Mar9_30Hz/IA1am_Mar9_30Hz_code_04_trial_ROItimeCourses_30sec_pca_0.95.npy  with lockout:  False\n"
     ]
    },
    {
     "name": "stderr",
     "output_type": "stream",
     "text": [
      "\n",
      "100%|██████████| 10/10 [00:08<00:00,  1.13it/s]"
     ]
    },
    {
     "name": "stdout",
     "output_type": "stream",
     "text": [
      "IDEAL SLIDING WINDOW:  180\n",
      "processing;  /media/cat/4TBSSD/yuki/IA1/tif_files/IA1am_Mar10_30Hz/IA1am_Mar10_30Hz_code_04_trial_ROItimeCourses_30sec_pca_0.95.npy  with lockout:  False\n"
     ]
    },
    {
     "name": "stderr",
     "output_type": "stream",
     "text": [
      "\n",
      "100%|██████████| 10/10 [00:09<00:00,  1.02it/s]"
     ]
    },
    {
     "name": "stdout",
     "output_type": "stream",
     "text": [
      "IDEAL SLIDING WINDOW:  150\n",
      "processing;  /media/cat/4TBSSD/yuki/IA1/tif_files/IA1am_Mar11_30Hz/IA1am_Mar11_30Hz_code_04_trial_ROItimeCourses_30sec_pca_0.95.npy  with lockout:  False\n"
     ]
    },
    {
     "name": "stderr",
     "output_type": "stream",
     "text": [
      "\n",
      "100%|██████████| 10/10 [00:07<00:00,  1.30it/s]"
     ]
    },
    {
     "name": "stdout",
     "output_type": "stream",
     "text": [
      "IDEAL SLIDING WINDOW:  180\n",
      "processing;  /media/cat/4TBSSD/yuki/IA1/tif_files/IA1pm_Mar14_30Hz/IA1pm_Mar14_30Hz_code_04_trial_ROItimeCourses_30sec_pca_0.95.npy  with lockout:  False\n"
     ]
    },
    {
     "name": "stderr",
     "output_type": "stream",
     "text": [
      "\n",
      "100%|██████████| 10/10 [00:19<00:00,  1.93s/it]"
     ]
    },
    {
     "name": "stdout",
     "output_type": "stream",
     "text": [
      "IDEAL SLIDING WINDOW:  200\n",
      "processing;  /media/cat/4TBSSD/yuki/IA1/tif_files/IA1am_Mar15_30Hz/IA1am_Mar15_30Hz_code_04_trial_ROItimeCourses_30sec_pca_0.95.npy  with lockout:  False\n"
     ]
    },
    {
     "name": "stderr",
     "output_type": "stream",
     "text": [
      "\n",
      "100%|██████████| 10/10 [00:11<00:00,  1.14s/it]"
     ]
    },
    {
     "name": "stdout",
     "output_type": "stream",
     "text": [
      " No ideal sliding window computed, skipping\n",
      "IDEAL SLIDING WINDOW:  150\n",
      "processing;  /media/cat/4TBSSD/yuki/IA1/tif_files/IA1pm_Mar17_30Hz/IA1pm_Mar17_30Hz_code_04_trial_ROItimeCourses_30sec_pca_0.95.npy  with lockout:  False\n"
     ]
    },
    {
     "name": "stderr",
     "output_type": "stream",
     "text": [
      "\n",
      "100%|██████████| 10/10 [00:05<00:00,  1.90it/s]"
     ]
    },
    {
     "name": "stdout",
     "output_type": "stream",
     "text": [
      "IDEAL SLIDING WINDOW:  120\n",
      "processing;  /media/cat/4TBSSD/yuki/IA1/tif_files/IA1pm_Mar18_30Hz/IA1pm_Mar18_30Hz_code_04_trial_ROItimeCourses_30sec_pca_0.95.npy  with lockout:  False\n"
     ]
    },
    {
     "name": "stderr",
     "output_type": "stream",
     "text": [
      "\n",
      "100%|██████████| 10/10 [00:05<00:00,  1.74it/s]"
     ]
    },
    {
     "name": "stdout",
     "output_type": "stream",
     "text": [
      "IDEAL SLIDING WINDOW:  120\n",
      "processing;  /media/cat/4TBSSD/yuki/IA1/tif_files/IA1pm_Mar21_30Hz/IA1pm_Mar21_30Hz_code_04_trial_ROItimeCourses_30sec_pca_0.95.npy  with lockout:  False\n"
     ]
    },
    {
     "name": "stderr",
     "output_type": "stream",
     "text": [
      "\n",
      "100%|██████████| 10/10 [00:05<00:00,  1.97it/s]"
     ]
    },
    {
     "name": "stdout",
     "output_type": "stream",
     "text": [
      " No ideal sliding window computed, skipping\n",
      "IDEAL SLIDING WINDOW:  224\n",
      "processing;  /media/cat/4TBSSD/yuki/IA1/tif_files/IA1pm_Mar23_30Hz/IA1pm_Mar23_30Hz_code_04_trial_ROItimeCourses_30sec_pca_0.95.npy  with lockout:  False\n"
     ]
    },
    {
     "name": "stderr",
     "output_type": "stream",
     "text": [
      "\n",
      "100%|██████████| 10/10 [00:06<00:00,  1.59it/s]"
     ]
    },
    {
     "name": "stdout",
     "output_type": "stream",
     "text": [
      "IDEAL SLIDING WINDOW:  200\n",
      "processing;  /media/cat/4TBSSD/yuki/IA1/tif_files/IA1pm_Mar24_30Hz/IA1pm_Mar24_30Hz_code_04_trial_ROItimeCourses_30sec_pca_0.95.npy  with lockout:  False\n"
     ]
    },
    {
     "name": "stderr",
     "output_type": "stream",
     "text": [
      "\n",
      "100%|██████████| 10/10 [00:05<00:00,  1.82it/s]"
     ]
    },
    {
     "name": "stdout",
     "output_type": "stream",
     "text": [
      "IDEAL SLIDING WINDOW:  138\n",
      "processing;  /media/cat/4TBSSD/yuki/IA1/tif_files/IA1pm_Mar29_30Hz/IA1pm_Mar29_30Hz_code_04_trial_ROItimeCourses_30sec_pca_0.95.npy  with lockout:  False\n"
     ]
    },
    {
     "name": "stderr",
     "output_type": "stream",
     "text": [
      "\n",
      "100%|██████████| 10/10 [00:07<00:00,  1.32it/s]"
     ]
    },
    {
     "name": "stdout",
     "output_type": "stream",
     "text": [
      "IDEAL SLIDING WINDOW:  163\n",
      "processing;  /media/cat/4TBSSD/yuki/IA1/tif_files/IA1pm_Mar30_30Hz/IA1pm_Mar30_30Hz_code_04_trial_ROItimeCourses_30sec_pca_0.95.npy  with lockout:  False\n"
     ]
    },
    {
     "name": "stderr",
     "output_type": "stream",
     "text": [
      "\n",
      "100%|██████████| 10/10 [00:05<00:00,  1.88it/s]"
     ]
    },
    {
     "name": "stdout",
     "output_type": "stream",
     "text": [
      "IDEAL SLIDING WINDOW:  224\n",
      "processing;  /media/cat/4TBSSD/yuki/IA1/tif_files/IA1pm_Mar31_30Hz/IA1pm_Mar31_30Hz_code_04_trial_ROItimeCourses_30sec_pca_0.95.npy  with lockout:  False\n"
     ]
    },
    {
     "name": "stderr",
     "output_type": "stream",
     "text": [
      "\n",
      "100%|██████████| 10/10 [00:07<00:00,  1.34it/s]"
     ]
    },
    {
     "name": "stdout",
     "output_type": "stream",
     "text": [
      "IDEAL SLIDING WINDOW:  105\n",
      "processing;  /media/cat/4TBSSD/yuki/IA1/tif_files/IA1pm_Apr1_30Hz/IA1pm_Apr1_30Hz_code_04_trial_ROItimeCourses_30sec_pca_0.95.npy  with lockout:  False\n"
     ]
    },
    {
     "name": "stderr",
     "output_type": "stream",
     "text": [
      "\n",
      "100%|██████████| 10/10 [00:04<00:00,  2.33it/s]"
     ]
    },
    {
     "name": "stdout",
     "output_type": "stream",
     "text": [
      " No ideal sliding window computed, skipping\n",
      " No ideal sliding window computed, skipping\n",
      "IDEAL SLIDING WINDOW:  128\n",
      "processing;  /media/cat/4TBSSD/yuki/IA1/tif_files/IA1pm_Apr6_30Hz/IA1pm_Apr6_30Hz_code_04_trial_ROItimeCourses_30sec_pca_0.95.npy  with lockout:  False\n"
     ]
    },
    {
     "name": "stderr",
     "output_type": "stream",
     "text": [
      "\n",
      "100%|██████████| 10/10 [00:06<00:00,  1.55it/s]"
     ]
    },
    {
     "name": "stdout",
     "output_type": "stream",
     "text": [
      "IDEAL SLIDING WINDOW:  180\n",
      "processing;  /media/cat/4TBSSD/yuki/IA1/tif_files/IA1pm_Apr7_30Hz/IA1pm_Apr7_30Hz_code_04_trial_ROItimeCourses_30sec_pca_0.95.npy  with lockout:  False\n"
     ]
    },
    {
     "name": "stderr",
     "output_type": "stream",
     "text": [
      "\n",
      "100%|██████████| 10/10 [00:05<00:00,  1.97it/s]"
     ]
    },
    {
     "name": "stdout",
     "output_type": "stream",
     "text": [
      " No ideal sliding window computed, skipping\n",
      "IDEAL SLIDING WINDOW:  120\n",
      "processing;  /media/cat/4TBSSD/yuki/IA1/tif_files/IA1pm_Apr13_Day5_30Hz/IA1pm_Apr13_Day5_30Hz_code_04_trial_ROItimeCourses_30sec_pca_0.95.npy  with lockout:  False\n"
     ]
    },
    {
     "name": "stderr",
     "output_type": "stream",
     "text": [
      "\n",
      "100%|██████████| 10/10 [00:10<00:00,  1.00s/it]"
     ]
    },
    {
     "name": "stdout",
     "output_type": "stream",
     "text": [
      "IDEAL SLIDING WINDOW:  128\n",
      "processing;  /media/cat/4TBSSD/yuki/IA1/tif_files/IA1pm_Apr15_Day7_30Hz/IA1pm_Apr15_Day7_30Hz_code_04_trial_ROItimeCourses_30sec_pca_0.95.npy  with lockout:  False\n"
     ]
    },
    {
     "name": "stderr",
     "output_type": "stream",
     "text": [
      "\n",
      "100%|██████████| 10/10 [00:08<00:00,  1.20it/s]"
     ]
    },
    {
     "name": "stdout",
     "output_type": "stream",
     "text": [
      "IDEAL SLIDING WINDOW:  150\n",
      "processing;  /media/cat/4TBSSD/yuki/IA1/tif_files/IA1pm_Apr18_Week2_30Hz/IA1pm_Apr18_Week2_30Hz_code_04_trial_ROItimeCourses_30sec_pca_0.95.npy  with lockout:  False\n"
     ]
    },
    {
     "name": "stderr",
     "output_type": "stream",
     "text": [
      "\n",
      "100%|██████████| 10/10 [00:05<00:00,  1.76it/s]"
     ]
    },
    {
     "name": "stdout",
     "output_type": "stream",
     "text": [
      "IDEAL SLIDING WINDOW:  180\n",
      "processing;  /media/cat/4TBSSD/yuki/IA1/tif_files/IA1pm_Apr19_Week2_30Hz/IA1pm_Apr19_Week2_30Hz_code_04_trial_ROItimeCourses_30sec_pca_0.95.npy  with lockout:  False\n"
     ]
    },
    {
     "name": "stderr",
     "output_type": "stream",
     "text": [
      "\n",
      "100%|██████████| 10/10 [00:08<00:00,  1.23it/s]"
     ]
    },
    {
     "name": "stdout",
     "output_type": "stream",
     "text": [
      "IDEAL SLIDING WINDOW:  94\n",
      "processing;  /media/cat/4TBSSD/yuki/IA1/tif_files/IA1pm_Apr20_Week2_30Hz/IA1pm_Apr20_Week2_30Hz_code_04_trial_ROItimeCourses_30sec_pca_0.95.npy  with lockout:  False\n"
     ]
    },
    {
     "name": "stderr",
     "output_type": "stream",
     "text": [
      "\n",
      "100%|██████████| 10/10 [00:04<00:00,  2.12it/s]"
     ]
    },
    {
     "name": "stdout",
     "output_type": "stream",
     "text": [
      "IDEAL SLIDING WINDOW:  257\n",
      "processing;  /media/cat/4TBSSD/yuki/IA1/tif_files/IA1pm_Apr21_Week2_30Hz/IA1pm_Apr21_Week2_30Hz_code_04_trial_ROItimeCourses_30sec_pca_0.95.npy  with lockout:  False\n"
     ]
    },
    {
     "name": "stderr",
     "output_type": "stream",
     "text": [
      "\n",
      "100%|██████████| 10/10 [00:40<00:00,  4.04s/it]"
     ]
    },
    {
     "name": "stdout",
     "output_type": "stream",
     "text": [
      " No ideal sliding window computed, skipping\n",
      "IDEAL SLIDING WINDOW:  100\n",
      "processing;  /media/cat/4TBSSD/yuki/IA1/tif_files/IA1pm_Apr25_Week3_30Hz/IA1pm_Apr25_Week3_30Hz_code_04_trial_ROItimeCourses_30sec_pca_0.95.npy  with lockout:  False\n"
     ]
    },
    {
     "name": "stderr",
     "output_type": "stream",
     "text": [
      "\n",
      "100%|██████████| 10/10 [00:10<00:00,  1.03s/it]"
     ]
    },
    {
     "name": "stdout",
     "output_type": "stream",
     "text": [
      "IDEAL SLIDING WINDOW:  112\n",
      "processing;  /media/cat/4TBSSD/yuki/IA1/tif_files/IA1pm_Apr26_Week3_30Hz/IA1pm_Apr26_Week3_30Hz_code_04_trial_ROItimeCourses_30sec_pca_0.95.npy  with lockout:  False\n"
     ]
    },
    {
     "name": "stderr",
     "output_type": "stream",
     "text": [
      "\n",
      "100%|██████████| 10/10 [00:06<00:00,  1.58it/s]"
     ]
    },
    {
     "name": "stdout",
     "output_type": "stream",
     "text": [
      "IDEAL SLIDING WINDOW:  105\n",
      "processing;  /media/cat/4TBSSD/yuki/IA1/tif_files/IA1pm_Apr27_Week3_30Hz/IA1pm_Apr27_Week3_30Hz_code_04_trial_ROItimeCourses_30sec_pca_0.95.npy  with lockout:  False\n"
     ]
    },
    {
     "name": "stderr",
     "output_type": "stream",
     "text": [
      "\n",
      "100%|██████████| 10/10 [00:04<00:00,  2.08it/s]"
     ]
    },
    {
     "name": "stdout",
     "output_type": "stream",
     "text": [
      "IDEAL SLIDING WINDOW:  100\n",
      "processing;  /media/cat/4TBSSD/yuki/IA1/tif_files/IA1pm_Apr28_Week3_30Hz/IA1pm_Apr28_Week3_30Hz_code_04_trial_ROItimeCourses_30sec_pca_0.95.npy  with lockout:  False\n"
     ]
    },
    {
     "name": "stderr",
     "output_type": "stream",
     "text": [
      "\n",
      "100%|██████████| 10/10 [00:04<00:00,  2.40it/s]\n"
     ]
    },
    {
     "name": "stdout",
     "output_type": "stream",
     "text": [
      "IDEAL SLIDING WINDOW:  257\n",
      "processing;  /media/cat/4TBSSD/yuki/IA1/tif_files/IA1pm_Apr29_Week3_30Hz/IA1pm_Apr29_Week3_30Hz_code_04_trial_ROItimeCourses_30sec_pca_0.95.npy  with lockout:  False\n"
     ]
    },
    {
     "name": "stderr",
     "output_type": "stream",
     "text": [
      "100%|██████████| 10/10 [00:08<00:00,  1.24it/s]"
     ]
    },
    {
     "name": "stdout",
     "output_type": "stream",
     "text": [
      " No ideal sliding window computed, skipping\n",
      "IDEAL SLIDING WINDOW:  81\n",
      "processing;  /media/cat/4TBSSD/yuki/IA1/tif_files/IA1am_May4_Week4_30Hz/IA1am_May4_Week4_30Hz_code_04_trial_ROItimeCourses_30sec_pca_0.95.npy  with lockout:  False\n"
     ]
    },
    {
     "name": "stderr",
     "output_type": "stream",
     "text": [
      "\n",
      "100%|██████████| 10/10 [00:07<00:00,  1.31it/s]"
     ]
    },
    {
     "name": "stdout",
     "output_type": "stream",
     "text": [
      "IDEAL SLIDING WINDOW:  52\n",
      "processing;  /media/cat/4TBSSD/yuki/IA1/tif_files/IA1am_May5_Week4_30Hz/IA1am_May5_Week4_30Hz_code_04_trial_ROItimeCourses_30sec_pca_0.95.npy  with lockout:  False\n"
     ]
    },
    {
     "name": "stderr",
     "output_type": "stream",
     "text": [
      "\n",
      "100%|██████████| 10/10 [00:03<00:00,  2.96it/s]"
     ]
    },
    {
     "name": "stdout",
     "output_type": "stream",
     "text": [
      "IDEAL SLIDING WINDOW:  64\n",
      "processing;  /media/cat/4TBSSD/yuki/IA1/tif_files/IA1am_May6_Week4_30Hz/IA1am_May6_Week4_30Hz_code_04_trial_ROItimeCourses_30sec_pca_0.95.npy  with lockout:  False\n"
     ]
    },
    {
     "name": "stderr",
     "output_type": "stream",
     "text": [
      "\n",
      "100%|██████████| 10/10 [00:04<00:00,  2.02it/s]"
     ]
    },
    {
     "name": "stdout",
     "output_type": "stream",
     "text": [
      "IDEAL SLIDING WINDOW:  128\n",
      "processing;  /media/cat/4TBSSD/yuki/IA1/tif_files/IA1am_May9_Week5_30Hz/IA1am_May9_Week5_30Hz_code_04_trial_ROItimeCourses_30sec_pca_0.95.npy  with lockout:  False\n"
     ]
    },
    {
     "name": "stderr",
     "output_type": "stream",
     "text": [
      "\n",
      "100%|██████████| 10/10 [00:07<00:00,  1.34it/s]"
     ]
    },
    {
     "name": "stdout",
     "output_type": "stream",
     "text": [
      "IDEAL SLIDING WINDOW:  89\n",
      "processing;  /media/cat/4TBSSD/yuki/IA1/tif_files/IA1am_May10_Week5_30Hz/IA1am_May10_Week5_30Hz_code_04_trial_ROItimeCourses_30sec_pca_0.95.npy  with lockout:  False\n"
     ]
    },
    {
     "name": "stderr",
     "output_type": "stream",
     "text": [
      "\n",
      "100%|██████████| 10/10 [00:05<00:00,  1.87it/s]"
     ]
    },
    {
     "name": "stdout",
     "output_type": "stream",
     "text": [
      "IDEAL SLIDING WINDOW:  54\n",
      "processing;  /media/cat/4TBSSD/yuki/IA1/tif_files/IA1am_May12_Week5_30Hz/IA1am_May12_Week5_30Hz_code_04_trial_ROItimeCourses_30sec_pca_0.95.npy  with lockout:  False\n"
     ]
    },
    {
     "name": "stderr",
     "output_type": "stream",
     "text": [
      "\n",
      "100%|██████████| 10/10 [00:07<00:00,  1.27it/s]"
     ]
    },
    {
     "name": "stdout",
     "output_type": "stream",
     "text": [
      " No ideal sliding window computed, skipping\n",
      " No ideal sliding window computed, skipping\n",
      "IDEAL SLIDING WINDOW:  120\n",
      "processing;  /media/cat/4TBSSD/yuki/IA1/tif_files/IA1am_May17_Week6_30Hz/IA1am_May17_Week6_30Hz_code_04_trial_ROItimeCourses_30sec_pca_0.95.npy  with lockout:  False\n"
     ]
    },
    {
     "name": "stderr",
     "output_type": "stream",
     "text": [
      "\n",
      "100%|██████████| 10/10 [00:09<00:00,  1.08it/s]"
     ]
    },
    {
     "name": "stdout",
     "output_type": "stream",
     "text": [
      "IDEAL SLIDING WINDOW:  180\n",
      "processing;  /media/cat/4TBSSD/yuki/IA1/tif_files/IA1am_May18_Week6_30Hz/IA1am_May18_Week6_30Hz_code_04_trial_ROItimeCourses_30sec_pca_0.95.npy  with lockout:  False\n"
     ]
    },
    {
     "name": "stderr",
     "output_type": "stream",
     "text": [
      "\n",
      "100%|██████████| 10/10 [00:06<00:00,  1.50it/s]"
     ]
    },
    {
     "name": "stdout",
     "output_type": "stream",
     "text": [
      "IDEAL SLIDING WINDOW:  128\n",
      "processing;  /media/cat/4TBSSD/yuki/IA1/tif_files/IA1am_May20_Week6_30Hz/IA1am_May20_Week6_30Hz_code_04_trial_ROItimeCourses_30sec_pca_0.95.npy  with lockout:  False\n"
     ]
    },
    {
     "name": "stderr",
     "output_type": "stream",
     "text": [
      "\n",
      "100%|██████████| 10/10 [00:04<00:00,  2.41it/s]"
     ]
    },
    {
     "name": "stdout",
     "output_type": "stream",
     "text": [
      "DONE predicting SVM on animal:  IA1\n",
      " No ideal sliding window computed, skipping\n",
      " No ideal sliding window computed, skipping\n",
      "IDEAL SLIDING WINDOW:  150\n",
      "processing;  /media/cat/4TBSSD/yuki/IA2/tif_files/IA2pm_Feb3_30Hz/IA2pm_Feb3_30Hz_code_04_trial_ROItimeCourses_30sec_pca_0.95.npy  with lockout:  False\n"
     ]
    },
    {
     "name": "stderr",
     "output_type": "stream",
     "text": [
      "\n",
      "100%|██████████| 10/10 [00:10<00:00,  1.06s/it]"
     ]
    },
    {
     "name": "stdout",
     "output_type": "stream",
     "text": [
      "IDEAL SLIDING WINDOW:  200\n",
      "processing;  /media/cat/4TBSSD/yuki/IA2/tif_files/IA2pm_Feb4_30Hz/IA2pm_Feb4_30Hz_code_04_trial_ROItimeCourses_30sec_pca_0.95.npy  with lockout:  False\n"
     ]
    },
    {
     "name": "stderr",
     "output_type": "stream",
     "text": [
      "\n",
      "100%|██████████| 10/10 [01:06<00:00,  6.66s/it]"
     ]
    },
    {
     "name": "stdout",
     "output_type": "stream",
     "text": [
      "IDEAL SLIDING WINDOW:  200\n",
      "processing;  /media/cat/4TBSSD/yuki/IA2/tif_files/IA2pm_Feb5_30Hz/IA2pm_Feb5_30Hz_code_04_trial_ROItimeCourses_30sec_pca_0.95.npy  with lockout:  False\n"
     ]
    },
    {
     "name": "stderr",
     "output_type": "stream",
     "text": [
      "\n",
      "100%|██████████| 10/10 [00:24<00:00,  2.50s/it]"
     ]
    },
    {
     "name": "stdout",
     "output_type": "stream",
     "text": [
      " No ideal sliding window computed, skipping\n",
      " No ideal sliding window computed, skipping\n",
      " No ideal sliding window computed, skipping\n",
      "IDEAL SLIDING WINDOW:  94\n",
      "processing;  /media/cat/4TBSSD/yuki/IA2/tif_files/IA2pm_Feb12_30Hz/IA2pm_Feb12_30Hz_code_04_trial_ROItimeCourses_30sec_pca_0.95.npy  with lockout:  False\n"
     ]
    },
    {
     "name": "stderr",
     "output_type": "stream",
     "text": [
      "\n",
      "100%|██████████| 10/10 [00:03<00:00,  2.84it/s]"
     ]
    },
    {
     "name": "stdout",
     "output_type": "stream",
     "text": [
      " No ideal sliding window computed, skipping\n",
      "IDEAL SLIDING WINDOW:  120\n",
      "processing;  /media/cat/4TBSSD/yuki/IA2/tif_files/IA2pm_Feb16_30Hz/IA2pm_Feb16_30Hz_code_04_trial_ROItimeCourses_30sec_pca_0.95.npy  with lockout:  False\n"
     ]
    },
    {
     "name": "stderr",
     "output_type": "stream",
     "text": [
      "\n",
      "100%|██████████| 10/10 [00:11<00:00,  1.11s/it]"
     ]
    },
    {
     "name": "stdout",
     "output_type": "stream",
     "text": [
      "IDEAL SLIDING WINDOW:  105\n",
      "processing;  /media/cat/4TBSSD/yuki/IA2/tif_files/IA2pm_Feb17_30Hz/IA2pm_Feb17_30Hz_code_04_trial_ROItimeCourses_30sec_pca_0.95.npy  with lockout:  False\n"
     ]
    },
    {
     "name": "stderr",
     "output_type": "stream",
     "text": [
      "\n",
      "100%|██████████| 10/10 [00:04<00:00,  2.24it/s]"
     ]
    },
    {
     "name": "stdout",
     "output_type": "stream",
     "text": [
      "IDEAL SLIDING WINDOW:  163\n",
      "processing;  /media/cat/4TBSSD/yuki/IA2/tif_files/IA2pm_Feb18_30Hz/IA2pm_Feb18_30Hz_code_04_trial_ROItimeCourses_30sec_pca_0.95.npy  with lockout:  False\n"
     ]
    },
    {
     "name": "stderr",
     "output_type": "stream",
     "text": [
      "\n",
      "100%|██████████| 10/10 [00:12<00:00,  1.25s/it]"
     ]
    },
    {
     "name": "stdout",
     "output_type": "stream",
     "text": [
      "IDEAL SLIDING WINDOW:  150\n",
      "processing;  /media/cat/4TBSSD/yuki/IA2/tif_files/IA2pm_Feb19_30Hz/IA2pm_Feb19_30Hz_code_04_trial_ROItimeCourses_30sec_pca_0.95.npy  with lockout:  False\n"
     ]
    },
    {
     "name": "stderr",
     "output_type": "stream",
     "text": [
      "\n",
      "100%|██████████| 10/10 [00:16<00:00,  1.68s/it]"
     ]
    },
    {
     "name": "stdout",
     "output_type": "stream",
     "text": [
      "IDEAL SLIDING WINDOW:  150\n",
      "processing;  /media/cat/4TBSSD/yuki/IA2/tif_files/IA2pm_Feb22_30Hz/IA2pm_Feb22_30Hz_code_04_trial_ROItimeCourses_30sec_pca_0.95.npy  with lockout:  False\n"
     ]
    },
    {
     "name": "stderr",
     "output_type": "stream",
     "text": [
      "\n",
      "100%|██████████| 10/10 [00:08<00:00,  1.11it/s]"
     ]
    },
    {
     "name": "stdout",
     "output_type": "stream",
     "text": [
      " No ideal sliding window computed, skipping\n",
      " No ideal sliding window computed, skipping\n",
      " No ideal sliding window computed, skipping\n",
      "IDEAL SLIDING WINDOW:  100\n",
      "processing;  /media/cat/4TBSSD/yuki/IA2/tif_files/IA2pm_Feb26_30Hz/IA2pm_Feb26_30Hz_code_04_trial_ROItimeCourses_30sec_pca_0.95.npy  with lockout:  False\n"
     ]
    },
    {
     "name": "stderr",
     "output_type": "stream",
     "text": [
      "\n",
      "100%|██████████| 10/10 [00:04<00:00,  2.05it/s]"
     ]
    },
    {
     "name": "stdout",
     "output_type": "stream",
     "text": [
      "IDEAL SLIDING WINDOW:  138\n",
      "processing;  /media/cat/4TBSSD/yuki/IA2/tif_files/IA2pm_Feb29_30Hz/IA2pm_Feb29_30Hz_code_04_trial_ROItimeCourses_30sec_pca_0.95.npy  with lockout:  False\n"
     ]
    },
    {
     "name": "stderr",
     "output_type": "stream",
     "text": [
      "\n",
      "100%|██████████| 10/10 [00:16<00:00,  1.65s/it]"
     ]
    },
    {
     "name": "stdout",
     "output_type": "stream",
     "text": [
      "IDEAL SLIDING WINDOW:  257\n",
      "processing;  /media/cat/4TBSSD/yuki/IA2/tif_files/IA2pm_Mar1_30Hz/IA2pm_Mar1_30Hz_code_04_trial_ROItimeCourses_30sec_pca_0.95.npy  with lockout:  False\n"
     ]
    },
    {
     "name": "stderr",
     "output_type": "stream",
     "text": [
      "\n",
      "100%|██████████| 10/10 [00:05<00:00,  1.71it/s]"
     ]
    },
    {
     "name": "stdout",
     "output_type": "stream",
     "text": [
      "IDEAL SLIDING WINDOW:  150\n",
      "processing;  /media/cat/4TBSSD/yuki/IA2/tif_files/IA2pm_Mar2_30Hz/IA2pm_Mar2_30Hz_code_04_trial_ROItimeCourses_30sec_pca_0.95.npy  with lockout:  False\n"
     ]
    },
    {
     "name": "stderr",
     "output_type": "stream",
     "text": [
      "\n",
      "100%|██████████| 10/10 [00:18<00:00,  1.86s/it]"
     ]
    },
    {
     "name": "stdout",
     "output_type": "stream",
     "text": [
      " No ideal sliding window computed, skipping\n",
      "IDEAL SLIDING WINDOW:  200\n",
      "processing;  /media/cat/4TBSSD/yuki/IA2/tif_files/IA2am_Mar4_30Hz/IA2am_Mar4_30Hz_code_04_trial_ROItimeCourses_30sec_pca_0.95.npy  with lockout:  False\n"
     ]
    },
    {
     "name": "stderr",
     "output_type": "stream",
     "text": [
      "\n",
      "100%|██████████| 10/10 [00:09<00:00,  1.11it/s]"
     ]
    },
    {
     "name": "stdout",
     "output_type": "stream",
     "text": [
      " No ideal sliding window computed, skipping\n",
      "IDEAL SLIDING WINDOW:  163\n",
      "processing;  /media/cat/4TBSSD/yuki/IA2/tif_files/IA2pm_Mar8_30Hz/IA2pm_Mar8_30Hz_code_04_trial_ROItimeCourses_30sec_pca_0.95.npy  with lockout:  False\n"
     ]
    },
    {
     "name": "stderr",
     "output_type": "stream",
     "text": [
      "\n",
      "100%|██████████| 10/10 [00:04<00:00,  2.26it/s]"
     ]
    },
    {
     "name": "stdout",
     "output_type": "stream",
     "text": [
      "IDEAL SLIDING WINDOW:  120\n",
      "processing;  /media/cat/4TBSSD/yuki/IA2/tif_files/IA2am_Mar9_30Hz/IA2am_Mar9_30Hz_code_04_trial_ROItimeCourses_30sec_pca_0.95.npy  with lockout:  False\n"
     ]
    },
    {
     "name": "stderr",
     "output_type": "stream",
     "text": [
      "\n",
      "100%|██████████| 10/10 [00:04<00:00,  2.15it/s]"
     ]
    },
    {
     "name": "stdout",
     "output_type": "stream",
     "text": [
      " No ideal sliding window computed, skipping\n",
      "IDEAL SLIDING WINDOW:  200\n",
      "processing;  /media/cat/4TBSSD/yuki/IA2/tif_files/IA2am_Mar11_30Hz/IA2am_Mar11_30Hz_code_04_trial_ROItimeCourses_30sec_pca_0.95.npy  with lockout:  False\n"
     ]
    },
    {
     "name": "stderr",
     "output_type": "stream",
     "text": [
      "\n",
      "100%|██████████| 10/10 [01:54<00:00, 11.47s/it]"
     ]
    },
    {
     "name": "stdout",
     "output_type": "stream",
     "text": [
      "IDEAL SLIDING WINDOW:  257\n",
      "processing;  /media/cat/4TBSSD/yuki/IA2/tif_files/IA2pm_Mar14_30Hz/IA2pm_Mar14_30Hz_code_04_trial_ROItimeCourses_30sec_pca_0.95.npy  with lockout:  False\n"
     ]
    },
    {
     "name": "stderr",
     "output_type": "stream",
     "text": [
      "\n",
      "100%|██████████| 10/10 [02:39<00:00, 15.98s/it]"
     ]
    },
    {
     "name": "stdout",
     "output_type": "stream",
     "text": [
      "IDEAL SLIDING WINDOW:  257\n",
      "processing;  /media/cat/4TBSSD/yuki/IA2/tif_files/IA2am_Mar15_30Hz/IA2am_Mar15_30Hz_code_04_trial_ROItimeCourses_30sec_pca_0.95.npy  with lockout:  False\n"
     ]
    },
    {
     "name": "stderr",
     "output_type": "stream",
     "text": [
      "\n",
      "100%|██████████| 10/10 [02:22<00:00, 14.23s/it]"
     ]
    },
    {
     "name": "stdout",
     "output_type": "stream",
     "text": [
      "IDEAL SLIDING WINDOW:  163\n",
      "processing;  /media/cat/4TBSSD/yuki/IA2/tif_files/IA2pm_Mar16_30Hz/IA2pm_Mar16_30Hz_code_04_trial_ROItimeCourses_30sec_pca_0.95.npy  with lockout:  False\n"
     ]
    },
    {
     "name": "stderr",
     "output_type": "stream",
     "text": [
      "\n",
      "100%|██████████| 10/10 [01:04<00:00,  6.48s/it]"
     ]
    },
    {
     "name": "stdout",
     "output_type": "stream",
     "text": [
      "IDEAL SLIDING WINDOW:  224\n",
      "processing;  /media/cat/4TBSSD/yuki/IA2/tif_files/IA2pm_Mar17_30Hz/IA2pm_Mar17_30Hz_code_04_trial_ROItimeCourses_30sec_pca_0.95.npy  with lockout:  False\n"
     ]
    },
    {
     "name": "stderr",
     "output_type": "stream",
     "text": [
      "\n",
      "100%|██████████| 10/10 [02:23<00:00, 14.36s/it]"
     ]
    },
    {
     "name": "stdout",
     "output_type": "stream",
     "text": [
      "IDEAL SLIDING WINDOW:  224\n",
      "processing;  /media/cat/4TBSSD/yuki/IA2/tif_files/IA2pm_Mar18_30Hz/IA2pm_Mar18_30Hz_code_04_trial_ROItimeCourses_30sec_pca_0.95.npy  with lockout:  False\n"
     ]
    },
    {
     "name": "stderr",
     "output_type": "stream",
     "text": [
      "\n",
      "100%|██████████| 10/10 [00:33<00:00,  3.34s/it]"
     ]
    },
    {
     "name": "stdout",
     "output_type": "stream",
     "text": [
      "IDEAL SLIDING WINDOW:  257\n",
      "processing;  /media/cat/4TBSSD/yuki/IA2/tif_files/IA2pm_Mar21_30Hz/IA2pm_Mar21_30Hz_code_04_trial_ROItimeCourses_30sec_pca_0.95.npy  with lockout:  False\n"
     ]
    },
    {
     "name": "stderr",
     "output_type": "stream",
     "text": [
      "\n",
      "100%|██████████| 10/10 [00:41<00:00,  4.17s/it]"
     ]
    },
    {
     "name": "stdout",
     "output_type": "stream",
     "text": [
      "IDEAL SLIDING WINDOW:  300\n",
      "processing;  /media/cat/4TBSSD/yuki/IA2/tif_files/IA2pm_Mar23_30Hz/IA2pm_Mar23_30Hz_code_04_trial_ROItimeCourses_30sec_pca_0.95.npy  with lockout:  False\n"
     ]
    },
    {
     "name": "stderr",
     "output_type": "stream",
     "text": [
      "\n",
      "100%|██████████| 10/10 [01:52<00:00, 11.29s/it]"
     ]
    },
    {
     "name": "stdout",
     "output_type": "stream",
     "text": [
      "IDEAL SLIDING WINDOW:  300\n",
      "processing;  /media/cat/4TBSSD/yuki/IA2/tif_files/IA2pm_Mar24_30Hz/IA2pm_Mar24_30Hz_code_04_trial_ROItimeCourses_30sec_pca_0.95.npy  with lockout:  False\n"
     ]
    },
    {
     "name": "stderr",
     "output_type": "stream",
     "text": [
      "\n",
      "100%|██████████| 10/10 [00:43<00:00,  4.34s/it]"
     ]
    },
    {
     "name": "stdout",
     "output_type": "stream",
     "text": [
      " No ideal sliding window computed, skipping\n",
      "IDEAL SLIDING WINDOW:  300\n",
      "processing;  /media/cat/4TBSSD/yuki/IA2/tif_files/IA2pm_Mar30_30Hz/IA2pm_Mar30_30Hz_code_04_trial_ROItimeCourses_30sec_pca_0.95.npy  with lockout:  False\n"
     ]
    },
    {
     "name": "stderr",
     "output_type": "stream",
     "text": [
      "\n",
      "100%|██████████| 10/10 [00:34<00:00,  3.44s/it]"
     ]
    },
    {
     "name": "stdout",
     "output_type": "stream",
     "text": [
      "IDEAL SLIDING WINDOW:  300\n",
      "processing;  /media/cat/4TBSSD/yuki/IA2/tif_files/IA2pm_Mar31_30Hz/IA2pm_Mar31_30Hz_code_04_trial_ROItimeCourses_30sec_pca_0.95.npy  with lockout:  False\n"
     ]
    },
    {
     "name": "stderr",
     "output_type": "stream",
     "text": [
      "\n",
      "100%|██████████| 10/10 [01:36<00:00,  9.67s/it]"
     ]
    },
    {
     "name": "stdout",
     "output_type": "stream",
     "text": [
      "IDEAL SLIDING WINDOW:  257\n",
      "processing;  /media/cat/4TBSSD/yuki/IA2/tif_files/IA2pm_Apr1_30Hz/IA2pm_Apr1_30Hz_code_04_trial_ROItimeCourses_30sec_pca_0.95.npy  with lockout:  False\n"
     ]
    },
    {
     "name": "stderr",
     "output_type": "stream",
     "text": [
      "\n",
      "100%|██████████| 10/10 [02:25<00:00, 14.56s/it]"
     ]
    },
    {
     "name": "stdout",
     "output_type": "stream",
     "text": [
      "IDEAL SLIDING WINDOW:  224\n",
      "processing;  /media/cat/4TBSSD/yuki/IA2/tif_files/IA2pm_Apr4_30Hz/IA2pm_Apr4_30Hz_code_04_trial_ROItimeCourses_30sec_pca_0.95.npy  with lockout:  False\n"
     ]
    },
    {
     "name": "stderr",
     "output_type": "stream",
     "text": [
      "\n",
      "100%|██████████| 10/10 [00:14<00:00,  1.46s/it]"
     ]
    },
    {
     "name": "stdout",
     "output_type": "stream",
     "text": [
      "IDEAL SLIDING WINDOW:  224\n",
      "processing;  /media/cat/4TBSSD/yuki/IA2/tif_files/IA2pm_Apr5_30Hz/IA2pm_Apr5_30Hz_code_04_trial_ROItimeCourses_30sec_pca_0.95.npy  with lockout:  False\n"
     ]
    },
    {
     "name": "stderr",
     "output_type": "stream",
     "text": [
      "\n",
      "100%|██████████| 10/10 [00:10<00:00,  1.07s/it]"
     ]
    },
    {
     "name": "stdout",
     "output_type": "stream",
     "text": [
      "IDEAL SLIDING WINDOW:  257\n",
      "processing;  /media/cat/4TBSSD/yuki/IA2/tif_files/IA2pm_Apr6_30Hz/IA2pm_Apr6_30Hz_code_04_trial_ROItimeCourses_30sec_pca_0.95.npy  with lockout:  False\n"
     ]
    },
    {
     "name": "stderr",
     "output_type": "stream",
     "text": [
      "\n",
      "100%|██████████| 10/10 [00:56<00:00,  5.66s/it]"
     ]
    },
    {
     "name": "stdout",
     "output_type": "stream",
     "text": [
      "DONE predicting SVM on animal:  IA2\n",
      "IDEAL SLIDING WINDOW:  112\n",
      "processing;  /media/cat/4TBSSD/yuki/IA3/tif_files/IA3pm_Feb1_30Hz/IA3pm_Feb1_30Hz_code_04_trial_ROItimeCourses_30sec_pca_0.95.npy  with lockout:  False\n"
     ]
    },
    {
     "name": "stderr",
     "output_type": "stream",
     "text": [
      "\n",
      "100%|██████████| 10/10 [00:09<00:00,  1.03it/s]"
     ]
    },
    {
     "name": "stdout",
     "output_type": "stream",
     "text": [
      "IDEAL SLIDING WINDOW:  300\n",
      "processing;  /media/cat/4TBSSD/yuki/IA3/tif_files/IA3pm_Feb2_30Hz/IA3pm_Feb2_30Hz_code_04_trial_ROItimeCourses_30sec_pca_0.95.npy  with lockout:  False\n"
     ]
    },
    {
     "name": "stderr",
     "output_type": "stream",
     "text": [
      "\n",
      "100%|██████████| 10/10 [02:18<00:00, 13.82s/it]"
     ]
    },
    {
     "name": "stdout",
     "output_type": "stream",
     "text": [
      "IDEAL SLIDING WINDOW:  180\n",
      "processing;  /media/cat/4TBSSD/yuki/IA3/tif_files/IA3pm_Feb3_30Hz/IA3pm_Feb3_30Hz_code_04_trial_ROItimeCourses_30sec_pca_0.95.npy  with lockout:  False\n"
     ]
    },
    {
     "name": "stderr",
     "output_type": "stream",
     "text": [
      "\n",
      "100%|██████████| 10/10 [01:19<00:00,  7.97s/it]"
     ]
    },
    {
     "name": "stdout",
     "output_type": "stream",
     "text": [
      "IDEAL SLIDING WINDOW:  138\n",
      "processing;  /media/cat/4TBSSD/yuki/IA3/tif_files/IA3pm_Feb4_30Hz/IA3pm_Feb4_30Hz_code_04_trial_ROItimeCourses_30sec_pca_0.95.npy  with lockout:  False\n"
     ]
    },
    {
     "name": "stderr",
     "output_type": "stream",
     "text": [
      "\n",
      "100%|██████████| 10/10 [00:15<00:00,  1.54s/it]"
     ]
    },
    {
     "name": "stdout",
     "output_type": "stream",
     "text": [
      "IDEAL SLIDING WINDOW:  150\n",
      "processing;  /media/cat/4TBSSD/yuki/IA3/tif_files/IA3pm_Feb9_30Hz/IA3pm_Feb9_30Hz_code_04_trial_ROItimeCourses_30sec_pca_0.95.npy  with lockout:  False\n"
     ]
    },
    {
     "name": "stderr",
     "output_type": "stream",
     "text": [
      "\n",
      "100%|██████████| 10/10 [00:03<00:00,  2.95it/s]"
     ]
    },
    {
     "name": "stdout",
     "output_type": "stream",
     "text": [
      " No ideal sliding window computed, skipping\n",
      "IDEAL SLIDING WINDOW:  224\n",
      "processing;  /media/cat/4TBSSD/yuki/IA3/tif_files/IA3pm_Feb11_30Hz/IA3pm_Feb11_30Hz_code_04_trial_ROItimeCourses_30sec_pca_0.95.npy  with lockout:  False\n"
     ]
    },
    {
     "name": "stderr",
     "output_type": "stream",
     "text": [
      "\n",
      "100%|██████████| 10/10 [00:06<00:00,  1.63it/s]\n"
     ]
    },
    {
     "name": "stdout",
     "output_type": "stream",
     "text": [
      "IDEAL SLIDING WINDOW:  224\n",
      "processing;  /media/cat/4TBSSD/yuki/IA3/tif_files/IA3pm_Feb12_30Hz/IA3pm_Feb12_30Hz_code_04_trial_ROItimeCourses_30sec_pca_0.95.npy  with lockout:  False\n"
     ]
    },
    {
     "name": "stderr",
     "output_type": "stream",
     "text": [
      "100%|██████████| 10/10 [02:20<00:00, 14.07s/it]"
     ]
    },
    {
     "name": "stdout",
     "output_type": "stream",
     "text": [
      "IDEAL SLIDING WINDOW:  200\n",
      "processing;  /media/cat/4TBSSD/yuki/IA3/tif_files/IA3pm_Feb15_30Hz/IA3pm_Feb15_30Hz_code_04_trial_ROItimeCourses_30sec_pca_0.95.npy  with lockout:  False\n"
     ]
    },
    {
     "name": "stderr",
     "output_type": "stream",
     "text": [
      "\n",
      "100%|██████████| 10/10 [00:17<00:00,  1.79s/it]"
     ]
    },
    {
     "name": "stdout",
     "output_type": "stream",
     "text": [
      "IDEAL SLIDING WINDOW:  138\n",
      "processing;  /media/cat/4TBSSD/yuki/IA3/tif_files/IA3pm_Feb16_30Hz/IA3pm_Feb16_30Hz_code_04_trial_ROItimeCourses_30sec_pca_0.95.npy  with lockout:  False\n"
     ]
    },
    {
     "name": "stderr",
     "output_type": "stream",
     "text": [
      "\n",
      "100%|██████████| 10/10 [00:24<00:00,  2.42s/it]"
     ]
    },
    {
     "name": "stdout",
     "output_type": "stream",
     "text": [
      "IDEAL SLIDING WINDOW:  138\n",
      "processing;  /media/cat/4TBSSD/yuki/IA3/tif_files/IA3pm_Feb17_30Hz/IA3pm_Feb17_30Hz_code_04_trial_ROItimeCourses_30sec_pca_0.95.npy  with lockout:  False\n"
     ]
    },
    {
     "name": "stderr",
     "output_type": "stream",
     "text": [
      "\n",
      "100%|██████████| 10/10 [00:18<00:00,  1.81s/it]"
     ]
    },
    {
     "name": "stdout",
     "output_type": "stream",
     "text": [
      "IDEAL SLIDING WINDOW:  138\n",
      "processing;  /media/cat/4TBSSD/yuki/IA3/tif_files/IA3pm_Feb18_30Hz/IA3pm_Feb18_30Hz_code_04_trial_ROItimeCourses_30sec_pca_0.95.npy  with lockout:  False\n"
     ]
    },
    {
     "name": "stderr",
     "output_type": "stream",
     "text": [
      "\n",
      "100%|██████████| 10/10 [00:14<00:00,  1.41s/it]"
     ]
    },
    {
     "name": "stdout",
     "output_type": "stream",
     "text": [
      "IDEAL SLIDING WINDOW:  128\n",
      "processing;  /media/cat/4TBSSD/yuki/IA3/tif_files/IA3pm_Feb19_30Hz/IA3pm_Feb19_30Hz_code_04_trial_ROItimeCourses_30sec_pca_0.95.npy  with lockout:  False\n"
     ]
    },
    {
     "name": "stderr",
     "output_type": "stream",
     "text": [
      "\n",
      "100%|██████████| 10/10 [00:09<00:00,  1.09it/s]"
     ]
    },
    {
     "name": "stdout",
     "output_type": "stream",
     "text": [
      "IDEAL SLIDING WINDOW:  128\n",
      "processing;  /media/cat/4TBSSD/yuki/IA3/tif_files/IA3pm_Feb22_30Hz/IA3pm_Feb22_30Hz_code_04_trial_ROItimeCourses_30sec_pca_0.95.npy  with lockout:  False\n"
     ]
    },
    {
     "name": "stderr",
     "output_type": "stream",
     "text": [
      "\n",
      "100%|██████████| 10/10 [00:07<00:00,  1.30it/s]"
     ]
    },
    {
     "name": "stdout",
     "output_type": "stream",
     "text": [
      "IDEAL SLIDING WINDOW:  138\n",
      "processing;  /media/cat/4TBSSD/yuki/IA3/tif_files/IA3pm_Feb23_30Hz/IA3pm_Feb23_30Hz_code_04_trial_ROItimeCourses_30sec_pca_0.95.npy  with lockout:  False\n"
     ]
    },
    {
     "name": "stderr",
     "output_type": "stream",
     "text": [
      "\n",
      "100%|██████████| 10/10 [00:03<00:00,  2.53it/s]"
     ]
    },
    {
     "name": "stdout",
     "output_type": "stream",
     "text": [
      " No ideal sliding window computed, skipping\n",
      " No ideal sliding window computed, skipping\n",
      "IDEAL SLIDING WINDOW:  163\n",
      "processing;  /media/cat/4TBSSD/yuki/IA3/tif_files/IA3pm_Feb26_30Hz/IA3pm_Feb26_30Hz_code_04_trial_ROItimeCourses_30sec_pca_0.95.npy  with lockout:  False\n"
     ]
    },
    {
     "name": "stderr",
     "output_type": "stream",
     "text": [
      "\n",
      "100%|██████████| 10/10 [01:23<00:00,  8.35s/it]"
     ]
    },
    {
     "name": "stdout",
     "output_type": "stream",
     "text": [
      "IDEAL SLIDING WINDOW:  163\n",
      "processing;  /media/cat/4TBSSD/yuki/IA3/tif_files/IA3pm_Feb29_30Hz/IA3pm_Feb29_30Hz_code_04_trial_ROItimeCourses_30sec_pca_0.95.npy  with lockout:  False\n"
     ]
    },
    {
     "name": "stderr",
     "output_type": "stream",
     "text": [
      "\n",
      "100%|██████████| 10/10 [00:24<00:00,  2.48s/it]"
     ]
    },
    {
     "name": "stdout",
     "output_type": "stream",
     "text": [
      "IDEAL SLIDING WINDOW:  163\n",
      "processing;  /media/cat/4TBSSD/yuki/IA3/tif_files/IA3pm_Mar1_30Hz/IA3pm_Mar1_30Hz_code_04_trial_ROItimeCourses_30sec_pca_0.95.npy  with lockout:  False\n"
     ]
    },
    {
     "name": "stderr",
     "output_type": "stream",
     "text": [
      "\n",
      "100%|██████████| 10/10 [00:09<00:00,  1.03it/s]"
     ]
    },
    {
     "name": "stdout",
     "output_type": "stream",
     "text": [
      "IDEAL SLIDING WINDOW:  138\n",
      "processing;  /media/cat/4TBSSD/yuki/IA3/tif_files/IA3pm_Mar2_30Hz/IA3pm_Mar2_30Hz_code_04_trial_ROItimeCourses_30sec_pca_0.95.npy  with lockout:  False\n"
     ]
    },
    {
     "name": "stderr",
     "output_type": "stream",
     "text": [
      "\n",
      "100%|██████████| 10/10 [00:10<00:00,  1.06s/it]"
     ]
    },
    {
     "name": "stdout",
     "output_type": "stream",
     "text": [
      "IDEAL SLIDING WINDOW:  138\n",
      "processing;  /media/cat/4TBSSD/yuki/IA3/tif_files/IA3pm_Mar3_30Hz/IA3pm_Mar3_30Hz_code_04_trial_ROItimeCourses_30sec_pca_0.95.npy  with lockout:  False\n"
     ]
    },
    {
     "name": "stderr",
     "output_type": "stream",
     "text": [
      "\n",
      "100%|██████████| 10/10 [00:24<00:00,  2.42s/it]"
     ]
    },
    {
     "name": "stdout",
     "output_type": "stream",
     "text": [
      "IDEAL SLIDING WINDOW:  138\n",
      "processing;  /media/cat/4TBSSD/yuki/IA3/tif_files/IA3am_Mar7_30Hz/IA3am_Mar7_30Hz_code_04_trial_ROItimeCourses_30sec_pca_0.95.npy  with lockout:  False\n"
     ]
    },
    {
     "name": "stderr",
     "output_type": "stream",
     "text": [
      "\n",
      "100%|██████████| 10/10 [00:13<00:00,  1.38s/it]"
     ]
    },
    {
     "name": "stdout",
     "output_type": "stream",
     "text": [
      "IDEAL SLIDING WINDOW:  163\n",
      "processing;  /media/cat/4TBSSD/yuki/IA3/tif_files/IA3pm_Mar8_30Hz/IA3pm_Mar8_30Hz_code_04_trial_ROItimeCourses_30sec_pca_0.95.npy  with lockout:  False\n"
     ]
    },
    {
     "name": "stderr",
     "output_type": "stream",
     "text": [
      "\n",
      "100%|██████████| 10/10 [00:23<00:00,  2.32s/it]"
     ]
    },
    {
     "name": "stdout",
     "output_type": "stream",
     "text": [
      "IDEAL SLIDING WINDOW:  150\n",
      "processing;  /media/cat/4TBSSD/yuki/IA3/tif_files/IA3am_Mar9_30Hz/IA3am_Mar9_30Hz_code_04_trial_ROItimeCourses_30sec_pca_0.95.npy  with lockout:  False\n"
     ]
    },
    {
     "name": "stderr",
     "output_type": "stream",
     "text": [
      "\n",
      "100%|██████████| 10/10 [00:22<00:00,  2.24s/it]"
     ]
    },
    {
     "name": "stdout",
     "output_type": "stream",
     "text": [
      "IDEAL SLIDING WINDOW:  180\n",
      "processing;  /media/cat/4TBSSD/yuki/IA3/tif_files/IA3am_Mar10_30Hz/IA3am_Mar10_30Hz_code_04_trial_ROItimeCourses_30sec_pca_0.95.npy  with lockout:  False\n"
     ]
    },
    {
     "name": "stderr",
     "output_type": "stream",
     "text": [
      "\n",
      "100%|██████████| 10/10 [00:44<00:00,  4.46s/it]"
     ]
    },
    {
     "name": "stdout",
     "output_type": "stream",
     "text": [
      "IDEAL SLIDING WINDOW:  163\n",
      "processing;  /media/cat/4TBSSD/yuki/IA3/tif_files/IA3am_Mar11_30Hz/IA3am_Mar11_30Hz_code_04_trial_ROItimeCourses_30sec_pca_0.95.npy  with lockout:  False\n"
     ]
    },
    {
     "name": "stderr",
     "output_type": "stream",
     "text": [
      "\n",
      "100%|██████████| 10/10 [00:24<00:00,  2.48s/it]"
     ]
    },
    {
     "name": "stdout",
     "output_type": "stream",
     "text": [
      "IDEAL SLIDING WINDOW:  200\n",
      "processing;  /media/cat/4TBSSD/yuki/IA3/tif_files/IA3pm_Mar14_30Hz/IA3pm_Mar14_30Hz_code_04_trial_ROItimeCourses_30sec_pca_0.95.npy  with lockout:  False\n"
     ]
    },
    {
     "name": "stderr",
     "output_type": "stream",
     "text": [
      "\n",
      "100%|██████████| 10/10 [00:11<00:00,  1.17s/it]"
     ]
    },
    {
     "name": "stdout",
     "output_type": "stream",
     "text": [
      "IDEAL SLIDING WINDOW:  224\n",
      "processing;  /media/cat/4TBSSD/yuki/IA3/tif_files/IA3am_Mar15_30Hz/IA3am_Mar15_30Hz_code_04_trial_ROItimeCourses_30sec_pca_0.95.npy  with lockout:  False\n"
     ]
    },
    {
     "name": "stderr",
     "output_type": "stream",
     "text": [
      "\n",
      "100%|██████████| 10/10 [00:25<00:00,  2.51s/it]"
     ]
    },
    {
     "name": "stdout",
     "output_type": "stream",
     "text": [
      "IDEAL SLIDING WINDOW:  112\n",
      "processing;  /media/cat/4TBSSD/yuki/IA3/tif_files/IA3pm_Mar16_30Hz/IA3pm_Mar16_30Hz_code_04_trial_ROItimeCourses_30sec_pca_0.95.npy  with lockout:  False\n"
     ]
    },
    {
     "name": "stderr",
     "output_type": "stream",
     "text": [
      "\n",
      "100%|██████████| 10/10 [00:19<00:00,  1.92s/it]"
     ]
    },
    {
     "name": "stdout",
     "output_type": "stream",
     "text": [
      "IDEAL SLIDING WINDOW:  200\n",
      "processing;  /media/cat/4TBSSD/yuki/IA3/tif_files/IA3pm_Mar17_30Hz/IA3pm_Mar17_30Hz_code_04_trial_ROItimeCourses_30sec_pca_0.95.npy  with lockout:  False\n"
     ]
    },
    {
     "name": "stderr",
     "output_type": "stream",
     "text": [
      "\n",
      "100%|██████████| 10/10 [01:08<00:00,  6.83s/it]"
     ]
    },
    {
     "name": "stdout",
     "output_type": "stream",
     "text": [
      "IDEAL SLIDING WINDOW:  224\n",
      "processing;  /media/cat/4TBSSD/yuki/IA3/tif_files/IA3pm_Mar18_30Hz/IA3pm_Mar18_30Hz_code_04_trial_ROItimeCourses_30sec_pca_0.95.npy  with lockout:  False\n"
     ]
    },
    {
     "name": "stderr",
     "output_type": "stream",
     "text": [
      "\n",
      "100%|██████████| 10/10 [03:17<00:00, 19.76s/it]"
     ]
    },
    {
     "name": "stdout",
     "output_type": "stream",
     "text": [
      "IDEAL SLIDING WINDOW:  224\n",
      "processing;  /media/cat/4TBSSD/yuki/IA3/tif_files/IA3pm_Mar21_30Hz/IA3pm_Mar21_30Hz_code_04_trial_ROItimeCourses_30sec_pca_0.95.npy  with lockout:  False\n"
     ]
    },
    {
     "name": "stderr",
     "output_type": "stream",
     "text": [
      "\n",
      "100%|██████████| 10/10 [04:09<00:00, 24.97s/it]"
     ]
    },
    {
     "name": "stdout",
     "output_type": "stream",
     "text": [
      "IDEAL SLIDING WINDOW:  200\n",
      "processing;  /media/cat/4TBSSD/yuki/IA3/tif_files/IA3pm_Mar22_30Hz/IA3pm_Mar22_30Hz_code_04_trial_ROItimeCourses_30sec_pca_0.95.npy  with lockout:  False\n"
     ]
    },
    {
     "name": "stderr",
     "output_type": "stream",
     "text": [
      "\n",
      "100%|██████████| 10/10 [03:15<00:00, 19.57s/it]"
     ]
    },
    {
     "name": "stdout",
     "output_type": "stream",
     "text": [
      "IDEAL SLIDING WINDOW:  224\n",
      "processing;  /media/cat/4TBSSD/yuki/IA3/tif_files/IA3pm_Mar23_30Hz/IA3pm_Mar23_30Hz_code_04_trial_ROItimeCourses_30sec_pca_0.95.npy  with lockout:  False\n"
     ]
    },
    {
     "name": "stderr",
     "output_type": "stream",
     "text": [
      "\n",
      "100%|██████████| 10/10 [03:33<00:00, 21.40s/it]"
     ]
    },
    {
     "name": "stdout",
     "output_type": "stream",
     "text": [
      "IDEAL SLIDING WINDOW:  180\n",
      "processing;  /media/cat/4TBSSD/yuki/IA3/tif_files/IA3pm_Mar24_30Hz/IA3pm_Mar24_30Hz_code_04_trial_ROItimeCourses_30sec_pca_0.95.npy  with lockout:  False\n"
     ]
    },
    {
     "name": "stderr",
     "output_type": "stream",
     "text": [
      "\n",
      "100%|██████████| 10/10 [04:01<00:00, 24.11s/it]"
     ]
    },
    {
     "name": "stdout",
     "output_type": "stream",
     "text": [
      "IDEAL SLIDING WINDOW:  200\n",
      "processing;  /media/cat/4TBSSD/yuki/IA3/tif_files/IA3pm_Mar29_30Hz/IA3pm_Mar29_30Hz_code_04_trial_ROItimeCourses_30sec_pca_0.95.npy  with lockout:  False\n"
     ]
    },
    {
     "name": "stderr",
     "output_type": "stream",
     "text": [
      "\n",
      "100%|██████████| 10/10 [04:17<00:00, 25.78s/it]"
     ]
    },
    {
     "name": "stdout",
     "output_type": "stream",
     "text": [
      "IDEAL SLIDING WINDOW:  138\n",
      "processing;  /media/cat/4TBSSD/yuki/IA3/tif_files/IA3pm_Mar30_30Hz/IA3pm_Mar30_30Hz_code_04_trial_ROItimeCourses_30sec_pca_0.95.npy  with lockout:  False\n"
     ]
    },
    {
     "name": "stderr",
     "output_type": "stream",
     "text": [
      "\n",
      "100%|██████████| 10/10 [00:15<00:00,  1.56s/it]"
     ]
    },
    {
     "name": "stdout",
     "output_type": "stream",
     "text": [
      "IDEAL SLIDING WINDOW:  200\n",
      "processing;  /media/cat/4TBSSD/yuki/IA3/tif_files/IA3pm_Mar31_30Hz/IA3pm_Mar31_30Hz_code_04_trial_ROItimeCourses_30sec_pca_0.95.npy  with lockout:  False\n"
     ]
    },
    {
     "name": "stderr",
     "output_type": "stream",
     "text": [
      "\n",
      "100%|██████████| 10/10 [03:05<00:00, 18.57s/it]"
     ]
    },
    {
     "name": "stdout",
     "output_type": "stream",
     "text": [
      "IDEAL SLIDING WINDOW:  224\n",
      "processing;  /media/cat/4TBSSD/yuki/IA3/tif_files/IA3pm_Apr1_30Hz/IA3pm_Apr1_30Hz_code_04_trial_ROItimeCourses_30sec_pca_0.95.npy  with lockout:  False\n"
     ]
    },
    {
     "name": "stderr",
     "output_type": "stream",
     "text": [
      "\n",
      "100%|██████████| 10/10 [01:54<00:00, 11.45s/it]"
     ]
    },
    {
     "name": "stdout",
     "output_type": "stream",
     "text": [
      "IDEAL SLIDING WINDOW:  128\n",
      "processing;  /media/cat/4TBSSD/yuki/IA3/tif_files/IA3pm_Apr4_30Hz/IA3pm_Apr4_30Hz_code_04_trial_ROItimeCourses_30sec_pca_0.95.npy  with lockout:  False\n"
     ]
    },
    {
     "name": "stderr",
     "output_type": "stream",
     "text": [
      "\n",
      "100%|██████████| 10/10 [00:21<00:00,  2.15s/it]"
     ]
    },
    {
     "name": "stdout",
     "output_type": "stream",
     "text": [
      "IDEAL SLIDING WINDOW:  180\n",
      "processing;  /media/cat/4TBSSD/yuki/IA3/tif_files/IA3pm_Apr5_30Hz/IA3pm_Apr5_30Hz_code_04_trial_ROItimeCourses_30sec_pca_0.95.npy  with lockout:  False\n"
     ]
    },
    {
     "name": "stderr",
     "output_type": "stream",
     "text": [
      "\n",
      "100%|██████████| 10/10 [02:43<00:00, 16.32s/it]"
     ]
    },
    {
     "name": "stdout",
     "output_type": "stream",
     "text": [
      "IDEAL SLIDING WINDOW:  150\n",
      "processing;  /media/cat/4TBSSD/yuki/IA3/tif_files/IA3pm_Apr6_30Hz/IA3pm_Apr6_30Hz_code_04_trial_ROItimeCourses_30sec_pca_0.95.npy  with lockout:  False\n"
     ]
    },
    {
     "name": "stderr",
     "output_type": "stream",
     "text": [
      "\n",
      "100%|██████████| 10/10 [00:22<00:00,  2.30s/it]"
     ]
    },
    {
     "name": "stdout",
     "output_type": "stream",
     "text": [
      "IDEAL SLIDING WINDOW:  150\n",
      "processing;  /media/cat/4TBSSD/yuki/IA3/tif_files/IA3pm_Apr7_30Hz/IA3pm_Apr7_30Hz_code_04_trial_ROItimeCourses_30sec_pca_0.95.npy  with lockout:  False\n"
     ]
    },
    {
     "name": "stderr",
     "output_type": "stream",
     "text": [
      "\n",
      "100%|██████████| 10/10 [01:49<00:00, 10.91s/it]"
     ]
    },
    {
     "name": "stdout",
     "output_type": "stream",
     "text": [
      "DONE predicting SVM on animal:  IA3\n",
      "IDEAL SLIDING WINDOW:  128\n",
      "   already computed, skipping ... /media/cat/4TBSSD/yuki/IJ1/SVM_Scores/SVM_Scores_IJ1pm_Feb1_30Hzcode_04_trial_ROItimeCourses_30sec_Xvalid10_Slidewindow128.npz\n",
      "\n",
      "\n",
      "IDEAL SLIDING WINDOW:  180\n",
      "   already computed, skipping ... /media/cat/4TBSSD/yuki/IJ1/SVM_Scores/SVM_Scores_IJ1pm_Feb2_30Hzcode_04_trial_ROItimeCourses_30sec_Xvalid10_Slidewindow180.npz\n",
      "\n",
      "\n",
      "IDEAL SLIDING WINDOW:  120\n",
      "   already computed, skipping ... /media/cat/4TBSSD/yuki/IJ1/SVM_Scores/SVM_Scores_IJ1pm_Feb3_30Hzcode_04_trial_ROItimeCourses_30sec_Xvalid10_Slidewindow120.npz\n",
      "\n",
      "\n",
      "IDEAL SLIDING WINDOW:  120\n",
      "   already computed, skipping ... /media/cat/4TBSSD/yuki/IJ1/SVM_Scores/SVM_Scores_IJ1pm_Feb4_30Hzcode_04_trial_ROItimeCourses_30sec_Xvalid10_Slidewindow120.npz\n",
      "\n",
      "\n",
      "IDEAL SLIDING WINDOW:  150\n",
      "   already computed, skipping ... /media/cat/4TBSSD/yuki/IJ1/SVM_Scores/SVM_Scores_IJ1pm_Feb5_30Hzcode_04_trial_ROItimeCourses_30sec_Xvalid10_Slidewindow150.npz\n",
      "\n",
      "\n",
      "IDEAL SLIDING WINDOW:  163\n",
      "   already computed, skipping ... /media/cat/4TBSSD/yuki/IJ1/SVM_Scores/SVM_Scores_IJ1pm_Feb9_30Hzcode_04_trial_ROItimeCourses_30sec_Xvalid10_Slidewindow163.npz\n",
      "\n",
      "\n",
      "IDEAL SLIDING WINDOW:  180\n",
      "   already computed, skipping ... /media/cat/4TBSSD/yuki/IJ1/SVM_Scores/SVM_Scores_IJ1pm_Feb10_30Hzcode_04_trial_ROItimeCourses_30sec_Xvalid10_Slidewindow180.npz\n",
      "\n",
      "\n",
      "IDEAL SLIDING WINDOW:  200\n",
      "   already computed, skipping ... /media/cat/4TBSSD/yuki/IJ1/SVM_Scores/SVM_Scores_IJ1pm_Feb11_30Hzcode_04_trial_ROItimeCourses_30sec_Xvalid10_Slidewindow200.npz\n",
      "\n",
      "\n",
      "IDEAL SLIDING WINDOW:  163\n",
      "   already computed, skipping ... /media/cat/4TBSSD/yuki/IJ1/SVM_Scores/SVM_Scores_IJ1pm_Feb12_30Hzcode_04_trial_ROItimeCourses_30sec_Xvalid10_Slidewindow163.npz\n",
      "\n",
      "\n",
      "IDEAL SLIDING WINDOW:  138\n",
      "   already computed, skipping ... /media/cat/4TBSSD/yuki/IJ1/SVM_Scores/SVM_Scores_IJ1pm_Feb16_30Hzcode_04_trial_ROItimeCourses_30sec_Xvalid10_Slidewindow138.npz\n",
      "\n",
      "\n",
      "IDEAL SLIDING WINDOW:  180\n",
      "   already computed, skipping ... /media/cat/4TBSSD/yuki/IJ1/SVM_Scores/SVM_Scores_IJ1pm_Feb17_30Hzcode_04_trial_ROItimeCourses_30sec_Xvalid10_Slidewindow180.npz\n",
      "\n",
      "\n",
      "IDEAL SLIDING WINDOW:  94\n",
      "   already computed, skipping ... /media/cat/4TBSSD/yuki/IJ1/SVM_Scores/SVM_Scores_IJ1pm_Feb18_30Hzcode_04_trial_ROItimeCourses_30sec_Xvalid10_Slidewindow94.npz\n",
      "\n",
      "\n",
      "IDEAL SLIDING WINDOW:  224\n",
      "   already computed, skipping ... /media/cat/4TBSSD/yuki/IJ1/SVM_Scores/SVM_Scores_IJ1pm_Feb19_30Hzcode_04_trial_ROItimeCourses_30sec_Xvalid10_Slidewindow224.npz\n",
      "\n",
      "\n",
      "IDEAL SLIDING WINDOW:  150\n",
      "   already computed, skipping ... /media/cat/4TBSSD/yuki/IJ1/SVM_Scores/SVM_Scores_IJ1pm_Feb22_30Hzcode_04_trial_ROItimeCourses_30sec_Xvalid10_Slidewindow150.npz\n",
      "\n",
      "\n",
      "IDEAL SLIDING WINDOW:  200\n",
      "   already computed, skipping ... /media/cat/4TBSSD/yuki/IJ1/SVM_Scores/SVM_Scores_IJ1pm_Feb23_30Hzcode_04_trial_ROItimeCourses_30sec_Xvalid10_Slidewindow200.npz\n",
      "\n",
      "\n",
      " No ideal sliding window computed, skipping\n",
      " No ideal sliding window computed, skipping\n",
      "IDEAL SLIDING WINDOW:  180\n",
      "   already computed, skipping ... /media/cat/4TBSSD/yuki/IJ1/SVM_Scores/SVM_Scores_IJ1pm_Feb26_30Hzcode_04_trial_ROItimeCourses_30sec_Xvalid10_Slidewindow180.npz\n",
      "\n",
      "\n",
      "IDEAL SLIDING WINDOW:  180\n",
      "   already computed, skipping ... /media/cat/4TBSSD/yuki/IJ1/SVM_Scores/SVM_Scores_IJ1pm_Feb29_30Hzcode_04_trial_ROItimeCourses_30sec_Xvalid10_Slidewindow180.npz\n",
      "\n",
      "\n",
      "IDEAL SLIDING WINDOW:  163\n",
      "   already computed, skipping ... /media/cat/4TBSSD/yuki/IJ1/SVM_Scores/SVM_Scores_IJ1pm_Mar1_30Hzcode_04_trial_ROItimeCourses_30sec_Xvalid10_Slidewindow163.npz\n",
      "\n",
      "\n",
      "IDEAL SLIDING WINDOW:  128\n",
      "   already computed, skipping ... /media/cat/4TBSSD/yuki/IJ1/SVM_Scores/SVM_Scores_IJ1pm_Mar2_30Hzcode_04_trial_ROItimeCourses_30sec_Xvalid10_Slidewindow128.npz\n",
      "\n",
      "\n",
      "IDEAL SLIDING WINDOW:  180\n",
      "   already computed, skipping ... /media/cat/4TBSSD/yuki/IJ1/SVM_Scores/SVM_Scores_IJ1pm_Mar3_30Hzcode_04_trial_ROItimeCourses_30sec_Xvalid10_Slidewindow180.npz\n",
      "\n",
      "\n",
      "IDEAL SLIDING WINDOW:  200\n",
      "   already computed, skipping ... /media/cat/4TBSSD/yuki/IJ1/SVM_Scores/SVM_Scores_IJ1am_Mar7_30Hzcode_04_trial_ROItimeCourses_30sec_Xvalid10_Slidewindow200.npz\n",
      "\n",
      "\n",
      "IDEAL SLIDING WINDOW:  150\n",
      "   already computed, skipping ... /media/cat/4TBSSD/yuki/IJ1/SVM_Scores/SVM_Scores_IJ1pm_Mar8_30Hzcode_04_trial_ROItimeCourses_30sec_Xvalid10_Slidewindow150.npz\n",
      "\n",
      "\n",
      " No ideal sliding window computed, skipping\n",
      "IDEAL SLIDING WINDOW:  163\n",
      "   already computed, skipping ... /media/cat/4TBSSD/yuki/IJ1/SVM_Scores/SVM_Scores_IJ1am_Mar10_30Hzcode_04_trial_ROItimeCourses_30sec_Xvalid10_Slidewindow163.npz\n",
      "\n",
      "\n",
      "IDEAL SLIDING WINDOW:  128\n",
      "   already computed, skipping ... /media/cat/4TBSSD/yuki/IJ1/SVM_Scores/SVM_Scores_IJ1am_Mar11_30Hzcode_04_trial_ROItimeCourses_30sec_Xvalid10_Slidewindow128.npz\n",
      "\n",
      "\n",
      "IDEAL SLIDING WINDOW:  150\n",
      "   already computed, skipping ... /media/cat/4TBSSD/yuki/IJ1/SVM_Scores/SVM_Scores_IJ1pm_Mar14_30Hzcode_04_trial_ROItimeCourses_30sec_Xvalid10_Slidewindow150.npz\n",
      "\n",
      "\n",
      "IDEAL SLIDING WINDOW:  180\n",
      "   already computed, skipping ... /media/cat/4TBSSD/yuki/IJ1/SVM_Scores/SVM_Scores_IJ1am_Mar15_30Hzcode_04_trial_ROItimeCourses_30sec_Xvalid10_Slidewindow180.npz\n",
      "\n",
      "\n",
      "IDEAL SLIDING WINDOW:  138\n",
      "   already computed, skipping ... /media/cat/4TBSSD/yuki/IJ1/SVM_Scores/SVM_Scores_IJ1pm_Mar16_30Hzcode_04_trial_ROItimeCourses_30sec_Xvalid10_Slidewindow138.npz\n",
      "\n",
      "\n",
      "IDEAL SLIDING WINDOW:  120\n",
      "   already computed, skipping ... /media/cat/4TBSSD/yuki/IJ1/SVM_Scores/SVM_Scores_IJ1pm_Mar17_30Hzcode_04_trial_ROItimeCourses_30sec_Xvalid10_Slidewindow120.npz\n",
      "\n",
      "\n",
      "IDEAL SLIDING WINDOW:  180\n",
      "   already computed, skipping ... /media/cat/4TBSSD/yuki/IJ1/SVM_Scores/SVM_Scores_IJ1pm_Mar18_30Hzcode_04_trial_ROItimeCourses_30sec_Xvalid10_Slidewindow180.npz\n",
      "\n",
      "\n",
      "IDEAL SLIDING WINDOW:  150\n",
      "   already computed, skipping ... /media/cat/4TBSSD/yuki/IJ1/SVM_Scores/SVM_Scores_IJ1pm_Mar21_30Hzcode_04_trial_ROItimeCourses_30sec_Xvalid10_Slidewindow150.npz\n",
      "\n",
      "\n",
      "IDEAL SLIDING WINDOW:  180\n",
      "   already computed, skipping ... /media/cat/4TBSSD/yuki/IJ1/SVM_Scores/SVM_Scores_IJ1pm_Mar22_30Hzcode_04_trial_ROItimeCourses_30sec_Xvalid10_Slidewindow180.npz\n",
      "\n",
      "\n",
      "IDEAL SLIDING WINDOW:  120\n",
      "   already computed, skipping ... /media/cat/4TBSSD/yuki/IJ1/SVM_Scores/SVM_Scores_IJ1pm_Mar23_30Hzcode_04_trial_ROItimeCourses_30sec_Xvalid10_Slidewindow120.npz\n",
      "\n",
      "\n",
      "IDEAL SLIDING WINDOW:  180\n",
      "   already computed, skipping ... /media/cat/4TBSSD/yuki/IJ1/SVM_Scores/SVM_Scores_IJ1pm_Mar24_30Hzcode_04_trial_ROItimeCourses_30sec_Xvalid10_Slidewindow180.npz\n",
      "\n",
      "\n",
      "IDEAL SLIDING WINDOW:  112\n",
      "   already computed, skipping ... /media/cat/4TBSSD/yuki/IJ1/SVM_Scores/SVM_Scores_IJ1pm_Mar29_30Hzcode_04_trial_ROItimeCourses_30sec_Xvalid10_Slidewindow112.npz\n",
      "\n",
      "\n",
      "IDEAL SLIDING WINDOW:  138\n",
      "   already computed, skipping ... /media/cat/4TBSSD/yuki/IJ1/SVM_Scores/SVM_Scores_IJ1pm_Mar30_30Hzcode_04_trial_ROItimeCourses_30sec_Xvalid10_Slidewindow138.npz\n",
      "\n",
      "\n",
      "IDEAL SLIDING WINDOW:  100\n",
      "   already computed, skipping ... /media/cat/4TBSSD/yuki/IJ1/SVM_Scores/SVM_Scores_IJ1pm_Mar31_30Hzcode_04_trial_ROItimeCourses_30sec_Xvalid10_Slidewindow100.npz\n",
      "\n",
      "\n",
      "IDEAL SLIDING WINDOW:  138\n",
      "   already computed, skipping ... /media/cat/4TBSSD/yuki/IJ1/SVM_Scores/SVM_Scores_IJ1pm_Apr1_30Hzcode_04_trial_ROItimeCourses_30sec_Xvalid10_Slidewindow138.npz\n",
      "\n",
      "\n",
      "IDEAL SLIDING WINDOW:  120\n",
      "   already computed, skipping ... /media/cat/4TBSSD/yuki/IJ1/SVM_Scores/SVM_Scores_IJ1pm_Apr4_30Hzcode_04_trial_ROItimeCourses_30sec_Xvalid10_Slidewindow120.npz\n",
      "\n",
      "\n",
      "IDEAL SLIDING WINDOW:  128\n",
      "   already computed, skipping ... /media/cat/4TBSSD/yuki/IJ1/SVM_Scores/SVM_Scores_IJ1pm_Apr5_30Hzcode_04_trial_ROItimeCourses_30sec_Xvalid10_Slidewindow128.npz\n",
      "\n",
      "\n",
      "IDEAL SLIDING WINDOW:  120\n",
      "   already computed, skipping ... /media/cat/4TBSSD/yuki/IJ1/SVM_Scores/SVM_Scores_IJ1pm_Apr6_30Hzcode_04_trial_ROItimeCourses_30sec_Xvalid10_Slidewindow120.npz\n",
      "\n",
      "\n",
      " No ideal sliding window computed, skipping\n",
      "DONE predicting SVM on animal:  IJ1\n",
      "IDEAL SLIDING WINDOW:  200\n",
      "processing;  /media/cat/4TBSSD/yuki/IJ2/tif_files/IJ2pm_Feb1_30Hz/IJ2pm_Feb1_30Hz_code_04_trial_ROItimeCourses_30sec_pca_0.95.npy  with lockout:  False\n"
     ]
    },
    {
     "name": "stderr",
     "output_type": "stream",
     "text": [
      "\n",
      "100%|██████████| 10/10 [00:05<00:00,  1.88it/s]"
     ]
    },
    {
     "name": "stdout",
     "output_type": "stream",
     "text": [
      "IDEAL SLIDING WINDOW:  200\n",
      "processing;  /media/cat/4TBSSD/yuki/IJ2/tif_files/IJ2pm_Feb2_30Hz/IJ2pm_Feb2_30Hz_code_04_trial_ROItimeCourses_30sec_pca_0.95.npy  with lockout:  False\n"
     ]
    },
    {
     "name": "stderr",
     "output_type": "stream",
     "text": [
      "\n",
      "100%|██████████| 10/10 [00:07<00:00,  1.32it/s]"
     ]
    },
    {
     "name": "stdout",
     "output_type": "stream",
     "text": [
      "IDEAL SLIDING WINDOW:  150\n",
      "processing;  /media/cat/4TBSSD/yuki/IJ2/tif_files/IJ2pm_Feb3_30Hz/IJ2pm_Feb3_30Hz_code_04_trial_ROItimeCourses_30sec_pca_0.95.npy  with lockout:  False\n"
     ]
    },
    {
     "name": "stderr",
     "output_type": "stream",
     "text": [
      "\n",
      "100%|██████████| 10/10 [00:25<00:00,  2.58s/it]"
     ]
    },
    {
     "name": "stdout",
     "output_type": "stream",
     "text": [
      "IDEAL SLIDING WINDOW:  257\n",
      "processing;  /media/cat/4TBSSD/yuki/IJ2/tif_files/IJ2pm_Feb4_30Hz/IJ2pm_Feb4_30Hz_code_04_trial_ROItimeCourses_30sec_pca_0.95.npy  with lockout:  False\n"
     ]
    },
    {
     "name": "stderr",
     "output_type": "stream",
     "text": [
      "\n",
      "100%|██████████| 10/10 [01:11<00:00,  7.12s/it]"
     ]
    },
    {
     "name": "stdout",
     "output_type": "stream",
     "text": [
      "IDEAL SLIDING WINDOW:  180\n",
      "processing;  /media/cat/4TBSSD/yuki/IJ2/tif_files/IJ2pm_Feb5_30Hz/IJ2pm_Feb5_30Hz_code_04_trial_ROItimeCourses_30sec_pca_0.95.npy  with lockout:  False\n"
     ]
    },
    {
     "name": "stderr",
     "output_type": "stream",
     "text": [
      "\n",
      "100%|██████████| 10/10 [00:39<00:00,  3.94s/it]"
     ]
    },
    {
     "name": "stdout",
     "output_type": "stream",
     "text": [
      " No ideal sliding window computed, skipping\n",
      "IDEAL SLIDING WINDOW:  128\n",
      "processing;  /media/cat/4TBSSD/yuki/IJ2/tif_files/IJ2pm_Feb10_30Hz/IJ2pm_Feb10_30Hz_code_04_trial_ROItimeCourses_30sec_pca_0.95.npy  with lockout:  False\n"
     ]
    },
    {
     "name": "stderr",
     "output_type": "stream",
     "text": [
      "\n",
      "100%|██████████| 10/10 [00:13<00:00,  1.34s/it]"
     ]
    },
    {
     "name": "stdout",
     "output_type": "stream",
     "text": [
      "IDEAL SLIDING WINDOW:  180\n",
      "processing;  /media/cat/4TBSSD/yuki/IJ2/tif_files/IJ2pm_Feb11_30Hz/IJ2pm_Feb11_30Hz_code_04_trial_ROItimeCourses_30sec_pca_0.95.npy  with lockout:  False\n"
     ]
    },
    {
     "name": "stderr",
     "output_type": "stream",
     "text": [
      "\n",
      "100%|██████████| 10/10 [00:12<00:00,  1.22s/it]"
     ]
    },
    {
     "name": "stdout",
     "output_type": "stream",
     "text": [
      "IDEAL SLIDING WINDOW:  120\n",
      "processing;  /media/cat/4TBSSD/yuki/IJ2/tif_files/IJ2pm_Feb12_30Hz/IJ2pm_Feb12_30Hz_code_04_trial_ROItimeCourses_30sec_pca_0.95.npy  with lockout:  False\n"
     ]
    },
    {
     "name": "stderr",
     "output_type": "stream",
     "text": [
      "\n",
      "100%|██████████| 10/10 [00:05<00:00,  1.81it/s]"
     ]
    },
    {
     "name": "stdout",
     "output_type": "stream",
     "text": [
      " No ideal sliding window computed, skipping\n",
      "IDEAL SLIDING WINDOW:  112\n",
      "processing;  /media/cat/4TBSSD/yuki/IJ2/tif_files/IJ2pm_Feb16_30Hz/IJ2pm_Feb16_30Hz_code_04_trial_ROItimeCourses_30sec_pca_0.95.npy  with lockout:  False\n"
     ]
    },
    {
     "name": "stderr",
     "output_type": "stream",
     "text": [
      "\n",
      "100%|██████████| 10/10 [00:12<00:00,  1.23s/it]"
     ]
    },
    {
     "name": "stdout",
     "output_type": "stream",
     "text": [
      "IDEAL SLIDING WINDOW:  112\n",
      "processing;  /media/cat/4TBSSD/yuki/IJ2/tif_files/IJ2pm_Feb17_30Hz/IJ2pm_Feb17_30Hz_code_04_trial_ROItimeCourses_30sec_pca_0.95.npy  with lockout:  False\n"
     ]
    },
    {
     "name": "stderr",
     "output_type": "stream",
     "text": [
      "\n",
      "100%|██████████| 10/10 [00:03<00:00,  2.71it/s]"
     ]
    },
    {
     "name": "stdout",
     "output_type": "stream",
     "text": [
      "IDEAL SLIDING WINDOW:  128\n",
      "processing;  /media/cat/4TBSSD/yuki/IJ2/tif_files/IJ2pm_Feb18_30Hz/IJ2pm_Feb18_30Hz_code_04_trial_ROItimeCourses_30sec_pca_0.95.npy  with lockout:  False\n"
     ]
    },
    {
     "name": "stderr",
     "output_type": "stream",
     "text": [
      "\n",
      "100%|██████████| 10/10 [00:07<00:00,  1.41it/s]"
     ]
    },
    {
     "name": "stdout",
     "output_type": "stream",
     "text": [
      "IDEAL SLIDING WINDOW:  163\n",
      "processing;  /media/cat/4TBSSD/yuki/IJ2/tif_files/IJ2pm_Feb22_30Hz/IJ2pm_Feb22_30Hz_code_04_trial_ROItimeCourses_30sec_pca_0.95.npy  with lockout:  False\n"
     ]
    },
    {
     "name": "stderr",
     "output_type": "stream",
     "text": [
      "\n",
      "100%|██████████| 10/10 [00:14<00:00,  1.45s/it]"
     ]
    },
    {
     "name": "stdout",
     "output_type": "stream",
     "text": [
      " No ideal sliding window computed, skipping\n",
      " No ideal sliding window computed, skipping\n",
      " No ideal sliding window computed, skipping\n",
      "IDEAL SLIDING WINDOW:  112\n",
      "processing;  /media/cat/4TBSSD/yuki/IJ2/tif_files/IJ2pm_Feb26_30Hz/IJ2pm_Feb26_30Hz_code_04_trial_ROItimeCourses_30sec_pca_0.95.npy  with lockout:  False\n"
     ]
    },
    {
     "name": "stderr",
     "output_type": "stream",
     "text": [
      "\n",
      "100%|██████████| 10/10 [00:17<00:00,  1.72s/it]"
     ]
    },
    {
     "name": "stdout",
     "output_type": "stream",
     "text": [
      "IDEAL SLIDING WINDOW:  120\n",
      "processing;  /media/cat/4TBSSD/yuki/IJ2/tif_files/IJ2pm_Feb29_30Hz/IJ2pm_Feb29_30Hz_code_04_trial_ROItimeCourses_30sec_pca_0.95.npy  with lockout:  False\n"
     ]
    },
    {
     "name": "stderr",
     "output_type": "stream",
     "text": [
      "\n",
      "100%|██████████| 10/10 [00:44<00:00,  4.44s/it]"
     ]
    },
    {
     "name": "stdout",
     "output_type": "stream",
     "text": [
      "IDEAL SLIDING WINDOW:  138\n",
      "processing;  /media/cat/4TBSSD/yuki/IJ2/tif_files/IJ2pm_Mar1_30Hz/IJ2pm_Mar1_30Hz_code_04_trial_ROItimeCourses_30sec_pca_0.95.npy  with lockout:  False\n"
     ]
    },
    {
     "name": "stderr",
     "output_type": "stream",
     "text": [
      "\n",
      "100%|██████████| 10/10 [00:18<00:00,  1.84s/it]"
     ]
    },
    {
     "name": "stdout",
     "output_type": "stream",
     "text": [
      "IDEAL SLIDING WINDOW:  128\n",
      "processing;  /media/cat/4TBSSD/yuki/IJ2/tif_files/IJ2pm_Mar2_30Hz/IJ2pm_Mar2_30Hz_code_04_trial_ROItimeCourses_30sec_pca_0.95.npy  with lockout:  False\n"
     ]
    },
    {
     "name": "stderr",
     "output_type": "stream",
     "text": [
      "\n",
      "100%|██████████| 10/10 [00:52<00:00,  5.27s/it]"
     ]
    },
    {
     "name": "stdout",
     "output_type": "stream",
     "text": [
      "IDEAL SLIDING WINDOW:  128\n",
      "processing;  /media/cat/4TBSSD/yuki/IJ2/tif_files/IJ2pm_Mar3_30Hz/IJ2pm_Mar3_30Hz_code_04_trial_ROItimeCourses_30sec_pca_0.95.npy  with lockout:  False\n"
     ]
    },
    {
     "name": "stderr",
     "output_type": "stream",
     "text": [
      "\n",
      "100%|██████████| 10/10 [00:12<00:00,  1.24s/it]"
     ]
    },
    {
     "name": "stdout",
     "output_type": "stream",
     "text": [
      "IDEAL SLIDING WINDOW:  120\n",
      "processing;  /media/cat/4TBSSD/yuki/IJ2/tif_files/IJ2am_Mar7_30Hz/IJ2am_Mar7_30Hz_code_04_trial_ROItimeCourses_30sec_pca_0.95.npy  with lockout:  False\n"
     ]
    },
    {
     "name": "stderr",
     "output_type": "stream",
     "text": [
      "\n",
      "100%|██████████| 10/10 [00:08<00:00,  1.23it/s]"
     ]
    },
    {
     "name": "stdout",
     "output_type": "stream",
     "text": [
      "IDEAL SLIDING WINDOW:  138\n",
      "processing;  /media/cat/4TBSSD/yuki/IJ2/tif_files/IJ2pm_Mar8_30Hz/IJ2pm_Mar8_30Hz_code_04_trial_ROItimeCourses_30sec_pca_0.95.npy  with lockout:  False\n"
     ]
    },
    {
     "name": "stderr",
     "output_type": "stream",
     "text": [
      "\n",
      "100%|██████████| 10/10 [00:05<00:00,  1.67it/s]"
     ]
    },
    {
     "name": "stdout",
     "output_type": "stream",
     "text": [
      "IDEAL SLIDING WINDOW:  128\n",
      "processing;  /media/cat/4TBSSD/yuki/IJ2/tif_files/IJ2am_Mar9_30Hz/IJ2am_Mar9_30Hz_code_04_trial_ROItimeCourses_30sec_pca_0.95.npy  with lockout:  False\n"
     ]
    },
    {
     "name": "stderr",
     "output_type": "stream",
     "text": [
      "\n",
      "100%|██████████| 10/10 [00:11<00:00,  1.13s/it]"
     ]
    },
    {
     "name": "stdout",
     "output_type": "stream",
     "text": [
      "IDEAL SLIDING WINDOW:  112\n",
      "processing;  /media/cat/4TBSSD/yuki/IJ2/tif_files/IJ2am_Mar10_30Hz/IJ2am_Mar10_30Hz_code_04_trial_ROItimeCourses_30sec_pca_0.95.npy  with lockout:  False\n"
     ]
    },
    {
     "name": "stderr",
     "output_type": "stream",
     "text": [
      "\n",
      "100%|██████████| 10/10 [00:13<00:00,  1.39s/it]"
     ]
    },
    {
     "name": "stdout",
     "output_type": "stream",
     "text": [
      "IDEAL SLIDING WINDOW:  120\n",
      "processing;  /media/cat/4TBSSD/yuki/IJ2/tif_files/IJ2am_Mar11_30Hz/IJ2am_Mar11_30Hz_code_04_trial_ROItimeCourses_30sec_pca_0.95.npy  with lockout:  False\n"
     ]
    },
    {
     "name": "stderr",
     "output_type": "stream",
     "text": [
      "\n",
      "100%|██████████| 10/10 [00:12<00:00,  1.20s/it]"
     ]
    },
    {
     "name": "stdout",
     "output_type": "stream",
     "text": [
      "IDEAL SLIDING WINDOW:  128\n",
      "processing;  /media/cat/4TBSSD/yuki/IJ2/tif_files/IJ2pm_Mar14_30Hz/IJ2pm_Mar14_30Hz_code_04_trial_ROItimeCourses_30sec_pca_0.95.npy  with lockout:  False\n"
     ]
    },
    {
     "name": "stderr",
     "output_type": "stream",
     "text": [
      "\n",
      "100%|██████████| 10/10 [00:08<00:00,  1.23it/s]"
     ]
    },
    {
     "name": "stdout",
     "output_type": "stream",
     "text": [
      "IDEAL SLIDING WINDOW:  138\n",
      "processing;  /media/cat/4TBSSD/yuki/IJ2/tif_files/IJ2am_Mar15_30Hz/IJ2am_Mar15_30Hz_code_04_trial_ROItimeCourses_30sec_pca_0.95.npy  with lockout:  False\n"
     ]
    },
    {
     "name": "stderr",
     "output_type": "stream",
     "text": [
      "\n",
      "100%|██████████| 10/10 [00:08<00:00,  1.13it/s]"
     ]
    },
    {
     "name": "stdout",
     "output_type": "stream",
     "text": [
      "IDEAL SLIDING WINDOW:  100\n",
      "processing;  /media/cat/4TBSSD/yuki/IJ2/tif_files/IJ2pm_Mar16_30Hz/IJ2pm_Mar16_30Hz_code_04_trial_ROItimeCourses_30sec_pca_0.95.npy  with lockout:  False\n"
     ]
    },
    {
     "name": "stderr",
     "output_type": "stream",
     "text": [
      "\n",
      "100%|██████████| 10/10 [00:12<00:00,  1.27s/it]"
     ]
    },
    {
     "name": "stdout",
     "output_type": "stream",
     "text": [
      "IDEAL SLIDING WINDOW:  128\n",
      "processing;  /media/cat/4TBSSD/yuki/IJ2/tif_files/IJ2pm_Mar17_30Hz/IJ2pm_Mar17_30Hz_code_04_trial_ROItimeCourses_30sec_pca_0.95.npy  with lockout:  False\n"
     ]
    },
    {
     "name": "stderr",
     "output_type": "stream",
     "text": [
      "\n",
      "100%|██████████| 10/10 [00:06<00:00,  1.57it/s]"
     ]
    },
    {
     "name": "stdout",
     "output_type": "stream",
     "text": [
      "IDEAL SLIDING WINDOW:  120\n",
      "processing;  /media/cat/4TBSSD/yuki/IJ2/tif_files/IJ2pm_Mar18_30Hz/IJ2pm_Mar18_30Hz_code_04_trial_ROItimeCourses_30sec_pca_0.95.npy  with lockout:  False\n"
     ]
    },
    {
     "name": "stderr",
     "output_type": "stream",
     "text": [
      "\n",
      "100%|██████████| 10/10 [00:15<00:00,  1.55s/it]"
     ]
    },
    {
     "name": "stdout",
     "output_type": "stream",
     "text": [
      "IDEAL SLIDING WINDOW:  150\n",
      "processing;  /media/cat/4TBSSD/yuki/IJ2/tif_files/IJ2pm_Mar21_30Hz/IJ2pm_Mar21_30Hz_code_04_trial_ROItimeCourses_30sec_pca_0.95.npy  with lockout:  False\n"
     ]
    },
    {
     "name": "stderr",
     "output_type": "stream",
     "text": [
      "\n",
      "100%|██████████| 10/10 [00:12<00:00,  1.27s/it]"
     ]
    },
    {
     "name": "stdout",
     "output_type": "stream",
     "text": [
      "IDEAL SLIDING WINDOW:  138\n",
      "processing;  /media/cat/4TBSSD/yuki/IJ2/tif_files/IJ2pm_Mar22_30Hz/IJ2pm_Mar22_30Hz_code_04_trial_ROItimeCourses_30sec_pca_0.95.npy  with lockout:  False\n"
     ]
    },
    {
     "name": "stderr",
     "output_type": "stream",
     "text": [
      "\n",
      "100%|██████████| 10/10 [00:26<00:00,  2.60s/it]"
     ]
    },
    {
     "name": "stdout",
     "output_type": "stream",
     "text": [
      "IDEAL SLIDING WINDOW:  112\n",
      "processing;  /media/cat/4TBSSD/yuki/IJ2/tif_files/IJ2pm_Mar23_30Hz/IJ2pm_Mar23_30Hz_code_04_trial_ROItimeCourses_30sec_pca_0.95.npy  with lockout:  False\n"
     ]
    },
    {
     "name": "stderr",
     "output_type": "stream",
     "text": [
      "\n",
      "100%|██████████| 10/10 [00:08<00:00,  1.23it/s]"
     ]
    },
    {
     "name": "stdout",
     "output_type": "stream",
     "text": [
      "IDEAL SLIDING WINDOW:  128\n",
      "processing;  /media/cat/4TBSSD/yuki/IJ2/tif_files/IJ2pm_Mar24_30Hz/IJ2pm_Mar24_30Hz_code_04_trial_ROItimeCourses_30sec_pca_0.95.npy  with lockout:  False\n"
     ]
    },
    {
     "name": "stderr",
     "output_type": "stream",
     "text": [
      "\n",
      "100%|██████████| 10/10 [00:12<00:00,  1.26s/it]"
     ]
    },
    {
     "name": "stdout",
     "output_type": "stream",
     "text": [
      "IDEAL SLIDING WINDOW:  105\n",
      "processing;  /media/cat/4TBSSD/yuki/IJ2/tif_files/IJ2pm_Mar29_30Hz/IJ2pm_Mar29_30Hz_code_04_trial_ROItimeCourses_30sec_pca_0.95.npy  with lockout:  False\n"
     ]
    },
    {
     "name": "stderr",
     "output_type": "stream",
     "text": [
      "\n",
      "100%|██████████| 10/10 [00:12<00:00,  1.21s/it]"
     ]
    },
    {
     "name": "stdout",
     "output_type": "stream",
     "text": [
      "IDEAL SLIDING WINDOW:  150\n",
      "processing;  /media/cat/4TBSSD/yuki/IJ2/tif_files/IJ2pm_Mar30_30Hz/IJ2pm_Mar30_30Hz_code_04_trial_ROItimeCourses_30sec_pca_0.95.npy  with lockout:  False\n"
     ]
    },
    {
     "name": "stderr",
     "output_type": "stream",
     "text": [
      "\n",
      "100%|██████████| 10/10 [00:18<00:00,  1.85s/it]"
     ]
    },
    {
     "name": "stdout",
     "output_type": "stream",
     "text": [
      "IDEAL SLIDING WINDOW:  120\n",
      "processing;  /media/cat/4TBSSD/yuki/IJ2/tif_files/IJ2pm_Mar31_30Hz/IJ2pm_Mar31_30Hz_code_04_trial_ROItimeCourses_30sec_pca_0.95.npy  with lockout:  False\n"
     ]
    },
    {
     "name": "stderr",
     "output_type": "stream",
     "text": [
      "\n",
      "100%|██████████| 10/10 [00:09<00:00,  1.07it/s]"
     ]
    },
    {
     "name": "stdout",
     "output_type": "stream",
     "text": [
      "IDEAL SLIDING WINDOW:  200\n",
      "processing;  /media/cat/4TBSSD/yuki/IJ2/tif_files/IJ2pm_Apr1_30Hz/IJ2pm_Apr1_30Hz_code_04_trial_ROItimeCourses_30sec_pca_0.95.npy  with lockout:  False\n"
     ]
    },
    {
     "name": "stderr",
     "output_type": "stream",
     "text": [
      "\n",
      "100%|██████████| 10/10 [00:51<00:00,  5.11s/it]"
     ]
    },
    {
     "name": "stdout",
     "output_type": "stream",
     "text": [
      "IDEAL SLIDING WINDOW:  138\n",
      "processing;  /media/cat/4TBSSD/yuki/IJ2/tif_files/IJ2pm_Apr4_30Hz/IJ2pm_Apr4_30Hz_code_04_trial_ROItimeCourses_30sec_pca_0.95.npy  with lockout:  False\n"
     ]
    },
    {
     "name": "stderr",
     "output_type": "stream",
     "text": [
      "\n",
      "100%|██████████| 10/10 [00:30<00:00,  3.07s/it]"
     ]
    },
    {
     "name": "stdout",
     "output_type": "stream",
     "text": [
      "IDEAL SLIDING WINDOW:  150\n",
      "processing;  /media/cat/4TBSSD/yuki/IJ2/tif_files/IJ2pm_Apr5_30Hz/IJ2pm_Apr5_30Hz_code_04_trial_ROItimeCourses_30sec_pca_0.95.npy  with lockout:  False\n"
     ]
    },
    {
     "name": "stderr",
     "output_type": "stream",
     "text": [
      "\n",
      "100%|██████████| 10/10 [00:24<00:00,  2.47s/it]"
     ]
    },
    {
     "name": "stdout",
     "output_type": "stream",
     "text": [
      "IDEAL SLIDING WINDOW:  120\n",
      "processing;  /media/cat/4TBSSD/yuki/IJ2/tif_files/IJ2pm_Apr6_30Hz/IJ2pm_Apr6_30Hz_code_04_trial_ROItimeCourses_30sec_pca_0.95.npy  with lockout:  False\n"
     ]
    },
    {
     "name": "stderr",
     "output_type": "stream",
     "text": [
      "\n",
      "100%|██████████| 10/10 [00:09<00:00,  1.02it/s]"
     ]
    },
    {
     "name": "stdout",
     "output_type": "stream",
     "text": [
      "IDEAL SLIDING WINDOW:  200\n",
      "processing;  /media/cat/4TBSSD/yuki/IJ2/tif_files/IJ2pm_Apr7_30Hz/IJ2pm_Apr7_30Hz_code_04_trial_ROItimeCourses_30sec_pca_0.95.npy  with lockout:  False\n"
     ]
    },
    {
     "name": "stderr",
     "output_type": "stream",
     "text": [
      "\n",
      "100%|██████████| 10/10 [00:33<00:00,  3.36s/it]"
     ]
    },
    {
     "name": "stdout",
     "output_type": "stream",
     "text": [
      "DONE predicting SVM on animal:  IJ2\n",
      " No ideal sliding window computed, skipping\n",
      " No ideal sliding window computed, skipping\n",
      " No ideal sliding window computed, skipping\n",
      " No ideal sliding window computed, skipping\n",
      "IDEAL SLIDING WINDOW:  224\n",
      "    Skipping too few trials less than  10\n",
      " No ideal sliding window computed, skipping\n",
      "IDEAL SLIDING WINDOW:  200\n",
      "processing;  /media/cat/4TBSSD/yuki/AQ2/tif_files/AQ2pm_Dec16_30Hz/AQ2pm_Dec16_30Hz_code_04_trial_ROItimeCourses_30sec_pca_0.95.npy  with lockout:  False\n"
     ]
    },
    {
     "name": "stderr",
     "output_type": "stream",
     "text": [
      "\n",
      "100%|██████████| 10/10 [00:14<00:00,  1.45s/it]"
     ]
    },
    {
     "name": "stdout",
     "output_type": "stream",
     "text": [
      "IDEAL SLIDING WINDOW:  200\n",
      "processing;  /media/cat/4TBSSD/yuki/AQ2/tif_files/AQ2am_Dec17_30Hz/AQ2am_Dec17_30Hz_code_04_trial_ROItimeCourses_30sec_pca_0.95.npy  with lockout:  False\n"
     ]
    },
    {
     "name": "stderr",
     "output_type": "stream",
     "text": [
      "\n",
      "100%|██████████| 10/10 [00:11<00:00,  1.14s/it]"
     ]
    },
    {
     "name": "stdout",
     "output_type": "stream",
     "text": [
      " No ideal sliding window computed, skipping\n",
      " No ideal sliding window computed, skipping\n",
      " No ideal sliding window computed, skipping\n",
      " No ideal sliding window computed, skipping\n",
      " No ideal sliding window computed, skipping\n",
      " No ideal sliding window computed, skipping\n",
      "IDEAL SLIDING WINDOW:  78\n",
      "processing;  /media/cat/4TBSSD/yuki/AQ2/tif_files/AQ2am_Dec28_30Hz/AQ2am_Dec28_30Hz_code_04_trial_ROItimeCourses_30sec_pca_0.95.npy  with lockout:  False\n"
     ]
    },
    {
     "name": "stderr",
     "output_type": "stream",
     "text": [
      "\n",
      "100%|██████████| 10/10 [00:05<00:00,  1.98it/s]"
     ]
    },
    {
     "name": "stdout",
     "output_type": "stream",
     "text": [
      "IDEAL SLIDING WINDOW:  180\n",
      "processing;  /media/cat/4TBSSD/yuki/AQ2/tif_files/AQ2am_Dec29_30Hz/AQ2am_Dec29_30Hz_code_04_trial_ROItimeCourses_30sec_pca_0.95.npy  with lockout:  False\n"
     ]
    },
    {
     "name": "stderr",
     "output_type": "stream",
     "text": [
      "\n",
      "100%|██████████| 10/10 [00:10<00:00,  1.01s/it]"
     ]
    },
    {
     "name": "stdout",
     "output_type": "stream",
     "text": [
      " No ideal sliding window computed, skipping\n",
      "IDEAL SLIDING WINDOW:  150\n",
      "processing;  /media/cat/4TBSSD/yuki/AQ2/tif_files/AQ2am_Dec31_30Hz/AQ2am_Dec31_30Hz_code_04_trial_ROItimeCourses_30sec_pca_0.95.npy  with lockout:  False\n"
     ]
    },
    {
     "name": "stderr",
     "output_type": "stream",
     "text": [
      "\n",
      "100%|██████████| 10/10 [00:41<00:00,  4.13s/it]"
     ]
    },
    {
     "name": "stdout",
     "output_type": "stream",
     "text": [
      "IDEAL SLIDING WINDOW:  200\n",
      "processing;  /media/cat/4TBSSD/yuki/AQ2/tif_files/AQ2am_Jan4_30Hz/AQ2am_Jan4_30Hz_code_04_trial_ROItimeCourses_30sec_pca_0.95.npy  with lockout:  False\n"
     ]
    },
    {
     "name": "stderr",
     "output_type": "stream",
     "text": [
      "\n",
      "100%|██████████| 10/10 [00:16<00:00,  1.64s/it]"
     ]
    },
    {
     "name": "stdout",
     "output_type": "stream",
     "text": [
      "IDEAL SLIDING WINDOW:  200\n",
      "processing;  /media/cat/4TBSSD/yuki/AQ2/tif_files/AQ2am_Jan5_30Hz/AQ2am_Jan5_30Hz_code_04_trial_ROItimeCourses_30sec_pca_0.95.npy  with lockout:  False\n"
     ]
    },
    {
     "name": "stderr",
     "output_type": "stream",
     "text": [
      "\n",
      "100%|██████████| 10/10 [00:19<00:00,  1.96s/it]"
     ]
    },
    {
     "name": "stdout",
     "output_type": "stream",
     "text": [
      "IDEAL SLIDING WINDOW:  120\n",
      "processing;  /media/cat/4TBSSD/yuki/AQ2/tif_files/AQ2am_Jan6_30Hz/AQ2am_Jan6_30Hz_code_04_trial_ROItimeCourses_30sec_pca_0.95.npy  with lockout:  False\n"
     ]
    },
    {
     "name": "stderr",
     "output_type": "stream",
     "text": [
      "\n",
      "100%|██████████| 10/10 [00:16<00:00,  1.60s/it]"
     ]
    },
    {
     "name": "stdout",
     "output_type": "stream",
     "text": [
      " No ideal sliding window computed, skipping\n",
      "IDEAL SLIDING WINDOW:  120\n",
      "processing;  /media/cat/4TBSSD/yuki/AQ2/tif_files/AQ2am_Jan8_30Hz/AQ2am_Jan8_30Hz_code_04_trial_ROItimeCourses_30sec_pca_0.95.npy  with lockout:  False\n"
     ]
    },
    {
     "name": "stderr",
     "output_type": "stream",
     "text": [
      "\n",
      "100%|██████████| 10/10 [00:06<00:00,  1.43it/s]"
     ]
    },
    {
     "name": "stdout",
     "output_type": "stream",
     "text": [
      "IDEAL SLIDING WINDOW:  163\n",
      "processing;  /media/cat/4TBSSD/yuki/AQ2/tif_files/AQ2pm_Jan11_30Hz/AQ2pm_Jan11_30Hz_code_04_trial_ROItimeCourses_30sec_pca_0.95.npy  with lockout:  False\n"
     ]
    },
    {
     "name": "stderr",
     "output_type": "stream",
     "text": [
      "\n",
      "100%|██████████| 10/10 [00:04<00:00,  2.19it/s]"
     ]
    },
    {
     "name": "stdout",
     "output_type": "stream",
     "text": [
      " No ideal sliding window computed, skipping\n",
      " No ideal sliding window computed, skipping\n",
      " No ideal sliding window computed, skipping\n",
      "IDEAL SLIDING WINDOW:  163\n",
      "processing;  /media/cat/4TBSSD/yuki/AQ2/tif_files/AQ2pm_Jan13_30Hz/AQ2pm_Jan13_30Hz_code_04_trial_ROItimeCourses_30sec_pca_0.95.npy  with lockout:  False\n"
     ]
    },
    {
     "name": "stderr",
     "output_type": "stream",
     "text": [
      "\n",
      "100%|██████████| 10/10 [00:08<00:00,  1.24it/s]"
     ]
    },
    {
     "name": "stdout",
     "output_type": "stream",
     "text": [
      "IDEAL SLIDING WINDOW:  257\n",
      "processing;  /media/cat/4TBSSD/yuki/AQ2/tif_files/AQ2am_Jan13_30Hz/AQ2am_Jan13_30Hz_code_04_trial_ROItimeCourses_30sec_pca_0.95.npy  with lockout:  False\n"
     ]
    },
    {
     "name": "stderr",
     "output_type": "stream",
     "text": [
      "\n",
      "100%|██████████| 10/10 [00:51<00:00,  5.13s/it]"
     ]
    },
    {
     "name": "stdout",
     "output_type": "stream",
     "text": [
      "IDEAL SLIDING WINDOW:  180\n",
      "processing;  /media/cat/4TBSSD/yuki/AQ2/tif_files/AQ2pm_Jan14_30Hz/AQ2pm_Jan14_30Hz_code_04_trial_ROItimeCourses_30sec_pca_0.95.npy  with lockout:  False\n"
     ]
    },
    {
     "name": "stderr",
     "output_type": "stream",
     "text": [
      "\n",
      "100%|██████████| 10/10 [00:08<00:00,  1.18it/s]"
     ]
    },
    {
     "name": "stdout",
     "output_type": "stream",
     "text": [
      "IDEAL SLIDING WINDOW:  224\n",
      "processing;  /media/cat/4TBSSD/yuki/AQ2/tif_files/AQ2am_Jan14_30Hz/AQ2am_Jan14_30Hz_code_04_trial_ROItimeCourses_30sec_pca_0.95.npy  with lockout:  False\n"
     ]
    },
    {
     "name": "stderr",
     "output_type": "stream",
     "text": [
      "\n",
      "100%|██████████| 10/10 [00:16<00:00,  1.62s/it]"
     ]
    },
    {
     "name": "stdout",
     "output_type": "stream",
     "text": [
      "IDEAL SLIDING WINDOW:  200\n",
      "processing;  /media/cat/4TBSSD/yuki/AQ2/tif_files/AQ2am_Jan15_30Hz/AQ2am_Jan15_30Hz_code_04_trial_ROItimeCourses_30sec_pca_0.95.npy  with lockout:  False\n"
     ]
    },
    {
     "name": "stderr",
     "output_type": "stream",
     "text": [
      "\n",
      "100%|██████████| 10/10 [00:05<00:00,  1.91it/s]"
     ]
    },
    {
     "name": "stdout",
     "output_type": "stream",
     "text": [
      "IDEAL SLIDING WINDOW:  200\n",
      "processing;  /media/cat/4TBSSD/yuki/AQ2/tif_files/AQ2pm_Jan15_30Hz/AQ2pm_Jan15_30Hz_code_04_trial_ROItimeCourses_30sec_pca_0.95.npy  with lockout:  False\n"
     ]
    },
    {
     "name": "stderr",
     "output_type": "stream",
     "text": [
      "\n",
      "100%|██████████| 10/10 [00:21<00:00,  2.15s/it]"
     ]
    },
    {
     "name": "stdout",
     "output_type": "stream",
     "text": [
      " No ideal sliding window computed, skipping\n",
      "IDEAL SLIDING WINDOW:  224\n",
      "processing;  /media/cat/4TBSSD/yuki/AQ2/tif_files/AQ2am_Jan18_30Hz/AQ2am_Jan18_30Hz_code_04_trial_ROItimeCourses_30sec_pca_0.95.npy  with lockout:  False\n"
     ]
    },
    {
     "name": "stderr",
     "output_type": "stream",
     "text": [
      "\n",
      "100%|██████████| 10/10 [00:03<00:00,  2.54it/s]"
     ]
    },
    {
     "name": "stdout",
     "output_type": "stream",
     "text": [
      " No ideal sliding window computed, skipping\n",
      " No ideal sliding window computed, skipping\n",
      " No ideal sliding window computed, skipping\n",
      " No ideal sliding window computed, skipping\n",
      " No ideal sliding window computed, skipping\n",
      " No ideal sliding window computed, skipping\n",
      " No ideal sliding window computed, skipping\n",
      " No ideal sliding window computed, skipping\n",
      " No ideal sliding window computed, skipping\n",
      " No ideal sliding window computed, skipping\n",
      " No ideal sliding window computed, skipping\n",
      " No ideal sliding window computed, skipping\n",
      " No ideal sliding window computed, skipping\n",
      "IDEAL SLIDING WINDOW:  81\n",
      "processing;  /media/cat/4TBSSD/yuki/AQ2/tif_files/AQ2pm_Jan27_30Hz/AQ2pm_Jan27_30Hz_code_04_trial_ROItimeCourses_30sec_pca_0.95.npy  with lockout:  False\n"
     ]
    },
    {
     "name": "stderr",
     "output_type": "stream",
     "text": [
      "\n",
      "100%|██████████| 10/10 [00:10<00:00,  1.03s/it]"
     ]
    },
    {
     "name": "stdout",
     "output_type": "stream",
     "text": [
      "IDEAL SLIDING WINDOW:  120\n",
      "processing;  /media/cat/4TBSSD/yuki/AQ2/tif_files/AQ2am_Jan28_30Hz/AQ2am_Jan28_30Hz_code_04_trial_ROItimeCourses_30sec_pca_0.95.npy  with lockout:  False\n"
     ]
    },
    {
     "name": "stderr",
     "output_type": "stream",
     "text": [
      "\n",
      "100%|██████████| 10/10 [00:09<00:00,  1.01it/s]"
     ]
    },
    {
     "name": "stdout",
     "output_type": "stream",
     "text": [
      "IDEAL SLIDING WINDOW:  81\n",
      "processing;  /media/cat/4TBSSD/yuki/AQ2/tif_files/AQ2pm_Jan28_30Hz/AQ2pm_Jan28_30Hz_code_04_trial_ROItimeCourses_30sec_pca_0.95.npy  with lockout:  False\n"
     ]
    },
    {
     "name": "stderr",
     "output_type": "stream",
     "text": [
      "\n",
      "100%|██████████| 10/10 [00:10<00:00,  1.00s/it]"
     ]
    },
    {
     "name": "stdout",
     "output_type": "stream",
     "text": [
      "IDEAL SLIDING WINDOW:  120\n",
      "processing;  /media/cat/4TBSSD/yuki/AQ2/tif_files/AQ2am_Jan29_30Hz/AQ2am_Jan29_30Hz_code_04_trial_ROItimeCourses_30sec_pca_0.95.npy  with lockout:  False\n"
     ]
    },
    {
     "name": "stderr",
     "output_type": "stream",
     "text": [
      "\n",
      "100%|██████████| 10/10 [00:08<00:00,  1.12it/s]"
     ]
    },
    {
     "name": "stdout",
     "output_type": "stream",
     "text": [
      "IDEAL SLIDING WINDOW:  120\n",
      "processing;  /media/cat/4TBSSD/yuki/AQ2/tif_files/AQ2pm_Jan29_30Hz/AQ2pm_Jan29_30Hz_code_04_trial_ROItimeCourses_30sec_pca_0.95.npy  with lockout:  False\n"
     ]
    },
    {
     "name": "stderr",
     "output_type": "stream",
     "text": [
      "\n",
      "100%|██████████| 10/10 [00:11<00:00,  1.10s/it]"
     ]
    },
    {
     "name": "stdout",
     "output_type": "stream",
     "text": [
      "IDEAL SLIDING WINDOW:  89\n",
      "processing;  /media/cat/4TBSSD/yuki/AQ2/tif_files/AQ2am_Feb2_30Hz/AQ2am_Feb2_30Hz_code_04_trial_ROItimeCourses_30sec_pca_0.95.npy  with lockout:  False\n"
     ]
    },
    {
     "name": "stderr",
     "output_type": "stream",
     "text": [
      "\n",
      "100%|██████████| 10/10 [00:14<00:00,  1.43s/it]"
     ]
    },
    {
     "name": "stdout",
     "output_type": "stream",
     "text": [
      "IDEAL SLIDING WINDOW:  150\n",
      "processing;  /media/cat/4TBSSD/yuki/AQ2/tif_files/AQ2am_Feb3_30Hz/AQ2am_Feb3_30Hz_code_04_trial_ROItimeCourses_30sec_pca_0.95.npy  with lockout:  False\n"
     ]
    },
    {
     "name": "stderr",
     "output_type": "stream",
     "text": [
      "\n",
      "100%|██████████| 10/10 [00:31<00:00,  3.15s/it]"
     ]
    },
    {
     "name": "stdout",
     "output_type": "stream",
     "text": [
      "IDEAL SLIDING WINDOW:  120\n",
      "processing;  /media/cat/4TBSSD/yuki/AQ2/tif_files/AQ2am_Feb4_30Hz/AQ2am_Feb4_30Hz_code_04_trial_ROItimeCourses_30sec_pca_0.95.npy  with lockout:  False\n"
     ]
    },
    {
     "name": "stderr",
     "output_type": "stream",
     "text": [
      "\n",
      "100%|██████████| 10/10 [00:05<00:00,  1.98it/s]"
     ]
    },
    {
     "name": "stdout",
     "output_type": "stream",
     "text": [
      "IDEAL SLIDING WINDOW:  75\n",
      "processing;  /media/cat/4TBSSD/yuki/AQ2/tif_files/AQ2am_Feb5_30Hz/AQ2am_Feb5_30Hz_code_04_trial_ROItimeCourses_30sec_pca_0.95.npy  with lockout:  False\n"
     ]
    },
    {
     "name": "stderr",
     "output_type": "stream",
     "text": [
      "\n",
      "100%|██████████| 10/10 [00:15<00:00,  1.51s/it]"
     ]
    },
    {
     "name": "stdout",
     "output_type": "stream",
     "text": [
      "IDEAL SLIDING WINDOW:  89\n",
      "processing;  /media/cat/4TBSSD/yuki/AQ2/tif_files/AQ2am_Feb9_30Hz/AQ2am_Feb9_30Hz_code_04_trial_ROItimeCourses_30sec_pca_0.95.npy  with lockout:  False\n"
     ]
    },
    {
     "name": "stderr",
     "output_type": "stream",
     "text": [
      "\n",
      "100%|██████████| 10/10 [00:25<00:00,  2.54s/it]"
     ]
    },
    {
     "name": "stdout",
     "output_type": "stream",
     "text": [
      "IDEAL SLIDING WINDOW:  224\n",
      "processing;  /media/cat/4TBSSD/yuki/AQ2/tif_files/AQ2am_Feb10_30Hz/AQ2am_Feb10_30Hz_code_04_trial_ROItimeCourses_30sec_pca_0.95.npy  with lockout:  False\n"
     ]
    },
    {
     "name": "stderr",
     "output_type": "stream",
     "text": [
      "\n",
      "100%|██████████| 10/10 [01:38<00:00,  9.87s/it]"
     ]
    },
    {
     "name": "stdout",
     "output_type": "stream",
     "text": [
      "IDEAL SLIDING WINDOW:  180\n",
      "processing;  /media/cat/4TBSSD/yuki/AQ2/tif_files/AQ2am_Feb11_30Hz/AQ2am_Feb11_30Hz_code_04_trial_ROItimeCourses_30sec_pca_0.95.npy  with lockout:  False\n"
     ]
    },
    {
     "name": "stderr",
     "output_type": "stream",
     "text": [
      "\n",
      "100%|██████████| 10/10 [03:42<00:00, 22.28s/it]"
     ]
    },
    {
     "name": "stdout",
     "output_type": "stream",
     "text": [
      "IDEAL SLIDING WINDOW:  163\n",
      "processing;  /media/cat/4TBSSD/yuki/AQ2/tif_files/AQ2am_Feb12_30Hz/AQ2am_Feb12_30Hz_code_04_trial_ROItimeCourses_30sec_pca_0.95.npy  with lockout:  False\n"
     ]
    },
    {
     "name": "stderr",
     "output_type": "stream",
     "text": [
      "\n",
      "100%|██████████| 10/10 [05:20<00:00, 32.04s/it]"
     ]
    },
    {
     "name": "stdout",
     "output_type": "stream",
     "text": [
      "IDEAL SLIDING WINDOW:  200\n",
      "processing;  /media/cat/4TBSSD/yuki/AQ2/tif_files/AQ2am_Feb15_30Hz/AQ2am_Feb15_30Hz_code_04_trial_ROItimeCourses_30sec_pca_0.95.npy  with lockout:  False\n"
     ]
    },
    {
     "name": "stderr",
     "output_type": "stream",
     "text": [
      "\n",
      "100%|██████████| 10/10 [03:42<00:00, 22.25s/it]"
     ]
    },
    {
     "name": "stdout",
     "output_type": "stream",
     "text": [
      "IDEAL SLIDING WINDOW:  200\n",
      "processing;  /media/cat/4TBSSD/yuki/AQ2/tif_files/AQ2am_Feb16_30Hz/AQ2am_Feb16_30Hz_code_04_trial_ROItimeCourses_30sec_pca_0.95.npy  with lockout:  False\n"
     ]
    },
    {
     "name": "stderr",
     "output_type": "stream",
     "text": [
      "\n",
      "100%|██████████| 10/10 [02:59<00:00, 17.94s/it]"
     ]
    },
    {
     "name": "stdout",
     "output_type": "stream",
     "text": [
      "IDEAL SLIDING WINDOW:  150\n",
      "processing;  /media/cat/4TBSSD/yuki/AQ2/tif_files/AQ2am_Feb17_30Hz/AQ2am_Feb17_30Hz_code_04_trial_ROItimeCourses_30sec_pca_0.95.npy  with lockout:  False\n"
     ]
    },
    {
     "name": "stderr",
     "output_type": "stream",
     "text": [
      "\n",
      "100%|██████████| 10/10 [00:48<00:00,  4.83s/it]"
     ]
    },
    {
     "name": "stdout",
     "output_type": "stream",
     "text": [
      " No ideal sliding window computed, skipping\n",
      "IDEAL SLIDING WINDOW:  150\n",
      "processing;  /media/cat/4TBSSD/yuki/AQ2/tif_files/AQ2am_Feb19_30Hz/AQ2am_Feb19_30Hz_code_04_trial_ROItimeCourses_30sec_pca_0.95.npy  with lockout:  False\n"
     ]
    },
    {
     "name": "stderr",
     "output_type": "stream",
     "text": [
      "\n",
      "100%|██████████| 10/10 [00:54<00:00,  5.42s/it]"
     ]
    },
    {
     "name": "stdout",
     "output_type": "stream",
     "text": [
      "IDEAL SLIDING WINDOW:  150\n",
      "processing;  /media/cat/4TBSSD/yuki/AQ2/tif_files/AQ2am_Feb22_30Hz/AQ2am_Feb22_30Hz_code_04_trial_ROItimeCourses_30sec_pca_0.95.npy  with lockout:  False\n"
     ]
    },
    {
     "name": "stderr",
     "output_type": "stream",
     "text": [
      "\n",
      "100%|██████████| 10/10 [03:33<00:00, 21.31s/it]"
     ]
    },
    {
     "name": "stdout",
     "output_type": "stream",
     "text": [
      "IDEAL SLIDING WINDOW:  138\n",
      "processing;  /media/cat/4TBSSD/yuki/AQ2/tif_files/AQ2am_Feb23_30Hz/AQ2am_Feb23_30Hz_code_04_trial_ROItimeCourses_30sec_pca_0.95.npy  with lockout:  False\n"
     ]
    },
    {
     "name": "stderr",
     "output_type": "stream",
     "text": [
      "\n",
      "100%|██████████| 10/10 [02:26<00:00, 14.61s/it]"
     ]
    },
    {
     "name": "stdout",
     "output_type": "stream",
     "text": [
      " No ideal sliding window computed, skipping\n",
      "IDEAL SLIDING WINDOW:  163\n",
      "processing;  /media/cat/4TBSSD/yuki/AQ2/tif_files/AQ2am_Feb26_30Hz/AQ2am_Feb26_30Hz_code_04_trial_ROItimeCourses_30sec_pca_0.95.npy  with lockout:  False\n"
     ]
    },
    {
     "name": "stderr",
     "output_type": "stream",
     "text": [
      "\n",
      "100%|██████████| 10/10 [01:11<00:00,  7.12s/it]"
     ]
    },
    {
     "name": "stdout",
     "output_type": "stream",
     "text": [
      "IDEAL SLIDING WINDOW:  138\n",
      "processing;  /media/cat/4TBSSD/yuki/AQ2/tif_files/AQ2am_Feb29_30Hz/AQ2am_Feb29_30Hz_code_04_trial_ROItimeCourses_30sec_pca_0.95.npy  with lockout:  False\n"
     ]
    },
    {
     "name": "stderr",
     "output_type": "stream",
     "text": [
      "\n",
      "100%|██████████| 10/10 [00:53<00:00,  5.33s/it]"
     ]
    },
    {
     "name": "stdout",
     "output_type": "stream",
     "text": [
      "IDEAL SLIDING WINDOW:  150\n",
      "processing;  /media/cat/4TBSSD/yuki/AQ2/tif_files/AQ2am_Mar1_30Hz/AQ2am_Mar1_30Hz_code_04_trial_ROItimeCourses_30sec_pca_0.95.npy  with lockout:  False\n"
     ]
    },
    {
     "name": "stderr",
     "output_type": "stream",
     "text": [
      "\n",
      "100%|██████████| 10/10 [02:28<00:00, 14.89s/it]"
     ]
    },
    {
     "name": "stdout",
     "output_type": "stream",
     "text": [
      "IDEAL SLIDING WINDOW:  138\n",
      "processing;  /media/cat/4TBSSD/yuki/AQ2/tif_files/AQ2am_Mar2_30Hz/AQ2am_Mar2_30Hz_code_04_trial_ROItimeCourses_30sec_pca_0.95.npy  with lockout:  False\n"
     ]
    },
    {
     "name": "stderr",
     "output_type": "stream",
     "text": [
      "\n",
      "100%|██████████| 10/10 [00:20<00:00,  2.06s/it]"
     ]
    },
    {
     "name": "stdout",
     "output_type": "stream",
     "text": [
      "IDEAL SLIDING WINDOW:  163\n",
      "processing;  /media/cat/4TBSSD/yuki/AQ2/tif_files/AQ2am_Mar3_30Hz/AQ2am_Mar3_30Hz_code_04_trial_ROItimeCourses_30sec_pca_0.95.npy  with lockout:  False\n"
     ]
    },
    {
     "name": "stderr",
     "output_type": "stream",
     "text": [
      "\n",
      "100%|██████████| 10/10 [03:03<00:00, 18.39s/it]"
     ]
    },
    {
     "name": "stdout",
     "output_type": "stream",
     "text": [
      "IDEAL SLIDING WINDOW:  180\n",
      "processing;  /media/cat/4TBSSD/yuki/AQ2/tif_files/AQ2pm_Mar7_Day3_30Hz/AQ2pm_Mar7_Day3_30Hz_code_04_trial_ROItimeCourses_30sec_pca_0.95.npy  with lockout:  False\n"
     ]
    },
    {
     "name": "stderr",
     "output_type": "stream",
     "text": [
      "\n",
      "100%|██████████| 10/10 [02:19<00:00, 13.95s/it]"
     ]
    },
    {
     "name": "stdout",
     "output_type": "stream",
     "text": [
      "IDEAL SLIDING WINDOW:  200\n",
      "processing;  /media/cat/4TBSSD/yuki/AQ2/tif_files/AQ2pm_Mar9_Day5_30Hz/AQ2pm_Mar9_Day5_30Hz_code_04_trial_ROItimeCourses_30sec_pca_0.95.npy  with lockout:  False\n"
     ]
    },
    {
     "name": "stderr",
     "output_type": "stream",
     "text": [
      "\n",
      "100%|██████████| 10/10 [00:52<00:00,  5.24s/it]"
     ]
    },
    {
     "name": "stdout",
     "output_type": "stream",
     "text": [
      "IDEAL SLIDING WINDOW:  163\n",
      "processing;  /media/cat/4TBSSD/yuki/AQ2/tif_files/AQ2pm_Mar11_Day7_30Hz/AQ2pm_Mar11_Day7_30Hz_code_04_trial_ROItimeCourses_30sec_pca_0.95.npy  with lockout:  False\n"
     ]
    },
    {
     "name": "stderr",
     "output_type": "stream",
     "text": [
      "\n",
      "100%|██████████| 10/10 [01:05<00:00,  6.54s/it]"
     ]
    },
    {
     "name": "stdout",
     "output_type": "stream",
     "text": [
      "IDEAL SLIDING WINDOW:  138\n",
      "processing;  /media/cat/4TBSSD/yuki/AQ2/tif_files/AQ2am_Mar14_Week2_30Hz/AQ2am_Mar14_Week2_30Hz_code_04_trial_ROItimeCourses_30sec_pca_0.95.npy  with lockout:  False\n"
     ]
    },
    {
     "name": "stderr",
     "output_type": "stream",
     "text": [
      "\n",
      "100%|██████████| 10/10 [00:56<00:00,  5.64s/it]"
     ]
    },
    {
     "name": "stdout",
     "output_type": "stream",
     "text": [
      "IDEAL SLIDING WINDOW:  150\n",
      "processing;  /media/cat/4TBSSD/yuki/AQ2/tif_files/AQ2pm_Mar15_Week2_30Hz/AQ2pm_Mar15_Week2_30Hz_code_04_trial_ROItimeCourses_30sec_pca_0.95.npy  with lockout:  False\n"
     ]
    },
    {
     "name": "stderr",
     "output_type": "stream",
     "text": [
      "\n",
      "100%|██████████| 10/10 [02:34<00:00, 15.47s/it]"
     ]
    },
    {
     "name": "stdout",
     "output_type": "stream",
     "text": [
      "IDEAL SLIDING WINDOW:  150\n",
      "processing;  /media/cat/4TBSSD/yuki/AQ2/tif_files/AQ2am_Mar16_Week2_30Hz/AQ2am_Mar16_Week2_30Hz_code_04_trial_ROItimeCourses_30sec_pca_0.95.npy  with lockout:  False\n"
     ]
    },
    {
     "name": "stderr",
     "output_type": "stream",
     "text": [
      "\n",
      "100%|██████████| 10/10 [02:22<00:00, 14.24s/it]"
     ]
    },
    {
     "name": "stdout",
     "output_type": "stream",
     "text": [
      "IDEAL SLIDING WINDOW:  138\n",
      "processing;  /media/cat/4TBSSD/yuki/AQ2/tif_files/AQ2am_Mar17_Week2_30Hz/AQ2am_Mar17_Week2_30Hz_code_04_trial_ROItimeCourses_30sec_pca_0.95.npy  with lockout:  False\n"
     ]
    },
    {
     "name": "stderr",
     "output_type": "stream",
     "text": [
      "\n",
      "100%|██████████| 10/10 [00:43<00:00,  4.35s/it]"
     ]
    },
    {
     "name": "stdout",
     "output_type": "stream",
     "text": [
      "IDEAL SLIDING WINDOW:  128\n",
      "processing;  /media/cat/4TBSSD/yuki/AQ2/tif_files/AQ2am_Mar18_Week2_30Hz/AQ2am_Mar18_Week2_30Hz_code_04_trial_ROItimeCourses_30sec_pca_0.95.npy  with lockout:  False\n"
     ]
    },
    {
     "name": "stderr",
     "output_type": "stream",
     "text": [
      "\n",
      "100%|██████████| 10/10 [02:26<00:00, 14.62s/it]"
     ]
    },
    {
     "name": "stdout",
     "output_type": "stream",
     "text": [
      "IDEAL SLIDING WINDOW:  150\n",
      "processing;  /media/cat/4TBSSD/yuki/AQ2/tif_files/AQ2am_Mar21_Week3_30Hz/AQ2am_Mar21_Week3_30Hz_code_04_trial_ROItimeCourses_30sec_pca_0.95.npy  with lockout:  False\n"
     ]
    },
    {
     "name": "stderr",
     "output_type": "stream",
     "text": [
      "\n",
      "100%|██████████| 10/10 [00:13<00:00,  1.36s/it]"
     ]
    },
    {
     "name": "stdout",
     "output_type": "stream",
     "text": [
      "IDEAL SLIDING WINDOW:  150\n",
      "processing;  /media/cat/4TBSSD/yuki/AQ2/tif_files/AQ2am_Mar22_Week3_30Hz/AQ2am_Mar22_Week3_30Hz_code_04_trial_ROItimeCourses_30sec_pca_0.95.npy  with lockout:  False\n"
     ]
    },
    {
     "name": "stderr",
     "output_type": "stream",
     "text": [
      "\n",
      "100%|██████████| 10/10 [00:21<00:00,  2.17s/it]"
     ]
    },
    {
     "name": "stdout",
     "output_type": "stream",
     "text": [
      "IDEAL SLIDING WINDOW:  200\n",
      "processing;  /media/cat/4TBSSD/yuki/AQ2/tif_files/AQ2am_Mar23_Week3_30Hz/AQ2am_Mar23_Week3_30Hz_code_04_trial_ROItimeCourses_30sec_pca_0.95.npy  with lockout:  False\n"
     ]
    },
    {
     "name": "stderr",
     "output_type": "stream",
     "text": [
      "\n",
      "100%|██████████| 10/10 [01:01<00:00,  6.19s/it]"
     ]
    },
    {
     "name": "stdout",
     "output_type": "stream",
     "text": [
      "IDEAL SLIDING WINDOW:  150\n",
      "processing;  /media/cat/4TBSSD/yuki/AQ2/tif_files/AQ2am_Mar24_Week3_30Hz/AQ2am_Mar24_Week3_30Hz_code_04_trial_ROItimeCourses_30sec_pca_0.95.npy  with lockout:  False\n"
     ]
    },
    {
     "name": "stderr",
     "output_type": "stream",
     "text": [
      "\n",
      "100%|██████████| 10/10 [01:41<00:00, 10.13s/it]"
     ]
    },
    {
     "name": "stdout",
     "output_type": "stream",
     "text": [
      "IDEAL SLIDING WINDOW:  150\n",
      "processing;  /media/cat/4TBSSD/yuki/AQ2/tif_files/AQ2am_Mar29_Week4_30Hz/AQ2am_Mar29_Week4_30Hz_code_04_trial_ROItimeCourses_30sec_pca_0.95.npy  with lockout:  False\n"
     ]
    },
    {
     "name": "stderr",
     "output_type": "stream",
     "text": [
      "\n",
      "100%|██████████| 10/10 [01:16<00:00,  7.61s/it]"
     ]
    },
    {
     "name": "stdout",
     "output_type": "stream",
     "text": [
      "IDEAL SLIDING WINDOW:  138\n",
      "processing;  /media/cat/4TBSSD/yuki/AQ2/tif_files/AQ2am_Mar30_Week4_30Hz/AQ2am_Mar30_Week4_30Hz_code_04_trial_ROItimeCourses_30sec_pca_0.95.npy  with lockout:  False\n"
     ]
    },
    {
     "name": "stderr",
     "output_type": "stream",
     "text": [
      "\n",
      "100%|██████████| 10/10 [03:58<00:00, 23.90s/it]"
     ]
    },
    {
     "name": "stdout",
     "output_type": "stream",
     "text": [
      "IDEAL SLIDING WINDOW:  138\n",
      "processing;  /media/cat/4TBSSD/yuki/AQ2/tif_files/AQ2am_Mar31_Week4_30Hz/AQ2am_Mar31_Week4_30Hz_code_04_trial_ROItimeCourses_30sec_pca_0.95.npy  with lockout:  False\n"
     ]
    },
    {
     "name": "stderr",
     "output_type": "stream",
     "text": [
      "\n",
      "100%|██████████| 10/10 [02:04<00:00, 12.50s/it]"
     ]
    },
    {
     "name": "stdout",
     "output_type": "stream",
     "text": [
      "IDEAL SLIDING WINDOW:  138\n",
      "processing;  /media/cat/4TBSSD/yuki/AQ2/tif_files/AQ2am_Apr1_Week4_30Hz/AQ2am_Apr1_Week4_30Hz_code_04_trial_ROItimeCourses_30sec_pca_0.95.npy  with lockout:  False\n"
     ]
    },
    {
     "name": "stderr",
     "output_type": "stream",
     "text": [
      "\n",
      "100%|██████████| 10/10 [01:51<00:00, 11.17s/it]"
     ]
    },
    {
     "name": "stdout",
     "output_type": "stream",
     "text": [
      "IDEAL SLIDING WINDOW:  138\n",
      "processing;  /media/cat/4TBSSD/yuki/AQ2/tif_files/AQ2am_Apr4_Week5_30Hz/AQ2am_Apr4_Week5_30Hz_code_04_trial_ROItimeCourses_30sec_pca_0.95.npy  with lockout:  False\n"
     ]
    },
    {
     "name": "stderr",
     "output_type": "stream",
     "text": [
      "\n",
      "100%|██████████| 10/10 [02:11<00:00, 13.11s/it]"
     ]
    },
    {
     "name": "stdout",
     "output_type": "stream",
     "text": [
      "IDEAL SLIDING WINDOW:  128\n",
      "processing;  /media/cat/4TBSSD/yuki/AQ2/tif_files/AQ2am_Apr5_Week5_30Hz/AQ2am_Apr5_Week5_30Hz_code_04_trial_ROItimeCourses_30sec_pca_0.95.npy  with lockout:  False\n"
     ]
    },
    {
     "name": "stderr",
     "output_type": "stream",
     "text": [
      "\n",
      "100%|██████████| 10/10 [01:02<00:00,  6.23s/it]"
     ]
    },
    {
     "name": "stdout",
     "output_type": "stream",
     "text": [
      "IDEAL SLIDING WINDOW:  163\n",
      "processing;  /media/cat/4TBSSD/yuki/AQ2/tif_files/AQ2am_Apr6_Week5_30Hz/AQ2am_Apr6_Week5_30Hz_code_04_trial_ROItimeCourses_30sec_pca_0.95.npy  with lockout:  False\n"
     ]
    },
    {
     "name": "stderr",
     "output_type": "stream",
     "text": [
      "\n",
      "100%|██████████| 10/10 [02:27<00:00, 14.79s/it]"
     ]
    },
    {
     "name": "stdout",
     "output_type": "stream",
     "text": [
      "IDEAL SLIDING WINDOW:  138\n",
      "processing;  /media/cat/4TBSSD/yuki/AQ2/tif_files/AQ2am_Apr7_Week5_30Hz/AQ2am_Apr7_Week5_30Hz_code_04_trial_ROItimeCourses_30sec_pca_0.95.npy  with lockout:  False\n"
     ]
    },
    {
     "name": "stderr",
     "output_type": "stream",
     "text": [
      "\n",
      "100%|██████████| 10/10 [00:56<00:00,  5.66s/it]"
     ]
    },
    {
     "name": "stdout",
     "output_type": "stream",
     "text": [
      "IDEAL SLIDING WINDOW:  150\n",
      "processing;  /media/cat/4TBSSD/yuki/AQ2/tif_files/AQ2am_Apr8_Week5_30Hz/AQ2am_Apr8_Week5_30Hz_code_04_trial_ROItimeCourses_30sec_pca_0.95.npy  with lockout:  False\n"
     ]
    },
    {
     "name": "stderr",
     "output_type": "stream",
     "text": [
      "\n",
      "100%|██████████| 10/10 [01:23<00:00,  8.33s/it]"
     ]
    },
    {
     "name": "stdout",
     "output_type": "stream",
     "text": [
      "IDEAL SLIDING WINDOW:  163\n",
      "processing;  /media/cat/4TBSSD/yuki/AQ2/tif_files/AQ2am_Apr11_Week6_30Hz/AQ2am_Apr11_Week6_30Hz_code_04_trial_ROItimeCourses_30sec_pca_0.95.npy  with lockout:  False\n"
     ]
    },
    {
     "name": "stderr",
     "output_type": "stream",
     "text": [
      "\n",
      "100%|██████████| 10/10 [03:43<00:00, 22.38s/it]"
     ]
    },
    {
     "name": "stdout",
     "output_type": "stream",
     "text": [
      "IDEAL SLIDING WINDOW:  150\n",
      "processing;  /media/cat/4TBSSD/yuki/AQ2/tif_files/AQ2am_Apr12_Week6_30Hz/AQ2am_Apr12_Week6_30Hz_code_04_trial_ROItimeCourses_30sec_pca_0.95.npy  with lockout:  False\n"
     ]
    },
    {
     "name": "stderr",
     "output_type": "stream",
     "text": [
      "\n",
      "100%|██████████| 10/10 [00:35<00:00,  3.58s/it]"
     ]
    },
    {
     "name": "stdout",
     "output_type": "stream",
     "text": [
      " No ideal sliding window computed, skipping\n",
      "IDEAL SLIDING WINDOW:  138\n",
      "processing;  /media/cat/4TBSSD/yuki/AQ2/tif_files/AQ2am_Apr14_Week6_30Hz/AQ2am_Apr14_Week6_30Hz_code_04_trial_ROItimeCourses_30sec_pca_0.95.npy  with lockout:  False\n"
     ]
    },
    {
     "name": "stderr",
     "output_type": "stream",
     "text": [
      "\n",
      "100%|██████████| 10/10 [01:04<00:00,  6.45s/it]"
     ]
    },
    {
     "name": "stdout",
     "output_type": "stream",
     "text": [
      "IDEAL SLIDING WINDOW:  150\n",
      "processing;  /media/cat/4TBSSD/yuki/AQ2/tif_files/AQ2am_Apr15_Week6_30Hz/AQ2am_Apr15_Week6_30Hz_code_04_trial_ROItimeCourses_30sec_pca_0.95.npy  with lockout:  False\n"
     ]
    },
    {
     "name": "stderr",
     "output_type": "stream",
     "text": [
      "\n",
      "100%|██████████| 10/10 [00:49<00:00,  4.92s/it]"
     ]
    },
    {
     "name": "stdout",
     "output_type": "stream",
     "text": [
      "IDEAL SLIDING WINDOW:  120\n",
      "processing;  /media/cat/4TBSSD/yuki/AQ2/tif_files/AQ2am_Apr18_Week7_30Hz/AQ2am_Apr18_Week7_30Hz_code_04_trial_ROItimeCourses_30sec_pca_0.95.npy  with lockout:  False\n"
     ]
    },
    {
     "name": "stderr",
     "output_type": "stream",
     "text": [
      "\n",
      "100%|██████████| 10/10 [00:23<00:00,  2.36s/it]"
     ]
    },
    {
     "name": "stdout",
     "output_type": "stream",
     "text": [
      "IDEAL SLIDING WINDOW:  120\n",
      "processing;  /media/cat/4TBSSD/yuki/AQ2/tif_files/AQ2am_Apr19_Week7_30Hz/AQ2am_Apr19_Week7_30Hz_code_04_trial_ROItimeCourses_30sec_pca_0.95.npy  with lockout:  False\n"
     ]
    },
    {
     "name": "stderr",
     "output_type": "stream",
     "text": [
      "\n",
      "100%|██████████| 10/10 [00:17<00:00,  1.77s/it]"
     ]
    },
    {
     "name": "stdout",
     "output_type": "stream",
     "text": [
      "IDEAL SLIDING WINDOW:  128\n",
      "processing;  /media/cat/4TBSSD/yuki/AQ2/tif_files/AQ2am_Apr20_Week7_30Hz/AQ2am_Apr20_Week7_30Hz_code_04_trial_ROItimeCourses_30sec_pca_0.95.npy  with lockout:  False\n"
     ]
    },
    {
     "name": "stderr",
     "output_type": "stream",
     "text": [
      "\n",
      "100%|██████████| 10/10 [00:17<00:00,  1.79s/it]"
     ]
    },
    {
     "name": "stdout",
     "output_type": "stream",
     "text": [
      "IDEAL SLIDING WINDOW:  120\n",
      "processing;  /media/cat/4TBSSD/yuki/AQ2/tif_files/AQ2am_Apr21_Week7_30Hz/AQ2am_Apr21_Week7_30Hz_code_04_trial_ROItimeCourses_30sec_pca_0.95.npy  with lockout:  False\n"
     ]
    },
    {
     "name": "stderr",
     "output_type": "stream",
     "text": [
      "\n",
      "100%|██████████| 10/10 [00:15<00:00,  1.51s/it]"
     ]
    },
    {
     "name": "stdout",
     "output_type": "stream",
     "text": [
      "IDEAL SLIDING WINDOW:  138\n",
      "processing;  /media/cat/4TBSSD/yuki/AQ2/tif_files/AQ2am_Apr22_Week7_30Hz/AQ2am_Apr22_Week7_30Hz_code_04_trial_ROItimeCourses_30sec_pca_0.95.npy  with lockout:  False\n"
     ]
    },
    {
     "name": "stderr",
     "output_type": "stream",
     "text": [
      "\n",
      "100%|██████████| 10/10 [03:31<00:00, 21.11s/it]"
     ]
    },
    {
     "name": "stdout",
     "output_type": "stream",
     "text": [
      "IDEAL SLIDING WINDOW:  200\n",
      "processing;  /media/cat/4TBSSD/yuki/AQ2/tif_files/AQ2am_Apr25_Week8_30Hz/AQ2am_Apr25_Week8_30Hz_code_04_trial_ROItimeCourses_30sec_pca_0.95.npy  with lockout:  False\n"
     ]
    },
    {
     "name": "stderr",
     "output_type": "stream",
     "text": [
      "\n",
      "100%|██████████| 10/10 [03:37<00:00, 21.71s/it]"
     ]
    },
    {
     "name": "stdout",
     "output_type": "stream",
     "text": [
      "IDEAL SLIDING WINDOW:  138\n",
      "processing;  /media/cat/4TBSSD/yuki/AQ2/tif_files/AQ2am_Apr26_Week8_30Hz/AQ2am_Apr26_Week8_30Hz_code_04_trial_ROItimeCourses_30sec_pca_0.95.npy  with lockout:  False\n"
     ]
    },
    {
     "name": "stderr",
     "output_type": "stream",
     "text": [
      "\n",
      "100%|██████████| 10/10 [01:13<00:00,  7.35s/it]"
     ]
    },
    {
     "name": "stdout",
     "output_type": "stream",
     "text": [
      "IDEAL SLIDING WINDOW:  200\n",
      "processing;  /media/cat/4TBSSD/yuki/AQ2/tif_files/AQ2am_Apr27_Week8_30Hz/AQ2am_Apr27_Week8_30Hz_code_04_trial_ROItimeCourses_30sec_pca_0.95.npy  with lockout:  False\n"
     ]
    },
    {
     "name": "stderr",
     "output_type": "stream",
     "text": [
      "\n",
      "100%|██████████| 10/10 [04:23<00:00, 26.38s/it]"
     ]
    },
    {
     "name": "stdout",
     "output_type": "stream",
     "text": [
      "IDEAL SLIDING WINDOW:  138\n",
      "processing;  /media/cat/4TBSSD/yuki/AQ2/tif_files/AQ2am_Apr28_Week8_30Hz/AQ2am_Apr28_Week8_30Hz_code_04_trial_ROItimeCourses_30sec_pca_0.95.npy  with lockout:  False\n"
     ]
    },
    {
     "name": "stderr",
     "output_type": "stream",
     "text": [
      "\n",
      "100%|██████████| 10/10 [00:44<00:00,  4.45s/it]"
     ]
    },
    {
     "name": "stdout",
     "output_type": "stream",
     "text": [
      "IDEAL SLIDING WINDOW:  150\n",
      "processing;  /media/cat/4TBSSD/yuki/AQ2/tif_files/AQ2am_Apr29_Week8_30Hz/AQ2am_Apr29_Week8_30Hz_code_04_trial_ROItimeCourses_30sec_pca_0.95.npy  with lockout:  False\n"
     ]
    },
    {
     "name": "stderr",
     "output_type": "stream",
     "text": [
      "\n",
      "100%|██████████| 10/10 [00:27<00:00,  2.71s/it]"
     ]
    },
    {
     "name": "stdout",
     "output_type": "stream",
     "text": [
      "DONE predicting SVM on animal:  AQ2\n"
     ]
    },
    {
     "name": "stderr",
     "output_type": "stream",
     "text": [
      "\n"
     ]
    }
   ],
   "source": [
    "######################################################\n",
    "##### PREDICT SVM DECISION CHOICE SINGLE SESSION #####\n",
    "######################################################\n",
    "\n",
    "# select animal names\n",
    "names = ['IA1','IA2','IA3','IJ1','IJ2','AQ2'] # \"AR4\" and other datasets could work\n",
    "#names = ['IJ1']\n",
    "\n",
    "# \n",
    "svm = SVM.PredictSVMChoice()\n",
    "svm.root_dir = data_dir\n",
    "svm.random_flag = False  # shuffle data to show baseline\n",
    "\n",
    "# window parameters\n",
    "svm.window = 30              # seconds of prediction window, backwards in time in seconds; e.g. -30sec ... +30sec\n",
    "svm.lockout_window = 10      # time for locking out other pulls \n",
    "svm.sliding_window = 150      # number of frames in sliding window\n",
    "\n",
    "# pca params\n",
    "svm.pca_flag = True\n",
    "svm.pca_var = 0.95  # this is default for now for nComp = 20\n",
    "            \n",
    "# svm parameters\n",
    "svm.xvalidation = 10  # KFold xvalidation step\n",
    "svm.data_split = 0.8  # split 80/20 data for training\n",
    "svm.method = 'sigmoid'  # method used for computing SVM\n",
    "\n",
    "# run-time parameters\n",
    "svm.parallel = True\n",
    "svm.n_cores = 8\n",
    "svm.min_trials = 10\n",
    "svm.overwrite = False\n",
    "\n",
    "# session info\n",
    "#session_ids = ['Mar1_', 'Mar2_', 'Mar3_', 'Feb29', 'Mar7_']\n",
    "svm.session_id = 'all'\n",
    "#svm.session_id = 'Feb9_'\n",
    "\n",
    "# \n",
    "#codes = ['left_paw','right_paw','jaw']\n",
    "codes = ['code_04']\n",
    "\n",
    "#svm.correlation_prefix = '_oscillation'\n",
    "svm.correlation_prefix = ''\n",
    "\n",
    "# use ideal length flag:\n",
    "svm.ideal_window_flag = True\n",
    "\n",
    "#\n",
    "for code in codes:\n",
    "    svm.code = code\n",
    "\n",
    "    # \n",
    "    #lockouts = [False, True]\n",
    "    lockouts = [False]\n",
    "    for name in names:\n",
    "        for lockout in lockouts:\n",
    "            # \n",
    "            svm.lockout = lockout      # May wish to run SVM on both lockout and nonlockout eventually\n",
    "\n",
    "            #\n",
    "            svm.animal_id = name\n",
    "\n",
    "            #\n",
    "            svm.predict2()\n",
    "\n"
   ]
  },
  {
   "cell_type": "code",
   "execution_count": 17,
   "metadata": {},
   "outputs": [
    {
     "name": "stdout",
     "output_type": "stream",
     "text": [
      "(1801, 10)\n",
      "(1801, 10)\n"
     ]
    }
   ],
   "source": [
    "# data = np.load('/media/cat/4TBSSD/yuki/IA1/SVM_Scores/SVM_Scores_IA1pm_Feb1_30Hzleft_paw_trial_ROItimeCourses_15sec_Xvalid10_Slidewindow30.npz')\n",
    "# acc = data['accuracy']\n",
    "# print (acc.shape)\n",
    "# plt.plot(acc.mean(1))\n",
    "codes = ['original','ideal']\n",
    "\n",
    "fnames = [\n",
    "\n",
    "# '/media/cat/4TBSSD/yuki/IJ1/SVM_Scores/SVM_Scores_IJ1pm_Mar2_30Hzcode_04_trial_ROItimeCourses_30sec_Xvalid10_Slidewindow30.npz',\n",
    "# '/media/cat/4TBSSD/yuki/IJ1/SVM_Scores/SVM_Scores_IJ1pm_Mar2_30Hzcode_04_correlation1_trial_ROItimeCourses_30sec_Xvalid10_Slidewindow30.npz',\n",
    "# '/media/cat/4TBSSD/yuki/IJ1/SVM_Scores/SVM_Scores_IJ1pm_Mar2_30Hzcode_04_correlation2_trial_ROItimeCourses_30sec_Xvalid10_Slidewindow30.npz'\n",
    "\n",
    "#'/media/cat/4TBSSD/yuki/AQ2/SVM_Scores/SVM_Scores_AQ2am_Apr29_Week8_30Hzcode_04_trial_ROItimeCourses_30sec_Xvalid10_Slidewindow30.npz',\n",
    "#'/media/cat/4TBSSD/yuki/AQ2/SVM_Scores/SVM_Scores_AQ2am_Apr29_Week8_30Hzcode_04_trial_ROItimeCourses_30sec_Xvalid10_Slidewindow150.npz'\n",
    "    \n",
    " \n",
    "#'/media/cat/4TBSSD/yuki/AQ2/SVM_Scores/SVM_Scores_AQ2am_Apr14_Week6_30Hzcode_04_trial_ROItimeCourses_30sec_Xvalid10_Slidewindow30.npz',\n",
    "#'/media/cat/4TBSSD/yuki/AQ2/SVM_Scores/SVM_Scores_AQ2am_Apr14_Week6_30Hzcode_04_trial_ROItimeCourses_30sec_Xvalid10_Slidewindow138.npz'\n",
    "    \n",
    "'/media/cat/4TBSSD/yuki/IJ1/SVM_Scores/SVM_Scores_IJ1pm_Mar2_30Hzcode_04_trial_ROItimeCourses_30sec_Xvalid10_Slidewindow30.npz',\n",
    "'/media/cat/4TBSSD/yuki/IJ1/SVM_Scores/SVM_Scores_IJ1pm_Mar2_30Hzcode_04_trial_ROItimeCourses_30sec_Xvalid10_Slidewindow128.npz'   \n",
    "    \n",
    "#'/media/cat/4TBSSD/yuki/IJ1/SVM_Scores/SVM_Scores_IJ1pm_Mar31_30Hzcode_04_trial_ROItimeCourses_30sec_Xvalid10_Slidewindow30.npz',\n",
    "#'/media/cat/4TBSSD/yuki/IJ1/SVM_Scores/SVM_Scores_IJ1pm_Mar31_30Hzcode_04_correlation1_trial_ROItimeCourses_30sec_Xvalid10_Slidewindow30.npz',\n",
    " \n",
    "    \n",
    "# '/media/cat/4TBSSD/yuki/IJ1/SVM_Scores/SVM_Scores_IJ1pm_Mar23_30Hzcode_04_trial_ROItimeCourses_30sec_Xvalid10_Slidewindow30.npz',\n",
    "# '/media/cat/4TBSSD/yuki/IJ1/SVM_Scores/SVM_Scores_IJ1pm_Mar23_30Hzcode_04_correlation1_trial_ROItimeCourses_30sec_Xvalid10_Slidewindow30.npz',\n",
    "# '/media/cat/4TBSSD/yuki/IJ1/SVM_Scores/SVM_Scores_IJ1pm_Mar23_30Hzcode_04_correlation2_trial_ROItimeCourses_30sec_Xvalid10_Slidewindow30.npz'    \n",
    "    \n",
    "]\n",
    "fig=plt.figure()\n",
    "ax=plt.subplot(111)\n",
    "for ctr,fname in enumerate(fnames):\n",
    "    data = np.load(fname)\n",
    "    acc = data['accuracy']\n",
    "    length = 1801-acc.shape[0]\n",
    "    acc = np.vstack(\n",
    "                     (np.zeros((length,10), dtype=np.float32), \n",
    "                      acc))\n",
    "    print (acc.shape)\n",
    "    #acc = acc[:870]\n",
    "    t = np.arange(acc.shape[0])/30-29\n",
    "    mean = acc.mean(1)\n",
    "    std = np.std(acc,1)\n",
    "    plt.plot(t,mean,label=codes[ctr])\n",
    "    ax.fill_between(t, mean+std,\n",
    "                   mean-std,\n",
    "                  alpha=.2)\n",
    "\n",
    "plt.plot([-30,0],[0.5,0.5],'--',c='grey')\n",
    "plt.ylim(0,1)\n",
    "plt.legend()\n",
    "plt.show()"
   ]
  },
  {
   "cell_type": "code",
   "execution_count": 16,
   "metadata": {},
   "outputs": [
    {
     "name": "stdout",
     "output_type": "stream",
     "text": [
      "(16, 7, 1801)\n",
      "(16, 16, 1801)\n"
     ]
    }
   ],
   "source": [
    "data = np.load('/media/cat/4TBSSD/yuki/IJ1/tif_files/IJ1pm_Mar1_30Hz/IJ1pm_Mar1_30Hz_code_04_trial_ROItimeCourses_30sec_pca_0.95.npy')\n",
    "print (data.shape)\n",
    "\n",
    "data2 = np.load('/media/cat/4TBSSD/yuki/IJ1/tif_files/IJ1pm_Mar1_30Hz/IJ1pm_Mar1_30Hz_code_04_correlation2_trial_ROItimeCourses_30sec_pca_0.95.npy')\n",
    "print (data2.shape)"
   ]
  },
  {
   "cell_type": "code",
   "execution_count": 17,
   "metadata": {},
   "outputs": [],
   "source": [
    "\n",
    "plt.plot(data2[:,0,:900].T,\n",
    "        c='black',\n",
    "        alpha=.2)\n",
    "plt.show()\n",
    "\n"
   ]
  },
  {
   "cell_type": "code",
   "execution_count": null,
   "metadata": {},
   "outputs": [],
   "source": []
  }
 ],
 "metadata": {
  "kernelspec": {
   "display_name": "Python 3",
   "language": "python",
   "name": "python3"
  },
  "language_info": {
   "codemirror_mode": {
    "name": "ipython",
    "version": 3
   },
   "file_extension": ".py",
   "mimetype": "text/x-python",
   "name": "python",
   "nbconvert_exporter": "python",
   "pygments_lexer": "ipython3",
   "version": "3.8.8"
  }
 },
 "nbformat": 4,
 "nbformat_minor": 4
}
