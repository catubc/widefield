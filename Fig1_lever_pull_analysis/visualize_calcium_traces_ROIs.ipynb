{
 "cells": [
  {
   "cell_type": "code",
   "execution_count": 1,
   "id": "5c18cd73",
   "metadata": {},
   "outputs": [
    {
     "data": {
      "application/javascript": [
       "IPython.notebook.set_autosave_interval(180000)"
      ]
     },
     "metadata": {},
     "output_type": "display_data"
    },
    {
     "name": "stdout",
     "output_type": "stream",
     "text": [
      "Autosaving every 180 seconds\n"
     ]
    }
   ],
   "source": [
    "import matplotlib\n",
    "#matplotlib.use('Agg')\n",
    "%matplotlib tk\n",
    "%autosave 180\n",
    "\n",
    "%load_ext autoreload\n",
    "%reload_ext autoreload\n",
    "%autoreload 2\n",
    "\n",
    "# \n",
    "import sys\n",
    "sys.path.append(\"/home/cat/code/widefield/\") # Adds higher directory to python modules path.\n",
    "\n",
    "import numpy, scipy.optimize\n",
    "\n",
    "import h5py\n",
    "import numpy as np\n",
    "import scipy.io as sio\n",
    "import matplotlib.pyplot as plt\n",
    "from sklearn.cross_decomposition import CCA\n",
    "import torch\n",
    "from tqdm import tqdm\n",
    "import pandas as pd\n",
    "import scipy\n",
    "\n",
    "import os\n",
    "import time\n",
    "import warnings\n",
    "warnings.filterwarnings(\"ignore\")\n",
    "\n",
    "from scipy import signal\n",
    "from scipy.fft import fftshift\n",
    "from scipy.signal import savgol_filter\n",
    "from numpy.polynomial import polynomial as P\n",
    "from scipy.signal import argrelmax\n",
    "\n",
    "\n",
    "from locanmf import LocaNMF, postprocess\n",
    "from locanmf import analysis_fig4 \n"
   ]
  },
  {
   "cell_type": "code",
   "execution_count": 44,
   "id": "4906614c",
   "metadata": {},
   "outputs": [
    {
     "name": "stdout",
     "output_type": "stream",
     "text": [
      "(132, 16, 1801) (132, 16, 1801) (128, 128, 16)\n",
      "0 Retrosplenial area, dorsal part, layer 1 - right\n",
      "1 Retrosplenial area, lateral agranular part, layer 1 - right\n",
      "2 Primary visual area, layer 1 - right\n",
      "3 Primary somatosensory area, upper limb, layer 1 - right\n",
      "4 Primary somatosensory area, lower limb, layer 1 - right\n",
      "5 Primary somatosensory area, barrel field, layer 1 - right\n",
      "6 Secondary motor area, layer 1 - right\n",
      "7 Primary motor area, Layer 1 - right\n",
      "8 Primary motor area, Layer 1 - left\n",
      "9 Secondary motor area, layer 1 - left\n",
      "10 Primary somatosensory area, barrel field, layer 1 - left\n",
      "11 Primary somatosensory area, lower limb, layer 1 - left\n",
      "12 Primary somatosensory area, upper limb, layer 1 - left\n",
      "13 Primary visual area, layer 1 - left\n",
      "14 Retrosplenial area, lateral agranular part, layer 1 - left\n",
      "15 Retrosplenial area, dorsal part, layer 1 - left\n",
      "(1020,) std:  (1020,)\n",
      "(1020,) std:  (1020,)\n",
      "(1020,) std:  (1020,)\n",
      "(1020,) std:  (1020,)\n",
      "(1020,) std:  (1020,)\n",
      "(1020,) std:  (1020,)\n",
      "(1020,) std:  (1020,)\n",
      "(1020,) std:  (1020,)\n",
      "(1020,) std:  (1020,)\n",
      "(1020,) std:  (1020,)\n"
     ]
    }
   ],
   "source": [
    "#################################\n",
    "#################################\n",
    "#################################\n",
    "\n",
    "colors = ['magenta','brown','pink','lightblue','darkblue', 'blue']\n",
    "codes = ['_Retrosplenial', '_barrel', '_limb', '_visual','_motor']\n",
    "\n",
    "\n",
    "#################\n",
    "data = np.load('/media/cat/4TBSSD/yuki/IJ1/tif_files/IJ1pm_Mar3_30Hz/IJ1pm_Mar3_30Hz_locanmf.npz')\n",
    "\n",
    "trials = data['temporal_trial']\n",
    "random = data['temporal_random']\n",
    "names = data['names']\n",
    "\n",
    "print (trials.shape, random.shape, A.shape)\n",
    "for k in range(len(names)):\n",
    "    print (k,names[k])\n",
    "\n",
    "roi_ids = [15,10,12,13,8]\n",
    "\n",
    "\n",
    "\n",
    "def plot_traces(roi_ids, trials, name):\n",
    "    \n",
    "    fig = plt.figure(figsize=(7.5,5))\n",
    "    t = np.arange(trials.shape[2])/30-30\n",
    "    t = t[:900+4*30]\n",
    "    for ctr, roi_id in enumerate(roi_ids):\n",
    "\n",
    "        temp = trials[:,roi_id,:900+4*30]\n",
    "        temp += trials [:, 15-roi_id, :900+4*30]\n",
    "\n",
    "        mean = np.mean(temp, axis=0)\n",
    "        std = np.std(temp, axis=0)\n",
    "        #std = scipy.stats.sem(temp, axis=0)\n",
    "        \n",
    "        print (mean.shape, \"std: \", std.shape)\n",
    "        plt.plot(t, \n",
    "                 mean,\n",
    "                 linewidth=5,\n",
    "                 c=colors[ctr])\n",
    "\n",
    "        plt.fill_between(t, \n",
    "                         mean-std, \n",
    "                         mean+std, \n",
    "                         alpha=.05,\n",
    "                         color=colors[ctr])\n",
    "\n",
    "    plt.xlim(-20,4)    \n",
    "    plt.ylim(-.20,.20)\n",
    "    plt.plot([-30,30],[0,0],'--',c='grey')\n",
    "    plt.plot([0,0],[-10,10],'--',c='grey')\n",
    "    \n",
    "    if True:\n",
    "        plt.savefig('/home/cat/traces_'+name+'.svg')\n",
    "        plt.close()\n",
    "    else:\n",
    "        plt.show()\n",
    "\n",
    "#    \n",
    "plot_traces(roi_ids, trials, 'trials')\n",
    "plot_traces(roi_ids, random, 'random')\n",
    "\n"
   ]
  },
  {
   "cell_type": "code",
   "execution_count": null,
   "id": "aead7d40",
   "metadata": {},
   "outputs": [],
   "source": []
  },
  {
   "cell_type": "code",
   "execution_count": null,
   "id": "89f05ffa",
   "metadata": {},
   "outputs": [],
   "source": []
  },
  {
   "cell_type": "code",
   "execution_count": null,
   "id": "765887d0",
   "metadata": {},
   "outputs": [],
   "source": []
  },
  {
   "cell_type": "code",
   "execution_count": null,
   "id": "d0bf9ffe",
   "metadata": {},
   "outputs": [],
   "source": []
  },
  {
   "cell_type": "code",
   "execution_count": null,
   "id": "311f6d9b",
   "metadata": {},
   "outputs": [],
   "source": []
  },
  {
   "cell_type": "code",
   "execution_count": null,
   "id": "5f130a81",
   "metadata": {},
   "outputs": [],
   "source": []
  }
 ],
 "metadata": {
  "kernelspec": {
   "display_name": "Python 3",
   "language": "python",
   "name": "python3"
  },
  "language_info": {
   "codemirror_mode": {
    "name": "ipython",
    "version": 3
   },
   "file_extension": ".py",
   "mimetype": "text/x-python",
   "name": "python",
   "nbconvert_exporter": "python",
   "pygments_lexer": "ipython3",
   "version": "3.8.0"
  }
 },
 "nbformat": 4,
 "nbformat_minor": 5
}
