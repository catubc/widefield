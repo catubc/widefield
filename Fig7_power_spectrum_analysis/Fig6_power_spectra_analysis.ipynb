{
 "cells": [
  {
   "cell_type": "code",
   "execution_count": 2,
   "metadata": {},
   "outputs": [
    {
     "data": {
      "application/javascript": [
       "IPython.notebook.set_autosave_interval(180000)"
      ]
     },
     "metadata": {},
     "output_type": "display_data"
    },
    {
     "name": "stdout",
     "output_type": "stream",
     "text": [
      "Autosaving every 180 seconds\n",
      "The autoreload extension is already loaded. To reload it, use:\n",
      "  %reload_ext autoreload\n"
     ]
    }
   ],
   "source": [
    "import matplotlib\n",
    "#matplotlib.use('Agg')\n",
    "%matplotlib tk\n",
    "%autosave 180\n",
    "\n",
    "%load_ext autoreload\n",
    "%reload_ext autoreload\n",
    "%autoreload 2\n",
    "\n",
    "# \n",
    "import sys\n",
    "sys.path.append(\"/home/cat/code/widefield/\") # Adds higher directory to python modules path.\n",
    "\n",
    "import h5py\n",
    "import numpy as np\n",
    "import scipy.io as sio\n",
    "import matplotlib.pyplot as plt\n",
    "from sklearn.cross_decomposition import CCA\n",
    "import torch\n",
    "from tqdm import tqdm\n",
    "import pandas as pd\n",
    "import scipy\n",
    "\n",
    "import os\n",
    "import time\n",
    "import warnings\n",
    "warnings.filterwarnings(\"ignore\")\n",
    "\n",
    "from locanmf import LocaNMF, postprocess\n",
    "from locanmf import analysis_fig4 \n",
    "from visualize import visualize_svm as Visualize\n",
    "import matplotlib.patches as mpatches\n",
    "from scipy import signal\n",
    "from scipy.fft import fftshift\n",
    "from scipy.signal import savgol_filter\n",
    "from numpy.polynomial import polynomial as P\n",
    "from scipy.signal import argrelmax\n",
    "from scipy import signal\n"
   ]
  },
  {
   "cell_type": "code",
   "execution_count": 20,
   "metadata": {},
   "outputs": [],
   "source": [
    "\n",
    "def load_raw_data(spatial_fname, temporal_fname):\n",
    "    # GRAB AND RECONSTRUCT DATA\n",
    "    spatial = np.load(spatial_fname) \n",
    "    temporal = np.load(temporal_fname)\n",
    "    temporal = temporal.transpose(0,2,1)\n",
    "\n",
    "    #\n",
    "    print (spatial.shape)\n",
    "    print (temporal.shape)\n",
    "\n",
    "    #\n",
    "    print (\"reconstructing data: \")\n",
    "    data = np.matmul( temporal, spatial)\n",
    "    print (data.shape)\n",
    "\n",
    "    #\n",
    "    print (\"getting mean of data: \")\n",
    "    data_mean = data.mean(0)\n",
    "    print (\"data_mean: \", data_mean.shape)\n",
    "    # compute variance in raw data- not used\n",
    "    # var = np.var(data2d, axis=0)\n",
    "    # print (\"var: \", var.shape)\n",
    "\n",
    "    ######################################\n",
    "    ###### COMPUTE RAW ROI ACTIVITY ######\n",
    "    ######################################\n",
    "    data2D = data_mean.reshape(data_mean.shape[0], 128,128)\n",
    "    print (\"Data mean 2D: \", data2D.shape)\n",
    "\n",
    "    # \n",
    "    means = []\n",
    "    ctr=0\n",
    "    for id_ in ordered_names:\n",
    "        area_id = areas[id_]\n",
    "        idx = np.where(atlas==area_id)\n",
    "        print (ctr, \"areaId: \", area_id, names[id_], idx[0].shape)\n",
    "        mask = np.zeros((128,128),'float32') + np.nan\n",
    "        mask[idx] = 1\n",
    "\n",
    "        temp = data2D*mask\n",
    "        roi = np.nanmean(temp, axis=1)\n",
    "        roi = np.nanmean(roi, axis=1)\n",
    "        means.append(roi)\n",
    "\n",
    "        ctr+=1   \n",
    "\n",
    "    #\n",
    "    raw_means = np.array(means)\n",
    "    print (\"Raw data means: \", raw_means.shape)\n",
    "\n",
    "    return raw_means\n",
    "\n",
    "\n",
    "def load_locaNMF_data(fname_locaNMF):\n",
    "    # order locaNMF components by plot color ORDER in Fig 4A\n",
    "    ordered_names = np.array([15,0,14,1,   # retrosplenial areas\n",
    "                              13,2,\n",
    "                              12,3,\n",
    "                              11,4,\n",
    "                              10,5,\n",
    "                              9,6,\n",
    "                              8,7])[::-1]\n",
    "\n",
    "\n",
    "    # load raw data\n",
    "    try:\n",
    "        d = np.load(fname_locaNMF)\n",
    "    except:\n",
    "        print (\"file missing\", fname_locaNMF)\n",
    "        return None, None, None, None, None\n",
    "        \n",
    "    locaNMF_temporal = d['temporal_trial']\n",
    "    locaNMF_temporal_random = d['temporal_random']\n",
    "    locaNMF_temporal = locaNMF_temporal[:,ordered_names]\n",
    "    locaNMF_temporal_random = locaNMF_temporal_random[:,ordered_names]\n",
    "    #print (\"locanmf data: \", locaNMF_temporal.shape)\n",
    "\n",
    "    # \n",
    "    areas = d['areas'][ordered_names]\n",
    "    names = d['names'][ordered_names]\n",
    "    #print (\"original names: \", names.shape)\n",
    "\n",
    "    #\n",
    "    atlas = np.load('/media/cat/4TBSSD/yuki/yongxu/atlas_split.npy')\n",
    "    #print (\"atlas: \",atlas.shape)\n",
    "    # print (areas)\n",
    "    # print (names)\n",
    "\n",
    "    print (\"  # trials \", locaNMF_temporal.shape)\n",
    "    #print (\"ORDERED NAMES: \", names[ordered_names])\n",
    "\n",
    "    \n",
    "    return atlas, areas, names, locaNMF_temporal, locaNMF_temporal_random\n",
    "\n",
    "\n",
    "def plot_locanmf_vs_raw(locaNMF_temporal, raw_means):\n",
    "# FIg 2B locaNMF vs. raw\n",
    "\n",
    "    locaNMF_temporal_means_clip = np.mean(locaNMF_temporal,axis=0)[:,:900]\n",
    "    print ('locaNMF_temporal_means: ', \n",
    "            locaNMF_temporal_means_clip.shape)\n",
    "\n",
    "    # \n",
    "    raw_means_clip = raw_means[:,:900]\n",
    "    print ('raw temporal_means: ', raw_means.shape)\n",
    "\n",
    "    # \n",
    "    colors = plt.cm.jet(np.linspace(0,1,raw_means.shape[0]))\n",
    "    scale1 = 1\n",
    "    scale2 = scale4 = .075\n",
    "    scale3 = 1\n",
    "\n",
    "    #\n",
    "    t = np.arange(raw_means_clip.shape[1])/30-30\n",
    "    fig=plt.figure(figsize=(10,10))\n",
    "    linewidth=3\n",
    "    for k in range(raw_means.shape[0]):\n",
    "        ax1=plt.subplot(121)\n",
    "        plt.xticks([])\n",
    "        plt.yticks([])\n",
    "        plt.xlim(-15,0)\n",
    "        plt.ylim(-.1,1.25)\n",
    "\n",
    "        temp1 = raw_means_clip[k]#/np.max(raw_means[k])\n",
    "        if k==0:\n",
    "            plt.plot(t,temp1*scale1+k*scale2,c=colors[k], \n",
    "                     linewidth= linewidth, \n",
    "                     label = 'raw')\n",
    "        else:\n",
    "            plt.plot(t,temp1*scale1+k*scale2,c=colors[k], \n",
    "                     linewidth= linewidth)\n",
    "\n",
    "        #plt.plot([-15,0], [scale3+k*scale2, scale3+k*scale2],'--',c='black',alpha=.2)\n",
    "\n",
    "\n",
    "        # locanmf traces\n",
    "        temp2 = locaNMF_temporal_means_clip[k]#/np.max(locaNMF_temporal_means[k])\n",
    "\n",
    "        if k ==0: \n",
    "            plt.plot(t,temp2*scale3+k*scale2,'--',\n",
    "                     linewidth= linewidth, \n",
    "                     c=colors[k],\n",
    "                    label='locaNMF')\n",
    "        else:\n",
    "            plt.plot(t,temp2*scale3+k*scale2,'--',\n",
    "                     linewidth= linewidth, \n",
    "                     c=colors[k])\n",
    "\n",
    "        plt.plot([-15,0], [k*scale2,k*scale2],'--',c='black',alpha=.2)\n",
    "\n",
    "    #     # \n",
    "    #     ax2=plt.subplot(122)\n",
    "    #     plt.xlim(-15,0)\n",
    "    #     temp3 = temp2*scale3-temp1*scale1\n",
    "    #     plt.plot(t, temp3*scale3+k*scale4,'--', c=colors[k])\n",
    "\n",
    "    ax1.legend()\n",
    "    if False:\n",
    "        plt.savefig('/home/cat/fano.png',dpi=300)\n",
    "        plt.close()\n",
    "    else:\n",
    "        plt.show()               \n",
    "\n",
    "        \n",
    "        \n",
    "        \n",
    "        \n",
    "        \n",
    "#\n",
    "def variance_locaNMF(locaNMF_temporal):\n",
    "    # \n",
    "    t = np.arange(locaNMF_temporal.shape[2])/30 - 30\n",
    "    means = []\n",
    "    var = []\n",
    "    #for k in ordered_names:\n",
    "    for k in range(locaNMF_temporal.shape[1]):\n",
    "        temp = locaNMF_temporal[:,k].mean(0)\n",
    "        means.append(temp)\n",
    "\n",
    "        # \n",
    "        temp = np.var(locaNMF_temporal[:,k],axis=0)\n",
    "        var.append(temp)\n",
    "\n",
    "    #\n",
    "    means = np.array(means)#[:,:900]\n",
    "    var = np.array(var)#[:,:900]\n",
    "    #print (means.shape, var.shape)\n",
    "\n",
    "    return means, var\n",
    "\n",
    "\n",
    "\n",
    "def plot_longitudinal_roi_loca(n_trials, saved_names, all_means):\n",
    "    print ('n trials: ', n_trials)\n",
    "    colors = plt.cm.viridis(np.linspace(0,1,len(all_means)))\n",
    "    area_ids = [0,1,6,7,8,9,12,13]\n",
    "    time= np.arange(all_means[0].shape[1])/30-30.\n",
    "\n",
    "    #\n",
    "    ctr=1\n",
    "    min_trials = 10\n",
    "    aucs = []\n",
    "    saved = []\n",
    "    fig=plt.figure(figsize=(10,6))\n",
    "    for ctr, area_id in enumerate(area_ids): \n",
    "        ax = plt.subplot(2,4,ctr+1)\n",
    "\n",
    "        # \n",
    "        aucs.append([])\n",
    "        counter = 0\n",
    "        for t in range(len(all_means)):\n",
    "            temp = all_means[t][area_id]\n",
    "            if n_trials[t]<min_trials:\n",
    "                continue\n",
    "\n",
    "            if np.max(np.abs(temp))<0.2:\n",
    "                plt.plot(time, temp, \n",
    "                         color=colors[t],\n",
    "                        alpha=.8)\n",
    "\n",
    "                auc = np.nansum(np.abs(temp), axis=0)\n",
    "\n",
    "                aucs[ctr].append([t,auc])\n",
    "                counter+=1\n",
    "\n",
    "        print (ctr, 'area_id: ', area_id, counter)\n",
    "        # \n",
    "        #if ctr==5:\n",
    "\n",
    "        plt.xticks([])\n",
    "        plt.yticks([])\n",
    "        plt.xlim(-15,0)\n",
    "        plt.title(saved_names[area_id],fontsize=8)\n",
    "\n",
    "        # cmap = matplotlib.cm.viridis\n",
    "        #norm = matplotlib.colors.Normalize(vmin=5, vmax=10)\n",
    "\n",
    "        # cb1 = matplotlib.colorbar.ColorbarBase(ax, cmap=cmap,\n",
    "         #                               orientation='vertical')\n",
    "\n",
    "    #\n",
    "    if False:\n",
    "        plt.savefig('/home/cat/'+str(animal_id)+'_loca_longitudinal.png',dpi=300)\n",
    "        plt.close()\n",
    "    else:\n",
    "        plt.show()\n",
    "        \n",
    "        \n",
    "def plot_locanmf_temporal_averages(fig, \n",
    "                                   locaNMF_temporal,\n",
    "                                  clr):\n",
    "    locaNMF_temporal_means_clip = np.mean(locaNMF_temporal,axis=0)[:,:900]\n",
    "    print ('locaNMF_temporal_means: ', \n",
    "            locaNMF_temporal_means_clip.shape)\n",
    "\n",
    "    # \n",
    "    colors = plt.cm.jet(np.linspace(0,1,locaNMF_temporal_means_clip.shape[0]))\n",
    "    scale1 = 1\n",
    "    scale2 = scale4 = .075\n",
    "    scale3 = 1\n",
    "\n",
    "    #\n",
    "    t = np.arange(locaNMF_temporal_means_clip.shape[1])/30-30\n",
    "    linewidth=5\n",
    "    for k in range(locaNMF_temporal_means_clip.shape[0]):\n",
    "        #ax1=plt.subplot(121)\n",
    "        #plt.xticks([])\n",
    "        #plt.yticks([])\n",
    "        plt.xlim(-30,0)\n",
    "        #plt.ylim(-.1,1.25)\n",
    "\n",
    "        # locanmf traces\n",
    "        temp2 = locaNMF_temporal_means_clip[k]#/np.max(locaNMF_temporal_means[k])\n",
    "\n",
    "        if k ==0: \n",
    "            plt.plot(t,temp2*scale3+k*scale2,\n",
    "                     linewidth= linewidth, \n",
    "                     c=clr)\n",
    "        else:\n",
    "            plt.plot(t,temp2*scale3+k*scale2,\n",
    "                     linewidth= linewidth, \n",
    "                     c=clr)\n",
    "\n",
    "        plt.plot([-30,0], [k*scale2,k*scale2],'--',c='black',alpha=.2)\n",
    "\n",
    "    \n",
    "    \n",
    "##################\n",
    "def plot_variance_locaNMF(fig, var,\n",
    "                         clr):\n",
    "\n",
    "    scale1 = 1\n",
    "    scale2 = .004\n",
    "    linewidth=5\n",
    "    # scale3 = np.nan\n",
    "    t = np.arange(var.shape[1])/30-30\n",
    "    \n",
    "    \n",
    "    # \n",
    "    for k in range(var.shape[0]):\n",
    "        # \n",
    "        plt.xticks([])\n",
    "        #plt.yticks([])\n",
    "\n",
    "        # \n",
    "        temp = var[k]\n",
    "        temp = temp*scale1+k*scale2\n",
    "\n",
    "        # plot the variance\n",
    "        plt.plot(t, temp, c=clr,\n",
    "                linewidth=linewidth)\n",
    "        \n",
    "                \n",
    "        # \n",
    "        #\n",
    "        print (\"temp var: \", temp.shape)\n",
    "        idx = np.argmin(temp[750:900])\n",
    "        print (\"idx: \", idx)\n",
    "        print (t[idx+750], temp[idx+750])\n",
    "        plt.scatter(t[idx+750], temp[idx+750],\n",
    "                    s=1000,\n",
    "                    color=clr,\n",
    "                   alpha=.8)\n",
    "\n",
    "        # plot lines on top of plot\n",
    "        plt.plot([-30,0], [k*scale2,k*scale2],'--',c='black',alpha=.5)\n",
    "\n",
    "        # \n",
    "        mean2 = np.mean(temp.squeeze())\n",
    "        plt.plot([-30,0], [mean2,mean2],'--',c=clr,alpha=.5)\n",
    "\n",
    "    # \n",
    "    plt.xlim(-30,0)\n",
    "\n",
    "\n",
    "def load_locaNMF_temporal(animal_id, session_name, root_dir,\n",
    "                         session_id):\n",
    "\n",
    "    loca = analysis_fig4.LocaNMFClass(root_dir, animal_id, session_name)\n",
    "\n",
    "    #\n",
    "    loca.get_sessions(session_name)\n",
    "    print (\"sessions: \", loca.sessions.shape)\n",
    "    print (\"selected session: \", loca.sessions[session_id])\n",
    "\n",
    "    session = loca.sessions[session_id]\n",
    "\n",
    "    # load data\n",
    "    fname_locaNMF = os.path.join(root_dir, animal_id, 'tif_files',session,\n",
    "                                 session + '_locanmf.npz')\n",
    "\n",
    "\n",
    "    atlas, areas, names, locaNMF_temporal, locaNMF_temporal_random = load_locaNMF_data(fname_locaNMF)\n",
    "\n",
    "    return atlas, areas, names, locaNMF_temporal, locaNMF_temporal_random \n",
    "    \n",
    "    \n",
    "def plot_roi_averages(main_dir,\n",
    "                     animal_id,\n",
    "                     session_ids,\n",
    "                     colors,\n",
    "                     area_ids,\n",
    "                     linewidth):\n",
    "    ctr_session=0\n",
    "\n",
    "    for session_id in session_ids:\n",
    "        sessions = Visualize.get_sessions(main_dir,\n",
    "                         animal_id,\n",
    "                         session_id)\n",
    "        #print (sessions)\n",
    "\n",
    "        loca = np.load(os.path.join(main_dir, animal_id, 'tif_files',sessions[0],\n",
    "                                    sessions[0]+'_locanmf.npz'))\n",
    "\n",
    "        trials = loca['temporal_trial']\n",
    "        random = loca['temporal_random']\n",
    "        print (session_id, trials.shape[0])\n",
    "        names = loca['names']\n",
    "        for k in range(len(names)):\n",
    "               print (k,names[k])\n",
    "        # \n",
    "        ctr=0\n",
    "        t=np.arange(900)/30.-30\n",
    "        for area_id in area_ids:\n",
    "            plt.subplot(2,2,ctr+1)\n",
    "            plt.title(names[area_id])\n",
    "\n",
    "            plt.plot(t,trials[:43,area_id,:900].mean(0),\n",
    "                      linewidth=linewidth,\n",
    "                    color=colors[ctr_session])\n",
    "\n",
    "\n",
    "            ran = random[:43,area_id,:900]\n",
    "\n",
    "            if True:\n",
    "                for p in range(ran.shape[0]):\n",
    "                    idx = np.random.choice(np.arange(-300,300,1))\n",
    "                    #print (idx)\n",
    "                    ran[p] = np.roll(ran[p], idx)\n",
    "\n",
    "            plt.plot(t,ran.mean(0),'--',\n",
    "                     linewidth=linewidth,\n",
    "                    color=colors[ctr_session])\n",
    "\n",
    "\n",
    "            plt.ylim(-0.10, 0.10)\n",
    "            plt.xlim(-15,t[-1])\n",
    "            plt.plot([-30,0],[0,0],'--',c='grey')\n",
    "            ctr+=1\n",
    "\n",
    "        ctr_session+=1\n",
    "\n",
    "    if True:\n",
    "        plt.savefig('/home/cat/osccilations_roi.svg')\n",
    "        plt.close()\n",
    "    else:\n",
    "        plt.show()\n",
    "        \n",
    "        \n",
    "def plot_spectra_longintudinally(colors, plotting, fs, selected_areas, \n",
    "                                all_areas,\n",
    "                                all_means,\n",
    "                                all_means_random):\n",
    "\n",
    "    if plotting:\n",
    "        fig = plt.figure(figsize=(16,8))\n",
    "\n",
    "    # \n",
    "    norm = False\n",
    "    ctr2=0\n",
    "    averages = []\n",
    "    for k in range(len(selected_areas)):\n",
    "        averages.append([])\n",
    "\n",
    "    spectra = np.zeros((len(all_means),len(selected_areas),451))\n",
    "    # loop over all sessions\n",
    "    for k in range(len(all_means)):\n",
    "\n",
    "        # get all traces within a session\n",
    "        all_traces = all_means[k]\n",
    "\n",
    "        #\n",
    "        all_traces_random = all_means_random[k]\n",
    "        \n",
    "        temp_list = []\n",
    "        temp_list_random = []\n",
    "        pxx_list = []\n",
    "        # loop over all areas selected\n",
    "        for ctr_area, selected_area in enumerate(selected_areas):\n",
    "\n",
    "            #########################################\n",
    "            ######### PLOT INDIVIDUAL SPECGRAMS #####\n",
    "            #########################################\n",
    "            temp = all_traces[selected_area]\n",
    "            temp_random = all_traces_random[selected_area]\n",
    "            #temp = savgol_filter(temp, 7, 1)\n",
    "            temp_list.append(temp)\n",
    "            temp_list_random.append(temp_random)\n",
    "            if True: #np.max(np.abs(temp))<0.2:\n",
    "                temp = np.float64(temp)\n",
    "                temp_random = np.float64(temp_random)\n",
    "                f, Pxx_den = signal.periodogram(temp, fs)\n",
    "                f, Pxx_den_random = signal.periodogram(temp_random, fs)\n",
    "\n",
    "            if norm:\n",
    "                Pxx_den = Pxx_den/Pxx_den_random\n",
    "\n",
    "            # SHOW ONLY FIRST 451 datapoints\n",
    "            x = np.arange(0,451,1)/30.\n",
    "            Pxx_den = Pxx_den[:451]\n",
    "\n",
    "            if plotting:\n",
    "                ax = plt.subplot(1,len(selected_areas),ctr_area+1)\n",
    "                if norm == False:\n",
    "                    plt.ylim(1E-8,1E-1)\n",
    "                else:\n",
    "                    plt.ylim(1E-3,1E6)\n",
    "\n",
    "                plt.xlabel('frequency [Hz]')\n",
    "                plt.xlim(2E-2,6)\n",
    "                #ax.set_yticks([])\n",
    "                plt.semilogy()\n",
    "                plt.semilogx()\n",
    "                \n",
    "                plt.plot(x, \n",
    "                     Pxx_den,\n",
    "                     linewidth=3,\n",
    "                     c= colors[ctr_area][ctr2],\n",
    "                        alpha=.5)\n",
    "            # \n",
    "            xx = argrelmax(Pxx_den, order=100)\n",
    "\n",
    "            pxx_list.append(Pxx_den)\n",
    "            averages[ctr_area].append(Pxx_den)\n",
    "            \n",
    "            spectra[k,ctr_area]=Pxx_den\n",
    "        \n",
    "        ctr2+=1\n",
    "\n",
    "    #########################################\n",
    "    ######### PLOT AVERAGES #################\n",
    "    #########################################\n",
    "    for ctr_area in range(len(selected_areas)):\n",
    "        y = np.median(averages[ctr_area],axis=0)\n",
    "        argmax = np.argmax(y)\n",
    "\n",
    "        if plotting:\n",
    "            ax = plt.subplot(1,len(selected_areas),ctr_area+1)\n",
    "\n",
    "            plt.plot(x, \n",
    "                 y,\n",
    "                 linewidth=3,\n",
    "                 c= 'black')\n",
    "\n",
    "            plt.plot([x[argmax], x[argmax]],[1E-8,1E5], '--',c='red')\n",
    "            print (\"max freq: \", x[argmax])\n",
    "            #\n",
    "            plt.plot([0.1, 0.1],[1E-8,1E5], '--', c='black',alpha=.5)\n",
    "            plt.plot([1, 1],[1E-8,1E5], '--',c='black',alpha=.5)\n",
    "\n",
    "            for k in range(-8,-1,1):\n",
    "                plt.plot([1E-4,20],[10**k,10**k], '--',c='black',alpha=.5)\n",
    "\n",
    "\n",
    "    if plotting:\n",
    "        plt.savefig('/home/cat/power_spectra_logintiduinal.svg')\n",
    "        plt.close()\n",
    "    else:\n",
    "        plt.show()\n",
    "        \n",
    "    return spectra\n",
    "\n",
    "\n",
    "def plot_box_plots(peaks):\n",
    "    \n",
    "    # \n",
    "    codes = ['Retrosplenial', 'barrel', 'limb', 'visual','motor']\n",
    "    #codes = ['limb, layer 1 - right', 'limb, layer 1 - left']\n",
    "    clrs_local = ['black','blue','red','magenta', 'pink','brown']\n",
    "    \n",
    "    # \n",
    "    #bin_width = 0.01\n",
    "    #bins = np.arange(0.1,2.0,bin_width)\n",
    "\n",
    "    # \n",
    "    edts = []\n",
    "    for a in range(len(peaks)):\n",
    "        good_vals = np.hstack(peaks[a])\n",
    "        edts.append(good_vals)\n",
    "#     # \n",
    "    roi_names = ['V1-L',\n",
    "     'SomF-L',\n",
    "     'M1-L',\n",
    "     'RD-L']\n",
    "    my_dict = dict(V1L = edts[0], \n",
    "                   SomFL = edts[1],\n",
    "                   M1L = edts[2],\n",
    "                   RDL = edts[3],\n",
    "#                    M5 = edts[4],                      \n",
    "#                    M6 = edts[5]\n",
    "                     )\n",
    "\n",
    "    data = pd.DataFrame.from_dict(my_dict, orient='index')\n",
    "    data = data.transpose()\n",
    "\n",
    "    # \n",
    "    flierprops = dict(marker='o', \n",
    "                      #markerfacecolor='g', \n",
    "                      #markersize=10000,\n",
    "                      linestyle='none', \n",
    "                      markeredgecolor='r')\n",
    "\n",
    "    #\n",
    "    data.boxplot(showfliers=False,\n",
    "                flierprops=flierprops)\n",
    "\n",
    "    # manually define a new patch \n",
    "    labels = []\n",
    "    for i,d in enumerate(data):\n",
    "        y = data[d]#+np.random.uniform(data[d].shape[0])/200.-1/400.\n",
    "        x = np.random.normal(i+1, 0.04, len(y))\n",
    "\n",
    "        #\n",
    "        colors = plt.cm.viridis(np.linspace(0,1,len(edts[i])))\n",
    "        x = np.random.normal(i+1, 0.04, len(edts[i]))\n",
    "        print (i,d, ' y shape: ', y.shape)\n",
    "        plt.scatter(x, edts[i], \n",
    "                   #c=clrs_local[i],\n",
    "                   c=colors,\n",
    "                   edgecolor='black',\n",
    "                   s=200,\n",
    "                   #alpha=np.linspace(.2, 1.0, x.shape[0])\n",
    "                   alpha=.5\n",
    "                   )\n",
    "        \n",
    "        # compute correlation between time and location\n",
    "        from scipy import stats\n",
    "        # Y and Z are numpy arrays or lists of variables \n",
    "        #print (np.arange(edts[i]).shape, y.shape)\n",
    "        corr = stats.pearsonr(np.arange(y.shape[0]), y)\n",
    "        #res = scipy.stats.normaltest(edts[i])\n",
    "        print (i, \"corr\", corr)\n",
    "        \n",
    "        # \n",
    "        patch = mpatches.Patch(color='grey', label=roi_names[i]+ \":  \"+str(round(corr[0],2)))\n",
    "\n",
    "        # handles is a list, so append manual patch\n",
    "        labels.append(patch) \n",
    "\n",
    "        # plot the legend\n",
    "    plt.legend(handles=labels, loc='upper center')\n",
    "\n",
    "    \n",
    "    \n",
    "        \n",
    "    plt.xticks([])\n",
    "    plt.yticks([])\n",
    "    \n",
    "    plt.semilogy()\n",
    "    #plt.ylim(1E-1,1E1)\n",
    "    "
   ]
  },
  {
   "cell_type": "code",
   "execution_count": 9,
   "metadata": {
    "collapsed": true
   },
   "outputs": [
    {
     "name": "stdout",
     "output_type": "stream",
     "text": [
      "Feb3_ 43\n",
      "0 Retrosplenial area, dorsal part, layer 1 - right\n",
      "1 Retrosplenial area, lateral agranular part, layer 1 - right\n",
      "2 Primary visual area, layer 1 - right\n",
      "3 Primary somatosensory area, upper limb, layer 1 - right\n",
      "4 Primary somatosensory area, lower limb, layer 1 - right\n",
      "5 Primary somatosensory area, barrel field, layer 1 - right\n",
      "6 Secondary motor area, layer 1 - right\n",
      "7 Primary motor area, Layer 1 - right\n",
      "8 Primary motor area, Layer 1 - left\n",
      "9 Secondary motor area, layer 1 - left\n",
      "10 Primary somatosensory area, barrel field, layer 1 - left\n",
      "11 Primary somatosensory area, lower limb, layer 1 - left\n",
      "12 Primary somatosensory area, upper limb, layer 1 - left\n",
      "13 Primary visual area, layer 1 - left\n",
      "14 Retrosplenial area, lateral agranular part, layer 1 - left\n",
      "15 Retrosplenial area, dorsal part, layer 1 - left\n",
      "Mar2_ 106\n",
      "0 Retrosplenial area, dorsal part, layer 1 - right\n",
      "1 Retrosplenial area, lateral agranular part, layer 1 - right\n",
      "2 Primary visual area, layer 1 - right\n",
      "3 Primary somatosensory area, upper limb, layer 1 - right\n",
      "4 Primary somatosensory area, lower limb, layer 1 - right\n",
      "5 Primary somatosensory area, barrel field, layer 1 - right\n",
      "6 Secondary motor area, layer 1 - right\n",
      "7 Primary motor area, Layer 1 - right\n",
      "8 Primary motor area, Layer 1 - left\n",
      "9 Secondary motor area, layer 1 - left\n",
      "10 Primary somatosensory area, barrel field, layer 1 - left\n",
      "11 Primary somatosensory area, lower limb, layer 1 - left\n",
      "12 Primary somatosensory area, upper limb, layer 1 - left\n",
      "13 Primary visual area, layer 1 - left\n",
      "14 Retrosplenial area, lateral agranular part, layer 1 - left\n",
      "15 Retrosplenial area, dorsal part, layer 1 - left\n"
     ]
    }
   ],
   "source": [
    "#######################################################\n",
    "########### LOAD LIMB AREAS AND TIME COURSES ##########\n",
    "#######################################################\n",
    "\n",
    "# FIG 6A example of visual vs. limb averages\n",
    "\n",
    "main_dir = '/media/cat/4TBSSD/yuki/'\n",
    "animal_id = 'IJ2'\n",
    "session_ids = ['Feb1_', 'Mar2_','Mar31_','Apr4_']\n",
    "session_ids = ['Feb3_','Mar2_'] #,'Apr4_']\n",
    "\n",
    "colors = plt.cm.viridis(np.linspace(0,1,3))\n",
    "#colors=['black','blue','red','magenta']\n",
    "# \n",
    "plt.figure(figsize=(15,10))\n",
    "area_ids = [13, 8, 12, 11]\n",
    "linewidth = 3\n",
    "plot_roi_averages(main_dir,\n",
    "                     animal_id,\n",
    "                     session_ids,\n",
    "                     colors,\n",
    "                     area_ids,\n",
    "                     linewidth)\n",
    "\n",
    "\n"
   ]
  },
  {
   "cell_type": "code",
   "execution_count": 10,
   "metadata": {
    "scrolled": true
   },
   "outputs": [
    {
     "name": "stderr",
     "output_type": "stream",
     "text": [
      "  7%|▋         | 3/44 [00:00<00:02, 19.99it/s]"
     ]
    },
    {
     "name": "stdout",
     "output_type": "stream",
     "text": [
      "# of sessions:  (44,)\n",
      "  # trials  (10, 16, 1801)\n",
      "  # trials  (16, 16, 1801)\n",
      "  # trials  (43, 16, 1801)\n"
     ]
    },
    {
     "name": "stderr",
     "output_type": "stream",
     "text": [
      "\r",
      " 11%|█▏        | 5/44 [00:00<00:03, 11.30it/s]"
     ]
    },
    {
     "name": "stdout",
     "output_type": "stream",
     "text": [
      "  # trials  (47, 16, 1801)\n",
      "  # trials  (52, 16, 1801)\n",
      "file missing /media/cat/4TBSSD/yuki/IJ2/tif_files/IJ2pm_Feb9_30Hz/IJ2pm_Feb9_30Hz_locanmf.npz\n"
     ]
    },
    {
     "name": "stderr",
     "output_type": "stream",
     "text": [
      " 20%|██        | 9/44 [00:00<00:02, 11.98it/s]"
     ]
    },
    {
     "name": "stdout",
     "output_type": "stream",
     "text": [
      "  # trials  (50, 16, 1801)\n",
      "  # trials  (39, 16, 1801)\n",
      "  # trials  (26, 16, 1801)\n",
      "file missing /media/cat/4TBSSD/yuki/IJ2/tif_files/IJ2pm_Feb15_30Hz/IJ2pm_Feb15_30Hz_locanmf.npz\n"
     ]
    },
    {
     "name": "stderr",
     "output_type": "stream",
     "text": [
      " 30%|██▉       | 13/44 [00:00<00:02, 13.61it/s]"
     ]
    },
    {
     "name": "stdout",
     "output_type": "stream",
     "text": [
      "  # trials  (56, 16, 1801)\n",
      "  # trials  (12, 16, 1801)\n",
      "  # trials  (29, 16, 1801)\n"
     ]
    },
    {
     "name": "stderr",
     "output_type": "stream",
     "text": [
      " 41%|████      | 18/44 [00:01<00:01, 16.41it/s]"
     ]
    },
    {
     "name": "stdout",
     "output_type": "stream",
     "text": [
      "  # trials  (38, 16, 1801)\n",
      "file missing /media/cat/4TBSSD/yuki/IJ2/tif_files/IJ2pm_Feb23_30Hz/IJ2pm_Feb23_30Hz_locanmf.npz\n",
      "file missing /media/cat/4TBSSD/yuki/IJ2/tif_files/IJ2pm_Feb24_30Hz/IJ2pm_Feb24_30Hz_locanmf.npz\n",
      "file missing /media/cat/4TBSSD/yuki/IJ2/tif_files/IJ2pm_Feb25_30Hz/IJ2pm_Feb25_30Hz_locanmf.npz\n",
      "  # trials  (64, 16, 1801)\n"
     ]
    },
    {
     "name": "stderr",
     "output_type": "stream",
     "text": [
      "\r",
      " 45%|████▌     | 20/44 [00:01<00:02, 10.03it/s]"
     ]
    },
    {
     "name": "stdout",
     "output_type": "stream",
     "text": [
      "  # trials  (94, 16, 1801)\n",
      "  # trials  (61, 16, 1801)\n"
     ]
    },
    {
     "name": "stderr",
     "output_type": "stream",
     "text": [
      "\r",
      " 50%|█████     | 22/44 [00:01<00:02,  9.34it/s]"
     ]
    },
    {
     "name": "stdout",
     "output_type": "stream",
     "text": [
      "  # trials  (106, 16, 1801)\n",
      "  # trials  (48, 16, 1801)\n"
     ]
    },
    {
     "name": "stderr",
     "output_type": "stream",
     "text": [
      "\r",
      " 55%|█████▍    | 24/44 [00:02<00:01, 10.20it/s]"
     ]
    },
    {
     "name": "stdout",
     "output_type": "stream",
     "text": [
      "  # trials  (34, 16, 1801)\n",
      "  # trials  (21, 16, 1801)\n",
      "  # trials  (50, 16, 1801)\n"
     ]
    },
    {
     "name": "stderr",
     "output_type": "stream",
     "text": [
      "\r",
      " 59%|█████▉    | 26/44 [00:02<00:02,  8.94it/s]"
     ]
    },
    {
     "name": "stdout",
     "output_type": "stream",
     "text": [
      "  # trials  (61, 16, 1801)\n",
      "  # trials  (59, 16, 1801)\n"
     ]
    },
    {
     "name": "stderr",
     "output_type": "stream",
     "text": [
      "\r",
      " 64%|██████▎   | 28/44 [00:02<00:01,  8.83it/s]"
     ]
    },
    {
     "name": "stdout",
     "output_type": "stream",
     "text": [
      "  # trials  (30, 16, 1801)\n",
      "  # trials  (28, 16, 1801)\n",
      "  # trials  (43, 16, 1801)\n"
     ]
    },
    {
     "name": "stderr",
     "output_type": "stream",
     "text": [
      " 73%|███████▎  | 32/44 [00:02<00:01,  9.67it/s]"
     ]
    },
    {
     "name": "stdout",
     "output_type": "stream",
     "text": [
      "  # trials  (22, 16, 1801)\n",
      "  # trials  (44, 16, 1801)\n",
      "  # trials  (39, 16, 1801)\n",
      "  # trials  (74, 16, 1801)\n"
     ]
    },
    {
     "name": "stderr",
     "output_type": "stream",
     "text": [
      " 82%|████████▏ | 36/44 [00:03<00:00,  8.82it/s]"
     ]
    },
    {
     "name": "stdout",
     "output_type": "stream",
     "text": [
      "  # trials  (33, 16, 1801)\n",
      "  # trials  (43, 16, 1801)\n"
     ]
    },
    {
     "name": "stderr",
     "output_type": "stream",
     "text": [
      " 86%|████████▋ | 38/44 [00:03<00:00,  7.96it/s]"
     ]
    },
    {
     "name": "stdout",
     "output_type": "stream",
     "text": [
      "  # trials  (50, 16, 1801)\n",
      "  # trials  (64, 16, 1801)\n"
     ]
    },
    {
     "name": "stderr",
     "output_type": "stream",
     "text": [
      "\r",
      " 91%|█████████ | 40/44 [00:04<00:00,  7.92it/s]"
     ]
    },
    {
     "name": "stdout",
     "output_type": "stream",
     "text": [
      "  # trials  (33, 16, 1801)\n",
      "  # trials  (65, 16, 1801)\n"
     ]
    },
    {
     "name": "stderr",
     "output_type": "stream",
     "text": [
      " 95%|█████████▌| 42/44 [00:04<00:00,  6.99it/s]"
     ]
    },
    {
     "name": "stdout",
     "output_type": "stream",
     "text": [
      "  # trials  (82, 16, 1801)\n",
      "  # trials  (58, 16, 1801)\n"
     ]
    },
    {
     "name": "stderr",
     "output_type": "stream",
     "text": [
      "100%|██████████| 44/44 [00:04<00:00,  9.52it/s]"
     ]
    },
    {
     "name": "stdout",
     "output_type": "stream",
     "text": [
      "  # trials  (37, 16, 1801)\n",
      "  # trials  (60, 16, 1801)\n",
      "# good sessions:  39\n"
     ]
    },
    {
     "name": "stderr",
     "output_type": "stream",
     "text": [
      "\n"
     ]
    }
   ],
   "source": [
    "####################################################################\n",
    "###### LOAD MEAN AND VARIANCE FOR EACH SESSION ROI ACTIVITY ########\n",
    "####################################################################\n",
    "#\n",
    "animal_id = 'IJ2'\n",
    "session_name = 'all'\n",
    "root_dir = '/media/cat/4TBSSD/yuki/'\n",
    "\n",
    "# \n",
    "loca = analysis_fig4.LocaNMFClass(root_dir, animal_id, session_name)\n",
    "\n",
    "#\n",
    "loca.get_sessions(session_name)\n",
    "print (\"# of sessions: \", loca.sessions.shape)\n",
    "\n",
    "all_means = []\n",
    "n_trials = []\n",
    "saved_names = []\n",
    "all_means_random = []\n",
    "good_sessions = []\n",
    "all_loca_NMF = []\n",
    "for session in tqdm(loca.sessions):\n",
    "    \n",
    "    # load data\n",
    "    fname_locaNMF = os.path.join(root_dir, animal_id, 'tif_files',session,\n",
    "                                 session + '_locanmf.npz')\n",
    "    atlas, areas, names, locaNMF_temporal, random = load_locaNMF_data(fname_locaNMF)\n",
    "\n",
    "    # \n",
    "    if atlas is not None:\n",
    "        means, var = variance_locaNMF(locaNMF_temporal)\n",
    "        n_trials.append(locaNMF_temporal.shape[0])\n",
    "        all_means.append(means)\n",
    "        \n",
    "        means, var = variance_locaNMF(random)\n",
    "        all_means_random.append(means)\n",
    "                \n",
    "        saved_names = names\n",
    "        good_sessions.append(session)\n",
    "    \n",
    "print (\"# good sessions: \", len(good_sessions))"
   ]
  },
  {
   "cell_type": "code",
   "execution_count": 12,
   "metadata": {},
   "outputs": [],
   "source": [
    "########################################\n",
    "###### PLOT LONGITUDINAL RESULTS #######\n",
    "#########################################\n",
    "# # fig 5F longintudinal power spectra \n",
    "# plot_longitudinal_roi_loca(n_trials, saved_names, all_means)   "
   ]
  },
  {
   "cell_type": "code",
   "execution_count": 16,
   "metadata": {
    "scrolled": true
   },
   "outputs": [
    {
     "name": "stdout",
     "output_type": "stream",
     "text": [
      "['Primary visual area, layer 1 - left'\n",
      " 'Primary somatosensory area, upper limb, layer 1 - left'\n",
      " 'Primary motor area, Layer 1 - left'\n",
      " 'Retrosplenial area, dorsal part, layer 1 - left']\n",
      "max freq:  0.4666666666666667\n",
      "max freq:  0.4666666666666667\n",
      "max freq:  0.4666666666666667\n",
      "max freq:  0.5\n"
     ]
    }
   ],
   "source": [
    "##############################\n",
    "####### POWER SPECTRUM #######\n",
    "##############################\n",
    "\n",
    "# Fig 7b power vs. freq spectra for major regions\n",
    "colors = []\n",
    "colors.append(plt.cm.viridis(np.linspace(0,1,len(all_means))))\n",
    "colors.append(plt.cm.viridis(np.linspace(0,1,len(all_means))))\n",
    "colors.append(plt.cm.viridis(np.linspace(0,1,len(all_means))))\n",
    "#colors.append(plt.cm.Blues(np.linspace(0,1,len(all_means))))\n",
    "\n",
    "# \n",
    "fs = 30\n",
    "plotting=True\n",
    "selected_areas = [11,9,1,15]\n",
    "print (saved_names[selected_areas])\n",
    "all_areas = np.arange(all_means[0].shape[0])\n",
    "\n",
    "#\n",
    "spectra = plot_spectra_longintudinally(colors, plotting, \n",
    "                                       fs, \n",
    "                                       selected_areas, \n",
    "                                       all_areas,\n",
    "                                       all_means,\n",
    "                                       all_means_random)\n",
    "\n",
    "#\n"
   ]
  },
  {
   "cell_type": "code",
   "execution_count": 252,
   "metadata": {
    "scrolled": true
   },
   "outputs": [
    {
     "name": "stderr",
     "output_type": "stream",
     "text": [
      "  6%|▌         | 4/71 [00:00<00:01, 39.79it/s]"
     ]
    },
    {
     "name": "stdout",
     "output_type": "stream",
     "text": [
      "# of sessions:  (71,)\n",
      "file missing /media/cat/4TBSSD/yuki/IA1/tif_files/IA1pm_Feb1_30Hz/IA1pm_Feb1_30Hz_locanmf.npz\n",
      "  # trials  (23, 16, 1801)\n",
      "  # trials  (58, 16, 1801)\n",
      "file missing /media/cat/4TBSSD/yuki/IA1/tif_files/IA1pm_Feb4_30Hz/IA1pm_Feb4_30Hz_locanmf.npz\n",
      "file missing /media/cat/4TBSSD/yuki/IA1/tif_files/IA1pm_Feb5_30Hz/IA1pm_Feb5_30Hz_locanmf.npz\n",
      "  # trials  (51, 16, 1801)\n",
      "  # trials  (13, 16, 1801)\n"
     ]
    },
    {
     "name": "stderr",
     "output_type": "stream",
     "text": [
      " 17%|█▋        | 12/71 [00:00<00:01, 33.05it/s]"
     ]
    },
    {
     "name": "stdout",
     "output_type": "stream",
     "text": [
      "  # trials  (38, 16, 1801)\n",
      "file missing /media/cat/4TBSSD/yuki/IA1/tif_files/IA1pm_Feb12_30Hz/IA1pm_Feb12_30Hz_locanmf.npz\n",
      "  # trials  (18, 16, 1801)\n",
      "  # trials  (40, 16, 1801)\n",
      "  # trials  (36, 16, 1801)\n",
      "  # trials  (14, 16, 1801)\n"
     ]
    },
    {
     "name": "stderr",
     "output_type": "stream",
     "text": [
      "\r",
      " 23%|██▎       | 16/71 [00:00<00:02, 26.99it/s]"
     ]
    },
    {
     "name": "stdout",
     "output_type": "stream",
     "text": [
      "  # trials  (72, 16, 1801)\n",
      "file missing /media/cat/4TBSSD/yuki/IA1/tif_files/IA1pm_Feb22_30Hz/IA1pm_Feb22_30Hz_locanmf.npz\n",
      "  # trials  (76, 16, 1801)\n",
      "file missing /media/cat/4TBSSD/yuki/IA1/tif_files/IA1pm_Feb24_30Hz/IA1pm_Feb24_30Hz_locanmf.npz\n",
      "file missing /media/cat/4TBSSD/yuki/IA1/tif_files/IA1pm_Feb25_30Hz/IA1pm_Feb25_30Hz_locanmf.npz\n",
      "  # trials  (11, 16, 1801)\n",
      "  # trials  (29, 16, 1801)\n",
      "file missing /media/cat/4TBSSD/yuki/IA1/tif_files/IA1pm_Mar1_30Hz/IA1pm_Mar1_30Hz_locanmf.npz\n",
      "  # trials  (36, 16, 1801)\n"
     ]
    },
    {
     "name": "stderr",
     "output_type": "stream",
     "text": [
      " 37%|███▋      | 26/71 [00:00<00:01, 36.03it/s]"
     ]
    },
    {
     "name": "stdout",
     "output_type": "stream",
     "text": [
      "  # trials  (24, 16, 1801)\n",
      "  # trials  (32, 16, 1801)\n",
      "  # trials  (20, 16, 1801)\n",
      "file missing /media/cat/4TBSSD/yuki/IA1/tif_files/IA1pm_Mar8_30Hz/IA1pm_Mar8_30Hz_locanmf.npz\n",
      "  # trials  (23, 16, 1801)\n",
      "  # trials  (24, 16, 1801)\n",
      "  # trials  (23, 16, 1801)\n"
     ]
    },
    {
     "name": "stderr",
     "output_type": "stream",
     "text": [
      " 49%|████▉     | 35/71 [00:01<00:00, 36.88it/s]"
     ]
    },
    {
     "name": "stdout",
     "output_type": "stream",
     "text": [
      "  # trials  (44, 16, 1801)\n",
      "  # trials  (25, 16, 1801)\n",
      "file missing /media/cat/4TBSSD/yuki/IA1/tif_files/IA1pm_Mar16_30Hz/IA1pm_Mar16_30Hz_locanmf.npz\n",
      "  # trials  (13, 16, 1801)\n",
      "  # trials  (16, 16, 1801)\n",
      "  # trials  (13, 16, 1801)\n",
      "file missing /media/cat/4TBSSD/yuki/IA1/tif_files/IA1pm_Mar22_30Hz/IA1pm_Mar22_30Hz_locanmf.npz\n",
      "  # trials  (12, 16, 1801)\n",
      "  # trials  (11, 16, 1801)\n",
      "  # trials  (20, 16, 1801)\n",
      "  # trials  (13, 16, 1801)\n"
     ]
    },
    {
     "name": "stderr",
     "output_type": "stream",
     "text": [
      " 69%|██████▉   | 49/71 [00:01<00:00, 48.68it/s]"
     ]
    },
    {
     "name": "stdout",
     "output_type": "stream",
     "text": [
      "  # trials  (12, 16, 1801)\n",
      "  # trials  (11, 16, 1801)\n",
      "file missing /media/cat/4TBSSD/yuki/IA1/tif_files/IA1pm_Apr4_30Hz/IA1pm_Apr4_30Hz_locanmf.npz\n",
      "file missing /media/cat/4TBSSD/yuki/IA1/tif_files/IA1pm_Apr5_30Hz/IA1pm_Apr5_30Hz_locanmf.npz\n",
      "  # trials  (17, 16, 1801)\n",
      "  # trials  (10, 16, 1801)\n",
      "file missing /media/cat/4TBSSD/yuki/IA1/tif_files/IA1pm_Apr11_Day3_30Hz/IA1pm_Apr11_Day3_30Hz_locanmf.npz\n",
      "  # trials  (25, 16, 1801)\n",
      "  # trials  (20, 16, 1801)\n",
      "  # trials  (14, 16, 1801)\n",
      "  # trials  (18, 16, 1801)\n",
      "  # trials  (16, 16, 1801)\n"
     ]
    },
    {
     "name": "stderr",
     "output_type": "stream",
     "text": [
      " 83%|████████▎ | 59/71 [00:01<00:00, 42.12it/s]"
     ]
    },
    {
     "name": "stdout",
     "output_type": "stream",
     "text": [
      "  # trials  (39, 16, 1801)\n",
      "file missing /media/cat/4TBSSD/yuki/IA1/tif_files/IA1pm_Apr22_Week2_30Hz/IA1pm_Apr22_Week2_30Hz_locanmf.npz\n",
      "  # trials  (37, 16, 1801)\n",
      "  # trials  (23, 16, 1801)\n",
      "  # trials  (17, 16, 1801)\n",
      "  # trials  (13, 16, 1801)\n",
      "  # trials  (13, 16, 1801)\n",
      "file missing /media/cat/4TBSSD/yuki/IA1/tif_files/IA1am_May2_Week4_30Hz/IA1am_May2_Week4_30Hz_locanmf.npz\n",
      "  # trials  (28, 16, 1801)\n"
     ]
    },
    {
     "name": "stderr",
     "output_type": "stream",
     "text": [
      " 97%|█████████▋| 69/71 [00:01<00:00, 42.07it/s]"
     ]
    },
    {
     "name": "stdout",
     "output_type": "stream",
     "text": [
      "  # trials  (11, 16, 1801)\n",
      "  # trials  (22, 16, 1801)\n",
      "  # trials  (23, 16, 1801)\n",
      "  # trials  (22, 16, 1801)\n",
      "  # trials  (39, 16, 1801)\n",
      "file missing /media/cat/4TBSSD/yuki/IA1/tif_files/IA1am_May13_Week5_30Hz/IA1am_May13_Week5_30Hz_locanmf.npz\n",
      "file missing /media/cat/4TBSSD/yuki/IA1/tif_files/IA1am_May16_Week6_30Hz/IA1am_May16_Week6_30Hz_locanmf.npz\n",
      "  # trials  (29, 16, 1801)\n"
     ]
    },
    {
     "name": "stderr",
     "output_type": "stream",
     "text": [
      "100%|██████████| 71/71 [00:01<00:00, 39.39it/s]\n"
     ]
    },
    {
     "name": "stdout",
     "output_type": "stream",
     "text": [
      "  # trials  (16, 16, 1801)\n",
      "  # trials  (10, 16, 1801)\n",
      "# good sessions:  53\n",
      "['Primary visual area, layer 1 - left'\n",
      " 'Primary somatosensory area, upper limb, layer 1 - left'\n",
      " 'Primary motor area, Layer 1 - left'\n",
      " 'Retrosplenial area, dorsal part, layer 1 - left']\n",
      "(53, 4, 451)\n"
     ]
    },
    {
     "name": "stderr",
     "output_type": "stream",
     "text": [
      "  9%|▉         | 4/44 [00:00<00:01, 27.43it/s]"
     ]
    },
    {
     "name": "stdout",
     "output_type": "stream",
     "text": [
      "0 V1L  y shape:  (53,)\n",
      "0 corr (0.19437445256470293, 0.16311624941860392)\n",
      "1 SomFL  y shape:  (53,)\n",
      "1 corr (0.6079676302981403, 1.3768762096576255e-06)\n",
      "2 M1L  y shape:  (53,)\n",
      "2 corr (0.5394733205882425, 3.068433243245289e-05)\n",
      "3 RDL  y shape:  (53,)\n",
      "3 corr (0.5118274742448632, 8.95653628143738e-05)\n",
      "# of sessions:  (44,)\n",
      "file missing /media/cat/4TBSSD/yuki/IA2/tif_files/IA2pm_Feb1_30Hz/IA2pm_Feb1_30Hz_locanmf.npz\n",
      "file missing /media/cat/4TBSSD/yuki/IA2/tif_files/IA2pm_Feb2_30Hz/IA2pm_Feb2_30Hz_locanmf.npz\n",
      "  # trials  (37, 16, 1801)\n",
      "  # trials  (88, 16, 1801)\n"
     ]
    },
    {
     "name": "stderr",
     "output_type": "stream",
     "text": [
      " 30%|██▉       | 13/44 [00:00<00:00, 33.12it/s]"
     ]
    },
    {
     "name": "stdout",
     "output_type": "stream",
     "text": [
      "  # trials  (67, 16, 1801)\n",
      "file missing /media/cat/4TBSSD/yuki/IA2/tif_files/IA2pm_Feb9_30Hz/IA2pm_Feb9_30Hz_locanmf.npz\n",
      "file missing /media/cat/4TBSSD/yuki/IA2/tif_files/IA2pm_Feb10_30Hz/IA2pm_Feb10_30Hz_locanmf.npz\n",
      "file missing /media/cat/4TBSSD/yuki/IA2/tif_files/IA2pm_Feb11_30Hz/IA2pm_Feb11_30Hz_locanmf.npz\n",
      "  # trials  (19, 16, 1801)\n",
      "file missing /media/cat/4TBSSD/yuki/IA2/tif_files/IA2pm_Feb15_30Hz/IA2pm_Feb15_30Hz_locanmf.npz\n",
      "  # trials  (48, 16, 1801)\n",
      "  # trials  (24, 16, 1801)\n",
      "  # trials  (45, 16, 1801)\n"
     ]
    },
    {
     "name": "stderr",
     "output_type": "stream",
     "text": [
      "\r",
      " 39%|███▊      | 17/44 [00:00<00:00, 32.36it/s]"
     ]
    },
    {
     "name": "stdout",
     "output_type": "stream",
     "text": [
      "  # trials  (67, 16, 1801)\n",
      "  # trials  (42, 16, 1801)\n",
      "file missing /media/cat/4TBSSD/yuki/IA2/tif_files/IA2pm_Feb23_30Hz/IA2pm_Feb23_30Hz_locanmf.npz\n",
      "file missing /media/cat/4TBSSD/yuki/IA2/tif_files/IA2pm_Feb24_30Hz/IA2pm_Feb24_30Hz_locanmf.npz\n",
      "file missing /media/cat/4TBSSD/yuki/IA2/tif_files/IA2pm_Feb25_30Hz/IA2pm_Feb25_30Hz_locanmf.npz\n",
      "  # trials  (31, 16, 1801)\n",
      "  # trials  (59, 16, 1801)\n",
      "  # trials  (21, 16, 1801)\n"
     ]
    },
    {
     "name": "stderr",
     "output_type": "stream",
     "text": [
      " 66%|██████▌   | 29/44 [00:00<00:00, 31.81it/s]"
     ]
    },
    {
     "name": "stdout",
     "output_type": "stream",
     "text": [
      "  # trials  (63, 16, 1801)\n",
      "file missing /media/cat/4TBSSD/yuki/IA2/tif_files/IA2pm_Mar3_30Hz/IA2pm_Mar3_30Hz_locanmf.npz\n",
      "  # trials  (32, 16, 1801)\n",
      "file missing /media/cat/4TBSSD/yuki/IA2/tif_files/IA2am_Mar7_30Hz/IA2am_Mar7_30Hz_locanmf.npz\n",
      "  # trials  (13, 16, 1801)\n",
      "  # trials  (12, 16, 1801)\n",
      "file missing /media/cat/4TBSSD/yuki/IA2/tif_files/IA2am_Mar10_30Hz/IA2am_Mar10_30Hz_locanmf.npz\n",
      "  # trials  (79, 16, 1801)\n",
      "  # trials  (87, 16, 1801)\n",
      "  # trials  (63, 16, 1801)\n",
      "  # trials  (98, 16, 1801)\n"
     ]
    },
    {
     "name": "stderr",
     "output_type": "stream",
     "text": [
      "\r",
      " 75%|███████▌  | 33/44 [00:01<00:00, 20.05it/s]"
     ]
    },
    {
     "name": "stdout",
     "output_type": "stream",
     "text": [
      "  # trials  (82, 16, 1801)\n",
      "  # trials  (61, 16, 1801)\n",
      "  # trials  (49, 16, 1801)\n"
     ]
    },
    {
     "name": "stderr",
     "output_type": "stream",
     "text": [
      " 91%|█████████ | 40/44 [00:01<00:00, 19.90it/s]"
     ]
    },
    {
     "name": "stdout",
     "output_type": "stream",
     "text": [
      "  # trials  (67, 16, 1801)\n",
      "  # trials  (45, 16, 1801)\n",
      "file missing /media/cat/4TBSSD/yuki/IA2/tif_files/IA2pm_Mar29_30Hz/IA2pm_Mar29_30Hz_locanmf.npz\n",
      "  # trials  (35, 16, 1801)\n",
      "  # trials  (62, 16, 1801)\n"
     ]
    },
    {
     "name": "stderr",
     "output_type": "stream",
     "text": [
      "100%|██████████| 44/44 [00:01<00:00, 23.60it/s]"
     ]
    },
    {
     "name": "stdout",
     "output_type": "stream",
     "text": [
      "  # trials  (85, 16, 1801)\n",
      "  # trials  (28, 16, 1801)\n",
      "  # trials  (22, 16, 1801)\n",
      "  # trials  (62, 16, 1801)\n",
      "# good sessions:  31\n",
      "['Primary visual area, layer 1 - left'\n",
      " 'Primary somatosensory area, upper limb, layer 1 - left'\n",
      " 'Primary motor area, Layer 1 - left'\n",
      " 'Retrosplenial area, dorsal part, layer 1 - left']\n"
     ]
    },
    {
     "name": "stderr",
     "output_type": "stream",
     "text": [
      "\n"
     ]
    },
    {
     "name": "stdout",
     "output_type": "stream",
     "text": [
      "(31, 4, 451)\n",
      "0 V1L  y shape:  (31,)\n"
     ]
    },
    {
     "name": "stderr",
     "output_type": "stream",
     "text": [
      "  5%|▍         | 2/44 [00:00<00:02, 18.20it/s]"
     ]
    },
    {
     "name": "stdout",
     "output_type": "stream",
     "text": [
      "0 corr (-0.2981575004119056, 0.10328140051384245)\n",
      "1 SomFL  y shape:  (31,)\n",
      "1 corr (-0.5561719296807195, 0.0011588332313313778)\n",
      "2 M1L  y shape:  (31,)\n",
      "2 corr (-0.6879678949224832, 1.8951364177999577e-05)\n",
      "3 RDL  y shape:  (31,)\n",
      "3 corr (-0.5340621645746129, 0.0019713759242949856)\n",
      "# of sessions:  (44,)\n",
      "  # trials  (28, 16, 1801)\n",
      "  # trials  (65, 16, 1801)\n"
     ]
    },
    {
     "name": "stderr",
     "output_type": "stream",
     "text": [
      "\r",
      "  9%|▉         | 4/44 [00:00<00:02, 13.96it/s]"
     ]
    },
    {
     "name": "stdout",
     "output_type": "stream",
     "text": [
      "  # trials  (91, 16, 1801)\n",
      "  # trials  (53, 16, 1801)\n",
      "  # trials  (11, 16, 1801)\n",
      "file missing /media/cat/4TBSSD/yuki/IA3/tif_files/IA3pm_Feb10_30Hz/IA3pm_Feb10_30Hz_locanmf.npz\n",
      "  # trials  (13, 16, 1801)\n",
      "  # trials  (82, 16, 1801)\n"
     ]
    },
    {
     "name": "stderr",
     "output_type": "stream",
     "text": [
      " 25%|██▌       | 11/44 [00:00<00:01, 18.54it/s]"
     ]
    },
    {
     "name": "stdout",
     "output_type": "stream",
     "text": [
      "  # trials  (48, 16, 1801)\n",
      "  # trials  (66, 16, 1801)\n",
      "  # trials  (49, 16, 1801)\n",
      "  # trials  (38, 16, 1801)\n"
     ]
    },
    {
     "name": "stderr",
     "output_type": "stream",
     "text": [
      " 43%|████▎     | 19/44 [00:00<00:00, 25.07it/s]"
     ]
    },
    {
     "name": "stdout",
     "output_type": "stream",
     "text": [
      "  # trials  (30, 16, 1801)\n",
      "  # trials  (24, 16, 1801)\n",
      "  # trials  (11, 16, 1801)\n",
      "file missing /media/cat/4TBSSD/yuki/IA3/tif_files/IA3pm_Feb24_30Hz/IA3pm_Feb24_30Hz_locanmf.npz\n",
      "file missing /media/cat/4TBSSD/yuki/IA3/tif_files/IA3pm_Feb25_30Hz/IA3pm_Feb25_30Hz_locanmf.npz\n",
      "  # trials  (65, 16, 1801)\n",
      "  # trials  (46, 16, 1801)\n"
     ]
    },
    {
     "name": "stderr",
     "output_type": "stream",
     "text": [
      "\r",
      " 50%|█████     | 22/44 [00:01<00:00, 24.30it/s]"
     ]
    },
    {
     "name": "stdout",
     "output_type": "stream",
     "text": [
      "  # trials  (23, 16, 1801)\n",
      "  # trials  (33, 16, 1801)\n",
      "  # trials  (51, 16, 1801)\n",
      "  # trials  (38, 16, 1801)\n",
      "  # trials  (34, 16, 1801)\n"
     ]
    },
    {
     "name": "stderr",
     "output_type": "stream",
     "text": [
      " 64%|██████▎   | 28/44 [00:01<00:00, 21.43it/s]"
     ]
    },
    {
     "name": "stdout",
     "output_type": "stream",
     "text": [
      "  # trials  (40, 16, 1801)\n",
      "  # trials  (65, 16, 1801)\n",
      "  # trials  (55, 16, 1801)\n",
      "  # trials  (22, 16, 1801)\n"
     ]
    },
    {
     "name": "stderr",
     "output_type": "stream",
     "text": [
      "\r",
      " 70%|███████   | 31/44 [00:01<00:00, 20.43it/s]"
     ]
    },
    {
     "name": "stdout",
     "output_type": "stream",
     "text": [
      "  # trials  (34, 16, 1801)\n",
      "  # trials  (47, 16, 1801)\n",
      "  # trials  (56, 16, 1801)\n",
      "  # trials  (80, 16, 1801)\n"
     ]
    },
    {
     "name": "stderr",
     "output_type": "stream",
     "text": [
      "\r",
      " 77%|███████▋  | 34/44 [00:01<00:00, 15.35it/s]"
     ]
    },
    {
     "name": "stdout",
     "output_type": "stream",
     "text": [
      "  # trials  (106, 16, 1801)\n",
      "  # trials  (99, 16, 1801)\n"
     ]
    },
    {
     "name": "stderr",
     "output_type": "stream",
     "text": [
      "\r",
      " 82%|████████▏ | 36/44 [00:02<00:00, 12.67it/s]"
     ]
    },
    {
     "name": "stdout",
     "output_type": "stream",
     "text": [
      "  # trials  (108, 16, 1801)\n",
      "  # trials  (130, 16, 1801)\n"
     ]
    },
    {
     "name": "stderr",
     "output_type": "stream",
     "text": [
      "\r",
      " 86%|████████▋ | 38/44 [00:02<00:00, 12.72it/s]"
     ]
    },
    {
     "name": "stdout",
     "output_type": "stream",
     "text": [
      "  # trials  (88, 16, 1801)\n",
      "  # trials  (48, 16, 1801)\n",
      "  # trials  (95, 16, 1801)\n"
     ]
    },
    {
     "name": "stderr",
     "output_type": "stream",
     "text": [
      "\r",
      " 91%|█████████ | 40/44 [00:02<00:00, 12.13it/s]"
     ]
    },
    {
     "name": "stdout",
     "output_type": "stream",
     "text": [
      "  # trials  (75, 16, 1801)\n",
      "  # trials  (63, 16, 1801)\n",
      "  # trials  (117, 16, 1801)\n"
     ]
    },
    {
     "name": "stderr",
     "output_type": "stream",
     "text": [
      "100%|██████████| 44/44 [00:02<00:00, 15.93it/s]\n"
     ]
    },
    {
     "name": "stdout",
     "output_type": "stream",
     "text": [
      "  # trials  (67, 16, 1801)\n",
      "  # trials  (104, 16, 1801)\n",
      "# good sessions:  41\n",
      "['Primary visual area, layer 1 - left'\n",
      " 'Primary somatosensory area, upper limb, layer 1 - left'\n",
      " 'Primary motor area, Layer 1 - left'\n",
      " 'Retrosplenial area, dorsal part, layer 1 - left']\n",
      "(41, 4, 451)\n"
     ]
    },
    {
     "name": "stderr",
     "output_type": "stream",
     "text": [
      "  7%|▋         | 3/44 [00:00<00:01, 20.58it/s]"
     ]
    },
    {
     "name": "stdout",
     "output_type": "stream",
     "text": [
      "0 V1L  y shape:  (41,)\n",
      "0 corr (-0.21576947997994214, 0.17545107856797146)\n",
      "1 SomFL  y shape:  (41,)\n",
      "1 corr (-0.18245778154863068, 0.2535430168875494)\n",
      "2 M1L  y shape:  (41,)\n",
      "2 corr (-0.16862557229687303, 0.29192432847158684)\n",
      "3 RDL  y shape:  (41,)\n",
      "3 corr (-0.09937351108289118, 0.5364723617416676)\n",
      "# of sessions:  (44,)\n",
      "  # trials  (29, 16, 1801)\n",
      "  # trials  (31, 16, 1801)\n",
      "  # trials  (43, 16, 1801)\n"
     ]
    },
    {
     "name": "stderr",
     "output_type": "stream",
     "text": [
      "\r",
      " 14%|█▎        | 6/44 [00:00<00:02, 18.43it/s]"
     ]
    },
    {
     "name": "stdout",
     "output_type": "stream",
     "text": [
      "  # trials  (38, 16, 1801)\n",
      "  # trials  (44, 16, 1801)\n",
      "  # trials  (43, 16, 1801)\n",
      "  # trials  (54, 16, 1801)\n"
     ]
    },
    {
     "name": "stderr",
     "output_type": "stream",
     "text": [
      " 23%|██▎       | 10/44 [00:00<00:02, 16.18it/s]"
     ]
    },
    {
     "name": "stdout",
     "output_type": "stream",
     "text": [
      "  # trials  (49, 16, 1801)\n",
      "  # trials  (56, 16, 1801)\n",
      "  # trials  (31, 16, 1801)\n",
      "  # trials  (56, 16, 1801)\n"
     ]
    },
    {
     "name": "stderr",
     "output_type": "stream",
     "text": [
      " 34%|███▍      | 15/44 [00:00<00:01, 16.99it/s]"
     ]
    },
    {
     "name": "stdout",
     "output_type": "stream",
     "text": [
      "  # trials  (27, 16, 1801)\n",
      "  # trials  (44, 16, 1801)\n",
      "  # trials  (26, 16, 1801)\n",
      "  # trials  (82, 16, 1801)\n",
      "file missing /media/cat/4TBSSD/yuki/IJ1/tif_files/IJ1pm_Feb24_30Hz/IJ1pm_Feb24_30Hz_locanmf.npz\n",
      "file missing /media/cat/4TBSSD/yuki/IJ1/tif_files/IJ1pm_Feb25_30Hz/IJ1pm_Feb25_30Hz_locanmf.npz\n"
     ]
    },
    {
     "name": "stderr",
     "output_type": "stream",
     "text": [
      "\r",
      " 43%|████▎     | 19/44 [00:01<00:01, 20.76it/s]"
     ]
    },
    {
     "name": "stdout",
     "output_type": "stream",
     "text": [
      "  # trials  (46, 16, 1801)\n",
      "  # trials  (73, 16, 1801)\n",
      "  # trials  (16, 16, 1801)\n",
      "  # trials  (61, 16, 1801)\n"
     ]
    },
    {
     "name": "stderr",
     "output_type": "stream",
     "text": [
      "\r",
      " 50%|█████     | 22/44 [00:01<00:01, 17.35it/s]"
     ]
    },
    {
     "name": "stdout",
     "output_type": "stream",
     "text": [
      "  # trials  (132, 16, 1801)\n",
      "  # trials  (114, 16, 1801)\n",
      "  # trials  (42, 16, 1801)\n"
     ]
    },
    {
     "name": "stderr",
     "output_type": "stream",
     "text": [
      " 66%|██████▌   | 29/44 [00:01<00:00, 20.81it/s]"
     ]
    },
    {
     "name": "stdout",
     "output_type": "stream",
     "text": [
      "file missing /media/cat/4TBSSD/yuki/IJ1/tif_files/IJ1am_Mar9_30Hz/IJ1am_Mar9_30Hz_locanmf.npz\n",
      "  # trials  (37, 16, 1801)\n",
      "  # trials  (18, 16, 1801)\n",
      "  # trials  (10, 16, 1801)\n",
      "  # trials  (44, 16, 1801)\n",
      "  # trials  (32, 16, 1801)\n",
      "  # trials  (21, 16, 1801)\n"
     ]
    },
    {
     "name": "stderr",
     "output_type": "stream",
     "text": [
      " 82%|████████▏ | 36/44 [00:01<00:00, 25.55it/s]"
     ]
    },
    {
     "name": "stdout",
     "output_type": "stream",
     "text": [
      "  # trials  (42, 16, 1801)\n",
      "  # trials  (12, 16, 1801)\n",
      "  # trials  (19, 16, 1801)\n",
      "  # trials  (20, 16, 1801)\n",
      "  # trials  (21, 16, 1801)\n",
      "  # trials  (19, 16, 1801)\n",
      "  # trials  (41, 16, 1801)\n"
     ]
    },
    {
     "name": "stderr",
     "output_type": "stream",
     "text": [
      "100%|██████████| 44/44 [00:02<00:00, 21.30it/s]"
     ]
    },
    {
     "name": "stdout",
     "output_type": "stream",
     "text": [
      "  # trials  (47, 16, 1801)\n",
      "  # trials  (16, 16, 1801)\n",
      "  # trials  (27, 16, 1801)\n",
      "  # trials  (37, 16, 1801)\n",
      "  # trials  (26, 16, 1801)\n",
      "file missing /media/cat/4TBSSD/yuki/IJ1/tif_files/IJ1pm_Apr7_30Hz/IJ1pm_Apr7_30Hz_locanmf.npz\n",
      "# good sessions:  40\n",
      "['Primary visual area, layer 1 - left'\n",
      " 'Primary somatosensory area, upper limb, layer 1 - left'\n",
      " 'Primary motor area, Layer 1 - left'\n",
      " 'Retrosplenial area, dorsal part, layer 1 - left']\n"
     ]
    },
    {
     "name": "stderr",
     "output_type": "stream",
     "text": [
      "\n"
     ]
    },
    {
     "name": "stdout",
     "output_type": "stream",
     "text": [
      "(40, 4, 451)\n"
     ]
    },
    {
     "name": "stderr",
     "output_type": "stream",
     "text": [
      "  9%|▉         | 4/44 [00:00<00:01, 26.10it/s]"
     ]
    },
    {
     "name": "stdout",
     "output_type": "stream",
     "text": [
      "0 V1L  y shape:  (40,)\n",
      "0 corr (0.31869689220644126, 0.0450375711188844)\n",
      "1 SomFL  y shape:  (40,)\n",
      "1 corr (0.187851779324123, 0.2457336372579979)\n",
      "2 M1L  y shape:  (40,)\n",
      "2 corr (0.26954232900695135, 0.09257479788117409)\n",
      "3 RDL  y shape:  (40,)\n",
      "3 corr (0.10265599662043433, 0.5284757929772151)\n",
      "# of sessions:  (44,)\n",
      "  # trials  (10, 16, 1801)\n",
      "  # trials  (16, 16, 1801)\n",
      "  # trials  (43, 16, 1801)\n",
      "  # trials  (47, 16, 1801)\n"
     ]
    },
    {
     "name": "stderr",
     "output_type": "stream",
     "text": [
      "\r",
      " 16%|█▌        | 7/44 [00:00<00:01, 25.06it/s]"
     ]
    },
    {
     "name": "stdout",
     "output_type": "stream",
     "text": [
      "  # trials  (52, 16, 1801)\n",
      "file missing /media/cat/4TBSSD/yuki/IJ2/tif_files/IJ2pm_Feb9_30Hz/IJ2pm_Feb9_30Hz_locanmf.npz\n",
      "  # trials  (50, 16, 1801)\n",
      "  # trials  (39, 16, 1801)\n",
      "  # trials  (26, 16, 1801)\n",
      "file missing /media/cat/4TBSSD/yuki/IJ2/tif_files/IJ2pm_Feb15_30Hz/IJ2pm_Feb15_30Hz_locanmf.npz\n"
     ]
    },
    {
     "name": "stderr",
     "output_type": "stream",
     "text": [
      " 32%|███▏      | 14/44 [00:00<00:01, 26.52it/s]"
     ]
    },
    {
     "name": "stdout",
     "output_type": "stream",
     "text": [
      "  # trials  (56, 16, 1801)\n",
      "  # trials  (12, 16, 1801)\n",
      "  # trials  (29, 16, 1801)\n",
      "  # trials  (38, 16, 1801)\n",
      "file missing /media/cat/4TBSSD/yuki/IJ2/tif_files/IJ2pm_Feb23_30Hz/IJ2pm_Feb23_30Hz_locanmf.npz\n",
      "file missing /media/cat/4TBSSD/yuki/IJ2/tif_files/IJ2pm_Feb24_30Hz/IJ2pm_Feb24_30Hz_locanmf.npz\n",
      "file missing /media/cat/4TBSSD/yuki/IJ2/tif_files/IJ2pm_Feb25_30Hz/IJ2pm_Feb25_30Hz_locanmf.npz\n",
      "  # trials  (64, 16, 1801)\n"
     ]
    },
    {
     "name": "stderr",
     "output_type": "stream",
     "text": [
      "\r",
      " 43%|████▎     | 19/44 [00:00<00:00, 27.20it/s]"
     ]
    },
    {
     "name": "stdout",
     "output_type": "stream",
     "text": [
      "  # trials  (94, 16, 1801)\n",
      "  # trials  (61, 16, 1801)\n",
      "  # trials  (106, 16, 1801)\n"
     ]
    },
    {
     "name": "stderr",
     "output_type": "stream",
     "text": [
      " 57%|█████▋    | 25/44 [00:01<00:00, 20.87it/s]"
     ]
    },
    {
     "name": "stdout",
     "output_type": "stream",
     "text": [
      "  # trials  (48, 16, 1801)\n",
      "  # trials  (34, 16, 1801)\n",
      "  # trials  (21, 16, 1801)\n",
      "  # trials  (50, 16, 1801)\n"
     ]
    },
    {
     "name": "stderr",
     "output_type": "stream",
     "text": [
      "\r",
      " 64%|██████▎   | 28/44 [00:01<00:00, 19.49it/s]"
     ]
    },
    {
     "name": "stdout",
     "output_type": "stream",
     "text": [
      "  # trials  (61, 16, 1801)\n",
      "  # trials  (59, 16, 1801)\n",
      "  # trials  (30, 16, 1801)\n",
      "  # trials  (28, 16, 1801)\n",
      "  # trials  (43, 16, 1801)\n"
     ]
    },
    {
     "name": "stderr",
     "output_type": "stream",
     "text": [
      " 77%|███████▋  | 34/44 [00:01<00:00, 19.31it/s]"
     ]
    },
    {
     "name": "stdout",
     "output_type": "stream",
     "text": [
      "  # trials  (22, 16, 1801)\n",
      "  # trials  (44, 16, 1801)\n",
      "  # trials  (39, 16, 1801)\n",
      "  # trials  (74, 16, 1801)\n"
     ]
    },
    {
     "name": "stderr",
     "output_type": "stream",
     "text": [
      "\r",
      " 84%|████████▍ | 37/44 [00:01<00:00, 19.39it/s]"
     ]
    },
    {
     "name": "stdout",
     "output_type": "stream",
     "text": [
      "  # trials  (33, 16, 1801)\n",
      "  # trials  (43, 16, 1801)\n",
      "  # trials  (50, 16, 1801)\n",
      "  # trials  (64, 16, 1801)\n"
     ]
    },
    {
     "name": "stderr",
     "output_type": "stream",
     "text": [
      "\r",
      " 91%|█████████ | 40/44 [00:01<00:00, 18.22it/s]"
     ]
    },
    {
     "name": "stdout",
     "output_type": "stream",
     "text": [
      "  # trials  (33, 16, 1801)\n",
      "  # trials  (65, 16, 1801)\n",
      "  # trials  (82, 16, 1801)\n"
     ]
    },
    {
     "name": "stderr",
     "output_type": "stream",
     "text": [
      "100%|██████████| 44/44 [00:02<00:00, 20.08it/s]"
     ]
    },
    {
     "name": "stdout",
     "output_type": "stream",
     "text": [
      "  # trials  (58, 16, 1801)\n",
      "  # trials  (37, 16, 1801)\n",
      "  # trials  (60, 16, 1801)\n",
      "# good sessions:  39\n",
      "['Primary visual area, layer 1 - left'\n",
      " 'Primary somatosensory area, upper limb, layer 1 - left'\n",
      " 'Primary motor area, Layer 1 - left'\n",
      " 'Retrosplenial area, dorsal part, layer 1 - left']\n"
     ]
    },
    {
     "name": "stderr",
     "output_type": "stream",
     "text": [
      "\n"
     ]
    },
    {
     "name": "stdout",
     "output_type": "stream",
     "text": [
      "(39, 4, 451)\n",
      "0 V1L  y shape:  (39,)\n",
      "0 corr (0.3550264067412439, 0.026567838607618854)\n",
      "1 SomFL  y shape:  (39,)\n",
      "1 corr (0.2983009596479717, 0.06510676129250421)\n",
      "2 M1L  y shape:  (39,)\n",
      "2 corr "
     ]
    },
    {
     "name": "stderr",
     "output_type": "stream",
     "text": [
      " 14%|█▎        | 15/110 [00:00<00:00, 121.28it/s]"
     ]
    },
    {
     "name": "stdout",
     "output_type": "stream",
     "text": [
      "(0.31209753599995055, 0.05308149187599243)\n",
      "3 RDL  y shape:  (39,)\n",
      "3 corr (0.11267772629395281, 0.4946335122631921)\n",
      "# of sessions:  (110,)\n",
      "file missing /media/cat/4TBSSD/yuki/AQ2/tif_files/AQ2am_Dec9_30Hz/AQ2am_Dec9_30Hz_locanmf.npz\n",
      "file missing /media/cat/4TBSSD/yuki/AQ2/tif_files/AQ2am_Dec10_30Hz/AQ2am_Dec10_30Hz_locanmf.npz\n",
      "file missing /media/cat/4TBSSD/yuki/AQ2/tif_files/AQ2pm_Dec10_30Hz/AQ2pm_Dec10_30Hz_locanmf.npz\n",
      "file missing /media/cat/4TBSSD/yuki/AQ2/tif_files/AQ2am_Dec11_30Hz/AQ2am_Dec11_30Hz_locanmf.npz\n",
      "  # trials  (9, 16, 1801)\n",
      "file missing /media/cat/4TBSSD/yuki/AQ2/tif_files/AQ2am_Dec14_30Hz/AQ2am_Dec14_30Hz_locanmf.npz\n",
      "  # trials  (26, 16, 1801)\n",
      "  # trials  (21, 16, 1801)\n",
      "file missing /media/cat/4TBSSD/yuki/AQ2/tif_files/AQ2pm_Dec17_30Hz/AQ2pm_Dec17_30Hz_locanmf.npz\n",
      "file missing /media/cat/4TBSSD/yuki/AQ2/tif_files/AQ2am_Dec18_30Hz/AQ2am_Dec18_30Hz_locanmf.npz\n",
      "file missing /media/cat/4TBSSD/yuki/AQ2/tif_files/AQ2pm_Dec18_30Hz/AQ2pm_Dec18_30Hz_locanmf.npz\n",
      "file missing /media/cat/4TBSSD/yuki/AQ2/tif_files/AQ2am_Dec21_30Hz/AQ2am_Dec21_30Hz_locanmf.npz\n",
      "file missing /media/cat/4TBSSD/yuki/AQ2/tif_files/AQ2am_Dec22_30Hz/AQ2am_Dec22_30Hz_locanmf.npz\n",
      "file missing /media/cat/4TBSSD/yuki/AQ2/tif_files/AQ2am_Dec23_30Hz/AQ2am_Dec23_30Hz_locanmf.npz\n",
      "  # trials  (24, 16, 1801)\n",
      "  # trials  (33, 16, 1801)\n",
      "file missing /media/cat/4TBSSD/yuki/AQ2/tif_files/AQ2am_Dec30_30Hz/AQ2am_Dec30_30Hz_locanmf.npz\n",
      "  # trials  (65, 16, 1801)\n",
      "  # trials  (52, 16, 1801)\n",
      "  # trials  (51, 16, 1801)\n",
      "  # trials  (59, 16, 1801)\n"
     ]
    },
    {
     "name": "stderr",
     "output_type": "stream",
     "text": [
      "\r",
      " 25%|██▌       | 28/110 [00:00<00:01, 46.97it/s] "
     ]
    },
    {
     "name": "stdout",
     "output_type": "stream",
     "text": [
      "file missing /media/cat/4TBSSD/yuki/AQ2/tif_files/AQ2am_Jan7_30Hz/AQ2am_Jan7_30Hz_locanmf.npz\n",
      "  # trials  (27, 16, 1801)\n",
      "  # trials  (17, 16, 1801)\n",
      "file missing /media/cat/4TBSSD/yuki/AQ2/tif_files/AQ2am_Jan11_30Hz/AQ2am_Jan11_30Hz_locanmf.npz\n",
      "file missing /media/cat/4TBSSD/yuki/AQ2/tif_files/AQ2pm_Jan12_30Hz/AQ2pm_Jan12_30Hz_locanmf.npz\n",
      "file missing /media/cat/4TBSSD/yuki/AQ2/tif_files/AQ2am_Jan12_30Hz/AQ2am_Jan12_30Hz_locanmf.npz\n",
      "  # trials  (37, 16, 1801)\n",
      "  # trials  (54, 16, 1801)\n"
     ]
    },
    {
     "name": "stderr",
     "output_type": "stream",
     "text": [
      "\r",
      " 32%|███▏      | 35/110 [00:00<00:02, 36.56it/s]"
     ]
    },
    {
     "name": "stdout",
     "output_type": "stream",
     "text": [
      "  # trials  (37, 16, 1801)\n",
      "  # trials  (42, 16, 1801)\n",
      "  # trials  (26, 16, 1801)\n",
      "  # trials  (70, 16, 1801)\n",
      "file missing /media/cat/4TBSSD/yuki/AQ2/tif_files/AQ2pm_Jan18_30Hz/AQ2pm_Jan18_30Hz_locanmf.npz\n",
      "  # trials  (12, 16, 1801)\n",
      "file missing /media/cat/4TBSSD/yuki/AQ2/tif_files/AQ2am_Jan19_30Hz/AQ2am_Jan19_30Hz_locanmf.npz\n",
      "file missing /media/cat/4TBSSD/yuki/AQ2/tif_files/AQ2pm_Jan19_30Hz/AQ2pm_Jan19_30Hz_locanmf.npz\n",
      "file missing /media/cat/4TBSSD/yuki/AQ2/tif_files/AQ2pm_Jan20_30Hz/AQ2pm_Jan20_30Hz_locanmf.npz\n",
      "file missing /media/cat/4TBSSD/yuki/AQ2/tif_files/AQ2am_Jan20_30Hz/AQ2am_Jan20_30Hz_locanmf.npz\n",
      "file missing /media/cat/4TBSSD/yuki/AQ2/tif_files/AQ2pm_Jan21_30Hz/AQ2pm_Jan21_30Hz_locanmf.npz\n"
     ]
    },
    {
     "name": "stderr",
     "output_type": "stream",
     "text": [
      "\r",
      " 45%|████▌     | 50/110 [00:00<00:01, 54.36it/s]"
     ]
    },
    {
     "name": "stdout",
     "output_type": "stream",
     "text": [
      "file missing /media/cat/4TBSSD/yuki/AQ2/tif_files/AQ2am_Jan21_30Hz/AQ2am_Jan21_30Hz_locanmf.npz\n",
      "file missing /media/cat/4TBSSD/yuki/AQ2/tif_files/AQ2pm_Jan22_30Hz/AQ2pm_Jan22_30Hz_locanmf.npz\n",
      "file missing /media/cat/4TBSSD/yuki/AQ2/tif_files/AQ2am_Jan22_30Hz/AQ2am_Jan22_30Hz_locanmf.npz\n",
      "file missing /media/cat/4TBSSD/yuki/AQ2/tif_files/AQ2am_Jan25_30Hz/AQ2am_Jan25_30Hz_locanmf.npz\n",
      "file missing /media/cat/4TBSSD/yuki/AQ2/tif_files/AQ2pm_Jan25_30Hz/AQ2pm_Jan25_30Hz_locanmf.npz\n",
      "file missing /media/cat/4TBSSD/yuki/AQ2/tif_files/AQ2pm_Jan26_30Hz/AQ2pm_Jan26_30Hz_locanmf.npz\n",
      "file missing /media/cat/4TBSSD/yuki/AQ2/tif_files/AQ2am_Jan26_30Hz/AQ2am_Jan26_30Hz_locanmf.npz\n",
      "file missing /media/cat/4TBSSD/yuki/AQ2/tif_files/AQ2am_Jan27_30Hz/AQ2am_Jan27_30Hz_locanmf.npz\n",
      "  # trials  (55, 16, 1801)\n",
      "  # trials  (46, 16, 1801)\n",
      "  # trials  (60, 16, 1801)\n",
      "  # trials  (41, 16, 1801)\n",
      "  # trials  (50, 16, 1801)\n",
      "  # trials  (67, 16, 1801)\n",
      "  # trials  (78, 16, 1801)\n",
      "  # trials  (21, 16, 1801)\n",
      "  # trials  (74, 16, 1801)\n"
     ]
    },
    {
     "name": "stderr",
     "output_type": "stream",
     "text": [
      "\r",
      " 53%|█████▎    | 58/110 [00:01<00:01, 31.54it/s]"
     ]
    },
    {
     "name": "stdout",
     "output_type": "stream",
     "text": [
      "  # trials  (91, 16, 1801)\n",
      "  # trials  (93, 16, 1801)\n",
      "  # trials  (131, 16, 1801)\n",
      "  # trials  (184, 16, 1801)\n",
      "  # trials  (157, 16, 1801)\n",
      "  # trials  (145, 16, 1801)\n"
     ]
    },
    {
     "name": "stderr",
     "output_type": "stream",
     "text": [
      "\r",
      " 58%|█████▊    | 64/110 [00:02<00:02, 17.78it/s]"
     ]
    },
    {
     "name": "stdout",
     "output_type": "stream",
     "text": [
      "  # trials  (104, 16, 1801)\n",
      "file missing /media/cat/4TBSSD/yuki/AQ2/tif_files/AQ2am_Feb18_30Hz/AQ2am_Feb18_30Hz_locanmf.npz\n",
      "  # trials  (96, 16, 1801)\n"
     ]
    },
    {
     "name": "stderr",
     "output_type": "stream",
     "text": [
      "\r",
      " 62%|██████▏   | 68/110 [00:02<00:02, 15.84it/s]"
     ]
    },
    {
     "name": "stdout",
     "output_type": "stream",
     "text": [
      "  # trials  (144, 16, 1801)\n",
      "  # trials  (120, 16, 1801)\n",
      "file missing /media/cat/4TBSSD/yuki/AQ2/tif_files/AQ2am_Feb25_30Hz/AQ2am_Feb25_30Hz_locanmf.npz\n"
     ]
    },
    {
     "name": "stderr",
     "output_type": "stream",
     "text": [
      "\r",
      " 65%|██████▍   | 71/110 [00:02<00:02, 15.72it/s]"
     ]
    },
    {
     "name": "stdout",
     "output_type": "stream",
     "text": [
      "  # trials  (92, 16, 1801)\n",
      "  # trials  (90, 16, 1801)\n",
      "  # trials  (125, 16, 1801)\n",
      "  # trials  (58, 16, 1801)\n",
      "  # trials  (129, 16, 1801)\n"
     ]
    },
    {
     "name": "stderr",
     "output_type": "stream",
     "text": [
      " 69%|██████▉   | 76/110 [00:03<00:02, 13.09it/s]"
     ]
    },
    {
     "name": "stdout",
     "output_type": "stream",
     "text": [
      "  # trials  (109, 16, 1801)\n",
      "  # trials  (70, 16, 1801)\n",
      "  # trials  (99, 16, 1801)\n"
     ]
    },
    {
     "name": "stderr",
     "output_type": "stream",
     "text": [
      "\r",
      " 71%|███████   | 78/110 [00:03<00:02, 12.11it/s]"
     ]
    },
    {
     "name": "stdout",
     "output_type": "stream",
     "text": [
      "  # trials  (103, 16, 1801)\n",
      "  # trials  (143, 16, 1801)\n"
     ]
    },
    {
     "name": "stderr",
     "output_type": "stream",
     "text": [
      "\r",
      " 73%|███████▎  | 80/110 [00:03<00:02, 10.60it/s]"
     ]
    },
    {
     "name": "stdout",
     "output_type": "stream",
     "text": [
      "  # trials  (122, 16, 1801)\n",
      "  # trials  (104, 16, 1801)\n"
     ]
    },
    {
     "name": "stderr",
     "output_type": "stream",
     "text": [
      " 76%|███████▋  | 84/110 [00:04<00:02, 10.75it/s]"
     ]
    },
    {
     "name": "stdout",
     "output_type": "stream",
     "text": [
      "  # trials  (139, 16, 1801)\n",
      "  # trials  (47, 16, 1801)\n",
      "  # trials  (64, 16, 1801)\n"
     ]
    },
    {
     "name": "stderr",
     "output_type": "stream",
     "text": [
      "\r",
      " 78%|███████▊  | 86/110 [00:04<00:02, 10.22it/s]"
     ]
    },
    {
     "name": "stdout",
     "output_type": "stream",
     "text": [
      "  # trials  (84, 16, 1801)\n",
      "  # trials  (124, 16, 1801)\n"
     ]
    },
    {
     "name": "stderr",
     "output_type": "stream",
     "text": [
      "\r",
      " 80%|████████  | 88/110 [00:04<00:02,  9.46it/s]"
     ]
    },
    {
     "name": "stdout",
     "output_type": "stream",
     "text": [
      "  # trials  (91, 16, 1801)\n",
      "  # trials  (147, 16, 1801)\n"
     ]
    },
    {
     "name": "stderr",
     "output_type": "stream",
     "text": [
      "\r",
      " 82%|████████▏ | 90/110 [00:05<00:02,  8.84it/s]"
     ]
    },
    {
     "name": "stdout",
     "output_type": "stream",
     "text": [
      "  # trials  (114, 16, 1801)\n",
      "  # trials  (137, 16, 1801)\n"
     ]
    },
    {
     "name": "stderr",
     "output_type": "stream",
     "text": [
      " 84%|████████▎ | 92/110 [00:05<00:02,  8.69it/s]"
     ]
    },
    {
     "name": "stdout",
     "output_type": "stream",
     "text": [
      "  # trials  (127, 16, 1801)\n",
      "  # trials  (100, 16, 1801)\n"
     ]
    },
    {
     "name": "stderr",
     "output_type": "stream",
     "text": [
      " 85%|████████▌ | 94/110 [00:05<00:01,  8.81it/s]"
     ]
    },
    {
     "name": "stdout",
     "output_type": "stream",
     "text": [
      "  # trials  (117, 16, 1801)\n",
      "  # trials  (93, 16, 1801)\n"
     ]
    },
    {
     "name": "stderr",
     "output_type": "stream",
     "text": [
      " 87%|████████▋ | 96/110 [00:05<00:01,  8.13it/s]"
     ]
    },
    {
     "name": "stdout",
     "output_type": "stream",
     "text": [
      "  # trials  (104, 16, 1801)\n",
      "  # trials  (142, 16, 1801)\n"
     ]
    },
    {
     "name": "stderr",
     "output_type": "stream",
     "text": [
      " 90%|█████████ | 99/110 [00:06<00:00, 11.17it/s]"
     ]
    },
    {
     "name": "stdout",
     "output_type": "stream",
     "text": [
      "  # trials  (94, 16, 1801)\n",
      "file missing /media/cat/4TBSSD/yuki/AQ2/tif_files/AQ2am_Apr13_Week6_30Hz/AQ2am_Apr13_Week6_30Hz_locanmf.npz\n",
      "  # trials  (98, 16, 1801)\n",
      "  # trials  (83, 16, 1801)\n"
     ]
    },
    {
     "name": "stderr",
     "output_type": "stream",
     "text": [
      " 94%|█████████▎| 103/110 [00:06<00:00, 11.72it/s]"
     ]
    },
    {
     "name": "stdout",
     "output_type": "stream",
     "text": [
      "  # trials  (77, 16, 1801)\n",
      "  # trials  (70, 16, 1801)\n",
      "  # trials  (69, 16, 1801)\n"
     ]
    },
    {
     "name": "stderr",
     "output_type": "stream",
     "text": [
      "\r",
      " 95%|█████████▌| 105/110 [00:06<00:00, 11.29it/s]"
     ]
    },
    {
     "name": "stdout",
     "output_type": "stream",
     "text": [
      "  # trials  (52, 16, 1801)\n",
      "  # trials  (121, 16, 1801)\n"
     ]
    },
    {
     "name": "stderr",
     "output_type": "stream",
     "text": [
      "\r",
      " 97%|█████████▋| 107/110 [00:06<00:00, 10.10it/s]"
     ]
    },
    {
     "name": "stdout",
     "output_type": "stream",
     "text": [
      "  # trials  (114, 16, 1801)\n",
      "  # trials  (112, 16, 1801)\n"
     ]
    },
    {
     "name": "stderr",
     "output_type": "stream",
     "text": [
      "\r",
      " 99%|█████████▉| 109/110 [00:07<00:00,  9.47it/s]"
     ]
    },
    {
     "name": "stdout",
     "output_type": "stream",
     "text": [
      "  # trials  (138, 16, 1801)\n",
      "  # trials  (86, 16, 1801)\n",
      "  # trials  (82, 16, 1801)\n"
     ]
    },
    {
     "name": "stderr",
     "output_type": "stream",
     "text": [
      "100%|██████████| 110/110 [00:07<00:00, 15.39it/s]\n"
     ]
    },
    {
     "name": "stdout",
     "output_type": "stream",
     "text": [
      "# good sessions:  77\n",
      "['Primary visual area, layer 1 - left'\n",
      " 'Primary somatosensory area, upper limb, layer 1 - left'\n",
      " 'Primary motor area, Layer 1 - left'\n",
      " 'Retrosplenial area, dorsal part, layer 1 - left']\n",
      "(77, 4, 451)\n",
      "0 V1L  y shape:  (77,)\n",
      "0 corr (0.19705950898847968, 0.08583406455828445)\n",
      "1 SomFL  y shape:  (77,)\n",
      "1 corr (0.11737700598252553, 0.3093190790767045)\n",
      "2 M1L  y shape:  (77,)\n",
      "2 corr (-0.11510223939037657, 0.31885398273169263)\n",
      "3 RDL  y shape:  (77,)\n",
      "3 corr (0.11999855653007879, 0.2985620215174832)\n"
     ]
    }
   ],
   "source": [
    "##################################################\n",
    "###### PEAK POWER AND PEAK FREQUENCY PLOTS #######\n",
    "##################################################\n",
    "\n",
    "session_name = 'all'\n",
    "root_dir = '/media/cat/4TBSSD/yuki/'\n",
    "\n",
    "plot_peak_frequency = True\n",
    "plot_peak_power = False\n",
    "animal_ids = ['IA1','IA2','IA3','IJ1','IJ2','AQ2']\n",
    "#animal_ids = ['IA1']#,'IA2','IA3','IJ1','IJ2','AQ2']\n",
    "\n",
    "\n",
    "all_peaks = []\n",
    "#all_power = []\n",
    "for animal_id in animal_ids:\n",
    "\n",
    "    ##############################################\n",
    "    ########### GET LOCA COMPONENTS ##############\n",
    "    ##############################################\n",
    "    loca = analysis_fig4.LocaNMFClass(root_dir, animal_id, session_name)\n",
    "\n",
    "    #\n",
    "    loca.get_sessions(session_name)\n",
    "    print (\"# of sessions: \", loca.sessions.shape)\n",
    "\n",
    "    all_means = []\n",
    "    n_trials = []\n",
    "    saved_names = []\n",
    "    all_means_random = []\n",
    "    good_sessions = []\n",
    "    for session in tqdm(loca.sessions):\n",
    "\n",
    "        # load data\n",
    "        fname_locaNMF = os.path.join(root_dir, animal_id, 'tif_files',session,\n",
    "                                     session + '_locanmf.npz')\n",
    "        atlas, areas, names, locaNMF_temporal, random = load_locaNMF_data(fname_locaNMF)\n",
    "\n",
    "        # \n",
    "        if atlas is not None:\n",
    "            means, var = variance_locaNMF(locaNMF_temporal)\n",
    "            n_trials.append(locaNMF_temporal.shape[0])\n",
    "            all_means.append(means)\n",
    "\n",
    "            means, var = variance_locaNMF(random)\n",
    "            all_means_random.append(means)\n",
    "\n",
    "            saved_names = names\n",
    "            good_sessions.append(session)\n",
    "    \n",
    "    print (\"# good sessions: \", len(good_sessions))\n",
    "        \n",
    "    ##############################################\n",
    "    ########### GET SPECTRA ######################\n",
    "    ##############################################\n",
    "    fs = 30\n",
    "    plotting=False\n",
    "    selected_areas = [11,9,1,15]\n",
    "    print (saved_names[selected_areas])\n",
    "    all_areas = np.arange(all_means[0].shape[0])\n",
    "\n",
    "    #\n",
    "    spectra = plot_spectra_longintudinally(colors, plotting, fs, selected_areas, \n",
    "                                all_areas,\n",
    "                                all_means,\n",
    "                                all_means_random)\n",
    "\n",
    "    #####################################\n",
    "    ########### PLOT POWER ##############\n",
    "    #####################################\n",
    "    print (spectra.shape)\n",
    "    x = np.arange(0,451,1)/30.\n",
    "\n",
    "    peaks = []\n",
    "    for a in range(spectra.shape[1]):\n",
    "        peaks.append([])\n",
    "        for s in range(spectra.shape[0]):\n",
    "            temp = spectra[s,a]\n",
    "            argmax = np.argmax(temp)\n",
    "\n",
    "            # plot peak frequency\n",
    "            if plot_peak_frequency:\n",
    "                peaks[a].append(x[argmax])\n",
    "            # plot frequency power\n",
    "            elif plot_peak_power:\n",
    "                peaks[a].append(temp[argmax])\n",
    "\n",
    "    ############\n",
    "    fig = plt.figure(figsize=(15,10))\n",
    "    plot_box_plots(peaks)\n",
    "    all_peaks.append(peaks)\n",
    "    #all_power.append(peaks)\n",
    "\n",
    "    if False:\n",
    "        plt.savefig('/home/cat/'+animal_id+'_peakpower.svg')\n",
    "        plt.close()\n",
    "    else:\n",
    "        plt.show()"
   ]
  },
  {
   "cell_type": "code",
   "execution_count": 259,
   "metadata": {},
   "outputs": [
    {
     "name": "stdout",
     "output_type": "stream",
     "text": [
      "maxes:  [[0.0006116605409541181, 0.0018849881352795087, 0.0005712364193017595, 0.000401812417373834, 0.0010395803007610047, 0.00024643180727060244, 0.0005871480034561305, 0.0003025191250931239, 0.0008247617446347441, 0.00012822770809420002, 7.729696128631388e-05, 0.0005464615003800622, 0.0007782033159817657, 0.0002280681255515222, 0.00024759539987041746, 5.722802130593188e-05, 0.00043647557710074395, 0.0028136917769286548, 0.0007997780021914752, 0.0002417434475609279, 0.0006413137822402282, 0.0003273375253157739, 0.0004554303246891655, 0.00027565712146280705, 0.0006350569095176117, 0.0006307913041931154, 0.000472176673019456, 0.0001552767360869647, 0.0003535815961375419, 0.00015668089052798645, 0.00033245526966217226, 0.00024654775413950476, 0.0004531260621376245, 0.00021128605800226348, 0.00023014932638307375, 0.0001819866823574315, 0.00020054457725730826, 0.0002931476107421512, 6.504229318180982e-05, 8.988246016809024e-05, 8.326117841756405e-05, 0.00011559903356172457, 0.0002143136748918375, 0.00034092857985393803, 7.739014092832827e-05, 0.0003355560458465518, 0.00014383713786166123, 8.382654146273929e-05, 0.00014869425305739662, 4.6108785175977993e-05, 0.00017201413429911082, 0.0001309750284476839, 0.0006947493079176538], [0.002321485722533745, 0.006096349363662645, 0.0030253630800275043, 0.002664631563762478, 0.008023293400480644, 0.001556143157855706, 0.004217117152824772, 0.00479655147288562, 0.004612581118297347, 0.004327557888689767, 0.005411089467287075, 0.0020993600588547845, 0.0027857784247089265, 0.0013175844418067708, 0.003292928709177188, 0.003356308059612736, 0.004991382600445455, 0.008941385222968582, 0.005305329876775136, 0.0018086283869400896, 0.00520419666588838, 0.003062382883423931, 0.0009749630542271628, 0.0008931537047001428, 0.000810794246616254, 0.004262349018879935, 0.0017863647026149579, 0.0007377870588419067, 0.0012213065082173939, 0.0012235151341393874, 0.00044037660463943105, 0.0005974723424962073, 0.0014186944868315482, 0.000616743789462565, 0.0006493259004372999, 0.0006463202310013488, 0.0006807455879505451, 0.0015291126560758857, 0.0004395356082656122, 0.0004639527438742241, 0.0012951561799857544, 0.0009567325628512546, 0.0007126484878074708, 0.001062844955545563, 0.0015139416834898487, 0.0004375463038493686, 0.0008662662843276803, 0.0001961183399371232, 0.00041400166787383766, 0.00017017090426283202, 0.0014491599244325073, 0.0005112128363934218, 0.0015273502231496511], [0.0009880170585095693, 0.00272735387687935, 0.0015469134920094005, 0.0015203801341338442, 0.0030171734549810317, 0.0007473375078980723, 0.0012568646982643495, 0.0011738275821391627, 0.0012993542907664534, 0.0011188847483925802, 0.0010691920811910867, 0.0014054596143373641, 0.0007723125536146, 0.0004049019895727217, 0.0025170614396151023, 0.001117507590357851, 0.0018879470361055216, 0.00410605538879172, 0.0033582383826201443, 0.0009206803938046493, 0.0014935869490719292, 0.0011926206036458414, 0.0005210704983016648, 0.00037233157896640005, 0.0005083379066703658, 0.0022097949400529575, 0.0006432530550218151, 0.0004288168456637455, 0.0007291156494460727, 0.0004560738940965712, 0.000227806823298277, 0.000612336604882681, 0.0006026720211135069, 0.0002637643014623336, 0.0002540659747016037, 0.0002600295845027388, 0.00026693603888141947, 0.0007239163747379109, 0.00027583933821052713, 0.00018644077961022678, 0.0004906842719484838, 0.0005013843835068976, 0.00031362860891677945, 0.0005243922958865475, 0.00042135866412826685, 0.00021709910304808686, 0.00037743229674226225, 0.0001220891000693402, 0.00023034986304223056, 0.00010929824261690681, 0.0006870226692658568, 0.000296030431327841, 0.0006665817727046404], [0.0012780443809677843, 0.0023641835838083625, 0.0008330757700159002, 0.0009840598055982203, 0.0013661670495950123, 0.002452689915564594, 0.00227276887345526, 0.0024892969651282818, 0.0051281039584915745, 0.0017844679508409035, 0.004406320035801139, 0.0020043959695750842, 0.001206624742422585, 0.000757383925029646, 0.0012084379348813279, 0.0006077296840337641, 0.0013597176353736075, 0.0042526537973333585, 0.0034612392259753383, 0.0008580830805411896, 0.0036344963098547834, 0.00118948184248527, 0.0016419827983815084, 0.0005109389214205337, 0.00088872453731305, 0.0020889998138219077, 0.001076545978661434, 0.0006963211401022598, 0.0026066128215439755, 0.0014189530834081698, 0.0007645855451285713, 0.0009800426510581113, 0.0012874446607403379, 0.0004664903920655979, 0.0007726975962003749, 0.0015108488458125745, 0.0013399643917080721, 0.0011260333054298093, 0.0010109105174588627, 0.0013413803776829967, 0.0020155255631120247, 0.0008070523278453219, 0.0013222536866848288, 0.0009357933735107211, 0.000326372687095919, 0.0011959066800298706, 0.0007380303416240272, 0.0008880119874502277, 0.0013032266451539864, 0.0008257054910899454, 0.0011459095330882698, 0.0008808629692672152, 0.0019221512550315874]]\n",
      "0 corr (-0.40534632937711707, 0.002603848892550626)\n",
      "0 corr (-0.5874394119985614, 3.7616639962989067e-06)\n",
      "0 corr (-0.38042484439657004, 0.004954238982763876)\n",
      "maxes:  [[0.0016198854257224995, 0.00030448187331953393, 0.0010448856652232684, 0.0013064161903636282, 0.001287908292883691, 0.001314957149739979, 0.001902502110670153, 0.0007626055462539897, 0.0013524884798205294, 0.0019004135249613844, 0.0007673484255126497, 0.003421248858733963, 0.0005749806377619545, 0.0011837670657603697, 0.002375234069551867, 0.0014764168558843254, 0.0010059113362505118, 0.0006660702992880598, 0.00036434604305543003, 0.0007120144735945718, 0.0019395427637675976, 0.0030468845834507596, 0.00255154198822904, 0.0028950649190341462, 0.0007824953883459768, 0.00087325904139147, 0.0007344406660414645, 0.0007748642227861295, 0.0010627023871684763, 0.0017929339146085753, 0.0026332697037584124], [0.0004291618250788112, 0.0010382250180512892, 0.0008172159167308038, 0.0009747934237392478, 0.00017326142432335672, 0.0007022748251635721, 0.0004242219985355863, 0.00035848227583673613, 0.00046032004257142984, 0.0007361149761339359, 0.00016304378393667998, 0.0006500754024360459, 0.00011996625792510632, 0.00031656131326324996, 0.0005685315623796354, 0.00044559667776120825, 0.00022114641922263715, 0.00036461258386787386, 0.000349404054447001, 0.0016327187950922633, 0.0011734357440162826, 0.0006728034051364754, 0.0013202361227679614, 0.0009598838691593313, 0.0008300119287409029, 0.0013123767835759323, 0.0006152761669525584, 0.0016109091176987253, 0.0003531111190226046, 0.0005857941424718668, 0.0008498968437010112], [0.00046293879193238613, 0.0012559399831372985, 0.0008482761894932308, 0.0014946061272651475, 0.00032042276773451176, 0.001456648388640781, 0.0005418866805045998, 0.0005300556241040792, 0.0006179981472280593, 0.0013399885179324277, 0.00024568273024872797, 0.0011594852654677739, 0.00013677239668920106, 0.0005947479972103652, 0.0006057914173108326, 0.0007444993729561953, 0.0002590631987132063, 0.0006303350749655955, 0.0006542528616323959, 0.002428459491503584, 0.0017132345212755964, 0.0016959824700780867, 0.0017714277311992102, 0.002529812320649196, 0.0015827741771854353, 0.0018274027633384015, 0.0009894711200586538, 0.002296233835949678, 0.0006109860053602684, 0.0006471398715864458, 0.0012747345979767693], [0.0004923377627757468, 0.0026684126301878266, 0.0028753071943513446, 0.003109096887035108, 0.0011601697553602578, 0.004091017463689606, 0.0025687905763672183, 0.0016080365149467835, 0.0020051164960221864, 0.004955352339708607, 0.0012648853903378468, 0.006837314486270227, 0.002739625240987898, 0.0012459839960888962, 0.002187768167931249, 0.0013347709522771659, 0.0011580601962957835, 0.003598516244021316, 0.00030181550868468827, 0.0015310985499683777, 0.008005322154148772, 0.0064442322427060265, 0.0022065724797487966, 0.004928769659562992, 0.0032347210084887517, 0.002970981935185731, 0.0015918088058341857, 0.002800183277014211, 0.0005264661495517135, 0.0006845860697904441, 0.0032333354260648817]]\n",
      "0 corr (0.14900085037742306, 0.42371637425178843)\n",
      "0 corr (0.3872448722777934, 0.031377087928112134)\n",
      "0 corr (0.047145435381875586, 0.8011589030163315)\n",
      "maxes:  [[0.0004935451829118056, 0.00022362450911155645, 0.00021693799017753242, 0.00034065933376362155, 0.0009889333058403676, 0.00052475753699577, 0.0001484470207289746, 0.0010438369983518042, 0.00020326433894033645, 0.00012260216444650424, 0.00019810498126615316, 0.0002199811385457734, 0.0006462816486250713, 0.0016794192068276368, 0.00037122059054150536, 0.00041033234197128393, 0.00015317067018783467, 0.00031071304028611624, 0.00022084358428418066, 0.0010485048653666098, 0.0011008604862817132, 0.00023192335056756343, 0.00032243037733294854, 0.00021907550618096013, 0.00026038555280102, 0.00020459750259631273, 9.622374371206337e-05, 0.00023076519934694134, 0.0001225090319404296, 0.0004961100590551102, 0.00028456578173444234, 0.00029882185276108533, 0.00027989721147536823, 0.00011787226964014269, 0.00018475533505656308, 0.00015538291602175145, 0.0001339079219806169, 9.595424716935009e-05, 0.0012636234639167594, 0.0003551745006860938, 5.3458022204304126e-05], [0.0011224623604756182, 0.0008105003500612871, 0.0013623209603654633, 0.003203550527851806, 0.0027193810977232708, 0.003297757458815499, 0.0025243667639936558, 0.002535386744071403, 0.0012893308860261832, 0.003636845177761523, 0.002024237213716189, 0.002212395949670921, 0.0023402235093371894, 0.004788229061847813, 0.002210421941188696, 0.002107256951599219, 0.005048952085184723, 0.0037935893792767563, 0.004367155969177376, 0.007910311697586558, 0.0019110237803861125, 0.0019018735195155377, 0.0022935404100950917, 0.002324767718497843, 0.001708501609247715, 0.0017914616807641422, 0.0017806225451546848, 0.002933527920464703, 0.0020643929183976405, 0.007301561697076452, 0.005935527765284219, 0.006352597340700156, 0.009851460457487374, 0.0029350860047230552, 0.0037071041984236535, 0.006492306542684616, 0.004782958911429226, 0.0013456097491432646, 0.007864840185139669, 0.003340095177842977, 0.0053003291799732614], [0.0011963626335861782, 0.00102304227633719, 0.0017440877827819077, 0.0031337067482215416, 0.002630037414964866, 0.0031657617111869093, 0.0024879290710274763, 0.0024511232770251037, 0.0013362274808731782, 0.0036780797650978795, 0.0018796007736338182, 0.001775413926400881, 0.002739243667942273, 0.00534848505419151, 0.0022085752094997326, 0.0029511520175398765, 0.005393105044304349, 0.006718459971318918, 0.005647105308296347, 0.007971160783638532, 0.002171220379585755, 0.0016923377270811584, 0.002796888792861042, 0.002166671820014993, 0.0018691111873493063, 0.0017707123788176478, 0.0013207431170064521, 0.002195376768214891, 0.001310962238499601, 0.004950764884189342, 0.004703664917260926, 0.004514339148996438, 0.007252120093093972, 0.0016935342943436322, 0.003195401953845082, 0.0039850122978132545, 0.0038668852666796133, 0.0010574997731900388, 0.009159966129081515, 0.003585203302299033, 0.0037679908630757677], [0.0005827759998980549, 0.00028693179718373854, 0.0009710632375312846, 0.0011377651450197182, 0.0010656731892131276, 0.0008551098590174317, 0.00042310830845802724, 0.00586127140766465, 0.0019272743774485423, 0.002604541330876476, 0.0013561880230956, 0.001076809286796081, 0.0010614826426823716, 0.002532252127684699, 0.0005531066699388364, 0.0005422992428618461, 0.002081309309975005, 0.0013771356672158113, 0.0004854946526202591, 0.0032984094000151113, 0.00018535787680467605, 0.00028924052165968064, 0.0013518602738418217, 0.0008213611895575624, 0.0007745506772765747, 0.0007849550365029249, 0.001241623488862208, 0.0010351098043257002, 0.0006158825296960016, 0.0017803477678751975, 0.0009518289596178811, 0.0012509358421018302, 0.005762451753894479, 0.0003498103412666424, 0.0026951285834630858, 0.002058176145714354, 0.0021127303906329584, 0.0013888764726299441, 0.011684866214134325, 0.002350109084528708, 0.0009517222987524881]]\n",
      "0 corr (-0.19101239595049782, 0.2315775603196188)\n",
      "0 corr (0.29985704639392124, 0.05681475194112965)\n",
      "0 corr (0.2635073697352977, 0.09598107269510982)\n",
      "maxes:  [[0.0001853234058631638, 0.00026708962000285226, 0.00025233388840746303, 0.0006262870999759596, 0.00053642591630886, 0.00017125605194334882, 0.00020675773373950845, 0.0005487649738913301, 0.0003412861376400611, 0.0004494189241934506, 0.0002751721288570224, 0.00042751529971580095, 0.0009705114527118173, 0.000882191252690492, 6.387084360591545e-05, 0.0005083581075902287, 0.0002880581445873377, 0.0009429055666247369, 0.00039585638758276003, 0.00018442675848534646, 0.00011817139367352652, 7.147002463860617e-05, 0.0004210229955400124, 0.0004229260824161077, 0.0006326793228476729, 0.00034164279499225895, 0.0004702149409540575, 0.00068747454980686, 0.00031671122198240756, 0.001318247179146528, 0.00035557194315292945, 0.0005346150737643229, 0.00037358793801149605, 0.0007159910310555805, 0.00016896406125419013, 0.0003757700276525584, 0.0015909393773561513, 0.00041555247169777364, 0.00024429476943003356, 0.0003210654321928808], [0.0015792265485529337, 0.002450889204307267, 0.0011468723622071234, 0.0006494602705489489, 0.001214005169432163, 0.0011813043521211202, 0.0020847406633889396, 0.0022007079289753676, 0.00212942111805135, 0.001713139846850753, 0.0008692246415187008, 0.0007379337325358566, 0.002970731140930105, 0.0031907093981208712, 0.0012103907651096516, 0.002721005793866261, 0.001979131176284941, 0.003992198491610177, 0.0023584777412358157, 0.009888202986772905, 0.00516175987924714, 0.004221608961565025, 0.003781474612641258, 0.004282735054819049, 0.0038949818918558093, 0.0014420838410630354, 0.0017333230047325262, 0.0037010740240026488, 0.002438329889041771, 0.0025665193044694112, 0.002059984687358005, 0.001866282355532168, 0.002465180482758977, 0.004672110430022919, 0.002305913366829102, 0.003505068355138065, 0.006677573643341907, 0.0022181447289514465, 0.0016938955737259404, 0.0028516991502372897], [0.0015162003575631255, 0.0017695577817358054, 0.0009445890178468305, 0.0009957017464709134, 0.0011445218446779364, 0.0012527411532772834, 0.0026533912096115436, 0.0022882256860347005, 0.002202471879235242, 0.00193241201067568, 0.0008463396224028777, 0.0008165926899459173, 0.005317582352922527, 0.0038564741004815774, 0.001693295345489059, 0.0029566608641673365, 0.0019803753699937456, 0.004146267343016741, 0.00241493170514158, 0.00944482082526193, 0.004201380663100061, 0.0037281096291165196, 0.0031080900109628886, 0.003893699104871885, 0.003308960130572765, 0.0012828436995402804, 0.0014368626006075428, 0.004116468013413703, 0.0033302708947594646, 0.0025849947847984295, 0.002162924740393976, 0.0019944645931388727, 0.002047180826053342, 0.003943580193937578, 0.0024658792984546176, 0.002864797408559831, 0.005775700839859482, 0.0020145077406378002, 0.0014786593798037176, 0.00218175505298935], [0.0002931153834297946, 0.000375320801858193, 0.00025275493083536387, 0.00035745487871511553, 0.0006790446450989492, 0.0004239609749235536, 0.0004530067694239395, 0.0007137282395696484, 0.0013353929154880139, 0.0010380661160196536, 0.0008625438607056271, 0.0007171454524293751, 0.0010215063460634148, 0.0009242391957524278, 0.00017259102201448907, 0.000934326405339816, 0.0008791973840333509, 0.0028062572063867444, 0.0006834808983969612, 0.0005204843304865295, 0.000371122212678045, 0.0005730907831520333, 0.000980970468364547, 0.0013403178848809903, 0.0010163847807388628, 0.0005199834870197055, 0.00029908028565611494, 0.0009991311258135645, 0.0013222918769888216, 0.001924834345472829, 0.0016561490762726267, 0.001676553411907199, 0.0008243429133368541, 0.0025240508701546787, 0.0014249205066467767, 0.0014528822538292562, 0.0033132596042292, 0.0006092664776741738, 0.001380102515091218, 0.002600487435014074]]\n",
      "0 corr (0.20099847365942333, 0.21362676663062438)\n",
      "0 corr (0.24145761817045583, 0.13335641268762216)\n",
      "0 corr (0.5788877637648339, 9.107036164115807e-05)\n",
      "maxes:  [[0.0005474470627811459, 0.0016675478195889615, 0.00019808603677291974, 0.00019227264102784428, 0.0001639403409299099, 0.0005854909009530959, 0.0003367605496179823, 0.00020718413435044853, 0.00037657445521565046, 0.00036984736474175847, 0.00029562600132309377, 0.0005242824218385706, 0.0001870485947506277, 0.0004922315221040277, 0.0003359003791661521, 0.0008311621782674326, 0.0012366398686117718, 0.0002683527532391218, 0.00031352134372884756, 0.0011908121684496952, 0.00178611052627005, 0.00038069784392911424, 0.000489721966822619, 0.0001156285323733538, 8.614873654862015e-05, 0.0003731872137636482, 0.00013126509715789762, 0.00025180544357022414, 0.00013910654267368906, 0.0010341162197144576, 0.00014393516671868954, 0.0005405617386928396, 0.0001699907977205436, 0.0002664333278348319, 0.00019720069003493023, 0.0002611948625671167, 0.0001865797720293091, 0.00012139462658832712, 0.00033753314139909414], [0.001916694737177498, 0.0040406521933789704, 0.0012499617285879185, 0.0008646423604947282, 0.001948617380365045, 0.0029044638707663457, 0.005981896803214297, 0.004863777853566323, 0.002461478178870714, 0.0021674742582688564, 0.003054173546225535, 0.0027910105516462426, 0.0028068743474398937, 0.009009760925436407, 0.004683744917028482, 0.02078468692669276, 0.025679789722038392, 0.003698796165671605, 0.0024432226071847574, 0.01366271232399848, 0.017002696568368735, 0.003552941244511063, 0.003991457977686583, 0.0012135858951378897, 0.0008148266083214507, 0.0040173725147109535, 0.001658549034913687, 0.0022431484527984553, 0.001718575128644447, 0.008325151952557435, 0.002790234694274185, 0.0033072883961669792, 0.001688324157433577, 0.002082733623599769, 0.003523617643041827, 0.0034279354697145325, 0.0017766642953219, 0.0011041283290380477, 0.0033047688393387812], [0.0012589260723415237, 0.002878022604265713, 0.0007897254855896839, 0.0003753704043929911, 0.0011185544909391497, 0.0013316871049108006, 0.0032418986931179836, 0.0029887272685670545, 0.00171694413680922, 0.0013597294126691513, 0.0018581492361682077, 0.001828154146114372, 0.0017948003575793132, 0.004865090653897667, 0.002528763378069386, 0.010274864529841006, 0.012238521940399165, 0.0027813717612010513, 0.0013762358364212898, 0.00920350063151446, 0.011050713031375368, 0.0027781078749952184, 0.0019550257514060047, 0.0006536921660690473, 0.0003990599431307093, 0.002393012380261758, 0.000988916502344149, 0.0010983173535446982, 0.0010916761165560564, 0.00489344077339458, 0.0019290067419082217, 0.0019923335453264877, 0.0011208164996351023, 0.0010196492927284364, 0.0010579269814107008, 0.0012713668524694354, 0.0006322230807219125, 0.0007137481944814325, 0.0008217928902029934], [0.00094675134477948, 0.0013983875811314826, 0.0001748578763528996, 0.0001940998129969551, 0.00012950281261257362, 0.00045125272197339765, 0.0011699431273331758, 0.0007149021283649467, 0.0011432116959576748, 0.0007711809534911118, 0.0006248676720321544, 0.000611619716703027, 0.001828610667541606, 0.004865619338813059, 0.002067600885217396, 0.006427328519527491, 0.006353550904827741, 0.002278438137304981, 0.0011997218408212613, 0.007031054165706614, 0.010582591845072771, 0.006736639472526653, 0.0037497929437388606, 0.0006805627041226812, 0.0008867983390371585, 0.0029757491868874905, 0.00029072068496282583, 0.0009125089552020462, 0.0008785645514424438, 0.00419702011146248, 0.0011537703026359605, 0.0026158791091566895, 0.0019293292006776035, 0.0011561784656762197, 0.0012793746238226771, 0.0016005502247018902, 0.0008897011880957249, 0.0004708942385056161, 0.00259205874895555]]\n",
      "0 corr (-0.21536025310058876, 0.18794627821320992)\n"
     ]
    },
    {
     "name": "stdout",
     "output_type": "stream",
     "text": [
      "0 corr (-0.11392496941430799, 0.48983771173716756)\n",
      "0 corr (0.10481198634522296, 0.5254236496869793)\n",
      "maxes:  [[0.0012450651167520434, 4.50077057866075e-05, 0.00011764998861478799, 8.312452140319685e-05, 0.0002512788626979311, 7.310309202410571e-05, 0.0006267069491795505, 0.00018622904244298906, 9.341833113428417e-05, 0.0001583790580003453, 0.0003443836292758801, 0.00034816125849617324, 8.176687007054361e-05, 0.0005862820903904639, 0.000258190272535307, 0.0009519607185139826, 0.0009355148656504005, 0.0024683451108644364, 3.47381514425594e-05, 5.264642615869488e-05, 3.347937045794994e-05, 7.464804014935505e-05, 7.136631054409717e-05, 0.0001334396808345932, 0.00011418829247813653, 0.0002801292891489333, 0.0001492285200046042, 6.445406992001873e-05, 0.00023419533534522663, 0.0002486108720363033, 0.000721444593088815, 0.00036385785596823345, 0.0006880596624471963, 0.00033797805686919995, 0.00045394628327471385, 0.0007659529322058648, 0.00024227630132567324, 0.0003439955093834235, 0.00018145800551969273, 0.00038805718826322063, 2.8585881329181088e-05, 0.00023821138092815068, 0.00044681170009252836, 0.00011792408368258928, 0.00021926937914303187, 8.738089942673423e-05, 0.0003288348550912756, 7.744407996989817e-05, 8.894770110388594e-05, 8.868332559027598e-05, 0.00011240341909373193, 0.0002108174115086448, 5.8566223330555575e-05, 0.00032786285367619256, 0.0009484348746540041, 0.00024910806690203876, 0.0002630292494983119, 0.000429812951015467, 7.939597252674849e-05, 6.297286397273837e-05, 8.643232903320756e-05, 0.00038115637905646987, 0.0001377309371427486, 8.585041492590216e-05, 0.0001347205717603504, 6.457487101752756e-05, 0.00015833011645106435, 0.00011642753555841488, 8.74980978995441e-05, 0.0002622683035987178, 0.00013894947922131554, 0.0003501361916089458, 0.00033268677678332235, 0.0001646552900673886, 0.00019044234336071177, 0.00016090080867310204, 0.00025845167933663185], [0.0010436872031823606, 0.00010998767507796685, 0.00014773195627261403, 0.00026682784788429047, 0.0007157415872996221, 0.00028205022687569005, 0.0009290479598828711, 0.0005428714705933816, 0.0003820292389130937, 0.0003010287151242296, 0.000733949958320065, 0.0014889867047583323, 0.00024593564484599385, 0.0032133571467123237, 0.0005787321096891586, 0.0023404991349588226, 0.001953550264601002, 0.004789155371738967, 0.00023188073662198916, 0.00017144344277356935, 0.0001462042416990883, 0.00044310424405778775, 0.0005368457088423949, 0.00034913873316266727, 0.0004630707002350069, 0.000985306501060091, 0.00030812381802623544, 0.00024393885972034328, 0.0009983152019166313, 0.0007341668373180529, 0.002684806599242202, 0.00047818566903113914, 0.0006837194571765742, 0.0007974160912114771, 0.0010875621180759857, 0.001985827776986923, 0.0011356271444475168, 0.00158038066263417, 0.0011077769859509138, 0.0015919500780456797, 0.0003413272069264681, 0.0016596636291161034, 0.0018765261671265653, 0.0011884286818244828, 0.0016635401152381222, 0.0008997829795295646, 0.003664550070406569, 0.0004500527578478568, 0.0008049323455591739, 0.0010583165765919384, 0.0007297137690841627, 0.0012820996375271707, 0.0006987192617921909, 0.002290456560508291, 0.001746064407217416, 0.00273967288539974, 0.0022089522914705405, 0.002467269510467098, 0.001216838049183917, 0.0009519368392025299, 0.0009788541033178965, 0.0008461397679688956, 0.0017348520743641711, 0.0022823523573683203, 0.0020167572413892334, 0.0020701648453322705, 0.0012656638969631986, 0.001030352333885103, 0.0010686865457739448, 0.0010901416246381715, 0.0007046949213559513, 0.0023341082699898643, 0.0009047351730677092, 0.0008244526111901049, 0.0009505592773123122, 0.001043496776852063, 0.0015349338656162836], [0.0011126900569097702, 6.282837700426105e-05, 0.00012104611318580802, 0.00020381095947073422, 0.0005099191942494975, 0.0002498635263086795, 0.0010313835162820489, 0.0004280949493646616, 0.0003841674050887458, 0.00025913849829501334, 0.0006728542701736158, 0.001206646478160368, 0.00018244254664035855, 0.0026195612029062177, 0.0005090483407387138, 0.002255174694668453, 0.0014232243295159907, 0.004594138404844317, 0.0002263284720526011, 0.00021867386694262886, 0.00016416848623794546, 0.0004137791961540583, 0.00042113911397255303, 0.000349639809828048, 0.0003843221225180645, 0.0009072404739450423, 0.0003226045276988347, 0.00020672550408478677, 0.000669150947913422, 0.0004822156340537293, 0.001826695058828285, 0.00019920925287889732, 0.0003976690756373623, 0.0007004453982484533, 0.0007684806180069036, 0.001529798859380803, 0.0009078254009413821, 0.0008102952836343634, 0.0008587724854524085, 0.0014109856704789716, 0.0002494698720998349, 0.0014597779812547701, 0.0013378793666207476, 0.0009474075400331442, 0.0017336713189108957, 0.0008037406980903841, 0.0037745947040297104, 0.0003881986956432773, 0.0007119544333104616, 0.0008723026192592994, 0.0005860753543365711, 0.0012945647482905753, 0.00041971635048121587, 0.0017158794425212972, 0.0014469767796251851, 0.002080561771130381, 0.0019644794328338615, 0.0022139480894006257, 0.001141418797071634, 0.0007589213912550891, 0.0008384125858163219, 0.0007076913540198261, 0.0010763755884836193, 0.0018009600333645753, 0.0008989685971252832, 0.0015552434574521252, 0.0009846656921228315, 0.0011740034147384388, 0.0010697747703344003, 0.001186063984947974, 0.0007466376421487194, 0.0026594508345709708, 0.0009449416343473308, 0.0008429452634631719, 0.0009177539604334207, 0.0010035973754837215, 0.0011920719270779045], [0.0032022688450248035, 0.0002485302774087078, 0.0005526864868297932, 0.0004901784665688869, 0.001677097715105029, 0.00010431632172495232, 0.0022424405026200784, 0.0007385747737891456, 0.00032760569718996203, 0.0007948084123806291, 0.002015546407782323, 0.002528840153780927, 0.0004282878846624645, 0.0026796112662293885, 0.0010185607974139614, 0.0033895597738531785, 0.003347964136019444, 0.006252894246137995, 0.00023265920728087573, 0.00022285926136511065, 9.803165247047496e-05, 0.0003236611906038103, 0.00029472228803901877, 0.00021445734898486023, 0.00024762359561956445, 0.0005885101432684093, 0.00025099182221421067, 0.0002634623379850255, 0.00030956574921409493, 0.0002283679381639096, 0.0007986369409931503, 0.00020910579206831988, 0.00044279783011165583, 0.00047540027813213886, 0.00044782315992283775, 0.0007695355601335327, 0.0002342003380000966, 0.00023380386415840557, 0.0003537093139427173, 0.0009883243076303748, 9.855880277447831e-05, 0.0007689669063031095, 0.0008548734352769435, 0.00043950508045188634, 0.0005423744439185551, 0.0004159547991530699, 0.0014903196753351061, 0.00024379249662811152, 0.0005636588940476817, 0.0003109850443439491, 0.0003106921509632441, 0.000878414885176328, 0.00033792675672578653, 0.0008454038049781193, 0.0004810233082551033, 0.0004979042621440895, 0.000396772678341977, 0.0008279016341231752, 0.0003505311485485866, 0.00019608086659297404, 0.00029824264145535443, 0.00032534853728851895, 0.00011816035017241162, 0.0008762335324398066, 0.0017748959698810527, 0.001712245270422671, 0.0011403490112662192, 0.001713031233300591, 0.0021901696191235563, 0.0013683555654642407, 0.0008724837748657661, 0.002143201487541304, 0.0015260157086995543, 0.0008073779571286598, 0.0012618880941356516, 0.0006859771623796358, 0.0016169557321209058]]\n",
      "0 corr (-0.20692285361910623, 0.07097487029005053)\n",
      "0 corr (0.25421766452532457, 0.02567750254128938)\n",
      "0 corr (-0.1033110477260646, 0.3712584631866783)\n"
     ]
    }
   ],
   "source": [
    "from sklearn.linear_model import LinearRegression\n",
    "from scipy import stats\n",
    "\n",
    "#########################################\n",
    "ids = [0,2,3]\n",
    "#feats = ['motor','visual','Retro','limb','barrel']\n",
    "clrs_local = ['magenta','brown','pink','lightblue','darkblue']\n",
    "\n",
    "feats_ = ['visual','limb','motor','Retro']\n",
    "clrs_local_ = ['brown','lightblue','magenta','pink']\n",
    "\n",
    "ids_ = np.array([1,2,3])\n",
    "# \n",
    "animal_id = 0\n",
    "animal_ids = ['IA1','IA2','IA3','IJ1','IJ2','AQ2']\n",
    "#animal_ids = ['IA1']#,'IA2','IA3','IJ1','IJ2','AQ2']\n",
    "\n",
    "# \n",
    "fig=plt.figure(figsize=(10,10))\n",
    "for ctr_animal, animal_id in enumerate(animal_ids):\n",
    "    #maxes = all_peaks[ctr_animal]\n",
    "    maxes = all_power[ctr_animal]\n",
    "    print (\"maxes: \", maxes)\n",
    "    \n",
    "    ax=plt.subplot(3,2,ctr_animal+1)\n",
    "\n",
    "    ctr=0\n",
    "    for id_ in ids:\n",
    "        m = np.array(maxes[id_])\n",
    "\n",
    "        ##################################\n",
    "        ##################################\n",
    "        ##################################\n",
    "        corr = stats.pearsonr(np.arange(m.shape[0]), m)\n",
    "\n",
    "\n",
    "        model = LinearRegression()\n",
    "        y=np.array(m).reshape(-1, 1)\n",
    "        x = np.arange(y.shape[0]).reshape(-1, 1)\n",
    "        model.fit(x, y)\n",
    "\n",
    "        x2 = np.arange(0,y.shape[0],1).reshape(-1, 1)\n",
    "        y_pred = model.intercept_ + model.coef_ * x2\n",
    "\n",
    "\n",
    "        # compute correlation between time and location\n",
    "\n",
    "        print (i, \"corr\", corr)\n",
    "\n",
    "        plt.plot(x2, y_pred, \n",
    "                 label= str(np.round(corr,2)),\n",
    "                  c=clrs_local[id_],\n",
    "                 linewidth=6)\n",
    "        # \n",
    "        #patch = mpatches.Patch(color='grey', label=feats[id_]+ \":  \"+str(round(corr[0],2)))\n",
    "\n",
    "        # handles is a list, so append manual patch\n",
    "        #labels.append(patch) \n",
    "\n",
    "        ##################################\n",
    "        ##################################\n",
    "        ##################################\n",
    "        # \n",
    "        plt.scatter(np.arange(m.shape[0]), m,\n",
    "                   c=clrs_local[id_],\n",
    "                    edgecolor='black',\n",
    "                    s=100,\n",
    "                   alpha=.3)\n",
    "\n",
    "        #\n",
    "        #plt.title(feats[id_])\n",
    "        #ax.set_ylim(0, 1)\n",
    "        ax.set_ylim(0, 0.005)\n",
    "        ax.set_xlim(0,x[-1])\n",
    "        ctr+=1\n",
    "        plt.legend(fontsize=14)\n",
    "    \n",
    "if True:\n",
    "    #plt.savefig('/home/cat/fit_trends_psd_averages_frequency.svg')\n",
    "    plt.savefig('/home/cat/fit_trends_psd_averages_power.svg')\n",
    "    plt.close()\n",
    "else:\n",
    "    plt.show()\n",
    "\n"
   ]
  },
  {
   "cell_type": "code",
   "execution_count": null,
   "metadata": {},
   "outputs": [],
   "source": []
  },
  {
   "cell_type": "markdown",
   "metadata": {},
   "source": [
    "### HERE we repeat above functions but for individaul sessions\n"
   ]
  },
  {
   "cell_type": "code",
   "execution_count": 184,
   "metadata": {
    "scrolled": true
   },
   "outputs": [
    {
     "name": "stderr",
     "output_type": "stream",
     "text": [
      "\r",
      "  0%|          | 0/71 [00:00<?, ?it/s]"
     ]
    },
    {
     "name": "stdout",
     "output_type": "stream",
     "text": [
      "# of sessions:  (71,)\n",
      "file missing /media/cat/4TBSSD/yuki/IA1/tif_files/IA1pm_Feb1_30Hz/IA1pm_Feb1_30Hz_locanmf.npz\n",
      "  # trials  (23, 16, 1801)\n",
      "(23, 16, 1800)\n",
      "(23, 16, 1800)\n"
     ]
    },
    {
     "name": "stderr",
     "output_type": "stream",
     "text": [
      "\r",
      "  3%|▎         | 2/71 [00:00<00:08,  7.81it/s]"
     ]
    },
    {
     "name": "stdout",
     "output_type": "stream",
     "text": [
      "  # trials  (58, 16, 1801)\n",
      "(58, 16, 1800)\n",
      "(58, 16, 1800)\n"
     ]
    },
    {
     "name": "stderr",
     "output_type": "stream",
     "text": [
      "\r",
      "  4%|▍         | 3/71 [00:00<00:22,  3.00it/s]"
     ]
    },
    {
     "name": "stdout",
     "output_type": "stream",
     "text": [
      "file missing /media/cat/4TBSSD/yuki/IA1/tif_files/IA1pm_Feb4_30Hz/IA1pm_Feb4_30Hz_locanmf.npz\n",
      "file missing /media/cat/4TBSSD/yuki/IA1/tif_files/IA1pm_Feb5_30Hz/IA1pm_Feb5_30Hz_locanmf.npz\n",
      "  # trials  (51, 16, 1801)\n",
      "(51, 16, 1800)\n",
      "(51, 16, 1800)\n"
     ]
    },
    {
     "name": "stderr",
     "output_type": "stream",
     "text": [
      " 10%|▉         | 7/71 [00:01<00:13,  4.63it/s]"
     ]
    },
    {
     "name": "stdout",
     "output_type": "stream",
     "text": [
      "  # trials  (13, 16, 1801)\n",
      "(13, 16, 1800)\n",
      "(13, 16, 1800)\n",
      "  # trials  (38, 16, 1801)\n",
      "(38, 16, 1800)\n"
     ]
    },
    {
     "name": "stderr",
     "output_type": "stream",
     "text": [
      "\r",
      " 11%|█▏        | 8/71 [00:01<00:16,  3.78it/s]"
     ]
    },
    {
     "name": "stdout",
     "output_type": "stream",
     "text": [
      "(38, 16, 1800)\n",
      "file missing /media/cat/4TBSSD/yuki/IA1/tif_files/IA1pm_Feb12_30Hz/IA1pm_Feb12_30Hz_locanmf.npz\n"
     ]
    },
    {
     "name": "stderr",
     "output_type": "stream",
     "text": [
      "\r",
      " 14%|█▍        | 10/71 [00:02<00:12,  5.08it/s]"
     ]
    },
    {
     "name": "stdout",
     "output_type": "stream",
     "text": [
      "  # trials  (18, 16, 1801)\n",
      "(18, 16, 1800)\n",
      "(18, 16, 1800)\n",
      "  # trials  (40, 16, 1801)\n",
      "(40, 16, 1800)\n",
      "(40, 16, 1800)\n"
     ]
    },
    {
     "name": "stderr",
     "output_type": "stream",
     "text": [
      "\r",
      " 15%|█▌        | 11/71 [00:02<00:15,  3.98it/s]"
     ]
    },
    {
     "name": "stdout",
     "output_type": "stream",
     "text": [
      "  # trials  (36, 16, 1801)\n",
      "(36, 16, 1800)\n",
      "(36, 16, 1800)\n"
     ]
    },
    {
     "name": "stderr",
     "output_type": "stream",
     "text": [
      " 18%|█▊        | 13/71 [00:03<00:14,  3.96it/s]"
     ]
    },
    {
     "name": "stdout",
     "output_type": "stream",
     "text": [
      "  # trials  (14, 16, 1801)\n",
      "(14, 16, 1800)\n",
      "(14, 16, 1800)\n",
      "  # trials  (72, 16, 1801)\n",
      "(72, 16, 1800)\n",
      "(72, 16, 1800)\n"
     ]
    },
    {
     "name": "stderr",
     "output_type": "stream",
     "text": [
      "\r",
      " 20%|█▉        | 14/71 [00:03<00:22,  2.56it/s]"
     ]
    },
    {
     "name": "stdout",
     "output_type": "stream",
     "text": [
      "file missing /media/cat/4TBSSD/yuki/IA1/tif_files/IA1pm_Feb22_30Hz/IA1pm_Feb22_30Hz_locanmf.npz\n",
      "  # trials  (76, 16, 1801)\n",
      "(76, 16, 1800)\n",
      "(76, 16, 1800)\n"
     ]
    },
    {
     "name": "stderr",
     "output_type": "stream",
     "text": [
      " 27%|██▋       | 19/71 [00:04<00:11,  4.44it/s]"
     ]
    },
    {
     "name": "stdout",
     "output_type": "stream",
     "text": [
      "file missing /media/cat/4TBSSD/yuki/IA1/tif_files/IA1pm_Feb24_30Hz/IA1pm_Feb24_30Hz_locanmf.npz\n",
      "file missing /media/cat/4TBSSD/yuki/IA1/tif_files/IA1pm_Feb25_30Hz/IA1pm_Feb25_30Hz_locanmf.npz\n",
      "  # trials  (11, 16, 1801)\n",
      "(11, 16, 1800)\n",
      "(11, 16, 1800)\n",
      "  # trials  (29, 16, 1801)\n",
      "(29, 16, 1800)\n"
     ]
    },
    {
     "name": "stderr",
     "output_type": "stream",
     "text": [
      "\r",
      " 28%|██▊       | 20/71 [00:05<00:12,  4.13it/s]"
     ]
    },
    {
     "name": "stdout",
     "output_type": "stream",
     "text": [
      "(29, 16, 1800)\n",
      "file missing /media/cat/4TBSSD/yuki/IA1/tif_files/IA1pm_Mar1_30Hz/IA1pm_Mar1_30Hz_locanmf.npz\n",
      "  # trials  (36, 16, 1801)\n",
      "(36, 16, 1800)\n"
     ]
    },
    {
     "name": "stderr",
     "output_type": "stream",
     "text": [
      "\r",
      " 31%|███       | 22/71 [00:05<00:11,  4.43it/s]"
     ]
    },
    {
     "name": "stdout",
     "output_type": "stream",
     "text": [
      "(36, 16, 1800)\n",
      "  # trials  (24, 16, 1801)\n",
      "(24, 16, 1800)\n"
     ]
    },
    {
     "name": "stderr",
     "output_type": "stream",
     "text": [
      "\r",
      " 32%|███▏      | 23/71 [00:05<00:11,  4.28it/s]"
     ]
    },
    {
     "name": "stdout",
     "output_type": "stream",
     "text": [
      "(24, 16, 1800)\n",
      "  # trials  (32, 16, 1801)\n",
      "(32, 16, 1800)\n"
     ]
    },
    {
     "name": "stderr",
     "output_type": "stream",
     "text": [
      "\r",
      " 34%|███▍      | 24/71 [00:06<00:12,  3.86it/s]"
     ]
    },
    {
     "name": "stdout",
     "output_type": "stream",
     "text": [
      "(32, 16, 1800)\n",
      "  # trials  (20, 16, 1801)\n",
      "(20, 16, 1800)\n"
     ]
    },
    {
     "name": "stderr",
     "output_type": "stream",
     "text": [
      "\r",
      " 35%|███▌      | 25/71 [00:06<00:11,  3.99it/s]"
     ]
    },
    {
     "name": "stdout",
     "output_type": "stream",
     "text": [
      "(20, 16, 1800)\n",
      "file missing /media/cat/4TBSSD/yuki/IA1/tif_files/IA1pm_Mar8_30Hz/IA1pm_Mar8_30Hz_locanmf.npz\n",
      "  # trials  (23, 16, 1801)\n",
      "(23, 16, 1800)\n"
     ]
    },
    {
     "name": "stderr",
     "output_type": "stream",
     "text": [
      "\r",
      " 38%|███▊      | 27/71 [00:06<00:08,  4.98it/s]"
     ]
    },
    {
     "name": "stdout",
     "output_type": "stream",
     "text": [
      "(23, 16, 1800)\n",
      "  # trials  (24, 16, 1801)\n",
      "(24, 16, 1800)\n"
     ]
    },
    {
     "name": "stderr",
     "output_type": "stream",
     "text": [
      "\r",
      " 39%|███▉      | 28/71 [00:06<00:09,  4.64it/s]"
     ]
    },
    {
     "name": "stdout",
     "output_type": "stream",
     "text": [
      "(24, 16, 1800)\n",
      "  # trials  (23, 16, 1801)\n",
      "(23, 16, 1800)\n"
     ]
    },
    {
     "name": "stderr",
     "output_type": "stream",
     "text": [
      "\r",
      " 41%|████      | 29/71 [00:07<00:09,  4.45it/s]"
     ]
    },
    {
     "name": "stdout",
     "output_type": "stream",
     "text": [
      "(23, 16, 1800)\n",
      "  # trials  (44, 16, 1801)\n",
      "(44, 16, 1800)\n",
      "(44, 16, 1800)\n"
     ]
    },
    {
     "name": "stderr",
     "output_type": "stream",
     "text": [
      "\r",
      " 42%|████▏     | 30/71 [00:07<00:11,  3.45it/s]"
     ]
    },
    {
     "name": "stdout",
     "output_type": "stream",
     "text": [
      "  # trials  (25, 16, 1801)\n",
      "(25, 16, 1800)\n",
      "(25, 16, 1800)\n"
     ]
    },
    {
     "name": "stderr",
     "output_type": "stream",
     "text": [
      " 46%|████▋     | 33/71 [00:08<00:07,  5.15it/s]"
     ]
    },
    {
     "name": "stdout",
     "output_type": "stream",
     "text": [
      "file missing /media/cat/4TBSSD/yuki/IA1/tif_files/IA1pm_Mar16_30Hz/IA1pm_Mar16_30Hz_locanmf.npz\n",
      "  # trials  (13, 16, 1801)\n",
      "(13, 16, 1800)\n",
      "(13, 16, 1800)\n",
      "  # trials  (16, 16, 1801)\n",
      "(16, 16, 1800)\n"
     ]
    },
    {
     "name": "stderr",
     "output_type": "stream",
     "text": [
      "\r",
      " 48%|████▊     | 34/71 [00:08<00:07,  5.22it/s]"
     ]
    },
    {
     "name": "stdout",
     "output_type": "stream",
     "text": [
      "(16, 16, 1800)\n",
      "  # trials  (13, 16, 1801)\n",
      "(13, 16, 1800)\n",
      "(13, 16, 1800)\n"
     ]
    },
    {
     "name": "stderr",
     "output_type": "stream",
     "text": [
      " 52%|█████▏    | 37/71 [00:08<00:04,  7.45it/s]"
     ]
    },
    {
     "name": "stdout",
     "output_type": "stream",
     "text": [
      "file missing /media/cat/4TBSSD/yuki/IA1/tif_files/IA1pm_Mar22_30Hz/IA1pm_Mar22_30Hz_locanmf.npz\n",
      "  # trials  (12, 16, 1801)\n",
      "(12, 16, 1800)\n",
      "(12, 16, 1800)\n",
      "  # trials  (11, 16, 1801)\n",
      "(11, 16, 1800)\n"
     ]
    },
    {
     "name": "stderr",
     "output_type": "stream",
     "text": [
      "\r",
      " 54%|█████▎    | 38/71 [00:08<00:04,  7.53it/s]"
     ]
    },
    {
     "name": "stdout",
     "output_type": "stream",
     "text": [
      "(11, 16, 1800)\n",
      "  # trials  (20, 16, 1801)\n",
      "(20, 16, 1800)\n",
      "(20, 16, 1800)\n"
     ]
    },
    {
     "name": "stderr",
     "output_type": "stream",
     "text": [
      " 56%|█████▋    | 40/71 [00:09<00:04,  6.52it/s]"
     ]
    },
    {
     "name": "stdout",
     "output_type": "stream",
     "text": [
      "  # trials  (13, 16, 1801)\n",
      "(13, 16, 1800)\n",
      "(13, 16, 1800)\n",
      "  # trials  (12, 16, 1801)\n",
      "(12, 16, 1800)\n"
     ]
    },
    {
     "name": "stderr",
     "output_type": "stream",
     "text": [
      " 59%|█████▉    | 42/71 [00:09<00:04,  6.99it/s]"
     ]
    },
    {
     "name": "stdout",
     "output_type": "stream",
     "text": [
      "(12, 16, 1800)\n",
      "  # trials  (11, 16, 1801)\n",
      "(11, 16, 1800)\n",
      "(11, 16, 1800)\n",
      "file missing /media/cat/4TBSSD/yuki/IA1/tif_files/IA1pm_Apr4_30Hz/IA1pm_Apr4_30Hz_locanmf.npz\n",
      "file missing /media/cat/4TBSSD/yuki/IA1/tif_files/IA1pm_Apr5_30Hz/IA1pm_Apr5_30Hz_locanmf.npz\n"
     ]
    },
    {
     "name": "stderr",
     "output_type": "stream",
     "text": [
      "\r",
      " 63%|██████▎   | 45/71 [00:09<00:02, 10.02it/s]"
     ]
    },
    {
     "name": "stdout",
     "output_type": "stream",
     "text": [
      "  # trials  (17, 16, 1801)\n",
      "(17, 16, 1800)\n",
      "(17, 16, 1800)\n",
      "  # trials  (10, 16, 1801)\n",
      "(10, 16, 1800)\n"
     ]
    },
    {
     "name": "stderr",
     "output_type": "stream",
     "text": [
      "\r",
      " 65%|██████▍   | 46/71 [00:09<00:02,  9.66it/s]"
     ]
    },
    {
     "name": "stdout",
     "output_type": "stream",
     "text": [
      "(10, 16, 1800)\n",
      "file missing /media/cat/4TBSSD/yuki/IA1/tif_files/IA1pm_Apr11_Day3_30Hz/IA1pm_Apr11_Day3_30Hz_locanmf.npz\n",
      "  # trials  (25, 16, 1801)\n",
      "(25, 16, 1800)\n"
     ]
    },
    {
     "name": "stderr",
     "output_type": "stream",
     "text": [
      "\r",
      " 68%|██████▊   | 48/71 [00:09<00:02,  8.60it/s]"
     ]
    },
    {
     "name": "stdout",
     "output_type": "stream",
     "text": [
      "(25, 16, 1800)\n",
      "  # trials  (20, 16, 1801)\n",
      "(20, 16, 1800)\n"
     ]
    },
    {
     "name": "stderr",
     "output_type": "stream",
     "text": [
      "\r",
      " 69%|██████▉   | 49/71 [00:10<00:03,  7.21it/s]"
     ]
    },
    {
     "name": "stdout",
     "output_type": "stream",
     "text": [
      "(20, 16, 1800)\n",
      "  # trials  (14, 16, 1801)\n",
      "(14, 16, 1800)\n",
      "(14, 16, 1800)\n"
     ]
    },
    {
     "name": "stderr",
     "output_type": "stream",
     "text": [
      " 72%|███████▏  | 51/71 [00:10<00:03,  6.34it/s]"
     ]
    },
    {
     "name": "stdout",
     "output_type": "stream",
     "text": [
      "  # trials  (18, 16, 1801)\n",
      "(18, 16, 1800)\n",
      "(18, 16, 1800)\n",
      "  # trials  (16, 16, 1801)\n",
      "(16, 16, 1800)\n"
     ]
    },
    {
     "name": "stderr",
     "output_type": "stream",
     "text": [
      "\r",
      " 73%|███████▎  | 52/71 [00:10<00:03,  6.10it/s]"
     ]
    },
    {
     "name": "stdout",
     "output_type": "stream",
     "text": [
      "(16, 16, 1800)\n",
      "  # trials  (39, 16, 1801)\n",
      "(39, 16, 1800)\n"
     ]
    },
    {
     "name": "stderr",
     "output_type": "stream",
     "text": [
      "\r",
      " 75%|███████▍  | 53/71 [00:11<00:04,  4.28it/s]"
     ]
    },
    {
     "name": "stdout",
     "output_type": "stream",
     "text": [
      "(39, 16, 1800)\n",
      "file missing /media/cat/4TBSSD/yuki/IA1/tif_files/IA1pm_Apr22_Week2_30Hz/IA1pm_Apr22_Week2_30Hz_locanmf.npz\n",
      "  # trials  (37, 16, 1801)\n",
      "(37, 16, 1800)\n",
      "(37, 16, 1800)\n"
     ]
    },
    {
     "name": "stderr",
     "output_type": "stream",
     "text": [
      "\r",
      " 77%|███████▋  | 55/71 [00:11<00:03,  4.55it/s]"
     ]
    },
    {
     "name": "stdout",
     "output_type": "stream",
     "text": [
      "  # trials  (23, 16, 1801)\n",
      "(23, 16, 1800)\n",
      "(23, 16, 1800)\n"
     ]
    },
    {
     "name": "stderr",
     "output_type": "stream",
     "text": [
      " 80%|████████  | 57/71 [00:11<00:03,  4.59it/s]"
     ]
    },
    {
     "name": "stdout",
     "output_type": "stream",
     "text": [
      "  # trials  (17, 16, 1801)\n",
      "(17, 16, 1800)\n",
      "(17, 16, 1800)\n",
      "  # trials  (13, 16, 1801)\n",
      "(13, 16, 1800)\n"
     ]
    },
    {
     "name": "stderr",
     "output_type": "stream",
     "text": [
      "\r",
      " 82%|████████▏ | 58/71 [00:12<00:02,  5.02it/s]"
     ]
    },
    {
     "name": "stdout",
     "output_type": "stream",
     "text": [
      "(13, 16, 1800)\n",
      "  # trials  (13, 16, 1801)\n",
      "(13, 16, 1800)\n",
      "(13, 16, 1800)\n"
     ]
    },
    {
     "name": "stderr",
     "output_type": "stream",
     "text": [
      "\r",
      " 83%|████████▎ | 59/71 [00:12<00:02,  5.40it/s]"
     ]
    },
    {
     "name": "stdout",
     "output_type": "stream",
     "text": [
      "file missing /media/cat/4TBSSD/yuki/IA1/tif_files/IA1am_May2_Week4_30Hz/IA1am_May2_Week4_30Hz_locanmf.npz\n",
      "  # trials  (28, 16, 1801)\n",
      "(28, 16, 1800)\n",
      "(28, 16, 1800)\n"
     ]
    },
    {
     "name": "stderr",
     "output_type": "stream",
     "text": [
      " 87%|████████▋ | 62/71 [00:12<00:01,  6.23it/s]"
     ]
    },
    {
     "name": "stdout",
     "output_type": "stream",
     "text": [
      "  # trials  (11, 16, 1801)\n",
      "(11, 16, 1800)\n",
      "(11, 16, 1800)\n",
      "  # trials  (22, 16, 1801)\n",
      "(22, 16, 1800)\n"
     ]
    },
    {
     "name": "stderr",
     "output_type": "stream",
     "text": [
      "\r",
      " 89%|████████▊ | 63/71 [00:12<00:01,  5.51it/s]"
     ]
    },
    {
     "name": "stdout",
     "output_type": "stream",
     "text": [
      "(22, 16, 1800)\n",
      "  # trials  (23, 16, 1801)\n",
      "(23, 16, 1800)\n"
     ]
    },
    {
     "name": "stderr",
     "output_type": "stream",
     "text": [
      "\r",
      " 90%|█████████ | 64/71 [00:13<00:01,  4.99it/s]"
     ]
    },
    {
     "name": "stdout",
     "output_type": "stream",
     "text": [
      "(23, 16, 1800)\n",
      "  # trials  (22, 16, 1801)\n",
      "(22, 16, 1800)\n"
     ]
    },
    {
     "name": "stderr",
     "output_type": "stream",
     "text": [
      "\r",
      " 92%|█████████▏| 65/71 [00:13<00:01,  4.71it/s]"
     ]
    },
    {
     "name": "stdout",
     "output_type": "stream",
     "text": [
      "(22, 16, 1800)\n",
      "  # trials  (39, 16, 1801)\n",
      "(39, 16, 1800)\n"
     ]
    },
    {
     "name": "stderr",
     "output_type": "stream",
     "text": [
      "\r",
      " 93%|█████████▎| 66/71 [00:13<00:01,  3.70it/s]"
     ]
    },
    {
     "name": "stdout",
     "output_type": "stream",
     "text": [
      "(39, 16, 1800)\n",
      "file missing /media/cat/4TBSSD/yuki/IA1/tif_files/IA1am_May13_Week5_30Hz/IA1am_May13_Week5_30Hz_locanmf.npz\n",
      "file missing /media/cat/4TBSSD/yuki/IA1/tif_files/IA1am_May16_Week6_30Hz/IA1am_May16_Week6_30Hz_locanmf.npz\n",
      "  # trials  (29, 16, 1801)\n",
      "(29, 16, 1800)\n",
      "(29, 16, 1800)\n"
     ]
    },
    {
     "name": "stderr",
     "output_type": "stream",
     "text": [
      " 99%|█████████▊| 70/71 [00:14<00:00,  5.54it/s]"
     ]
    },
    {
     "name": "stdout",
     "output_type": "stream",
     "text": [
      "  # trials  (16, 16, 1801)\n",
      "(16, 16, 1800)\n",
      "(16, 16, 1800)\n",
      "  # trials  (10, 16, 1801)\n",
      "(10, 16, 1800)\n"
     ]
    },
    {
     "name": "stderr",
     "output_type": "stream",
     "text": [
      "100%|██████████| 71/71 [00:14<00:00,  4.92it/s]\n",
      "  0%|          | 0/44 [00:00<?, ?it/s]"
     ]
    },
    {
     "name": "stdout",
     "output_type": "stream",
     "text": [
      "(10, 16, 1800)\n",
      "# good sessions:  53\n",
      "# of sessions:  (44,)\n",
      "file missing /media/cat/4TBSSD/yuki/IA2/tif_files/IA2pm_Feb1_30Hz/IA2pm_Feb1_30Hz_locanmf.npz\n",
      "file missing /media/cat/4TBSSD/yuki/IA2/tif_files/IA2pm_Feb2_30Hz/IA2pm_Feb2_30Hz_locanmf.npz\n",
      "  # trials  (37, 16, 1801)\n",
      "(37, 16, 1800)\n"
     ]
    },
    {
     "name": "stderr",
     "output_type": "stream",
     "text": [
      "\r",
      "  7%|▋         | 3/44 [00:00<00:05,  7.49it/s]"
     ]
    },
    {
     "name": "stdout",
     "output_type": "stream",
     "text": [
      "(37, 16, 1800)\n",
      "  # trials  (88, 16, 1801)\n",
      "(88, 16, 1800)\n",
      "(88, 16, 1800)\n"
     ]
    },
    {
     "name": "stderr",
     "output_type": "stream",
     "text": [
      "\r",
      "  9%|▉         | 4/44 [00:01<00:15,  2.56it/s]"
     ]
    },
    {
     "name": "stdout",
     "output_type": "stream",
     "text": [
      "  # trials  (67, 16, 1801)\n",
      "(67, 16, 1800)\n",
      "(67, 16, 1800)\n"
     ]
    },
    {
     "name": "stderr",
     "output_type": "stream",
     "text": [
      "\r",
      " 11%|█▏        | 5/44 [00:02<00:19,  2.04it/s]"
     ]
    },
    {
     "name": "stdout",
     "output_type": "stream",
     "text": [
      "file missing /media/cat/4TBSSD/yuki/IA2/tif_files/IA2pm_Feb9_30Hz/IA2pm_Feb9_30Hz_locanmf.npz\n",
      "file missing /media/cat/4TBSSD/yuki/IA2/tif_files/IA2pm_Feb10_30Hz/IA2pm_Feb10_30Hz_locanmf.npz\n",
      "file missing /media/cat/4TBSSD/yuki/IA2/tif_files/IA2pm_Feb11_30Hz/IA2pm_Feb11_30Hz_locanmf.npz\n",
      "  # trials  (19, 16, 1801)\n",
      "(19, 16, 1800)\n",
      "(19, 16, 1800)\n"
     ]
    },
    {
     "name": "stderr",
     "output_type": "stream",
     "text": [
      "\r",
      " 20%|██        | 9/44 [00:02<00:07,  4.78it/s]"
     ]
    },
    {
     "name": "stdout",
     "output_type": "stream",
     "text": [
      "file missing /media/cat/4TBSSD/yuki/IA2/tif_files/IA2pm_Feb15_30Hz/IA2pm_Feb15_30Hz_locanmf.npz\n",
      "  # trials  (48, 16, 1801)\n",
      "(48, 16, 1800)\n",
      "(48, 16, 1800)\n"
     ]
    },
    {
     "name": "stderr",
     "output_type": "stream",
     "text": [
      "\r",
      " 25%|██▌       | 11/44 [00:02<00:07,  4.46it/s]"
     ]
    },
    {
     "name": "stdout",
     "output_type": "stream",
     "text": [
      "  # trials  (24, 16, 1801)\n",
      "(24, 16, 1800)\n",
      "(24, 16, 1800)\n"
     ]
    },
    {
     "name": "stderr",
     "output_type": "stream",
     "text": [
      "\r",
      " 27%|██▋       | 12/44 [00:03<00:07,  4.31it/s]"
     ]
    },
    {
     "name": "stdout",
     "output_type": "stream",
     "text": [
      "  # trials  (45, 16, 1801)\n",
      "(45, 16, 1800)\n",
      "(45, 16, 1800)\n"
     ]
    },
    {
     "name": "stderr",
     "output_type": "stream",
     "text": [
      "\r",
      " 30%|██▉       | 13/44 [00:03<00:08,  3.52it/s]"
     ]
    },
    {
     "name": "stdout",
     "output_type": "stream",
     "text": [
      "  # trials  (67, 16, 1801)\n",
      "(67, 16, 1800)\n",
      "(67, 16, 1800)\n"
     ]
    },
    {
     "name": "stderr",
     "output_type": "stream",
     "text": [
      "\r",
      " 32%|███▏      | 14/44 [00:04<00:11,  2.62it/s]"
     ]
    },
    {
     "name": "stdout",
     "output_type": "stream",
     "text": [
      "  # trials  (42, 16, 1801)\n",
      "(42, 16, 1800)\n",
      "(42, 16, 1800)\n"
     ]
    },
    {
     "name": "stderr",
     "output_type": "stream",
     "text": [
      "\r",
      " 34%|███▍      | 15/44 [00:04<00:11,  2.51it/s]"
     ]
    },
    {
     "name": "stdout",
     "output_type": "stream",
     "text": [
      "file missing /media/cat/4TBSSD/yuki/IA2/tif_files/IA2pm_Feb23_30Hz/IA2pm_Feb23_30Hz_locanmf.npz\n",
      "file missing /media/cat/4TBSSD/yuki/IA2/tif_files/IA2pm_Feb24_30Hz/IA2pm_Feb24_30Hz_locanmf.npz\n",
      "file missing /media/cat/4TBSSD/yuki/IA2/tif_files/IA2pm_Feb25_30Hz/IA2pm_Feb25_30Hz_locanmf.npz\n",
      "  # trials  (31, 16, 1801)\n",
      "(31, 16, 1800)\n",
      "(31, 16, 1800)\n"
     ]
    },
    {
     "name": "stderr",
     "output_type": "stream",
     "text": [
      "\r",
      " 43%|████▎     | 19/44 [00:05<00:05,  4.65it/s]"
     ]
    },
    {
     "name": "stdout",
     "output_type": "stream",
     "text": [
      "  # trials  (59, 16, 1801)\n",
      "(59, 16, 1800)\n",
      "(59, 16, 1800)\n"
     ]
    },
    {
     "name": "stderr",
     "output_type": "stream",
     "text": [
      "\r",
      " 45%|████▌     | 20/44 [00:05<00:06,  3.49it/s]"
     ]
    },
    {
     "name": "stdout",
     "output_type": "stream",
     "text": [
      "  # trials  (21, 16, 1801)\n",
      "(21, 16, 1800)\n",
      "(21, 16, 1800)\n"
     ]
    },
    {
     "name": "stderr",
     "output_type": "stream",
     "text": [
      "\r",
      " 48%|████▊     | 21/44 [00:05<00:06,  3.63it/s]"
     ]
    },
    {
     "name": "stdout",
     "output_type": "stream",
     "text": [
      "  # trials  (63, 16, 1801)\n",
      "(63, 16, 1800)\n",
      "(63, 16, 1800)\n"
     ]
    },
    {
     "name": "stderr",
     "output_type": "stream",
     "text": [
      "\r",
      " 50%|█████     | 22/44 [00:06<00:07,  2.76it/s]"
     ]
    },
    {
     "name": "stdout",
     "output_type": "stream",
     "text": [
      "file missing /media/cat/4TBSSD/yuki/IA2/tif_files/IA2pm_Mar3_30Hz/IA2pm_Mar3_30Hz_locanmf.npz\n",
      "  # trials  (32, 16, 1801)\n",
      "(32, 16, 1800)\n",
      "(32, 16, 1800)\n"
     ]
    },
    {
     "name": "stderr",
     "output_type": "stream",
     "text": [
      " 59%|█████▉    | 26/44 [00:07<00:03,  4.69it/s]"
     ]
    },
    {
     "name": "stdout",
     "output_type": "stream",
     "text": [
      "file missing /media/cat/4TBSSD/yuki/IA2/tif_files/IA2am_Mar7_30Hz/IA2am_Mar7_30Hz_locanmf.npz\n",
      "  # trials  (13, 16, 1801)\n",
      "(13, 16, 1800)\n",
      "(13, 16, 1800)\n",
      "  # trials  (12, 16, 1801)\n",
      "(12, 16, 1800)\n"
     ]
    },
    {
     "name": "stderr",
     "output_type": "stream",
     "text": [
      "\r",
      " 61%|██████▏   | 27/44 [00:07<00:03,  5.04it/s]"
     ]
    },
    {
     "name": "stdout",
     "output_type": "stream",
     "text": [
      "(12, 16, 1800)\n",
      "file missing /media/cat/4TBSSD/yuki/IA2/tif_files/IA2am_Mar10_30Hz/IA2am_Mar10_30Hz_locanmf.npz\n",
      "  # trials  (79, 16, 1801)\n",
      "(79, 16, 1800)\n",
      "(79, 16, 1800)\n"
     ]
    },
    {
     "name": "stderr",
     "output_type": "stream",
     "text": [
      "\r",
      " 66%|██████▌   | 29/44 [00:08<00:04,  3.58it/s]"
     ]
    },
    {
     "name": "stdout",
     "output_type": "stream",
     "text": [
      "  # trials  (87, 16, 1801)\n",
      "(87, 16, 1800)\n",
      "(87, 16, 1800)\n"
     ]
    },
    {
     "name": "stderr",
     "output_type": "stream",
     "text": [
      "\r",
      " 68%|██████▊   | 30/44 [00:08<00:05,  2.42it/s]"
     ]
    },
    {
     "name": "stdout",
     "output_type": "stream",
     "text": [
      "  # trials  (63, 16, 1801)\n",
      "(63, 16, 1800)\n",
      "(63, 16, 1800)\n"
     ]
    },
    {
     "name": "stderr",
     "output_type": "stream",
     "text": [
      "\r",
      " 70%|███████   | 31/44 [00:09<00:06,  2.12it/s]"
     ]
    },
    {
     "name": "stdout",
     "output_type": "stream",
     "text": [
      "  # trials  (98, 16, 1801)\n",
      "(98, 16, 1800)\n",
      "(98, 16, 1800)\n"
     ]
    },
    {
     "name": "stderr",
     "output_type": "stream",
     "text": [
      "\r",
      " 73%|███████▎  | 32/44 [00:10<00:07,  1.64it/s]"
     ]
    },
    {
     "name": "stdout",
     "output_type": "stream",
     "text": [
      "  # trials  (82, 16, 1801)\n",
      "(82, 16, 1800)\n",
      "(82, 16, 1800)\n"
     ]
    },
    {
     "name": "stderr",
     "output_type": "stream",
     "text": [
      "\r",
      " 75%|███████▌  | 33/44 [00:11<00:07,  1.47it/s]"
     ]
    },
    {
     "name": "stdout",
     "output_type": "stream",
     "text": [
      "  # trials  (61, 16, 1801)\n",
      "(61, 16, 1800)\n",
      "(61, 16, 1800)\n"
     ]
    },
    {
     "name": "stderr",
     "output_type": "stream",
     "text": [
      "\r",
      " 77%|███████▋  | 34/44 [00:12<00:06,  1.49it/s]"
     ]
    },
    {
     "name": "stdout",
     "output_type": "stream",
     "text": [
      "  # trials  (49, 16, 1801)\n",
      "(49, 16, 1800)\n",
      "(49, 16, 1800)\n"
     ]
    },
    {
     "name": "stderr",
     "output_type": "stream",
     "text": [
      "\r",
      " 80%|███████▉  | 35/44 [00:12<00:05,  1.59it/s]"
     ]
    },
    {
     "name": "stdout",
     "output_type": "stream",
     "text": [
      "  # trials  (67, 16, 1801)\n",
      "(67, 16, 1800)\n",
      "(67, 16, 1800)\n"
     ]
    },
    {
     "name": "stderr",
     "output_type": "stream",
     "text": [
      "\r",
      " 82%|████████▏ | 36/44 [00:13<00:05,  1.53it/s]"
     ]
    },
    {
     "name": "stdout",
     "output_type": "stream",
     "text": [
      "  # trials  (45, 16, 1801)\n",
      "(45, 16, 1800)\n",
      "(45, 16, 1800)\n"
     ]
    },
    {
     "name": "stderr",
     "output_type": "stream",
     "text": [
      "\r",
      " 84%|████████▍ | 37/44 [00:13<00:04,  1.65it/s]"
     ]
    },
    {
     "name": "stdout",
     "output_type": "stream",
     "text": [
      "file missing /media/cat/4TBSSD/yuki/IA2/tif_files/IA2pm_Mar29_30Hz/IA2pm_Mar29_30Hz_locanmf.npz\n",
      "  # trials  (35, 16, 1801)\n",
      "(35, 16, 1800)\n"
     ]
    },
    {
     "name": "stderr",
     "output_type": "stream",
     "text": [
      "\r",
      " 89%|████████▊ | 39/44 [00:14<00:02,  2.39it/s]"
     ]
    },
    {
     "name": "stdout",
     "output_type": "stream",
     "text": [
      "(35, 16, 1800)\n",
      "  # trials  (62, 16, 1801)\n",
      "(62, 16, 1800)\n",
      "(62, 16, 1800)\n"
     ]
    },
    {
     "name": "stderr",
     "output_type": "stream",
     "text": [
      "\r",
      " 91%|█████████ | 40/44 [00:14<00:01,  2.10it/s]"
     ]
    },
    {
     "name": "stdout",
     "output_type": "stream",
     "text": [
      "  # trials  (85, 16, 1801)\n",
      "(85, 16, 1800)\n",
      "(85, 16, 1800)\n"
     ]
    },
    {
     "name": "stderr",
     "output_type": "stream",
     "text": [
      "\r",
      " 93%|█████████▎| 41/44 [00:15<00:01,  1.71it/s]"
     ]
    },
    {
     "name": "stdout",
     "output_type": "stream",
     "text": [
      "  # trials  (28, 16, 1801)\n",
      "(28, 16, 1800)\n",
      "(28, 16, 1800)\n"
     ]
    },
    {
     "name": "stderr",
     "output_type": "stream",
     "text": [
      "\r",
      " 95%|█████████▌| 42/44 [00:16<00:01,  1.97it/s]"
     ]
    },
    {
     "name": "stdout",
     "output_type": "stream",
     "text": [
      "  # trials  (22, 16, 1801)\n",
      "(22, 16, 1800)\n",
      "(22, 16, 1800)\n"
     ]
    },
    {
     "name": "stderr",
     "output_type": "stream",
     "text": [
      "\r",
      " 98%|█████████▊| 43/44 [00:16<00:00,  2.30it/s]"
     ]
    },
    {
     "name": "stdout",
     "output_type": "stream",
     "text": [
      "  # trials  (62, 16, 1801)\n",
      "(62, 16, 1800)\n",
      "(62, 16, 1800)\n"
     ]
    },
    {
     "name": "stderr",
     "output_type": "stream",
     "text": [
      "100%|██████████| 44/44 [00:17<00:00,  2.58it/s]\n",
      "  0%|          | 0/44 [00:00<?, ?it/s]"
     ]
    },
    {
     "name": "stdout",
     "output_type": "stream",
     "text": [
      "# good sessions:  31\n",
      "# of sessions:  (44,)\n",
      "  # trials  (28, 16, 1801)\n",
      "(28, 16, 1800)\n",
      "(28, 16, 1800)\n"
     ]
    },
    {
     "name": "stderr",
     "output_type": "stream",
     "text": [
      "\r",
      "  2%|▏         | 1/44 [00:00<00:13,  3.28it/s]"
     ]
    },
    {
     "name": "stdout",
     "output_type": "stream",
     "text": [
      "  # trials  (65, 16, 1801)\n",
      "(65, 16, 1800)\n",
      "(65, 16, 1800)\n"
     ]
    },
    {
     "name": "stderr",
     "output_type": "stream",
     "text": [
      "\r",
      "  5%|▍         | 2/44 [00:00<00:22,  1.88it/s]"
     ]
    },
    {
     "name": "stdout",
     "output_type": "stream",
     "text": [
      "  # trials  (91, 16, 1801)\n",
      "(91, 16, 1800)\n",
      "(91, 16, 1800)\n"
     ]
    },
    {
     "name": "stderr",
     "output_type": "stream",
     "text": [
      "\r",
      "  7%|▋         | 3/44 [00:01<00:29,  1.38it/s]"
     ]
    },
    {
     "name": "stdout",
     "output_type": "stream",
     "text": [
      "  # trials  (53, 16, 1801)\n",
      "(53, 16, 1800)\n",
      "(53, 16, 1800)\n"
     ]
    },
    {
     "name": "stderr",
     "output_type": "stream",
     "text": [
      " 11%|█▏        | 5/44 [00:02<00:18,  2.13it/s]"
     ]
    },
    {
     "name": "stdout",
     "output_type": "stream",
     "text": [
      "  # trials  (11, 16, 1801)\n",
      "(11, 16, 1800)\n",
      "(11, 16, 1800)\n",
      "file missing /media/cat/4TBSSD/yuki/IA3/tif_files/IA3pm_Feb10_30Hz/IA3pm_Feb10_30Hz_locanmf.npz\n",
      "  # trials  (13, 16, 1801)\n",
      "(13, 16, 1800)\n",
      "(13, 16, 1800)\n"
     ]
    },
    {
     "name": "stderr",
     "output_type": "stream",
     "text": [
      "\r",
      " 16%|█▌        | 7/44 [00:02<00:09,  3.72it/s]"
     ]
    },
    {
     "name": "stdout",
     "output_type": "stream",
     "text": [
      "  # trials  (82, 16, 1801)\n",
      "(82, 16, 1800)\n",
      "(82, 16, 1800)\n"
     ]
    },
    {
     "name": "stderr",
     "output_type": "stream",
     "text": [
      "\r",
      " 18%|█▊        | 8/44 [00:03<00:15,  2.34it/s]"
     ]
    },
    {
     "name": "stdout",
     "output_type": "stream",
     "text": [
      "  # trials  (48, 16, 1801)\n",
      "(48, 16, 1800)\n",
      "(48, 16, 1800)\n"
     ]
    },
    {
     "name": "stderr",
     "output_type": "stream",
     "text": [
      "\r",
      " 20%|██        | 9/44 [00:04<00:15,  2.22it/s]"
     ]
    },
    {
     "name": "stdout",
     "output_type": "stream",
     "text": [
      "  # trials  (66, 16, 1801)\n",
      "(66, 16, 1800)\n",
      "(66, 16, 1800)\n"
     ]
    },
    {
     "name": "stderr",
     "output_type": "stream",
     "text": [
      "\r",
      " 23%|██▎       | 10/44 [00:04<00:17,  1.92it/s]"
     ]
    },
    {
     "name": "stdout",
     "output_type": "stream",
     "text": [
      "  # trials  (49, 16, 1801)\n",
      "(49, 16, 1800)\n",
      "(49, 16, 1800)\n"
     ]
    },
    {
     "name": "stderr",
     "output_type": "stream",
     "text": [
      "\r",
      " 25%|██▌       | 11/44 [00:05<00:17,  1.92it/s]"
     ]
    },
    {
     "name": "stdout",
     "output_type": "stream",
     "text": [
      "  # trials  (38, 16, 1801)\n",
      "(38, 16, 1800)\n",
      "(38, 16, 1800)\n"
     ]
    },
    {
     "name": "stderr",
     "output_type": "stream",
     "text": [
      "\r",
      " 27%|██▋       | 12/44 [00:05<00:15,  2.05it/s]"
     ]
    },
    {
     "name": "stdout",
     "output_type": "stream",
     "text": [
      "  # trials  (30, 16, 1801)\n",
      "(30, 16, 1800)\n",
      "(30, 16, 1800)\n"
     ]
    },
    {
     "name": "stderr",
     "output_type": "stream",
     "text": [
      "\r",
      " 30%|██▉       | 13/44 [00:06<00:13,  2.27it/s]"
     ]
    },
    {
     "name": "stdout",
     "output_type": "stream",
     "text": [
      "  # trials  (24, 16, 1801)\n",
      "(24, 16, 1800)\n",
      "(24, 16, 1800)\n"
     ]
    },
    {
     "name": "stderr",
     "output_type": "stream",
     "text": [
      " 34%|███▍      | 15/44 [00:06<00:09,  3.22it/s]"
     ]
    },
    {
     "name": "stdout",
     "output_type": "stream",
     "text": [
      "  # trials  (11, 16, 1801)\n",
      "(11, 16, 1800)\n",
      "(11, 16, 1800)\n",
      "file missing /media/cat/4TBSSD/yuki/IA3/tif_files/IA3pm_Feb24_30Hz/IA3pm_Feb24_30Hz_locanmf.npz\n",
      "file missing /media/cat/4TBSSD/yuki/IA3/tif_files/IA3pm_Feb25_30Hz/IA3pm_Feb25_30Hz_locanmf.npz\n",
      "  # trials  (65, 16, 1801)\n",
      "(65, 16, 1800)\n",
      "(65, 16, 1800)\n"
     ]
    },
    {
     "name": "stderr",
     "output_type": "stream",
     "text": [
      "\r",
      " 41%|████      | 18/44 [00:07<00:06,  3.76it/s]"
     ]
    },
    {
     "name": "stdout",
     "output_type": "stream",
     "text": [
      "  # trials  (46, 16, 1801)\n",
      "(46, 16, 1800)\n",
      "(46, 16, 1800)\n"
     ]
    },
    {
     "name": "stderr",
     "output_type": "stream",
     "text": [
      "\r",
      " 43%|████▎     | 19/44 [00:07<00:07,  3.19it/s]"
     ]
    },
    {
     "name": "stdout",
     "output_type": "stream",
     "text": [
      "  # trials  (23, 16, 1801)\n",
      "(23, 16, 1800)\n",
      "(23, 16, 1800)\n"
     ]
    },
    {
     "name": "stderr",
     "output_type": "stream",
     "text": [
      "\r",
      " 45%|████▌     | 20/44 [00:07<00:07,  3.34it/s]"
     ]
    },
    {
     "name": "stdout",
     "output_type": "stream",
     "text": [
      "  # trials  (33, 16, 1801)\n",
      "(33, 16, 1800)\n",
      "(33, 16, 1800)\n"
     ]
    },
    {
     "name": "stderr",
     "output_type": "stream",
     "text": [
      "\r",
      " 48%|████▊     | 21/44 [00:08<00:07,  3.19it/s]"
     ]
    },
    {
     "name": "stdout",
     "output_type": "stream",
     "text": [
      "  # trials  (51, 16, 1801)\n",
      "(51, 16, 1800)\n",
      "(51, 16, 1800)\n"
     ]
    },
    {
     "name": "stderr",
     "output_type": "stream",
     "text": [
      "\r",
      " 50%|█████     | 22/44 [00:08<00:08,  2.66it/s]"
     ]
    },
    {
     "name": "stdout",
     "output_type": "stream",
     "text": [
      "  # trials  (38, 16, 1801)\n",
      "(38, 16, 1800)\n",
      "(38, 16, 1800)\n"
     ]
    },
    {
     "name": "stderr",
     "output_type": "stream",
     "text": [
      "\r",
      " 52%|█████▏    | 23/44 [00:09<00:08,  2.60it/s]"
     ]
    },
    {
     "name": "stdout",
     "output_type": "stream",
     "text": [
      "  # trials  (34, 16, 1801)\n",
      "(34, 16, 1800)\n",
      "(34, 16, 1800)\n"
     ]
    },
    {
     "name": "stderr",
     "output_type": "stream",
     "text": [
      "\r",
      " 55%|█████▍    | 24/44 [00:09<00:07,  2.63it/s]"
     ]
    },
    {
     "name": "stdout",
     "output_type": "stream",
     "text": [
      "  # trials  (40, 16, 1801)\n",
      "(40, 16, 1800)\n",
      "(40, 16, 1800)\n"
     ]
    },
    {
     "name": "stderr",
     "output_type": "stream",
     "text": [
      "\r",
      " 57%|█████▋    | 25/44 [00:10<00:07,  2.53it/s]"
     ]
    },
    {
     "name": "stdout",
     "output_type": "stream",
     "text": [
      "  # trials  (65, 16, 1801)\n",
      "(65, 16, 1800)\n",
      "(65, 16, 1800)\n"
     ]
    },
    {
     "name": "stderr",
     "output_type": "stream",
     "text": [
      "\r",
      " 59%|█████▉    | 26/44 [00:10<00:08,  2.08it/s]"
     ]
    },
    {
     "name": "stdout",
     "output_type": "stream",
     "text": [
      "  # trials  (55, 16, 1801)\n",
      "(55, 16, 1800)\n",
      "(55, 16, 1800)\n"
     ]
    },
    {
     "name": "stderr",
     "output_type": "stream",
     "text": [
      "\r",
      " 61%|██████▏   | 27/44 [00:11<00:08,  1.95it/s]"
     ]
    },
    {
     "name": "stdout",
     "output_type": "stream",
     "text": [
      "  # trials  (22, 16, 1801)\n",
      "(22, 16, 1800)\n",
      "(22, 16, 1800)\n"
     ]
    },
    {
     "name": "stderr",
     "output_type": "stream",
     "text": [
      "\r",
      " 64%|██████▎   | 28/44 [00:11<00:06,  2.31it/s]"
     ]
    },
    {
     "name": "stdout",
     "output_type": "stream",
     "text": [
      "  # trials  (34, 16, 1801)\n",
      "(34, 16, 1800)\n",
      "(34, 16, 1800)\n"
     ]
    },
    {
     "name": "stderr",
     "output_type": "stream",
     "text": [
      "\r",
      " 66%|██████▌   | 29/44 [00:11<00:06,  2.42it/s]"
     ]
    },
    {
     "name": "stdout",
     "output_type": "stream",
     "text": [
      "  # trials  (47, 16, 1801)\n",
      "(47, 16, 1800)\n",
      "(47, 16, 1800)\n"
     ]
    },
    {
     "name": "stderr",
     "output_type": "stream",
     "text": [
      "\r",
      " 68%|██████▊   | 30/44 [00:12<00:06,  2.27it/s]"
     ]
    },
    {
     "name": "stdout",
     "output_type": "stream",
     "text": [
      "  # trials  (56, 16, 1801)\n",
      "(56, 16, 1800)\n",
      "(56, 16, 1800)\n"
     ]
    },
    {
     "name": "stderr",
     "output_type": "stream",
     "text": [
      "\r",
      " 70%|███████   | 31/44 [00:13<00:06,  2.06it/s]"
     ]
    },
    {
     "name": "stdout",
     "output_type": "stream",
     "text": [
      "  # trials  (80, 16, 1801)\n",
      "(80, 16, 1800)\n",
      "(80, 16, 1800)\n"
     ]
    },
    {
     "name": "stderr",
     "output_type": "stream",
     "text": [
      "\r",
      " 73%|███████▎  | 32/44 [00:13<00:07,  1.69it/s]"
     ]
    },
    {
     "name": "stdout",
     "output_type": "stream",
     "text": [
      "  # trials  (106, 16, 1801)\n",
      "(106, 16, 1800)\n",
      "(106, 16, 1800)\n"
     ]
    },
    {
     "name": "stderr",
     "output_type": "stream",
     "text": [
      "\r",
      " 75%|███████▌  | 33/44 [00:15<00:08,  1.34it/s]"
     ]
    },
    {
     "name": "stdout",
     "output_type": "stream",
     "text": [
      "  # trials  (99, 16, 1801)\n",
      "(99, 16, 1800)\n",
      "(99, 16, 1800)\n"
     ]
    },
    {
     "name": "stderr",
     "output_type": "stream",
     "text": [
      "\r",
      " 77%|███████▋  | 34/44 [00:16<00:08,  1.20it/s]"
     ]
    },
    {
     "name": "stdout",
     "output_type": "stream",
     "text": [
      "  # trials  (108, 16, 1801)\n",
      "(108, 16, 1800)\n",
      "(108, 16, 1800)\n"
     ]
    },
    {
     "name": "stderr",
     "output_type": "stream",
     "text": [
      "\r",
      " 80%|███████▉  | 35/44 [00:17<00:08,  1.08it/s]"
     ]
    },
    {
     "name": "stdout",
     "output_type": "stream",
     "text": [
      "  # trials  (130, 16, 1801)\n",
      "(130, 16, 1800)\n",
      "(130, 16, 1800)\n"
     ]
    },
    {
     "name": "stderr",
     "output_type": "stream",
     "text": [
      "\r",
      " 82%|████████▏ | 36/44 [00:18<00:08,  1.05s/it]"
     ]
    },
    {
     "name": "stdout",
     "output_type": "stream",
     "text": [
      "  # trials  (88, 16, 1801)\n",
      "(88, 16, 1800)\n",
      "(88, 16, 1800)\n"
     ]
    },
    {
     "name": "stderr",
     "output_type": "stream",
     "text": [
      "\r",
      " 84%|████████▍ | 37/44 [00:19<00:07,  1.01s/it]"
     ]
    },
    {
     "name": "stdout",
     "output_type": "stream",
     "text": [
      "  # trials  (48, 16, 1801)\n",
      "(48, 16, 1800)\n",
      "(48, 16, 1800)\n"
     ]
    },
    {
     "name": "stderr",
     "output_type": "stream",
     "text": [
      "\r",
      " 86%|████████▋ | 38/44 [00:19<00:05,  1.16it/s]"
     ]
    },
    {
     "name": "stdout",
     "output_type": "stream",
     "text": [
      "  # trials  (95, 16, 1801)\n",
      "(95, 16, 1800)\n",
      "(95, 16, 1800)\n"
     ]
    },
    {
     "name": "stderr",
     "output_type": "stream",
     "text": [
      "\r",
      " 89%|████████▊ | 39/44 [00:20<00:04,  1.11it/s]"
     ]
    },
    {
     "name": "stdout",
     "output_type": "stream",
     "text": [
      "  # trials  (75, 16, 1801)\n",
      "(75, 16, 1800)\n",
      "(75, 16, 1800)\n"
     ]
    },
    {
     "name": "stderr",
     "output_type": "stream",
     "text": [
      "\r",
      " 91%|█████████ | 40/44 [00:21<00:03,  1.15it/s]"
     ]
    },
    {
     "name": "stdout",
     "output_type": "stream",
     "text": [
      "  # trials  (63, 16, 1801)\n",
      "(63, 16, 1800)\n",
      "(63, 16, 1800)\n"
     ]
    },
    {
     "name": "stderr",
     "output_type": "stream",
     "text": [
      "\r",
      " 93%|█████████▎| 41/44 [00:22<00:02,  1.24it/s]"
     ]
    },
    {
     "name": "stdout",
     "output_type": "stream",
     "text": [
      "  # trials  (117, 16, 1801)\n",
      "(117, 16, 1800)\n",
      "(117, 16, 1800)\n"
     ]
    },
    {
     "name": "stderr",
     "output_type": "stream",
     "text": [
      "\r",
      " 95%|█████████▌| 42/44 [00:23<00:01,  1.07it/s]"
     ]
    },
    {
     "name": "stdout",
     "output_type": "stream",
     "text": [
      "  # trials  (67, 16, 1801)\n",
      "(67, 16, 1800)\n",
      "(67, 16, 1800)\n"
     ]
    },
    {
     "name": "stderr",
     "output_type": "stream",
     "text": [
      "\r",
      " 98%|█████████▊| 43/44 [00:24<00:00,  1.16it/s]"
     ]
    },
    {
     "name": "stdout",
     "output_type": "stream",
     "text": [
      "  # trials  (104, 16, 1801)\n",
      "(104, 16, 1800)\n",
      "(104, 16, 1800)\n"
     ]
    },
    {
     "name": "stderr",
     "output_type": "stream",
     "text": [
      "100%|██████████| 44/44 [00:25<00:00,  1.73it/s]\n",
      "  0%|          | 0/44 [00:00<?, ?it/s]"
     ]
    },
    {
     "name": "stdout",
     "output_type": "stream",
     "text": [
      "# good sessions:  41\n",
      "# of sessions:  (44,)\n",
      "  # trials  (29, 16, 1801)\n",
      "(29, 16, 1800)\n",
      "(29, 16, 1800)\n"
     ]
    },
    {
     "name": "stderr",
     "output_type": "stream",
     "text": [
      "\r",
      "  2%|▏         | 1/44 [00:00<00:13,  3.17it/s]"
     ]
    },
    {
     "name": "stdout",
     "output_type": "stream",
     "text": [
      "  # trials  (31, 16, 1801)\n",
      "(31, 16, 1800)\n",
      "(31, 16, 1800)\n"
     ]
    },
    {
     "name": "stderr",
     "output_type": "stream",
     "text": [
      "\r",
      "  5%|▍         | 2/44 [00:00<00:13,  3.04it/s]"
     ]
    },
    {
     "name": "stdout",
     "output_type": "stream",
     "text": [
      "  # trials  (43, 16, 1801)\n",
      "(43, 16, 1800)\n",
      "(43, 16, 1800)\n"
     ]
    },
    {
     "name": "stderr",
     "output_type": "stream",
     "text": [
      "\r",
      "  7%|▋         | 3/44 [00:01<00:15,  2.57it/s]"
     ]
    },
    {
     "name": "stdout",
     "output_type": "stream",
     "text": [
      "  # trials  (38, 16, 1801)\n",
      "(38, 16, 1800)\n",
      "(38, 16, 1800)\n"
     ]
    },
    {
     "name": "stderr",
     "output_type": "stream",
     "text": [
      "\r",
      "  9%|▉         | 4/44 [00:01<00:15,  2.52it/s]"
     ]
    },
    {
     "name": "stdout",
     "output_type": "stream",
     "text": [
      "  # trials  (44, 16, 1801)\n",
      "(44, 16, 1800)\n",
      "(44, 16, 1800)\n"
     ]
    },
    {
     "name": "stderr",
     "output_type": "stream",
     "text": [
      "\r",
      " 11%|█▏        | 5/44 [00:01<00:16,  2.36it/s]"
     ]
    },
    {
     "name": "stdout",
     "output_type": "stream",
     "text": [
      "  # trials  (43, 16, 1801)\n",
      "(43, 16, 1800)\n",
      "(43, 16, 1800)\n"
     ]
    },
    {
     "name": "stderr",
     "output_type": "stream",
     "text": [
      "\r",
      " 14%|█▎        | 6/44 [00:02<00:16,  2.29it/s]"
     ]
    },
    {
     "name": "stdout",
     "output_type": "stream",
     "text": [
      "  # trials  (54, 16, 1801)\n",
      "(54, 16, 1800)\n",
      "(54, 16, 1800)\n"
     ]
    },
    {
     "name": "stderr",
     "output_type": "stream",
     "text": [
      "\r",
      " 16%|█▌        | 7/44 [00:03<00:17,  2.08it/s]"
     ]
    },
    {
     "name": "stdout",
     "output_type": "stream",
     "text": [
      "  # trials  (49, 16, 1801)\n",
      "(49, 16, 1800)\n",
      "(49, 16, 1800)\n"
     ]
    },
    {
     "name": "stderr",
     "output_type": "stream",
     "text": [
      "\r",
      " 18%|█▊        | 8/44 [00:03<00:17,  2.02it/s]"
     ]
    },
    {
     "name": "stdout",
     "output_type": "stream",
     "text": [
      "  # trials  (56, 16, 1801)\n",
      "(56, 16, 1800)\n",
      "(56, 16, 1800)\n"
     ]
    },
    {
     "name": "stderr",
     "output_type": "stream",
     "text": [
      "\r",
      " 20%|██        | 9/44 [00:04<00:18,  1.90it/s]"
     ]
    },
    {
     "name": "stdout",
     "output_type": "stream",
     "text": [
      "  # trials  (31, 16, 1801)\n",
      "(31, 16, 1800)\n",
      "(31, 16, 1800)\n"
     ]
    },
    {
     "name": "stderr",
     "output_type": "stream",
     "text": [
      "\r",
      " 23%|██▎       | 10/44 [00:04<00:15,  2.14it/s]"
     ]
    },
    {
     "name": "stdout",
     "output_type": "stream",
     "text": [
      "  # trials  (56, 16, 1801)\n",
      "(56, 16, 1800)\n",
      "(56, 16, 1800)\n"
     ]
    },
    {
     "name": "stderr",
     "output_type": "stream",
     "text": [
      "\r",
      " 25%|██▌       | 11/44 [00:05<00:16,  1.97it/s]"
     ]
    },
    {
     "name": "stdout",
     "output_type": "stream",
     "text": [
      "  # trials  (27, 16, 1801)\n",
      "(27, 16, 1800)\n",
      "(27, 16, 1800)\n"
     ]
    },
    {
     "name": "stderr",
     "output_type": "stream",
     "text": [
      "\r",
      " 27%|██▋       | 12/44 [00:05<00:14,  2.27it/s]"
     ]
    },
    {
     "name": "stdout",
     "output_type": "stream",
     "text": [
      "  # trials  (44, 16, 1801)\n",
      "(44, 16, 1800)\n",
      "(44, 16, 1800)\n"
     ]
    },
    {
     "name": "stderr",
     "output_type": "stream",
     "text": [
      "\r",
      " 30%|██▉       | 13/44 [00:05<00:13,  2.22it/s]"
     ]
    },
    {
     "name": "stdout",
     "output_type": "stream",
     "text": [
      "  # trials  (26, 16, 1801)\n",
      "(26, 16, 1800)\n",
      "(26, 16, 1800)\n"
     ]
    },
    {
     "name": "stderr",
     "output_type": "stream",
     "text": [
      "\r",
      " 32%|███▏      | 14/44 [00:06<00:12,  2.50it/s]"
     ]
    },
    {
     "name": "stdout",
     "output_type": "stream",
     "text": [
      "  # trials  (82, 16, 1801)\n",
      "(82, 16, 1800)\n",
      "(82, 16, 1800)\n"
     ]
    },
    {
     "name": "stderr",
     "output_type": "stream",
     "text": [
      "\r",
      " 34%|███▍      | 15/44 [00:06<00:15,  1.85it/s]"
     ]
    },
    {
     "name": "stdout",
     "output_type": "stream",
     "text": [
      "file missing /media/cat/4TBSSD/yuki/IJ1/tif_files/IJ1pm_Feb24_30Hz/IJ1pm_Feb24_30Hz_locanmf.npz\n",
      "file missing /media/cat/4TBSSD/yuki/IJ1/tif_files/IJ1pm_Feb25_30Hz/IJ1pm_Feb25_30Hz_locanmf.npz\n",
      "  # trials  (46, 16, 1801)\n",
      "(46, 16, 1800)\n",
      "(46, 16, 1800)\n"
     ]
    },
    {
     "name": "stderr",
     "output_type": "stream",
     "text": [
      "\r",
      " 41%|████      | 18/44 [00:07<00:08,  3.03it/s]"
     ]
    },
    {
     "name": "stdout",
     "output_type": "stream",
     "text": [
      "  # trials  (73, 16, 1801)\n",
      "(73, 16, 1800)\n",
      "(73, 16, 1800)\n"
     ]
    },
    {
     "name": "stderr",
     "output_type": "stream",
     "text": [
      " 45%|████▌     | 20/44 [00:08<00:08,  2.72it/s]"
     ]
    },
    {
     "name": "stdout",
     "output_type": "stream",
     "text": [
      "  # trials  (16, 16, 1801)\n",
      "(16, 16, 1800)\n",
      "(16, 16, 1800)\n",
      "  # trials  (61, 16, 1801)\n",
      "(61, 16, 1800)\n",
      "(61, 16, 1800)\n"
     ]
    },
    {
     "name": "stderr",
     "output_type": "stream",
     "text": [
      "\r",
      " 48%|████▊     | 21/44 [00:09<00:10,  2.28it/s]"
     ]
    },
    {
     "name": "stdout",
     "output_type": "stream",
     "text": [
      "  # trials  (132, 16, 1801)\n",
      "(132, 16, 1800)\n",
      "(132, 16, 1800)\n"
     ]
    },
    {
     "name": "stderr",
     "output_type": "stream",
     "text": [
      "\r",
      " 50%|█████     | 22/44 [00:10<00:15,  1.46it/s]"
     ]
    },
    {
     "name": "stdout",
     "output_type": "stream",
     "text": [
      "  # trials  (114, 16, 1801)\n",
      "(114, 16, 1800)\n",
      "(114, 16, 1800)\n"
     ]
    },
    {
     "name": "stderr",
     "output_type": "stream",
     "text": [
      "\r",
      " 52%|█████▏    | 23/44 [00:11<00:17,  1.21it/s]"
     ]
    },
    {
     "name": "stdout",
     "output_type": "stream",
     "text": [
      "  # trials  (42, 16, 1801)\n",
      "(42, 16, 1800)\n",
      "(42, 16, 1800)\n"
     ]
    },
    {
     "name": "stderr",
     "output_type": "stream",
     "text": [
      "\r",
      " 55%|█████▍    | 24/44 [00:12<00:14,  1.39it/s]"
     ]
    },
    {
     "name": "stdout",
     "output_type": "stream",
     "text": [
      "file missing /media/cat/4TBSSD/yuki/IJ1/tif_files/IJ1am_Mar9_30Hz/IJ1am_Mar9_30Hz_locanmf.npz\n",
      "  # trials  (37, 16, 1801)\n",
      "(37, 16, 1800)\n"
     ]
    },
    {
     "name": "stderr",
     "output_type": "stream",
     "text": [
      "\r",
      " 59%|█████▉    | 26/44 [00:12<00:08,  2.05it/s]"
     ]
    },
    {
     "name": "stdout",
     "output_type": "stream",
     "text": [
      "(37, 16, 1800)\n",
      "  # trials  (18, 16, 1801)\n",
      "(18, 16, 1800)\n"
     ]
    },
    {
     "name": "stderr",
     "output_type": "stream",
     "text": [
      "\r",
      " 61%|██████▏   | 27/44 [00:12<00:07,  2.39it/s]"
     ]
    },
    {
     "name": "stdout",
     "output_type": "stream",
     "text": [
      "(18, 16, 1800)\n",
      "  # trials  (10, 16, 1801)\n",
      "(10, 16, 1800)\n",
      "(10, 16, 1800)\n"
     ]
    },
    {
     "name": "stderr",
     "output_type": "stream",
     "text": [
      "\r",
      " 64%|██████▎   | 28/44 [00:12<00:05,  2.92it/s]"
     ]
    },
    {
     "name": "stdout",
     "output_type": "stream",
     "text": [
      "  # trials  (44, 16, 1801)\n",
      "(44, 16, 1800)\n",
      "(44, 16, 1800)\n"
     ]
    },
    {
     "name": "stderr",
     "output_type": "stream",
     "text": [
      "\r",
      " 66%|██████▌   | 29/44 [00:13<00:05,  2.65it/s]"
     ]
    },
    {
     "name": "stdout",
     "output_type": "stream",
     "text": [
      "  # trials  (32, 16, 1801)\n",
      "(32, 16, 1800)\n",
      "(32, 16, 1800)\n"
     ]
    },
    {
     "name": "stderr",
     "output_type": "stream",
     "text": [
      "\r",
      " 68%|██████▊   | 30/44 [00:13<00:05,  2.71it/s]"
     ]
    },
    {
     "name": "stdout",
     "output_type": "stream",
     "text": [
      "  # trials  (21, 16, 1801)\n",
      "(21, 16, 1800)\n",
      "(21, 16, 1800)\n"
     ]
    },
    {
     "name": "stderr",
     "output_type": "stream",
     "text": [
      "\r",
      " 70%|███████   | 31/44 [00:13<00:04,  3.03it/s]"
     ]
    },
    {
     "name": "stdout",
     "output_type": "stream",
     "text": [
      "  # trials  (42, 16, 1801)\n",
      "(42, 16, 1800)\n",
      "(42, 16, 1800)\n"
     ]
    },
    {
     "name": "stderr",
     "output_type": "stream",
     "text": [
      " 75%|███████▌  | 33/44 [00:14<00:03,  3.35it/s]"
     ]
    },
    {
     "name": "stdout",
     "output_type": "stream",
     "text": [
      "  # trials  (12, 16, 1801)\n",
      "(12, 16, 1800)\n",
      "(12, 16, 1800)\n",
      "  # trials  (19, 16, 1801)\n",
      "(19, 16, 1800)\n"
     ]
    },
    {
     "name": "stderr",
     "output_type": "stream",
     "text": [
      "\r",
      " 77%|███████▋  | 34/44 [00:14<00:02,  3.67it/s]"
     ]
    },
    {
     "name": "stdout",
     "output_type": "stream",
     "text": [
      "(19, 16, 1800)\n",
      "  # trials  (20, 16, 1801)\n",
      "(20, 16, 1800)\n"
     ]
    },
    {
     "name": "stderr",
     "output_type": "stream",
     "text": [
      "\r",
      " 80%|███████▉  | 35/44 [00:14<00:02,  3.89it/s]"
     ]
    },
    {
     "name": "stdout",
     "output_type": "stream",
     "text": [
      "(20, 16, 1800)\n",
      "  # trials  (21, 16, 1801)\n",
      "(21, 16, 1800)\n"
     ]
    },
    {
     "name": "stderr",
     "output_type": "stream",
     "text": [
      "\r",
      " 82%|████████▏ | 36/44 [00:15<00:01,  4.01it/s]"
     ]
    },
    {
     "name": "stdout",
     "output_type": "stream",
     "text": [
      "(21, 16, 1800)\n",
      "  # trials  (19, 16, 1801)\n",
      "(19, 16, 1800)\n"
     ]
    },
    {
     "name": "stderr",
     "output_type": "stream",
     "text": [
      "\r",
      " 84%|████████▍ | 37/44 [00:15<00:01,  4.20it/s]"
     ]
    },
    {
     "name": "stdout",
     "output_type": "stream",
     "text": [
      "(19, 16, 1800)\n",
      "  # trials  (41, 16, 1801)\n",
      "(41, 16, 1800)\n"
     ]
    },
    {
     "name": "stderr",
     "output_type": "stream",
     "text": [
      "\r",
      " 86%|████████▋ | 38/44 [00:15<00:01,  3.36it/s]"
     ]
    },
    {
     "name": "stdout",
     "output_type": "stream",
     "text": [
      "(41, 16, 1800)\n",
      "  # trials  (47, 16, 1801)\n",
      "(47, 16, 1800)\n",
      "(47, 16, 1800)\n"
     ]
    },
    {
     "name": "stderr",
     "output_type": "stream",
     "text": [
      " 91%|█████████ | 40/44 [00:16<00:01,  3.28it/s]"
     ]
    },
    {
     "name": "stdout",
     "output_type": "stream",
     "text": [
      "  # trials  (16, 16, 1801)\n",
      "(16, 16, 1800)\n",
      "(16, 16, 1800)\n",
      "  # trials  (27, 16, 1801)\n",
      "(27, 16, 1800)\n"
     ]
    },
    {
     "name": "stderr",
     "output_type": "stream",
     "text": [
      "\r",
      " 93%|█████████▎| 41/44 [00:16<00:00,  3.31it/s]"
     ]
    },
    {
     "name": "stdout",
     "output_type": "stream",
     "text": [
      "(27, 16, 1800)\n",
      "  # trials  (37, 16, 1801)\n",
      "(37, 16, 1800)\n"
     ]
    },
    {
     "name": "stderr",
     "output_type": "stream",
     "text": [
      "\r",
      " 95%|█████████▌| 42/44 [00:17<00:00,  3.03it/s]"
     ]
    },
    {
     "name": "stdout",
     "output_type": "stream",
     "text": [
      "(37, 16, 1800)\n",
      "  # trials  (26, 16, 1801)\n",
      "(26, 16, 1800)\n",
      "(26, 16, 1800)\n"
     ]
    },
    {
     "name": "stderr",
     "output_type": "stream",
     "text": [
      "100%|██████████| 44/44 [00:17<00:00,  2.52it/s]\n",
      "  2%|▏         | 1/44 [00:00<00:04,  8.70it/s]"
     ]
    },
    {
     "name": "stdout",
     "output_type": "stream",
     "text": [
      "file missing /media/cat/4TBSSD/yuki/IJ1/tif_files/IJ1pm_Apr7_30Hz/IJ1pm_Apr7_30Hz_locanmf.npz\n",
      "# good sessions:  40\n",
      "# of sessions:  (44,)\n",
      "  # trials  (10, 16, 1801)\n",
      "(10, 16, 1800)\n",
      "(10, 16, 1800)\n",
      "  # trials  (16, 16, 1801)\n",
      "(16, 16, 1800)\n"
     ]
    },
    {
     "name": "stderr",
     "output_type": "stream",
     "text": [
      "\r",
      "  5%|▍         | 2/44 [00:00<00:06,  6.56it/s]"
     ]
    },
    {
     "name": "stdout",
     "output_type": "stream",
     "text": [
      "(16, 16, 1800)\n",
      "  # trials  (43, 16, 1801)\n",
      "(43, 16, 1800)\n",
      "(43, 16, 1800)\n"
     ]
    },
    {
     "name": "stderr",
     "output_type": "stream",
     "text": [
      "\r",
      "  7%|▋         | 3/44 [00:00<00:11,  3.42it/s]"
     ]
    },
    {
     "name": "stdout",
     "output_type": "stream",
     "text": [
      "  # trials  (47, 16, 1801)\n",
      "(47, 16, 1800)\n",
      "(47, 16, 1800)\n"
     ]
    },
    {
     "name": "stderr",
     "output_type": "stream",
     "text": [
      "\r",
      "  9%|▉         | 4/44 [00:01<00:14,  2.67it/s]"
     ]
    },
    {
     "name": "stdout",
     "output_type": "stream",
     "text": [
      "  # trials  (52, 16, 1801)\n",
      "(52, 16, 1800)\n",
      "(52, 16, 1800)\n"
     ]
    },
    {
     "name": "stderr",
     "output_type": "stream",
     "text": [
      "\r",
      " 11%|█▏        | 5/44 [00:01<00:17,  2.28it/s]"
     ]
    },
    {
     "name": "stdout",
     "output_type": "stream",
     "text": [
      "file missing /media/cat/4TBSSD/yuki/IJ2/tif_files/IJ2pm_Feb9_30Hz/IJ2pm_Feb9_30Hz_locanmf.npz\n",
      "  # trials  (50, 16, 1801)\n",
      "(50, 16, 1800)\n",
      "(50, 16, 1800)\n"
     ]
    },
    {
     "name": "stderr",
     "output_type": "stream",
     "text": [
      "\r",
      " 16%|█▌        | 7/44 [00:02<00:13,  2.84it/s]"
     ]
    },
    {
     "name": "stdout",
     "output_type": "stream",
     "text": [
      "  # trials  (39, 16, 1801)\n",
      "(39, 16, 1800)\n",
      "(39, 16, 1800)\n"
     ]
    },
    {
     "name": "stderr",
     "output_type": "stream",
     "text": [
      "\r",
      " 18%|█▊        | 8/44 [00:02<00:13,  2.71it/s]"
     ]
    },
    {
     "name": "stdout",
     "output_type": "stream",
     "text": [
      "  # trials  (26, 16, 1801)\n",
      "(26, 16, 1800)\n",
      "(26, 16, 1800)\n"
     ]
    },
    {
     "name": "stderr",
     "output_type": "stream",
     "text": [
      "\r",
      " 20%|██        | 9/44 [00:03<00:12,  2.89it/s]"
     ]
    },
    {
     "name": "stdout",
     "output_type": "stream",
     "text": [
      "file missing /media/cat/4TBSSD/yuki/IJ2/tif_files/IJ2pm_Feb15_30Hz/IJ2pm_Feb15_30Hz_locanmf.npz\n",
      "  # trials  (56, 16, 1801)\n",
      "(56, 16, 1800)\n",
      "(56, 16, 1800)\n"
     ]
    },
    {
     "name": "stderr",
     "output_type": "stream",
     "text": [
      " 27%|██▋       | 12/44 [00:03<00:08,  3.58it/s]"
     ]
    },
    {
     "name": "stdout",
     "output_type": "stream",
     "text": [
      "  # trials  (12, 16, 1801)\n",
      "(12, 16, 1800)\n",
      "(12, 16, 1800)\n",
      "  # trials  (29, 16, 1801)\n",
      "(29, 16, 1800)\n"
     ]
    },
    {
     "name": "stderr",
     "output_type": "stream",
     "text": [
      "\r",
      " 30%|██▉       | 13/44 [00:04<00:08,  3.48it/s]"
     ]
    },
    {
     "name": "stdout",
     "output_type": "stream",
     "text": [
      "(29, 16, 1800)\n",
      "  # trials  (38, 16, 1801)\n",
      "(38, 16, 1800)\n"
     ]
    },
    {
     "name": "stderr",
     "output_type": "stream",
     "text": [
      "\r",
      " 32%|███▏      | 14/44 [00:04<00:09,  3.13it/s]"
     ]
    },
    {
     "name": "stdout",
     "output_type": "stream",
     "text": [
      "(38, 16, 1800)\n",
      "file missing /media/cat/4TBSSD/yuki/IJ2/tif_files/IJ2pm_Feb23_30Hz/IJ2pm_Feb23_30Hz_locanmf.npz\n",
      "file missing /media/cat/4TBSSD/yuki/IJ2/tif_files/IJ2pm_Feb24_30Hz/IJ2pm_Feb24_30Hz_locanmf.npz\n",
      "file missing /media/cat/4TBSSD/yuki/IJ2/tif_files/IJ2pm_Feb25_30Hz/IJ2pm_Feb25_30Hz_locanmf.npz\n",
      "  # trials  (64, 16, 1801)\n",
      "(64, 16, 1800)\n",
      "(64, 16, 1800)\n"
     ]
    },
    {
     "name": "stderr",
     "output_type": "stream",
     "text": [
      "\r",
      " 41%|████      | 18/44 [00:05<00:05,  4.38it/s]"
     ]
    },
    {
     "name": "stdout",
     "output_type": "stream",
     "text": [
      "  # trials  (94, 16, 1801)\n",
      "(94, 16, 1800)\n",
      "(94, 16, 1800)\n"
     ]
    },
    {
     "name": "stderr",
     "output_type": "stream",
     "text": [
      "\r",
      " 43%|████▎     | 19/44 [00:06<00:09,  2.77it/s]"
     ]
    },
    {
     "name": "stdout",
     "output_type": "stream",
     "text": [
      "  # trials  (61, 16, 1801)\n",
      "(61, 16, 1800)\n",
      "(61, 16, 1800)\n"
     ]
    },
    {
     "name": "stderr",
     "output_type": "stream",
     "text": [
      "\r",
      " 45%|████▌     | 20/44 [00:06<00:10,  2.40it/s]"
     ]
    },
    {
     "name": "stdout",
     "output_type": "stream",
     "text": [
      "  # trials  (106, 16, 1801)\n",
      "(106, 16, 1800)\n",
      "(106, 16, 1800)\n"
     ]
    },
    {
     "name": "stderr",
     "output_type": "stream",
     "text": [
      "\r",
      " 48%|████▊     | 21/44 [00:07<00:13,  1.75it/s]"
     ]
    },
    {
     "name": "stdout",
     "output_type": "stream",
     "text": [
      "  # trials  (48, 16, 1801)\n",
      "(48, 16, 1800)\n",
      "(48, 16, 1800)\n"
     ]
    },
    {
     "name": "stderr",
     "output_type": "stream",
     "text": [
      "\r",
      " 50%|█████     | 22/44 [00:08<00:12,  1.79it/s]"
     ]
    },
    {
     "name": "stdout",
     "output_type": "stream",
     "text": [
      "  # trials  (34, 16, 1801)\n",
      "(34, 16, 1800)\n",
      "(34, 16, 1800)\n"
     ]
    },
    {
     "name": "stderr",
     "output_type": "stream",
     "text": [
      "\r",
      " 52%|█████▏    | 23/44 [00:08<00:10,  1.97it/s]"
     ]
    },
    {
     "name": "stdout",
     "output_type": "stream",
     "text": [
      "  # trials  (21, 16, 1801)\n",
      "(21, 16, 1800)\n",
      "(21, 16, 1800)\n"
     ]
    },
    {
     "name": "stderr",
     "output_type": "stream",
     "text": [
      "\r",
      " 55%|█████▍    | 24/44 [00:08<00:08,  2.31it/s]"
     ]
    },
    {
     "name": "stdout",
     "output_type": "stream",
     "text": [
      "  # trials  (50, 16, 1801)\n",
      "(50, 16, 1800)\n",
      "(50, 16, 1800)\n"
     ]
    },
    {
     "name": "stderr",
     "output_type": "stream",
     "text": [
      "\r",
      " 57%|█████▋    | 25/44 [00:09<00:08,  2.17it/s]"
     ]
    },
    {
     "name": "stdout",
     "output_type": "stream",
     "text": [
      "  # trials  (61, 16, 1801)\n",
      "(61, 16, 1800)\n",
      "(61, 16, 1800)\n"
     ]
    },
    {
     "name": "stderr",
     "output_type": "stream",
     "text": [
      "\r",
      " 59%|█████▉    | 26/44 [00:10<00:09,  1.95it/s]"
     ]
    },
    {
     "name": "stdout",
     "output_type": "stream",
     "text": [
      "  # trials  (59, 16, 1801)\n",
      "(59, 16, 1800)\n",
      "(59, 16, 1800)\n"
     ]
    },
    {
     "name": "stderr",
     "output_type": "stream",
     "text": [
      "\r",
      " 61%|██████▏   | 27/44 [00:10<00:09,  1.83it/s]"
     ]
    },
    {
     "name": "stdout",
     "output_type": "stream",
     "text": [
      "  # trials  (30, 16, 1801)\n",
      "(30, 16, 1800)\n",
      "(30, 16, 1800)\n"
     ]
    },
    {
     "name": "stderr",
     "output_type": "stream",
     "text": [
      "\r",
      " 64%|██████▎   | 28/44 [00:11<00:07,  2.08it/s]"
     ]
    },
    {
     "name": "stdout",
     "output_type": "stream",
     "text": [
      "  # trials  (28, 16, 1801)\n",
      "(28, 16, 1800)\n",
      "(28, 16, 1800)\n"
     ]
    },
    {
     "name": "stderr",
     "output_type": "stream",
     "text": [
      "\r",
      " 66%|██████▌   | 29/44 [00:11<00:06,  2.33it/s]"
     ]
    },
    {
     "name": "stdout",
     "output_type": "stream",
     "text": [
      "  # trials  (43, 16, 1801)\n",
      "(43, 16, 1800)\n",
      "(43, 16, 1800)\n"
     ]
    },
    {
     "name": "stderr",
     "output_type": "stream",
     "text": [
      "\r",
      " 68%|██████▊   | 30/44 [00:11<00:06,  2.28it/s]"
     ]
    },
    {
     "name": "stdout",
     "output_type": "stream",
     "text": [
      "  # trials  (22, 16, 1801)\n",
      "(22, 16, 1800)\n",
      "(22, 16, 1800)\n"
     ]
    },
    {
     "name": "stderr",
     "output_type": "stream",
     "text": [
      "\r",
      " 70%|███████   | 31/44 [00:12<00:04,  2.63it/s]"
     ]
    },
    {
     "name": "stdout",
     "output_type": "stream",
     "text": [
      "  # trials  (44, 16, 1801)\n",
      "(44, 16, 1800)\n",
      "(44, 16, 1800)\n"
     ]
    },
    {
     "name": "stderr",
     "output_type": "stream",
     "text": [
      "\r",
      " 73%|███████▎  | 32/44 [00:12<00:04,  2.46it/s]"
     ]
    },
    {
     "name": "stdout",
     "output_type": "stream",
     "text": [
      "  # trials  (39, 16, 1801)\n",
      "(39, 16, 1800)\n",
      "(39, 16, 1800)\n"
     ]
    },
    {
     "name": "stderr",
     "output_type": "stream",
     "text": [
      "\r",
      " 75%|███████▌  | 33/44 [00:13<00:04,  2.44it/s]"
     ]
    },
    {
     "name": "stdout",
     "output_type": "stream",
     "text": [
      "  # trials  (74, 16, 1801)\n",
      "(74, 16, 1800)\n",
      "(74, 16, 1800)\n"
     ]
    },
    {
     "name": "stderr",
     "output_type": "stream",
     "text": [
      "\r",
      " 77%|███████▋  | 34/44 [00:13<00:05,  1.92it/s]"
     ]
    },
    {
     "name": "stdout",
     "output_type": "stream",
     "text": [
      "  # trials  (33, 16, 1801)\n",
      "(33, 16, 1800)\n",
      "(33, 16, 1800)\n"
     ]
    },
    {
     "name": "stderr",
     "output_type": "stream",
     "text": [
      "\r",
      " 80%|███████▉  | 35/44 [00:14<00:04,  2.13it/s]"
     ]
    },
    {
     "name": "stdout",
     "output_type": "stream",
     "text": [
      "  # trials  (43, 16, 1801)\n",
      "(43, 16, 1800)\n",
      "(43, 16, 1800)\n"
     ]
    },
    {
     "name": "stderr",
     "output_type": "stream",
     "text": [
      "\r",
      " 82%|████████▏ | 36/44 [00:14<00:03,  2.14it/s]"
     ]
    },
    {
     "name": "stdout",
     "output_type": "stream",
     "text": [
      "  # trials  (50, 16, 1801)\n",
      "(50, 16, 1800)\n",
      "(50, 16, 1800)\n"
     ]
    },
    {
     "name": "stderr",
     "output_type": "stream",
     "text": [
      "\r",
      " 84%|████████▍ | 37/44 [00:15<00:03,  2.06it/s]"
     ]
    },
    {
     "name": "stdout",
     "output_type": "stream",
     "text": [
      "  # trials  (64, 16, 1801)\n",
      "(64, 16, 1800)\n",
      "(64, 16, 1800)\n"
     ]
    },
    {
     "name": "stderr",
     "output_type": "stream",
     "text": [
      "\r",
      " 86%|████████▋ | 38/44 [00:15<00:03,  1.84it/s]"
     ]
    },
    {
     "name": "stdout",
     "output_type": "stream",
     "text": [
      "  # trials  (33, 16, 1801)\n",
      "(33, 16, 1800)\n",
      "(33, 16, 1800)\n"
     ]
    },
    {
     "name": "stderr",
     "output_type": "stream",
     "text": [
      "\r",
      " 89%|████████▊ | 39/44 [00:16<00:02,  2.06it/s]"
     ]
    },
    {
     "name": "stdout",
     "output_type": "stream",
     "text": [
      "  # trials  (65, 16, 1801)\n",
      "(65, 16, 1800)\n",
      "(65, 16, 1800)\n"
     ]
    },
    {
     "name": "stderr",
     "output_type": "stream",
     "text": [
      "\r",
      " 91%|█████████ | 40/44 [00:16<00:02,  1.84it/s]"
     ]
    },
    {
     "name": "stdout",
     "output_type": "stream",
     "text": [
      "  # trials  (82, 16, 1801)\n",
      "(82, 16, 1800)\n",
      "(82, 16, 1800)\n"
     ]
    },
    {
     "name": "stderr",
     "output_type": "stream",
     "text": [
      "\r",
      " 93%|█████████▎| 41/44 [00:17<00:01,  1.57it/s]"
     ]
    },
    {
     "name": "stdout",
     "output_type": "stream",
     "text": [
      "  # trials  (58, 16, 1801)\n",
      "(58, 16, 1800)\n",
      "(58, 16, 1800)\n"
     ]
    },
    {
     "name": "stderr",
     "output_type": "stream",
     "text": [
      "\r",
      " 95%|█████████▌| 42/44 [00:18<00:01,  1.59it/s]"
     ]
    },
    {
     "name": "stdout",
     "output_type": "stream",
     "text": [
      "  # trials  (37, 16, 1801)\n",
      "(37, 16, 1800)\n",
      "(37, 16, 1800)\n"
     ]
    },
    {
     "name": "stderr",
     "output_type": "stream",
     "text": [
      "\r",
      " 98%|█████████▊| 43/44 [00:18<00:00,  1.79it/s]"
     ]
    },
    {
     "name": "stdout",
     "output_type": "stream",
     "text": [
      "  # trials  (60, 16, 1801)\n",
      "(60, 16, 1800)\n",
      "(60, 16, 1800)\n"
     ]
    },
    {
     "name": "stderr",
     "output_type": "stream",
     "text": [
      "100%|██████████| 44/44 [00:19<00:00,  2.28it/s]\n",
      "  5%|▍         | 5/110 [00:00<00:02, 46.55it/s]"
     ]
    },
    {
     "name": "stdout",
     "output_type": "stream",
     "text": [
      "# good sessions:  39\n",
      "# of sessions:  (110,)\n",
      "file missing /media/cat/4TBSSD/yuki/AQ2/tif_files/AQ2am_Dec9_30Hz/AQ2am_Dec9_30Hz_locanmf.npz\n",
      "file missing /media/cat/4TBSSD/yuki/AQ2/tif_files/AQ2am_Dec10_30Hz/AQ2am_Dec10_30Hz_locanmf.npz\n",
      "file missing /media/cat/4TBSSD/yuki/AQ2/tif_files/AQ2pm_Dec10_30Hz/AQ2pm_Dec10_30Hz_locanmf.npz\n",
      "file missing /media/cat/4TBSSD/yuki/AQ2/tif_files/AQ2am_Dec11_30Hz/AQ2am_Dec11_30Hz_locanmf.npz\n",
      "  # trials  (9, 16, 1801)\n",
      "(9, 16, 1800)\n",
      "(9, 16, 1800)\n",
      "file missing /media/cat/4TBSSD/yuki/AQ2/tif_files/AQ2am_Dec14_30Hz/AQ2am_Dec14_30Hz_locanmf.npz\n",
      "  # trials  (26, 16, 1801)\n",
      "(26, 16, 1800)\n",
      "(26, 16, 1800)\n",
      "  # trials  (21, 16, 1801)\n",
      "(21, 16, 1800)\n"
     ]
    },
    {
     "name": "stderr",
     "output_type": "stream",
     "text": [
      "\r",
      "  9%|▉         | 10/110 [00:00<00:06, 14.39it/s]"
     ]
    },
    {
     "name": "stdout",
     "output_type": "stream",
     "text": [
      "(21, 16, 1800)\n",
      "file missing /media/cat/4TBSSD/yuki/AQ2/tif_files/AQ2pm_Dec17_30Hz/AQ2pm_Dec17_30Hz_locanmf.npz\n",
      "file missing /media/cat/4TBSSD/yuki/AQ2/tif_files/AQ2am_Dec18_30Hz/AQ2am_Dec18_30Hz_locanmf.npz\n",
      "file missing /media/cat/4TBSSD/yuki/AQ2/tif_files/AQ2pm_Dec18_30Hz/AQ2pm_Dec18_30Hz_locanmf.npz\n",
      "file missing /media/cat/4TBSSD/yuki/AQ2/tif_files/AQ2am_Dec21_30Hz/AQ2am_Dec21_30Hz_locanmf.npz\n",
      "file missing /media/cat/4TBSSD/yuki/AQ2/tif_files/AQ2am_Dec22_30Hz/AQ2am_Dec22_30Hz_locanmf.npz\n",
      "file missing /media/cat/4TBSSD/yuki/AQ2/tif_files/AQ2am_Dec23_30Hz/AQ2am_Dec23_30Hz_locanmf.npz\n",
      "  # trials  (24, 16, 1801)\n",
      "(24, 16, 1800)\n"
     ]
    },
    {
     "name": "stderr",
     "output_type": "stream",
     "text": [
      "\r",
      " 14%|█▎        | 15/110 [00:00<00:05, 16.13it/s]"
     ]
    },
    {
     "name": "stdout",
     "output_type": "stream",
     "text": [
      "(24, 16, 1800)\n",
      "  # trials  (33, 16, 1801)\n",
      "(33, 16, 1800)\n",
      "(33, 16, 1800)\n",
      "file missing /media/cat/4TBSSD/yuki/AQ2/tif_files/AQ2am_Dec30_30Hz/AQ2am_Dec30_30Hz_locanmf.npz\n",
      "  # trials  (65, 16, 1801)\n",
      "(65, 16, 1800)\n",
      "(65, 16, 1800)\n"
     ]
    },
    {
     "name": "stderr",
     "output_type": "stream",
     "text": [
      "\r",
      " 16%|█▋        | 18/110 [00:01<00:13,  7.04it/s]"
     ]
    },
    {
     "name": "stdout",
     "output_type": "stream",
     "text": [
      "  # trials  (52, 16, 1801)\n",
      "(52, 16, 1800)\n",
      "(52, 16, 1800)\n",
      "  # trials  (51, 16, 1801)\n",
      "(51, 16, 1800)\n",
      "(51, 16, 1800)\n"
     ]
    },
    {
     "name": "stderr",
     "output_type": "stream",
     "text": [
      "\r",
      " 18%|█▊        | 20/110 [00:03<00:20,  4.40it/s]"
     ]
    },
    {
     "name": "stdout",
     "output_type": "stream",
     "text": [
      "  # trials  (59, 16, 1801)\n",
      "(59, 16, 1800)\n",
      "(59, 16, 1800)\n"
     ]
    },
    {
     "name": "stderr",
     "output_type": "stream",
     "text": [
      "\r",
      " 19%|█▉        | 21/110 [00:03<00:24,  3.58it/s]"
     ]
    },
    {
     "name": "stdout",
     "output_type": "stream",
     "text": [
      "file missing /media/cat/4TBSSD/yuki/AQ2/tif_files/AQ2am_Jan7_30Hz/AQ2am_Jan7_30Hz_locanmf.npz\n",
      "  # trials  (27, 16, 1801)\n",
      "(27, 16, 1800)\n",
      "(27, 16, 1800)\n"
     ]
    },
    {
     "name": "stderr",
     "output_type": "stream",
     "text": [
      " 22%|██▏       | 24/110 [00:04<00:20,  4.28it/s]"
     ]
    },
    {
     "name": "stdout",
     "output_type": "stream",
     "text": [
      "  # trials  (17, 16, 1801)\n",
      "(17, 16, 1800)\n",
      "(17, 16, 1800)\n",
      "file missing /media/cat/4TBSSD/yuki/AQ2/tif_files/AQ2am_Jan11_30Hz/AQ2am_Jan11_30Hz_locanmf.npz\n",
      "file missing /media/cat/4TBSSD/yuki/AQ2/tif_files/AQ2pm_Jan12_30Hz/AQ2pm_Jan12_30Hz_locanmf.npz\n",
      "file missing /media/cat/4TBSSD/yuki/AQ2/tif_files/AQ2am_Jan12_30Hz/AQ2am_Jan12_30Hz_locanmf.npz\n",
      "  # trials  (37, 16, 1801)\n",
      "(37, 16, 1800)\n",
      "(37, 16, 1800)\n"
     ]
    },
    {
     "name": "stderr",
     "output_type": "stream",
     "text": [
      "\r",
      " 25%|██▌       | 28/110 [00:04<00:13,  5.91it/s]"
     ]
    },
    {
     "name": "stdout",
     "output_type": "stream",
     "text": [
      "  # trials  (54, 16, 1801)\n",
      "(54, 16, 1800)\n",
      "(54, 16, 1800)\n"
     ]
    },
    {
     "name": "stderr",
     "output_type": "stream",
     "text": [
      "\r",
      " 26%|██▋       | 29/110 [00:05<00:18,  4.38it/s]"
     ]
    },
    {
     "name": "stdout",
     "output_type": "stream",
     "text": [
      "  # trials  (37, 16, 1801)\n",
      "(37, 16, 1800)\n",
      "(37, 16, 1800)\n"
     ]
    },
    {
     "name": "stderr",
     "output_type": "stream",
     "text": [
      "\r",
      " 27%|██▋       | 30/110 [00:05<00:20,  3.89it/s]"
     ]
    },
    {
     "name": "stdout",
     "output_type": "stream",
     "text": [
      "  # trials  (42, 16, 1801)\n",
      "(42, 16, 1800)\n",
      "(42, 16, 1800)\n"
     ]
    },
    {
     "name": "stderr",
     "output_type": "stream",
     "text": [
      "\r",
      " 28%|██▊       | 31/110 [00:05<00:23,  3.38it/s]"
     ]
    },
    {
     "name": "stdout",
     "output_type": "stream",
     "text": [
      "  # trials  (26, 16, 1801)\n",
      "(26, 16, 1800)\n",
      "(26, 16, 1800)\n"
     ]
    },
    {
     "name": "stderr",
     "output_type": "stream",
     "text": [
      "\r",
      " 29%|██▉       | 32/110 [00:06<00:22,  3.42it/s]"
     ]
    },
    {
     "name": "stdout",
     "output_type": "stream",
     "text": [
      "  # trials  (70, 16, 1801)\n",
      "(70, 16, 1800)\n",
      "(70, 16, 1800)\n"
     ]
    },
    {
     "name": "stderr",
     "output_type": "stream",
     "text": [
      " 32%|███▏      | 35/110 [00:07<00:19,  3.77it/s]"
     ]
    },
    {
     "name": "stdout",
     "output_type": "stream",
     "text": [
      "file missing /media/cat/4TBSSD/yuki/AQ2/tif_files/AQ2pm_Jan18_30Hz/AQ2pm_Jan18_30Hz_locanmf.npz\n",
      "  # trials  (12, 16, 1801)\n",
      "(12, 16, 1800)\n",
      "(12, 16, 1800)\n",
      "file missing /media/cat/4TBSSD/yuki/AQ2/tif_files/AQ2am_Jan19_30Hz/AQ2am_Jan19_30Hz_locanmf.npz\n",
      "file missing /media/cat/4TBSSD/yuki/AQ2/tif_files/AQ2pm_Jan19_30Hz/AQ2pm_Jan19_30Hz_locanmf.npz\n",
      "file missing /media/cat/4TBSSD/yuki/AQ2/tif_files/AQ2pm_Jan20_30Hz/AQ2pm_Jan20_30Hz_locanmf.npz\n",
      "file missing /media/cat/4TBSSD/yuki/AQ2/tif_files/AQ2am_Jan20_30Hz/AQ2am_Jan20_30Hz_locanmf.npz\n",
      "file missing /media/cat/4TBSSD/yuki/AQ2/tif_files/AQ2pm_Jan21_30Hz/AQ2pm_Jan21_30Hz_locanmf.npz\n",
      "file missing /media/cat/4TBSSD/yuki/AQ2/tif_files/AQ2am_Jan21_30Hz/AQ2am_Jan21_30Hz_locanmf.npz\n",
      "file missing /media/cat/4TBSSD/yuki/AQ2/tif_files/AQ2pm_Jan22_30Hz/AQ2pm_Jan22_30Hz_locanmf.npz\n",
      "file missing /media/cat/4TBSSD/yuki/AQ2/tif_files/AQ2am_Jan22_30Hz/AQ2am_Jan22_30Hz_locanmf.npz\n",
      "file missing /media/cat/4TBSSD/yuki/AQ2/tif_files/AQ2am_Jan25_30Hz/AQ2am_Jan25_30Hz_locanmf.npz\n",
      "file missing /media/cat/4TBSSD/yuki/AQ2/tif_files/AQ2pm_Jan25_30Hz/AQ2pm_Jan25_30Hz_locanmf.npz\n",
      "file missing /media/cat/4TBSSD/yuki/AQ2/tif_files/AQ2pm_Jan26_30Hz/AQ2pm_Jan26_30Hz_locanmf.npz\n",
      "file missing /media/cat/4TBSSD/yuki/AQ2/tif_files/AQ2am_Jan26_30Hz/AQ2am_Jan26_30Hz_locanmf.npz\n",
      "file missing /media/cat/4TBSSD/yuki/AQ2/tif_files/AQ2am_Jan27_30Hz/AQ2am_Jan27_30Hz_locanmf.npz\n",
      "  # trials  (55, 16, 1801)\n",
      "(55, 16, 1800)\n",
      "(55, 16, 1800)\n"
     ]
    },
    {
     "name": "stderr",
     "output_type": "stream",
     "text": [
      "\r",
      " 45%|████▍     | 49/110 [00:07<00:05, 11.58it/s]"
     ]
    },
    {
     "name": "stdout",
     "output_type": "stream",
     "text": [
      "  # trials  (46, 16, 1801)\n",
      "(46, 16, 1800)\n",
      "(46, 16, 1800)\n",
      "  # trials  (60, 16, 1801)\n",
      "(60, 16, 1800)\n",
      "(60, 16, 1800)\n"
     ]
    },
    {
     "name": "stderr",
     "output_type": "stream",
     "text": [
      "\r",
      " 46%|████▋     | 51/110 [00:08<00:09,  6.51it/s]"
     ]
    },
    {
     "name": "stdout",
     "output_type": "stream",
     "text": [
      "  # trials  (41, 16, 1801)\n",
      "(41, 16, 1800)\n"
     ]
    },
    {
     "name": "stderr",
     "output_type": "stream",
     "text": [
      "\r",
      " 47%|████▋     | 52/110 [00:09<00:10,  5.57it/s]"
     ]
    },
    {
     "name": "stdout",
     "output_type": "stream",
     "text": [
      "(41, 16, 1800)\n",
      "  # trials  (50, 16, 1801)\n",
      "(50, 16, 1800)\n",
      "(50, 16, 1800)\n"
     ]
    },
    {
     "name": "stderr",
     "output_type": "stream",
     "text": [
      "\r",
      " 48%|████▊     | 53/110 [00:09<00:12,  4.53it/s]"
     ]
    },
    {
     "name": "stdout",
     "output_type": "stream",
     "text": [
      "  # trials  (67, 16, 1801)\n",
      "(67, 16, 1800)\n",
      "(67, 16, 1800)\n"
     ]
    },
    {
     "name": "stderr",
     "output_type": "stream",
     "text": [
      "\r",
      " 49%|████▉     | 54/110 [00:10<00:16,  3.45it/s]"
     ]
    },
    {
     "name": "stdout",
     "output_type": "stream",
     "text": [
      "  # trials  (78, 16, 1801)\n",
      "(78, 16, 1800)\n",
      "(78, 16, 1800)\n"
     ]
    },
    {
     "name": "stderr",
     "output_type": "stream",
     "text": [
      "\r",
      " 50%|█████     | 55/110 [00:11<00:20,  2.64it/s]"
     ]
    },
    {
     "name": "stdout",
     "output_type": "stream",
     "text": [
      "  # trials  (21, 16, 1801)\n",
      "(21, 16, 1800)\n",
      "(21, 16, 1800)\n"
     ]
    },
    {
     "name": "stderr",
     "output_type": "stream",
     "text": [
      "\r",
      " 51%|█████     | 56/110 [00:11<00:18,  2.85it/s]"
     ]
    },
    {
     "name": "stdout",
     "output_type": "stream",
     "text": [
      "  # trials  (74, 16, 1801)\n",
      "(74, 16, 1800)\n",
      "(74, 16, 1800)\n"
     ]
    },
    {
     "name": "stderr",
     "output_type": "stream",
     "text": [
      "\r",
      " 52%|█████▏    | 57/110 [00:12<00:23,  2.25it/s]"
     ]
    },
    {
     "name": "stdout",
     "output_type": "stream",
     "text": [
      "  # trials  (91, 16, 1801)\n",
      "(91, 16, 1800)\n",
      "(91, 16, 1800)\n"
     ]
    },
    {
     "name": "stderr",
     "output_type": "stream",
     "text": [
      "\r",
      " 53%|█████▎    | 58/110 [00:13<00:29,  1.77it/s]"
     ]
    },
    {
     "name": "stdout",
     "output_type": "stream",
     "text": [
      "  # trials  (93, 16, 1801)\n",
      "(93, 16, 1800)\n",
      "(93, 16, 1800)\n"
     ]
    },
    {
     "name": "stderr",
     "output_type": "stream",
     "text": [
      "\r",
      " 54%|█████▎    | 59/110 [00:14<00:33,  1.50it/s]"
     ]
    },
    {
     "name": "stdout",
     "output_type": "stream",
     "text": [
      "  # trials  (131, 16, 1801)\n",
      "(131, 16, 1800)\n",
      "(131, 16, 1800)\n"
     ]
    },
    {
     "name": "stderr",
     "output_type": "stream",
     "text": [
      "\r",
      " 55%|█████▍    | 60/110 [00:15<00:42,  1.18it/s]"
     ]
    },
    {
     "name": "stdout",
     "output_type": "stream",
     "text": [
      "  # trials  (184, 16, 1801)\n",
      "(184, 16, 1800)\n",
      "(184, 16, 1800)\n"
     ]
    },
    {
     "name": "stderr",
     "output_type": "stream",
     "text": [
      "\r",
      " 55%|█████▌    | 61/110 [00:17<00:55,  1.14s/it]"
     ]
    },
    {
     "name": "stdout",
     "output_type": "stream",
     "text": [
      "  # trials  (157, 16, 1801)\n",
      "(157, 16, 1800)\n",
      "(157, 16, 1800)\n"
     ]
    },
    {
     "name": "stderr",
     "output_type": "stream",
     "text": [
      "\r",
      " 56%|█████▋    | 62/110 [00:19<01:01,  1.27s/it]"
     ]
    },
    {
     "name": "stdout",
     "output_type": "stream",
     "text": [
      "  # trials  (145, 16, 1801)\n",
      "(145, 16, 1800)\n",
      "(145, 16, 1800)\n"
     ]
    },
    {
     "name": "stderr",
     "output_type": "stream",
     "text": [
      "\r",
      " 57%|█████▋    | 63/110 [00:20<01:02,  1.34s/it]"
     ]
    },
    {
     "name": "stdout",
     "output_type": "stream",
     "text": [
      "  # trials  (104, 16, 1801)\n",
      "(104, 16, 1800)\n",
      "(104, 16, 1800)\n"
     ]
    },
    {
     "name": "stderr",
     "output_type": "stream",
     "text": [
      "\r",
      " 58%|█████▊    | 64/110 [00:21<00:58,  1.26s/it]"
     ]
    },
    {
     "name": "stdout",
     "output_type": "stream",
     "text": [
      "file missing /media/cat/4TBSSD/yuki/AQ2/tif_files/AQ2am_Feb18_30Hz/AQ2am_Feb18_30Hz_locanmf.npz\n",
      "  # trials  (96, 16, 1801)\n",
      "(96, 16, 1800)\n",
      "(96, 16, 1800)\n"
     ]
    },
    {
     "name": "stderr",
     "output_type": "stream",
     "text": [
      "\r",
      " 60%|██████    | 66/110 [00:22<00:40,  1.09it/s]"
     ]
    },
    {
     "name": "stdout",
     "output_type": "stream",
     "text": [
      "  # trials  (144, 16, 1801)\n",
      "(144, 16, 1800)\n",
      "(144, 16, 1800)\n"
     ]
    },
    {
     "name": "stderr",
     "output_type": "stream",
     "text": [
      "\r",
      " 61%|██████    | 67/110 [00:24<00:45,  1.06s/it]"
     ]
    },
    {
     "name": "stdout",
     "output_type": "stream",
     "text": [
      "  # trials  (120, 16, 1801)\n",
      "(120, 16, 1800)\n",
      "(120, 16, 1800)\n"
     ]
    },
    {
     "name": "stderr",
     "output_type": "stream",
     "text": [
      "\r",
      " 62%|██████▏   | 68/110 [00:25<00:46,  1.10s/it]"
     ]
    },
    {
     "name": "stdout",
     "output_type": "stream",
     "text": [
      "file missing /media/cat/4TBSSD/yuki/AQ2/tif_files/AQ2am_Feb25_30Hz/AQ2am_Feb25_30Hz_locanmf.npz\n",
      "  # trials  (92, 16, 1801)\n",
      "(92, 16, 1800)\n",
      "(92, 16, 1800)\n"
     ]
    },
    {
     "name": "stderr",
     "output_type": "stream",
     "text": [
      "\r",
      " 64%|██████▎   | 70/110 [00:26<00:33,  1.19it/s]"
     ]
    },
    {
     "name": "stdout",
     "output_type": "stream",
     "text": [
      "  # trials  (90, 16, 1801)\n",
      "(90, 16, 1800)\n",
      "(90, 16, 1800)\n"
     ]
    },
    {
     "name": "stderr",
     "output_type": "stream",
     "text": [
      "\r",
      " 65%|██████▍   | 71/110 [00:27<00:33,  1.16it/s]"
     ]
    },
    {
     "name": "stdout",
     "output_type": "stream",
     "text": [
      "  # trials  (125, 16, 1801)\n",
      "(125, 16, 1800)\n",
      "(125, 16, 1800)\n"
     ]
    },
    {
     "name": "stderr",
     "output_type": "stream",
     "text": [
      "\r",
      " 65%|██████▌   | 72/110 [00:28<00:36,  1.03it/s]"
     ]
    },
    {
     "name": "stdout",
     "output_type": "stream",
     "text": [
      "  # trials  (58, 16, 1801)\n",
      "(58, 16, 1800)\n",
      "(58, 16, 1800)\n"
     ]
    },
    {
     "name": "stderr",
     "output_type": "stream",
     "text": [
      "\r",
      " 66%|██████▋   | 73/110 [00:29<00:32,  1.14it/s]"
     ]
    },
    {
     "name": "stdout",
     "output_type": "stream",
     "text": [
      "  # trials  (129, 16, 1801)\n",
      "(129, 16, 1800)\n",
      "(129, 16, 1800)\n"
     ]
    },
    {
     "name": "stderr",
     "output_type": "stream",
     "text": [
      "\r",
      " 67%|██████▋   | 74/110 [00:30<00:36,  1.00s/it]"
     ]
    },
    {
     "name": "stdout",
     "output_type": "stream",
     "text": [
      "  # trials  (109, 16, 1801)\n",
      "(109, 16, 1800)\n",
      "(109, 16, 1800)\n"
     ]
    },
    {
     "name": "stderr",
     "output_type": "stream",
     "text": [
      "\r",
      " 68%|██████▊   | 75/110 [00:31<00:36,  1.04s/it]"
     ]
    },
    {
     "name": "stdout",
     "output_type": "stream",
     "text": [
      "  # trials  (70, 16, 1801)\n",
      "(70, 16, 1800)\n",
      "(70, 16, 1800)\n"
     ]
    },
    {
     "name": "stderr",
     "output_type": "stream",
     "text": [
      "\r",
      " 69%|██████▉   | 76/110 [00:32<00:32,  1.05it/s]"
     ]
    },
    {
     "name": "stdout",
     "output_type": "stream",
     "text": [
      "  # trials  (99, 16, 1801)\n",
      "(99, 16, 1800)\n",
      "(99, 16, 1800)\n"
     ]
    },
    {
     "name": "stderr",
     "output_type": "stream",
     "text": [
      "\r",
      " 70%|███████   | 77/110 [00:33<00:32,  1.03it/s]"
     ]
    },
    {
     "name": "stdout",
     "output_type": "stream",
     "text": [
      "  # trials  (103, 16, 1801)\n",
      "(103, 16, 1800)\n",
      "(103, 16, 1800)\n"
     ]
    },
    {
     "name": "stderr",
     "output_type": "stream",
     "text": [
      "\r",
      " 71%|███████   | 78/110 [00:34<00:32,  1.00s/it]"
     ]
    },
    {
     "name": "stdout",
     "output_type": "stream",
     "text": [
      "  # trials  (143, 16, 1801)\n",
      "(143, 16, 1800)\n",
      "(143, 16, 1800)\n"
     ]
    },
    {
     "name": "stderr",
     "output_type": "stream",
     "text": [
      "\r",
      " 72%|███████▏  | 79/110 [00:36<00:35,  1.14s/it]"
     ]
    },
    {
     "name": "stdout",
     "output_type": "stream",
     "text": [
      "  # trials  (122, 16, 1801)\n",
      "(122, 16, 1800)\n",
      "(122, 16, 1800)\n"
     ]
    },
    {
     "name": "stderr",
     "output_type": "stream",
     "text": [
      "\r",
      " 73%|███████▎  | 80/110 [00:37<00:35,  1.18s/it]"
     ]
    },
    {
     "name": "stdout",
     "output_type": "stream",
     "text": [
      "  # trials  (104, 16, 1801)\n",
      "(104, 16, 1800)\n",
      "(104, 16, 1800)\n"
     ]
    },
    {
     "name": "stderr",
     "output_type": "stream",
     "text": [
      "\r",
      " 74%|███████▎  | 81/110 [00:38<00:33,  1.15s/it]"
     ]
    },
    {
     "name": "stdout",
     "output_type": "stream",
     "text": [
      "  # trials  (139, 16, 1801)\n",
      "(139, 16, 1800)\n",
      "(139, 16, 1800)\n"
     ]
    },
    {
     "name": "stderr",
     "output_type": "stream",
     "text": [
      "\r",
      " 75%|███████▍  | 82/110 [00:39<00:34,  1.23s/it]"
     ]
    },
    {
     "name": "stdout",
     "output_type": "stream",
     "text": [
      "  # trials  (47, 16, 1801)\n",
      "(47, 16, 1800)\n",
      "(47, 16, 1800)\n"
     ]
    },
    {
     "name": "stderr",
     "output_type": "stream",
     "text": [
      "\r",
      " 75%|███████▌  | 83/110 [00:40<00:27,  1.02s/it]"
     ]
    },
    {
     "name": "stdout",
     "output_type": "stream",
     "text": [
      "  # trials  (64, 16, 1801)\n",
      "(64, 16, 1800)\n",
      "(64, 16, 1800)\n"
     ]
    },
    {
     "name": "stderr",
     "output_type": "stream",
     "text": [
      "\r",
      " 76%|███████▋  | 84/110 [00:40<00:23,  1.09it/s]"
     ]
    },
    {
     "name": "stdout",
     "output_type": "stream",
     "text": [
      "  # trials  (84, 16, 1801)\n",
      "(84, 16, 1800)\n",
      "(84, 16, 1800)\n"
     ]
    },
    {
     "name": "stderr",
     "output_type": "stream",
     "text": [
      "\r",
      " 77%|███████▋  | 85/110 [00:41<00:22,  1.11it/s]"
     ]
    },
    {
     "name": "stdout",
     "output_type": "stream",
     "text": [
      "  # trials  (124, 16, 1801)\n",
      "(124, 16, 1800)\n",
      "(124, 16, 1800)\n"
     ]
    },
    {
     "name": "stderr",
     "output_type": "stream",
     "text": [
      "\r",
      " 78%|███████▊  | 86/110 [00:43<00:24,  1.02s/it]"
     ]
    },
    {
     "name": "stdout",
     "output_type": "stream",
     "text": [
      "  # trials  (91, 16, 1801)\n",
      "(91, 16, 1800)\n",
      "(91, 16, 1800)\n"
     ]
    },
    {
     "name": "stderr",
     "output_type": "stream",
     "text": [
      "\r",
      " 79%|███████▉  | 87/110 [00:44<00:22,  1.00it/s]"
     ]
    },
    {
     "name": "stdout",
     "output_type": "stream",
     "text": [
      "  # trials  (147, 16, 1801)\n",
      "(147, 16, 1800)\n",
      "(147, 16, 1800)\n"
     ]
    },
    {
     "name": "stderr",
     "output_type": "stream",
     "text": [
      "\r",
      " 80%|████████  | 88/110 [00:45<00:25,  1.15s/it]"
     ]
    },
    {
     "name": "stdout",
     "output_type": "stream",
     "text": [
      "  # trials  (114, 16, 1801)\n",
      "(114, 16, 1800)\n",
      "(114, 16, 1800)\n"
     ]
    },
    {
     "name": "stderr",
     "output_type": "stream",
     "text": [
      "\r",
      " 81%|████████  | 89/110 [00:46<00:24,  1.16s/it]"
     ]
    },
    {
     "name": "stdout",
     "output_type": "stream",
     "text": [
      "  # trials  (137, 16, 1801)\n",
      "(137, 16, 1800)\n",
      "(137, 16, 1800)\n"
     ]
    },
    {
     "name": "stderr",
     "output_type": "stream",
     "text": [
      "\r",
      " 82%|████████▏ | 90/110 [00:48<00:24,  1.24s/it]"
     ]
    },
    {
     "name": "stdout",
     "output_type": "stream",
     "text": [
      "  # trials  (127, 16, 1801)\n",
      "(127, 16, 1800)\n",
      "(127, 16, 1800)\n"
     ]
    },
    {
     "name": "stderr",
     "output_type": "stream",
     "text": [
      "\r",
      " 83%|████████▎ | 91/110 [00:49<00:24,  1.27s/it]"
     ]
    },
    {
     "name": "stdout",
     "output_type": "stream",
     "text": [
      "  # trials  (100, 16, 1801)\n",
      "(100, 16, 1800)\n",
      "(100, 16, 1800)\n"
     ]
    },
    {
     "name": "stderr",
     "output_type": "stream",
     "text": [
      "\r",
      " 84%|████████▎ | 92/110 [00:50<00:21,  1.20s/it]"
     ]
    },
    {
     "name": "stdout",
     "output_type": "stream",
     "text": [
      "  # trials  (117, 16, 1801)\n",
      "(117, 16, 1800)\n",
      "(117, 16, 1800)\n"
     ]
    },
    {
     "name": "stderr",
     "output_type": "stream",
     "text": [
      "\r",
      " 85%|████████▍ | 93/110 [00:51<00:20,  1.21s/it]"
     ]
    },
    {
     "name": "stdout",
     "output_type": "stream",
     "text": [
      "  # trials  (93, 16, 1801)\n",
      "(93, 16, 1800)\n",
      "(93, 16, 1800)\n"
     ]
    },
    {
     "name": "stderr",
     "output_type": "stream",
     "text": [
      "\r",
      " 85%|████████▌ | 94/110 [00:52<00:18,  1.14s/it]"
     ]
    },
    {
     "name": "stdout",
     "output_type": "stream",
     "text": [
      "  # trials  (104, 16, 1801)\n",
      "(104, 16, 1800)\n",
      "(104, 16, 1800)\n"
     ]
    },
    {
     "name": "stderr",
     "output_type": "stream",
     "text": [
      "\r",
      " 86%|████████▋ | 95/110 [00:53<00:16,  1.12s/it]"
     ]
    },
    {
     "name": "stdout",
     "output_type": "stream",
     "text": [
      "  # trials  (142, 16, 1801)\n",
      "(142, 16, 1800)\n",
      "(142, 16, 1800)\n"
     ]
    },
    {
     "name": "stderr",
     "output_type": "stream",
     "text": [
      "\r",
      " 87%|████████▋ | 96/110 [00:55<00:17,  1.22s/it]"
     ]
    },
    {
     "name": "stdout",
     "output_type": "stream",
     "text": [
      "  # trials  (94, 16, 1801)\n",
      "(94, 16, 1800)\n",
      "(94, 16, 1800)\n"
     ]
    },
    {
     "name": "stderr",
     "output_type": "stream",
     "text": [
      "\r",
      " 88%|████████▊ | 97/110 [00:56<00:14,  1.15s/it]"
     ]
    },
    {
     "name": "stdout",
     "output_type": "stream",
     "text": [
      "file missing /media/cat/4TBSSD/yuki/AQ2/tif_files/AQ2am_Apr13_Week6_30Hz/AQ2am_Apr13_Week6_30Hz_locanmf.npz\n",
      "  # trials  (98, 16, 1801)\n",
      "(98, 16, 1800)\n",
      "(98, 16, 1800)\n"
     ]
    },
    {
     "name": "stderr",
     "output_type": "stream",
     "text": [
      "\r",
      " 90%|█████████ | 99/110 [00:57<00:09,  1.17it/s]"
     ]
    },
    {
     "name": "stdout",
     "output_type": "stream",
     "text": [
      "  # trials  (83, 16, 1801)\n",
      "(83, 16, 1800)\n",
      "(83, 16, 1800)\n"
     ]
    },
    {
     "name": "stderr",
     "output_type": "stream",
     "text": [
      "\r",
      " 91%|█████████ | 100/110 [00:58<00:08,  1.16it/s]"
     ]
    },
    {
     "name": "stdout",
     "output_type": "stream",
     "text": [
      "  # trials  (77, 16, 1801)\n",
      "(77, 16, 1800)\n",
      "(77, 16, 1800)\n"
     ]
    },
    {
     "name": "stderr",
     "output_type": "stream",
     "text": [
      "\r",
      " 92%|█████████▏| 101/110 [00:59<00:07,  1.18it/s]"
     ]
    },
    {
     "name": "stdout",
     "output_type": "stream",
     "text": [
      "  # trials  (70, 16, 1801)\n",
      "(70, 16, 1800)\n",
      "(70, 16, 1800)\n"
     ]
    },
    {
     "name": "stderr",
     "output_type": "stream",
     "text": [
      "\r",
      " 93%|█████████▎| 102/110 [00:59<00:06,  1.23it/s]"
     ]
    },
    {
     "name": "stdout",
     "output_type": "stream",
     "text": [
      "  # trials  (69, 16, 1801)\n",
      "(69, 16, 1800)\n",
      "(69, 16, 1800)\n"
     ]
    },
    {
     "name": "stderr",
     "output_type": "stream",
     "text": [
      "\r",
      " 94%|█████████▎| 103/110 [01:00<00:05,  1.27it/s]"
     ]
    },
    {
     "name": "stdout",
     "output_type": "stream",
     "text": [
      "  # trials  (52, 16, 1801)\n",
      "(52, 16, 1800)\n",
      "(52, 16, 1800)\n"
     ]
    },
    {
     "name": "stderr",
     "output_type": "stream",
     "text": [
      "\r",
      " 95%|█████████▍| 104/110 [01:01<00:04,  1.39it/s]"
     ]
    },
    {
     "name": "stdout",
     "output_type": "stream",
     "text": [
      "  # trials  (121, 16, 1801)\n",
      "(121, 16, 1800)\n",
      "(121, 16, 1800)\n"
     ]
    },
    {
     "name": "stderr",
     "output_type": "stream",
     "text": [
      "\r",
      " 95%|█████████▌| 105/110 [01:02<00:04,  1.14it/s]"
     ]
    },
    {
     "name": "stdout",
     "output_type": "stream",
     "text": [
      "  # trials  (114, 16, 1801)\n",
      "(114, 16, 1800)\n",
      "(114, 16, 1800)\n"
     ]
    },
    {
     "name": "stderr",
     "output_type": "stream",
     "text": [
      "\r",
      " 96%|█████████▋| 106/110 [01:03<00:03,  1.04it/s]"
     ]
    },
    {
     "name": "stdout",
     "output_type": "stream",
     "text": [
      "  # trials  (112, 16, 1801)\n",
      "(112, 16, 1800)\n",
      "(112, 16, 1800)\n"
     ]
    },
    {
     "name": "stderr",
     "output_type": "stream",
     "text": [
      "\r",
      " 97%|█████████▋| 107/110 [01:04<00:03,  1.02s/it]"
     ]
    },
    {
     "name": "stdout",
     "output_type": "stream",
     "text": [
      "  # trials  (138, 16, 1801)\n",
      "(138, 16, 1800)\n",
      "(138, 16, 1800)\n"
     ]
    },
    {
     "name": "stderr",
     "output_type": "stream",
     "text": [
      "\r",
      " 98%|█████████▊| 108/110 [01:06<00:02,  1.14s/it]"
     ]
    },
    {
     "name": "stdout",
     "output_type": "stream",
     "text": [
      "  # trials  (86, 16, 1801)\n",
      "(86, 16, 1800)\n",
      "(86, 16, 1800)\n"
     ]
    },
    {
     "name": "stderr",
     "output_type": "stream",
     "text": [
      "\r",
      " 99%|█████████▉| 109/110 [01:06<00:01,  1.07s/it]"
     ]
    },
    {
     "name": "stdout",
     "output_type": "stream",
     "text": [
      "  # trials  (82, 16, 1801)\n",
      "(82, 16, 1800)\n",
      "(82, 16, 1800)\n"
     ]
    },
    {
     "name": "stderr",
     "output_type": "stream",
     "text": [
      "100%|██████████| 110/110 [01:07<00:00,  1.62it/s]"
     ]
    },
    {
     "name": "stdout",
     "output_type": "stream",
     "text": [
      "# good sessions:  77\n"
     ]
    },
    {
     "name": "stderr",
     "output_type": "stream",
     "text": [
      "\n"
     ]
    }
   ],
   "source": [
    "####################################################################\n",
    "###### LOAD MEAN AND VARIANCE FOR EACH SESSION ROI ACTIVITY ########\n",
    "####################################################################\n",
    "#\n",
    "from scipy import signal\n",
    "def compute_psd(data):\n",
    "    print (data.shape)\n",
    "    \n",
    "    fs = 30\n",
    "    rois = []\n",
    "    for roi in range(data.shape[1]):\n",
    "        \n",
    "        psd = []\n",
    "        for t in range(data.shape[0]):\n",
    "            x=data[t,roi]\n",
    "            f, Pxx_den = signal.periodogram(x, fs)\n",
    "            psd.append(Pxx_den)\n",
    "            \n",
    "        psd=np.vstack(psd)\n",
    "        psd = np.median(psd,axis=0)\n",
    "        rois.append(psd)\n",
    "        \n",
    "    return rois, f\n",
    "\n",
    "def compute_psd_whole_stack(data):\n",
    "    print (data.shape)\n",
    "    \n",
    "    fs = 30\n",
    "    rois = []\n",
    "    for roi in range(data.shape[0]):\n",
    "        x = data[roi]\n",
    "        f, Pxx_den = signal.periodogram(x, fs)\n",
    "        rois.append(Pxx_den)\n",
    "                  \n",
    "    return rois, f\n",
    "\n",
    "def load_locaNMF_wholestack(root_dir,\n",
    "                           animal_id,\n",
    "                           session):\n",
    "    fname = os.path.join(root_dir,\n",
    "                                   animal_id,\n",
    "                         'tif_files',\n",
    "                                    session,\n",
    "                                    session+'_locanmf_wholestack.npz')\n",
    "    print (fname)\n",
    "    try:\n",
    "        data = np.load(fname, \n",
    "                       allow_pickle=True)\n",
    "\n",
    "        trials = data['whole_stack']\n",
    "        print (trials.shape)\n",
    "\n",
    "        return trials\n",
    "    except:\n",
    "        return None\n",
    "\n",
    "###########################################\n",
    "\n",
    "\n",
    "\n",
    "session_name = 'all'\n",
    "root_dir = '/media/cat/4TBSSD/yuki/'\n",
    "\n",
    "animal_id = 'AQ2'\n",
    "animal_ids = ['IA1','IA2','IA3','IJ1','IJ2','AQ2']\n",
    "\n",
    "for animal_id in animal_ids:\n",
    "    # \n",
    "    loca = analysis_fig4.LocaNMFClass(root_dir, animal_id, session_name)\n",
    "\n",
    "    #\n",
    "    loca.get_sessions(session_name)\n",
    "    print (\"# of sessions: \", loca.sessions.shape)\n",
    "\n",
    "    all_means = []\n",
    "    n_trials = []\n",
    "    saved_names = []\n",
    "    all_means_random = []\n",
    "    good_sessions = []\n",
    "    all_loca_NMF = []\n",
    "    psds = []\n",
    "\n",
    "    # \n",
    "    psds_random = []\n",
    "\n",
    "    t1 = 0\n",
    "    t2 = 1800\n",
    "    \n",
    "    fname_out = '/home/cat/psds_'+str(animal_id)+'.npy'\n",
    "    if os.path.exists(fname_out)==False:\n",
    "\n",
    "        for session in tqdm(loca.sessions):\n",
    "\n",
    "            # load data\n",
    "            if True:\n",
    "                fname_locaNMF = os.path.join(root_dir, animal_id, 'tif_files',session,\n",
    "                                             session + '_locanmf.npz')\n",
    "                atlas, areas, names, locaNMF_temporal, random = load_locaNMF_data(fname_locaNMF)\n",
    "\n",
    "                #  \n",
    "                if atlas is not None:\n",
    "\n",
    "                    psd, f = compute_psd(locaNMF_temporal[:,:,t1:t2])\n",
    "                    psds.append(psd)\n",
    "                    psd, f = compute_psd(random[:,:,t1:t2])\n",
    "                    psds_random.append(psd)\n",
    "\n",
    "                    #\n",
    "                    n_trials.append(locaNMF_temporal.shape[0])\n",
    "                    saved_names = names\n",
    "                    good_sessions.append(session)\n",
    "\n",
    "\n",
    "            else:\n",
    "                trials = load_locaNMF_wholestack(root_dir,\n",
    "                                               animal_id,\n",
    "                                               session)\n",
    "\n",
    "                if trials is not None:\n",
    "                    psd, f = compute_psd_whole_stack(trials)\n",
    "                    psds.append(psd)\n",
    "\n",
    "\n",
    "\n",
    "\n",
    "            ctr+=1\n",
    "\n",
    "\n",
    "        print (\"# good sessions: \", len(good_sessions))\n",
    "        \n",
    "        \n",
    "        np.save(fname_out, psds)"
   ]
  },
  {
   "cell_type": "code",
   "execution_count": 188,
   "metadata": {},
   "outputs": [
    {
     "name": "stdout",
     "output_type": "stream",
     "text": [
      "# sessions:  53\n",
      "# sessions:  31\n",
      "# sessions:  41\n",
      "# sessions:  40\n",
      "# sessions:  39\n",
      "# sessions:  77\n"
     ]
    }
   ],
   "source": [
    "####################\n",
    "#ROI_names = saved_names.copy()\n",
    "\n",
    "feats = ['motor','visual','Retro','limb','barrel']\n",
    "\n",
    "plotting = False\n",
    "all_maxes = []\n",
    "for animal_id in animal_ids:\n",
    "\n",
    "    if plotting:\n",
    "        fig=plt.figure()\n",
    "\n",
    "    fname_out = '/home/cat/psds_'+str(animal_id)+'.npy'\n",
    "\n",
    "    psds = np.load(fname_out, allow_pickle=True)\n",
    "    #cmap = matplotlib.cm.get_cmap('Paired', len(psds[session_id]))   \n",
    "    cmap = matplotlib.cm.get_cmap('jet', len(psds))   \n",
    "\n",
    "    sessions = np.arange(len(psds))\n",
    "    #sessions = np.arange(0,len,5)\n",
    "    print (\"# sessions: \", len(sessions))\n",
    "    ctr=0\n",
    "    maxes = []\n",
    "    for feat in feats:\n",
    "        maxes.append([])\n",
    "        if plotting:\n",
    "            ax=plt.subplot(2,3,ctr+1)\n",
    "            plt.title(feat)\n",
    "        for session_id in sessions:\n",
    "            for k in range(len(psds[session_id])):\n",
    "                if feat in ROI_names[k]:\n",
    "                    temp = psds[session_id][k]\n",
    "                    #temp = psds_random[session_id][k]\n",
    "                    if True:\n",
    "                        temp = scipy.signal.savgol_filter(temp, \n",
    "                                                          window_length=5, \n",
    "                                                          polyorder=1, \n",
    "        #                                                   deriv=0, \n",
    "        #                                                   delta=1.0, \n",
    "        #                                                   axis=- 1, \n",
    "        #                                                   mode='interp', \n",
    "        #                                                   cval=0.0\n",
    "                                                         )\n",
    "\n",
    "                    argmax = np.argmax(temp)\n",
    "                    maxes[ctr].append([f[argmax],temp[argmax]])\n",
    "\n",
    "                    #\n",
    "                    if plotting:\n",
    "                        plt.scatter(f[argmax],temp[argmax],\n",
    "                                   c='black',\n",
    "                                   s=100)\n",
    "                        plt.plot(f,temp,\n",
    "                             c=cmap(session_id),\n",
    "                             #label=names[k]\n",
    "                                 alpha=.25\n",
    "                                )\n",
    "\n",
    "\n",
    "            #plt.legend()   \n",
    "            if plotting:\n",
    "                plt.semilogx()\n",
    "                plt.semilogy()\n",
    "                #plt.xlim(0,6)\n",
    "                #plt.ylim(1E-4,1E6)\n",
    "                plt.ylim(1E-5,1E-1)\n",
    "        ctr+=1\n",
    "    all_maxes.append(maxes)\n",
    "if plotting:        \n",
    "    plt.show()"
   ]
  },
  {
   "cell_type": "code",
   "execution_count": 263,
   "metadata": {},
   "outputs": [
    {
     "name": "stdout",
     "output_type": "stream",
     "text": [
      "0 corr (-0.37517865981880355, 1.7235703434788164e-08)\n",
      "0 corr (-0.34361018930213916, 2.889225272905296e-07)\n",
      "0 corr (-0.6357704963380455, 2.0858373104983265e-25)\n",
      "0 corr (-0.09208872471412914, 0.3090418875392825)\n",
      "0 corr (-0.40892638304908896, 2.4130264367503185e-06)\n",
      "0 corr (-0.13255413136391697, 0.1422141189714407)\n",
      "0 corr (0.03872690419744708, 0.6224806215021097)\n",
      "0 corr (0.034853583323691525, 0.6577192206151463)\n",
      "0 corr (0.16410258507734138, 0.035753449719757587)\n",
      "0 corr (0.3247245546820134, 2.7972739927185304e-05)\n",
      "0 corr (0.2993308058810632, 0.00012049183670800633)\n",
      "0 corr (0.3974492362791603, 1.9509681288218603e-07)\n",
      "0 corr (0.10110506661965864, 0.20916436286224335)\n",
      "0 corr (0.10703432144719635, 0.18354120068016902)\n",
      "0 corr (0.04855338053624437, 0.5472344145918647)\n",
      "0 corr (-0.06880038618211162, 0.22860524789995587)\n",
      "0 corr (-0.09445482279588213, 0.0979982674205848)\n",
      "0 corr (0.23193914053156106, 3.9540184959808677e-05)\n"
     ]
    }
   ],
   "source": [
    "from sklearn.linear_model import LinearRegression\n",
    "from scipy import stats\n",
    "\n",
    "#####\n",
    "ids = [0,2,3]\n",
    "feats = ['motor','visual','Retro','limb','barrel']\n",
    "clrs_local = ['magenta','brown','pink','lightblue','darkblue']\n",
    "\n",
    "# \n",
    "animal_id = 5\n",
    "\n",
    "# \n",
    "fig=plt.figure(figsize=(10,10))\n",
    "for ctr_animal, animal_id in enumerate(animal_ids):\n",
    "    maxes = all_maxes[ctr_animal]\n",
    "    ax=plt.subplot(3,2,ctr_animal+1)\n",
    "\n",
    "    ctr=0\n",
    "    for id_ in ids:\n",
    "    #    ax=plt.subplot(3,1,ctr+1)\n",
    "        m = np.array(maxes[id_])[:,1]    #<--------------- 0: freq; 1: power\n",
    "\n",
    "        ##################################\n",
    "        ##################################\n",
    "        ##################################\n",
    "        corr = stats.pearsonr(np.arange(m.shape[0]), m)\n",
    "\n",
    "\n",
    "        model = LinearRegression()\n",
    "        y=np.array(m).reshape(-1, 1)\n",
    "        x = np.arange(y.shape[0]).reshape(-1, 1)\n",
    "        model.fit(x, y)\n",
    "\n",
    "        x2 = np.arange(0,y.shape[0],1).reshape(-1, 1)\n",
    "        y_pred = model.intercept_ + model.coef_ * x2\n",
    "\n",
    "\n",
    "        # compute correlation between time and location\n",
    "\n",
    "        print (i, \"corr\", corr)\n",
    "\n",
    "        plt.plot(x2, y_pred, \n",
    "                 label= str(np.round(corr,2)),\n",
    "                  c=clrs_local[id_],\n",
    "                 linewidth=6)\n",
    "        # \n",
    "        #patch = mpatches.Patch(color='grey', label=feats[id_]+ \":  \"+str(round(corr[0],2)))\n",
    "\n",
    "        # handles is a list, so append manual patch\n",
    "        #labels.append(patch) \n",
    "\n",
    "        ##################################\n",
    "        ##################################\n",
    "        ##################################\n",
    "        # \n",
    "        plt.scatter(np.arange(m.shape[0]), m,\n",
    "                   c=clrs_local[id_],\n",
    "                    edgecolor='black',\n",
    "                    s=100,\n",
    "                   alpha=.3)\n",
    "\n",
    "        #\n",
    "        #plt.title(feats[id_])\n",
    "        ax.set_ylim(bottom=0) #0, 0.7)\n",
    "        #ax.set_ylim(0, 0.04)\n",
    "        ax.set_xlim(0,x[-1])\n",
    "        ctr+=1\n",
    "        plt.legend(fontsize=14)\n",
    "    \n",
    "if True:\n",
    "    plt.savefig('/home/cat/fit_trends_psd_single_trials_power.svg')\n",
    "    plt.close()\n",
    "else:\n",
    "    plt.show()\n",
    "\n",
    "\n",
    "\n"
   ]
  },
  {
   "cell_type": "code",
   "execution_count": null,
   "metadata": {},
   "outputs": [],
   "source": []
  },
  {
   "cell_type": "code",
   "execution_count": null,
   "metadata": {},
   "outputs": [],
   "source": []
  },
  {
   "cell_type": "code",
   "execution_count": 156,
   "metadata": {},
   "outputs": [
    {
     "name": "stdout",
     "output_type": "stream",
     "text": [
      "['Primary motor area, Layer 1 - right'\n",
      " 'Primary motor area, Layer 1 - left'\n",
      " 'Secondary motor area, layer 1 - right'\n",
      " 'Secondary motor area, layer 1 - left'\n",
      " 'Primary somatosensory area, barrel field, layer 1 - right'\n",
      " 'Primary somatosensory area, barrel field, layer 1 - left'\n",
      " 'Primary somatosensory area, lower limb, layer 1 - right'\n",
      " 'Primary somatosensory area, lower limb, layer 1 - left'\n",
      " 'Primary somatosensory area, upper limb, layer 1 - right'\n",
      " 'Primary somatosensory area, upper limb, layer 1 - left'\n",
      " 'Primary visual area, layer 1 - right'\n",
      " 'Primary visual area, layer 1 - left'\n",
      " 'Retrosplenial area, lateral agranular part, layer 1 - right'\n",
      " 'Retrosplenial area, lateral agranular part, layer 1 - left'\n",
      " 'Retrosplenial area, dorsal part, layer 1 - right'\n",
      " 'Retrosplenial area, dorsal part, layer 1 - left']\n",
      "(5,)\n",
      "(106, 2)\n",
      "0 motor  y shape:  (212,)\n",
      "0 corr (0.6292560293255796, 8.914053845499193e-25)\n"
     ]
    },
    {
     "ename": "NameError",
     "evalue": "name 'roi_names' is not defined",
     "output_type": "error",
     "traceback": [
      "\u001b[0;31m---------------------------------------------------------------------------\u001b[0m",
      "\u001b[0;31mNameError\u001b[0m                                 Traceback (most recent call last)",
      "\u001b[0;32m<ipython-input-156-5f219ef3b88c>\u001b[0m in \u001b[0;36m<module>\u001b[0;34m\u001b[0m\n\u001b[1;32m     55\u001b[0m \u001b[0;34m\u001b[0m\u001b[0m\n\u001b[1;32m     56\u001b[0m     \u001b[0;31m#\u001b[0m\u001b[0;34m\u001b[0m\u001b[0;34m\u001b[0m\u001b[0;34m\u001b[0m\u001b[0m\n\u001b[0;32m---> 57\u001b[0;31m     \u001b[0mpatch\u001b[0m \u001b[0;34m=\u001b[0m \u001b[0mmpatches\u001b[0m\u001b[0;34m.\u001b[0m\u001b[0mPatch\u001b[0m\u001b[0;34m(\u001b[0m\u001b[0mcolor\u001b[0m\u001b[0;34m=\u001b[0m\u001b[0;34m'grey'\u001b[0m\u001b[0;34m,\u001b[0m \u001b[0mlabel\u001b[0m\u001b[0;34m=\u001b[0m\u001b[0mroi_names\u001b[0m\u001b[0;34m[\u001b[0m\u001b[0mi\u001b[0m\u001b[0;34m]\u001b[0m\u001b[0;34m+\u001b[0m \u001b[0;34m\":  \"\u001b[0m\u001b[0;34m+\u001b[0m\u001b[0mstr\u001b[0m\u001b[0;34m(\u001b[0m\u001b[0mround\u001b[0m\u001b[0;34m(\u001b[0m\u001b[0mcorr\u001b[0m\u001b[0;34m[\u001b[0m\u001b[0;36m0\u001b[0m\u001b[0;34m]\u001b[0m\u001b[0;34m,\u001b[0m\u001b[0;36m2\u001b[0m\u001b[0;34m)\u001b[0m\u001b[0;34m)\u001b[0m\u001b[0;34m)\u001b[0m\u001b[0;34m\u001b[0m\u001b[0;34m\u001b[0m\u001b[0m\n\u001b[0m\u001b[1;32m     58\u001b[0m \u001b[0;34m\u001b[0m\u001b[0m\n\u001b[1;32m     59\u001b[0m     \u001b[0;31m# handles is a list, so append manual patch\u001b[0m\u001b[0;34m\u001b[0m\u001b[0;34m\u001b[0m\u001b[0;34m\u001b[0m\u001b[0m\n",
      "\u001b[0;31mNameError\u001b[0m: name 'roi_names' is not defined"
     ]
    }
   ],
   "source": [
    "feats = ['motor','visual','Retro','limb','barrel']\n",
    "print (ROI_names)\n",
    "maxes = np.array(maxes)\n",
    "print (maxes.shape)\n",
    "print (np.vstack(maxes[4]).shape)\n",
    "my_dict = dict(motor = np.array(maxes[0])[:,0], \n",
    "               visual = np.array(maxes[1])[:,0],\n",
    "               retro = np.array(maxes[2])[:,0],\n",
    "               limb = np.array(maxes[3])[:,0],\n",
    "               barrel = np.array(maxes[4])[:,0]\n",
    "#                    M5 = edts[4],                      \n",
    "#                    M6 = edts[5]\n",
    "                 )\n",
    "\n",
    "data = pd.DataFrame.from_dict(my_dict, orient='index')\n",
    "data = data.transpose()\n",
    "\n",
    "# \n",
    "flierprops = dict(marker='o', \n",
    "                  #markerfacecolor='g', \n",
    "                  #markersize=10000,\n",
    "                  linestyle='none', \n",
    "                  markeredgecolor='r')\n",
    "\n",
    "#\n",
    "data.boxplot(showfliers=False,\n",
    "            flierprops=flierprops)\n",
    "\n",
    "# manually define a new patch \n",
    "labels = []\n",
    "for i,d in enumerate(data):\n",
    "    y = data[d]#+np.random.uniform(data[d].shape[0])/200.-1/400.\n",
    "    x = np.random.normal(i+1, 0.04, len(y))\n",
    "\n",
    "    #\n",
    "    colors = plt.cm.viridis(np.linspace(0,1,len(maxes[i])))\n",
    "    x = np.random.normal(i+1, 0.04, len(maxes[i]))\n",
    "    print (i,d, ' y shape: ', y.shape)\n",
    "    plt.scatter(x, np.array(maxes[i])[:,0], \n",
    "               #c=clrs_local[i],\n",
    "               c=colors,\n",
    "               edgecolor='black',\n",
    "               s=200,\n",
    "               #alpha=np.linspace(.2, 1.0, x.shape[0])\n",
    "               alpha=.5\n",
    "               )\n",
    "\n",
    "    # compute correlation between time and location\n",
    "    from scipy import stats\n",
    "    # Y and Z are numpy arrays or lists of variables \n",
    "    #print (np.arange(edts[i]).shape, y.shape)\n",
    "    corr = stats.pearsonr(np.arange(y.shape[0]), y)\n",
    "    #res = scipy.stats.normaltest(edts[i])\n",
    "    print (i, \"corr\", corr)\n",
    "\n",
    "    # \n",
    "    patch = mpatches.Patch(color='grey', label=roi_names[i]+ \":  \"+str(round(corr[0],2)))\n",
    "\n",
    "    # handles is a list, so append manual patch\n",
    "    labels.append(patch) \n",
    "\n",
    "    # plot the legend\n",
    "plt.legend(handles=labels, loc='upper center')\n",
    "\n",
    "plt.show()\n",
    "\n",
    "\n"
   ]
  },
  {
   "cell_type": "code",
   "execution_count": null,
   "metadata": {},
   "outputs": [],
   "source": []
  },
  {
   "cell_type": "code",
   "execution_count": null,
   "metadata": {},
   "outputs": [],
   "source": []
  },
  {
   "cell_type": "code",
   "execution_count": 97,
   "metadata": {},
   "outputs": [
    {
     "name": "stdout",
     "output_type": "stream",
     "text": [
      "(16, 40000)\n"
     ]
    }
   ],
   "source": [
    "data = np.load('/media/cat/4TBSSD/yuki/IA1/tif_files/IA1am_Mar4_30Hz/IA1am_Mar4_30Hz_locanmf_wholestack.npz')\n",
    "trials = data['whole_stack']\n",
    "print (trials.shape)"
   ]
  },
  {
   "cell_type": "code",
   "execution_count": null,
   "metadata": {},
   "outputs": [],
   "source": []
  },
  {
   "cell_type": "code",
   "execution_count": null,
   "metadata": {},
   "outputs": [],
   "source": []
  },
  {
   "cell_type": "code",
   "execution_count": 50,
   "metadata": {},
   "outputs": [],
   "source": [
    "a = np.array([[0,1]])\n",
    "plt.figure(figsize=(1.5,9))\n",
    "img = plt.imshow(a, cmap=\"viridis\")\n",
    "plt.gca().set_visible(False)\n",
    "cax = plt.axes([0.1, 0.2, 0.8, 0.6])\n",
    "plt.colorbar(orientation=\"vertical\", cax=cax)\n",
    "plt.savefig(\"/home/cat/colorbar.svg\")\n",
    "plt.close()"
   ]
  },
  {
   "cell_type": "code",
   "execution_count": 105,
   "metadata": {},
   "outputs": [
    {
     "name": "stdout",
     "output_type": "stream",
     "text": [
      "# of sessions:  (110,)\n",
      "fname:  /media/cat/4TBSSD/yuki/AQ2/tif_files/AQ2am_Dec29_30Hz/AQ2am_Dec29_30Hz_locanmf.npz\n",
      "  # trials  (33, 16, 1801)\n"
     ]
    }
   ],
   "source": [
    "###############################\n",
    "###### VARIANCE ANALYSIS ######\n",
    "###############################\n",
    "\n",
    "\n",
    "animal_id = 'AQ2'\n",
    "session_name = 'all'\n",
    "root_dir = '/media/cat/4TBSSD/yuki/'\n",
    "\n",
    "\n",
    "# \n",
    "loca = analysis_fig4.LocaNMFClass(root_dir, animal_id, session_name)\n",
    "\n",
    "#\n",
    "loca.get_sessions(session_name)\n",
    "print (\"# of sessions: \", loca.sessions.shape)\n",
    "\n",
    "session_id = 15\n",
    "session = loca.sessions[session_id]\n",
    "    \n",
    "# load data\n",
    "fname_locaNMF = os.path.join(root_dir, animal_id, 'tif_files',session,\n",
    "                             session + '_locanmf.npz')\n",
    "\n",
    "print (\"fname: \", fname_locaNMF)\n",
    "atlas, areas, names, locaNMF_temporal, random = load_locaNMF_data(fname_locaNMF)\n",
    "\n",
    "# \n",
    "if atlas is not None:\n",
    "    means, var = variance_locaNMF(locaNMF_temporal)\n",
    "    n_trials.append(locaNMF_temporal.shape[0])\n",
    "    all_means.append(means)\n",
    "\n",
    "    means, var = variance_locaNMF(locaNMF_temporal)\n",
    "    all_means_random.append(means)\n",
    "\n",
    "    saved_names = names\n",
    "    \n",
    "    fig = plt.figure()\n",
    "    plot_variance_locaNMF(fig, var)\n",
    "    \n",
    "else:\n",
    "    print ('session not good')"
   ]
  },
  {
   "cell_type": "code",
   "execution_count": null,
   "metadata": {},
   "outputs": [],
   "source": []
  },
  {
   "cell_type": "code",
   "execution_count": null,
   "metadata": {},
   "outputs": [],
   "source": []
  },
  {
   "cell_type": "code",
   "execution_count": null,
   "metadata": {},
   "outputs": [],
   "source": [
    "###################################################\n",
    "############ PLOT MEANS AND VARIANCES #############\n",
    "###################################################\n",
    "# \n",
    "animal_id = 'IJ1'\n",
    "session_name = 'all'\n",
    "root_dir = '/media/cat/4TBSSD/yuki/'\n",
    "\n",
    "session_ids = [0,17,25,42]\n",
    "\n",
    "colors = plt.cm.viridis(np.linspace(0,1,len(session_ids)))\n",
    "\n",
    "random_flag = False\n",
    "################################################ \n",
    "fig=plt.figure(figsize=(10,10))\n",
    "for ctr,session_id in enumerate(session_ids):\n",
    "    print \n",
    "\n",
    "    loca = load_locaNMF_temporal(animal_id, \n",
    "                                  session_name, \n",
    "                                  root_dir,\n",
    "                                  session_id)\n",
    "\n",
    "    # if using random data\n",
    "    if random_flag:\n",
    "        loca.locaNMF_temporal = loca.locaNMF_temporal_random\n",
    "        \n",
    "    ###################################################\n",
    "    if atlas is not None:\n",
    "        #print (\"areas: \", areas)\n",
    "        #print (\"names: \", names)\n",
    "\n",
    "        area_sel = 'upper limb, layer 1 - left'\n",
    "        areas_selected = []\n",
    "        for k in range(len(names)):\n",
    "            #print (\"areas\", names[k])\n",
    "            if area_sel in loca.names[k]:\n",
    "                areas_selected.append(k)\n",
    "\n",
    "        areas_selected = np.array(areas_selected)\n",
    "        locaNMF_temporal = locaNMF_temporal[:,areas_selected]\n",
    "\n",
    "        ##########################################\n",
    "\n",
    "        ax=plt.subplot(2,1,1)\n",
    "        clr = colors[ctr]\n",
    "\n",
    "        plot_locanmf_temporal_averages(fig, \n",
    "                                       locaNMF_temporal,\n",
    "                                      clr)\n",
    "        plt.xlim(-15,0)\n",
    "\n",
    "\n",
    "        ####################################################\n",
    "        means, var = variance_locaNMF(locaNMF_temporal)\n",
    "        all_means_random.append(means)\n",
    "\n",
    "        saved_names = names\n",
    "        ax=plt.subplot(2,1,2)\n",
    "        plot_variance_locaNMF(fig, var,\n",
    "                             clr)\n",
    "        plt.xlim(-15,0)\n",
    "\n",
    "        #plt.show()\n",
    "\n",
    "if True:\n",
    "    plt.savefig('/home/cat/means_vars.svg')\n",
    "    plt.close()\n",
    "else:\n",
    "    plt.show()"
   ]
  },
  {
   "cell_type": "code",
   "execution_count": null,
   "metadata": {},
   "outputs": [],
   "source": []
  },
  {
   "cell_type": "code",
   "execution_count": null,
   "metadata": {},
   "outputs": [],
   "source": []
  },
  {
   "cell_type": "code",
   "execution_count": null,
   "metadata": {},
   "outputs": [],
   "source": []
  },
  {
   "cell_type": "code",
   "execution_count": null,
   "metadata": {},
   "outputs": [],
   "source": []
  },
  {
   "cell_type": "code",
   "execution_count": null,
   "metadata": {},
   "outputs": [],
   "source": []
  },
  {
   "cell_type": "code",
   "execution_count": null,
   "metadata": {},
   "outputs": [],
   "source": []
  },
  {
   "cell_type": "code",
   "execution_count": null,
   "metadata": {},
   "outputs": [],
   "source": []
  },
  {
   "cell_type": "code",
   "execution_count": null,
   "metadata": {},
   "outputs": [],
   "source": []
  },
  {
   "cell_type": "code",
   "execution_count": null,
   "metadata": {},
   "outputs": [],
   "source": []
  },
  {
   "cell_type": "code",
   "execution_count": null,
   "metadata": {},
   "outputs": [],
   "source": []
  },
  {
   "cell_type": "code",
   "execution_count": null,
   "metadata": {},
   "outputs": [],
   "source": []
  },
  {
   "cell_type": "code",
   "execution_count": 37,
   "metadata": {},
   "outputs": [
    {
     "name": "stdout",
     "output_type": "stream",
     "text": [
      "(34, 16, 1801)\n"
     ]
    }
   ],
   "source": [
    "\n",
    "data = np.load('/media/cat/4TBSSD/yuki/IA3/tif_files/IA3am_Mar15_30Hz/IA3am_Mar15_30Hz_locanmf.npz',\n",
    "              allow_pickle=True)\n",
    "\n",
    "A_reshape = data['A_reshape']\n",
    "temp = data['temporal_trial']\n",
    "names = data['areanames_area']\n",
    "\n",
    "print (temp.shape)\n",
    "mean = temp.mean(0)\n",
    "\n",
    "\n",
    "fig=plt.figure()\n",
    "for i in range(A_reshape.shape[2]):\n",
    "    plt.subplot(4,4,i+1)\n",
    "    plt.imshow(A_reshape[:,:,i])\n",
    "    plt.xticks([])\n",
    "    plt.yticks([])\n",
    "    plt.title(names[i],fontsize=6)\n",
    "plt.tight_layout(h_pad=0.5,w_pad=0.5)\n",
    "plt.show()\n",
    "\n",
    "\n"
   ]
  },
  {
   "cell_type": "code",
   "execution_count": 24,
   "metadata": {},
   "outputs": [
    {
     "name": "stdout",
     "output_type": "stream",
     "text": [
      "(11, 16, 1801)\n"
     ]
    }
   ],
   "source": [
    "\n",
    "for k in range(mean.shape[0]):\n",
    "    plt.plot(mean[k,:900]+k*.1)\n",
    "plt.show()"
   ]
  },
  {
   "cell_type": "code",
   "execution_count": null,
   "metadata": {},
   "outputs": [],
   "source": []
  },
  {
   "cell_type": "code",
   "execution_count": null,
   "metadata": {},
   "outputs": [],
   "source": []
  },
  {
   "cell_type": "code",
   "execution_count": null,
   "metadata": {},
   "outputs": [],
   "source": []
  },
  {
   "cell_type": "code",
   "execution_count": null,
   "metadata": {},
   "outputs": [],
   "source": []
  },
  {
   "cell_type": "code",
   "execution_count": null,
   "metadata": {},
   "outputs": [],
   "source": []
  }
 ],
 "metadata": {
  "kernelspec": {
   "display_name": "Python 3",
   "language": "python",
   "name": "python3"
  },
  "language_info": {
   "codemirror_mode": {
    "name": "ipython",
    "version": 3
   },
   "file_extension": ".py",
   "mimetype": "text/x-python",
   "name": "python",
   "nbconvert_exporter": "python",
   "pygments_lexer": "ipython3",
   "version": "3.8.0"
  }
 },
 "nbformat": 4,
 "nbformat_minor": 4
}
