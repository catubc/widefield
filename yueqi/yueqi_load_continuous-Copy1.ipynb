{
 "cells": [
  {
   "cell_type": "code",
   "execution_count": 46,
   "metadata": {},
   "outputs": [
    {
     "name": "stdout",
     "output_type": "stream",
     "text": [
      "The autoreload extension is already loaded. To reload it, use:\n",
      "  %reload_ext autoreload\n"
     ]
    },
    {
     "data": {
      "application/javascript": [
       "IPython.notebook.set_autosave_interval(180000)"
      ]
     },
     "metadata": {},
     "output_type": "display_data"
    },
    {
     "name": "stdout",
     "output_type": "stream",
     "text": [
      "Autosaving every 180 seconds\n"
     ]
    }
   ],
   "source": [
    "import matplotlib\n",
    "#matplotlib.use('Agg')\n",
    "\n",
    "%load_ext autoreload\n",
    "%autoreload 2\n",
    "\n",
    "%matplotlib tk\n",
    "%autosave 180\n",
    "\n",
    "# \n",
    "import numpy as np\n",
    "import matplotlib.pyplot as plt\n",
    "import os\n",
    "\n",
    "from utils.utils import *\n",
    "from tqdm import tqdm, trange\n"
   ]
  },
  {
   "cell_type": "code",
   "execution_count": 53,
   "metadata": {},
   "outputs": [
    {
     "name": "stderr",
     "output_type": "stream",
     "text": [
      "  2%|▏         | 1/51 [00:00<00:10,  4.71it/s]"
     ]
    },
    {
     "name": "stdout",
     "output_type": "stream",
     "text": [
      "Data segemnts before subtracgtin mean:  (61, 1800, 16)\n",
      "files missing\n"
     ]
    },
    {
     "name": "stderr",
     "output_type": "stream",
     "text": [
      "\r",
      "  6%|▌         | 3/51 [00:00<00:04,  9.68it/s]"
     ]
    },
    {
     "name": "stdout",
     "output_type": "stream",
     "text": [
      "Data segemnts before subtracgtin mean:  (26, 1800, 16)\n",
      "files missing\n",
      "Data segemnts before subtracgtin mean:  (49, 1800, 16)\n"
     ]
    },
    {
     "name": "stderr",
     "output_type": "stream",
     "text": [
      "\r",
      " 12%|█▏        | 6/51 [00:00<00:03, 12.35it/s]"
     ]
    },
    {
     "name": "stdout",
     "output_type": "stream",
     "text": [
      "Data segemnts before subtracgtin mean:  (46, 1800, 16)\n",
      "Data segemnts before subtracgtin mean:  (41, 1800, 16)\n"
     ]
    },
    {
     "name": "stderr",
     "output_type": "stream",
     "text": [
      " 18%|█▊        | 9/51 [00:01<00:05,  7.09it/s]"
     ]
    },
    {
     "name": "stdout",
     "output_type": "stream",
     "text": [
      "Data segemnts before subtracgtin mean:  (56, 1800, 16)\n",
      "Data segemnts before subtracgtin mean:  (132, 1800, 16)\n"
     ]
    },
    {
     "name": "stderr",
     "output_type": "stream",
     "text": [
      " 24%|██▎       | 12/51 [00:01<00:06,  5.78it/s]"
     ]
    },
    {
     "name": "stdout",
     "output_type": "stream",
     "text": [
      "Data segemnts before subtracgtin mean:  (21, 1800, 16)\n",
      "Data segemnts before subtracgtin mean:  (16, 1800, 16)\n"
     ]
    },
    {
     "name": "stderr",
     "output_type": "stream",
     "text": [
      "\r",
      " 25%|██▌       | 13/51 [00:01<00:06,  6.21it/s]"
     ]
    },
    {
     "name": "stdout",
     "output_type": "stream",
     "text": [
      "Data segemnts before subtracgtin mean:  (29, 1800, 16)\n",
      "Data segemnts before subtracgtin mean:  (114, 1800, 16)\n"
     ]
    },
    {
     "name": "stderr",
     "output_type": "stream",
     "text": [
      " 29%|██▉       | 15/51 [00:02<00:07,  4.97it/s]"
     ]
    },
    {
     "name": "stdout",
     "output_type": "stream",
     "text": [
      "Data segemnts before subtracgtin mean:  (21, 1800, 16)\n",
      "files missing\n",
      "Data segemnts before subtracgtin mean:  (12, 1800, 16)\n"
     ]
    },
    {
     "name": "stderr",
     "output_type": "stream",
     "text": [
      "\r",
      " 37%|███▋      | 19/51 [00:02<00:03,  8.26it/s]"
     ]
    },
    {
     "name": "stdout",
     "output_type": "stream",
     "text": [
      "Data segemnts before subtracgtin mean:  (44, 1800, 16)\n",
      "Data segemnts before subtracgtin mean:  (37, 1800, 16)\n"
     ]
    },
    {
     "name": "stderr",
     "output_type": "stream",
     "text": [
      " 41%|████      | 21/51 [00:03<00:03,  7.82it/s]"
     ]
    },
    {
     "name": "stdout",
     "output_type": "stream",
     "text": [
      "Data segemnts before subtracgtin mean:  (32, 1800, 16)\n",
      "Data segemnts before subtracgtin mean:  (42, 1800, 16)\n"
     ]
    },
    {
     "name": "stderr",
     "output_type": "stream",
     "text": [
      " 45%|████▌     | 23/51 [00:03<00:03,  7.05it/s]"
     ]
    },
    {
     "name": "stdout",
     "output_type": "stream",
     "text": [
      "Data segemnts before subtracgtin mean:  (44, 1800, 16)\n",
      "Data segemnts before subtracgtin mean:  (43, 1800, 16)\n"
     ]
    },
    {
     "name": "stderr",
     "output_type": "stream",
     "text": [
      " 49%|████▉     | 25/51 [00:03<00:04,  6.35it/s]"
     ]
    },
    {
     "name": "stdout",
     "output_type": "stream",
     "text": [
      "Data segemnts before subtracgtin mean:  (54, 1800, 16)\n"
     ]
    },
    {
     "name": "stderr",
     "output_type": "stream",
     "text": [
      "\r",
      " 51%|█████     | 26/51 [00:03<00:04,  5.88it/s]"
     ]
    },
    {
     "name": "stdout",
     "output_type": "stream",
     "text": [
      "Data segemnts before subtracgtin mean:  (42, 1800, 16)\n",
      "Data segemnts before subtracgtin mean:  (31, 1800, 16)\n"
     ]
    },
    {
     "name": "stderr",
     "output_type": "stream",
     "text": [
      " 55%|█████▍    | 28/51 [00:04<00:03,  5.83it/s]"
     ]
    },
    {
     "name": "stdout",
     "output_type": "stream",
     "text": [
      "Data segemnts before subtracgtin mean:  (44, 1800, 16)\n",
      "Data segemnts before subtracgtin mean:  (19, 1800, 16)\n"
     ]
    },
    {
     "name": "stderr",
     "output_type": "stream",
     "text": [
      " 59%|█████▉    | 30/51 [00:04<00:02,  7.04it/s]"
     ]
    },
    {
     "name": "stdout",
     "output_type": "stream",
     "text": [
      "Data segemnts before subtracgtin mean:  (18, 1800, 16)\n",
      "Data segemnts before subtracgtin mean:  (26, 1800, 16)\n"
     ]
    },
    {
     "name": "stderr",
     "output_type": "stream",
     "text": [
      " 65%|██████▍   | 33/51 [00:04<00:02,  8.40it/s]"
     ]
    },
    {
     "name": "stdout",
     "output_type": "stream",
     "text": [
      "Data segemnts before subtracgtin mean:  (47, 1800, 16)\n",
      "Data segemnts before subtracgtin mean:  (19, 1800, 16)\n"
     ]
    },
    {
     "name": "stderr",
     "output_type": "stream",
     "text": [
      " 69%|██████▊   | 35/51 [00:05<00:02,  6.60it/s]"
     ]
    },
    {
     "name": "stdout",
     "output_type": "stream",
     "text": [
      "Data segemnts before subtracgtin mean:  (16, 1800, 16)\n",
      "files missing\n",
      "Data segemnts before subtracgtin mean:  (37, 1800, 16)\n"
     ]
    },
    {
     "name": "stderr",
     "output_type": "stream",
     "text": [
      "\r",
      " 75%|███████▍  | 38/51 [00:05<00:01,  8.64it/s]"
     ]
    },
    {
     "name": "stdout",
     "output_type": "stream",
     "text": [
      "Data segemnts before subtracgtin mean:  (56, 1800, 16)\n"
     ]
    },
    {
     "name": "stderr",
     "output_type": "stream",
     "text": [
      "\r",
      " 78%|███████▊  | 40/51 [00:05<00:01,  8.57it/s]"
     ]
    },
    {
     "name": "stdout",
     "output_type": "stream",
     "text": [
      "Data segemnts before subtracgtin mean:  (82, 1800, 16)\n"
     ]
    },
    {
     "name": "stderr",
     "output_type": "stream",
     "text": [
      " 82%|████████▏ | 42/51 [00:06<00:01,  6.06it/s]"
     ]
    },
    {
     "name": "stdout",
     "output_type": "stream",
     "text": [
      "Data segemnts before subtracgtin mean:  (43, 1800, 16)\n",
      "Data segemnts before subtracgtin mean:  (73, 1800, 16)\n"
     ]
    },
    {
     "name": "stderr",
     "output_type": "stream",
     "text": [
      " 88%|████████▊ | 45/51 [00:06<00:00,  7.18it/s]"
     ]
    },
    {
     "name": "stdout",
     "output_type": "stream",
     "text": [
      "files missing\n",
      "Data segemnts before subtracgtin mean:  (27, 1800, 16)\n",
      "Data segemnts before subtracgtin mean:  (10, 1800, 16)\n"
     ]
    },
    {
     "name": "stderr",
     "output_type": "stream",
     "text": [
      "\r",
      " 92%|█████████▏| 47/51 [00:06<00:00,  7.66it/s]"
     ]
    },
    {
     "name": "stdout",
     "output_type": "stream",
     "text": [
      "Data segemnts before subtracgtin mean:  (38, 1800, 16)\n",
      "Data segemnts before subtracgtin mean:  (20, 1800, 16)\n"
     ]
    },
    {
     "name": "stderr",
     "output_type": "stream",
     "text": [
      "\r",
      " 96%|█████████▌| 49/51 [00:07<00:00,  7.74it/s]"
     ]
    },
    {
     "name": "stdout",
     "output_type": "stream",
     "text": [
      "Data segemnts before subtracgtin mean:  (27, 1800, 16)\n",
      "Data segemnts before subtracgtin mean:  (31, 1800, 16)\n"
     ]
    },
    {
     "name": "stderr",
     "output_type": "stream",
     "text": [
      "100%|██████████| 51/51 [00:07<00:00,  7.04it/s]\n"
     ]
    }
   ],
   "source": [
    "######################################################################\n",
    "######### GENERATE REWARDED (04) AND UNREWARDED (02) TIMES ###########\n",
    "######################################################################\n",
    "\n",
    "# this function is for making rewarded/unrewarded times and generating the final data+label .npz files\n",
    "root_dir = '/media/cat/4TBSSD/yuki/'\n",
    "animal_id = 'AQ2'\n",
    "\n",
    "animal_ids = ['IA1','IA2','IA3','IJ1','IJ2','AQ2']\n",
    "animal_ids = ['IJ1']\n",
    "for animal_id in animal_ids:\n",
    "    sessions = os.listdir(os.path.join(root_dir,\n",
    "                                      animal_id,\n",
    "                                      'tif_files'))\n",
    "\n",
    "    # \n",
    "    for session in tqdm(sessions):\n",
    "\n",
    "        # \n",
    "        res = get_04_02_triggers(os.path.join(root_dir,animal_id), session)\n",
    "\n",
    "        if res==False:\n",
    "            continue\n",
    "\n",
    "        ###########################################################################\n",
    "        ######## LOAD ROIs (or PCA) TIME SERIES AND MAKES TRAINING DATASETS #######\n",
    "        ###########################################################################\n",
    "        try: (data_segments, \n",
    "              data_segments_random,\n",
    "              data_continuous, \n",
    "              rewarded_pull_times, \n",
    "              nonrewarded_pull_times, \n",
    "              names) = load_rois_lever_pulls(root_dir, animal_id, session)\n",
    "        except:\n",
    "            pass #print (\"Whole stack missing, ...\")\n",
    "            continue\n",
    "\n",
    "        #\n",
    "        #print (\"Segmented data [n_trials, n_times, n_features/rois]: \", data_segments.shape)\n",
    "        #print (\"Continous data [n_times, n_features/rois]:           \", data_continuous.shape)\n",
    "\n",
    "        # \n",
    "        if False:\n",
    "            visualize_loaded_data(data_continuous, \n",
    "                                  data_segments,\n",
    "                                  rewarded_pull_times,\n",
    "                                  nonrewarded_pull_times,\n",
    "                                  names)\n",
    "            plt.show()\n",
    "\n",
    "            input(\"Press Enter to continue...\")\n",
    "        \n",
    "        ## OPTIONAL - list roi names\n",
    "        # print (names)\n",
    "\n",
    "        ######################################\n",
    "        ######### MAKE TRAINING DATA #########\n",
    "        ######################################\n",
    "\n",
    "        # \n",
    "        labels = np.zeros((data_continuous.shape[0], 2), 'int32').T\n",
    "\n",
    "        labels[0,rewarded_pull_times]=1\n",
    "        labels[1,nonrewarded_pull_times]=1\n",
    "\n",
    "        #\n",
    "\n",
    "        # save data\n",
    "        training_names = ['rewarded_lever_pulls','nonrewarded_lever_pulls']\n",
    "\n",
    "        # \n",
    "        fname_out = os.path.join(root_dir,\n",
    "                                 animal_id,\n",
    "                                 'tif_files',\n",
    "                                 session,\n",
    "                                 session+\"_rnn_training.npz\")\n",
    "\n",
    "        # \n",
    "        np.savez(fname_out,\n",
    "                data_continuous = data_continuous,\n",
    "                data_segments = data_segments,\n",
    "                data_segments_random = data_segments_random, \n",
    "                data_names = names,\n",
    "                training_labels = labels,\n",
    "                training_names = training_names)\n",
    "\n",
    "        #print (data_segments.shape)\n",
    "\n",
    "        #break"
   ]
  },
  {
   "cell_type": "code",
   "execution_count": null,
   "metadata": {
    "scrolled": true
   },
   "outputs": [],
   "source": [
    "########################################\n",
    "######### LOAD DATA AND LABELS #########\n",
    "########################################\n",
    "\n",
    "fname = '/home/cat/IA1am_Mar4_30Hz_rnn_training.npz'\n",
    "\n",
    "data = np.load(fname)\n",
    "data_continuous = data['data_continuous']\n",
    "data_segments = data['data_segments']\n",
    "data_names = data['data_names']\n",
    "training_labels = data['training_labels']\n",
    "training_names = data['training_names']\n",
    "\n",
    "print (\"Data continuous: \", data_continuous.shape)\n",
    "print (\"data names: \", data_names)\n",
    "print ('')\n",
    "print (\"training labels: \", training_labels.shape)\n",
    "print (\"training names: \", training_names)\n"
   ]
  },
  {
   "cell_type": "code",
   "execution_count": null,
   "metadata": {},
   "outputs": [],
   "source": []
  },
  {
   "cell_type": "code",
   "execution_count": null,
   "metadata": {},
   "outputs": [],
   "source": []
  },
  {
   "cell_type": "code",
   "execution_count": null,
   "metadata": {},
   "outputs": [],
   "source": []
  },
  {
   "cell_type": "code",
   "execution_count": null,
   "metadata": {},
   "outputs": [],
   "source": []
  },
  {
   "cell_type": "code",
   "execution_count": null,
   "metadata": {},
   "outputs": [],
   "source": []
  },
  {
   "cell_type": "code",
   "execution_count": null,
   "metadata": {},
   "outputs": [],
   "source": []
  },
  {
   "cell_type": "code",
   "execution_count": null,
   "metadata": {},
   "outputs": [],
   "source": []
  },
  {
   "cell_type": "code",
   "execution_count": null,
   "metadata": {},
   "outputs": [],
   "source": []
  },
  {
   "cell_type": "code",
   "execution_count": null,
   "metadata": {},
   "outputs": [],
   "source": []
  }
 ],
 "metadata": {
  "kernelspec": {
   "display_name": "Python 3",
   "language": "python",
   "name": "python3"
  },
  "language_info": {
   "codemirror_mode": {
    "name": "ipython",
    "version": 3
   },
   "file_extension": ".py",
   "mimetype": "text/x-python",
   "name": "python",
   "nbconvert_exporter": "python",
   "pygments_lexer": "ipython3",
   "version": "3.8.8"
  }
 },
 "nbformat": 4,
 "nbformat_minor": 5
}
