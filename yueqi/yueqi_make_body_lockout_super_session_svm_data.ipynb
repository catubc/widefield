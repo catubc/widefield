{
 "cells": [
  {
   "cell_type": "code",
   "execution_count": 2,
   "id": "fb8f04ce",
   "metadata": {},
   "outputs": [
    {
     "data": {
      "application/javascript": [
       "IPython.notebook.set_autosave_interval(180000)"
      ]
     },
     "metadata": {},
     "output_type": "display_data"
    },
    {
     "name": "stdout",
     "output_type": "stream",
     "text": [
      "Autosaving every 180 seconds\n"
     ]
    }
   ],
   "source": [
    "import matplotlib\n",
    "#matplotlib.use('Agg')\n",
    "\n",
    "%load_ext autoreload\n",
    "%autoreload 2\n",
    "\n",
    "%matplotlib tk\n",
    "%autosave 180\n",
    "\n",
    "# \n",
    "import numpy as np\n",
    "import matplotlib.pyplot as plt\n",
    "import os\n",
    "\n",
    "from utils.utils import *\n",
    "from tqdm import tqdm, trange\n"
   ]
  },
  {
   "cell_type": "code",
   "execution_count": 6,
   "id": "95e45acb",
   "metadata": {},
   "outputs": [
    {
     "name": "stdout",
     "output_type": "stream",
     "text": [
      "File already exists:  /media/cat/4TBSSD/yuki/IA2/super_sessions/alldata_body_and_nonreward_lockout_0secLockout_[5]bodyfeats.npz\n",
      "File already exists:  /media/cat/4TBSSD/yuki/IA2/super_sessions/alldata_body_and_nonreward_lockout_1secLockout_[5]bodyfeats.npz\n",
      "File already exists:  /media/cat/4TBSSD/yuki/IA2/super_sessions/alldata_body_and_nonreward_lockout_2secLockout_[5]bodyfeats.npz\n",
      "File already exists:  /media/cat/4TBSSD/yuki/IA2/super_sessions/alldata_body_and_nonreward_lockout_3secLockout_[5]bodyfeats.npz\n",
      "File already exists:  /media/cat/4TBSSD/yuki/IA2/super_sessions/alldata_body_and_nonreward_lockout_6secLockout_[5]bodyfeats.npz\n",
      "File already exists:  /media/cat/4TBSSD/yuki/IA2/super_sessions/alldata_body_and_nonreward_lockout_9secLockout_[5]bodyfeats.npz\n",
      "File already exists:  /media/cat/4TBSSD/yuki/IA2/super_sessions/alldata_body_and_nonreward_lockout_12secLockout_[5]bodyfeats.npz\n",
      "File already exists:  /media/cat/4TBSSD/yuki/IA2/super_sessions/alldata_body_and_nonreward_lockout_15secLockout_[5]bodyfeats.npz\n",
      "File already exists:  /media/cat/4TBSSD/yuki/IA2/super_sessions/alldata_body_and_nonreward_lockout_18secLockout_[5]bodyfeats.npz\n",
      "File already exists:  /media/cat/4TBSSD/yuki/IA2/super_sessions/alldata_body_and_nonreward_lockout_21secLockout_[5]bodyfeats.npz\n",
      "File already exists:  /media/cat/4TBSSD/yuki/IA2/super_sessions/alldata_body_and_nonreward_lockout_24secLockout_[5]bodyfeats.npz\n",
      "File already exists:  /media/cat/4TBSSD/yuki/IA2/super_sessions/alldata_body_and_nonreward_lockout_27secLockout_[5]bodyfeats.npz\n",
      "File already exists:  /media/cat/4TBSSD/yuki/IA2/super_sessions/alldata_body_and_nonreward_lockout_30secLockout_[5]bodyfeats.npz\n"
     ]
    }
   ],
   "source": [
    "######################################################################\n",
    "######### GENERATE REWARDED (04) AND UNREWARDED (02) TIMES ###########\n",
    "######################################################################\n",
    "\n",
    "# this function is for making rewarded/unrewarded times and generating the final data+label .npz files\n",
    "root_dir = '/media/cat/4TBSSD/yuki/'\n",
    "\n",
    "#\n",
    "animal_ids = ['IA1','IA2','IA3','IJ1','IJ2','AQ2']\n",
    "animal_ids = ['IA2']\n",
    "#\n",
    "n_sec_lockouts = [0,1,2,3,6,9,12,15,18,21,24,27,30]\n",
    "#n_sec_lockouts = [2]\n",
    "\n",
    "# 0 - left paw; 1 - right paw; 5 - tongue\n",
    "body_feats_lockouts = [[],[0],[1],[5],[0,1,5]]\n",
    "body_feats_lockouts = [[0,1,5]]\n",
    "body_feats_lockouts = [[5]]\n",
    "#selected_behaviors = [0,1,2,3,7]\n",
    "\n",
    "\n",
    "#\n",
    "generate_body_movement_lockout_data(n_sec_lockouts,\n",
    "                                    body_feats_lockouts,\n",
    "                                    animal_ids,\n",
    "                                    root_dir)"
   ]
  },
  {
   "cell_type": "code",
   "execution_count": 36,
   "id": "072d893c",
   "metadata": {},
   "outputs": [
    {
     "name": "stdout",
     "output_type": "stream",
     "text": [
      "(14, 1800, 16)\n"
     ]
    }
   ],
   "source": [
    "###############################\n",
    "######### TEST OUTPUT #########\n",
    "###############################\n",
    "\n",
    "fname = '/media/cat/4TBSSD/yuki/IA1/tif_files/IA1pm_Feb11_30Hz/IA1pm_Feb11_30Hz_body_and_nonreward_lockout_20secLockout_[]bodyfeats.npz'\n",
    "d = np.load(fname, allow_pickle=True)\n",
    "trials = d['trials']\n",
    "random = d['random']\n",
    "\n",
    "roi_id = 1\n",
    "print (trials.shape)\n",
    "\n",
    "mean = trials[:,:,roi_id].mean(0)\n",
    "plt.plot(mean,\n",
    "         c='black',\n",
    "         linewidth=3,\n",
    "         alpha=1)\n",
    "\n",
    "mean = random[:,:,roi_id].mean(0)\n",
    "plt.plot(mean,\n",
    "         c='blue',\n",
    "         linewidth=3,\n",
    "         alpha=1)\n",
    "\n",
    "plt.show()"
   ]
  },
  {
   "cell_type": "code",
   "execution_count": 68,
   "id": "2fc7ed54",
   "metadata": {},
   "outputs": [
    {
     "name": "stdout",
     "output_type": "stream",
     "text": [
      "(9,)\n",
      "['rewarded_lever_pulls' 'unrewarded_lever_pulls' 'left_paw' 'right_paw'\n",
      " 'nose' 'jaw' 'right_ear' 'tongue' 'lever_DLC']\n",
      "[ 2430  3798  4980  5230  8028  8685  9445  9933 10248 10570 11278 11751\n",
      " 12455 13304 14266 14746 15768 16534 17282 18079 18509 18829 19497 19883\n",
      " 20090 20578 22000 22349 23371 23721 23889 24091 24424 24942 25114 25664\n",
      " 30035 30889 32193 33042 33376 33950 34499 35239 35713 35925 36410 37101\n",
      " 37302 37789 38446] [  -63   -41     8 ... 40004 40006 40010]\n"
     ]
    }
   ],
   "source": [
    "###############################\n",
    "##### VISUALIZE PIE CHARTS ####\n",
    "###############################\n",
    "\n",
    "fname = '/media/cat/4TBSSD/yuki/IA1/tif_files/IA1pm_Feb9_30Hz/IA1pm_Feb9_30Hz_body_and_nonreward_lockout_0secLockout_[]bodyfeats.npz'\n",
    "d = np.load(fname, allow_pickle=True)\n",
    "trials = d['trials']\n",
    "random = d['random']\n",
    "behaviors = d['behaviors']\n",
    "names = d['names']\n",
    "\n",
    "print (behaviors.shape)\n",
    "print (names)\n",
    "print (behaviors[0], behaviors[3])\n",
    "\n",
    "selected_behaviors = [0,1,2,3,7]\n",
    "\n",
    "sizes = []\n",
    "for k in selected_behaviors:\n",
    "    sizes.append(behaviors[k].shape[0])\n",
    "\n",
    "# Pie chart, where the slices will be ordered and plotted counter-clockwise:\n",
    "labels = names[selected_behaviors]\n",
    "labels[-1]='licking'\n",
    "\n",
    "# \n",
    "fig1, ax1 = plt.subplots()\n",
    "patches, texts,_ = ax1.pie(sizes, \n",
    "                        #explode=explode, \n",
    "                        #labels=labels, \n",
    "                        autopct='%1.1f%%',\n",
    "                        #shadow=True, \n",
    "                        pctdistance=1.1,\n",
    "                        labeldistance=1.2,\n",
    "                        startangle=180\n",
    "                       )\n",
    "plt.legend(patches, labels, loc=\"best\")\n",
    "\n",
    "# Set aspect ratio to be equal so that pie is drawn as a circle.\n",
    "plt.axis('equal')\n",
    "plt.tight_layout()\n",
    "\n",
    "#ax1.axis('equal')  # Equal aspect ratio ensures that pie is drawn as a circle.\n",
    "\n",
    "plt.show()\n",
    "\n"
   ]
  },
  {
   "cell_type": "code",
   "execution_count": 42,
   "id": "7d6a2771",
   "metadata": {},
   "outputs": [
    {
     "name": "stdout",
     "output_type": "stream",
     "text": [
      "(900, 10)\n"
     ]
    }
   ],
   "source": [
    "data = np.load('/media/cat/4TBSSD/yuki/IA1/alldata_body_and_nonreward_lockout_0secLockout_[]bodyfeats_200_super_res.npz',\n",
    "              allow_pickle=True)\n",
    "\n",
    "acc = data['accuracy']\n",
    "print (acc.shape)\n",
    "\n",
    "t = np.arange(acc.shape[0])/30-29\n",
    "plt.plot(t,acc.mean(1))\n",
    "plt.plot([0,0],[0.4,1],'--',c='black')\n",
    "plt.plot([t[0],t[-1]],[0.5,0.5],'--',c='black')\n",
    "plt.show()\n",
    "\n",
    "\n",
    "\n",
    "\n"
   ]
  },
  {
   "cell_type": "code",
   "execution_count": null,
   "id": "fe05ac57",
   "metadata": {},
   "outputs": [],
   "source": []
  },
  {
   "cell_type": "code",
   "execution_count": null,
   "id": "3a5d40fd",
   "metadata": {},
   "outputs": [],
   "source": []
  },
  {
   "cell_type": "code",
   "execution_count": null,
   "id": "dcd3c36b",
   "metadata": {},
   "outputs": [],
   "source": []
  },
  {
   "cell_type": "code",
   "execution_count": null,
   "id": "537f9b71",
   "metadata": {},
   "outputs": [],
   "source": []
  },
  {
   "cell_type": "code",
   "execution_count": null,
   "id": "94d57fc4",
   "metadata": {},
   "outputs": [],
   "source": []
  }
 ],
 "metadata": {
  "kernelspec": {
   "display_name": "Python 3",
   "language": "python",
   "name": "python3"
  },
  "language_info": {
   "codemirror_mode": {
    "name": "ipython",
    "version": 3
   },
   "file_extension": ".py",
   "mimetype": "text/x-python",
   "name": "python",
   "nbconvert_exporter": "python",
   "pygments_lexer": "ipython3",
   "version": "3.8.0"
  }
 },
 "nbformat": 4,
 "nbformat_minor": 5
}
